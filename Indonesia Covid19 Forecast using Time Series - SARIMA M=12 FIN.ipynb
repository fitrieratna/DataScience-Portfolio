{
 "cells": [
  {
   "cell_type": "code",
   "execution_count": 151,
   "metadata": {},
   "outputs": [],
   "source": [
    "# Setup\n",
    "from datetime import datetime\n",
    "import matplotlib\n",
    "import matplotlib.pyplot as plt\n",
    "import numpy as np\n",
    "import pandas as pd\n",
    "import statsmodels.api as sm\n",
    "import seaborn as sns\n",
    "import sys, os\n",
    "#os.chdir('data')\n",
    "from colorsetup import colors, palette\n",
    "sns.set_palette(palette)\n",
    "import warnings\n",
    "warnings.simplefilter(action='ignore')\n",
    "import fbprophet\n",
    "import pmdarima as pm"
   ]
  },
  {
   "cell_type": "code",
   "execution_count": 152,
   "metadata": {},
   "outputs": [],
   "source": [
    "from statsmodels.tsa.statespace.sarimax import SARIMAX"
   ]
  },
  {
   "cell_type": "code",
   "execution_count": 156,
   "metadata": {},
   "outputs": [
    {
     "data": {
      "text/html": [
       "<div>\n",
       "<style scoped>\n",
       "    .dataframe tbody tr th:only-of-type {\n",
       "        vertical-align: middle;\n",
       "    }\n",
       "\n",
       "    .dataframe tbody tr th {\n",
       "        vertical-align: top;\n",
       "    }\n",
       "\n",
       "    .dataframe thead th {\n",
       "        text-align: right;\n",
       "    }\n",
       "</style>\n",
       "<table border=\"1\" class=\"dataframe\">\n",
       "  <thead>\n",
       "    <tr style=\"text-align: right;\">\n",
       "      <th></th>\n",
       "      <th>Unnamed: 0</th>\n",
       "      <th>Kasus harian</th>\n",
       "      <th>Kasus Impor</th>\n",
       "      <th>Kasus Lokal</th>\n",
       "      <th>Total kasus</th>\n",
       "      <th>Kasus aktif</th>\n",
       "      <th>% kasus aktif</th>\n",
       "      <th>Sembuh\\n(baru)</th>\n",
       "      <th>Sembuh</th>\n",
       "      <th>Tingkat kesembuhan (seluruh kasus)</th>\n",
       "      <th>...</th>\n",
       "      <th>Positif DKI</th>\n",
       "      <th>Unnamed: 76</th>\n",
       "      <th>Pos Rate DKI</th>\n",
       "      <th>Pos Rate DKI - 7 harian</th>\n",
       "      <th>NON DKI</th>\n",
       "      <th>Positif Non DKI</th>\n",
       "      <th>Unnamed: 81</th>\n",
       "      <th>Pos Rate Non DKI</th>\n",
       "      <th>Pos Rate Non DKI - 7 harian</th>\n",
       "      <th>CFR</th>\n",
       "    </tr>\n",
       "  </thead>\n",
       "  <tbody>\n",
       "    <tr>\n",
       "      <th>0</th>\n",
       "      <td>3/2/2020</td>\n",
       "      <td>2</td>\n",
       "      <td>0.0</td>\n",
       "      <td>2.0</td>\n",
       "      <td>2</td>\n",
       "      <td>2</td>\n",
       "      <td>100.00%</td>\n",
       "      <td>0</td>\n",
       "      <td>0</td>\n",
       "      <td>0.00%</td>\n",
       "      <td>...</td>\n",
       "      <td>NaN</td>\n",
       "      <td>NaN</td>\n",
       "      <td>NaN</td>\n",
       "      <td>NaN</td>\n",
       "      <td>NaN</td>\n",
       "      <td>NaN</td>\n",
       "      <td>NaN</td>\n",
       "      <td>NaN</td>\n",
       "      <td>NaN</td>\n",
       "      <td>NaN</td>\n",
       "    </tr>\n",
       "    <tr>\n",
       "      <th>1</th>\n",
       "      <td>3/3/2020</td>\n",
       "      <td>0</td>\n",
       "      <td>0.0</td>\n",
       "      <td>0.0</td>\n",
       "      <td>2</td>\n",
       "      <td>2</td>\n",
       "      <td>100.00%</td>\n",
       "      <td>0</td>\n",
       "      <td>0</td>\n",
       "      <td>0.00%</td>\n",
       "      <td>...</td>\n",
       "      <td>NaN</td>\n",
       "      <td>NaN</td>\n",
       "      <td>NaN</td>\n",
       "      <td>NaN</td>\n",
       "      <td>NaN</td>\n",
       "      <td>NaN</td>\n",
       "      <td>NaN</td>\n",
       "      <td>NaN</td>\n",
       "      <td>NaN</td>\n",
       "      <td>NaN</td>\n",
       "    </tr>\n",
       "    <tr>\n",
       "      <th>2</th>\n",
       "      <td>3/4/2020</td>\n",
       "      <td>0</td>\n",
       "      <td>0.0</td>\n",
       "      <td>0.0</td>\n",
       "      <td>2</td>\n",
       "      <td>2</td>\n",
       "      <td>100.00%</td>\n",
       "      <td>0</td>\n",
       "      <td>0</td>\n",
       "      <td>0.00%</td>\n",
       "      <td>...</td>\n",
       "      <td>NaN</td>\n",
       "      <td>NaN</td>\n",
       "      <td>NaN</td>\n",
       "      <td>NaN</td>\n",
       "      <td>NaN</td>\n",
       "      <td>NaN</td>\n",
       "      <td>NaN</td>\n",
       "      <td>NaN</td>\n",
       "      <td>NaN</td>\n",
       "      <td>NaN</td>\n",
       "    </tr>\n",
       "    <tr>\n",
       "      <th>3</th>\n",
       "      <td>3/5/2020</td>\n",
       "      <td>0</td>\n",
       "      <td>0.0</td>\n",
       "      <td>0.0</td>\n",
       "      <td>2</td>\n",
       "      <td>2</td>\n",
       "      <td>100.00%</td>\n",
       "      <td>0</td>\n",
       "      <td>0</td>\n",
       "      <td>0.00%</td>\n",
       "      <td>...</td>\n",
       "      <td>NaN</td>\n",
       "      <td>NaN</td>\n",
       "      <td>NaN</td>\n",
       "      <td>NaN</td>\n",
       "      <td>NaN</td>\n",
       "      <td>NaN</td>\n",
       "      <td>NaN</td>\n",
       "      <td>NaN</td>\n",
       "      <td>NaN</td>\n",
       "      <td>NaN</td>\n",
       "    </tr>\n",
       "    <tr>\n",
       "      <th>4</th>\n",
       "      <td>3/6/2020</td>\n",
       "      <td>2</td>\n",
       "      <td>0.0</td>\n",
       "      <td>2.0</td>\n",
       "      <td>4</td>\n",
       "      <td>4</td>\n",
       "      <td>100.00%</td>\n",
       "      <td>0</td>\n",
       "      <td>0</td>\n",
       "      <td>0.00%</td>\n",
       "      <td>...</td>\n",
       "      <td>NaN</td>\n",
       "      <td>NaN</td>\n",
       "      <td>NaN</td>\n",
       "      <td>NaN</td>\n",
       "      <td>NaN</td>\n",
       "      <td>NaN</td>\n",
       "      <td>NaN</td>\n",
       "      <td>NaN</td>\n",
       "      <td>NaN</td>\n",
       "      <td>NaN</td>\n",
       "    </tr>\n",
       "  </tbody>\n",
       "</table>\n",
       "<p>5 rows × 85 columns</p>\n",
       "</div>"
      ],
      "text/plain": [
       "  Unnamed: 0 Kasus harian  Kasus Impor  Kasus Lokal Total kasus Kasus aktif  \\\n",
       "0   3/2/2020            2          0.0          2.0           2           2   \n",
       "1   3/3/2020            0          0.0          0.0           2           2   \n",
       "2   3/4/2020            0          0.0          0.0           2           2   \n",
       "3   3/5/2020            0          0.0          0.0           2           2   \n",
       "4   3/6/2020            2          0.0          2.0           4           4   \n",
       "\n",
       "  % kasus aktif Sembuh\\n(baru) Sembuh Tingkat kesembuhan (seluruh kasus)  ...  \\\n",
       "0       100.00%              0      0                              0.00%  ...   \n",
       "1       100.00%              0      0                              0.00%  ...   \n",
       "2       100.00%              0      0                              0.00%  ...   \n",
       "3       100.00%              0      0                              0.00%  ...   \n",
       "4       100.00%              0      0                              0.00%  ...   \n",
       "\n",
       "  Positif DKI Unnamed: 76 Pos Rate DKI Pos Rate DKI - 7 harian NON DKI  \\\n",
       "0         NaN         NaN          NaN                     NaN     NaN   \n",
       "1         NaN         NaN          NaN                     NaN     NaN   \n",
       "2         NaN         NaN          NaN                     NaN     NaN   \n",
       "3         NaN         NaN          NaN                     NaN     NaN   \n",
       "4         NaN         NaN          NaN                     NaN     NaN   \n",
       "\n",
       "  Positif Non DKI Unnamed: 81 Pos Rate Non DKI Pos Rate Non DKI - 7 harian  \\\n",
       "0             NaN         NaN              NaN                         NaN   \n",
       "1             NaN         NaN              NaN                         NaN   \n",
       "2             NaN         NaN              NaN                         NaN   \n",
       "3             NaN         NaN              NaN                         NaN   \n",
       "4             NaN         NaN              NaN                         NaN   \n",
       "\n",
       "   CFR  \n",
       "0  NaN  \n",
       "1  NaN  \n",
       "2  NaN  \n",
       "3  NaN  \n",
       "4  NaN  \n",
       "\n",
       "[5 rows x 85 columns]"
      ]
     },
     "execution_count": 156,
     "metadata": {},
     "output_type": "execute_result"
    }
   ],
   "source": [
    "covid = pd.read_csv('./COVID-19 di Indonesia @kawalcovid19 - Statistik Harian.csv')\n",
    "covid.head()"
   ]
  },
  {
   "cell_type": "code",
   "execution_count": 157,
   "metadata": {},
   "outputs": [
    {
     "data": {
      "text/plain": [
       "Index(['Unnamed: 0', 'Kasus harian', 'Kasus Impor', 'Kasus Lokal',\n",
       "       'Total kasus', 'Kasus aktif', '% kasus aktif', 'Sembuh\\n(baru)',\n",
       "       'Sembuh', 'Tingkat kesembuhan (seluruh kasus)',\n",
       "       'Tingkat kesembuhan (closed cases)', 'Meninggal\\n(baru)',\n",
       "       'Meninggal\\nDunia', 'Tingkat kematian (seluruh kasus)',\n",
       "       'Tingkat kematian (closed cases)', 'PDP', 'ODP', 'Suspek aktif',\n",
       "       'Jumlah spesimen diperiksa (dari 1 April)', 'Jumlah orang diperiksa',\n",
       "       'Negatif', 'Positif \\n(=C)', 'Dalam Proses', 'Spesimen',\n",
       "       'Spesimen (PCR-TCM)', 'Spesimen (Antigen)', 'Orang yang dites',\n",
       "       'Orang yang dites (PCR-TCM)', 'Orang yang dites (Antigen)',\n",
       "       'Vaksinasi (ineligible)', 'Jumlah test/juta penduduk', 'Test/Positif',\n",
       "       'Jumlah org yg dites / positif', 'Jumlah Test/Positif harian',\n",
       "       'Positif / Jumlah Tes', 'Positive rate harian', 'Case Growth Rate',\n",
       "       'Tingkat positivitas mingguan',\n",
       "       'Jumlah spesimen diperiksa (rata-rata 7 hari)',\n",
       "       'Jumlah orang diperiksa (rata-rata 7 hari)',\n",
       "       'Rasio spesimen/orang diperiksa (rata-rata 7 hari)', 'Unnamed: 41',\n",
       "       'Dosis pertama', 'Dosis kedua', 'Dosis ketiga', 'Dosis pertama (%)',\n",
       "       'Dosis kedua (%)', 'Dosis pertama (harian)', 'Dosis kedua (harian)',\n",
       "       'Dosis harian', 'Dosis pertama (mingguan)', 'Dosis kedua (mingguan)',\n",
       "       'Rata2 dosis harian (mingguan)', 'Dosis pertama (SDM kesehatan)',\n",
       "       'Dosis kedua (SDM kesehatan)', 'Dosis ketiga (SDM kesehatan)',\n",
       "       'Dosis pertama (SDM kesehatan) %', 'Dosis kedua (SDM kesehatan) %',\n",
       "       'Dosis pertama (petugas publik)', 'Dosis kedua (petugas publik)',\n",
       "       'Dosis pertama (petugas publik) %', 'Dosis kedua (petugas publik) %',\n",
       "       'Dosis pertama (lansia)', 'Dosis kedua (lansia)',\n",
       "       'Dosis pertama (lansia) %', 'Dosis kedua (lansia) %',\n",
       "       'Dosis pertama (warga umum)', 'Dosis kedua (warga umum)',\n",
       "       'Dosis pertama (remaja)', 'Dosis kedua (remaja)',\n",
       "       'Dosis pertama (Vakgor)', 'Dosis kedua (Vakgor)',\n",
       "       'Test PCR Orang Nasional Rata-rata 7 hari',\n",
       "       'Pos Rate Nasional - rata-rata 7 hari', 'Test Orang DKI', 'Positif DKI',\n",
       "       'Unnamed: 76', 'Pos Rate DKI', 'Pos Rate DKI - 7 harian', 'NON DKI',\n",
       "       'Positif Non DKI', 'Unnamed: 81', 'Pos Rate Non DKI',\n",
       "       'Pos Rate Non DKI - 7 harian', 'CFR'],\n",
       "      dtype='object')"
      ]
     },
     "execution_count": 157,
     "metadata": {},
     "output_type": "execute_result"
    }
   ],
   "source": [
    "covid.columns\n"
   ]
  },
  {
   "cell_type": "code",
   "execution_count": 158,
   "metadata": {},
   "outputs": [
    {
     "name": "stdout",
     "output_type": "stream",
     "text": [
      "<class 'pandas.core.frame.DataFrame'>\n",
      "RangeIndex: 602 entries, 0 to 601\n",
      "Data columns (total 85 columns):\n",
      " #   Column                                             Non-Null Count  Dtype  \n",
      "---  ------                                             --------------  -----  \n",
      " 0   Unnamed: 0                                         583 non-null    object \n",
      " 1   Kasus harian                                       582 non-null    object \n",
      " 2   Kasus Impor                                        10 non-null     float64\n",
      " 3   Kasus Lokal                                        10 non-null     float64\n",
      " 4   Total kasus                                        582 non-null    object \n",
      " 5   Kasus aktif                                        582 non-null    object \n",
      " 6   % kasus aktif                                      582 non-null    object \n",
      " 7   Sembuh\n",
      "(baru)                                      582 non-null    object \n",
      " 8   Sembuh                                             582 non-null    object \n",
      " 9   Tingkat kesembuhan (seluruh kasus)                 582 non-null    object \n",
      " 10  Tingkat kesembuhan (closed cases)                  574 non-null    object \n",
      " 11  Meninggal\n",
      "(baru)                                   582 non-null    object \n",
      " 12  Meninggal\n",
      "Dunia                                    582 non-null    object \n",
      " 13  Tingkat kematian (seluruh kasus)                   582 non-null    object \n",
      " 14  Tingkat kematian (closed cases)                    573 non-null    object \n",
      " 15  PDP                                                91 non-null     object \n",
      " 16  ODP                                                91 non-null     object \n",
      " 17  Suspek aktif                                       506 non-null    object \n",
      " 18  Jumlah spesimen diperiksa (dari 1 April)           582 non-null    object \n",
      " 19  Jumlah orang diperiksa                             582 non-null    object \n",
      " 20  Negatif                                            582 non-null    object \n",
      " 21  Positif \n",
      "(=C)                                      186 non-null    object \n",
      " 22  Dalam Proses                                       171 non-null    float64\n",
      " 23  Spesimen                                           538 non-null    object \n",
      " 24  Spesimen (PCR-TCM)                                 209 non-null    object \n",
      " 25  Spesimen (Antigen)                                 209 non-null    object \n",
      " 26  Orang yang dites                                   580 non-null    object \n",
      " 27  Orang yang dites (PCR-TCM)                         211 non-null    object \n",
      " 28  Orang yang dites (Antigen)                         211 non-null    object \n",
      " 29  Vaksinasi (ineligible)                             3 non-null      object \n",
      " 30  Jumlah test/juta penduduk                          572 non-null    object \n",
      " 31  Test/Positif                                       582 non-null    float64\n",
      " 32  Jumlah org yg dites / positif                      582 non-null    float64\n",
      " 33  Jumlah Test/Positif harian                         582 non-null    object \n",
      " 34  Positif / Jumlah Tes                               582 non-null    object \n",
      " 35  Positive rate harian                               580 non-null    object \n",
      " 36  Case Growth Rate                                   581 non-null    object \n",
      " 37  Tingkat positivitas mingguan                       572 non-null    object \n",
      " 38  Jumlah spesimen diperiksa (rata-rata 7 hari)       532 non-null    object \n",
      " 39  Jumlah orang diperiksa (rata-rata 7 hari)          532 non-null    object \n",
      " 40  Rasio spesimen/orang diperiksa (rata-rata 7 hari)  532 non-null    float64\n",
      " 41  Unnamed: 41                                        162 non-null    float64\n",
      " 42  Dosis pertama                                      266 non-null    object \n",
      " 43  Dosis kedua                                        252 non-null    object \n",
      " 44  Dosis ketiga                                       49 non-null     object \n",
      " 45  Dosis pertama (%)                                  266 non-null    object \n",
      " 46  Dosis kedua (%)                                    252 non-null    object \n",
      " 47  Dosis pertama (harian)                             266 non-null    object \n",
      " 48  Dosis kedua (harian)                               252 non-null    object \n",
      " 49  Dosis harian                                       266 non-null    object \n",
      " 50  Dosis pertama (mingguan)                           260 non-null    object \n",
      " 51  Dosis kedua (mingguan)                             246 non-null    object \n",
      " 52  Rata2 dosis harian (mingguan)                      260 non-null    object \n",
      " 53  Dosis pertama (SDM kesehatan)                      218 non-null    object \n",
      " 54  Dosis kedua (SDM kesehatan)                        218 non-null    object \n",
      " 55  Dosis ketiga (SDM kesehatan)                       49 non-null     object \n",
      " 56  Dosis pertama (SDM kesehatan) %                    211 non-null    object \n",
      " 57  Dosis kedua (SDM kesehatan) %                      211 non-null    object \n",
      " 58  Dosis pertama (petugas publik)                     218 non-null    object \n",
      " 59  Dosis kedua (petugas publik)                       218 non-null    object \n",
      " 60  Dosis pertama (petugas publik) %                   211 non-null    object \n",
      " 61  Dosis kedua (petugas publik) %                     211 non-null    object \n",
      " 62  Dosis pertama (lansia)                             218 non-null    object \n",
      " 63  Dosis kedua (lansia)                               218 non-null    object \n",
      " 64  Dosis pertama (lansia) %                           211 non-null    object \n",
      " 65  Dosis kedua (lansia) %                             211 non-null    object \n",
      " 66  Dosis pertama (warga umum)                         86 non-null     object \n",
      " 67  Dosis kedua (warga umum)                           86 non-null     object \n",
      " 68  Dosis pertama (remaja)                             86 non-null     object \n",
      " 69  Dosis kedua (remaja)                               86 non-null     object \n",
      " 70  Dosis pertama (Vakgor)                             46 non-null     object \n",
      " 71  Dosis kedua (Vakgor)                               46 non-null     object \n",
      " 72  Test PCR Orang Nasional Rata-rata 7 hari           149 non-null    float64\n",
      " 73  Pos Rate Nasional - rata-rata 7 hari               149 non-null    object \n",
      " 74  Test Orang DKI                                     141 non-null    float64\n",
      " 75  Positif DKI                                        141 non-null    float64\n",
      " 76  Unnamed: 76                                        141 non-null    object \n",
      " 77  Pos Rate DKI                                       141 non-null    object \n",
      " 78  Pos Rate DKI - 7 harian                            141 non-null    object \n",
      " 79  NON DKI                                            141 non-null    object \n",
      " 80  Positif Non DKI                                    141 non-null    object \n",
      " 81  Unnamed: 81                                        141 non-null    object \n",
      " 82  Pos Rate Non DKI                                   141 non-null    object \n",
      " 83  Pos Rate Non DKI - 7 harian                        141 non-null    object \n",
      " 84  CFR                                                361 non-null    object \n",
      "dtypes: float64(10), object(75)\n",
      "memory usage: 399.9+ KB\n"
     ]
    }
   ],
   "source": [
    "covid.info()"
   ]
  },
  {
   "cell_type": "code",
   "execution_count": 159,
   "metadata": {},
   "outputs": [],
   "source": [
    "columns_ = ['Kasus aktif']\n",
    "df=covid[columns_]\n",
    "df.dropna(inplace=True)"
   ]
  },
  {
   "cell_type": "code",
   "execution_count": 160,
   "metadata": {},
   "outputs": [
    {
     "data": {
      "text/html": [
       "<div>\n",
       "<style scoped>\n",
       "    .dataframe tbody tr th:only-of-type {\n",
       "        vertical-align: middle;\n",
       "    }\n",
       "\n",
       "    .dataframe tbody tr th {\n",
       "        vertical-align: top;\n",
       "    }\n",
       "\n",
       "    .dataframe thead th {\n",
       "        text-align: right;\n",
       "    }\n",
       "</style>\n",
       "<table border=\"1\" class=\"dataframe\">\n",
       "  <thead>\n",
       "    <tr style=\"text-align: right;\">\n",
       "      <th></th>\n",
       "      <th>Kasus aktif</th>\n",
       "    </tr>\n",
       "  </thead>\n",
       "  <tbody>\n",
       "    <tr>\n",
       "      <th>0</th>\n",
       "      <td>2</td>\n",
       "    </tr>\n",
       "    <tr>\n",
       "      <th>1</th>\n",
       "      <td>2</td>\n",
       "    </tr>\n",
       "    <tr>\n",
       "      <th>2</th>\n",
       "      <td>2</td>\n",
       "    </tr>\n",
       "    <tr>\n",
       "      <th>3</th>\n",
       "      <td>2</td>\n",
       "    </tr>\n",
       "    <tr>\n",
       "      <th>4</th>\n",
       "      <td>4</td>\n",
       "    </tr>\n",
       "    <tr>\n",
       "      <th>...</th>\n",
       "      <td>...</td>\n",
       "    </tr>\n",
       "    <tr>\n",
       "      <th>577</th>\n",
       "      <td>34,867</td>\n",
       "    </tr>\n",
       "    <tr>\n",
       "      <th>578</th>\n",
       "      <td>33,812</td>\n",
       "    </tr>\n",
       "    <tr>\n",
       "      <th>579</th>\n",
       "      <td>32,876</td>\n",
       "    </tr>\n",
       "    <tr>\n",
       "      <th>580</th>\n",
       "      <td>31,054</td>\n",
       "    </tr>\n",
       "    <tr>\n",
       "      <th>581</th>\n",
       "      <td>29,823</td>\n",
       "    </tr>\n",
       "  </tbody>\n",
       "</table>\n",
       "<p>582 rows × 1 columns</p>\n",
       "</div>"
      ],
      "text/plain": [
       "    Kasus aktif\n",
       "0             2\n",
       "1             2\n",
       "2             2\n",
       "3             2\n",
       "4             4\n",
       "..          ...\n",
       "577      34,867\n",
       "578      33,812\n",
       "579      32,876\n",
       "580      31,054\n",
       "581      29,823\n",
       "\n",
       "[582 rows x 1 columns]"
      ]
     },
     "execution_count": 160,
     "metadata": {},
     "output_type": "execute_result"
    }
   ],
   "source": [
    "df"
   ]
  },
  {
   "cell_type": "markdown",
   "metadata": {},
   "source": [
    "## Data Wrangling"
   ]
  },
  {
   "cell_type": "code",
   "execution_count": 228,
   "metadata": {},
   "outputs": [
    {
     "data": {
      "text/html": [
       "<div>\n",
       "<style scoped>\n",
       "    .dataframe tbody tr th:only-of-type {\n",
       "        vertical-align: middle;\n",
       "    }\n",
       "\n",
       "    .dataframe tbody tr th {\n",
       "        vertical-align: top;\n",
       "    }\n",
       "\n",
       "    .dataframe thead th {\n",
       "        text-align: right;\n",
       "    }\n",
       "</style>\n",
       "<table border=\"1\" class=\"dataframe\">\n",
       "  <thead>\n",
       "    <tr style=\"text-align: right;\">\n",
       "      <th></th>\n",
       "      <th>Kasus aktif</th>\n",
       "    </tr>\n",
       "  </thead>\n",
       "  <tbody>\n",
       "    <tr>\n",
       "      <th>2020-03-03</th>\n",
       "      <td>2</td>\n",
       "    </tr>\n",
       "    <tr>\n",
       "      <th>2020-03-04</th>\n",
       "      <td>2</td>\n",
       "    </tr>\n",
       "    <tr>\n",
       "      <th>2020-03-05</th>\n",
       "      <td>2</td>\n",
       "    </tr>\n",
       "    <tr>\n",
       "      <th>2020-03-06</th>\n",
       "      <td>2</td>\n",
       "    </tr>\n",
       "    <tr>\n",
       "      <th>2020-03-07</th>\n",
       "      <td>4</td>\n",
       "    </tr>\n",
       "    <tr>\n",
       "      <th>...</th>\n",
       "      <td>...</td>\n",
       "    </tr>\n",
       "    <tr>\n",
       "      <th>2021-10-01</th>\n",
       "      <td>34,867</td>\n",
       "    </tr>\n",
       "    <tr>\n",
       "      <th>2021-10-02</th>\n",
       "      <td>33,812</td>\n",
       "    </tr>\n",
       "    <tr>\n",
       "      <th>2021-10-03</th>\n",
       "      <td>32,876</td>\n",
       "    </tr>\n",
       "    <tr>\n",
       "      <th>2021-10-04</th>\n",
       "      <td>31,054</td>\n",
       "    </tr>\n",
       "    <tr>\n",
       "      <th>2021-10-05</th>\n",
       "      <td>29,823</td>\n",
       "    </tr>\n",
       "  </tbody>\n",
       "</table>\n",
       "<p>582 rows × 1 columns</p>\n",
       "</div>"
      ],
      "text/plain": [
       "           Kasus aktif\n",
       "2020-03-03           2\n",
       "2020-03-04           2\n",
       "2020-03-05           2\n",
       "2020-03-06           2\n",
       "2020-03-07           4\n",
       "...                ...\n",
       "2021-10-01      34,867\n",
       "2021-10-02      33,812\n",
       "2021-10-03      32,876\n",
       "2021-10-04      31,054\n",
       "2021-10-05      29,823\n",
       "\n",
       "[582 rows x 1 columns]"
      ]
     },
     "execution_count": 228,
     "metadata": {},
     "output_type": "execute_result"
    }
   ],
   "source": [
    "index = pd.date_range('3/3/2020', periods=582, freq='D') #create new index with assigning timedate on it\n",
    "df.index = index\n",
    "df"
   ]
  },
  {
   "cell_type": "code",
   "execution_count": 229,
   "metadata": {},
   "outputs": [],
   "source": [
    "#df['Date'] = df.index"
   ]
  },
  {
   "cell_type": "code",
   "execution_count": 230,
   "metadata": {},
   "outputs": [
    {
     "data": {
      "text/html": [
       "<div>\n",
       "<style scoped>\n",
       "    .dataframe tbody tr th:only-of-type {\n",
       "        vertical-align: middle;\n",
       "    }\n",
       "\n",
       "    .dataframe tbody tr th {\n",
       "        vertical-align: top;\n",
       "    }\n",
       "\n",
       "    .dataframe thead th {\n",
       "        text-align: right;\n",
       "    }\n",
       "</style>\n",
       "<table border=\"1\" class=\"dataframe\">\n",
       "  <thead>\n",
       "    <tr style=\"text-align: right;\">\n",
       "      <th></th>\n",
       "      <th>Kasus aktif</th>\n",
       "    </tr>\n",
       "  </thead>\n",
       "  <tbody>\n",
       "    <tr>\n",
       "      <th>2020-03-12</th>\n",
       "      <td>27</td>\n",
       "    </tr>\n",
       "    <tr>\n",
       "      <th>2020-03-13</th>\n",
       "      <td>60</td>\n",
       "    </tr>\n",
       "    <tr>\n",
       "      <th>2020-03-14</th>\n",
       "      <td>83</td>\n",
       "    </tr>\n",
       "    <tr>\n",
       "      <th>2020-03-15</th>\n",
       "      <td>104</td>\n",
       "    </tr>\n",
       "    <tr>\n",
       "      <th>2020-03-16</th>\n",
       "      <td>121</td>\n",
       "    </tr>\n",
       "    <tr>\n",
       "      <th>...</th>\n",
       "      <td>...</td>\n",
       "    </tr>\n",
       "    <tr>\n",
       "      <th>2021-10-01</th>\n",
       "      <td>34,867</td>\n",
       "    </tr>\n",
       "    <tr>\n",
       "      <th>2021-10-02</th>\n",
       "      <td>33,812</td>\n",
       "    </tr>\n",
       "    <tr>\n",
       "      <th>2021-10-03</th>\n",
       "      <td>32,876</td>\n",
       "    </tr>\n",
       "    <tr>\n",
       "      <th>2021-10-04</th>\n",
       "      <td>31,054</td>\n",
       "    </tr>\n",
       "    <tr>\n",
       "      <th>2021-10-05</th>\n",
       "      <td>29,823</td>\n",
       "    </tr>\n",
       "  </tbody>\n",
       "</table>\n",
       "<p>573 rows × 1 columns</p>\n",
       "</div>"
      ],
      "text/plain": [
       "           Kasus aktif\n",
       "2020-03-12          27\n",
       "2020-03-13          60\n",
       "2020-03-14          83\n",
       "2020-03-15         104\n",
       "2020-03-16         121\n",
       "...                ...\n",
       "2021-10-01      34,867\n",
       "2021-10-02      33,812\n",
       "2021-10-03      32,876\n",
       "2021-10-04      31,054\n",
       "2021-10-05      29,823\n",
       "\n",
       "[573 rows x 1 columns]"
      ]
     },
     "execution_count": 230,
     "metadata": {},
     "output_type": "execute_result"
    }
   ],
   "source": [
    "a = df[df.index>='3/12/2020'] #drop the early date as there are missing data\n",
    "a"
   ]
  },
  {
   "cell_type": "code",
   "execution_count": 231,
   "metadata": {},
   "outputs": [
    {
     "data": {
      "text/html": [
       "<div>\n",
       "<style scoped>\n",
       "    .dataframe tbody tr th:only-of-type {\n",
       "        vertical-align: middle;\n",
       "    }\n",
       "\n",
       "    .dataframe tbody tr th {\n",
       "        vertical-align: top;\n",
       "    }\n",
       "\n",
       "    .dataframe thead th {\n",
       "        text-align: right;\n",
       "    }\n",
       "</style>\n",
       "<table border=\"1\" class=\"dataframe\">\n",
       "  <thead>\n",
       "    <tr style=\"text-align: right;\">\n",
       "      <th></th>\n",
       "      <th>Kasus aktif</th>\n",
       "    </tr>\n",
       "  </thead>\n",
       "  <tbody>\n",
       "    <tr>\n",
       "      <th>2020-03-12</th>\n",
       "      <td>27</td>\n",
       "    </tr>\n",
       "    <tr>\n",
       "      <th>2020-03-13</th>\n",
       "      <td>60</td>\n",
       "    </tr>\n",
       "    <tr>\n",
       "      <th>2020-03-14</th>\n",
       "      <td>83</td>\n",
       "    </tr>\n",
       "    <tr>\n",
       "      <th>2020-03-15</th>\n",
       "      <td>104</td>\n",
       "    </tr>\n",
       "    <tr>\n",
       "      <th>2020-03-16</th>\n",
       "      <td>121</td>\n",
       "    </tr>\n",
       "    <tr>\n",
       "      <th>...</th>\n",
       "      <td>...</td>\n",
       "    </tr>\n",
       "    <tr>\n",
       "      <th>2021-10-01</th>\n",
       "      <td>34,867</td>\n",
       "    </tr>\n",
       "    <tr>\n",
       "      <th>2021-10-02</th>\n",
       "      <td>33,812</td>\n",
       "    </tr>\n",
       "    <tr>\n",
       "      <th>2021-10-03</th>\n",
       "      <td>32,876</td>\n",
       "    </tr>\n",
       "    <tr>\n",
       "      <th>2021-10-04</th>\n",
       "      <td>31,054</td>\n",
       "    </tr>\n",
       "    <tr>\n",
       "      <th>2021-10-05</th>\n",
       "      <td>29,823</td>\n",
       "    </tr>\n",
       "  </tbody>\n",
       "</table>\n",
       "<p>573 rows × 1 columns</p>\n",
       "</div>"
      ],
      "text/plain": [
       "           Kasus aktif\n",
       "2020-03-12          27\n",
       "2020-03-13          60\n",
       "2020-03-14          83\n",
       "2020-03-15         104\n",
       "2020-03-16         121\n",
       "...                ...\n",
       "2021-10-01      34,867\n",
       "2021-10-02      33,812\n",
       "2021-10-03      32,876\n",
       "2021-10-04      31,054\n",
       "2021-10-05      29,823\n",
       "\n",
       "[573 rows x 1 columns]"
      ]
     },
     "execution_count": 231,
     "metadata": {},
     "output_type": "execute_result"
    }
   ],
   "source": [
    "df_ = a.copy()\n",
    "df1 = df_.copy()\n",
    "df1"
   ]
  },
  {
   "cell_type": "code",
   "execution_count": 232,
   "metadata": {},
   "outputs": [
    {
     "data": {
      "text/plain": [
       "Kasus aktif    object\n",
       "dtype: object"
      ]
     },
     "execution_count": 232,
     "metadata": {},
     "output_type": "execute_result"
    }
   ],
   "source": [
    "df1.dtypes"
   ]
  },
  {
   "cell_type": "code",
   "execution_count": 233,
   "metadata": {},
   "outputs": [
    {
     "data": {
      "text/plain": [
       "Kasus aktif    int64\n",
       "dtype: object"
      ]
     },
     "execution_count": 233,
     "metadata": {},
     "output_type": "execute_result"
    }
   ],
   "source": [
    "df1['Kasus aktif'] = df1['Kasus aktif'].replace(',','', regex=True) #remove comma \n",
    "df1['Kasus aktif'] = df1['Kasus aktif'].apply(pd.to_numeric,errors='coerce') #change object into numeric\n",
    "df1.dtypes"
   ]
  },
  {
   "cell_type": "code",
   "execution_count": 234,
   "metadata": {},
   "outputs": [
    {
     "name": "stdout",
     "output_type": "stream",
     "text": [
      "Number of duplicated data:  1\n",
      "Number of missing (NaN/null) data:  Kasus aktif    0\n",
      "dtype: int64\n",
      "Discrepancy of actual date range with dataset:  0\n"
     ]
    }
   ],
   "source": [
    "#Check data accountability\n",
    "\n",
    "#1. Data Duplicate\n",
    "print('Number of duplicated data: ', df1.duplicated().sum())\n",
    "\n",
    "#2. Missing Data\n",
    "print('Number of missing (NaN/null) data: ', df1.isnull().sum())\n",
    "\n",
    "#3. Number of date range\n",
    "print('Discrepancy of actual date range with dataset: ', len(df1) - len(df1.index.unique()))"
   ]
  },
  {
   "cell_type": "code",
   "execution_count": 235,
   "metadata": {},
   "outputs": [
    {
     "data": {
      "text/html": [
       "<div>\n",
       "<style scoped>\n",
       "    .dataframe tbody tr th:only-of-type {\n",
       "        vertical-align: middle;\n",
       "    }\n",
       "\n",
       "    .dataframe tbody tr th {\n",
       "        vertical-align: top;\n",
       "    }\n",
       "\n",
       "    .dataframe thead th {\n",
       "        text-align: right;\n",
       "    }\n",
       "</style>\n",
       "<table border=\"1\" class=\"dataframe\">\n",
       "  <thead>\n",
       "    <tr style=\"text-align: right;\">\n",
       "      <th></th>\n",
       "      <th>Kasus aktif</th>\n",
       "    </tr>\n",
       "  </thead>\n",
       "  <tbody>\n",
       "    <tr>\n",
       "      <th>2020-11-02</th>\n",
       "      <td>55792</td>\n",
       "    </tr>\n",
       "  </tbody>\n",
       "</table>\n",
       "</div>"
      ],
      "text/plain": [
       "            Kasus aktif\n",
       "2020-11-02        55792"
      ]
     },
     "execution_count": 235,
     "metadata": {},
     "output_type": "execute_result"
    }
   ],
   "source": [
    "df1[df1.duplicated()]"
   ]
  },
  {
   "cell_type": "code",
   "execution_count": 236,
   "metadata": {},
   "outputs": [
    {
     "data": {
      "text/html": [
       "<div>\n",
       "<style scoped>\n",
       "    .dataframe tbody tr th:only-of-type {\n",
       "        vertical-align: middle;\n",
       "    }\n",
       "\n",
       "    .dataframe tbody tr th {\n",
       "        vertical-align: top;\n",
       "    }\n",
       "\n",
       "    .dataframe thead th {\n",
       "        text-align: right;\n",
       "    }\n",
       "</style>\n",
       "<table border=\"1\" class=\"dataframe\">\n",
       "  <thead>\n",
       "    <tr style=\"text-align: right;\">\n",
       "      <th></th>\n",
       "      <th>Kasus aktif</th>\n",
       "    </tr>\n",
       "  </thead>\n",
       "  <tbody>\n",
       "    <tr>\n",
       "      <th>2020-11-01</th>\n",
       "      <td>56899</td>\n",
       "    </tr>\n",
       "    <tr>\n",
       "      <th>2020-11-02</th>\n",
       "      <td>55792</td>\n",
       "    </tr>\n",
       "    <tr>\n",
       "      <th>2020-11-03</th>\n",
       "      <td>54732</td>\n",
       "    </tr>\n",
       "    <tr>\n",
       "      <th>2020-11-04</th>\n",
       "      <td>54190</td>\n",
       "    </tr>\n",
       "    <tr>\n",
       "      <th>2020-11-05</th>\n",
       "      <td>54306</td>\n",
       "    </tr>\n",
       "    <tr>\n",
       "      <th>...</th>\n",
       "      <td>...</td>\n",
       "    </tr>\n",
       "    <tr>\n",
       "      <th>2021-10-01</th>\n",
       "      <td>34867</td>\n",
       "    </tr>\n",
       "    <tr>\n",
       "      <th>2021-10-02</th>\n",
       "      <td>33812</td>\n",
       "    </tr>\n",
       "    <tr>\n",
       "      <th>2021-10-03</th>\n",
       "      <td>32876</td>\n",
       "    </tr>\n",
       "    <tr>\n",
       "      <th>2021-10-04</th>\n",
       "      <td>31054</td>\n",
       "    </tr>\n",
       "    <tr>\n",
       "      <th>2021-10-05</th>\n",
       "      <td>29823</td>\n",
       "    </tr>\n",
       "  </tbody>\n",
       "</table>\n",
       "<p>339 rows × 1 columns</p>\n",
       "</div>"
      ],
      "text/plain": [
       "            Kasus aktif\n",
       "2020-11-01        56899\n",
       "2020-11-02        55792\n",
       "2020-11-03        54732\n",
       "2020-11-04        54190\n",
       "2020-11-05        54306\n",
       "...                 ...\n",
       "2021-10-01        34867\n",
       "2021-10-02        33812\n",
       "2021-10-03        32876\n",
       "2021-10-04        31054\n",
       "2021-10-05        29823\n",
       "\n",
       "[339 rows x 1 columns]"
      ]
     },
     "execution_count": 236,
     "metadata": {},
     "output_type": "execute_result"
    }
   ],
   "source": [
    "df1[df1.index>='11/1/2020']\n",
    "#seeing no strange duplicated data, we move on"
   ]
  },
  {
   "cell_type": "markdown",
   "metadata": {},
   "source": [
    "## EDA"
   ]
  },
  {
   "cell_type": "code",
   "execution_count": 237,
   "metadata": {},
   "outputs": [
    {
     "data": {
      "text/plain": [
       "<matplotlib.axes._subplots.AxesSubplot at 0x1a235685c0>"
      ]
     },
     "execution_count": 237,
     "metadata": {},
     "output_type": "execute_result"
    },
    {
     "data": {
      "image/png": "[encoded data removed]",
      "text/plain": [
       "<Figure size 1080x432 with 1 Axes>"
      ]
     },
     "metadata": {
      "needs_background": "light"
     },
     "output_type": "display_data"
    }
   ],
   "source": [
    "#Plot the sequence data \n",
    "\n",
    "df1['Kasus aktif'].plot(figsize=(15, 6))"
   ]
  },
  {
   "cell_type": "code",
   "execution_count": 238,
   "metadata": {},
   "outputs": [
    {
     "data": {
      "image/png": "[encoded data removed]",
      "text/plain": [
       "<Figure size 1080x720 with 4 Axes>"
      ]
     },
     "metadata": {
      "needs_background": "light"
     },
     "output_type": "display_data"
    }
   ],
   "source": [
    "from statsmodels.tsa.seasonal import seasonal_decompose\n",
    "\n",
    "ss_decomposition = seasonal_decompose(x=df1, model='mul', period=12)\n",
    "estimated_trend = ss_decomposition.trend\n",
    "estimated_seasonal = ss_decomposition.seasonal\n",
    "estimated_residual = ss_decomposition.resid\n",
    "\n",
    "fig, axes = plt.subplots(4,1, sharex=True, sharey=False)\n",
    "fig.set_figheight(10)\n",
    "fig.set_figwidth(15)\n",
    "\n",
    "axes[0].plot(df1, label='Original')\n",
    "axes[0].legend(loc='upper left');\n",
    "\n",
    "axes[1].plot(estimated_trend, label='Trend')\n",
    "axes[1].legend(loc='upper left');\n",
    "\n",
    "axes[2].plot(estimated_seasonal, label='Seasonality')\n",
    "axes[2].legend(loc='upper left');\n",
    "\n",
    "axes[3].plot(estimated_residual, label='Residuals')\n",
    "axes[3].legend(loc='upper left');"
   ]
  },
  {
   "cell_type": "code",
   "execution_count": 239,
   "metadata": {},
   "outputs": [
    {
     "data": {
      "text/html": [
       "<div>\n",
       "<style scoped>\n",
       "    .dataframe tbody tr th:only-of-type {\n",
       "        vertical-align: middle;\n",
       "    }\n",
       "\n",
       "    .dataframe tbody tr th {\n",
       "        vertical-align: top;\n",
       "    }\n",
       "\n",
       "    .dataframe thead th {\n",
       "        text-align: right;\n",
       "    }\n",
       "</style>\n",
       "<table border=\"1\" class=\"dataframe\">\n",
       "  <thead>\n",
       "    <tr style=\"text-align: right;\">\n",
       "      <th></th>\n",
       "      <th>Kasus aktif</th>\n",
       "    </tr>\n",
       "  </thead>\n",
       "  <tbody>\n",
       "    <tr>\n",
       "      <th>2020-03-31</th>\n",
       "      <td>514.500000</td>\n",
       "    </tr>\n",
       "    <tr>\n",
       "      <th>2020-04-30</th>\n",
       "      <td>4426.200000</td>\n",
       "    </tr>\n",
       "    <tr>\n",
       "      <th>2020-05-31</th>\n",
       "      <td>12435.516129</td>\n",
       "    </tr>\n",
       "    <tr>\n",
       "      <th>2020-06-30</th>\n",
       "      <td>22786.866667</td>\n",
       "    </tr>\n",
       "    <tr>\n",
       "      <th>2020-07-31</th>\n",
       "      <td>35358.129032</td>\n",
       "    </tr>\n",
       "    <tr>\n",
       "      <th>2020-08-31</th>\n",
       "      <td>38906.580645</td>\n",
       "    </tr>\n",
       "    <tr>\n",
       "      <th>2020-09-30</th>\n",
       "      <td>54175.833333</td>\n",
       "    </tr>\n",
       "    <tr>\n",
       "      <th>2020-10-31</th>\n",
       "      <td>63221.806452</td>\n",
       "    </tr>\n",
       "    <tr>\n",
       "      <th>2020-11-30</th>\n",
       "      <td>60277.233333</td>\n",
       "    </tr>\n",
       "    <tr>\n",
       "      <th>2020-12-31</th>\n",
       "      <td>95449.580645</td>\n",
       "    </tr>\n",
       "    <tr>\n",
       "      <th>2021-01-31</th>\n",
       "      <td>139594.838710</td>\n",
       "    </tr>\n",
       "    <tr>\n",
       "      <th>2021-02-28</th>\n",
       "      <td>164601.857143</td>\n",
       "    </tr>\n",
       "    <tr>\n",
       "      <th>2021-03-31</th>\n",
       "      <td>135695.032258</td>\n",
       "    </tr>\n",
       "    <tr>\n",
       "      <th>2021-04-30</th>\n",
       "      <td>107671.966667</td>\n",
       "    </tr>\n",
       "    <tr>\n",
       "      <th>2021-05-31</th>\n",
       "      <td>95589.677419</td>\n",
       "    </tr>\n",
       "    <tr>\n",
       "      <th>2021-06-30</th>\n",
       "      <td>136982.400000</td>\n",
       "    </tr>\n",
       "    <tr>\n",
       "      <th>2021-07-31</th>\n",
       "      <td>454393.064516</td>\n",
       "    </tr>\n",
       "    <tr>\n",
       "      <th>2021-08-31</th>\n",
       "      <td>371498.774194</td>\n",
       "    </tr>\n",
       "    <tr>\n",
       "      <th>2021-09-30</th>\n",
       "      <td>92556.700000</td>\n",
       "    </tr>\n",
       "    <tr>\n",
       "      <th>2021-10-31</th>\n",
       "      <td>32486.400000</td>\n",
       "    </tr>\n",
       "  </tbody>\n",
       "</table>\n",
       "</div>"
      ],
      "text/plain": [
       "              Kasus aktif\n",
       "2020-03-31     514.500000\n",
       "2020-04-30    4426.200000\n",
       "2020-05-31   12435.516129\n",
       "2020-06-30   22786.866667\n",
       "2020-07-31   35358.129032\n",
       "2020-08-31   38906.580645\n",
       "2020-09-30   54175.833333\n",
       "2020-10-31   63221.806452\n",
       "2020-11-30   60277.233333\n",
       "2020-12-31   95449.580645\n",
       "2021-01-31  139594.838710\n",
       "2021-02-28  164601.857143\n",
       "2021-03-31  135695.032258\n",
       "2021-04-30  107671.966667\n",
       "2021-05-31   95589.677419\n",
       "2021-06-30  136982.400000\n",
       "2021-07-31  454393.064516\n",
       "2021-08-31  371498.774194\n",
       "2021-09-30   92556.700000\n",
       "2021-10-31   32486.400000"
      ]
     },
     "execution_count": 239,
     "metadata": {},
     "output_type": "execute_result"
    }
   ],
   "source": [
    "# resample to annual and plot each\n",
    "monthly_cases = df1.resample('M').mean()\n",
    "#monthly_cases.plot(figsize=[14,4])\n",
    "monthly_cases"
   ]
  },
  {
   "cell_type": "code",
   "execution_count": 240,
   "metadata": {},
   "outputs": [
    {
     "data": {
      "image/png": "[encoded data removed]",
      "text/plain": [
       "<Figure size 432x288 with 1 Axes>"
      ]
     },
     "metadata": {
      "needs_background": "light"
     },
     "output_type": "display_data"
    }
   ],
   "source": [
    "# boxplot of mean cases of months to determine variance and range\n",
    "sns.boxplot(x=monthly_cases.index.month, y=monthly_cases['Kasus aktif'])\n",
    "plt.title('Covid Seasonality in Indonesia From 2020 until 2021')\n",
    "plt.grid(b=True); #GRID is to create rectangular block format\n"
   ]
  },
  {
   "cell_type": "markdown",
   "metadata": {},
   "source": [
    "We can see  throughout years, July and August is the worst month"
   ]
  },
  {
   "cell_type": "markdown",
   "metadata": {},
   "source": [
    "## Stationary or Not Stationary?"
   ]
  },
  {
   "cell_type": "code",
   "execution_count": 241,
   "metadata": {},
   "outputs": [],
   "source": [
    "#Let's run the ADF test before transforming.\n",
    "from statsmodels.tsa.stattools import adfuller, kpss\n",
    "#Now we'll be doing statistical test for trend seasonality using KPSS.\n",
    "#Null hypothesis for KPSS is opposite from ADF. If ADF null hypothesis is non-stationary, the KPSS null hypothesis is stationary. \n"
   ]
  },
  {
   "cell_type": "code",
   "execution_count": 242,
   "metadata": {},
   "outputs": [
    {
     "name": "stdout",
     "output_type": "stream",
     "text": [
      "ADF Statistic: -3.189539330144429\n",
      "p-value: 0.020598224784470924\n",
      "Critial Values:\n",
      "   1%, -3.4421447800270673\n",
      "Critial Values:\n",
      "   5%, -2.8667429272780858\n",
      "Critial Values:\n",
      "   10%, -2.5695409929766093\n",
      "\n",
      "KPSS Statistic: 1.405611\n",
      "p-value: 0.010000\n",
      "Critial Values:\n",
      "   10%, 0.347\n",
      "Critial Values:\n",
      "   5%, 0.463\n",
      "Critial Values:\n",
      "   2.5%, 0.574\n",
      "Critial Values:\n",
      "   1%, 0.739\n"
     ]
    }
   ],
   "source": [
    "\n",
    "# ADF Test\n",
    "result = adfuller(df1['Kasus aktif'].values, autolag='AIC')\n",
    "print(f'ADF Statistic: {result[0]}')\n",
    "print(f'p-value: {result[1]}')\n",
    "for key, value in result[4].items():\n",
    "    print('Critial Values:')\n",
    "    print(f'   {key}, {value}')\n",
    "    \n",
    "# KPSS Test\n",
    "result = kpss(df1['Kasus aktif'].values, regression='c')\n",
    "print('\\nKPSS Statistic: %f' % result[0])\n",
    "print('p-value: %f' % result[1])\n",
    "for key, value in result[3].items():\n",
    "    print('Critial Values:')\n",
    "    print(f'   {key}, {value}')"
   ]
  },
  {
   "cell_type": "code",
   "execution_count": 243,
   "metadata": {},
   "outputs": [],
   "source": [
    "# define Dickey-Fuller Test (DFT) function\n",
    "# Null is that unit root is present, rejection means likely stationary\n",
    "import statsmodels.tsa.stattools as ts\n",
    "def dftest(timeseries):\n",
    "    dftest = ts.adfuller(timeseries,)\n",
    "    dfoutput = pd.Series(dftest[0:4], \n",
    "                         index=['Test Statistic','p-value','Lags Used','Observations Used'])\n",
    "    for key,value in dftest[4].items():\n",
    "        dfoutput['Critical Value (%s)'%key] = value\n",
    "    print(dfoutput)\n",
    "    #Determing rolling statistics\n",
    "    rolmean = timeseries.rolling(window=12).mean()\n",
    "    rolstd = timeseries.rolling(window=12).std()\n",
    "\n",
    "    #Plot rolling statistics:\n",
    "    orig = plt.plot(timeseries, color='blue',label='Original')\n",
    "    mean = plt.plot(rolmean, color='red', label='Rolling Mean')\n",
    "    std = plt.plot(rolstd, color='black', label = 'Rolling Std')\n",
    "    plt.legend(loc='best')\n",
    "    plt.title('Rolling Mean and Standard Deviation')\n",
    "    plt.grid()\n",
    "    plt.show(block=False)"
   ]
  },
  {
   "cell_type": "code",
   "execution_count": 244,
   "metadata": {},
   "outputs": [
    {
     "name": "stdout",
     "output_type": "stream",
     "text": [
      "Test Statistic           -3.189539\n",
      "p-value                   0.020598\n",
      "Lags Used                15.000000\n",
      "Observations Used       557.000000\n",
      "Critical Value (1%)      -3.442145\n",
      "Critical Value (5%)      -2.866743\n",
      "Critical Value (10%)     -2.569541\n",
      "dtype: float64\n"
     ]
    },
    {
     "data": {
      "image/png": "[encoded data removed]",
      "text/plain": [
       "<Figure size 432x288 with 1 Axes>"
      ]
     },
     "metadata": {
      "needs_background": "light"
     },
     "output_type": "display_data"
    }
   ],
   "source": [
    "# run DFT on monthly\n",
    "dftest(df1['Kasus aktif'])\n",
    "\n",
    "# p-value fails to reject null hypothesis of non-stationary , thus data is non-stationary\n"
   ]
  },
  {
   "cell_type": "code",
   "execution_count": 247,
   "metadata": {},
   "outputs": [
    {
     "name": "stdout",
     "output_type": "stream",
     "text": [
      "Test Statistic           -3.458953\n",
      "p-value                   0.009106\n",
      "Lags Used                14.000000\n",
      "Observations Used       557.000000\n",
      "Critical Value (1%)      -3.442145\n",
      "Critical Value (5%)      -2.866743\n",
      "Critical Value (10%)     -2.569541\n",
      "dtype: float64\n"
     ]
    },
    {
     "data": {
      "image/png": "[encoded data removed]",
      "text/plain": [
       "<Figure size 432x288 with 1 Axes>"
      ]
     },
     "metadata": {
      "needs_background": "light"
     },
     "output_type": "display_data"
    }
   ],
   "source": [
    "dftest(df1['Kasus aktif'].diff().dropna())"
   ]
  },
  {
   "cell_type": "code",
   "execution_count": 248,
   "metadata": {},
   "outputs": [
    {
     "data": {
      "image/png": "[encoded data removed]",
      "text/plain": [
       "<Figure size 432x288 with 3 Axes>"
      ]
     },
     "metadata": {
      "needs_background": "light"
     },
     "output_type": "display_data"
    }
   ],
   "source": [
    "plots(df1['Kasus aktif'].diff(periods=1).dropna(), lags=12);\n",
    "# open Duke guide for visual"
   ]
  },
  {
   "cell_type": "markdown",
   "metadata": {},
   "source": [
    "From plot above, there are moving mean and moving variance, however from pvalue we can say this series is Non Stationary (weak seasonality)"
   ]
  },
  {
   "cell_type": "markdown",
   "metadata": {},
   "source": [
    "## Stationary Transformation using Differencing"
   ]
  },
  {
   "cell_type": "code",
   "execution_count": 252,
   "metadata": {},
   "outputs": [
    {
     "data": {
      "image/png": "[encoded data removed]",
      "text/plain": [
       "<Figure size 432x288 with 1 Axes>"
      ]
     },
     "metadata": {
      "needs_background": "light"
     },
     "output_type": "display_data"
    }
   ],
   "source": [
    "from statsmodels.graphics.tsaplots import plot_acf, plot_pacf\n",
    "#Try various differencing order\n",
    "df1['Diff1'] = df1['Kasus aktif'].diff()\n",
    "df1['Diff2'] = df1['Kasus aktif'].diff().diff()\n",
    "df1['Seasonal_diff'] = df1['Kasus aktif'].diff(periods=12)\n",
    "\n",
    "#case = case.dropna()\n",
    "\n",
    "# Plot\n",
    "plt.title('Confirmed Case with First-order difference', size=20)\n",
    "plt.plot(df1['Kasus aktif'], label='Original')\n",
    "plt.plot(df1['Diff1'], label='First-order difference', color='orange')\n",
    "\n",
    "plt.plot(df1['Diff2'], label='Second-order difference', color='green')\n",
    "\n",
    "plt.plot(df1['Seasonality_diff'], label='Seasonality Diff', color='purple')\n",
    "\n",
    "\n",
    "plt.legend();"
   ]
  },
  {
   "cell_type": "code",
   "execution_count": 253,
   "metadata": {},
   "outputs": [
    {
     "data": {
      "image/png": "[encoded data removed]",
      "text/plain": [
       "<Figure size 432x288 with 3 Axes>"
      ]
     },
     "metadata": {
      "needs_background": "light"
     },
     "output_type": "display_data"
    }
   ],
   "source": [
    "# helper plot for monthly temps\n",
    "plots(df1['Seasonal_diff'], lags=12);\n",
    "# open Duke guide for visual"
   ]
  },
  {
   "cell_type": "code",
   "execution_count": 279,
   "metadata": {},
   "outputs": [
    {
     "name": "stdout",
     "output_type": "stream",
     "text": [
      "Performing stepwise search to minimize aic\n",
      " ARIMA(1,0,1)(1,0,1)[12] intercept   : AIC=10907.403, Time=2.24 sec\n",
      " ARIMA(0,0,0)(0,0,0)[12] intercept   : AIC=15053.010, Time=0.03 sec\n",
      " ARIMA(1,0,0)(1,0,0)[12] intercept   : AIC=inf, Time=1.46 sec\n",
      " ARIMA(0,0,1)(0,0,1)[12] intercept   : AIC=14548.177, Time=0.37 sec\n",
      " ARIMA(0,0,0)(0,0,0)[12]             : AIC=15398.095, Time=0.02 sec\n",
      " ARIMA(1,0,1)(0,0,1)[12] intercept   : AIC=10894.398, Time=1.18 sec\n",
      " ARIMA(1,0,1)(0,0,0)[12] intercept   : AIC=10982.770, Time=0.42 sec\n",
      " ARIMA(1,0,1)(0,0,2)[12] intercept   : AIC=10888.275, Time=2.96 sec\n",
      " ARIMA(1,0,1)(1,0,2)[12] intercept   : AIC=10983.311, Time=4.44 sec\n",
      " ARIMA(0,0,1)(0,0,2)[12] intercept   : AIC=14530.486, Time=0.93 sec\n",
      " ARIMA(1,0,0)(0,0,2)[12] intercept   : AIC=11275.942, Time=1.20 sec\n",
      " ARIMA(2,0,1)(0,0,2)[12] intercept   : AIC=10588.974, Time=1.05 sec\n",
      " ARIMA(2,0,1)(0,0,1)[12] intercept   : AIC=10588.331, Time=0.80 sec\n",
      " ARIMA(2,0,1)(0,0,0)[12] intercept   : AIC=10592.352, Time=0.33 sec\n",
      " ARIMA(2,0,1)(1,0,1)[12] intercept   : AIC=10589.895, Time=1.44 sec\n",
      " ARIMA(2,0,1)(1,0,0)[12] intercept   : AIC=10588.909, Time=1.26 sec\n",
      " ARIMA(2,0,1)(1,0,2)[12] intercept   : AIC=10590.951, Time=3.16 sec\n",
      " ARIMA(2,0,0)(0,0,1)[12] intercept   : AIC=10587.467, Time=0.52 sec\n",
      " ARIMA(2,0,0)(0,0,0)[12] intercept   : AIC=10590.593, Time=0.18 sec\n",
      " ARIMA(2,0,0)(1,0,1)[12] intercept   : AIC=10589.180, Time=1.80 sec\n",
      " ARIMA(2,0,0)(0,0,2)[12] intercept   : AIC=10588.654, Time=1.29 sec\n",
      " ARIMA(2,0,0)(1,0,0)[12] intercept   : AIC=10587.845, Time=1.82 sec\n",
      " ARIMA(2,0,0)(1,0,2)[12] intercept   : AIC=10590.644, Time=3.37 sec\n",
      " ARIMA(1,0,0)(0,0,1)[12] intercept   : AIC=11263.502, Time=2.07 sec\n",
      " ARIMA(3,0,0)(0,0,1)[12] intercept   : AIC=10588.483, Time=0.66 sec\n",
      " ARIMA(3,0,1)(0,0,1)[12] intercept   : AIC=10591.360, Time=0.46 sec\n",
      " ARIMA(2,0,0)(0,0,1)[12]             : AIC=10587.181, Time=0.22 sec\n",
      " ARIMA(2,0,0)(0,0,0)[12]             : AIC=inf, Time=0.26 sec\n",
      " ARIMA(2,0,0)(1,0,1)[12]             : AIC=10587.963, Time=1.03 sec\n",
      " ARIMA(2,0,0)(0,0,2)[12]             : AIC=10588.237, Time=0.49 sec\n",
      " ARIMA(2,0,0)(1,0,0)[12]             : AIC=inf, Time=0.41 sec\n",
      " ARIMA(2,0,0)(1,0,2)[12]             : AIC=inf, Time=0.90 sec\n",
      " ARIMA(1,0,0)(0,0,1)[12]             : AIC=11261.722, Time=0.70 sec\n",
      " ARIMA(3,0,0)(0,0,1)[12]             : AIC=10588.361, Time=0.25 sec\n",
      " ARIMA(2,0,1)(0,0,1)[12]             : AIC=10588.188, Time=0.28 sec\n",
      " ARIMA(1,0,1)(0,0,1)[12]             : AIC=10892.644, Time=0.97 sec\n",
      " ARIMA(3,0,1)(0,0,1)[12]             : AIC=10590.432, Time=1.18 sec\n",
      "\n",
      "Best model:  ARIMA(2,0,0)(0,0,1)[12]          \n",
      "Total fit time: 42.168 seconds\n",
      "10587.18123064885\n"
     ]
    }
   ],
   "source": [
    "#from pyramid.arima import auto_arima\n",
    "stepwise_model = pm.auto_arima(df1['Kasus aktif'], start_p=1, start_q=1,\n",
    "                           max_p=3, max_q=3, m=12,\n",
    "                          seasonal=True,\n",
    "                           d=0, D=0,\n",
    "                           trace=True,\n",
    "                           error_action='ignore',  \n",
    "                           suppress_warnings=True, \n",
    "                           stepwise=True)\n",
    "print(stepwise_model.aic())\n"
   ]
  },
  {
   "cell_type": "code",
   "execution_count": 280,
   "metadata": {},
   "outputs": [
    {
     "name": "stdout",
     "output_type": "stream",
     "text": [
      "                                      SARIMAX Results                                       \n",
      "============================================================================================\n",
      "Dep. Variable:                          Kasus aktif   No. Observations:                  573\n",
      "Model:             SARIMAX(2, 0, 0)x(0, 0, [1], 12)   Log Likelihood               -5289.591\n",
      "Date:                              Sun, 10 Oct 2021   AIC                          10587.181\n",
      "Time:                                      07:00:40   BIC                          10604.585\n",
      "Sample:                                  03-12-2020   HQIC                         10593.970\n",
      "                                       - 10-05-2021                                         \n",
      "Covariance Type:                                opg                                         \n",
      "==============================================================================\n",
      "                 coef    std err          z      P>|z|      [0.025      0.975]\n",
      "------------------------------------------------------------------------------\n",
      "ar.L1          1.8888      0.008    236.559      0.000       1.873       1.904\n",
      "ar.L2         -0.8897      0.008   -111.333      0.000      -0.905      -0.874\n",
      "ma.S.L12      -0.1040      0.022     -4.815      0.000      -0.146      -0.062\n",
      "sigma2      6.078e+06   8.24e-11   7.38e+16      0.000    6.08e+06    6.08e+06\n",
      "===================================================================================\n",
      "Ljung-Box (L1) (Q):                   0.61   Jarque-Bera (JB):             11847.47\n",
      "Prob(Q):                              0.44   Prob(JB):                         0.00\n",
      "Heteroskedasticity (H):              97.69   Skew:                             1.72\n",
      "Prob(H) (two-sided):                  0.00   Kurtosis:                        25.01\n",
      "===================================================================================\n",
      "\n",
      "Warnings:\n",
      "[1] Covariance matrix calculated using the outer product of gradients (complex-step).\n",
      "[2] Covariance matrix is singular or near-singular, with condition number 7.03e+32. Standard errors may be unstable.\n"
     ]
    }
   ],
   "source": [
    "sar = sm.tsa.statespace.SARIMAX(df1['Kasus aktif'], order=(2,0,0), seasonal_order=(0,0,1,12))\n",
    "smodel_fit = sar.fit(disp=0)\n",
    "print(smodel_fit.summary())"
   ]
  },
  {
   "cell_type": "code",
   "execution_count": 298,
   "metadata": {},
   "outputs": [
    {
     "name": "stdout",
     "output_type": "stream",
     "text": [
      "Performing stepwise search to minimize aic\n",
      " ARIMA(1,1,1)(1,0,1)[12] intercept   : AIC=10563.620, Time=0.72 sec\n",
      " ARIMA(0,1,0)(0,0,0)[12] intercept   : AIC=11403.288, Time=0.05 sec\n",
      " ARIMA(1,1,0)(1,0,0)[12] intercept   : AIC=10562.646, Time=0.44 sec\n",
      " ARIMA(0,1,1)(0,0,1)[12] intercept   : AIC=10866.893, Time=1.06 sec\n",
      " ARIMA(0,1,0)(0,0,0)[12]             : AIC=11401.347, Time=0.02 sec\n",
      " ARIMA(1,1,0)(0,0,0)[12] intercept   : AIC=10565.253, Time=0.07 sec\n",
      " ARIMA(1,1,0)(2,0,0)[12] intercept   : AIC=10563.531, Time=0.88 sec\n",
      " ARIMA(1,1,0)(1,0,1)[12] intercept   : AIC=10562.723, Time=0.47 sec\n",
      " ARIMA(1,1,0)(0,0,1)[12] intercept   : AIC=10562.156, Time=0.28 sec\n",
      " ARIMA(1,1,0)(0,0,2)[12] intercept   : AIC=10563.104, Time=0.62 sec\n",
      " ARIMA(1,1,0)(1,0,2)[12] intercept   : AIC=10564.707, Time=1.29 sec\n",
      " ARIMA(0,1,0)(0,0,1)[12] intercept   : AIC=11236.234, Time=0.45 sec\n",
      " ARIMA(2,1,0)(0,0,1)[12] intercept   : AIC=10563.512, Time=0.36 sec\n",
      " ARIMA(1,1,1)(0,0,1)[12] intercept   : AIC=10563.406, Time=0.40 sec\n",
      " ARIMA(2,1,1)(0,0,1)[12] intercept   : AIC=10565.334, Time=0.94 sec\n",
      " ARIMA(1,1,0)(0,0,1)[12]             : AIC=10560.158, Time=0.20 sec\n",
      " ARIMA(1,1,0)(0,0,0)[12]             : AIC=10563.255, Time=0.07 sec\n",
      " ARIMA(1,1,0)(1,0,1)[12]             : AIC=10560.728, Time=0.33 sec\n",
      " ARIMA(1,1,0)(0,0,2)[12]             : AIC=10561.106, Time=0.78 sec\n",
      " ARIMA(1,1,0)(1,0,0)[12]             : AIC=10560.648, Time=0.22 sec\n",
      " ARIMA(1,1,0)(1,0,2)[12]             : AIC=10562.711, Time=1.74 sec\n",
      " ARIMA(0,1,0)(0,0,1)[12]             : AIC=11234.275, Time=0.34 sec\n",
      " ARIMA(2,1,0)(0,0,1)[12]             : AIC=10561.513, Time=0.34 sec\n",
      " ARIMA(1,1,1)(0,0,1)[12]             : AIC=10561.408, Time=0.41 sec\n",
      " ARIMA(0,1,1)(0,0,1)[12]             : AIC=10864.921, Time=0.65 sec\n",
      " ARIMA(2,1,1)(0,0,1)[12]             : AIC=10563.336, Time=0.93 sec\n",
      "\n",
      "Best model:  ARIMA(1,1,0)(0,0,1)[12]          \n",
      "Total fit time: 14.076 seconds\n",
      "10560.15798877531\n"
     ]
    }
   ],
   "source": [
    "#from pyramid.arima import auto_arima\n",
    "stepwise_model = pm.auto_arima(df1['Kasus aktif'], start_p=1, start_q=1,\n",
    "                           max_p=3, max_q=3, m=12,\n",
    "                          seasonal=True,\n",
    "                           d=1, D=0,\n",
    "                           trace=True,\n",
    "                           error_action='ignore',  \n",
    "                           suppress_warnings=True, \n",
    "                           stepwise=True)\n",
    "print(stepwise_model.aic())"
   ]
  },
  {
   "cell_type": "code",
   "execution_count": 263,
   "metadata": {},
   "outputs": [
    {
     "name": "stdout",
     "output_type": "stream",
     "text": [
      "                                      SARIMAX Results                                       \n",
      "============================================================================================\n",
      "Dep. Variable:                          Kasus aktif   No. Observations:                  573\n",
      "Model:             SARIMAX(1, 1, 0)x(0, 0, [1], 12)   Log Likelihood               -5277.079\n",
      "Date:                              Sun, 10 Oct 2021   AIC                          10560.158\n",
      "Time:                                      06:52:54   BIC                          10573.205\n",
      "Sample:                                  03-12-2020   HQIC                         10565.248\n",
      "                                       - 10-05-2021                                         \n",
      "Covariance Type:                                opg                                         \n",
      "==============================================================================\n",
      "                 coef    std err          z      P>|z|      [0.025      0.975]\n",
      "------------------------------------------------------------------------------\n",
      "ar.L1          0.8921      0.008    110.604      0.000       0.876       0.908\n",
      "ma.S.L12      -0.1036      0.018     -5.678      0.000      -0.139      -0.068\n",
      "sigma2      6.101e+06   1.09e+05     56.179      0.000    5.89e+06    6.31e+06\n",
      "===================================================================================\n",
      "Ljung-Box (L1) (Q):                   0.50   Jarque-Bera (JB):             10725.37\n",
      "Prob(Q):                              0.48   Prob(JB):                         0.00\n",
      "Heteroskedasticity (H):              97.79   Skew:                             1.39\n",
      "Prob(H) (two-sided):                  0.00   Kurtosis:                        24.03\n",
      "===================================================================================\n",
      "\n",
      "Warnings:\n",
      "[1] Covariance matrix calculated using the outer product of gradients (complex-step).\n"
     ]
    }
   ],
   "source": [
    "sar = sm.tsa.statespace.SARIMAX(df1['Kasus aktif'], order=(1,1,0), seasonal_order=(0,0,1,12))\n",
    "smodel_fit = sar.fit(disp=0)\n",
    "print(smodel_fit.summary())"
   ]
  },
  {
   "cell_type": "code",
   "execution_count": 281,
   "metadata": {},
   "outputs": [],
   "source": [
    "#create dataframe that allow prediction \n",
    "from dateutil.relativedelta import relativedelta\n",
    "def future_preds_df(model,series,num_months):\n",
    "    pred_first = series.index.max()+relativedelta(months=0)\n",
    "    pred_last = series.index.max()+relativedelta(months=num_months)\n",
    "    date_range_index = pd.date_range(pred_first,pred_last,freq = 'MS')\n",
    "    vals = model.predict(n_periods = num_months)\n",
    "    return pd.DataFrame(vals,index = date_range_index)"
   ]
  },
  {
   "cell_type": "code",
   "execution_count": 282,
   "metadata": {},
   "outputs": [
    {
     "data": {
      "text/html": [
       "<div>\n",
       "<style scoped>\n",
       "    .dataframe tbody tr th:only-of-type {\n",
       "        vertical-align: middle;\n",
       "    }\n",
       "\n",
       "    .dataframe tbody tr th {\n",
       "        vertical-align: top;\n",
       "    }\n",
       "\n",
       "    .dataframe thead th {\n",
       "        text-align: right;\n",
       "    }\n",
       "</style>\n",
       "<table border=\"1\" class=\"dataframe\">\n",
       "  <thead>\n",
       "    <tr style=\"text-align: right;\">\n",
       "      <th></th>\n",
       "      <th>0</th>\n",
       "    </tr>\n",
       "  </thead>\n",
       "  <tbody>\n",
       "    <tr>\n",
       "      <th>2021-12-01</th>\n",
       "      <td>27872.591341</td>\n",
       "    </tr>\n",
       "    <tr>\n",
       "      <th>2022-01-01</th>\n",
       "      <td>26991.562691</td>\n",
       "    </tr>\n",
       "    <tr>\n",
       "      <th>2022-02-01</th>\n",
       "      <td>26323.112555</td>\n",
       "    </tr>\n",
       "    <tr>\n",
       "      <th>2022-03-01</th>\n",
       "      <td>25693.289163</td>\n",
       "    </tr>\n",
       "    <tr>\n",
       "      <th>2022-04-01</th>\n",
       "      <td>25016.326707</td>\n",
       "    </tr>\n",
       "  </tbody>\n",
       "</table>\n",
       "</div>"
      ],
      "text/plain": [
       "                       0\n",
       "2021-12-01  27872.591341\n",
       "2022-01-01  26991.562691\n",
       "2022-02-01  26323.112555\n",
       "2022-03-01  25693.289163\n",
       "2022-04-01  25016.326707"
      ]
     },
     "execution_count": 282,
     "metadata": {},
     "output_type": "execute_result"
    }
   ],
   "source": [
    "preds = future_preds_df(stepwise_model,df1['Kasus aktif'],6)\n",
    "preds.tail()"
   ]
  },
  {
   "cell_type": "code",
   "execution_count": 283,
   "metadata": {},
   "outputs": [
    {
     "data": {
      "text/plain": [
       "[<matplotlib.lines.Line2D at 0x1a235065c0>]"
      ]
     },
     "execution_count": 283,
     "metadata": {},
     "output_type": "execute_result"
    },
    {
     "data": {
      "image/png": "[encoded data removed]",
      "text/plain": [
       "<Figure size 432x288 with 1 Axes>"
      ]
     },
     "metadata": {
      "needs_background": "light"
     },
     "output_type": "display_data"
    }
   ],
   "source": [
    "plt.plot(df1['Kasus aktif'])\n",
    "plt.plot(preds)"
   ]
  },
  {
   "cell_type": "code",
   "execution_count": 284,
   "metadata": {},
   "outputs": [
    {
     "data": {
      "text/plain": [
       "[<matplotlib.lines.Line2D at 0x1a21832048>]"
      ]
     },
     "execution_count": 284,
     "metadata": {},
     "output_type": "execute_result"
    },
    {
     "data": {
      "image/png": "[encoded data removed]",
      "text/plain": [
       "<Figure size 432x288 with 1 Axes>"
      ]
     },
     "metadata": {
      "needs_background": "light"
     },
     "output_type": "display_data"
    }
   ],
   "source": [
    "plt.plot(preds)"
   ]
  },
  {
   "cell_type": "code",
   "execution_count": 278,
   "metadata": {},
   "outputs": [
    {
     "data": {
      "image/png": "[encoded data removed]",
      "text/plain": [
       "<Figure size 432x288 with 4 Axes>"
      ]
     },
     "metadata": {
      "needs_background": "light"
     },
     "output_type": "display_data"
    }
   ],
   "source": [
    "stepwise_model.plot_diagnostics();"
   ]
  },
  {
   "cell_type": "code",
   "execution_count": 285,
   "metadata": {},
   "outputs": [],
   "source": [
    "def cross_validate(series,horizon,start,step_size,order = (1,0,0),seasonal_order = (0,0,0,0),trend=None):\n",
    "    '''\n",
    "    Function to determine in and out of sample testing of arima model    \n",
    "    \n",
    "    arguments\n",
    "    ---------\n",
    "    series (seris): time series input\n",
    "    horizon (int): how far in advance forecast is needed\n",
    "    start (int): starting location in series\n",
    "    step_size (int): how often to recalculate forecast\n",
    "    order (tuple): (p,d,q) order of the model\n",
    "    seasonal_order (tuple): (P,D,Q,s) seasonal order of model\n",
    "    \n",
    "    Returns\n",
    "    -------\n",
    "    DataFrame: gives fcst and actuals with date of prediction\n",
    "    '''\n",
    "    fcst = []\n",
    "    actual = []\n",
    "    date = []\n",
    "    for i in range(start,len(series)-horizon,step_size):\n",
    "        model = sm.tsa.statespace.SARIMAX(series[:i+1], #only using data through to and including start \n",
    "                                order=order, \n",
    "                                seasonal_order=seasonal_order, \n",
    "                                trend=trend).fit()\n",
    "        fcst.append(model.forecast(steps = horizon)[-1]) #forecasting horisons in advance\n",
    "        actual.append(series[i+horizon]) # comparing that to actual value at that point\n",
    "        date.append(series.index[i+horizon]) # saving date of that value\n",
    "    return pd.DataFrame({'fcst':fcst,'actual':actual},index=date)\n",
    "\n",
    "#horisons: how far in advance we want to predict the series\n",
    "#stepsize ; prediction every three months"
   ]
  },
  {
   "cell_type": "code",
   "execution_count": 288,
   "metadata": {},
   "outputs": [],
   "source": [
    "warnings.filterwarnings(\"ignore\")\n",
    "series = df1['Kasus aktif']\n",
    "horizon = 12\n",
    "start = 400\n",
    "step_size = 1\n",
    "order = (1,1,0)\n",
    "seasonal_order = (0,0,1,12)\n",
    "\n",
    "cv1 = cross_validate(df1['Kasus aktif'],12,400,1,\n",
    "                    order = order,\n",
    "                    seasonal_order = seasonal_order)"
   ]
  },
  {
   "cell_type": "code",
   "execution_count": 289,
   "metadata": {},
   "outputs": [],
   "source": [
    "model = sm.tsa.statespace.SARIMAX(series[:401], #only using data through start of 400\n",
    "                                order=order, \n",
    "                                seasonal_order=seasonal_order, \n",
    "                                trend=None).fit()"
   ]
  },
  {
   "cell_type": "code",
   "execution_count": 290,
   "metadata": {},
   "outputs": [
    {
     "data": {
      "text/plain": [
       "2021-04-12    109372\n",
       "2021-04-13    108599\n",
       "2021-04-14    108384\n",
       "2021-04-15    108032\n",
       "2021-04-16    107297\n",
       "Freq: D, Name: Kasus aktif, dtype: int64"
      ]
     },
     "execution_count": 290,
     "metadata": {},
     "output_type": "execute_result"
    }
   ],
   "source": [
    "#end of input\n",
    "series[:401].tail()"
   ]
  },
  {
   "cell_type": "code",
   "execution_count": 291,
   "metadata": {},
   "outputs": [
    {
     "data": {
      "text/plain": [
       "2021-04-28    100502\n",
       "Freq: D, Name: Kasus aktif, dtype: int64"
      ]
     },
     "execution_count": 291,
     "metadata": {},
     "output_type": "execute_result"
    }
   ],
   "source": [
    "#value to predict horizon steps into the future\n",
    "series[412:413]"
   ]
  },
  {
   "cell_type": "code",
   "execution_count": 292,
   "metadata": {},
   "outputs": [
    {
     "data": {
      "text/plain": [
       "2021-04-28    105602.046099\n",
       "Freq: D, Name: predicted_mean, dtype: float64"
      ]
     },
     "execution_count": 292,
     "metadata": {},
     "output_type": "execute_result"
    }
   ],
   "source": [
    "model.forecast(12)[-1:]"
   ]
  },
  {
   "cell_type": "code",
   "execution_count": 293,
   "metadata": {},
   "outputs": [
    {
     "data": {
      "text/html": [
       "<div>\n",
       "<style scoped>\n",
       "    .dataframe tbody tr th:only-of-type {\n",
       "        vertical-align: middle;\n",
       "    }\n",
       "\n",
       "    .dataframe tbody tr th {\n",
       "        vertical-align: top;\n",
       "    }\n",
       "\n",
       "    .dataframe thead th {\n",
       "        text-align: right;\n",
       "    }\n",
       "</style>\n",
       "<table border=\"1\" class=\"dataframe\">\n",
       "  <thead>\n",
       "    <tr style=\"text-align: right;\">\n",
       "      <th></th>\n",
       "      <th>fcst</th>\n",
       "      <th>actual</th>\n",
       "    </tr>\n",
       "  </thead>\n",
       "  <tbody>\n",
       "    <tr>\n",
       "      <th>2021-04-28</th>\n",
       "      <td>105602.046099</td>\n",
       "      <td>100502</td>\n",
       "    </tr>\n",
       "    <tr>\n",
       "      <th>2021-04-29</th>\n",
       "      <td>103979.677963</td>\n",
       "      <td>100102</td>\n",
       "    </tr>\n",
       "    <tr>\n",
       "      <th>2021-04-30</th>\n",
       "      <td>104074.064540</td>\n",
       "      <td>100213</td>\n",
       "    </tr>\n",
       "    <tr>\n",
       "      <th>2021-05-01</th>\n",
       "      <td>101038.291068</td>\n",
       "      <td>100250</td>\n",
       "    </tr>\n",
       "    <tr>\n",
       "      <th>2021-05-02</th>\n",
       "      <td>100478.046709</td>\n",
       "      <td>100760</td>\n",
       "    </tr>\n",
       "  </tbody>\n",
       "</table>\n",
       "</div>"
      ],
      "text/plain": [
       "                     fcst  actual\n",
       "2021-04-28  105602.046099  100502\n",
       "2021-04-29  103979.677963  100102\n",
       "2021-04-30  104074.064540  100213\n",
       "2021-05-01  101038.291068  100250\n",
       "2021-05-02  100478.046709  100760"
      ]
     },
     "execution_count": 293,
     "metadata": {},
     "output_type": "execute_result"
    }
   ],
   "source": [
    "cv1.head()"
   ]
  },
  {
   "cell_type": "code",
   "execution_count": 299,
   "metadata": {},
   "outputs": [
    {
     "data": {
      "text/plain": [
       "<matplotlib.axes._subplots.AxesSubplot at 0x1a1f005198>"
      ]
     },
     "execution_count": 299,
     "metadata": {},
     "output_type": "execute_result"
    },
    {
     "data": {
      "image/png": "[encoded data removed]",
      "text/plain": [
       "<Figure size 432x288 with 1 Axes>"
      ]
     },
     "metadata": {
      "needs_background": "light"
     },
     "output_type": "display_data"
    }
   ],
   "source": [
    "cv1.plot(title = 'Forecast every 1 month using one year prior data (Cross Validation)')"
   ]
  },
  {
   "cell_type": "code",
   "execution_count": 300,
   "metadata": {},
   "outputs": [],
   "source": [
    "def mape(df_cv):\n",
    "    return abs(df_cv.actual - df_cv.fcst).sum() / df_cv.actual.sum()"
   ]
  },
  {
   "cell_type": "code",
   "execution_count": 301,
   "metadata": {},
   "outputs": [
    {
     "data": {
      "text/plain": [
       "0.24364944439476058"
      ]
     },
     "execution_count": 301,
     "metadata": {},
     "output_type": "execute_result"
    }
   ],
   "source": [
    "mape(cv1)"
   ]
  },
  {
   "cell_type": "code",
   "execution_count": 302,
   "metadata": {},
   "outputs": [
    {
     "data": {
      "text/plain": [
       "0.9147432670942446"
      ]
     },
     "execution_count": 302,
     "metadata": {},
     "output_type": "execute_result"
    }
   ],
   "source": [
    "corr = np.corrcoef(cv1['fcst'],cv1['actual'])[0,1]\n",
    "corr"
   ]
  },
  {
   "cell_type": "code",
   "execution_count": 225,
   "metadata": {},
   "outputs": [
    {
     "name": "stdout",
     "output_type": "stream",
     "text": [
      "                                      SARIMAX Results                                       \n",
      "============================================================================================\n",
      "Dep. Variable:                          Kasus aktif   No. Observations:                  573\n",
      "Model:             SARIMAX(2, 2, 3)x(0, 0, [1], 12)   Log Likelihood               -5248.770\n",
      "Date:                              Sat, 09 Oct 2021   AIC                          10511.540\n",
      "Time:                                      23:22:38   BIC                          10541.972\n",
      "Sample:                                  03-12-2020   HQIC                         10523.413\n",
      "                                       - 10-05-2021                                         \n",
      "Covariance Type:                                opg                                         \n",
      "==============================================================================\n",
      "                 coef    std err          z      P>|z|      [0.025      0.975]\n",
      "------------------------------------------------------------------------------\n",
      "ar.L1          1.1671      0.040     29.308      0.000       1.089       1.245\n",
      "ar.L2         -0.7701      0.031    -24.841      0.000      -0.831      -0.709\n",
      "ma.L1         -1.4063      0.045    -30.925      0.000      -1.495      -1.317\n",
      "ma.L2          0.9945      0.052     19.076      0.000       0.892       1.097\n",
      "ma.L3         -0.2941      0.025    -11.790      0.000      -0.343      -0.245\n",
      "ma.S.L12      -0.1000      0.031     -3.214      0.001      -0.161      -0.039\n",
      "sigma2      6.019e+06   7.13e-09   8.44e+14      0.000    6.02e+06    6.02e+06\n",
      "===================================================================================\n",
      "Ljung-Box (L1) (Q):                   0.55   Jarque-Bera (JB):              8036.92\n",
      "Prob(Q):                              0.46   Prob(JB):                         0.00\n",
      "Heteroskedasticity (H):              96.92   Skew:                             0.23\n",
      "Prob(H) (two-sided):                  0.00   Kurtosis:                        21.37\n",
      "===================================================================================\n",
      "\n",
      "Warnings:\n",
      "[1] Covariance matrix calculated using the outer product of gradients (complex-step).\n",
      "[2] Covariance matrix is singular or near-singular, with condition number 7.07e+29. Standard errors may be unstable.\n"
     ]
    }
   ],
   "source": [
    "sar = sm.tsa.statespace.SARIMAX(df1['Kasus aktif'], order=(2,2,3), seasonal_order=(0,0,1,12))\n",
    "smodel_fit = sar.fit(disp=0)\n",
    "print(smodel_fit.summary())"
   ]
  }
 ],
 "metadata": {
  "kernelspec": {
   "display_name": "Python [conda env:.conda-py3-TF2.0]",
   "language": "python",
   "name": "conda-env-.conda-py3-TF2.0-py"
  },
  "language_info": {
   "codemirror_mode": {
    "name": "ipython",
    "version": 3
   },
   "file_extension": ".py",
   "mimetype": "text/x-python",
   "name": "python",
   "nbconvert_exporter": "python",
   "pygments_lexer": "ipython3",
   "version": "3.6.10"
  }
 },
 "nbformat": 4,
 "nbformat_minor": 4
}
