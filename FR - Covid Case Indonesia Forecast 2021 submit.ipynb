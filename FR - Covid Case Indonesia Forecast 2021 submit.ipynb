{
 "cells": [
  {
   "cell_type": "markdown",
   "metadata": {},
   "source": [
    "## Indonesia COVID 19 Forecast 2021 "
   ]
  },
  {
   "cell_type": "markdown",
   "metadata": {},
   "source": [
    "#### Objective : \n",
    "To do forecast of Covid-19 in Indonesia 2021. As Delta varian hit the world, Indonesia become one of country which impacted alot of this varian and we would like to see future forecast of confirmed case."
   ]
  },
  {
   "cell_type": "markdown",
   "metadata": {},
   "source": [
    "#### Dataset source : \n",
    "Connecting to API https://api.covid19api.com/ so that we get the updated dataset from John Hopkins CSSE. \n",
    "Dataset will provide confirmed case from 1 January 2021 until 30 August 2021, with as much as 242 rows, have 10 columns (as can be seen in output code below) but in this research we only need the Confirmed case to conduct Time Series Analysis."
   ]
  },
  {
   "cell_type": "markdown",
   "metadata": {},
   "source": [
    "#### Model Used:\n",
    "This research will conduct 6 various model to forecast the covid case: Time Series Modelling such as Single Exponential Smoothing, Double Exponential Smoothing, Triple Exponential Smoothing, ARIMA, SARIMA and since we can see the sequence plot of series much relate to polynomial series, then we also induced polynomial regression to see which model is better. In the end of this research we will see the result."
   ]
  },
  {
   "cell_type": "markdown",
   "metadata": {},
   "source": [
    "\n",
    "\n",
    "\n",
    "\n"
   ]
  },
  {
   "cell_type": "code",
   "execution_count": 160,
   "metadata": {},
   "outputs": [],
   "source": [
    "import warnings\n",
    "warnings.filterwarnings('ignore')\n",
    "import pandas as pd\n",
    "import matplotlib.pyplot as plt\n",
    "import seaborn as sns\n",
    "#!pip install plotly\n",
    "import plotly.express as px\n",
    "import plotly.graph_objects as go\n",
    "from plotly.subplots import make_subplots\n",
    "import numpy as np\n",
    "import datetime as dt\n",
    "from datetime import timedelta\n",
    "from sklearn.model_selection import GridSearchCV\n",
    "from sklearn.preprocessing import StandardScaler\n",
    "from sklearn.cluster import KMeans\n",
    "from sklearn.metrics import silhouette_score,silhouette_samples\n",
    "from sklearn.linear_model import LinearRegression,Ridge,Lasso\n",
    "from sklearn.svm import SVR\n",
    "from sklearn.metrics import mean_squared_error,r2_score\n",
    "import statsmodels.api as sm\n",
    "from statsmodels.tsa.api import Holt,SimpleExpSmoothing,ExponentialSmoothing\n",
    "from fbprophet import Prophet\n",
    "from sklearn.preprocessing import PolynomialFeatures\n",
    "from statsmodels.tsa.stattools import adfuller\n",
    "from pmdarima import auto_arima\n",
    "std=StandardScaler()"
   ]
  },
  {
   "cell_type": "code",
   "execution_count": 161,
   "metadata": {},
   "outputs": [
    {
     "data": {
      "text/html": [
       "<div>\n",
       "<style scoped>\n",
       "    .dataframe tbody tr th:only-of-type {\n",
       "        vertical-align: middle;\n",
       "    }\n",
       "\n",
       "    .dataframe tbody tr th {\n",
       "        vertical-align: top;\n",
       "    }\n",
       "\n",
       "    .dataframe thead th {\n",
       "        text-align: right;\n",
       "    }\n",
       "</style>\n",
       "<table border=\"1\" class=\"dataframe\">\n",
       "  <thead>\n",
       "    <tr style=\"text-align: right;\">\n",
       "      <th></th>\n",
       "      <th>Country</th>\n",
       "      <th>CountryCode</th>\n",
       "      <th>Province</th>\n",
       "      <th>City</th>\n",
       "      <th>CityCode</th>\n",
       "      <th>Lat</th>\n",
       "      <th>Lon</th>\n",
       "      <th>Cases</th>\n",
       "      <th>Status</th>\n",
       "      <th>Date</th>\n",
       "    </tr>\n",
       "  </thead>\n",
       "  <tbody>\n",
       "    <tr>\n",
       "      <th>237</th>\n",
       "      <td>Indonesia</td>\n",
       "      <td></td>\n",
       "      <td></td>\n",
       "      <td></td>\n",
       "      <td></td>\n",
       "      <td>0</td>\n",
       "      <td>0</td>\n",
       "      <td>4043736</td>\n",
       "      <td>confirmed</td>\n",
       "      <td>2021-08-26 00:00:00+00:00</td>\n",
       "    </tr>\n",
       "    <tr>\n",
       "      <th>238</th>\n",
       "      <td>Indonesia</td>\n",
       "      <td></td>\n",
       "      <td></td>\n",
       "      <td></td>\n",
       "      <td></td>\n",
       "      <td>0</td>\n",
       "      <td>0</td>\n",
       "      <td>4056354</td>\n",
       "      <td>confirmed</td>\n",
       "      <td>2021-08-27 00:00:00+00:00</td>\n",
       "    </tr>\n",
       "    <tr>\n",
       "      <th>239</th>\n",
       "      <td>Indonesia</td>\n",
       "      <td></td>\n",
       "      <td></td>\n",
       "      <td></td>\n",
       "      <td></td>\n",
       "      <td>0</td>\n",
       "      <td>0</td>\n",
       "      <td>4066404</td>\n",
       "      <td>confirmed</td>\n",
       "      <td>2021-08-28 00:00:00+00:00</td>\n",
       "    </tr>\n",
       "    <tr>\n",
       "      <th>240</th>\n",
       "      <td>Indonesia</td>\n",
       "      <td></td>\n",
       "      <td></td>\n",
       "      <td></td>\n",
       "      <td></td>\n",
       "      <td>0</td>\n",
       "      <td>0</td>\n",
       "      <td>4073831</td>\n",
       "      <td>confirmed</td>\n",
       "      <td>2021-08-29 00:00:00+00:00</td>\n",
       "    </tr>\n",
       "    <tr>\n",
       "      <th>241</th>\n",
       "      <td>Indonesia</td>\n",
       "      <td></td>\n",
       "      <td></td>\n",
       "      <td></td>\n",
       "      <td></td>\n",
       "      <td>0</td>\n",
       "      <td>0</td>\n",
       "      <td>4089801</td>\n",
       "      <td>confirmed</td>\n",
       "      <td>2021-08-30 00:00:00+00:00</td>\n",
       "    </tr>\n",
       "  </tbody>\n",
       "</table>\n",
       "</div>"
      ],
      "text/plain": [
       "       Country CountryCode Province City CityCode  Lat  Lon    Cases  \\\n",
       "237  Indonesia                                       0    0  4043736   \n",
       "238  Indonesia                                       0    0  4056354   \n",
       "239  Indonesia                                       0    0  4066404   \n",
       "240  Indonesia                                       0    0  4073831   \n",
       "241  Indonesia                                       0    0  4089801   \n",
       "\n",
       "        Status                      Date  \n",
       "237  confirmed 2021-08-26 00:00:00+00:00  \n",
       "238  confirmed 2021-08-27 00:00:00+00:00  \n",
       "239  confirmed 2021-08-28 00:00:00+00:00  \n",
       "240  confirmed 2021-08-29 00:00:00+00:00  \n",
       "241  confirmed 2021-08-30 00:00:00+00:00  "
      ]
     },
     "execution_count": 161,
     "metadata": {},
     "output_type": "execute_result"
    }
   ],
   "source": [
    "data = pd.read_json('indo covid 2021.json')\n",
    "data.tail()"
   ]
  },
  {
   "cell_type": "code",
   "execution_count": 162,
   "metadata": {},
   "outputs": [
    {
     "name": "stdout",
     "output_type": "stream",
     "text": [
      "Size/Shape of the dataset:  (242, 10)\n",
      "Checking for null values:\n",
      " Country        0\n",
      "CountryCode    0\n",
      "Province       0\n",
      "City           0\n",
      "CityCode       0\n",
      "Lat            0\n",
      "Lon            0\n",
      "Cases          0\n",
      "Status         0\n",
      "Date           0\n",
      "dtype: int64\n",
      "Checking Data-type of each column:\n",
      " Country                     object\n",
      "CountryCode                 object\n",
      "Province                    object\n",
      "City                        object\n",
      "CityCode                    object\n",
      "Lat                          int64\n",
      "Lon                          int64\n",
      "Cases                        int64\n",
      "Status                      object\n",
      "Date           datetime64[ns, UTC]\n",
      "dtype: object\n"
     ]
    }
   ],
   "source": [
    "print(\"Size/Shape of the dataset: \",data.shape)\n",
    "print(\"Checking for null values:\\n\",data.isnull().sum())\n",
    "print(\"Checking Data-type of each column:\\n\",data.dtypes)"
   ]
  },
  {
   "cell_type": "code",
   "execution_count": 163,
   "metadata": {},
   "outputs": [],
   "source": [
    "cols = ['Country', 'CountryCode', 'Province', 'City', 'CityCode', 'Lat', 'Lon','Status']\n",
    "data.drop(cols, axis=1, inplace=True)\n",
    "data = data.sort_values('Date')"
   ]
  },
  {
   "cell_type": "code",
   "execution_count": 164,
   "metadata": {},
   "outputs": [
    {
     "data": {
      "text/html": [
       "<div>\n",
       "<style scoped>\n",
       "    .dataframe tbody tr th:only-of-type {\n",
       "        vertical-align: middle;\n",
       "    }\n",
       "\n",
       "    .dataframe tbody tr th {\n",
       "        vertical-align: top;\n",
       "    }\n",
       "\n",
       "    .dataframe thead th {\n",
       "        text-align: right;\n",
       "    }\n",
       "</style>\n",
       "<table border=\"1\" class=\"dataframe\">\n",
       "  <thead>\n",
       "    <tr style=\"text-align: right;\">\n",
       "      <th></th>\n",
       "      <th>Cases</th>\n",
       "    </tr>\n",
       "    <tr>\n",
       "      <th>Date</th>\n",
       "      <th></th>\n",
       "    </tr>\n",
       "  </thead>\n",
       "  <tbody>\n",
       "    <tr>\n",
       "      <th>2021-01-01 00:00:00+00:00</th>\n",
       "      <td>751270</td>\n",
       "    </tr>\n",
       "    <tr>\n",
       "      <th>2021-01-02 00:00:00+00:00</th>\n",
       "      <td>758473</td>\n",
       "    </tr>\n",
       "    <tr>\n",
       "      <th>2021-01-03 00:00:00+00:00</th>\n",
       "      <td>765350</td>\n",
       "    </tr>\n",
       "    <tr>\n",
       "      <th>2021-01-04 00:00:00+00:00</th>\n",
       "      <td>772103</td>\n",
       "    </tr>\n",
       "    <tr>\n",
       "      <th>2021-01-05 00:00:00+00:00</th>\n",
       "      <td>779548</td>\n",
       "    </tr>\n",
       "    <tr>\n",
       "      <th>...</th>\n",
       "      <td>...</td>\n",
       "    </tr>\n",
       "    <tr>\n",
       "      <th>2021-08-26 00:00:00+00:00</th>\n",
       "      <td>4043736</td>\n",
       "    </tr>\n",
       "    <tr>\n",
       "      <th>2021-08-27 00:00:00+00:00</th>\n",
       "      <td>4056354</td>\n",
       "    </tr>\n",
       "    <tr>\n",
       "      <th>2021-08-28 00:00:00+00:00</th>\n",
       "      <td>4066404</td>\n",
       "    </tr>\n",
       "    <tr>\n",
       "      <th>2021-08-29 00:00:00+00:00</th>\n",
       "      <td>4073831</td>\n",
       "    </tr>\n",
       "    <tr>\n",
       "      <th>2021-08-30 00:00:00+00:00</th>\n",
       "      <td>4089801</td>\n",
       "    </tr>\n",
       "  </tbody>\n",
       "</table>\n",
       "<p>242 rows × 1 columns</p>\n",
       "</div>"
      ],
      "text/plain": [
       "                             Cases\n",
       "Date                              \n",
       "2021-01-01 00:00:00+00:00   751270\n",
       "2021-01-02 00:00:00+00:00   758473\n",
       "2021-01-03 00:00:00+00:00   765350\n",
       "2021-01-04 00:00:00+00:00   772103\n",
       "2021-01-05 00:00:00+00:00   779548\n",
       "...                            ...\n",
       "2021-08-26 00:00:00+00:00  4043736\n",
       "2021-08-27 00:00:00+00:00  4056354\n",
       "2021-08-28 00:00:00+00:00  4066404\n",
       "2021-08-29 00:00:00+00:00  4073831\n",
       "2021-08-30 00:00:00+00:00  4089801\n",
       "\n",
       "[242 rows x 1 columns]"
      ]
     },
     "execution_count": 164,
     "metadata": {},
     "output_type": "execute_result"
    }
   ],
   "source": [
    "case = data.set_index('Date')\n",
    "case"
   ]
  },
  {
   "cell_type": "code",
   "execution_count": 165,
   "metadata": {},
   "outputs": [
    {
     "data": {
      "text/plain": [
       "Cases    0\n",
       "dtype: int64"
      ]
     },
     "execution_count": 165,
     "metadata": {},
     "output_type": "execute_result"
    }
   ],
   "source": [
    "case.isnull().sum()"
   ]
  },
  {
   "cell_type": "code",
   "execution_count": 166,
   "metadata": {},
   "outputs": [
    {
     "data": {
      "text/plain": [
       "<matplotlib.axes._subplots.AxesSubplot at 0x1a2cd08390>"
      ]
     },
     "execution_count": 166,
     "metadata": {},
     "output_type": "execute_result"
    },
    {
     "data": {
      "image/png": "[encoded data removed]",
      "text/plain": [
       "<Figure size 1080x432 with 1 Axes>"
      ]
     },
     "metadata": {
      "needs_background": "light"
     },
     "output_type": "display_data"
    }
   ],
   "source": [
    "case['Cases'].plot(figsize=(15, 6))"
   ]
  },
  {
   "cell_type": "code",
   "execution_count": 167,
   "metadata": {},
   "outputs": [],
   "source": [
    "#from pylab import rcParams\n",
    "#rcParams['figure.figsize'] = 18, 8\n",
    "#decomposition = sm.tsa.seasonal_decompose(case, model='additive')\n",
    "#fig = decomposition.plot()\n",
    "#plt.show()\n",
    "\n",
    "#Have same output as below with simpler code"
   ]
  },
  {
   "cell_type": "code",
   "execution_count": 168,
   "metadata": {},
   "outputs": [
    {
     "data": {
      "image/png": "[encoded data removed]",
      "text/plain": [
       "<Figure size 1080x720 with 4 Axes>"
      ]
     },
     "metadata": {
      "needs_background": "light"
     },
     "output_type": "display_data"
    }
   ],
   "source": [
    "from statsmodels.tsa.seasonal import seasonal_decompose\n",
    "\n",
    "ss_decomposition = seasonal_decompose(x=case, model='mul', period=6)\n",
    "estimated_trend = ss_decomposition.trend\n",
    "estimated_seasonal = ss_decomposition.seasonal\n",
    "estimated_residual = ss_decomposition.resid\n",
    "\n",
    "fig, axes = plt.subplots(4,1, sharex=True, sharey=False)\n",
    "fig.set_figheight(10)\n",
    "fig.set_figwidth(15)\n",
    "\n",
    "axes[0].plot(case, label='Original')\n",
    "axes[0].legend(loc='upper left');\n",
    "\n",
    "axes[1].plot(estimated_trend, label='Trend')\n",
    "axes[1].legend(loc='upper left');\n",
    "\n",
    "axes[2].plot(estimated_seasonal, label='Seasonality')\n",
    "axes[2].legend(loc='upper left');\n",
    "\n",
    "axes[3].plot(estimated_residual, label='Residuals')\n",
    "axes[3].legend(loc='upper left');"
   ]
  },
  {
   "cell_type": "markdown",
   "metadata": {},
   "source": [
    "# Check whether series is stationary, have a trend, and seasonality"
   ]
  },
  {
   "cell_type": "code",
   "execution_count": 169,
   "metadata": {},
   "outputs": [],
   "source": [
    "def run_sequence_plot(x, y, title, xlabel=\"time\", ylabel=\"series\"):\n",
    "    plt.plot(x, y, 'k-')\n",
    "    plt.title(title)\n",
    "    plt.xlabel(xlabel)\n",
    "    plt.ylabel(ylabel)\n",
    "    plt.grid(alpha=0.3);"
   ]
  },
  {
   "cell_type": "code",
   "execution_count": 170,
   "metadata": {},
   "outputs": [
    {
     "data": {
      "image/png": "[encoded data removed]",
      "text/plain": [
       "<Figure size 720x720 with 1 Axes>"
      ]
     },
     "metadata": {
      "needs_background": "light"
     },
     "output_type": "display_data"
    }
   ],
   "source": [
    "run_sequence_plot(data.Date, data.Cases, \n",
    "                  title=\"Stationary TS\")"
   ]
  },
  {
   "cell_type": "code",
   "execution_count": 171,
   "metadata": {},
   "outputs": [],
   "source": [
    "# define Dickey-Fuller Test (DFT) function\n",
    "# Null is that unit root is present, rejection means likely stationary\n",
    "import statsmodels.tsa.stattools as ts\n",
    "def dftest(timeseries):\n",
    "    dftest = ts.adfuller(timeseries,)\n",
    "    dfoutput = pd.Series(dftest[0:4], \n",
    "                         index=['Test Statistic','p-value','Lags Used','Observations Used'])\n",
    "    for key,value in dftest[4].items():\n",
    "        dfoutput['Critical Value (%s)'%key] = value\n",
    "    print(dfoutput)\n",
    "    #Determing rolling statistics\n",
    "    rolmean = timeseries.rolling(window=12).mean()\n",
    "    rolstd = timeseries.rolling(window=12).std()\n",
    "\n",
    "    #Plot rolling statistics:\n",
    "    orig = plt.plot(timeseries, color='blue',label='Original')\n",
    "    mean = plt.plot(rolmean, color='red', label='Rolling Mean')\n",
    "    std = plt.plot(rolstd, color='black', label = 'Rolling Std')\n",
    "    plt.legend(loc='best')\n",
    "    plt.title('Rolling Mean and Standard Deviation')\n",
    "    plt.grid()\n",
    "    plt.show(block=False)"
   ]
  },
  {
   "cell_type": "code",
   "execution_count": 172,
   "metadata": {},
   "outputs": [
    {
     "name": "stdout",
     "output_type": "stream",
     "text": [
      "Test Statistic            1.548080\n",
      "p-value                   0.997693\n",
      "Lags Used                15.000000\n",
      "Observations Used       226.000000\n",
      "Critical Value (1%)      -3.459620\n",
      "Critical Value (5%)      -2.874415\n",
      "Critical Value (10%)     -2.573632\n",
      "dtype: float64\n"
     ]
    },
    {
     "data": {
      "image/png": "[encoded data removed]",
      "text/plain": [
       "<Figure size 720x720 with 1 Axes>"
      ]
     },
     "metadata": {
      "needs_background": "light"
     },
     "output_type": "display_data"
    }
   ],
   "source": [
    "# run DFT on monthly\n",
    "dftest(case.Cases)\n",
    "\n",
    "# p-value fails to reject null hypothesis of non-stationary , thus data is non-stationary\n"
   ]
  },
  {
   "cell_type": "markdown",
   "metadata": {},
   "source": [
    "There's a trend as we can see from rolling mean is not constant, and a little rolling standar deviation indicates non-constant variance. \n",
    "\n",
    "Now we'll be doing statistical test for trend seasonality using KPSS.\n",
    "Null hypothesis for KPSS is opposite from ADF. If ADF null hypothesis is non-stationary, the KPSS null hypothesis is stationary. "
   ]
  },
  {
   "cell_type": "code",
   "execution_count": 173,
   "metadata": {},
   "outputs": [
    {
     "name": "stdout",
     "output_type": "stream",
     "text": [
      "ADF Statistic: 1.54807952640862\n",
      "p-value: 0.9976931399520121\n",
      "Critial Values:\n",
      "   1%, -3.4596204846395824\n",
      "Critial Values:\n",
      "   5%, -2.8744153028455948\n",
      "Critial Values:\n",
      "   10%, -2.5736320761218576\n",
      "\n",
      "KPSS Statistic: 1.383305\n",
      "p-value: 0.010000\n",
      "Critial Values:\n",
      "   10%, 0.347\n",
      "Critial Values:\n",
      "   5%, 0.463\n",
      "Critial Values:\n",
      "   2.5%, 0.574\n",
      "Critial Values:\n",
      "   1%, 0.739\n"
     ]
    }
   ],
   "source": [
    "from statsmodels.tsa.stattools import adfuller, kpss\n",
    "\n",
    "# ADF Test\n",
    "result = adfuller(case.Cases.values, autolag='AIC')\n",
    "print(f'ADF Statistic: {result[0]}')\n",
    "print(f'p-value: {result[1]}')\n",
    "for key, value in result[4].items():\n",
    "    print('Critial Values:')\n",
    "    print(f'   {key}, {value}')\n",
    "\n",
    "# KPSS Test\n",
    "result = kpss(case.Cases.values, regression='c')\n",
    "print('\\nKPSS Statistic: %f' % result[0])\n",
    "print('p-value: %f' % result[1])\n",
    "for key, value in result[3].items():\n",
    "    print('Critial Values:')\n",
    "    print(f'   {key}, {value}')"
   ]
  },
  {
   "cell_type": "markdown",
   "metadata": {},
   "source": [
    "As can we see here the confirmed case series is non-stationary and the trend seasonality indicating non-stationary also. "
   ]
  },
  {
   "cell_type": "markdown",
   "metadata": {},
   "source": [
    "Now we'll check autocorrelation of the series, statistically significance of autocorrelation (lies outside of the bluish area) means there is a correlation between datapoint and their lags, thus need to be transformed into stationary. Since linear regression requires independent set."
   ]
  },
  {
   "cell_type": "code",
   "execution_count": 174,
   "metadata": {},
   "outputs": [
    {
     "name": "stdout",
     "output_type": "stream",
     "text": [
      "Daily data Autocorrelation Plots\n"
     ]
    },
    {
     "data": {
      "image/png": "[encoded data removed]",
      "text/plain": [
       "<Figure size 720x720 with 1 Axes>"
      ]
     },
     "metadata": {
      "needs_background": "light"
     },
     "output_type": "display_data"
    },
    {
     "data": {
      "image/png": "[encoded data removed]",
      "text/plain": [
       "<Figure size 720x720 with 1 Axes>"
      ]
     },
     "metadata": {
      "needs_background": "light"
     },
     "output_type": "display_data"
    }
   ],
   "source": [
    "#Let's see the autocorrelation\n",
    "\n",
    "from statsmodels.graphics.tsaplots import plot_acf, plot_pacf, month_plot, quarter_plot\n",
    "\n",
    "print('Daily data Autocorrelation Plots')\n",
    "# Autocorrelation and Partial Autocorrelation Functions for Daily Data\n",
    "#plot_acf(sales_new['Sales']['Furniture'])\n",
    "acf_plot = plot_acf(data.Cases, lags=24, title='Autocorrelation in Confirmed Covid Case')\n",
    "#plot_acf(sales_new['Sales']['Furniture'])\n",
    "pacf_plot = plot_pacf(data.Cases, lags=24, title='Partial Autocorrelation in Confirmed Covid Case')\n",
    "#plot_acf(sales_new['Sales']['Furniture'])"
   ]
  },
  {
   "cell_type": "code",
   "execution_count": 310,
   "metadata": {},
   "outputs": [
    {
     "name": "stdout",
     "output_type": "stream",
     "text": [
      "Monthly Confirmed\n",
      "Date\n",
      "2021-01-31 00:00:00+00:00    27904068\n",
      "2021-02-28 00:00:00+00:00    34172220\n",
      "2021-03-31 00:00:00+00:00    44344084\n",
      "2021-04-30 00:00:00+00:00    47761250\n",
      "2021-05-31 00:00:00+00:00    54068447\n",
      "Freq: M, Name: Cases, dtype: int64 \n",
      "\n"
     ]
    }
   ],
   "source": [
    "confirm_monthly = case.Cases.resample('M').sum()\n",
    "print('Monthly Confirmed')\n",
    "print(confirm_monthly.head(), '\\n')"
   ]
  },
  {
   "cell_type": "code",
   "execution_count": 311,
   "metadata": {},
   "outputs": [
    {
     "data": {
      "text/plain": [
       "pandas.core.series.Series"
      ]
     },
     "execution_count": 311,
     "metadata": {},
     "output_type": "execute_result"
    }
   ],
   "source": [
    "type(confirm_monthly)"
   ]
  },
  {
   "cell_type": "code",
   "execution_count": 316,
   "metadata": {},
   "outputs": [
    {
     "data": {
      "text/plain": [
       "Date\n",
       "2021-01-31 00:00:00+00:00     27904068\n",
       "2021-02-28 00:00:00+00:00     34172220\n",
       "2021-03-31 00:00:00+00:00     44344084\n",
       "2021-04-30 00:00:00+00:00     47761250\n",
       "2021-05-31 00:00:00+00:00     54068447\n",
       "2021-06-30 00:00:00+00:00     58774875\n",
       "2021-07-31 00:00:00+00:00     86065511\n",
       "2021-08-31 00:00:00+00:00    114690065\n",
       "Freq: M, Name: Cases, dtype: int64"
      ]
     },
     "execution_count": 316,
     "metadata": {},
     "output_type": "execute_result"
    }
   ],
   "source": [
    "confirm_monthly"
   ]
  },
  {
   "cell_type": "markdown",
   "metadata": {},
   "source": [
    "# Transforming Non-Stationary Series to Stationary Series\n",
    "\n",
    "##### 1. Remove Trend and Seasonality using statsmodel"
   ]
  },
  {
   "cell_type": "code",
   "execution_count": 216,
   "metadata": {},
   "outputs": [
    {
     "name": "stdout",
     "output_type": "stream",
     "text": [
      "ADF:  1.54807952640862\n",
      "p-value:  0.9976931399520121\n"
     ]
    }
   ],
   "source": [
    "#Let's run the ADF test before transforming.\n",
    "\n",
    "adf_b4, pvalue_b4, usedlag_, nobs_, critical_values_, icbest_ = adfuller(case.Cases)\n",
    "print(\"ADF: \", adf_b4)\n",
    "print(\"p-value: \", pvalue_b4)"
   ]
  },
  {
   "cell_type": "code",
   "execution_count": 175,
   "metadata": {},
   "outputs": [
    {
     "data": {
      "image/png": "[encoded data removed]",
      "text/plain": [
       "<Figure size 720x720 with 4 Axes>"
      ]
     },
     "metadata": {
      "needs_background": "light"
     },
     "output_type": "display_data"
    },
    {
     "data": {
      "image/png": "[encoded data removed]",
      "text/plain": [
       "<Figure size 720x720 with 4 Axes>"
      ]
     },
     "metadata": {
      "needs_background": "light"
     },
     "output_type": "display_data"
    }
   ],
   "source": [
    "from statsmodels.tsa.seasonal import seasonal_decompose\n",
    "\n",
    "# Multiplicative Decomposition \n",
    "result_mul = seasonal_decompose(case.Cases, model='multiplicative', extrapolate_trend='freq')\n",
    "\n",
    "# Additive Decomposition\n",
    "result_add = seasonal_decompose(case.Cases, model='additive', extrapolate_trend='freq')\n",
    "\n",
    "# Plot\n",
    "plt.rcParams.update({'figure.figsize': (10,10)})\n",
    "result_mul.plot().suptitle('Multiplicative Decompose', fontsize=14)\n",
    "result_add.plot().suptitle('Additive Decompose', fontsize=14)\n",
    "plt.show()"
   ]
  },
  {
   "cell_type": "markdown",
   "metadata": {},
   "source": [
    "The more random residual the better, hence we choose additive decomposition."
   ]
  },
  {
   "cell_type": "code",
   "execution_count": 217,
   "metadata": {},
   "outputs": [],
   "source": [
    "from statsmodels.tsa.seasonal import seasonal_decompose\n",
    "\n",
    "#ss_decomposition = seasonal_decompose(x=case.Cases, model='additive', period=8)\n",
    "est_trend = result_add.trend\n",
    "est_seasonal = result_add.seasonal\n",
    "est_residual = result_add.resid"
   ]
  },
  {
   "cell_type": "code",
   "execution_count": 218,
   "metadata": {},
   "outputs": [
    {
     "name": "stdout",
     "output_type": "stream",
     "text": [
      "Date\n",
      "2021-01-01 00:00:00+00:00     4359.255267\n",
      "2021-01-02 00:00:00+00:00     2441.624072\n",
      "2021-01-03 00:00:00+00:00     1613.589961\n",
      "2021-01-04 00:00:00+00:00      526.006288\n",
      "2021-01-05 00:00:00+00:00     -365.751267\n",
      "                                 ...     \n",
      "2021-08-26 00:00:00+00:00     5701.147893\n",
      "2021-08-27 00:00:00+00:00     2412.551186\n",
      "2021-08-28 00:00:00+00:00    -6159.421846\n",
      "2021-08-29 00:00:00+00:00   -12852.267182\n",
      "2021-08-30 00:00:00+00:00   -10238.932488\n",
      "Name: resid, Length: 242, dtype: float64\n"
     ]
    }
   ],
   "source": [
    "print(est_residual)"
   ]
  },
  {
   "cell_type": "code",
   "execution_count": 219,
   "metadata": {},
   "outputs": [
    {
     "name": "stdout",
     "output_type": "stream",
     "text": [
      "ADF:  -2.904819154724665\n",
      "p-value:  0.04479045851425185\n"
     ]
    }
   ],
   "source": [
    "adf_after, pvalue_after, usedlag_, nobs_, critical_values_, icbest_ = adfuller(est_residual)\n",
    "print(\"ADF: \", adf_after)\n",
    "print(\"p-value: \", pvalue_after)"
   ]
  },
  {
   "cell_type": "markdown",
   "metadata": {},
   "source": [
    "After decmposing series from its trend and seasonality, the series (residual) is now stationary. Later we can use this residual to do modelling. "
   ]
  },
  {
   "cell_type": "markdown",
   "metadata": {},
   "source": [
    "#### 2. Log Transformation "
   ]
  },
  {
   "cell_type": "code",
   "execution_count": 220,
   "metadata": {},
   "outputs": [
    {
     "name": "stdout",
     "output_type": "stream",
     "text": [
      "ADF Statistic: 0.754393\n",
      "p-value: 0.990863\n",
      "\t1%: -3.460\n",
      "\t5%: -2.874\n",
      "\t10%: -2.574\n"
     ]
    }
   ],
   "source": [
    "X = case.Cases\n",
    "X = np.log(X)\n",
    "result = adfuller(X)\n",
    "print('ADF Statistic: %f' % result[0])\n",
    "print('p-value: %f' % result[1])\n",
    "for key, value in result[4].items():\n",
    "\tprint('\\t%s: %.3f' % (key, value))"
   ]
  },
  {
   "cell_type": "code",
   "execution_count": 221,
   "metadata": {},
   "outputs": [],
   "source": [
    "case['Log Cases'] = X"
   ]
  },
  {
   "cell_type": "code",
   "execution_count": 222,
   "metadata": {},
   "outputs": [
    {
     "data": {
      "text/html": [
       "<div>\n",
       "<style scoped>\n",
       "    .dataframe tbody tr th:only-of-type {\n",
       "        vertical-align: middle;\n",
       "    }\n",
       "\n",
       "    .dataframe tbody tr th {\n",
       "        vertical-align: top;\n",
       "    }\n",
       "\n",
       "    .dataframe thead th {\n",
       "        text-align: right;\n",
       "    }\n",
       "</style>\n",
       "<table border=\"1\" class=\"dataframe\">\n",
       "  <thead>\n",
       "    <tr style=\"text-align: right;\">\n",
       "      <th></th>\n",
       "      <th>Cases</th>\n",
       "      <th>Log Cases</th>\n",
       "      <th>Diff1</th>\n",
       "      <th>Diff2</th>\n",
       "      <th>Diff20</th>\n",
       "      <th>Diff10</th>\n",
       "    </tr>\n",
       "    <tr>\n",
       "      <th>Date</th>\n",
       "      <th></th>\n",
       "      <th></th>\n",
       "      <th></th>\n",
       "      <th></th>\n",
       "      <th></th>\n",
       "      <th></th>\n",
       "    </tr>\n",
       "  </thead>\n",
       "  <tbody>\n",
       "    <tr>\n",
       "      <th>2021-01-01 00:00:00+00:00</th>\n",
       "      <td>751270</td>\n",
       "      <td>13.529520</td>\n",
       "      <td>0.0</td>\n",
       "      <td>NaN</td>\n",
       "      <td>NaN</td>\n",
       "      <td>NaN</td>\n",
       "    </tr>\n",
       "    <tr>\n",
       "      <th>2021-01-02 00:00:00+00:00</th>\n",
       "      <td>758473</td>\n",
       "      <td>13.539062</td>\n",
       "      <td>7203.0</td>\n",
       "      <td>NaN</td>\n",
       "      <td>NaN</td>\n",
       "      <td>NaN</td>\n",
       "    </tr>\n",
       "    <tr>\n",
       "      <th>2021-01-03 00:00:00+00:00</th>\n",
       "      <td>765350</td>\n",
       "      <td>13.548089</td>\n",
       "      <td>6877.0</td>\n",
       "      <td>14080.0</td>\n",
       "      <td>NaN</td>\n",
       "      <td>NaN</td>\n",
       "    </tr>\n",
       "    <tr>\n",
       "      <th>2021-01-04 00:00:00+00:00</th>\n",
       "      <td>772103</td>\n",
       "      <td>13.556873</td>\n",
       "      <td>6753.0</td>\n",
       "      <td>13630.0</td>\n",
       "      <td>NaN</td>\n",
       "      <td>NaN</td>\n",
       "    </tr>\n",
       "    <tr>\n",
       "      <th>2021-01-05 00:00:00+00:00</th>\n",
       "      <td>779548</td>\n",
       "      <td>13.566470</td>\n",
       "      <td>7445.0</td>\n",
       "      <td>14198.0</td>\n",
       "      <td>NaN</td>\n",
       "      <td>NaN</td>\n",
       "    </tr>\n",
       "    <tr>\n",
       "      <th>...</th>\n",
       "      <td>...</td>\n",
       "      <td>...</td>\n",
       "      <td>...</td>\n",
       "      <td>...</td>\n",
       "      <td>...</td>\n",
       "      <td>...</td>\n",
       "    </tr>\n",
       "    <tr>\n",
       "      <th>2021-08-26 00:00:00+00:00</th>\n",
       "      <td>4043736</td>\n",
       "      <td>15.212680</td>\n",
       "      <td>16899.0</td>\n",
       "      <td>35570.0</td>\n",
       "      <td>171998.0</td>\n",
       "      <td>171998.0</td>\n",
       "    </tr>\n",
       "    <tr>\n",
       "      <th>2021-08-27 00:00:00+00:00</th>\n",
       "      <td>4056354</td>\n",
       "      <td>15.215795</td>\n",
       "      <td>12618.0</td>\n",
       "      <td>29517.0</td>\n",
       "      <td>163875.0</td>\n",
       "      <td>163875.0</td>\n",
       "    </tr>\n",
       "    <tr>\n",
       "      <th>2021-08-28 00:00:00+00:00</th>\n",
       "      <td>4066404</td>\n",
       "      <td>15.218270</td>\n",
       "      <td>10050.0</td>\n",
       "      <td>22668.0</td>\n",
       "      <td>158157.0</td>\n",
       "      <td>158157.0</td>\n",
       "    </tr>\n",
       "    <tr>\n",
       "      <th>2021-08-29 00:00:00+00:00</th>\n",
       "      <td>4073831</td>\n",
       "      <td>15.220094</td>\n",
       "      <td>7427.0</td>\n",
       "      <td>17477.0</td>\n",
       "      <td>143531.0</td>\n",
       "      <td>143531.0</td>\n",
       "    </tr>\n",
       "    <tr>\n",
       "      <th>2021-08-30 00:00:00+00:00</th>\n",
       "      <td>4089801</td>\n",
       "      <td>15.224007</td>\n",
       "      <td>15970.0</td>\n",
       "      <td>23397.0</td>\n",
       "      <td>139497.0</td>\n",
       "      <td>139497.0</td>\n",
       "    </tr>\n",
       "  </tbody>\n",
       "</table>\n",
       "<p>242 rows × 6 columns</p>\n",
       "</div>"
      ],
      "text/plain": [
       "                             Cases  Log Cases    Diff1    Diff2    Diff20  \\\n",
       "Date                                                                        \n",
       "2021-01-01 00:00:00+00:00   751270  13.529520      0.0      NaN       NaN   \n",
       "2021-01-02 00:00:00+00:00   758473  13.539062   7203.0      NaN       NaN   \n",
       "2021-01-03 00:00:00+00:00   765350  13.548089   6877.0  14080.0       NaN   \n",
       "2021-01-04 00:00:00+00:00   772103  13.556873   6753.0  13630.0       NaN   \n",
       "2021-01-05 00:00:00+00:00   779548  13.566470   7445.0  14198.0       NaN   \n",
       "...                            ...        ...      ...      ...       ...   \n",
       "2021-08-26 00:00:00+00:00  4043736  15.212680  16899.0  35570.0  171998.0   \n",
       "2021-08-27 00:00:00+00:00  4056354  15.215795  12618.0  29517.0  163875.0   \n",
       "2021-08-28 00:00:00+00:00  4066404  15.218270  10050.0  22668.0  158157.0   \n",
       "2021-08-29 00:00:00+00:00  4073831  15.220094   7427.0  17477.0  143531.0   \n",
       "2021-08-30 00:00:00+00:00  4089801  15.224007  15970.0  23397.0  139497.0   \n",
       "\n",
       "                             Diff10  \n",
       "Date                                 \n",
       "2021-01-01 00:00:00+00:00       NaN  \n",
       "2021-01-02 00:00:00+00:00       NaN  \n",
       "2021-01-03 00:00:00+00:00       NaN  \n",
       "2021-01-04 00:00:00+00:00       NaN  \n",
       "2021-01-05 00:00:00+00:00       NaN  \n",
       "...                             ...  \n",
       "2021-08-26 00:00:00+00:00  171998.0  \n",
       "2021-08-27 00:00:00+00:00  163875.0  \n",
       "2021-08-28 00:00:00+00:00  158157.0  \n",
       "2021-08-29 00:00:00+00:00  143531.0  \n",
       "2021-08-30 00:00:00+00:00  139497.0  \n",
       "\n",
       "[242 rows x 6 columns]"
      ]
     },
     "execution_count": 222,
     "metadata": {},
     "output_type": "execute_result"
    }
   ],
   "source": [
    "case"
   ]
  },
  {
   "cell_type": "code",
   "execution_count": 223,
   "metadata": {},
   "outputs": [
    {
     "data": {
      "image/png": "[encoded data removed]",
      "text/plain": [
       "<Figure size 720x720 with 1 Axes>"
      ]
     },
     "metadata": {
      "needs_background": "light"
     },
     "output_type": "display_data"
    },
    {
     "data": {
      "image/png": "[encoded data removed]",
      "text/plain": [
       "<Figure size 720x720 with 1 Axes>"
      ]
     },
     "metadata": {
      "needs_background": "light"
     },
     "output_type": "display_data"
    }
   ],
   "source": [
    "# run-sequence plots\n",
    "run_sequence_plot(case.index, case.Cases,\n",
    "                  title=\"orignal\")\n",
    "plt.show()\n",
    "\n",
    "run_sequence_plot(case.index, case['Log Cases'],\n",
    "                  title=\"Confirmed Case (log)\")\n",
    "plt.show()\n"
   ]
  },
  {
   "cell_type": "markdown",
   "metadata": {},
   "source": [
    "Simply Log the series not be solution, the series still in non-stationary."
   ]
  },
  {
   "cell_type": "markdown",
   "metadata": {},
   "source": [
    "#### 3. Differencing"
   ]
  },
  {
   "cell_type": "code",
   "execution_count": 224,
   "metadata": {},
   "outputs": [
    {
     "data": {
      "image/png": "[encoded data removed]",
      "text/plain": [
       "<Figure size 720x720 with 1 Axes>"
      ]
     },
     "metadata": {
      "needs_background": "light"
     },
     "output_type": "display_data"
    }
   ],
   "source": [
    "#Try various differencing order\n",
    "case['Diff1'] = case['Cases'].diff(periods=1)\n",
    "case['Diff2'] = case['Cases'].diff(periods=2)\n",
    "case['Diff10'] = case['Cases'].diff(periods=10)\n",
    "\n",
    "#case = case.dropna()\n",
    "\n",
    "# Plot\n",
    "plt.title('Confirmed Case with First-order difference', size=20)\n",
    "plt.plot(case['Cases'], label='Original')\n",
    "plt.plot(case['Diff1'], label='First-order difference', color='orange')\n",
    "\n",
    "plt.plot(case['Diff2'], label='Second-order difference', color='green')\n",
    "\n",
    "plt.plot(case['Diff10'], label='Tenth-order difference', color='purple')\n",
    "\n",
    "\n",
    "plt.legend();"
   ]
  },
  {
   "cell_type": "code",
   "execution_count": 225,
   "metadata": {},
   "outputs": [
    {
     "data": {
      "text/html": [
       "<div>\n",
       "<style scoped>\n",
       "    .dataframe tbody tr th:only-of-type {\n",
       "        vertical-align: middle;\n",
       "    }\n",
       "\n",
       "    .dataframe tbody tr th {\n",
       "        vertical-align: top;\n",
       "    }\n",
       "\n",
       "    .dataframe thead th {\n",
       "        text-align: right;\n",
       "    }\n",
       "</style>\n",
       "<table border=\"1\" class=\"dataframe\">\n",
       "  <thead>\n",
       "    <tr style=\"text-align: right;\">\n",
       "      <th></th>\n",
       "      <th>Cases</th>\n",
       "      <th>Log Cases</th>\n",
       "      <th>Diff1</th>\n",
       "      <th>Diff2</th>\n",
       "      <th>Diff20</th>\n",
       "      <th>Diff10</th>\n",
       "    </tr>\n",
       "    <tr>\n",
       "      <th>Date</th>\n",
       "      <th></th>\n",
       "      <th></th>\n",
       "      <th></th>\n",
       "      <th></th>\n",
       "      <th></th>\n",
       "      <th></th>\n",
       "    </tr>\n",
       "  </thead>\n",
       "  <tbody>\n",
       "    <tr>\n",
       "      <th>2021-01-01 00:00:00+00:00</th>\n",
       "      <td>751270</td>\n",
       "      <td>13.529520</td>\n",
       "      <td>NaN</td>\n",
       "      <td>NaN</td>\n",
       "      <td>NaN</td>\n",
       "      <td>NaN</td>\n",
       "    </tr>\n",
       "    <tr>\n",
       "      <th>2021-01-02 00:00:00+00:00</th>\n",
       "      <td>758473</td>\n",
       "      <td>13.539062</td>\n",
       "      <td>7203.0</td>\n",
       "      <td>NaN</td>\n",
       "      <td>NaN</td>\n",
       "      <td>NaN</td>\n",
       "    </tr>\n",
       "    <tr>\n",
       "      <th>2021-01-03 00:00:00+00:00</th>\n",
       "      <td>765350</td>\n",
       "      <td>13.548089</td>\n",
       "      <td>6877.0</td>\n",
       "      <td>14080.0</td>\n",
       "      <td>NaN</td>\n",
       "      <td>NaN</td>\n",
       "    </tr>\n",
       "    <tr>\n",
       "      <th>2021-01-04 00:00:00+00:00</th>\n",
       "      <td>772103</td>\n",
       "      <td>13.556873</td>\n",
       "      <td>6753.0</td>\n",
       "      <td>13630.0</td>\n",
       "      <td>NaN</td>\n",
       "      <td>NaN</td>\n",
       "    </tr>\n",
       "    <tr>\n",
       "      <th>2021-01-05 00:00:00+00:00</th>\n",
       "      <td>779548</td>\n",
       "      <td>13.566470</td>\n",
       "      <td>7445.0</td>\n",
       "      <td>14198.0</td>\n",
       "      <td>NaN</td>\n",
       "      <td>NaN</td>\n",
       "    </tr>\n",
       "  </tbody>\n",
       "</table>\n",
       "</div>"
      ],
      "text/plain": [
       "                            Cases  Log Cases   Diff1    Diff2  Diff20  Diff10\n",
       "Date                                                                         \n",
       "2021-01-01 00:00:00+00:00  751270  13.529520     NaN      NaN     NaN     NaN\n",
       "2021-01-02 00:00:00+00:00  758473  13.539062  7203.0      NaN     NaN     NaN\n",
       "2021-01-03 00:00:00+00:00  765350  13.548089  6877.0  14080.0     NaN     NaN\n",
       "2021-01-04 00:00:00+00:00  772103  13.556873  6753.0  13630.0     NaN     NaN\n",
       "2021-01-05 00:00:00+00:00  779548  13.566470  7445.0  14198.0     NaN     NaN"
      ]
     },
     "execution_count": 225,
     "metadata": {},
     "output_type": "execute_result"
    }
   ],
   "source": [
    "case.head()"
   ]
  },
  {
   "cell_type": "code",
   "execution_count": 226,
   "metadata": {},
   "outputs": [
    {
     "name": "stdout",
     "output_type": "stream",
     "text": [
      "ADF:  -2.6183659154419745\n",
      "p-value:  0.08926050464235391\n"
     ]
    }
   ],
   "source": [
    "adf_after, pvalue_after, usedlag_, nobs_, critical_values_, icbest_ = adfuller(case.Diff1[1:-1])\n",
    "print(\"ADF: \", adf_after)\n",
    "print(\"p-value: \", pvalue_after)"
   ]
  },
  {
   "cell_type": "code",
   "execution_count": 227,
   "metadata": {},
   "outputs": [
    {
     "name": "stdout",
     "output_type": "stream",
     "text": [
      "ADF:  -2.423017974658069\n",
      "p-value:  0.13534486137462298\n"
     ]
    }
   ],
   "source": [
    "adf_after, pvalue_after, usedlag_, nobs_, critical_values_, icbest_ = adfuller(case.Diff2[2:-2])\n",
    "print(\"ADF: \", adf_after)\n",
    "print(\"p-value: \", pvalue_after)"
   ]
  },
  {
   "cell_type": "markdown",
   "metadata": {},
   "source": [
    "We can see from plot sequence above, by using order=1 slightly seem static (even there's a bit noise), but ADF tells it is still non-stationary. Here the better way is choosing differencing with order=1."
   ]
  },
  {
   "cell_type": "markdown",
   "metadata": {},
   "source": [
    "Here we can choose whether to use differencing=1 (but with weak stationary) or other way, we combine several methods such as differencing and removing trend/seasonality. "
   ]
  },
  {
   "cell_type": "code",
   "execution_count": 229,
   "metadata": {},
   "outputs": [],
   "source": [
    "#Check ADF for Residual of Differencing\n",
    "\n",
    "ss_decomposition = seasonal_decompose(x=case.Diff1.dropna(), model='additive', period=8)\n",
    "est_trend = ss_decomposition.trend\n",
    "est_seasonal = ss_decomposition.seasonal\n",
    "est_residual = ss_decomposition.resid"
   ]
  },
  {
   "cell_type": "code",
   "execution_count": 230,
   "metadata": {},
   "outputs": [
    {
     "data": {
      "text/plain": [
       "Date\n",
       "2021-01-02 00:00:00+00:00            NaN\n",
       "2021-01-03 00:00:00+00:00            NaN\n",
       "2021-01-04 00:00:00+00:00            NaN\n",
       "2021-01-05 00:00:00+00:00            NaN\n",
       "2021-01-06 00:00:00+00:00     493.621974\n",
       "                                ...     \n",
       "2021-08-26 00:00:00+00:00    3509.934474\n",
       "2021-08-27 00:00:00+00:00            NaN\n",
       "2021-08-28 00:00:00+00:00            NaN\n",
       "2021-08-29 00:00:00+00:00            NaN\n",
       "2021-08-30 00:00:00+00:00            NaN\n",
       "Name: resid, Length: 241, dtype: float64"
      ]
     },
     "execution_count": 230,
     "metadata": {},
     "output_type": "execute_result"
    }
   ],
   "source": [
    "est_residual"
   ]
  },
  {
   "cell_type": "code",
   "execution_count": 232,
   "metadata": {},
   "outputs": [
    {
     "name": "stdout",
     "output_type": "stream",
     "text": [
      "ADF:  -5.38867237326091\n",
      "p-value:  3.577789909955507e-06\n"
     ]
    }
   ],
   "source": [
    "adf_after, pvalue_after, usedlag_, nobs_, critical_values_, icbest_ = adfuller(est_residual[4:-4])\n",
    "print(\"ADF: \", adf_after)\n",
    "print(\"p-value: \", pvalue_after)"
   ]
  },
  {
   "cell_type": "markdown",
   "metadata": {},
   "source": [
    "Now we have stationary series!"
   ]
  },
  {
   "cell_type": "markdown",
   "metadata": {},
   "source": [
    "# 1. ARIMA"
   ]
  },
  {
   "cell_type": "code",
   "execution_count": 240,
   "metadata": {},
   "outputs": [],
   "source": [
    "model_train=case.Cases.iloc[:int(case.Diff1.shape[0]*0.95)]\n",
    "valid=case.iloc[int(case.Cases.shape[0]*0.95):]\n",
    "y_pred=valid.copy()\n",
    "model_scores = []"
   ]
  },
  {
   "cell_type": "code",
   "execution_count": 241,
   "metadata": {},
   "outputs": [
    {
     "data": {
      "text/plain": [
       "Date\n",
       "2021-01-01 00:00:00+00:00    751270\n",
       "2021-01-02 00:00:00+00:00    758473\n",
       "2021-01-03 00:00:00+00:00    765350\n",
       "2021-01-04 00:00:00+00:00    772103\n",
       "2021-01-05 00:00:00+00:00    779548\n",
       "Name: Cases, dtype: int64"
      ]
     },
     "execution_count": 241,
     "metadata": {},
     "output_type": "execute_result"
    }
   ],
   "source": [
    "model_train.head()"
   ]
  },
  {
   "cell_type": "code",
   "execution_count": 242,
   "metadata": {},
   "outputs": [
    {
     "name": "stdout",
     "output_type": "stream",
     "text": [
      " ARIMA(0,2,0)(0,0,0)[1]             : AIC=4285.866, Time=0.06 sec\n",
      " ARIMA(0,2,1)(0,0,0)[1]             : AIC=4287.875, Time=0.08 sec\n",
      " ARIMA(0,2,2)(0,0,0)[1]             : AIC=4289.902, Time=0.07 sec\n",
      " ARIMA(1,2,0)(0,0,0)[1]             : AIC=4287.852, Time=0.03 sec\n",
      " ARIMA(1,2,1)(0,0,0)[1]             : AIC=4289.861, Time=0.13 sec\n",
      " ARIMA(1,2,2)(0,0,0)[1]             : AIC=4291.090, Time=0.53 sec\n",
      " ARIMA(2,2,0)(0,0,0)[1]             : AIC=4289.849, Time=1.78 sec\n",
      " ARIMA(2,2,1)(0,0,0)[1]             : AIC=4290.678, Time=0.24 sec\n",
      " ARIMA(2,2,2)(0,0,0)[1]             : AIC=4293.559, Time=0.16 sec\n",
      "\n",
      "Best model:  ARIMA(0,2,0)(0,0,0)[1]          \n",
      "Total fit time: 3.111 seconds\n"
     ]
    },
    {
     "data": {
      "text/plain": [
       "ARIMA(order=(0, 2, 0), scoring_args={}, seasonal_order=(0, 0, 0, 1),\n",
       "      suppress_warnings=True, with_intercept=False)"
      ]
     },
     "execution_count": 242,
     "metadata": {},
     "output_type": "execute_result"
    }
   ],
   "source": [
    "model_arima= auto_arima(model_train,trace=True, error_action='ignore', \n",
    "                        start_p=0,start_q=0,max_p=2,max_q=2,\n",
    "                        suppress_warnings=True,stepwise=False,seasonal=True)\n",
    "\n",
    "model_arima.fit(model_train)"
   ]
  },
  {
   "cell_type": "code",
   "execution_count": 243,
   "metadata": {},
   "outputs": [],
   "source": [
    "prediction_arima=model_arima.predict(len(valid))\n",
    "y_pred[\"ARIMA Model Prediction\"]=prediction_arima"
   ]
  },
  {
   "cell_type": "code",
   "execution_count": 244,
   "metadata": {},
   "outputs": [
    {
     "name": "stdout",
     "output_type": "stream",
     "text": [
      "Root Mean Square Error for ARIMA Model:  38161.04392419861\n"
     ]
    }
   ],
   "source": [
    "model_scores.append(np.sqrt(mean_squared_error(valid[\"Cases\"],prediction_arima)))\n",
    "print(\"Root Mean Square Error for ARIMA Model: \",np.sqrt(mean_squared_error(valid[\"Cases\"],prediction_arima)))"
   ]
  },
  {
   "cell_type": "code",
   "execution_count": 123,
   "metadata": {},
   "outputs": [
    {
     "data": {
      "application/vnd.plotly.v1+json": {
       "config": {
        "plotlyServerURL": "https://plot.ly"
       },
       "data": [
        {
         "mode": "lines+markers",
         "name": "Train Data for Confirmed Cases",
         "type": "scatter",
         "x": [
          "2021-01-01T00:00:00+00:00",
          "2021-01-02T00:00:00+00:00",
          "2021-01-03T00:00:00+00:00",
          "2021-01-04T00:00:00+00:00",
          "2021-01-05T00:00:00+00:00",
          "2021-01-06T00:00:00+00:00",
          "2021-01-07T00:00:00+00:00",
          "2021-01-08T00:00:00+00:00",
          "2021-01-09T00:00:00+00:00",
          "2021-01-10T00:00:00+00:00",
          "2021-01-11T00:00:00+00:00",
          "2021-01-12T00:00:00+00:00",
          "2021-01-13T00:00:00+00:00",
          "2021-01-14T00:00:00+00:00",
          "2021-01-15T00:00:00+00:00",
          "2021-01-16T00:00:00+00:00",
          "2021-01-17T00:00:00+00:00",
          "2021-01-18T00:00:00+00:00",
          "2021-01-19T00:00:00+00:00",
          "2021-01-20T00:00:00+00:00",
          "2021-01-21T00:00:00+00:00",
          "2021-01-22T00:00:00+00:00",
          "2021-01-23T00:00:00+00:00",
          "2021-01-24T00:00:00+00:00",
          "2021-01-25T00:00:00+00:00",
          "2021-01-26T00:00:00+00:00",
          "2021-01-27T00:00:00+00:00",
          "2021-01-28T00:00:00+00:00",
          "2021-01-29T00:00:00+00:00",
          "2021-01-30T00:00:00+00:00",
          "2021-01-31T00:00:00+00:00",
          "2021-02-01T00:00:00+00:00",
          "2021-02-02T00:00:00+00:00",
          "2021-02-03T00:00:00+00:00",
          "2021-02-04T00:00:00+00:00",
          "2021-02-05T00:00:00+00:00",
          "2021-02-06T00:00:00+00:00",
          "2021-02-07T00:00:00+00:00",
          "2021-02-08T00:00:00+00:00",
          "2021-02-09T00:00:00+00:00",
          "2021-02-10T00:00:00+00:00",
          "2021-02-11T00:00:00+00:00",
          "2021-02-12T00:00:00+00:00",
          "2021-02-13T00:00:00+00:00",
          "2021-02-14T00:00:00+00:00",
          "2021-02-15T00:00:00+00:00",
          "2021-02-16T00:00:00+00:00",
          "2021-02-17T00:00:00+00:00",
          "2021-02-18T00:00:00+00:00",
          "2021-02-19T00:00:00+00:00",
          "2021-02-20T00:00:00+00:00",
          "2021-02-21T00:00:00+00:00",
          "2021-02-22T00:00:00+00:00",
          "2021-02-23T00:00:00+00:00",
          "2021-02-24T00:00:00+00:00",
          "2021-02-25T00:00:00+00:00",
          "2021-02-26T00:00:00+00:00",
          "2021-02-27T00:00:00+00:00",
          "2021-02-28T00:00:00+00:00",
          "2021-03-01T00:00:00+00:00",
          "2021-03-02T00:00:00+00:00",
          "2021-03-03T00:00:00+00:00",
          "2021-03-04T00:00:00+00:00",
          "2021-03-05T00:00:00+00:00",
          "2021-03-06T00:00:00+00:00",
          "2021-03-07T00:00:00+00:00",
          "2021-03-08T00:00:00+00:00",
          "2021-03-09T00:00:00+00:00",
          "2021-03-10T00:00:00+00:00",
          "2021-03-11T00:00:00+00:00",
          "2021-03-12T00:00:00+00:00",
          "2021-03-13T00:00:00+00:00",
          "2021-03-14T00:00:00+00:00",
          "2021-03-15T00:00:00+00:00",
          "2021-03-16T00:00:00+00:00",
          "2021-03-17T00:00:00+00:00",
          "2021-03-18T00:00:00+00:00",
          "2021-03-19T00:00:00+00:00",
          "2021-03-20T00:00:00+00:00",
          "2021-03-21T00:00:00+00:00",
          "2021-03-22T00:00:00+00:00",
          "2021-03-23T00:00:00+00:00",
          "2021-03-24T00:00:00+00:00",
          "2021-03-25T00:00:00+00:00",
          "2021-03-26T00:00:00+00:00",
          "2021-03-27T00:00:00+00:00",
          "2021-03-28T00:00:00+00:00",
          "2021-03-29T00:00:00+00:00",
          "2021-03-30T00:00:00+00:00",
          "2021-03-31T00:00:00+00:00",
          "2021-04-01T00:00:00+00:00",
          "2021-04-02T00:00:00+00:00",
          "2021-04-03T00:00:00+00:00",
          "2021-04-04T00:00:00+00:00",
          "2021-04-05T00:00:00+00:00",
          "2021-04-06T00:00:00+00:00",
          "2021-04-07T00:00:00+00:00",
          "2021-04-08T00:00:00+00:00",
          "2021-04-09T00:00:00+00:00",
          "2021-04-10T00:00:00+00:00",
          "2021-04-11T00:00:00+00:00",
          "2021-04-12T00:00:00+00:00",
          "2021-04-13T00:00:00+00:00",
          "2021-04-14T00:00:00+00:00",
          "2021-04-15T00:00:00+00:00",
          "2021-04-16T00:00:00+00:00",
          "2021-04-17T00:00:00+00:00",
          "2021-04-18T00:00:00+00:00",
          "2021-04-19T00:00:00+00:00",
          "2021-04-20T00:00:00+00:00",
          "2021-04-21T00:00:00+00:00",
          "2021-04-22T00:00:00+00:00",
          "2021-04-23T00:00:00+00:00",
          "2021-04-24T00:00:00+00:00",
          "2021-04-25T00:00:00+00:00",
          "2021-04-26T00:00:00+00:00",
          "2021-04-27T00:00:00+00:00",
          "2021-04-28T00:00:00+00:00",
          "2021-04-29T00:00:00+00:00",
          "2021-04-30T00:00:00+00:00",
          "2021-05-01T00:00:00+00:00",
          "2021-05-02T00:00:00+00:00",
          "2021-05-03T00:00:00+00:00",
          "2021-05-04T00:00:00+00:00",
          "2021-05-05T00:00:00+00:00",
          "2021-05-06T00:00:00+00:00",
          "2021-05-07T00:00:00+00:00",
          "2021-05-08T00:00:00+00:00",
          "2021-05-09T00:00:00+00:00",
          "2021-05-10T00:00:00+00:00",
          "2021-05-11T00:00:00+00:00",
          "2021-05-12T00:00:00+00:00",
          "2021-05-13T00:00:00+00:00",
          "2021-05-14T00:00:00+00:00",
          "2021-05-15T00:00:00+00:00",
          "2021-05-16T00:00:00+00:00",
          "2021-05-17T00:00:00+00:00",
          "2021-05-18T00:00:00+00:00",
          "2021-05-19T00:00:00+00:00",
          "2021-05-20T00:00:00+00:00",
          "2021-05-21T00:00:00+00:00",
          "2021-05-22T00:00:00+00:00",
          "2021-05-23T00:00:00+00:00",
          "2021-05-24T00:00:00+00:00",
          "2021-05-25T00:00:00+00:00",
          "2021-05-26T00:00:00+00:00",
          "2021-05-27T00:00:00+00:00",
          "2021-05-28T00:00:00+00:00",
          "2021-05-29T00:00:00+00:00",
          "2021-05-30T00:00:00+00:00",
          "2021-05-31T00:00:00+00:00",
          "2021-06-01T00:00:00+00:00",
          "2021-06-02T00:00:00+00:00",
          "2021-06-03T00:00:00+00:00",
          "2021-06-04T00:00:00+00:00",
          "2021-06-05T00:00:00+00:00",
          "2021-06-06T00:00:00+00:00",
          "2021-06-07T00:00:00+00:00",
          "2021-06-08T00:00:00+00:00",
          "2021-06-09T00:00:00+00:00",
          "2021-06-10T00:00:00+00:00",
          "2021-06-11T00:00:00+00:00",
          "2021-06-12T00:00:00+00:00",
          "2021-06-13T00:00:00+00:00",
          "2021-06-14T00:00:00+00:00",
          "2021-06-15T00:00:00+00:00",
          "2021-06-16T00:00:00+00:00",
          "2021-06-17T00:00:00+00:00",
          "2021-06-18T00:00:00+00:00",
          "2021-06-19T00:00:00+00:00",
          "2021-06-20T00:00:00+00:00",
          "2021-06-21T00:00:00+00:00",
          "2021-06-22T00:00:00+00:00",
          "2021-06-23T00:00:00+00:00",
          "2021-06-24T00:00:00+00:00",
          "2021-06-25T00:00:00+00:00",
          "2021-06-26T00:00:00+00:00",
          "2021-06-27T00:00:00+00:00",
          "2021-06-28T00:00:00+00:00",
          "2021-06-29T00:00:00+00:00",
          "2021-06-30T00:00:00+00:00",
          "2021-07-01T00:00:00+00:00",
          "2021-07-02T00:00:00+00:00",
          "2021-07-03T00:00:00+00:00",
          "2021-07-04T00:00:00+00:00",
          "2021-07-05T00:00:00+00:00",
          "2021-07-06T00:00:00+00:00",
          "2021-07-07T00:00:00+00:00",
          "2021-07-08T00:00:00+00:00",
          "2021-07-09T00:00:00+00:00",
          "2021-07-10T00:00:00+00:00",
          "2021-07-11T00:00:00+00:00",
          "2021-07-12T00:00:00+00:00",
          "2021-07-13T00:00:00+00:00",
          "2021-07-14T00:00:00+00:00",
          "2021-07-15T00:00:00+00:00",
          "2021-07-16T00:00:00+00:00",
          "2021-07-17T00:00:00+00:00",
          "2021-07-18T00:00:00+00:00",
          "2021-07-19T00:00:00+00:00",
          "2021-07-20T00:00:00+00:00",
          "2021-07-21T00:00:00+00:00",
          "2021-07-22T00:00:00+00:00",
          "2021-07-23T00:00:00+00:00",
          "2021-07-24T00:00:00+00:00",
          "2021-07-25T00:00:00+00:00",
          "2021-07-26T00:00:00+00:00",
          "2021-07-27T00:00:00+00:00",
          "2021-07-28T00:00:00+00:00",
          "2021-07-29T00:00:00+00:00",
          "2021-07-30T00:00:00+00:00",
          "2021-07-31T00:00:00+00:00",
          "2021-08-01T00:00:00+00:00",
          "2021-08-02T00:00:00+00:00",
          "2021-08-03T00:00:00+00:00",
          "2021-08-04T00:00:00+00:00",
          "2021-08-05T00:00:00+00:00",
          "2021-08-06T00:00:00+00:00",
          "2021-08-07T00:00:00+00:00",
          "2021-08-08T00:00:00+00:00",
          "2021-08-09T00:00:00+00:00",
          "2021-08-10T00:00:00+00:00",
          "2021-08-11T00:00:00+00:00",
          "2021-08-12T00:00:00+00:00",
          "2021-08-13T00:00:00+00:00",
          "2021-08-14T00:00:00+00:00",
          "2021-08-15T00:00:00+00:00",
          "2021-08-16T00:00:00+00:00",
          "2021-08-17T00:00:00+00:00"
         ],
         "y": [
          751270,
          758473,
          765350,
          772103,
          779548,
          788402,
          797723,
          808340,
          818386,
          828026,
          836718,
          846765,
          858043,
          869600,
          882418,
          896642,
          907929,
          917015,
          927380,
          939948,
          951651,
          965283,
          977474,
          989262,
          999256,
          1012350,
          1024298,
          1037993,
          1051795,
          1066313,
          1078314,
          1089308,
          1099687,
          1111671,
          1123105,
          1134854,
          1147010,
          1157837,
          1166079,
          1174779,
          1183555,
          1191990,
          1201859,
          1210703,
          1217468,
          1223930,
          1233959,
          1243646,
          1252685,
          1263299,
          1271353,
          1278653,
          1288833,
          1298608,
          1306141,
          1314634,
          1322866,
          1329074,
          1334634,
          1341314,
          1347026,
          1353834,
          1361098,
          1368069,
          1373836,
          1379662,
          1386556,
          1392945,
          1398578,
          1403722,
          1410134,
          1414741,
          1419455,
          1425044,
          1430458,
          1437283,
          1443853,
          1450132,
          1455788,
          1460184,
          1465928,
          1471225,
          1476452,
          1482559,
          1487541,
          1492002,
          1496085,
          1501093,
          1505775,
          1511712,
          1517854,
          1523179,
          1527524,
          1534255,
          1537967,
          1542516,
          1547376,
          1552880,
          1558145,
          1562868,
          1566995,
          1571824,
          1577526,
          1583182,
          1589359,
          1594722,
          1599763,
          1604348,
          1609300,
          1614849,
          1620569,
          1626812,
          1632248,
          1636792,
          1641194,
          1647138,
          1651794,
          1657035,
          1662868,
          1668368,
          1672880,
          1677274,
          1682004,
          1686373,
          1691658,
          1697305,
          1703632,
          1709762,
          1713684,
          1718575,
          1723596,
          1728204,
          1731652,
          1734285,
          1736670,
          1739750,
          1744045,
          1748230,
          1753101,
          1758898,
          1764644,
          1769940,
          1775220,
          1781127,
          1786187,
          1791221,
          1797499,
          1803361,
          1809926,
          1816041,
          1821703,
          1826527,
          1831773,
          1837126,
          1843612,
          1850206,
          1856038,
          1863031,
          1869325,
          1877050,
          1885942,
          1894025,
          1901490,
          1911358,
          1919547,
          1927708,
          1937652,
          1950276,
          1963266,
          1976172,
          1989909,
          2004445,
          2018113,
          2033421,
          2053995,
          2072867,
          2093962,
          2115304,
          2135998,
          2156465,
          2178272,
          2203108,
          2228938,
          2256851,
          2284084,
          2313829,
          2345018,
          2379397,
          2417788,
          2455912,
          2491006,
          2527203,
          2567630,
          2615529,
          2670046,
          2726803,
          2780803,
          2832755,
          2877476,
          2911733,
          2950058,
          2983830,
          3033339,
          3082410,
          3127826,
          3166505,
          3194733,
          3239936,
          3287727,
          3331206,
          3372374,
          3409658,
          3440396,
          3462800,
          3496700,
          3532567,
          3568331,
          3607863,
          3639616,
          3666031,
          3686740,
          3718821,
          3749446,
          3774155,
          3804943,
          3833541,
          3854354,
          3871738,
          3892479
         ]
        },
        {
         "mode": "lines+markers",
         "name": "Validation Data for Confirmed Cases",
         "type": "scatter",
         "x": [
          "2021-08-18T00:00:00+00:00",
          "2021-08-19T00:00:00+00:00",
          "2021-08-20T00:00:00+00:00",
          "2021-08-21T00:00:00+00:00",
          "2021-08-22T00:00:00+00:00",
          "2021-08-23T00:00:00+00:00",
          "2021-08-24T00:00:00+00:00",
          "2021-08-25T00:00:00+00:00",
          "2021-08-26T00:00:00+00:00",
          "2021-08-27T00:00:00+00:00",
          "2021-08-28T00:00:00+00:00",
          "2021-08-29T00:00:00+00:00",
          "2021-08-30T00:00:00+00:00"
         ],
         "y": [
          3908247,
          3930300,
          3950304,
          3967048,
          3979456,
          3989060,
          4008166,
          4026837,
          4043736,
          4056354,
          4066404,
          4073831,
          4089801
         ]
        },
        {
         "mode": "lines+markers",
         "name": "Prediction for Confirmed Cases",
         "type": "scatter",
         "x": [
          "2021-08-18T00:00:00+00:00",
          "2021-08-19T00:00:00+00:00",
          "2021-08-20T00:00:00+00:00",
          "2021-08-21T00:00:00+00:00",
          "2021-08-22T00:00:00+00:00",
          "2021-08-23T00:00:00+00:00",
          "2021-08-24T00:00:00+00:00",
          "2021-08-25T00:00:00+00:00",
          "2021-08-26T00:00:00+00:00",
          "2021-08-27T00:00:00+00:00",
          "2021-08-28T00:00:00+00:00",
          "2021-08-29T00:00:00+00:00",
          "2021-08-30T00:00:00+00:00"
         ],
         "y": [
          3913220,
          3933961,
          3954702,
          3975443,
          3996184,
          4016925,
          4037666,
          4058407,
          4079148,
          4099889,
          4120630,
          4141371,
          4162112
         ]
        }
       ],
       "layout": {
        "legend": {
         "traceorder": "normal",
         "x": 0,
         "y": 1
        },
        "template": {
         "data": {
          "bar": [
           {
            "error_x": {
             "color": "#2a3f5f"
            },
            "error_y": {
             "color": "#2a3f5f"
            },
            "marker": {
             "line": {
              "color": "#E5ECF6",
              "width": 0.5
             },
             "pattern": {
              "fillmode": "overlay",
              "size": 10,
              "solidity": 0.2
             }
            },
            "type": "bar"
           }
          ],
          "barpolar": [
           {
            "marker": {
             "line": {
              "color": "#E5ECF6",
              "width": 0.5
             },
             "pattern": {
              "fillmode": "overlay",
              "size": 10,
              "solidity": 0.2
             }
            },
            "type": "barpolar"
           }
          ],
          "carpet": [
           {
            "aaxis": {
             "endlinecolor": "#2a3f5f",
             "gridcolor": "white",
             "linecolor": "white",
             "minorgridcolor": "white",
             "startlinecolor": "#2a3f5f"
            },
            "baxis": {
             "endlinecolor": "#2a3f5f",
             "gridcolor": "white",
             "linecolor": "white",
             "minorgridcolor": "white",
             "startlinecolor": "#2a3f5f"
            },
            "type": "carpet"
           }
          ],
          "choropleth": [
           {
            "colorbar": {
             "outlinewidth": 0,
             "ticks": ""
            },
            "type": "choropleth"
           }
          ],
          "contour": [
           {
            "colorbar": {
             "outlinewidth": 0,
             "ticks": ""
            },
            "colorscale": [
             [
              0,
              "#0d0887"
             ],
             [
              0.1111111111111111,
              "#46039f"
             ],
             [
              0.2222222222222222,
              "#7201a8"
             ],
             [
              0.3333333333333333,
              "#9c179e"
             ],
             [
              0.4444444444444444,
              "#bd3786"
             ],
             [
              0.5555555555555556,
              "#d8576b"
             ],
             [
              0.6666666666666666,
              "#ed7953"
             ],
             [
              0.7777777777777778,
              "#fb9f3a"
             ],
             [
              0.8888888888888888,
              "#fdca26"
             ],
             [
              1,
              "#f0f921"
             ]
            ],
            "type": "contour"
           }
          ],
          "contourcarpet": [
           {
            "colorbar": {
             "outlinewidth": 0,
             "ticks": ""
            },
            "type": "contourcarpet"
           }
          ],
          "heatmap": [
           {
            "colorbar": {
             "outlinewidth": 0,
             "ticks": ""
            },
            "colorscale": [
             [
              0,
              "#0d0887"
             ],
             [
              0.1111111111111111,
              "#46039f"
             ],
             [
              0.2222222222222222,
              "#7201a8"
             ],
             [
              0.3333333333333333,
              "#9c179e"
             ],
             [
              0.4444444444444444,
              "#bd3786"
             ],
             [
              0.5555555555555556,
              "#d8576b"
             ],
             [
              0.6666666666666666,
              "#ed7953"
             ],
             [
              0.7777777777777778,
              "#fb9f3a"
             ],
             [
              0.8888888888888888,
              "#fdca26"
             ],
             [
              1,
              "#f0f921"
             ]
            ],
            "type": "heatmap"
           }
          ],
          "heatmapgl": [
           {
            "colorbar": {
             "outlinewidth": 0,
             "ticks": ""
            },
            "colorscale": [
             [
              0,
              "#0d0887"
             ],
             [
              0.1111111111111111,
              "#46039f"
             ],
             [
              0.2222222222222222,
              "#7201a8"
             ],
             [
              0.3333333333333333,
              "#9c179e"
             ],
             [
              0.4444444444444444,
              "#bd3786"
             ],
             [
              0.5555555555555556,
              "#d8576b"
             ],
             [
              0.6666666666666666,
              "#ed7953"
             ],
             [
              0.7777777777777778,
              "#fb9f3a"
             ],
             [
              0.8888888888888888,
              "#fdca26"
             ],
             [
              1,
              "#f0f921"
             ]
            ],
            "type": "heatmapgl"
           }
          ],
          "histogram": [
           {
            "marker": {
             "pattern": {
              "fillmode": "overlay",
              "size": 10,
              "solidity": 0.2
             }
            },
            "type": "histogram"
           }
          ],
          "histogram2d": [
           {
            "colorbar": {
             "outlinewidth": 0,
             "ticks": ""
            },
            "colorscale": [
             [
              0,
              "#0d0887"
             ],
             [
              0.1111111111111111,
              "#46039f"
             ],
             [
              0.2222222222222222,
              "#7201a8"
             ],
             [
              0.3333333333333333,
              "#9c179e"
             ],
             [
              0.4444444444444444,
              "#bd3786"
             ],
             [
              0.5555555555555556,
              "#d8576b"
             ],
             [
              0.6666666666666666,
              "#ed7953"
             ],
             [
              0.7777777777777778,
              "#fb9f3a"
             ],
             [
              0.8888888888888888,
              "#fdca26"
             ],
             [
              1,
              "#f0f921"
             ]
            ],
            "type": "histogram2d"
           }
          ],
          "histogram2dcontour": [
           {
            "colorbar": {
             "outlinewidth": 0,
             "ticks": ""
            },
            "colorscale": [
             [
              0,
              "#0d0887"
             ],
             [
              0.1111111111111111,
              "#46039f"
             ],
             [
              0.2222222222222222,
              "#7201a8"
             ],
             [
              0.3333333333333333,
              "#9c179e"
             ],
             [
              0.4444444444444444,
              "#bd3786"
             ],
             [
              0.5555555555555556,
              "#d8576b"
             ],
             [
              0.6666666666666666,
              "#ed7953"
             ],
             [
              0.7777777777777778,
              "#fb9f3a"
             ],
             [
              0.8888888888888888,
              "#fdca26"
             ],
             [
              1,
              "#f0f921"
             ]
            ],
            "type": "histogram2dcontour"
           }
          ],
          "mesh3d": [
           {
            "colorbar": {
             "outlinewidth": 0,
             "ticks": ""
            },
            "type": "mesh3d"
           }
          ],
          "parcoords": [
           {
            "line": {
             "colorbar": {
              "outlinewidth": 0,
              "ticks": ""
             }
            },
            "type": "parcoords"
           }
          ],
          "pie": [
           {
            "automargin": true,
            "type": "pie"
           }
          ],
          "scatter": [
           {
            "marker": {
             "colorbar": {
              "outlinewidth": 0,
              "ticks": ""
             }
            },
            "type": "scatter"
           }
          ],
          "scatter3d": [
           {
            "line": {
             "colorbar": {
              "outlinewidth": 0,
              "ticks": ""
             }
            },
            "marker": {
             "colorbar": {
              "outlinewidth": 0,
              "ticks": ""
             }
            },
            "type": "scatter3d"
           }
          ],
          "scattercarpet": [
           {
            "marker": {
             "colorbar": {
              "outlinewidth": 0,
              "ticks": ""
             }
            },
            "type": "scattercarpet"
           }
          ],
          "scattergeo": [
           {
            "marker": {
             "colorbar": {
              "outlinewidth": 0,
              "ticks": ""
             }
            },
            "type": "scattergeo"
           }
          ],
          "scattergl": [
           {
            "marker": {
             "colorbar": {
              "outlinewidth": 0,
              "ticks": ""
             }
            },
            "type": "scattergl"
           }
          ],
          "scattermapbox": [
           {
            "marker": {
             "colorbar": {
              "outlinewidth": 0,
              "ticks": ""
             }
            },
            "type": "scattermapbox"
           }
          ],
          "scatterpolar": [
           {
            "marker": {
             "colorbar": {
              "outlinewidth": 0,
              "ticks": ""
             }
            },
            "type": "scatterpolar"
           }
          ],
          "scatterpolargl": [
           {
            "marker": {
             "colorbar": {
              "outlinewidth": 0,
              "ticks": ""
             }
            },
            "type": "scatterpolargl"
           }
          ],
          "scatterternary": [
           {
            "marker": {
             "colorbar": {
              "outlinewidth": 0,
              "ticks": ""
             }
            },
            "type": "scatterternary"
           }
          ],
          "surface": [
           {
            "colorbar": {
             "outlinewidth": 0,
             "ticks": ""
            },
            "colorscale": [
             [
              0,
              "#0d0887"
             ],
             [
              0.1111111111111111,
              "#46039f"
             ],
             [
              0.2222222222222222,
              "#7201a8"
             ],
             [
              0.3333333333333333,
              "#9c179e"
             ],
             [
              0.4444444444444444,
              "#bd3786"
             ],
             [
              0.5555555555555556,
              "#d8576b"
             ],
             [
              0.6666666666666666,
              "#ed7953"
             ],
             [
              0.7777777777777778,
              "#fb9f3a"
             ],
             [
              0.8888888888888888,
              "#fdca26"
             ],
             [
              1,
              "#f0f921"
             ]
            ],
            "type": "surface"
           }
          ],
          "table": [
           {
            "cells": {
             "fill": {
              "color": "#EBF0F8"
             },
             "line": {
              "color": "white"
             }
            },
            "header": {
             "fill": {
              "color": "#C8D4E3"
             },
             "line": {
              "color": "white"
             }
            },
            "type": "table"
           }
          ]
         },
         "layout": {
          "annotationdefaults": {
           "arrowcolor": "#2a3f5f",
           "arrowhead": 0,
           "arrowwidth": 1
          },
          "autotypenumbers": "strict",
          "coloraxis": {
           "colorbar": {
            "outlinewidth": 0,
            "ticks": ""
           }
          },
          "colorscale": {
           "diverging": [
            [
             0,
             "#8e0152"
            ],
            [
             0.1,
             "#c51b7d"
            ],
            [
             0.2,
             "#de77ae"
            ],
            [
             0.3,
             "#f1b6da"
            ],
            [
             0.4,
             "#fde0ef"
            ],
            [
             0.5,
             "#f7f7f7"
            ],
            [
             0.6,
             "#e6f5d0"
            ],
            [
             0.7,
             "#b8e186"
            ],
            [
             0.8,
             "#7fbc41"
            ],
            [
             0.9,
             "#4d9221"
            ],
            [
             1,
             "#276419"
            ]
           ],
           "sequential": [
            [
             0,
             "#0d0887"
            ],
            [
             0.1111111111111111,
             "#46039f"
            ],
            [
             0.2222222222222222,
             "#7201a8"
            ],
            [
             0.3333333333333333,
             "#9c179e"
            ],
            [
             0.4444444444444444,
             "#bd3786"
            ],
            [
             0.5555555555555556,
             "#d8576b"
            ],
            [
             0.6666666666666666,
             "#ed7953"
            ],
            [
             0.7777777777777778,
             "#fb9f3a"
            ],
            [
             0.8888888888888888,
             "#fdca26"
            ],
            [
             1,
             "#f0f921"
            ]
           ],
           "sequentialminus": [
            [
             0,
             "#0d0887"
            ],
            [
             0.1111111111111111,
             "#46039f"
            ],
            [
             0.2222222222222222,
             "#7201a8"
            ],
            [
             0.3333333333333333,
             "#9c179e"
            ],
            [
             0.4444444444444444,
             "#bd3786"
            ],
            [
             0.5555555555555556,
             "#d8576b"
            ],
            [
             0.6666666666666666,
             "#ed7953"
            ],
            [
             0.7777777777777778,
             "#fb9f3a"
            ],
            [
             0.8888888888888888,
             "#fdca26"
            ],
            [
             1,
             "#f0f921"
            ]
           ]
          },
          "colorway": [
           "#636efa",
           "#EF553B",
           "#00cc96",
           "#ab63fa",
           "#FFA15A",
           "#19d3f3",
           "#FF6692",
           "#B6E880",
           "#FF97FF",
           "#FECB52"
          ],
          "font": {
           "color": "#2a3f5f"
          },
          "geo": {
           "bgcolor": "white",
           "lakecolor": "white",
           "landcolor": "#E5ECF6",
           "showlakes": true,
           "showland": true,
           "subunitcolor": "white"
          },
          "hoverlabel": {
           "align": "left"
          },
          "hovermode": "closest",
          "mapbox": {
           "style": "light"
          },
          "paper_bgcolor": "white",
          "plot_bgcolor": "#E5ECF6",
          "polar": {
           "angularaxis": {
            "gridcolor": "white",
            "linecolor": "white",
            "ticks": ""
           },
           "bgcolor": "#E5ECF6",
           "radialaxis": {
            "gridcolor": "white",
            "linecolor": "white",
            "ticks": ""
           }
          },
          "scene": {
           "xaxis": {
            "backgroundcolor": "#E5ECF6",
            "gridcolor": "white",
            "gridwidth": 2,
            "linecolor": "white",
            "showbackground": true,
            "ticks": "",
            "zerolinecolor": "white"
           },
           "yaxis": {
            "backgroundcolor": "#E5ECF6",
            "gridcolor": "white",
            "gridwidth": 2,
            "linecolor": "white",
            "showbackground": true,
            "ticks": "",
            "zerolinecolor": "white"
           },
           "zaxis": {
            "backgroundcolor": "#E5ECF6",
            "gridcolor": "white",
            "gridwidth": 2,
            "linecolor": "white",
            "showbackground": true,
            "ticks": "",
            "zerolinecolor": "white"
           }
          },
          "shapedefaults": {
           "line": {
            "color": "#2a3f5f"
           }
          },
          "ternary": {
           "aaxis": {
            "gridcolor": "white",
            "linecolor": "white",
            "ticks": ""
           },
           "baxis": {
            "gridcolor": "white",
            "linecolor": "white",
            "ticks": ""
           },
           "bgcolor": "#E5ECF6",
           "caxis": {
            "gridcolor": "white",
            "linecolor": "white",
            "ticks": ""
           }
          },
          "title": {
           "x": 0.05
          },
          "xaxis": {
           "automargin": true,
           "gridcolor": "white",
           "linecolor": "white",
           "ticks": "",
           "title": {
            "standoff": 15
           },
           "zerolinecolor": "white",
           "zerolinewidth": 2
          },
          "yaxis": {
           "automargin": true,
           "gridcolor": "white",
           "linecolor": "white",
           "ticks": "",
           "title": {
            "standoff": 15
           },
           "zerolinecolor": "white",
           "zerolinewidth": 2
          }
         }
        },
        "title": {
         "text": "Confirmed Cases ARIMA Model Prediction"
        },
        "xaxis": {
         "title": {
          "text": "Date"
         }
        },
        "yaxis": {
         "title": {
          "text": "Confirmed Cases"
         }
        }
       }
      },
      "text/html": [
       "<div>                            <div id=\"16d1e629-b624-4cde-bc4a-2eebca74d7d8\" class=\"plotly-graph-div\" style=\"height:525px; width:100%;\"></div>            <script type=\"text/javascript\">                require([\"plotly\"], function(Plotly) {                    window.PLOTLYENV=window.PLOTLYENV || {};                                    if (document.getElementById(\"16d1e629-b624-4cde-bc4a-2eebca74d7d8\")) {                    Plotly.newPlot(                        \"16d1e629-b624-4cde-bc4a-2eebca74d7d8\",                        [{\"mode\":\"lines+markers\",\"name\":\"Train Data for Confirmed Cases\",\"type\":\"scatter\",\"x\":[\"2021-01-01T00:00:00+00:00\",\"2021-01-02T00:00:00+00:00\",\"2021-01-03T00:00:00+00:00\",\"2021-01-04T00:00:00+00:00\",\"2021-01-05T00:00:00+00:00\",\"2021-01-06T00:00:00+00:00\",\"2021-01-07T00:00:00+00:00\",\"2021-01-08T00:00:00+00:00\",\"2021-01-09T00:00:00+00:00\",\"2021-01-10T00:00:00+00:00\",\"2021-01-11T00:00:00+00:00\",\"2021-01-12T00:00:00+00:00\",\"2021-01-13T00:00:00+00:00\",\"2021-01-14T00:00:00+00:00\",\"2021-01-15T00:00:00+00:00\",\"2021-01-16T00:00:00+00:00\",\"2021-01-17T00:00:00+00:00\",\"2021-01-18T00:00:00+00:00\",\"2021-01-19T00:00:00+00:00\",\"2021-01-20T00:00:00+00:00\",\"2021-01-21T00:00:00+00:00\",\"2021-01-22T00:00:00+00:00\",\"2021-01-23T00:00:00+00:00\",\"2021-01-24T00:00:00+00:00\",\"2021-01-25T00:00:00+00:00\",\"2021-01-26T00:00:00+00:00\",\"2021-01-27T00:00:00+00:00\",\"2021-01-28T00:00:00+00:00\",\"2021-01-29T00:00:00+00:00\",\"2021-01-30T00:00:00+00:00\",\"2021-01-31T00:00:00+00:00\",\"2021-02-01T00:00:00+00:00\",\"2021-02-02T00:00:00+00:00\",\"2021-02-03T00:00:00+00:00\",\"2021-02-04T00:00:00+00:00\",\"2021-02-05T00:00:00+00:00\",\"2021-02-06T00:00:00+00:00\",\"2021-02-07T00:00:00+00:00\",\"2021-02-08T00:00:00+00:00\",\"2021-02-09T00:00:00+00:00\",\"2021-02-10T00:00:00+00:00\",\"2021-02-11T00:00:00+00:00\",\"2021-02-12T00:00:00+00:00\",\"2021-02-13T00:00:00+00:00\",\"2021-02-14T00:00:00+00:00\",\"2021-02-15T00:00:00+00:00\",\"2021-02-16T00:00:00+00:00\",\"2021-02-17T00:00:00+00:00\",\"2021-02-18T00:00:00+00:00\",\"2021-02-19T00:00:00+00:00\",\"2021-02-20T00:00:00+00:00\",\"2021-02-21T00:00:00+00:00\",\"2021-02-22T00:00:00+00:00\",\"2021-02-23T00:00:00+00:00\",\"2021-02-24T00:00:00+00:00\",\"2021-02-25T00:00:00+00:00\",\"2021-02-26T00:00:00+00:00\",\"2021-02-27T00:00:00+00:00\",\"2021-02-28T00:00:00+00:00\",\"2021-03-01T00:00:00+00:00\",\"2021-03-02T00:00:00+00:00\",\"2021-03-03T00:00:00+00:00\",\"2021-03-04T00:00:00+00:00\",\"2021-03-05T00:00:00+00:00\",\"2021-03-06T00:00:00+00:00\",\"2021-03-07T00:00:00+00:00\",\"2021-03-08T00:00:00+00:00\",\"2021-03-09T00:00:00+00:00\",\"2021-03-10T00:00:00+00:00\",\"2021-03-11T00:00:00+00:00\",\"2021-03-12T00:00:00+00:00\",\"2021-03-13T00:00:00+00:00\",\"2021-03-14T00:00:00+00:00\",\"2021-03-15T00:00:00+00:00\",\"2021-03-16T00:00:00+00:00\",\"2021-03-17T00:00:00+00:00\",\"2021-03-18T00:00:00+00:00\",\"2021-03-19T00:00:00+00:00\",\"2021-03-20T00:00:00+00:00\",\"2021-03-21T00:00:00+00:00\",\"2021-03-22T00:00:00+00:00\",\"2021-03-23T00:00:00+00:00\",\"2021-03-24T00:00:00+00:00\",\"2021-03-25T00:00:00+00:00\",\"2021-03-26T00:00:00+00:00\",\"2021-03-27T00:00:00+00:00\",\"2021-03-28T00:00:00+00:00\",\"2021-03-29T00:00:00+00:00\",\"2021-03-30T00:00:00+00:00\",\"2021-03-31T00:00:00+00:00\",\"2021-04-01T00:00:00+00:00\",\"2021-04-02T00:00:00+00:00\",\"2021-04-03T00:00:00+00:00\",\"2021-04-04T00:00:00+00:00\",\"2021-04-05T00:00:00+00:00\",\"2021-04-06T00:00:00+00:00\",\"2021-04-07T00:00:00+00:00\",\"2021-04-08T00:00:00+00:00\",\"2021-04-09T00:00:00+00:00\",\"2021-04-10T00:00:00+00:00\",\"2021-04-11T00:00:00+00:00\",\"2021-04-12T00:00:00+00:00\",\"2021-04-13T00:00:00+00:00\",\"2021-04-14T00:00:00+00:00\",\"2021-04-15T00:00:00+00:00\",\"2021-04-16T00:00:00+00:00\",\"2021-04-17T00:00:00+00:00\",\"2021-04-18T00:00:00+00:00\",\"2021-04-19T00:00:00+00:00\",\"2021-04-20T00:00:00+00:00\",\"2021-04-21T00:00:00+00:00\",\"2021-04-22T00:00:00+00:00\",\"2021-04-23T00:00:00+00:00\",\"2021-04-24T00:00:00+00:00\",\"2021-04-25T00:00:00+00:00\",\"2021-04-26T00:00:00+00:00\",\"2021-04-27T00:00:00+00:00\",\"2021-04-28T00:00:00+00:00\",\"2021-04-29T00:00:00+00:00\",\"2021-04-30T00:00:00+00:00\",\"2021-05-01T00:00:00+00:00\",\"2021-05-02T00:00:00+00:00\",\"2021-05-03T00:00:00+00:00\",\"2021-05-04T00:00:00+00:00\",\"2021-05-05T00:00:00+00:00\",\"2021-05-06T00:00:00+00:00\",\"2021-05-07T00:00:00+00:00\",\"2021-05-08T00:00:00+00:00\",\"2021-05-09T00:00:00+00:00\",\"2021-05-10T00:00:00+00:00\",\"2021-05-11T00:00:00+00:00\",\"2021-05-12T00:00:00+00:00\",\"2021-05-13T00:00:00+00:00\",\"2021-05-14T00:00:00+00:00\",\"2021-05-15T00:00:00+00:00\",\"2021-05-16T00:00:00+00:00\",\"2021-05-17T00:00:00+00:00\",\"2021-05-18T00:00:00+00:00\",\"2021-05-19T00:00:00+00:00\",\"2021-05-20T00:00:00+00:00\",\"2021-05-21T00:00:00+00:00\",\"2021-05-22T00:00:00+00:00\",\"2021-05-23T00:00:00+00:00\",\"2021-05-24T00:00:00+00:00\",\"2021-05-25T00:00:00+00:00\",\"2021-05-26T00:00:00+00:00\",\"2021-05-27T00:00:00+00:00\",\"2021-05-28T00:00:00+00:00\",\"2021-05-29T00:00:00+00:00\",\"2021-05-30T00:00:00+00:00\",\"2021-05-31T00:00:00+00:00\",\"2021-06-01T00:00:00+00:00\",\"2021-06-02T00:00:00+00:00\",\"2021-06-03T00:00:00+00:00\",\"2021-06-04T00:00:00+00:00\",\"2021-06-05T00:00:00+00:00\",\"2021-06-06T00:00:00+00:00\",\"2021-06-07T00:00:00+00:00\",\"2021-06-08T00:00:00+00:00\",\"2021-06-09T00:00:00+00:00\",\"2021-06-10T00:00:00+00:00\",\"2021-06-11T00:00:00+00:00\",\"2021-06-12T00:00:00+00:00\",\"2021-06-13T00:00:00+00:00\",\"2021-06-14T00:00:00+00:00\",\"2021-06-15T00:00:00+00:00\",\"2021-06-16T00:00:00+00:00\",\"2021-06-17T00:00:00+00:00\",\"2021-06-18T00:00:00+00:00\",\"2021-06-19T00:00:00+00:00\",\"2021-06-20T00:00:00+00:00\",\"2021-06-21T00:00:00+00:00\",\"2021-06-22T00:00:00+00:00\",\"2021-06-23T00:00:00+00:00\",\"2021-06-24T00:00:00+00:00\",\"2021-06-25T00:00:00+00:00\",\"2021-06-26T00:00:00+00:00\",\"2021-06-27T00:00:00+00:00\",\"2021-06-28T00:00:00+00:00\",\"2021-06-29T00:00:00+00:00\",\"2021-06-30T00:00:00+00:00\",\"2021-07-01T00:00:00+00:00\",\"2021-07-02T00:00:00+00:00\",\"2021-07-03T00:00:00+00:00\",\"2021-07-04T00:00:00+00:00\",\"2021-07-05T00:00:00+00:00\",\"2021-07-06T00:00:00+00:00\",\"2021-07-07T00:00:00+00:00\",\"2021-07-08T00:00:00+00:00\",\"2021-07-09T00:00:00+00:00\",\"2021-07-10T00:00:00+00:00\",\"2021-07-11T00:00:00+00:00\",\"2021-07-12T00:00:00+00:00\",\"2021-07-13T00:00:00+00:00\",\"2021-07-14T00:00:00+00:00\",\"2021-07-15T00:00:00+00:00\",\"2021-07-16T00:00:00+00:00\",\"2021-07-17T00:00:00+00:00\",\"2021-07-18T00:00:00+00:00\",\"2021-07-19T00:00:00+00:00\",\"2021-07-20T00:00:00+00:00\",\"2021-07-21T00:00:00+00:00\",\"2021-07-22T00:00:00+00:00\",\"2021-07-23T00:00:00+00:00\",\"2021-07-24T00:00:00+00:00\",\"2021-07-25T00:00:00+00:00\",\"2021-07-26T00:00:00+00:00\",\"2021-07-27T00:00:00+00:00\",\"2021-07-28T00:00:00+00:00\",\"2021-07-29T00:00:00+00:00\",\"2021-07-30T00:00:00+00:00\",\"2021-07-31T00:00:00+00:00\",\"2021-08-01T00:00:00+00:00\",\"2021-08-02T00:00:00+00:00\",\"2021-08-03T00:00:00+00:00\",\"2021-08-04T00:00:00+00:00\",\"2021-08-05T00:00:00+00:00\",\"2021-08-06T00:00:00+00:00\",\"2021-08-07T00:00:00+00:00\",\"2021-08-08T00:00:00+00:00\",\"2021-08-09T00:00:00+00:00\",\"2021-08-10T00:00:00+00:00\",\"2021-08-11T00:00:00+00:00\",\"2021-08-12T00:00:00+00:00\",\"2021-08-13T00:00:00+00:00\",\"2021-08-14T00:00:00+00:00\",\"2021-08-15T00:00:00+00:00\",\"2021-08-16T00:00:00+00:00\",\"2021-08-17T00:00:00+00:00\"],\"y\":[751270,758473,765350,772103,779548,788402,797723,808340,818386,828026,836718,846765,858043,869600,882418,896642,907929,917015,927380,939948,951651,965283,977474,989262,999256,1012350,1024298,1037993,1051795,1066313,1078314,1089308,1099687,1111671,1123105,1134854,1147010,1157837,1166079,1174779,1183555,1191990,1201859,1210703,1217468,1223930,1233959,1243646,1252685,1263299,1271353,1278653,1288833,1298608,1306141,1314634,1322866,1329074,1334634,1341314,1347026,1353834,1361098,1368069,1373836,1379662,1386556,1392945,1398578,1403722,1410134,1414741,1419455,1425044,1430458,1437283,1443853,1450132,1455788,1460184,1465928,1471225,1476452,1482559,1487541,1492002,1496085,1501093,1505775,1511712,1517854,1523179,1527524,1534255,1537967,1542516,1547376,1552880,1558145,1562868,1566995,1571824,1577526,1583182,1589359,1594722,1599763,1604348,1609300,1614849,1620569,1626812,1632248,1636792,1641194,1647138,1651794,1657035,1662868,1668368,1672880,1677274,1682004,1686373,1691658,1697305,1703632,1709762,1713684,1718575,1723596,1728204,1731652,1734285,1736670,1739750,1744045,1748230,1753101,1758898,1764644,1769940,1775220,1781127,1786187,1791221,1797499,1803361,1809926,1816041,1821703,1826527,1831773,1837126,1843612,1850206,1856038,1863031,1869325,1877050,1885942,1894025,1901490,1911358,1919547,1927708,1937652,1950276,1963266,1976172,1989909,2004445,2018113,2033421,2053995,2072867,2093962,2115304,2135998,2156465,2178272,2203108,2228938,2256851,2284084,2313829,2345018,2379397,2417788,2455912,2491006,2527203,2567630,2615529,2670046,2726803,2780803,2832755,2877476,2911733,2950058,2983830,3033339,3082410,3127826,3166505,3194733,3239936,3287727,3331206,3372374,3409658,3440396,3462800,3496700,3532567,3568331,3607863,3639616,3666031,3686740,3718821,3749446,3774155,3804943,3833541,3854354,3871738,3892479]},{\"mode\":\"lines+markers\",\"name\":\"Validation Data for Confirmed Cases\",\"type\":\"scatter\",\"x\":[\"2021-08-18T00:00:00+00:00\",\"2021-08-19T00:00:00+00:00\",\"2021-08-20T00:00:00+00:00\",\"2021-08-21T00:00:00+00:00\",\"2021-08-22T00:00:00+00:00\",\"2021-08-23T00:00:00+00:00\",\"2021-08-24T00:00:00+00:00\",\"2021-08-25T00:00:00+00:00\",\"2021-08-26T00:00:00+00:00\",\"2021-08-27T00:00:00+00:00\",\"2021-08-28T00:00:00+00:00\",\"2021-08-29T00:00:00+00:00\",\"2021-08-30T00:00:00+00:00\"],\"y\":[3908247,3930300,3950304,3967048,3979456,3989060,4008166,4026837,4043736,4056354,4066404,4073831,4089801]},{\"mode\":\"lines+markers\",\"name\":\"Prediction for Confirmed Cases\",\"type\":\"scatter\",\"x\":[\"2021-08-18T00:00:00+00:00\",\"2021-08-19T00:00:00+00:00\",\"2021-08-20T00:00:00+00:00\",\"2021-08-21T00:00:00+00:00\",\"2021-08-22T00:00:00+00:00\",\"2021-08-23T00:00:00+00:00\",\"2021-08-24T00:00:00+00:00\",\"2021-08-25T00:00:00+00:00\",\"2021-08-26T00:00:00+00:00\",\"2021-08-27T00:00:00+00:00\",\"2021-08-28T00:00:00+00:00\",\"2021-08-29T00:00:00+00:00\",\"2021-08-30T00:00:00+00:00\"],\"y\":[3913220.0,3933961.0,3954702.0,3975443.0,3996184.0,4016925.0,4037666.0,4058407.0,4079148.0,4099889.0,4120630.0,4141371.0,4162112.0]}],                        {\"legend\":{\"traceorder\":\"normal\",\"x\":0,\"y\":1},\"template\":{\"data\":{\"bar\":[{\"error_x\":{\"color\":\"#2a3f5f\"},\"error_y\":{\"color\":\"#2a3f5f\"},\"marker\":{\"line\":{\"color\":\"#E5ECF6\",\"width\":0.5},\"pattern\":{\"fillmode\":\"overlay\",\"size\":10,\"solidity\":0.2}},\"type\":\"bar\"}],\"barpolar\":[{\"marker\":{\"line\":{\"color\":\"#E5ECF6\",\"width\":0.5},\"pattern\":{\"fillmode\":\"overlay\",\"size\":10,\"solidity\":0.2}},\"type\":\"barpolar\"}],\"carpet\":[{\"aaxis\":{\"endlinecolor\":\"#2a3f5f\",\"gridcolor\":\"white\",\"linecolor\":\"white\",\"minorgridcolor\":\"white\",\"startlinecolor\":\"#2a3f5f\"},\"baxis\":{\"endlinecolor\":\"#2a3f5f\",\"gridcolor\":\"white\",\"linecolor\":\"white\",\"minorgridcolor\":\"white\",\"startlinecolor\":\"#2a3f5f\"},\"type\":\"carpet\"}],\"choropleth\":[{\"colorbar\":{\"outlinewidth\":0,\"ticks\":\"\"},\"type\":\"choropleth\"}],\"contour\":[{\"colorbar\":{\"outlinewidth\":0,\"ticks\":\"\"},\"colorscale\":[[0.0,\"#0d0887\"],[0.1111111111111111,\"#46039f\"],[0.2222222222222222,\"#7201a8\"],[0.3333333333333333,\"#9c179e\"],[0.4444444444444444,\"#bd3786\"],[0.5555555555555556,\"#d8576b\"],[0.6666666666666666,\"#ed7953\"],[0.7777777777777778,\"#fb9f3a\"],[0.8888888888888888,\"#fdca26\"],[1.0,\"#f0f921\"]],\"type\":\"contour\"}],\"contourcarpet\":[{\"colorbar\":{\"outlinewidth\":0,\"ticks\":\"\"},\"type\":\"contourcarpet\"}],\"heatmap\":[{\"colorbar\":{\"outlinewidth\":0,\"ticks\":\"\"},\"colorscale\":[[0.0,\"#0d0887\"],[0.1111111111111111,\"#46039f\"],[0.2222222222222222,\"#7201a8\"],[0.3333333333333333,\"#9c179e\"],[0.4444444444444444,\"#bd3786\"],[0.5555555555555556,\"#d8576b\"],[0.6666666666666666,\"#ed7953\"],[0.7777777777777778,\"#fb9f3a\"],[0.8888888888888888,\"#fdca26\"],[1.0,\"#f0f921\"]],\"type\":\"heatmap\"}],\"heatmapgl\":[{\"colorbar\":{\"outlinewidth\":0,\"ticks\":\"\"},\"colorscale\":[[0.0,\"#0d0887\"],[0.1111111111111111,\"#46039f\"],[0.2222222222222222,\"#7201a8\"],[0.3333333333333333,\"#9c179e\"],[0.4444444444444444,\"#bd3786\"],[0.5555555555555556,\"#d8576b\"],[0.6666666666666666,\"#ed7953\"],[0.7777777777777778,\"#fb9f3a\"],[0.8888888888888888,\"#fdca26\"],[1.0,\"#f0f921\"]],\"type\":\"heatmapgl\"}],\"histogram\":[{\"marker\":{\"pattern\":{\"fillmode\":\"overlay\",\"size\":10,\"solidity\":0.2}},\"type\":\"histogram\"}],\"histogram2d\":[{\"colorbar\":{\"outlinewidth\":0,\"ticks\":\"\"},\"colorscale\":[[0.0,\"#0d0887\"],[0.1111111111111111,\"#46039f\"],[0.2222222222222222,\"#7201a8\"],[0.3333333333333333,\"#9c179e\"],[0.4444444444444444,\"#bd3786\"],[0.5555555555555556,\"#d8576b\"],[0.6666666666666666,\"#ed7953\"],[0.7777777777777778,\"#fb9f3a\"],[0.8888888888888888,\"#fdca26\"],[1.0,\"#f0f921\"]],\"type\":\"histogram2d\"}],\"histogram2dcontour\":[{\"colorbar\":{\"outlinewidth\":0,\"ticks\":\"\"},\"colorscale\":[[0.0,\"#0d0887\"],[0.1111111111111111,\"#46039f\"],[0.2222222222222222,\"#7201a8\"],[0.3333333333333333,\"#9c179e\"],[0.4444444444444444,\"#bd3786\"],[0.5555555555555556,\"#d8576b\"],[0.6666666666666666,\"#ed7953\"],[0.7777777777777778,\"#fb9f3a\"],[0.8888888888888888,\"#fdca26\"],[1.0,\"#f0f921\"]],\"type\":\"histogram2dcontour\"}],\"mesh3d\":[{\"colorbar\":{\"outlinewidth\":0,\"ticks\":\"\"},\"type\":\"mesh3d\"}],\"parcoords\":[{\"line\":{\"colorbar\":{\"outlinewidth\":0,\"ticks\":\"\"}},\"type\":\"parcoords\"}],\"pie\":[{\"automargin\":true,\"type\":\"pie\"}],\"scatter\":[{\"marker\":{\"colorbar\":{\"outlinewidth\":0,\"ticks\":\"\"}},\"type\":\"scatter\"}],\"scatter3d\":[{\"line\":{\"colorbar\":{\"outlinewidth\":0,\"ticks\":\"\"}},\"marker\":{\"colorbar\":{\"outlinewidth\":0,\"ticks\":\"\"}},\"type\":\"scatter3d\"}],\"scattercarpet\":[{\"marker\":{\"colorbar\":{\"outlinewidth\":0,\"ticks\":\"\"}},\"type\":\"scattercarpet\"}],\"scattergeo\":[{\"marker\":{\"colorbar\":{\"outlinewidth\":0,\"ticks\":\"\"}},\"type\":\"scattergeo\"}],\"scattergl\":[{\"marker\":{\"colorbar\":{\"outlinewidth\":0,\"ticks\":\"\"}},\"type\":\"scattergl\"}],\"scattermapbox\":[{\"marker\":{\"colorbar\":{\"outlinewidth\":0,\"ticks\":\"\"}},\"type\":\"scattermapbox\"}],\"scatterpolar\":[{\"marker\":{\"colorbar\":{\"outlinewidth\":0,\"ticks\":\"\"}},\"type\":\"scatterpolar\"}],\"scatterpolargl\":[{\"marker\":{\"colorbar\":{\"outlinewidth\":0,\"ticks\":\"\"}},\"type\":\"scatterpolargl\"}],\"scatterternary\":[{\"marker\":{\"colorbar\":{\"outlinewidth\":0,\"ticks\":\"\"}},\"type\":\"scatterternary\"}],\"surface\":[{\"colorbar\":{\"outlinewidth\":0,\"ticks\":\"\"},\"colorscale\":[[0.0,\"#0d0887\"],[0.1111111111111111,\"#46039f\"],[0.2222222222222222,\"#7201a8\"],[0.3333333333333333,\"#9c179e\"],[0.4444444444444444,\"#bd3786\"],[0.5555555555555556,\"#d8576b\"],[0.6666666666666666,\"#ed7953\"],[0.7777777777777778,\"#fb9f3a\"],[0.8888888888888888,\"#fdca26\"],[1.0,\"#f0f921\"]],\"type\":\"surface\"}],\"table\":[{\"cells\":{\"fill\":{\"color\":\"#EBF0F8\"},\"line\":{\"color\":\"white\"}},\"header\":{\"fill\":{\"color\":\"#C8D4E3\"},\"line\":{\"color\":\"white\"}},\"type\":\"table\"}]},\"layout\":{\"annotationdefaults\":{\"arrowcolor\":\"#2a3f5f\",\"arrowhead\":0,\"arrowwidth\":1},\"autotypenumbers\":\"strict\",\"coloraxis\":{\"colorbar\":{\"outlinewidth\":0,\"ticks\":\"\"}},\"colorscale\":{\"diverging\":[[0,\"#8e0152\"],[0.1,\"#c51b7d\"],[0.2,\"#de77ae\"],[0.3,\"#f1b6da\"],[0.4,\"#fde0ef\"],[0.5,\"#f7f7f7\"],[0.6,\"#e6f5d0\"],[0.7,\"#b8e186\"],[0.8,\"#7fbc41\"],[0.9,\"#4d9221\"],[1,\"#276419\"]],\"sequential\":[[0.0,\"#0d0887\"],[0.1111111111111111,\"#46039f\"],[0.2222222222222222,\"#7201a8\"],[0.3333333333333333,\"#9c179e\"],[0.4444444444444444,\"#bd3786\"],[0.5555555555555556,\"#d8576b\"],[0.6666666666666666,\"#ed7953\"],[0.7777777777777778,\"#fb9f3a\"],[0.8888888888888888,\"#fdca26\"],[1.0,\"#f0f921\"]],\"sequentialminus\":[[0.0,\"#0d0887\"],[0.1111111111111111,\"#46039f\"],[0.2222222222222222,\"#7201a8\"],[0.3333333333333333,\"#9c179e\"],[0.4444444444444444,\"#bd3786\"],[0.5555555555555556,\"#d8576b\"],[0.6666666666666666,\"#ed7953\"],[0.7777777777777778,\"#fb9f3a\"],[0.8888888888888888,\"#fdca26\"],[1.0,\"#f0f921\"]]},\"colorway\":[\"#636efa\",\"#EF553B\",\"#00cc96\",\"#ab63fa\",\"#FFA15A\",\"#19d3f3\",\"#FF6692\",\"#B6E880\",\"#FF97FF\",\"#FECB52\"],\"font\":{\"color\":\"#2a3f5f\"},\"geo\":{\"bgcolor\":\"white\",\"lakecolor\":\"white\",\"landcolor\":\"#E5ECF6\",\"showlakes\":true,\"showland\":true,\"subunitcolor\":\"white\"},\"hoverlabel\":{\"align\":\"left\"},\"hovermode\":\"closest\",\"mapbox\":{\"style\":\"light\"},\"paper_bgcolor\":\"white\",\"plot_bgcolor\":\"#E5ECF6\",\"polar\":{\"angularaxis\":{\"gridcolor\":\"white\",\"linecolor\":\"white\",\"ticks\":\"\"},\"bgcolor\":\"#E5ECF6\",\"radialaxis\":{\"gridcolor\":\"white\",\"linecolor\":\"white\",\"ticks\":\"\"}},\"scene\":{\"xaxis\":{\"backgroundcolor\":\"#E5ECF6\",\"gridcolor\":\"white\",\"gridwidth\":2,\"linecolor\":\"white\",\"showbackground\":true,\"ticks\":\"\",\"zerolinecolor\":\"white\"},\"yaxis\":{\"backgroundcolor\":\"#E5ECF6\",\"gridcolor\":\"white\",\"gridwidth\":2,\"linecolor\":\"white\",\"showbackground\":true,\"ticks\":\"\",\"zerolinecolor\":\"white\"},\"zaxis\":{\"backgroundcolor\":\"#E5ECF6\",\"gridcolor\":\"white\",\"gridwidth\":2,\"linecolor\":\"white\",\"showbackground\":true,\"ticks\":\"\",\"zerolinecolor\":\"white\"}},\"shapedefaults\":{\"line\":{\"color\":\"#2a3f5f\"}},\"ternary\":{\"aaxis\":{\"gridcolor\":\"white\",\"linecolor\":\"white\",\"ticks\":\"\"},\"baxis\":{\"gridcolor\":\"white\",\"linecolor\":\"white\",\"ticks\":\"\"},\"bgcolor\":\"#E5ECF6\",\"caxis\":{\"gridcolor\":\"white\",\"linecolor\":\"white\",\"ticks\":\"\"}},\"title\":{\"x\":0.05},\"xaxis\":{\"automargin\":true,\"gridcolor\":\"white\",\"linecolor\":\"white\",\"ticks\":\"\",\"title\":{\"standoff\":15},\"zerolinecolor\":\"white\",\"zerolinewidth\":2},\"yaxis\":{\"automargin\":true,\"gridcolor\":\"white\",\"linecolor\":\"white\",\"ticks\":\"\",\"title\":{\"standoff\":15},\"zerolinecolor\":\"white\",\"zerolinewidth\":2}}},\"title\":{\"text\":\"Confirmed Cases ARIMA Model Prediction\"},\"xaxis\":{\"title\":{\"text\":\"Date\"}},\"yaxis\":{\"title\":{\"text\":\"Confirmed Cases\"}}},                        {\"responsive\": true}                    ).then(function(){\n",
       "                            \n",
       "var gd = document.getElementById('16d1e629-b624-4cde-bc4a-2eebca74d7d8');\n",
       "var x = new MutationObserver(function (mutations, observer) {{\n",
       "        var display = window.getComputedStyle(gd).display;\n",
       "        if (!display || display === 'none') {{\n",
       "            console.log([gd, 'removed!']);\n",
       "            Plotly.purge(gd);\n",
       "            observer.disconnect();\n",
       "        }}\n",
       "}});\n",
       "\n",
       "// Listen for the removal of the full notebook cells\n",
       "var notebookContainer = gd.closest('#notebook-container');\n",
       "if (notebookContainer) {{\n",
       "    x.observe(notebookContainer, {childList: true});\n",
       "}}\n",
       "\n",
       "// Listen for the clearing of the current output cell\n",
       "var outputEl = gd.closest('.output');\n",
       "if (outputEl) {{\n",
       "    x.observe(outputEl, {childList: true});\n",
       "}}\n",
       "\n",
       "                        })                };                });            </script>        </div>"
      ]
     },
     "metadata": {},
     "output_type": "display_data"
    }
   ],
   "source": [
    "fig=go.Figure()\n",
    "fig.add_trace(go.Scatter(x=model_train.index, y=model_train.Cases,\n",
    "                    mode='lines+markers',name=\"Train Data for Confirmed Cases\"))\n",
    "fig.add_trace(go.Scatter(x=valid.index, y=valid.Cases,\n",
    "                    mode='lines+markers',name=\"Validation Data for Confirmed Cases\",))\n",
    "fig.add_trace(go.Scatter(x=valid.index, y=y_pred[\"ARIMA Model Prediction\"],\n",
    "                    mode='lines+markers',name=\"Prediction for Confirmed Cases\",))\n",
    "fig.update_layout(title=\"Confirmed Cases ARIMA Model Prediction\",\n",
    "                 xaxis_title=\"Date\",yaxis_title=\"Confirmed Cases\",legend=dict(x=0,y=1,traceorder=\"normal\"))\n",
    "fig.show()"
   ]
  },
  {
   "cell_type": "markdown",
   "metadata": {},
   "source": [
    "# 2. SARIMA MODEL"
   ]
  },
  {
   "cell_type": "code",
   "execution_count": 124,
   "metadata": {},
   "outputs": [
    {
     "name": "stdout",
     "output_type": "stream",
     "text": [
      "Performing stepwise search to minimize aic\n",
      " ARIMA(0,2,0)(1,0,1)[8]             : AIC=4290.648, Time=0.10 sec\n",
      " ARIMA(0,2,0)(0,0,0)[8]             : AIC=4285.866, Time=0.01 sec\n",
      " ARIMA(1,2,0)(1,0,0)[8]             : AIC=4289.852, Time=0.05 sec\n",
      " ARIMA(0,2,1)(0,0,1)[8]             : AIC=4289.875, Time=0.06 sec\n",
      " ARIMA(0,2,0)(1,0,0)[8]             : AIC=4287.982, Time=0.12 sec\n",
      " ARIMA(0,2,0)(0,0,1)[8]             : AIC=4287.857, Time=0.17 sec\n",
      " ARIMA(1,2,0)(0,0,0)[8]             : AIC=4287.852, Time=0.05 sec\n",
      " ARIMA(0,2,1)(0,0,0)[8]             : AIC=4287.875, Time=0.05 sec\n",
      " ARIMA(1,2,1)(0,0,0)[8]             : AIC=4289.861, Time=0.12 sec\n",
      " ARIMA(0,2,0)(0,0,0)[8] intercept   : AIC=4287.770, Time=0.05 sec\n",
      "\n",
      "Best model:  ARIMA(0,2,0)(0,0,0)[8]          \n",
      "Total fit time: 0.842 seconds\n"
     ]
    },
    {
     "data": {
      "text/plain": [
       "ARIMA(order=(0, 2, 0), scoring_args={}, seasonal_order=(0, 0, 0, 8),\n",
       "      suppress_warnings=True, with_intercept=False)"
      ]
     },
     "execution_count": 124,
     "metadata": {},
     "output_type": "execute_result"
    }
   ],
   "source": [
    "model_sarima= auto_arima(model_train.Cases,trace=True, error_action='ignore', \n",
    "                         start_p=0,start_q=0,max_p=2,max_q=2,m=8,\n",
    "                   suppress_warnings=True,stepwise=True,seasonal=True)\n",
    "model_sarima.fit(model_train[\"Cases\"])\n"
   ]
  },
  {
   "cell_type": "code",
   "execution_count": 125,
   "metadata": {},
   "outputs": [],
   "source": [
    "prediction_sarima=model_sarima.predict(len(valid))\n",
    "y_pred[\"SARIMA Model Prediction\"]=prediction_sarima"
   ]
  },
  {
   "cell_type": "code",
   "execution_count": 126,
   "metadata": {},
   "outputs": [
    {
     "name": "stdout",
     "output_type": "stream",
     "text": [
      "Root Mean Square Error for SARIMA Model:  38161.04392419861\n"
     ]
    }
   ],
   "source": [
    "model_scores.append(np.sqrt(mean_squared_error(y_pred[\"Cases\"],y_pred[\"SARIMA Model Prediction\"])))\n",
    "print(\"Root Mean Square Error for SARIMA Model: \",np.sqrt(mean_squared_error(y_pred[\"Cases\"],y_pred[\"SARIMA Model Prediction\"])))\n"
   ]
  },
  {
   "cell_type": "code",
   "execution_count": 127,
   "metadata": {},
   "outputs": [
    {
     "data": {
      "application/vnd.plotly.v1+json": {
       "config": {
        "plotlyServerURL": "https://plot.ly"
       },
       "data": [
        {
         "mode": "lines+markers",
         "name": "Train Data for Confirmed Cases",
         "type": "scatter",
         "x": [
          "2021-01-01T00:00:00+00:00",
          "2021-01-02T00:00:00+00:00",
          "2021-01-03T00:00:00+00:00",
          "2021-01-04T00:00:00+00:00",
          "2021-01-05T00:00:00+00:00",
          "2021-01-06T00:00:00+00:00",
          "2021-01-07T00:00:00+00:00",
          "2021-01-08T00:00:00+00:00",
          "2021-01-09T00:00:00+00:00",
          "2021-01-10T00:00:00+00:00",
          "2021-01-11T00:00:00+00:00",
          "2021-01-12T00:00:00+00:00",
          "2021-01-13T00:00:00+00:00",
          "2021-01-14T00:00:00+00:00",
          "2021-01-15T00:00:00+00:00",
          "2021-01-16T00:00:00+00:00",
          "2021-01-17T00:00:00+00:00",
          "2021-01-18T00:00:00+00:00",
          "2021-01-19T00:00:00+00:00",
          "2021-01-20T00:00:00+00:00",
          "2021-01-21T00:00:00+00:00",
          "2021-01-22T00:00:00+00:00",
          "2021-01-23T00:00:00+00:00",
          "2021-01-24T00:00:00+00:00",
          "2021-01-25T00:00:00+00:00",
          "2021-01-26T00:00:00+00:00",
          "2021-01-27T00:00:00+00:00",
          "2021-01-28T00:00:00+00:00",
          "2021-01-29T00:00:00+00:00",
          "2021-01-30T00:00:00+00:00",
          "2021-01-31T00:00:00+00:00",
          "2021-02-01T00:00:00+00:00",
          "2021-02-02T00:00:00+00:00",
          "2021-02-03T00:00:00+00:00",
          "2021-02-04T00:00:00+00:00",
          "2021-02-05T00:00:00+00:00",
          "2021-02-06T00:00:00+00:00",
          "2021-02-07T00:00:00+00:00",
          "2021-02-08T00:00:00+00:00",
          "2021-02-09T00:00:00+00:00",
          "2021-02-10T00:00:00+00:00",
          "2021-02-11T00:00:00+00:00",
          "2021-02-12T00:00:00+00:00",
          "2021-02-13T00:00:00+00:00",
          "2021-02-14T00:00:00+00:00",
          "2021-02-15T00:00:00+00:00",
          "2021-02-16T00:00:00+00:00",
          "2021-02-17T00:00:00+00:00",
          "2021-02-18T00:00:00+00:00",
          "2021-02-19T00:00:00+00:00",
          "2021-02-20T00:00:00+00:00",
          "2021-02-21T00:00:00+00:00",
          "2021-02-22T00:00:00+00:00",
          "2021-02-23T00:00:00+00:00",
          "2021-02-24T00:00:00+00:00",
          "2021-02-25T00:00:00+00:00",
          "2021-02-26T00:00:00+00:00",
          "2021-02-27T00:00:00+00:00",
          "2021-02-28T00:00:00+00:00",
          "2021-03-01T00:00:00+00:00",
          "2021-03-02T00:00:00+00:00",
          "2021-03-03T00:00:00+00:00",
          "2021-03-04T00:00:00+00:00",
          "2021-03-05T00:00:00+00:00",
          "2021-03-06T00:00:00+00:00",
          "2021-03-07T00:00:00+00:00",
          "2021-03-08T00:00:00+00:00",
          "2021-03-09T00:00:00+00:00",
          "2021-03-10T00:00:00+00:00",
          "2021-03-11T00:00:00+00:00",
          "2021-03-12T00:00:00+00:00",
          "2021-03-13T00:00:00+00:00",
          "2021-03-14T00:00:00+00:00",
          "2021-03-15T00:00:00+00:00",
          "2021-03-16T00:00:00+00:00",
          "2021-03-17T00:00:00+00:00",
          "2021-03-18T00:00:00+00:00",
          "2021-03-19T00:00:00+00:00",
          "2021-03-20T00:00:00+00:00",
          "2021-03-21T00:00:00+00:00",
          "2021-03-22T00:00:00+00:00",
          "2021-03-23T00:00:00+00:00",
          "2021-03-24T00:00:00+00:00",
          "2021-03-25T00:00:00+00:00",
          "2021-03-26T00:00:00+00:00",
          "2021-03-27T00:00:00+00:00",
          "2021-03-28T00:00:00+00:00",
          "2021-03-29T00:00:00+00:00",
          "2021-03-30T00:00:00+00:00",
          "2021-03-31T00:00:00+00:00",
          "2021-04-01T00:00:00+00:00",
          "2021-04-02T00:00:00+00:00",
          "2021-04-03T00:00:00+00:00",
          "2021-04-04T00:00:00+00:00",
          "2021-04-05T00:00:00+00:00",
          "2021-04-06T00:00:00+00:00",
          "2021-04-07T00:00:00+00:00",
          "2021-04-08T00:00:00+00:00",
          "2021-04-09T00:00:00+00:00",
          "2021-04-10T00:00:00+00:00",
          "2021-04-11T00:00:00+00:00",
          "2021-04-12T00:00:00+00:00",
          "2021-04-13T00:00:00+00:00",
          "2021-04-14T00:00:00+00:00",
          "2021-04-15T00:00:00+00:00",
          "2021-04-16T00:00:00+00:00",
          "2021-04-17T00:00:00+00:00",
          "2021-04-18T00:00:00+00:00",
          "2021-04-19T00:00:00+00:00",
          "2021-04-20T00:00:00+00:00",
          "2021-04-21T00:00:00+00:00",
          "2021-04-22T00:00:00+00:00",
          "2021-04-23T00:00:00+00:00",
          "2021-04-24T00:00:00+00:00",
          "2021-04-25T00:00:00+00:00",
          "2021-04-26T00:00:00+00:00",
          "2021-04-27T00:00:00+00:00",
          "2021-04-28T00:00:00+00:00",
          "2021-04-29T00:00:00+00:00",
          "2021-04-30T00:00:00+00:00",
          "2021-05-01T00:00:00+00:00",
          "2021-05-02T00:00:00+00:00",
          "2021-05-03T00:00:00+00:00",
          "2021-05-04T00:00:00+00:00",
          "2021-05-05T00:00:00+00:00",
          "2021-05-06T00:00:00+00:00",
          "2021-05-07T00:00:00+00:00",
          "2021-05-08T00:00:00+00:00",
          "2021-05-09T00:00:00+00:00",
          "2021-05-10T00:00:00+00:00",
          "2021-05-11T00:00:00+00:00",
          "2021-05-12T00:00:00+00:00",
          "2021-05-13T00:00:00+00:00",
          "2021-05-14T00:00:00+00:00",
          "2021-05-15T00:00:00+00:00",
          "2021-05-16T00:00:00+00:00",
          "2021-05-17T00:00:00+00:00",
          "2021-05-18T00:00:00+00:00",
          "2021-05-19T00:00:00+00:00",
          "2021-05-20T00:00:00+00:00",
          "2021-05-21T00:00:00+00:00",
          "2021-05-22T00:00:00+00:00",
          "2021-05-23T00:00:00+00:00",
          "2021-05-24T00:00:00+00:00",
          "2021-05-25T00:00:00+00:00",
          "2021-05-26T00:00:00+00:00",
          "2021-05-27T00:00:00+00:00",
          "2021-05-28T00:00:00+00:00",
          "2021-05-29T00:00:00+00:00",
          "2021-05-30T00:00:00+00:00",
          "2021-05-31T00:00:00+00:00",
          "2021-06-01T00:00:00+00:00",
          "2021-06-02T00:00:00+00:00",
          "2021-06-03T00:00:00+00:00",
          "2021-06-04T00:00:00+00:00",
          "2021-06-05T00:00:00+00:00",
          "2021-06-06T00:00:00+00:00",
          "2021-06-07T00:00:00+00:00",
          "2021-06-08T00:00:00+00:00",
          "2021-06-09T00:00:00+00:00",
          "2021-06-10T00:00:00+00:00",
          "2021-06-11T00:00:00+00:00",
          "2021-06-12T00:00:00+00:00",
          "2021-06-13T00:00:00+00:00",
          "2021-06-14T00:00:00+00:00",
          "2021-06-15T00:00:00+00:00",
          "2021-06-16T00:00:00+00:00",
          "2021-06-17T00:00:00+00:00",
          "2021-06-18T00:00:00+00:00",
          "2021-06-19T00:00:00+00:00",
          "2021-06-20T00:00:00+00:00",
          "2021-06-21T00:00:00+00:00",
          "2021-06-22T00:00:00+00:00",
          "2021-06-23T00:00:00+00:00",
          "2021-06-24T00:00:00+00:00",
          "2021-06-25T00:00:00+00:00",
          "2021-06-26T00:00:00+00:00",
          "2021-06-27T00:00:00+00:00",
          "2021-06-28T00:00:00+00:00",
          "2021-06-29T00:00:00+00:00",
          "2021-06-30T00:00:00+00:00",
          "2021-07-01T00:00:00+00:00",
          "2021-07-02T00:00:00+00:00",
          "2021-07-03T00:00:00+00:00",
          "2021-07-04T00:00:00+00:00",
          "2021-07-05T00:00:00+00:00",
          "2021-07-06T00:00:00+00:00",
          "2021-07-07T00:00:00+00:00",
          "2021-07-08T00:00:00+00:00",
          "2021-07-09T00:00:00+00:00",
          "2021-07-10T00:00:00+00:00",
          "2021-07-11T00:00:00+00:00",
          "2021-07-12T00:00:00+00:00",
          "2021-07-13T00:00:00+00:00",
          "2021-07-14T00:00:00+00:00",
          "2021-07-15T00:00:00+00:00",
          "2021-07-16T00:00:00+00:00",
          "2021-07-17T00:00:00+00:00",
          "2021-07-18T00:00:00+00:00",
          "2021-07-19T00:00:00+00:00",
          "2021-07-20T00:00:00+00:00",
          "2021-07-21T00:00:00+00:00",
          "2021-07-22T00:00:00+00:00",
          "2021-07-23T00:00:00+00:00",
          "2021-07-24T00:00:00+00:00",
          "2021-07-25T00:00:00+00:00",
          "2021-07-26T00:00:00+00:00",
          "2021-07-27T00:00:00+00:00",
          "2021-07-28T00:00:00+00:00",
          "2021-07-29T00:00:00+00:00",
          "2021-07-30T00:00:00+00:00",
          "2021-07-31T00:00:00+00:00",
          "2021-08-01T00:00:00+00:00",
          "2021-08-02T00:00:00+00:00",
          "2021-08-03T00:00:00+00:00",
          "2021-08-04T00:00:00+00:00",
          "2021-08-05T00:00:00+00:00",
          "2021-08-06T00:00:00+00:00",
          "2021-08-07T00:00:00+00:00",
          "2021-08-08T00:00:00+00:00",
          "2021-08-09T00:00:00+00:00",
          "2021-08-10T00:00:00+00:00",
          "2021-08-11T00:00:00+00:00",
          "2021-08-12T00:00:00+00:00",
          "2021-08-13T00:00:00+00:00",
          "2021-08-14T00:00:00+00:00",
          "2021-08-15T00:00:00+00:00",
          "2021-08-16T00:00:00+00:00",
          "2021-08-17T00:00:00+00:00"
         ],
         "y": [
          751270,
          758473,
          765350,
          772103,
          779548,
          788402,
          797723,
          808340,
          818386,
          828026,
          836718,
          846765,
          858043,
          869600,
          882418,
          896642,
          907929,
          917015,
          927380,
          939948,
          951651,
          965283,
          977474,
          989262,
          999256,
          1012350,
          1024298,
          1037993,
          1051795,
          1066313,
          1078314,
          1089308,
          1099687,
          1111671,
          1123105,
          1134854,
          1147010,
          1157837,
          1166079,
          1174779,
          1183555,
          1191990,
          1201859,
          1210703,
          1217468,
          1223930,
          1233959,
          1243646,
          1252685,
          1263299,
          1271353,
          1278653,
          1288833,
          1298608,
          1306141,
          1314634,
          1322866,
          1329074,
          1334634,
          1341314,
          1347026,
          1353834,
          1361098,
          1368069,
          1373836,
          1379662,
          1386556,
          1392945,
          1398578,
          1403722,
          1410134,
          1414741,
          1419455,
          1425044,
          1430458,
          1437283,
          1443853,
          1450132,
          1455788,
          1460184,
          1465928,
          1471225,
          1476452,
          1482559,
          1487541,
          1492002,
          1496085,
          1501093,
          1505775,
          1511712,
          1517854,
          1523179,
          1527524,
          1534255,
          1537967,
          1542516,
          1547376,
          1552880,
          1558145,
          1562868,
          1566995,
          1571824,
          1577526,
          1583182,
          1589359,
          1594722,
          1599763,
          1604348,
          1609300,
          1614849,
          1620569,
          1626812,
          1632248,
          1636792,
          1641194,
          1647138,
          1651794,
          1657035,
          1662868,
          1668368,
          1672880,
          1677274,
          1682004,
          1686373,
          1691658,
          1697305,
          1703632,
          1709762,
          1713684,
          1718575,
          1723596,
          1728204,
          1731652,
          1734285,
          1736670,
          1739750,
          1744045,
          1748230,
          1753101,
          1758898,
          1764644,
          1769940,
          1775220,
          1781127,
          1786187,
          1791221,
          1797499,
          1803361,
          1809926,
          1816041,
          1821703,
          1826527,
          1831773,
          1837126,
          1843612,
          1850206,
          1856038,
          1863031,
          1869325,
          1877050,
          1885942,
          1894025,
          1901490,
          1911358,
          1919547,
          1927708,
          1937652,
          1950276,
          1963266,
          1976172,
          1989909,
          2004445,
          2018113,
          2033421,
          2053995,
          2072867,
          2093962,
          2115304,
          2135998,
          2156465,
          2178272,
          2203108,
          2228938,
          2256851,
          2284084,
          2313829,
          2345018,
          2379397,
          2417788,
          2455912,
          2491006,
          2527203,
          2567630,
          2615529,
          2670046,
          2726803,
          2780803,
          2832755,
          2877476,
          2911733,
          2950058,
          2983830,
          3033339,
          3082410,
          3127826,
          3166505,
          3194733,
          3239936,
          3287727,
          3331206,
          3372374,
          3409658,
          3440396,
          3462800,
          3496700,
          3532567,
          3568331,
          3607863,
          3639616,
          3666031,
          3686740,
          3718821,
          3749446,
          3774155,
          3804943,
          3833541,
          3854354,
          3871738,
          3892479
         ]
        },
        {
         "mode": "lines+markers",
         "name": "Validation Data for Confirmed Cases",
         "type": "scatter",
         "x": [
          "2021-08-18T00:00:00+00:00",
          "2021-08-19T00:00:00+00:00",
          "2021-08-20T00:00:00+00:00",
          "2021-08-21T00:00:00+00:00",
          "2021-08-22T00:00:00+00:00",
          "2021-08-23T00:00:00+00:00",
          "2021-08-24T00:00:00+00:00",
          "2021-08-25T00:00:00+00:00",
          "2021-08-26T00:00:00+00:00",
          "2021-08-27T00:00:00+00:00",
          "2021-08-28T00:00:00+00:00",
          "2021-08-29T00:00:00+00:00",
          "2021-08-30T00:00:00+00:00"
         ],
         "y": [
          3908247,
          3930300,
          3950304,
          3967048,
          3979456,
          3989060,
          4008166,
          4026837,
          4043736,
          4056354,
          4066404,
          4073831,
          4089801
         ]
        },
        {
         "mode": "lines+markers",
         "name": "Prediction for Confirmed Cases",
         "type": "scatter",
         "x": [
          "2021-08-18T00:00:00+00:00",
          "2021-08-19T00:00:00+00:00",
          "2021-08-20T00:00:00+00:00",
          "2021-08-21T00:00:00+00:00",
          "2021-08-22T00:00:00+00:00",
          "2021-08-23T00:00:00+00:00",
          "2021-08-24T00:00:00+00:00",
          "2021-08-25T00:00:00+00:00",
          "2021-08-26T00:00:00+00:00",
          "2021-08-27T00:00:00+00:00",
          "2021-08-28T00:00:00+00:00",
          "2021-08-29T00:00:00+00:00",
          "2021-08-30T00:00:00+00:00"
         ],
         "y": [
          3913220,
          3933961,
          3954702,
          3975443,
          3996184,
          4016925,
          4037666,
          4058407,
          4079148,
          4099889,
          4120630,
          4141371,
          4162112
         ]
        }
       ],
       "layout": {
        "legend": {
         "traceorder": "normal",
         "x": 0,
         "y": 1
        },
        "template": {
         "data": {
          "bar": [
           {
            "error_x": {
             "color": "#2a3f5f"
            },
            "error_y": {
             "color": "#2a3f5f"
            },
            "marker": {
             "line": {
              "color": "#E5ECF6",
              "width": 0.5
             },
             "pattern": {
              "fillmode": "overlay",
              "size": 10,
              "solidity": 0.2
             }
            },
            "type": "bar"
           }
          ],
          "barpolar": [
           {
            "marker": {
             "line": {
              "color": "#E5ECF6",
              "width": 0.5
             },
             "pattern": {
              "fillmode": "overlay",
              "size": 10,
              "solidity": 0.2
             }
            },
            "type": "barpolar"
           }
          ],
          "carpet": [
           {
            "aaxis": {
             "endlinecolor": "#2a3f5f",
             "gridcolor": "white",
             "linecolor": "white",
             "minorgridcolor": "white",
             "startlinecolor": "#2a3f5f"
            },
            "baxis": {
             "endlinecolor": "#2a3f5f",
             "gridcolor": "white",
             "linecolor": "white",
             "minorgridcolor": "white",
             "startlinecolor": "#2a3f5f"
            },
            "type": "carpet"
           }
          ],
          "choropleth": [
           {
            "colorbar": {
             "outlinewidth": 0,
             "ticks": ""
            },
            "type": "choropleth"
           }
          ],
          "contour": [
           {
            "colorbar": {
             "outlinewidth": 0,
             "ticks": ""
            },
            "colorscale": [
             [
              0,
              "#0d0887"
             ],
             [
              0.1111111111111111,
              "#46039f"
             ],
             [
              0.2222222222222222,
              "#7201a8"
             ],
             [
              0.3333333333333333,
              "#9c179e"
             ],
             [
              0.4444444444444444,
              "#bd3786"
             ],
             [
              0.5555555555555556,
              "#d8576b"
             ],
             [
              0.6666666666666666,
              "#ed7953"
             ],
             [
              0.7777777777777778,
              "#fb9f3a"
             ],
             [
              0.8888888888888888,
              "#fdca26"
             ],
             [
              1,
              "#f0f921"
             ]
            ],
            "type": "contour"
           }
          ],
          "contourcarpet": [
           {
            "colorbar": {
             "outlinewidth": 0,
             "ticks": ""
            },
            "type": "contourcarpet"
           }
          ],
          "heatmap": [
           {
            "colorbar": {
             "outlinewidth": 0,
             "ticks": ""
            },
            "colorscale": [
             [
              0,
              "#0d0887"
             ],
             [
              0.1111111111111111,
              "#46039f"
             ],
             [
              0.2222222222222222,
              "#7201a8"
             ],
             [
              0.3333333333333333,
              "#9c179e"
             ],
             [
              0.4444444444444444,
              "#bd3786"
             ],
             [
              0.5555555555555556,
              "#d8576b"
             ],
             [
              0.6666666666666666,
              "#ed7953"
             ],
             [
              0.7777777777777778,
              "#fb9f3a"
             ],
             [
              0.8888888888888888,
              "#fdca26"
             ],
             [
              1,
              "#f0f921"
             ]
            ],
            "type": "heatmap"
           }
          ],
          "heatmapgl": [
           {
            "colorbar": {
             "outlinewidth": 0,
             "ticks": ""
            },
            "colorscale": [
             [
              0,
              "#0d0887"
             ],
             [
              0.1111111111111111,
              "#46039f"
             ],
             [
              0.2222222222222222,
              "#7201a8"
             ],
             [
              0.3333333333333333,
              "#9c179e"
             ],
             [
              0.4444444444444444,
              "#bd3786"
             ],
             [
              0.5555555555555556,
              "#d8576b"
             ],
             [
              0.6666666666666666,
              "#ed7953"
             ],
             [
              0.7777777777777778,
              "#fb9f3a"
             ],
             [
              0.8888888888888888,
              "#fdca26"
             ],
             [
              1,
              "#f0f921"
             ]
            ],
            "type": "heatmapgl"
           }
          ],
          "histogram": [
           {
            "marker": {
             "pattern": {
              "fillmode": "overlay",
              "size": 10,
              "solidity": 0.2
             }
            },
            "type": "histogram"
           }
          ],
          "histogram2d": [
           {
            "colorbar": {
             "outlinewidth": 0,
             "ticks": ""
            },
            "colorscale": [
             [
              0,
              "#0d0887"
             ],
             [
              0.1111111111111111,
              "#46039f"
             ],
             [
              0.2222222222222222,
              "#7201a8"
             ],
             [
              0.3333333333333333,
              "#9c179e"
             ],
             [
              0.4444444444444444,
              "#bd3786"
             ],
             [
              0.5555555555555556,
              "#d8576b"
             ],
             [
              0.6666666666666666,
              "#ed7953"
             ],
             [
              0.7777777777777778,
              "#fb9f3a"
             ],
             [
              0.8888888888888888,
              "#fdca26"
             ],
             [
              1,
              "#f0f921"
             ]
            ],
            "type": "histogram2d"
           }
          ],
          "histogram2dcontour": [
           {
            "colorbar": {
             "outlinewidth": 0,
             "ticks": ""
            },
            "colorscale": [
             [
              0,
              "#0d0887"
             ],
             [
              0.1111111111111111,
              "#46039f"
             ],
             [
              0.2222222222222222,
              "#7201a8"
             ],
             [
              0.3333333333333333,
              "#9c179e"
             ],
             [
              0.4444444444444444,
              "#bd3786"
             ],
             [
              0.5555555555555556,
              "#d8576b"
             ],
             [
              0.6666666666666666,
              "#ed7953"
             ],
             [
              0.7777777777777778,
              "#fb9f3a"
             ],
             [
              0.8888888888888888,
              "#fdca26"
             ],
             [
              1,
              "#f0f921"
             ]
            ],
            "type": "histogram2dcontour"
           }
          ],
          "mesh3d": [
           {
            "colorbar": {
             "outlinewidth": 0,
             "ticks": ""
            },
            "type": "mesh3d"
           }
          ],
          "parcoords": [
           {
            "line": {
             "colorbar": {
              "outlinewidth": 0,
              "ticks": ""
             }
            },
            "type": "parcoords"
           }
          ],
          "pie": [
           {
            "automargin": true,
            "type": "pie"
           }
          ],
          "scatter": [
           {
            "marker": {
             "colorbar": {
              "outlinewidth": 0,
              "ticks": ""
             }
            },
            "type": "scatter"
           }
          ],
          "scatter3d": [
           {
            "line": {
             "colorbar": {
              "outlinewidth": 0,
              "ticks": ""
             }
            },
            "marker": {
             "colorbar": {
              "outlinewidth": 0,
              "ticks": ""
             }
            },
            "type": "scatter3d"
           }
          ],
          "scattercarpet": [
           {
            "marker": {
             "colorbar": {
              "outlinewidth": 0,
              "ticks": ""
             }
            },
            "type": "scattercarpet"
           }
          ],
          "scattergeo": [
           {
            "marker": {
             "colorbar": {
              "outlinewidth": 0,
              "ticks": ""
             }
            },
            "type": "scattergeo"
           }
          ],
          "scattergl": [
           {
            "marker": {
             "colorbar": {
              "outlinewidth": 0,
              "ticks": ""
             }
            },
            "type": "scattergl"
           }
          ],
          "scattermapbox": [
           {
            "marker": {
             "colorbar": {
              "outlinewidth": 0,
              "ticks": ""
             }
            },
            "type": "scattermapbox"
           }
          ],
          "scatterpolar": [
           {
            "marker": {
             "colorbar": {
              "outlinewidth": 0,
              "ticks": ""
             }
            },
            "type": "scatterpolar"
           }
          ],
          "scatterpolargl": [
           {
            "marker": {
             "colorbar": {
              "outlinewidth": 0,
              "ticks": ""
             }
            },
            "type": "scatterpolargl"
           }
          ],
          "scatterternary": [
           {
            "marker": {
             "colorbar": {
              "outlinewidth": 0,
              "ticks": ""
             }
            },
            "type": "scatterternary"
           }
          ],
          "surface": [
           {
            "colorbar": {
             "outlinewidth": 0,
             "ticks": ""
            },
            "colorscale": [
             [
              0,
              "#0d0887"
             ],
             [
              0.1111111111111111,
              "#46039f"
             ],
             [
              0.2222222222222222,
              "#7201a8"
             ],
             [
              0.3333333333333333,
              "#9c179e"
             ],
             [
              0.4444444444444444,
              "#bd3786"
             ],
             [
              0.5555555555555556,
              "#d8576b"
             ],
             [
              0.6666666666666666,
              "#ed7953"
             ],
             [
              0.7777777777777778,
              "#fb9f3a"
             ],
             [
              0.8888888888888888,
              "#fdca26"
             ],
             [
              1,
              "#f0f921"
             ]
            ],
            "type": "surface"
           }
          ],
          "table": [
           {
            "cells": {
             "fill": {
              "color": "#EBF0F8"
             },
             "line": {
              "color": "white"
             }
            },
            "header": {
             "fill": {
              "color": "#C8D4E3"
             },
             "line": {
              "color": "white"
             }
            },
            "type": "table"
           }
          ]
         },
         "layout": {
          "annotationdefaults": {
           "arrowcolor": "#2a3f5f",
           "arrowhead": 0,
           "arrowwidth": 1
          },
          "autotypenumbers": "strict",
          "coloraxis": {
           "colorbar": {
            "outlinewidth": 0,
            "ticks": ""
           }
          },
          "colorscale": {
           "diverging": [
            [
             0,
             "#8e0152"
            ],
            [
             0.1,
             "#c51b7d"
            ],
            [
             0.2,
             "#de77ae"
            ],
            [
             0.3,
             "#f1b6da"
            ],
            [
             0.4,
             "#fde0ef"
            ],
            [
             0.5,
             "#f7f7f7"
            ],
            [
             0.6,
             "#e6f5d0"
            ],
            [
             0.7,
             "#b8e186"
            ],
            [
             0.8,
             "#7fbc41"
            ],
            [
             0.9,
             "#4d9221"
            ],
            [
             1,
             "#276419"
            ]
           ],
           "sequential": [
            [
             0,
             "#0d0887"
            ],
            [
             0.1111111111111111,
             "#46039f"
            ],
            [
             0.2222222222222222,
             "#7201a8"
            ],
            [
             0.3333333333333333,
             "#9c179e"
            ],
            [
             0.4444444444444444,
             "#bd3786"
            ],
            [
             0.5555555555555556,
             "#d8576b"
            ],
            [
             0.6666666666666666,
             "#ed7953"
            ],
            [
             0.7777777777777778,
             "#fb9f3a"
            ],
            [
             0.8888888888888888,
             "#fdca26"
            ],
            [
             1,
             "#f0f921"
            ]
           ],
           "sequentialminus": [
            [
             0,
             "#0d0887"
            ],
            [
             0.1111111111111111,
             "#46039f"
            ],
            [
             0.2222222222222222,
             "#7201a8"
            ],
            [
             0.3333333333333333,
             "#9c179e"
            ],
            [
             0.4444444444444444,
             "#bd3786"
            ],
            [
             0.5555555555555556,
             "#d8576b"
            ],
            [
             0.6666666666666666,
             "#ed7953"
            ],
            [
             0.7777777777777778,
             "#fb9f3a"
            ],
            [
             0.8888888888888888,
             "#fdca26"
            ],
            [
             1,
             "#f0f921"
            ]
           ]
          },
          "colorway": [
           "#636efa",
           "#EF553B",
           "#00cc96",
           "#ab63fa",
           "#FFA15A",
           "#19d3f3",
           "#FF6692",
           "#B6E880",
           "#FF97FF",
           "#FECB52"
          ],
          "font": {
           "color": "#2a3f5f"
          },
          "geo": {
           "bgcolor": "white",
           "lakecolor": "white",
           "landcolor": "#E5ECF6",
           "showlakes": true,
           "showland": true,
           "subunitcolor": "white"
          },
          "hoverlabel": {
           "align": "left"
          },
          "hovermode": "closest",
          "mapbox": {
           "style": "light"
          },
          "paper_bgcolor": "white",
          "plot_bgcolor": "#E5ECF6",
          "polar": {
           "angularaxis": {
            "gridcolor": "white",
            "linecolor": "white",
            "ticks": ""
           },
           "bgcolor": "#E5ECF6",
           "radialaxis": {
            "gridcolor": "white",
            "linecolor": "white",
            "ticks": ""
           }
          },
          "scene": {
           "xaxis": {
            "backgroundcolor": "#E5ECF6",
            "gridcolor": "white",
            "gridwidth": 2,
            "linecolor": "white",
            "showbackground": true,
            "ticks": "",
            "zerolinecolor": "white"
           },
           "yaxis": {
            "backgroundcolor": "#E5ECF6",
            "gridcolor": "white",
            "gridwidth": 2,
            "linecolor": "white",
            "showbackground": true,
            "ticks": "",
            "zerolinecolor": "white"
           },
           "zaxis": {
            "backgroundcolor": "#E5ECF6",
            "gridcolor": "white",
            "gridwidth": 2,
            "linecolor": "white",
            "showbackground": true,
            "ticks": "",
            "zerolinecolor": "white"
           }
          },
          "shapedefaults": {
           "line": {
            "color": "#2a3f5f"
           }
          },
          "ternary": {
           "aaxis": {
            "gridcolor": "white",
            "linecolor": "white",
            "ticks": ""
           },
           "baxis": {
            "gridcolor": "white",
            "linecolor": "white",
            "ticks": ""
           },
           "bgcolor": "#E5ECF6",
           "caxis": {
            "gridcolor": "white",
            "linecolor": "white",
            "ticks": ""
           }
          },
          "title": {
           "x": 0.05
          },
          "xaxis": {
           "automargin": true,
           "gridcolor": "white",
           "linecolor": "white",
           "ticks": "",
           "title": {
            "standoff": 15
           },
           "zerolinecolor": "white",
           "zerolinewidth": 2
          },
          "yaxis": {
           "automargin": true,
           "gridcolor": "white",
           "linecolor": "white",
           "ticks": "",
           "title": {
            "standoff": 15
           },
           "zerolinecolor": "white",
           "zerolinewidth": 2
          }
         }
        },
        "title": {
         "text": "Confirmed Cases SARIMA Model Prediction"
        },
        "xaxis": {
         "title": {
          "text": "Date"
         }
        },
        "yaxis": {
         "title": {
          "text": "Confirmed Cases"
         }
        }
       }
      },
      "text/html": [
       "<div>                            <div id=\"55ef80fd-c8dc-4aa2-ac45-d3cec7812499\" class=\"plotly-graph-div\" style=\"height:525px; width:100%;\"></div>            <script type=\"text/javascript\">                require([\"plotly\"], function(Plotly) {                    window.PLOTLYENV=window.PLOTLYENV || {};                                    if (document.getElementById(\"55ef80fd-c8dc-4aa2-ac45-d3cec7812499\")) {                    Plotly.newPlot(                        \"55ef80fd-c8dc-4aa2-ac45-d3cec7812499\",                        [{\"mode\":\"lines+markers\",\"name\":\"Train Data for Confirmed Cases\",\"type\":\"scatter\",\"x\":[\"2021-01-01T00:00:00+00:00\",\"2021-01-02T00:00:00+00:00\",\"2021-01-03T00:00:00+00:00\",\"2021-01-04T00:00:00+00:00\",\"2021-01-05T00:00:00+00:00\",\"2021-01-06T00:00:00+00:00\",\"2021-01-07T00:00:00+00:00\",\"2021-01-08T00:00:00+00:00\",\"2021-01-09T00:00:00+00:00\",\"2021-01-10T00:00:00+00:00\",\"2021-01-11T00:00:00+00:00\",\"2021-01-12T00:00:00+00:00\",\"2021-01-13T00:00:00+00:00\",\"2021-01-14T00:00:00+00:00\",\"2021-01-15T00:00:00+00:00\",\"2021-01-16T00:00:00+00:00\",\"2021-01-17T00:00:00+00:00\",\"2021-01-18T00:00:00+00:00\",\"2021-01-19T00:00:00+00:00\",\"2021-01-20T00:00:00+00:00\",\"2021-01-21T00:00:00+00:00\",\"2021-01-22T00:00:00+00:00\",\"2021-01-23T00:00:00+00:00\",\"2021-01-24T00:00:00+00:00\",\"2021-01-25T00:00:00+00:00\",\"2021-01-26T00:00:00+00:00\",\"2021-01-27T00:00:00+00:00\",\"2021-01-28T00:00:00+00:00\",\"2021-01-29T00:00:00+00:00\",\"2021-01-30T00:00:00+00:00\",\"2021-01-31T00:00:00+00:00\",\"2021-02-01T00:00:00+00:00\",\"2021-02-02T00:00:00+00:00\",\"2021-02-03T00:00:00+00:00\",\"2021-02-04T00:00:00+00:00\",\"2021-02-05T00:00:00+00:00\",\"2021-02-06T00:00:00+00:00\",\"2021-02-07T00:00:00+00:00\",\"2021-02-08T00:00:00+00:00\",\"2021-02-09T00:00:00+00:00\",\"2021-02-10T00:00:00+00:00\",\"2021-02-11T00:00:00+00:00\",\"2021-02-12T00:00:00+00:00\",\"2021-02-13T00:00:00+00:00\",\"2021-02-14T00:00:00+00:00\",\"2021-02-15T00:00:00+00:00\",\"2021-02-16T00:00:00+00:00\",\"2021-02-17T00:00:00+00:00\",\"2021-02-18T00:00:00+00:00\",\"2021-02-19T00:00:00+00:00\",\"2021-02-20T00:00:00+00:00\",\"2021-02-21T00:00:00+00:00\",\"2021-02-22T00:00:00+00:00\",\"2021-02-23T00:00:00+00:00\",\"2021-02-24T00:00:00+00:00\",\"2021-02-25T00:00:00+00:00\",\"2021-02-26T00:00:00+00:00\",\"2021-02-27T00:00:00+00:00\",\"2021-02-28T00:00:00+00:00\",\"2021-03-01T00:00:00+00:00\",\"2021-03-02T00:00:00+00:00\",\"2021-03-03T00:00:00+00:00\",\"2021-03-04T00:00:00+00:00\",\"2021-03-05T00:00:00+00:00\",\"2021-03-06T00:00:00+00:00\",\"2021-03-07T00:00:00+00:00\",\"2021-03-08T00:00:00+00:00\",\"2021-03-09T00:00:00+00:00\",\"2021-03-10T00:00:00+00:00\",\"2021-03-11T00:00:00+00:00\",\"2021-03-12T00:00:00+00:00\",\"2021-03-13T00:00:00+00:00\",\"2021-03-14T00:00:00+00:00\",\"2021-03-15T00:00:00+00:00\",\"2021-03-16T00:00:00+00:00\",\"2021-03-17T00:00:00+00:00\",\"2021-03-18T00:00:00+00:00\",\"2021-03-19T00:00:00+00:00\",\"2021-03-20T00:00:00+00:00\",\"2021-03-21T00:00:00+00:00\",\"2021-03-22T00:00:00+00:00\",\"2021-03-23T00:00:00+00:00\",\"2021-03-24T00:00:00+00:00\",\"2021-03-25T00:00:00+00:00\",\"2021-03-26T00:00:00+00:00\",\"2021-03-27T00:00:00+00:00\",\"2021-03-28T00:00:00+00:00\",\"2021-03-29T00:00:00+00:00\",\"2021-03-30T00:00:00+00:00\",\"2021-03-31T00:00:00+00:00\",\"2021-04-01T00:00:00+00:00\",\"2021-04-02T00:00:00+00:00\",\"2021-04-03T00:00:00+00:00\",\"2021-04-04T00:00:00+00:00\",\"2021-04-05T00:00:00+00:00\",\"2021-04-06T00:00:00+00:00\",\"2021-04-07T00:00:00+00:00\",\"2021-04-08T00:00:00+00:00\",\"2021-04-09T00:00:00+00:00\",\"2021-04-10T00:00:00+00:00\",\"2021-04-11T00:00:00+00:00\",\"2021-04-12T00:00:00+00:00\",\"2021-04-13T00:00:00+00:00\",\"2021-04-14T00:00:00+00:00\",\"2021-04-15T00:00:00+00:00\",\"2021-04-16T00:00:00+00:00\",\"2021-04-17T00:00:00+00:00\",\"2021-04-18T00:00:00+00:00\",\"2021-04-19T00:00:00+00:00\",\"2021-04-20T00:00:00+00:00\",\"2021-04-21T00:00:00+00:00\",\"2021-04-22T00:00:00+00:00\",\"2021-04-23T00:00:00+00:00\",\"2021-04-24T00:00:00+00:00\",\"2021-04-25T00:00:00+00:00\",\"2021-04-26T00:00:00+00:00\",\"2021-04-27T00:00:00+00:00\",\"2021-04-28T00:00:00+00:00\",\"2021-04-29T00:00:00+00:00\",\"2021-04-30T00:00:00+00:00\",\"2021-05-01T00:00:00+00:00\",\"2021-05-02T00:00:00+00:00\",\"2021-05-03T00:00:00+00:00\",\"2021-05-04T00:00:00+00:00\",\"2021-05-05T00:00:00+00:00\",\"2021-05-06T00:00:00+00:00\",\"2021-05-07T00:00:00+00:00\",\"2021-05-08T00:00:00+00:00\",\"2021-05-09T00:00:00+00:00\",\"2021-05-10T00:00:00+00:00\",\"2021-05-11T00:00:00+00:00\",\"2021-05-12T00:00:00+00:00\",\"2021-05-13T00:00:00+00:00\",\"2021-05-14T00:00:00+00:00\",\"2021-05-15T00:00:00+00:00\",\"2021-05-16T00:00:00+00:00\",\"2021-05-17T00:00:00+00:00\",\"2021-05-18T00:00:00+00:00\",\"2021-05-19T00:00:00+00:00\",\"2021-05-20T00:00:00+00:00\",\"2021-05-21T00:00:00+00:00\",\"2021-05-22T00:00:00+00:00\",\"2021-05-23T00:00:00+00:00\",\"2021-05-24T00:00:00+00:00\",\"2021-05-25T00:00:00+00:00\",\"2021-05-26T00:00:00+00:00\",\"2021-05-27T00:00:00+00:00\",\"2021-05-28T00:00:00+00:00\",\"2021-05-29T00:00:00+00:00\",\"2021-05-30T00:00:00+00:00\",\"2021-05-31T00:00:00+00:00\",\"2021-06-01T00:00:00+00:00\",\"2021-06-02T00:00:00+00:00\",\"2021-06-03T00:00:00+00:00\",\"2021-06-04T00:00:00+00:00\",\"2021-06-05T00:00:00+00:00\",\"2021-06-06T00:00:00+00:00\",\"2021-06-07T00:00:00+00:00\",\"2021-06-08T00:00:00+00:00\",\"2021-06-09T00:00:00+00:00\",\"2021-06-10T00:00:00+00:00\",\"2021-06-11T00:00:00+00:00\",\"2021-06-12T00:00:00+00:00\",\"2021-06-13T00:00:00+00:00\",\"2021-06-14T00:00:00+00:00\",\"2021-06-15T00:00:00+00:00\",\"2021-06-16T00:00:00+00:00\",\"2021-06-17T00:00:00+00:00\",\"2021-06-18T00:00:00+00:00\",\"2021-06-19T00:00:00+00:00\",\"2021-06-20T00:00:00+00:00\",\"2021-06-21T00:00:00+00:00\",\"2021-06-22T00:00:00+00:00\",\"2021-06-23T00:00:00+00:00\",\"2021-06-24T00:00:00+00:00\",\"2021-06-25T00:00:00+00:00\",\"2021-06-26T00:00:00+00:00\",\"2021-06-27T00:00:00+00:00\",\"2021-06-28T00:00:00+00:00\",\"2021-06-29T00:00:00+00:00\",\"2021-06-30T00:00:00+00:00\",\"2021-07-01T00:00:00+00:00\",\"2021-07-02T00:00:00+00:00\",\"2021-07-03T00:00:00+00:00\",\"2021-07-04T00:00:00+00:00\",\"2021-07-05T00:00:00+00:00\",\"2021-07-06T00:00:00+00:00\",\"2021-07-07T00:00:00+00:00\",\"2021-07-08T00:00:00+00:00\",\"2021-07-09T00:00:00+00:00\",\"2021-07-10T00:00:00+00:00\",\"2021-07-11T00:00:00+00:00\",\"2021-07-12T00:00:00+00:00\",\"2021-07-13T00:00:00+00:00\",\"2021-07-14T00:00:00+00:00\",\"2021-07-15T00:00:00+00:00\",\"2021-07-16T00:00:00+00:00\",\"2021-07-17T00:00:00+00:00\",\"2021-07-18T00:00:00+00:00\",\"2021-07-19T00:00:00+00:00\",\"2021-07-20T00:00:00+00:00\",\"2021-07-21T00:00:00+00:00\",\"2021-07-22T00:00:00+00:00\",\"2021-07-23T00:00:00+00:00\",\"2021-07-24T00:00:00+00:00\",\"2021-07-25T00:00:00+00:00\",\"2021-07-26T00:00:00+00:00\",\"2021-07-27T00:00:00+00:00\",\"2021-07-28T00:00:00+00:00\",\"2021-07-29T00:00:00+00:00\",\"2021-07-30T00:00:00+00:00\",\"2021-07-31T00:00:00+00:00\",\"2021-08-01T00:00:00+00:00\",\"2021-08-02T00:00:00+00:00\",\"2021-08-03T00:00:00+00:00\",\"2021-08-04T00:00:00+00:00\",\"2021-08-05T00:00:00+00:00\",\"2021-08-06T00:00:00+00:00\",\"2021-08-07T00:00:00+00:00\",\"2021-08-08T00:00:00+00:00\",\"2021-08-09T00:00:00+00:00\",\"2021-08-10T00:00:00+00:00\",\"2021-08-11T00:00:00+00:00\",\"2021-08-12T00:00:00+00:00\",\"2021-08-13T00:00:00+00:00\",\"2021-08-14T00:00:00+00:00\",\"2021-08-15T00:00:00+00:00\",\"2021-08-16T00:00:00+00:00\",\"2021-08-17T00:00:00+00:00\"],\"y\":[751270,758473,765350,772103,779548,788402,797723,808340,818386,828026,836718,846765,858043,869600,882418,896642,907929,917015,927380,939948,951651,965283,977474,989262,999256,1012350,1024298,1037993,1051795,1066313,1078314,1089308,1099687,1111671,1123105,1134854,1147010,1157837,1166079,1174779,1183555,1191990,1201859,1210703,1217468,1223930,1233959,1243646,1252685,1263299,1271353,1278653,1288833,1298608,1306141,1314634,1322866,1329074,1334634,1341314,1347026,1353834,1361098,1368069,1373836,1379662,1386556,1392945,1398578,1403722,1410134,1414741,1419455,1425044,1430458,1437283,1443853,1450132,1455788,1460184,1465928,1471225,1476452,1482559,1487541,1492002,1496085,1501093,1505775,1511712,1517854,1523179,1527524,1534255,1537967,1542516,1547376,1552880,1558145,1562868,1566995,1571824,1577526,1583182,1589359,1594722,1599763,1604348,1609300,1614849,1620569,1626812,1632248,1636792,1641194,1647138,1651794,1657035,1662868,1668368,1672880,1677274,1682004,1686373,1691658,1697305,1703632,1709762,1713684,1718575,1723596,1728204,1731652,1734285,1736670,1739750,1744045,1748230,1753101,1758898,1764644,1769940,1775220,1781127,1786187,1791221,1797499,1803361,1809926,1816041,1821703,1826527,1831773,1837126,1843612,1850206,1856038,1863031,1869325,1877050,1885942,1894025,1901490,1911358,1919547,1927708,1937652,1950276,1963266,1976172,1989909,2004445,2018113,2033421,2053995,2072867,2093962,2115304,2135998,2156465,2178272,2203108,2228938,2256851,2284084,2313829,2345018,2379397,2417788,2455912,2491006,2527203,2567630,2615529,2670046,2726803,2780803,2832755,2877476,2911733,2950058,2983830,3033339,3082410,3127826,3166505,3194733,3239936,3287727,3331206,3372374,3409658,3440396,3462800,3496700,3532567,3568331,3607863,3639616,3666031,3686740,3718821,3749446,3774155,3804943,3833541,3854354,3871738,3892479]},{\"mode\":\"lines+markers\",\"name\":\"Validation Data for Confirmed Cases\",\"type\":\"scatter\",\"x\":[\"2021-08-18T00:00:00+00:00\",\"2021-08-19T00:00:00+00:00\",\"2021-08-20T00:00:00+00:00\",\"2021-08-21T00:00:00+00:00\",\"2021-08-22T00:00:00+00:00\",\"2021-08-23T00:00:00+00:00\",\"2021-08-24T00:00:00+00:00\",\"2021-08-25T00:00:00+00:00\",\"2021-08-26T00:00:00+00:00\",\"2021-08-27T00:00:00+00:00\",\"2021-08-28T00:00:00+00:00\",\"2021-08-29T00:00:00+00:00\",\"2021-08-30T00:00:00+00:00\"],\"y\":[3908247,3930300,3950304,3967048,3979456,3989060,4008166,4026837,4043736,4056354,4066404,4073831,4089801]},{\"mode\":\"lines+markers\",\"name\":\"Prediction for Confirmed Cases\",\"type\":\"scatter\",\"x\":[\"2021-08-18T00:00:00+00:00\",\"2021-08-19T00:00:00+00:00\",\"2021-08-20T00:00:00+00:00\",\"2021-08-21T00:00:00+00:00\",\"2021-08-22T00:00:00+00:00\",\"2021-08-23T00:00:00+00:00\",\"2021-08-24T00:00:00+00:00\",\"2021-08-25T00:00:00+00:00\",\"2021-08-26T00:00:00+00:00\",\"2021-08-27T00:00:00+00:00\",\"2021-08-28T00:00:00+00:00\",\"2021-08-29T00:00:00+00:00\",\"2021-08-30T00:00:00+00:00\"],\"y\":[3913220.0,3933961.0,3954702.0,3975443.0,3996184.0,4016925.0,4037666.0,4058407.0,4079148.0,4099889.0,4120630.0,4141371.0,4162112.0]}],                        {\"legend\":{\"traceorder\":\"normal\",\"x\":0,\"y\":1},\"template\":{\"data\":{\"bar\":[{\"error_x\":{\"color\":\"#2a3f5f\"},\"error_y\":{\"color\":\"#2a3f5f\"},\"marker\":{\"line\":{\"color\":\"#E5ECF6\",\"width\":0.5},\"pattern\":{\"fillmode\":\"overlay\",\"size\":10,\"solidity\":0.2}},\"type\":\"bar\"}],\"barpolar\":[{\"marker\":{\"line\":{\"color\":\"#E5ECF6\",\"width\":0.5},\"pattern\":{\"fillmode\":\"overlay\",\"size\":10,\"solidity\":0.2}},\"type\":\"barpolar\"}],\"carpet\":[{\"aaxis\":{\"endlinecolor\":\"#2a3f5f\",\"gridcolor\":\"white\",\"linecolor\":\"white\",\"minorgridcolor\":\"white\",\"startlinecolor\":\"#2a3f5f\"},\"baxis\":{\"endlinecolor\":\"#2a3f5f\",\"gridcolor\":\"white\",\"linecolor\":\"white\",\"minorgridcolor\":\"white\",\"startlinecolor\":\"#2a3f5f\"},\"type\":\"carpet\"}],\"choropleth\":[{\"colorbar\":{\"outlinewidth\":0,\"ticks\":\"\"},\"type\":\"choropleth\"}],\"contour\":[{\"colorbar\":{\"outlinewidth\":0,\"ticks\":\"\"},\"colorscale\":[[0.0,\"#0d0887\"],[0.1111111111111111,\"#46039f\"],[0.2222222222222222,\"#7201a8\"],[0.3333333333333333,\"#9c179e\"],[0.4444444444444444,\"#bd3786\"],[0.5555555555555556,\"#d8576b\"],[0.6666666666666666,\"#ed7953\"],[0.7777777777777778,\"#fb9f3a\"],[0.8888888888888888,\"#fdca26\"],[1.0,\"#f0f921\"]],\"type\":\"contour\"}],\"contourcarpet\":[{\"colorbar\":{\"outlinewidth\":0,\"ticks\":\"\"},\"type\":\"contourcarpet\"}],\"heatmap\":[{\"colorbar\":{\"outlinewidth\":0,\"ticks\":\"\"},\"colorscale\":[[0.0,\"#0d0887\"],[0.1111111111111111,\"#46039f\"],[0.2222222222222222,\"#7201a8\"],[0.3333333333333333,\"#9c179e\"],[0.4444444444444444,\"#bd3786\"],[0.5555555555555556,\"#d8576b\"],[0.6666666666666666,\"#ed7953\"],[0.7777777777777778,\"#fb9f3a\"],[0.8888888888888888,\"#fdca26\"],[1.0,\"#f0f921\"]],\"type\":\"heatmap\"}],\"heatmapgl\":[{\"colorbar\":{\"outlinewidth\":0,\"ticks\":\"\"},\"colorscale\":[[0.0,\"#0d0887\"],[0.1111111111111111,\"#46039f\"],[0.2222222222222222,\"#7201a8\"],[0.3333333333333333,\"#9c179e\"],[0.4444444444444444,\"#bd3786\"],[0.5555555555555556,\"#d8576b\"],[0.6666666666666666,\"#ed7953\"],[0.7777777777777778,\"#fb9f3a\"],[0.8888888888888888,\"#fdca26\"],[1.0,\"#f0f921\"]],\"type\":\"heatmapgl\"}],\"histogram\":[{\"marker\":{\"pattern\":{\"fillmode\":\"overlay\",\"size\":10,\"solidity\":0.2}},\"type\":\"histogram\"}],\"histogram2d\":[{\"colorbar\":{\"outlinewidth\":0,\"ticks\":\"\"},\"colorscale\":[[0.0,\"#0d0887\"],[0.1111111111111111,\"#46039f\"],[0.2222222222222222,\"#7201a8\"],[0.3333333333333333,\"#9c179e\"],[0.4444444444444444,\"#bd3786\"],[0.5555555555555556,\"#d8576b\"],[0.6666666666666666,\"#ed7953\"],[0.7777777777777778,\"#fb9f3a\"],[0.8888888888888888,\"#fdca26\"],[1.0,\"#f0f921\"]],\"type\":\"histogram2d\"}],\"histogram2dcontour\":[{\"colorbar\":{\"outlinewidth\":0,\"ticks\":\"\"},\"colorscale\":[[0.0,\"#0d0887\"],[0.1111111111111111,\"#46039f\"],[0.2222222222222222,\"#7201a8\"],[0.3333333333333333,\"#9c179e\"],[0.4444444444444444,\"#bd3786\"],[0.5555555555555556,\"#d8576b\"],[0.6666666666666666,\"#ed7953\"],[0.7777777777777778,\"#fb9f3a\"],[0.8888888888888888,\"#fdca26\"],[1.0,\"#f0f921\"]],\"type\":\"histogram2dcontour\"}],\"mesh3d\":[{\"colorbar\":{\"outlinewidth\":0,\"ticks\":\"\"},\"type\":\"mesh3d\"}],\"parcoords\":[{\"line\":{\"colorbar\":{\"outlinewidth\":0,\"ticks\":\"\"}},\"type\":\"parcoords\"}],\"pie\":[{\"automargin\":true,\"type\":\"pie\"}],\"scatter\":[{\"marker\":{\"colorbar\":{\"outlinewidth\":0,\"ticks\":\"\"}},\"type\":\"scatter\"}],\"scatter3d\":[{\"line\":{\"colorbar\":{\"outlinewidth\":0,\"ticks\":\"\"}},\"marker\":{\"colorbar\":{\"outlinewidth\":0,\"ticks\":\"\"}},\"type\":\"scatter3d\"}],\"scattercarpet\":[{\"marker\":{\"colorbar\":{\"outlinewidth\":0,\"ticks\":\"\"}},\"type\":\"scattercarpet\"}],\"scattergeo\":[{\"marker\":{\"colorbar\":{\"outlinewidth\":0,\"ticks\":\"\"}},\"type\":\"scattergeo\"}],\"scattergl\":[{\"marker\":{\"colorbar\":{\"outlinewidth\":0,\"ticks\":\"\"}},\"type\":\"scattergl\"}],\"scattermapbox\":[{\"marker\":{\"colorbar\":{\"outlinewidth\":0,\"ticks\":\"\"}},\"type\":\"scattermapbox\"}],\"scatterpolar\":[{\"marker\":{\"colorbar\":{\"outlinewidth\":0,\"ticks\":\"\"}},\"type\":\"scatterpolar\"}],\"scatterpolargl\":[{\"marker\":{\"colorbar\":{\"outlinewidth\":0,\"ticks\":\"\"}},\"type\":\"scatterpolargl\"}],\"scatterternary\":[{\"marker\":{\"colorbar\":{\"outlinewidth\":0,\"ticks\":\"\"}},\"type\":\"scatterternary\"}],\"surface\":[{\"colorbar\":{\"outlinewidth\":0,\"ticks\":\"\"},\"colorscale\":[[0.0,\"#0d0887\"],[0.1111111111111111,\"#46039f\"],[0.2222222222222222,\"#7201a8\"],[0.3333333333333333,\"#9c179e\"],[0.4444444444444444,\"#bd3786\"],[0.5555555555555556,\"#d8576b\"],[0.6666666666666666,\"#ed7953\"],[0.7777777777777778,\"#fb9f3a\"],[0.8888888888888888,\"#fdca26\"],[1.0,\"#f0f921\"]],\"type\":\"surface\"}],\"table\":[{\"cells\":{\"fill\":{\"color\":\"#EBF0F8\"},\"line\":{\"color\":\"white\"}},\"header\":{\"fill\":{\"color\":\"#C8D4E3\"},\"line\":{\"color\":\"white\"}},\"type\":\"table\"}]},\"layout\":{\"annotationdefaults\":{\"arrowcolor\":\"#2a3f5f\",\"arrowhead\":0,\"arrowwidth\":1},\"autotypenumbers\":\"strict\",\"coloraxis\":{\"colorbar\":{\"outlinewidth\":0,\"ticks\":\"\"}},\"colorscale\":{\"diverging\":[[0,\"#8e0152\"],[0.1,\"#c51b7d\"],[0.2,\"#de77ae\"],[0.3,\"#f1b6da\"],[0.4,\"#fde0ef\"],[0.5,\"#f7f7f7\"],[0.6,\"#e6f5d0\"],[0.7,\"#b8e186\"],[0.8,\"#7fbc41\"],[0.9,\"#4d9221\"],[1,\"#276419\"]],\"sequential\":[[0.0,\"#0d0887\"],[0.1111111111111111,\"#46039f\"],[0.2222222222222222,\"#7201a8\"],[0.3333333333333333,\"#9c179e\"],[0.4444444444444444,\"#bd3786\"],[0.5555555555555556,\"#d8576b\"],[0.6666666666666666,\"#ed7953\"],[0.7777777777777778,\"#fb9f3a\"],[0.8888888888888888,\"#fdca26\"],[1.0,\"#f0f921\"]],\"sequentialminus\":[[0.0,\"#0d0887\"],[0.1111111111111111,\"#46039f\"],[0.2222222222222222,\"#7201a8\"],[0.3333333333333333,\"#9c179e\"],[0.4444444444444444,\"#bd3786\"],[0.5555555555555556,\"#d8576b\"],[0.6666666666666666,\"#ed7953\"],[0.7777777777777778,\"#fb9f3a\"],[0.8888888888888888,\"#fdca26\"],[1.0,\"#f0f921\"]]},\"colorway\":[\"#636efa\",\"#EF553B\",\"#00cc96\",\"#ab63fa\",\"#FFA15A\",\"#19d3f3\",\"#FF6692\",\"#B6E880\",\"#FF97FF\",\"#FECB52\"],\"font\":{\"color\":\"#2a3f5f\"},\"geo\":{\"bgcolor\":\"white\",\"lakecolor\":\"white\",\"landcolor\":\"#E5ECF6\",\"showlakes\":true,\"showland\":true,\"subunitcolor\":\"white\"},\"hoverlabel\":{\"align\":\"left\"},\"hovermode\":\"closest\",\"mapbox\":{\"style\":\"light\"},\"paper_bgcolor\":\"white\",\"plot_bgcolor\":\"#E5ECF6\",\"polar\":{\"angularaxis\":{\"gridcolor\":\"white\",\"linecolor\":\"white\",\"ticks\":\"\"},\"bgcolor\":\"#E5ECF6\",\"radialaxis\":{\"gridcolor\":\"white\",\"linecolor\":\"white\",\"ticks\":\"\"}},\"scene\":{\"xaxis\":{\"backgroundcolor\":\"#E5ECF6\",\"gridcolor\":\"white\",\"gridwidth\":2,\"linecolor\":\"white\",\"showbackground\":true,\"ticks\":\"\",\"zerolinecolor\":\"white\"},\"yaxis\":{\"backgroundcolor\":\"#E5ECF6\",\"gridcolor\":\"white\",\"gridwidth\":2,\"linecolor\":\"white\",\"showbackground\":true,\"ticks\":\"\",\"zerolinecolor\":\"white\"},\"zaxis\":{\"backgroundcolor\":\"#E5ECF6\",\"gridcolor\":\"white\",\"gridwidth\":2,\"linecolor\":\"white\",\"showbackground\":true,\"ticks\":\"\",\"zerolinecolor\":\"white\"}},\"shapedefaults\":{\"line\":{\"color\":\"#2a3f5f\"}},\"ternary\":{\"aaxis\":{\"gridcolor\":\"white\",\"linecolor\":\"white\",\"ticks\":\"\"},\"baxis\":{\"gridcolor\":\"white\",\"linecolor\":\"white\",\"ticks\":\"\"},\"bgcolor\":\"#E5ECF6\",\"caxis\":{\"gridcolor\":\"white\",\"linecolor\":\"white\",\"ticks\":\"\"}},\"title\":{\"x\":0.05},\"xaxis\":{\"automargin\":true,\"gridcolor\":\"white\",\"linecolor\":\"white\",\"ticks\":\"\",\"title\":{\"standoff\":15},\"zerolinecolor\":\"white\",\"zerolinewidth\":2},\"yaxis\":{\"automargin\":true,\"gridcolor\":\"white\",\"linecolor\":\"white\",\"ticks\":\"\",\"title\":{\"standoff\":15},\"zerolinecolor\":\"white\",\"zerolinewidth\":2}}},\"title\":{\"text\":\"Confirmed Cases SARIMA Model Prediction\"},\"xaxis\":{\"title\":{\"text\":\"Date\"}},\"yaxis\":{\"title\":{\"text\":\"Confirmed Cases\"}}},                        {\"responsive\": true}                    ).then(function(){\n",
       "                            \n",
       "var gd = document.getElementById('55ef80fd-c8dc-4aa2-ac45-d3cec7812499');\n",
       "var x = new MutationObserver(function (mutations, observer) {{\n",
       "        var display = window.getComputedStyle(gd).display;\n",
       "        if (!display || display === 'none') {{\n",
       "            console.log([gd, 'removed!']);\n",
       "            Plotly.purge(gd);\n",
       "            observer.disconnect();\n",
       "        }}\n",
       "}});\n",
       "\n",
       "// Listen for the removal of the full notebook cells\n",
       "var notebookContainer = gd.closest('#notebook-container');\n",
       "if (notebookContainer) {{\n",
       "    x.observe(notebookContainer, {childList: true});\n",
       "}}\n",
       "\n",
       "// Listen for the clearing of the current output cell\n",
       "var outputEl = gd.closest('.output');\n",
       "if (outputEl) {{\n",
       "    x.observe(outputEl, {childList: true});\n",
       "}}\n",
       "\n",
       "                        })                };                });            </script>        </div>"
      ]
     },
     "metadata": {},
     "output_type": "display_data"
    }
   ],
   "source": [
    "fig=go.Figure()\n",
    "fig.add_trace(go.Scatter(x=model_train.index, y=model_train.Cases,\n",
    "                    mode='lines+markers',name=\"Train Data for Confirmed Cases\"))\n",
    "fig.add_trace(go.Scatter(x=valid.index, y=valid.Cases,\n",
    "                    mode='lines+markers',name=\"Validation Data for Confirmed Cases\",))\n",
    "fig.add_trace(go.Scatter(x=valid.index, y=y_pred[\"SARIMA Model Prediction\"],\n",
    "                    mode='lines+markers',name=\"Prediction for Confirmed Cases\",))\n",
    "fig.update_layout(title=\"Confirmed Cases SARIMA Model Prediction\",\n",
    "                 xaxis_title=\"Date\",yaxis_title=\"Confirmed Cases\",legend=dict(x=0,y=1,traceorder=\"normal\"))\n",
    "fig.show()"
   ]
  },
  {
   "cell_type": "code",
   "execution_count": 128,
   "metadata": {},
   "outputs": [
    {
     "data": {
      "text/html": [
       "<div>\n",
       "<style scoped>\n",
       "    .dataframe tbody tr th:only-of-type {\n",
       "        vertical-align: middle;\n",
       "    }\n",
       "\n",
       "    .dataframe tbody tr th {\n",
       "        vertical-align: top;\n",
       "    }\n",
       "\n",
       "    .dataframe thead th {\n",
       "        text-align: right;\n",
       "    }\n",
       "</style>\n",
       "<table border=\"1\" class=\"dataframe\">\n",
       "  <thead>\n",
       "    <tr style=\"text-align: right;\">\n",
       "      <th></th>\n",
       "      <th>Model Name</th>\n",
       "      <th>Root Mean Squared Error</th>\n",
       "    </tr>\n",
       "  </thead>\n",
       "  <tbody>\n",
       "    <tr>\n",
       "      <th>0</th>\n",
       "      <td>ARIMA Model</td>\n",
       "      <td>38161.043924</td>\n",
       "    </tr>\n",
       "    <tr>\n",
       "      <th>1</th>\n",
       "      <td>SARIMA Model</td>\n",
       "      <td>38161.043924</td>\n",
       "    </tr>\n",
       "  </tbody>\n",
       "</table>\n",
       "</div>"
      ],
      "text/plain": [
       "     Model Name  Root Mean Squared Error\n",
       "0   ARIMA Model             38161.043924\n",
       "1  SARIMA Model             38161.043924"
      ]
     },
     "execution_count": 128,
     "metadata": {},
     "output_type": "execute_result"
    }
   ],
   "source": [
    "model_names=[\"ARIMA Model\",\"SARIMA Model\",\"Facebook's Prophet Model\"]\n",
    "model_summary=pd.DataFrame(zip(model_names,model_scores),columns=[\"Model Name\",\"Root Mean Squared Error\"]).sort_values([\"Root Mean Squared Error\"])\n",
    "model_summary"
   ]
  },
  {
   "cell_type": "markdown",
   "metadata": {},
   "source": [
    "# 3. Polinomial Regression"
   ]
  },
  {
   "cell_type": "code",
   "execution_count": 129,
   "metadata": {},
   "outputs": [],
   "source": [
    "poly = PolynomialFeatures(degree = 8)"
   ]
  },
  {
   "cell_type": "code",
   "execution_count": 130,
   "metadata": {},
   "outputs": [],
   "source": [
    "train_poly=poly.fit_transform(np.array(model_train.Cases).reshape(-1,1))\n",
    "valid_poly=poly.fit_transform(np.array(valid.Cases).reshape(-1,1))\n",
    "y=model_train[\"Cases\"]"
   ]
  },
  {
   "cell_type": "code",
   "execution_count": 131,
   "metadata": {},
   "outputs": [
    {
     "data": {
      "text/plain": [
       "LinearRegression(normalize=True)"
      ]
     },
     "execution_count": 131,
     "metadata": {},
     "output_type": "execute_result"
    }
   ],
   "source": [
    "linreg=LinearRegression(normalize=True)\n",
    "linreg.fit(train_poly,y)"
   ]
  },
  {
   "cell_type": "code",
   "execution_count": 132,
   "metadata": {},
   "outputs": [
    {
     "name": "stdout",
     "output_type": "stream",
     "text": [
      "Root Mean Squared Error for Polynomial Regression:  5.850421231304309e-09\n"
     ]
    }
   ],
   "source": [
    "prediction_poly=linreg.predict(valid_poly)\n",
    "rmse_poly=np.sqrt(mean_squared_error(valid[\"Cases\"],prediction_poly))\n",
    "model_scores.append(rmse_poly)\n",
    "print(\"Root Mean Squared Error for Polynomial Regression: \",rmse_poly)"
   ]
  },
  {
   "cell_type": "code",
   "execution_count": 133,
   "metadata": {},
   "outputs": [
    {
     "data": {
      "application/vnd.plotly.v1+json": {
       "config": {
        "plotlyServerURL": "https://plot.ly"
       },
       "data": [
        {
         "mode": "lines+markers",
         "name": "Train Data for Confirmed Cases",
         "type": "scatter",
         "x": [
          "2021-01-01T00:00:00+00:00",
          "2021-01-02T00:00:00+00:00",
          "2021-01-03T00:00:00+00:00",
          "2021-01-04T00:00:00+00:00",
          "2021-01-05T00:00:00+00:00",
          "2021-01-06T00:00:00+00:00",
          "2021-01-07T00:00:00+00:00",
          "2021-01-08T00:00:00+00:00",
          "2021-01-09T00:00:00+00:00",
          "2021-01-10T00:00:00+00:00",
          "2021-01-11T00:00:00+00:00",
          "2021-01-12T00:00:00+00:00",
          "2021-01-13T00:00:00+00:00",
          "2021-01-14T00:00:00+00:00",
          "2021-01-15T00:00:00+00:00",
          "2021-01-16T00:00:00+00:00",
          "2021-01-17T00:00:00+00:00",
          "2021-01-18T00:00:00+00:00",
          "2021-01-19T00:00:00+00:00",
          "2021-01-20T00:00:00+00:00",
          "2021-01-21T00:00:00+00:00",
          "2021-01-22T00:00:00+00:00",
          "2021-01-23T00:00:00+00:00",
          "2021-01-24T00:00:00+00:00",
          "2021-01-25T00:00:00+00:00",
          "2021-01-26T00:00:00+00:00",
          "2021-01-27T00:00:00+00:00",
          "2021-01-28T00:00:00+00:00",
          "2021-01-29T00:00:00+00:00",
          "2021-01-30T00:00:00+00:00",
          "2021-01-31T00:00:00+00:00",
          "2021-02-01T00:00:00+00:00",
          "2021-02-02T00:00:00+00:00",
          "2021-02-03T00:00:00+00:00",
          "2021-02-04T00:00:00+00:00",
          "2021-02-05T00:00:00+00:00",
          "2021-02-06T00:00:00+00:00",
          "2021-02-07T00:00:00+00:00",
          "2021-02-08T00:00:00+00:00",
          "2021-02-09T00:00:00+00:00",
          "2021-02-10T00:00:00+00:00",
          "2021-02-11T00:00:00+00:00",
          "2021-02-12T00:00:00+00:00",
          "2021-02-13T00:00:00+00:00",
          "2021-02-14T00:00:00+00:00",
          "2021-02-15T00:00:00+00:00",
          "2021-02-16T00:00:00+00:00",
          "2021-02-17T00:00:00+00:00",
          "2021-02-18T00:00:00+00:00",
          "2021-02-19T00:00:00+00:00",
          "2021-02-20T00:00:00+00:00",
          "2021-02-21T00:00:00+00:00",
          "2021-02-22T00:00:00+00:00",
          "2021-02-23T00:00:00+00:00",
          "2021-02-24T00:00:00+00:00",
          "2021-02-25T00:00:00+00:00",
          "2021-02-26T00:00:00+00:00",
          "2021-02-27T00:00:00+00:00",
          "2021-02-28T00:00:00+00:00",
          "2021-03-01T00:00:00+00:00",
          "2021-03-02T00:00:00+00:00",
          "2021-03-03T00:00:00+00:00",
          "2021-03-04T00:00:00+00:00",
          "2021-03-05T00:00:00+00:00",
          "2021-03-06T00:00:00+00:00",
          "2021-03-07T00:00:00+00:00",
          "2021-03-08T00:00:00+00:00",
          "2021-03-09T00:00:00+00:00",
          "2021-03-10T00:00:00+00:00",
          "2021-03-11T00:00:00+00:00",
          "2021-03-12T00:00:00+00:00",
          "2021-03-13T00:00:00+00:00",
          "2021-03-14T00:00:00+00:00",
          "2021-03-15T00:00:00+00:00",
          "2021-03-16T00:00:00+00:00",
          "2021-03-17T00:00:00+00:00",
          "2021-03-18T00:00:00+00:00",
          "2021-03-19T00:00:00+00:00",
          "2021-03-20T00:00:00+00:00",
          "2021-03-21T00:00:00+00:00",
          "2021-03-22T00:00:00+00:00",
          "2021-03-23T00:00:00+00:00",
          "2021-03-24T00:00:00+00:00",
          "2021-03-25T00:00:00+00:00",
          "2021-03-26T00:00:00+00:00",
          "2021-03-27T00:00:00+00:00",
          "2021-03-28T00:00:00+00:00",
          "2021-03-29T00:00:00+00:00",
          "2021-03-30T00:00:00+00:00",
          "2021-03-31T00:00:00+00:00",
          "2021-04-01T00:00:00+00:00",
          "2021-04-02T00:00:00+00:00",
          "2021-04-03T00:00:00+00:00",
          "2021-04-04T00:00:00+00:00",
          "2021-04-05T00:00:00+00:00",
          "2021-04-06T00:00:00+00:00",
          "2021-04-07T00:00:00+00:00",
          "2021-04-08T00:00:00+00:00",
          "2021-04-09T00:00:00+00:00",
          "2021-04-10T00:00:00+00:00",
          "2021-04-11T00:00:00+00:00",
          "2021-04-12T00:00:00+00:00",
          "2021-04-13T00:00:00+00:00",
          "2021-04-14T00:00:00+00:00",
          "2021-04-15T00:00:00+00:00",
          "2021-04-16T00:00:00+00:00",
          "2021-04-17T00:00:00+00:00",
          "2021-04-18T00:00:00+00:00",
          "2021-04-19T00:00:00+00:00",
          "2021-04-20T00:00:00+00:00",
          "2021-04-21T00:00:00+00:00",
          "2021-04-22T00:00:00+00:00",
          "2021-04-23T00:00:00+00:00",
          "2021-04-24T00:00:00+00:00",
          "2021-04-25T00:00:00+00:00",
          "2021-04-26T00:00:00+00:00",
          "2021-04-27T00:00:00+00:00",
          "2021-04-28T00:00:00+00:00",
          "2021-04-29T00:00:00+00:00",
          "2021-04-30T00:00:00+00:00",
          "2021-05-01T00:00:00+00:00",
          "2021-05-02T00:00:00+00:00",
          "2021-05-03T00:00:00+00:00",
          "2021-05-04T00:00:00+00:00",
          "2021-05-05T00:00:00+00:00",
          "2021-05-06T00:00:00+00:00",
          "2021-05-07T00:00:00+00:00",
          "2021-05-08T00:00:00+00:00",
          "2021-05-09T00:00:00+00:00",
          "2021-05-10T00:00:00+00:00",
          "2021-05-11T00:00:00+00:00",
          "2021-05-12T00:00:00+00:00",
          "2021-05-13T00:00:00+00:00",
          "2021-05-14T00:00:00+00:00",
          "2021-05-15T00:00:00+00:00",
          "2021-05-16T00:00:00+00:00",
          "2021-05-17T00:00:00+00:00",
          "2021-05-18T00:00:00+00:00",
          "2021-05-19T00:00:00+00:00",
          "2021-05-20T00:00:00+00:00",
          "2021-05-21T00:00:00+00:00",
          "2021-05-22T00:00:00+00:00",
          "2021-05-23T00:00:00+00:00",
          "2021-05-24T00:00:00+00:00",
          "2021-05-25T00:00:00+00:00",
          "2021-05-26T00:00:00+00:00",
          "2021-05-27T00:00:00+00:00",
          "2021-05-28T00:00:00+00:00",
          "2021-05-29T00:00:00+00:00",
          "2021-05-30T00:00:00+00:00",
          "2021-05-31T00:00:00+00:00",
          "2021-06-01T00:00:00+00:00",
          "2021-06-02T00:00:00+00:00",
          "2021-06-03T00:00:00+00:00",
          "2021-06-04T00:00:00+00:00",
          "2021-06-05T00:00:00+00:00",
          "2021-06-06T00:00:00+00:00",
          "2021-06-07T00:00:00+00:00",
          "2021-06-08T00:00:00+00:00",
          "2021-06-09T00:00:00+00:00",
          "2021-06-10T00:00:00+00:00",
          "2021-06-11T00:00:00+00:00",
          "2021-06-12T00:00:00+00:00",
          "2021-06-13T00:00:00+00:00",
          "2021-06-14T00:00:00+00:00",
          "2021-06-15T00:00:00+00:00",
          "2021-06-16T00:00:00+00:00",
          "2021-06-17T00:00:00+00:00",
          "2021-06-18T00:00:00+00:00",
          "2021-06-19T00:00:00+00:00",
          "2021-06-20T00:00:00+00:00",
          "2021-06-21T00:00:00+00:00",
          "2021-06-22T00:00:00+00:00",
          "2021-06-23T00:00:00+00:00",
          "2021-06-24T00:00:00+00:00",
          "2021-06-25T00:00:00+00:00",
          "2021-06-26T00:00:00+00:00",
          "2021-06-27T00:00:00+00:00",
          "2021-06-28T00:00:00+00:00",
          "2021-06-29T00:00:00+00:00",
          "2021-06-30T00:00:00+00:00",
          "2021-07-01T00:00:00+00:00",
          "2021-07-02T00:00:00+00:00",
          "2021-07-03T00:00:00+00:00",
          "2021-07-04T00:00:00+00:00",
          "2021-07-05T00:00:00+00:00",
          "2021-07-06T00:00:00+00:00",
          "2021-07-07T00:00:00+00:00",
          "2021-07-08T00:00:00+00:00",
          "2021-07-09T00:00:00+00:00",
          "2021-07-10T00:00:00+00:00",
          "2021-07-11T00:00:00+00:00",
          "2021-07-12T00:00:00+00:00",
          "2021-07-13T00:00:00+00:00",
          "2021-07-14T00:00:00+00:00",
          "2021-07-15T00:00:00+00:00",
          "2021-07-16T00:00:00+00:00",
          "2021-07-17T00:00:00+00:00",
          "2021-07-18T00:00:00+00:00",
          "2021-07-19T00:00:00+00:00",
          "2021-07-20T00:00:00+00:00",
          "2021-07-21T00:00:00+00:00",
          "2021-07-22T00:00:00+00:00",
          "2021-07-23T00:00:00+00:00",
          "2021-07-24T00:00:00+00:00",
          "2021-07-25T00:00:00+00:00",
          "2021-07-26T00:00:00+00:00",
          "2021-07-27T00:00:00+00:00",
          "2021-07-28T00:00:00+00:00",
          "2021-07-29T00:00:00+00:00",
          "2021-07-30T00:00:00+00:00",
          "2021-07-31T00:00:00+00:00",
          "2021-08-01T00:00:00+00:00",
          "2021-08-02T00:00:00+00:00",
          "2021-08-03T00:00:00+00:00",
          "2021-08-04T00:00:00+00:00",
          "2021-08-05T00:00:00+00:00",
          "2021-08-06T00:00:00+00:00",
          "2021-08-07T00:00:00+00:00",
          "2021-08-08T00:00:00+00:00",
          "2021-08-09T00:00:00+00:00",
          "2021-08-10T00:00:00+00:00",
          "2021-08-11T00:00:00+00:00",
          "2021-08-12T00:00:00+00:00",
          "2021-08-13T00:00:00+00:00",
          "2021-08-14T00:00:00+00:00",
          "2021-08-15T00:00:00+00:00",
          "2021-08-16T00:00:00+00:00",
          "2021-08-17T00:00:00+00:00",
          "2021-08-18T00:00:00+00:00",
          "2021-08-19T00:00:00+00:00",
          "2021-08-20T00:00:00+00:00",
          "2021-08-21T00:00:00+00:00",
          "2021-08-22T00:00:00+00:00",
          "2021-08-23T00:00:00+00:00",
          "2021-08-24T00:00:00+00:00",
          "2021-08-25T00:00:00+00:00",
          "2021-08-26T00:00:00+00:00",
          "2021-08-27T00:00:00+00:00",
          "2021-08-28T00:00:00+00:00",
          "2021-08-29T00:00:00+00:00",
          "2021-08-30T00:00:00+00:00"
         ],
         "y": [
          751270,
          758473,
          765350,
          772103,
          779548,
          788402,
          797723,
          808340,
          818386,
          828026,
          836718,
          846765,
          858043,
          869600,
          882418,
          896642,
          907929,
          917015,
          927380,
          939948,
          951651,
          965283,
          977474,
          989262,
          999256,
          1012350,
          1024298,
          1037993,
          1051795,
          1066313,
          1078314,
          1089308,
          1099687,
          1111671,
          1123105,
          1134854,
          1147010,
          1157837,
          1166079,
          1174779,
          1183555,
          1191990,
          1201859,
          1210703,
          1217468,
          1223930,
          1233959,
          1243646,
          1252685,
          1263299,
          1271353,
          1278653,
          1288833,
          1298608,
          1306141,
          1314634,
          1322866,
          1329074,
          1334634,
          1341314,
          1347026,
          1353834,
          1361098,
          1368069,
          1373836,
          1379662,
          1386556,
          1392945,
          1398578,
          1403722,
          1410134,
          1414741,
          1419455,
          1425044,
          1430458,
          1437283,
          1443853,
          1450132,
          1455788,
          1460184,
          1465928,
          1471225,
          1476452,
          1482559,
          1487541,
          1492002,
          1496085,
          1501093,
          1505775,
          1511712,
          1517854,
          1523179,
          1527524,
          1534255,
          1537967,
          1542516,
          1547376,
          1552880,
          1558145,
          1562868,
          1566995,
          1571824,
          1577526,
          1583182,
          1589359,
          1594722,
          1599763,
          1604348,
          1609300,
          1614849,
          1620569,
          1626812,
          1632248,
          1636792,
          1641194,
          1647138,
          1651794,
          1657035,
          1662868,
          1668368,
          1672880,
          1677274,
          1682004,
          1686373,
          1691658,
          1697305,
          1703632,
          1709762,
          1713684,
          1718575,
          1723596,
          1728204,
          1731652,
          1734285,
          1736670,
          1739750,
          1744045,
          1748230,
          1753101,
          1758898,
          1764644,
          1769940,
          1775220,
          1781127,
          1786187,
          1791221,
          1797499,
          1803361,
          1809926,
          1816041,
          1821703,
          1826527,
          1831773,
          1837126,
          1843612,
          1850206,
          1856038,
          1863031,
          1869325,
          1877050,
          1885942,
          1894025,
          1901490,
          1911358,
          1919547,
          1927708,
          1937652,
          1950276,
          1963266,
          1976172,
          1989909,
          2004445,
          2018113,
          2033421,
          2053995,
          2072867,
          2093962,
          2115304,
          2135998,
          2156465,
          2178272,
          2203108,
          2228938,
          2256851,
          2284084,
          2313829,
          2345018,
          2379397,
          2417788,
          2455912,
          2491006,
          2527203,
          2567630,
          2615529,
          2670046,
          2726803,
          2780803,
          2832755,
          2877476,
          2911733,
          2950058,
          2983830,
          3033339,
          3082410,
          3127826,
          3166505,
          3194733,
          3239936,
          3287727,
          3331206,
          3372374,
          3409658,
          3440396,
          3462800,
          3496700,
          3532567,
          3568331,
          3607863,
          3639616,
          3666031,
          3686740,
          3718821,
          3749446,
          3774155,
          3804943,
          3833541,
          3854354,
          3871738,
          3892479,
          3908247,
          3930300,
          3950304,
          3967048,
          3979456,
          3989060,
          4008166,
          4026837,
          4043736,
          4056354,
          4066404,
          4073831,
          4089801
         ]
        },
        {
         "line": {
          "color": "black",
          "dash": "dot"
         },
         "mode": "lines",
         "name": "Polynomial Regression Best Fit",
         "type": "scatter",
         "x": [
          "2021-01-01T00:00:00+00:00",
          "2021-01-02T00:00:00+00:00",
          "2021-01-03T00:00:00+00:00",
          "2021-01-04T00:00:00+00:00",
          "2021-01-05T00:00:00+00:00",
          "2021-01-06T00:00:00+00:00",
          "2021-01-07T00:00:00+00:00",
          "2021-01-08T00:00:00+00:00",
          "2021-01-09T00:00:00+00:00",
          "2021-01-10T00:00:00+00:00",
          "2021-01-11T00:00:00+00:00",
          "2021-01-12T00:00:00+00:00",
          "2021-01-13T00:00:00+00:00",
          "2021-01-14T00:00:00+00:00",
          "2021-01-15T00:00:00+00:00",
          "2021-01-16T00:00:00+00:00",
          "2021-01-17T00:00:00+00:00",
          "2021-01-18T00:00:00+00:00",
          "2021-01-19T00:00:00+00:00",
          "2021-01-20T00:00:00+00:00",
          "2021-01-21T00:00:00+00:00",
          "2021-01-22T00:00:00+00:00",
          "2021-01-23T00:00:00+00:00",
          "2021-01-24T00:00:00+00:00",
          "2021-01-25T00:00:00+00:00",
          "2021-01-26T00:00:00+00:00",
          "2021-01-27T00:00:00+00:00",
          "2021-01-28T00:00:00+00:00",
          "2021-01-29T00:00:00+00:00",
          "2021-01-30T00:00:00+00:00",
          "2021-01-31T00:00:00+00:00",
          "2021-02-01T00:00:00+00:00",
          "2021-02-02T00:00:00+00:00",
          "2021-02-03T00:00:00+00:00",
          "2021-02-04T00:00:00+00:00",
          "2021-02-05T00:00:00+00:00",
          "2021-02-06T00:00:00+00:00",
          "2021-02-07T00:00:00+00:00",
          "2021-02-08T00:00:00+00:00",
          "2021-02-09T00:00:00+00:00",
          "2021-02-10T00:00:00+00:00",
          "2021-02-11T00:00:00+00:00",
          "2021-02-12T00:00:00+00:00",
          "2021-02-13T00:00:00+00:00",
          "2021-02-14T00:00:00+00:00",
          "2021-02-15T00:00:00+00:00",
          "2021-02-16T00:00:00+00:00",
          "2021-02-17T00:00:00+00:00",
          "2021-02-18T00:00:00+00:00",
          "2021-02-19T00:00:00+00:00",
          "2021-02-20T00:00:00+00:00",
          "2021-02-21T00:00:00+00:00",
          "2021-02-22T00:00:00+00:00",
          "2021-02-23T00:00:00+00:00",
          "2021-02-24T00:00:00+00:00",
          "2021-02-25T00:00:00+00:00",
          "2021-02-26T00:00:00+00:00",
          "2021-02-27T00:00:00+00:00",
          "2021-02-28T00:00:00+00:00",
          "2021-03-01T00:00:00+00:00",
          "2021-03-02T00:00:00+00:00",
          "2021-03-03T00:00:00+00:00",
          "2021-03-04T00:00:00+00:00",
          "2021-03-05T00:00:00+00:00",
          "2021-03-06T00:00:00+00:00",
          "2021-03-07T00:00:00+00:00",
          "2021-03-08T00:00:00+00:00",
          "2021-03-09T00:00:00+00:00",
          "2021-03-10T00:00:00+00:00",
          "2021-03-11T00:00:00+00:00",
          "2021-03-12T00:00:00+00:00",
          "2021-03-13T00:00:00+00:00",
          "2021-03-14T00:00:00+00:00",
          "2021-03-15T00:00:00+00:00",
          "2021-03-16T00:00:00+00:00",
          "2021-03-17T00:00:00+00:00",
          "2021-03-18T00:00:00+00:00",
          "2021-03-19T00:00:00+00:00",
          "2021-03-20T00:00:00+00:00",
          "2021-03-21T00:00:00+00:00",
          "2021-03-22T00:00:00+00:00",
          "2021-03-23T00:00:00+00:00",
          "2021-03-24T00:00:00+00:00",
          "2021-03-25T00:00:00+00:00",
          "2021-03-26T00:00:00+00:00",
          "2021-03-27T00:00:00+00:00",
          "2021-03-28T00:00:00+00:00",
          "2021-03-29T00:00:00+00:00",
          "2021-03-30T00:00:00+00:00",
          "2021-03-31T00:00:00+00:00",
          "2021-04-01T00:00:00+00:00",
          "2021-04-02T00:00:00+00:00",
          "2021-04-03T00:00:00+00:00",
          "2021-04-04T00:00:00+00:00",
          "2021-04-05T00:00:00+00:00",
          "2021-04-06T00:00:00+00:00",
          "2021-04-07T00:00:00+00:00",
          "2021-04-08T00:00:00+00:00",
          "2021-04-09T00:00:00+00:00",
          "2021-04-10T00:00:00+00:00",
          "2021-04-11T00:00:00+00:00",
          "2021-04-12T00:00:00+00:00",
          "2021-04-13T00:00:00+00:00",
          "2021-04-14T00:00:00+00:00",
          "2021-04-15T00:00:00+00:00",
          "2021-04-16T00:00:00+00:00",
          "2021-04-17T00:00:00+00:00",
          "2021-04-18T00:00:00+00:00",
          "2021-04-19T00:00:00+00:00",
          "2021-04-20T00:00:00+00:00",
          "2021-04-21T00:00:00+00:00",
          "2021-04-22T00:00:00+00:00",
          "2021-04-23T00:00:00+00:00",
          "2021-04-24T00:00:00+00:00",
          "2021-04-25T00:00:00+00:00",
          "2021-04-26T00:00:00+00:00",
          "2021-04-27T00:00:00+00:00",
          "2021-04-28T00:00:00+00:00",
          "2021-04-29T00:00:00+00:00",
          "2021-04-30T00:00:00+00:00",
          "2021-05-01T00:00:00+00:00",
          "2021-05-02T00:00:00+00:00",
          "2021-05-03T00:00:00+00:00",
          "2021-05-04T00:00:00+00:00",
          "2021-05-05T00:00:00+00:00",
          "2021-05-06T00:00:00+00:00",
          "2021-05-07T00:00:00+00:00",
          "2021-05-08T00:00:00+00:00",
          "2021-05-09T00:00:00+00:00",
          "2021-05-10T00:00:00+00:00",
          "2021-05-11T00:00:00+00:00",
          "2021-05-12T00:00:00+00:00",
          "2021-05-13T00:00:00+00:00",
          "2021-05-14T00:00:00+00:00",
          "2021-05-15T00:00:00+00:00",
          "2021-05-16T00:00:00+00:00",
          "2021-05-17T00:00:00+00:00",
          "2021-05-18T00:00:00+00:00",
          "2021-05-19T00:00:00+00:00",
          "2021-05-20T00:00:00+00:00",
          "2021-05-21T00:00:00+00:00",
          "2021-05-22T00:00:00+00:00",
          "2021-05-23T00:00:00+00:00",
          "2021-05-24T00:00:00+00:00",
          "2021-05-25T00:00:00+00:00",
          "2021-05-26T00:00:00+00:00",
          "2021-05-27T00:00:00+00:00",
          "2021-05-28T00:00:00+00:00",
          "2021-05-29T00:00:00+00:00",
          "2021-05-30T00:00:00+00:00",
          "2021-05-31T00:00:00+00:00",
          "2021-06-01T00:00:00+00:00",
          "2021-06-02T00:00:00+00:00",
          "2021-06-03T00:00:00+00:00",
          "2021-06-04T00:00:00+00:00",
          "2021-06-05T00:00:00+00:00",
          "2021-06-06T00:00:00+00:00",
          "2021-06-07T00:00:00+00:00",
          "2021-06-08T00:00:00+00:00",
          "2021-06-09T00:00:00+00:00",
          "2021-06-10T00:00:00+00:00",
          "2021-06-11T00:00:00+00:00",
          "2021-06-12T00:00:00+00:00",
          "2021-06-13T00:00:00+00:00",
          "2021-06-14T00:00:00+00:00",
          "2021-06-15T00:00:00+00:00",
          "2021-06-16T00:00:00+00:00",
          "2021-06-17T00:00:00+00:00",
          "2021-06-18T00:00:00+00:00",
          "2021-06-19T00:00:00+00:00",
          "2021-06-20T00:00:00+00:00",
          "2021-06-21T00:00:00+00:00",
          "2021-06-22T00:00:00+00:00",
          "2021-06-23T00:00:00+00:00",
          "2021-06-24T00:00:00+00:00",
          "2021-06-25T00:00:00+00:00",
          "2021-06-26T00:00:00+00:00",
          "2021-06-27T00:00:00+00:00",
          "2021-06-28T00:00:00+00:00",
          "2021-06-29T00:00:00+00:00",
          "2021-06-30T00:00:00+00:00",
          "2021-07-01T00:00:00+00:00",
          "2021-07-02T00:00:00+00:00",
          "2021-07-03T00:00:00+00:00",
          "2021-07-04T00:00:00+00:00",
          "2021-07-05T00:00:00+00:00",
          "2021-07-06T00:00:00+00:00",
          "2021-07-07T00:00:00+00:00",
          "2021-07-08T00:00:00+00:00",
          "2021-07-09T00:00:00+00:00",
          "2021-07-10T00:00:00+00:00",
          "2021-07-11T00:00:00+00:00",
          "2021-07-12T00:00:00+00:00",
          "2021-07-13T00:00:00+00:00",
          "2021-07-14T00:00:00+00:00",
          "2021-07-15T00:00:00+00:00",
          "2021-07-16T00:00:00+00:00",
          "2021-07-17T00:00:00+00:00",
          "2021-07-18T00:00:00+00:00",
          "2021-07-19T00:00:00+00:00",
          "2021-07-20T00:00:00+00:00",
          "2021-07-21T00:00:00+00:00",
          "2021-07-22T00:00:00+00:00",
          "2021-07-23T00:00:00+00:00",
          "2021-07-24T00:00:00+00:00",
          "2021-07-25T00:00:00+00:00",
          "2021-07-26T00:00:00+00:00",
          "2021-07-27T00:00:00+00:00",
          "2021-07-28T00:00:00+00:00",
          "2021-07-29T00:00:00+00:00",
          "2021-07-30T00:00:00+00:00",
          "2021-07-31T00:00:00+00:00",
          "2021-08-01T00:00:00+00:00",
          "2021-08-02T00:00:00+00:00",
          "2021-08-03T00:00:00+00:00",
          "2021-08-04T00:00:00+00:00",
          "2021-08-05T00:00:00+00:00",
          "2021-08-06T00:00:00+00:00",
          "2021-08-07T00:00:00+00:00",
          "2021-08-08T00:00:00+00:00",
          "2021-08-09T00:00:00+00:00",
          "2021-08-10T00:00:00+00:00",
          "2021-08-11T00:00:00+00:00",
          "2021-08-12T00:00:00+00:00",
          "2021-08-13T00:00:00+00:00",
          "2021-08-14T00:00:00+00:00",
          "2021-08-15T00:00:00+00:00",
          "2021-08-16T00:00:00+00:00",
          "2021-08-17T00:00:00+00:00",
          "2021-08-18T00:00:00+00:00",
          "2021-08-19T00:00:00+00:00",
          "2021-08-20T00:00:00+00:00",
          "2021-08-21T00:00:00+00:00",
          "2021-08-22T00:00:00+00:00",
          "2021-08-23T00:00:00+00:00",
          "2021-08-24T00:00:00+00:00",
          "2021-08-25T00:00:00+00:00",
          "2021-08-26T00:00:00+00:00",
          "2021-08-27T00:00:00+00:00",
          "2021-08-28T00:00:00+00:00",
          "2021-08-29T00:00:00+00:00",
          "2021-08-30T00:00:00+00:00"
         ],
         "y": [
          751269.9999999991,
          758472.9999999992,
          765349.9999999992,
          772102.9999999992,
          779547.9999999992,
          788401.9999999992,
          797722.9999999992,
          808339.9999999992,
          818385.9999999992,
          828025.9999999993,
          836717.9999999993,
          846764.9999999994,
          858042.9999999994,
          869599.9999999994,
          882417.9999999994,
          896641.9999999994,
          907928.9999999995,
          917014.9999999994,
          927379.9999999995,
          939947.9999999995,
          951650.9999999998,
          965282.9999999997,
          977473.9999999997,
          989261.9999999999,
          999255.9999999998,
          1012349.9999999999,
          1024297.9999999999,
          1037993,
          1051794.9999999998,
          1066313,
          1078314,
          1089308,
          1099687,
          1111671.0000000002,
          1123105.0000000002,
          1134854,
          1147010.0000000002,
          1157837.0000000002,
          1166079.0000000002,
          1174779.0000000002,
          1183555.0000000005,
          1191990.0000000005,
          1201859.0000000002,
          1210703.0000000002,
          1217468.0000000002,
          1223930.0000000005,
          1233959.0000000005,
          1243646.0000000005,
          1252685.0000000002,
          1263299.0000000005,
          1271353.0000000005,
          1278653.0000000005,
          1288833.0000000007,
          1298608.0000000007,
          1306141.0000000007,
          1314634.0000000005,
          1322866.0000000007,
          1329074.0000000007,
          1334634.0000000005,
          1341314.0000000005,
          1347026.0000000005,
          1353834.0000000007,
          1361098.0000000007,
          1368069.0000000007,
          1373836.0000000005,
          1379662.0000000007,
          1386556.0000000007,
          1392945.0000000007,
          1398578.0000000007,
          1403722.0000000007,
          1410134.0000000007,
          1414741.0000000007,
          1419455.0000000007,
          1425044.0000000007,
          1430458.0000000007,
          1437283.0000000007,
          1443853.0000000007,
          1450132.0000000005,
          1455788.0000000007,
          1460184.0000000007,
          1465928.0000000007,
          1471225.0000000005,
          1476452.0000000007,
          1482559.0000000007,
          1487541.0000000007,
          1492002.0000000005,
          1496085.0000000007,
          1501093.0000000007,
          1505775.0000000007,
          1511712.0000000007,
          1517854.0000000007,
          1523179.0000000007,
          1527524.0000000005,
          1534255.0000000007,
          1537967.0000000007,
          1542516.0000000007,
          1547376.0000000007,
          1552880.0000000005,
          1558145.0000000007,
          1562868.0000000005,
          1566995.0000000007,
          1571824.0000000005,
          1577526.0000000007,
          1583182.0000000005,
          1589359.0000000007,
          1594722.0000000005,
          1599763.0000000007,
          1604348.0000000007,
          1609300.0000000007,
          1614849.0000000007,
          1620569.0000000007,
          1626812.0000000005,
          1632248.0000000005,
          1636792.0000000005,
          1641194.0000000007,
          1647138.0000000007,
          1651794.0000000007,
          1657035.0000000005,
          1662868.0000000005,
          1668368.0000000005,
          1672880.0000000007,
          1677274.0000000005,
          1682004.0000000005,
          1686373.0000000007,
          1691658.0000000007,
          1697305.0000000007,
          1703632.0000000005,
          1709762.0000000007,
          1713684.0000000007,
          1718575.0000000005,
          1723596.0000000007,
          1728204.0000000005,
          1731652.0000000005,
          1734285.0000000005,
          1736670.0000000005,
          1739750.0000000007,
          1744045.0000000005,
          1748230.0000000007,
          1753101.0000000005,
          1758898.0000000007,
          1764644.0000000005,
          1769940.0000000007,
          1775220.0000000005,
          1781127.0000000005,
          1786187.0000000007,
          1791221.0000000005,
          1797499.0000000005,
          1803361.0000000005,
          1809926.0000000005,
          1816041.0000000002,
          1821703.0000000005,
          1826527.0000000005,
          1831773.0000000005,
          1837126.0000000007,
          1843612.0000000005,
          1850206.0000000005,
          1856038.0000000005,
          1863031.0000000005,
          1869325.0000000007,
          1877050.0000000007,
          1885942.0000000005,
          1894025.0000000005,
          1901490.0000000007,
          1911358.0000000005,
          1919547.0000000005,
          1927708.0000000005,
          1937652.0000000005,
          1950276.0000000005,
          1963266.0000000005,
          1976172.0000000005,
          1989909.0000000005,
          2004445.0000000005,
          2018113.0000000005,
          2033421.0000000005,
          2053995.0000000005,
          2072867.0000000005,
          2093962.0000000002,
          2115304.0000000005,
          2135998,
          2156465.0000000005,
          2178272.0000000005,
          2203108.0000000005,
          2228938.0000000005,
          2256851.0000000005,
          2284084,
          2313829.0000000005,
          2345018,
          2379397.0000000005,
          2417788.0000000005,
          2455912,
          2491006,
          2527203.0000000005,
          2567630,
          2615529,
          2670046.0000000005,
          2726803,
          2780803,
          2832755,
          2877476,
          2911732.9999999995,
          2950057.9999999995,
          2983829.999999999,
          3033338.9999999995,
          3082409.9999999995,
          3127825.999999999,
          3166504.999999999,
          3194732.999999999,
          3239935.9999999986,
          3287726.9999999986,
          3331205.9999999986,
          3372373.9999999986,
          3409657.999999998,
          3440395.9999999977,
          3462799.9999999986,
          3496699.999999998,
          3532566.999999998,
          3568330.999999998,
          3607862.9999999977,
          3639615.9999999977,
          3666030.9999999977,
          3686739.9999999977,
          3718820.9999999977,
          3749445.999999997,
          3774154.999999997,
          3804942.9999999967,
          3833540.9999999967,
          3854353.9999999967,
          3871737.9999999963,
          3892478.999999996,
          3908246.999999996,
          3930299.999999996,
          3950303.9999999953,
          3967047.9999999953,
          3979455.999999995,
          3989059.999999995,
          4008165.9999999944,
          4026836.999999994,
          4043735.999999994,
          4056353.9999999935,
          4066403.999999993,
          4073830.9999999925,
          4089800.999999992
         ]
        }
       ],
       "layout": {
        "legend": {
         "traceorder": "normal",
         "x": 0,
         "y": 1
        },
        "template": {
         "data": {
          "bar": [
           {
            "error_x": {
             "color": "#2a3f5f"
            },
            "error_y": {
             "color": "#2a3f5f"
            },
            "marker": {
             "line": {
              "color": "#E5ECF6",
              "width": 0.5
             },
             "pattern": {
              "fillmode": "overlay",
              "size": 10,
              "solidity": 0.2
             }
            },
            "type": "bar"
           }
          ],
          "barpolar": [
           {
            "marker": {
             "line": {
              "color": "#E5ECF6",
              "width": 0.5
             },
             "pattern": {
              "fillmode": "overlay",
              "size": 10,
              "solidity": 0.2
             }
            },
            "type": "barpolar"
           }
          ],
          "carpet": [
           {
            "aaxis": {
             "endlinecolor": "#2a3f5f",
             "gridcolor": "white",
             "linecolor": "white",
             "minorgridcolor": "white",
             "startlinecolor": "#2a3f5f"
            },
            "baxis": {
             "endlinecolor": "#2a3f5f",
             "gridcolor": "white",
             "linecolor": "white",
             "minorgridcolor": "white",
             "startlinecolor": "#2a3f5f"
            },
            "type": "carpet"
           }
          ],
          "choropleth": [
           {
            "colorbar": {
             "outlinewidth": 0,
             "ticks": ""
            },
            "type": "choropleth"
           }
          ],
          "contour": [
           {
            "colorbar": {
             "outlinewidth": 0,
             "ticks": ""
            },
            "colorscale": [
             [
              0,
              "#0d0887"
             ],
             [
              0.1111111111111111,
              "#46039f"
             ],
             [
              0.2222222222222222,
              "#7201a8"
             ],
             [
              0.3333333333333333,
              "#9c179e"
             ],
             [
              0.4444444444444444,
              "#bd3786"
             ],
             [
              0.5555555555555556,
              "#d8576b"
             ],
             [
              0.6666666666666666,
              "#ed7953"
             ],
             [
              0.7777777777777778,
              "#fb9f3a"
             ],
             [
              0.8888888888888888,
              "#fdca26"
             ],
             [
              1,
              "#f0f921"
             ]
            ],
            "type": "contour"
           }
          ],
          "contourcarpet": [
           {
            "colorbar": {
             "outlinewidth": 0,
             "ticks": ""
            },
            "type": "contourcarpet"
           }
          ],
          "heatmap": [
           {
            "colorbar": {
             "outlinewidth": 0,
             "ticks": ""
            },
            "colorscale": [
             [
              0,
              "#0d0887"
             ],
             [
              0.1111111111111111,
              "#46039f"
             ],
             [
              0.2222222222222222,
              "#7201a8"
             ],
             [
              0.3333333333333333,
              "#9c179e"
             ],
             [
              0.4444444444444444,
              "#bd3786"
             ],
             [
              0.5555555555555556,
              "#d8576b"
             ],
             [
              0.6666666666666666,
              "#ed7953"
             ],
             [
              0.7777777777777778,
              "#fb9f3a"
             ],
             [
              0.8888888888888888,
              "#fdca26"
             ],
             [
              1,
              "#f0f921"
             ]
            ],
            "type": "heatmap"
           }
          ],
          "heatmapgl": [
           {
            "colorbar": {
             "outlinewidth": 0,
             "ticks": ""
            },
            "colorscale": [
             [
              0,
              "#0d0887"
             ],
             [
              0.1111111111111111,
              "#46039f"
             ],
             [
              0.2222222222222222,
              "#7201a8"
             ],
             [
              0.3333333333333333,
              "#9c179e"
             ],
             [
              0.4444444444444444,
              "#bd3786"
             ],
             [
              0.5555555555555556,
              "#d8576b"
             ],
             [
              0.6666666666666666,
              "#ed7953"
             ],
             [
              0.7777777777777778,
              "#fb9f3a"
             ],
             [
              0.8888888888888888,
              "#fdca26"
             ],
             [
              1,
              "#f0f921"
             ]
            ],
            "type": "heatmapgl"
           }
          ],
          "histogram": [
           {
            "marker": {
             "pattern": {
              "fillmode": "overlay",
              "size": 10,
              "solidity": 0.2
             }
            },
            "type": "histogram"
           }
          ],
          "histogram2d": [
           {
            "colorbar": {
             "outlinewidth": 0,
             "ticks": ""
            },
            "colorscale": [
             [
              0,
              "#0d0887"
             ],
             [
              0.1111111111111111,
              "#46039f"
             ],
             [
              0.2222222222222222,
              "#7201a8"
             ],
             [
              0.3333333333333333,
              "#9c179e"
             ],
             [
              0.4444444444444444,
              "#bd3786"
             ],
             [
              0.5555555555555556,
              "#d8576b"
             ],
             [
              0.6666666666666666,
              "#ed7953"
             ],
             [
              0.7777777777777778,
              "#fb9f3a"
             ],
             [
              0.8888888888888888,
              "#fdca26"
             ],
             [
              1,
              "#f0f921"
             ]
            ],
            "type": "histogram2d"
           }
          ],
          "histogram2dcontour": [
           {
            "colorbar": {
             "outlinewidth": 0,
             "ticks": ""
            },
            "colorscale": [
             [
              0,
              "#0d0887"
             ],
             [
              0.1111111111111111,
              "#46039f"
             ],
             [
              0.2222222222222222,
              "#7201a8"
             ],
             [
              0.3333333333333333,
              "#9c179e"
             ],
             [
              0.4444444444444444,
              "#bd3786"
             ],
             [
              0.5555555555555556,
              "#d8576b"
             ],
             [
              0.6666666666666666,
              "#ed7953"
             ],
             [
              0.7777777777777778,
              "#fb9f3a"
             ],
             [
              0.8888888888888888,
              "#fdca26"
             ],
             [
              1,
              "#f0f921"
             ]
            ],
            "type": "histogram2dcontour"
           }
          ],
          "mesh3d": [
           {
            "colorbar": {
             "outlinewidth": 0,
             "ticks": ""
            },
            "type": "mesh3d"
           }
          ],
          "parcoords": [
           {
            "line": {
             "colorbar": {
              "outlinewidth": 0,
              "ticks": ""
             }
            },
            "type": "parcoords"
           }
          ],
          "pie": [
           {
            "automargin": true,
            "type": "pie"
           }
          ],
          "scatter": [
           {
            "marker": {
             "colorbar": {
              "outlinewidth": 0,
              "ticks": ""
             }
            },
            "type": "scatter"
           }
          ],
          "scatter3d": [
           {
            "line": {
             "colorbar": {
              "outlinewidth": 0,
              "ticks": ""
             }
            },
            "marker": {
             "colorbar": {
              "outlinewidth": 0,
              "ticks": ""
             }
            },
            "type": "scatter3d"
           }
          ],
          "scattercarpet": [
           {
            "marker": {
             "colorbar": {
              "outlinewidth": 0,
              "ticks": ""
             }
            },
            "type": "scattercarpet"
           }
          ],
          "scattergeo": [
           {
            "marker": {
             "colorbar": {
              "outlinewidth": 0,
              "ticks": ""
             }
            },
            "type": "scattergeo"
           }
          ],
          "scattergl": [
           {
            "marker": {
             "colorbar": {
              "outlinewidth": 0,
              "ticks": ""
             }
            },
            "type": "scattergl"
           }
          ],
          "scattermapbox": [
           {
            "marker": {
             "colorbar": {
              "outlinewidth": 0,
              "ticks": ""
             }
            },
            "type": "scattermapbox"
           }
          ],
          "scatterpolar": [
           {
            "marker": {
             "colorbar": {
              "outlinewidth": 0,
              "ticks": ""
             }
            },
            "type": "scatterpolar"
           }
          ],
          "scatterpolargl": [
           {
            "marker": {
             "colorbar": {
              "outlinewidth": 0,
              "ticks": ""
             }
            },
            "type": "scatterpolargl"
           }
          ],
          "scatterternary": [
           {
            "marker": {
             "colorbar": {
              "outlinewidth": 0,
              "ticks": ""
             }
            },
            "type": "scatterternary"
           }
          ],
          "surface": [
           {
            "colorbar": {
             "outlinewidth": 0,
             "ticks": ""
            },
            "colorscale": [
             [
              0,
              "#0d0887"
             ],
             [
              0.1111111111111111,
              "#46039f"
             ],
             [
              0.2222222222222222,
              "#7201a8"
             ],
             [
              0.3333333333333333,
              "#9c179e"
             ],
             [
              0.4444444444444444,
              "#bd3786"
             ],
             [
              0.5555555555555556,
              "#d8576b"
             ],
             [
              0.6666666666666666,
              "#ed7953"
             ],
             [
              0.7777777777777778,
              "#fb9f3a"
             ],
             [
              0.8888888888888888,
              "#fdca26"
             ],
             [
              1,
              "#f0f921"
             ]
            ],
            "type": "surface"
           }
          ],
          "table": [
           {
            "cells": {
             "fill": {
              "color": "#EBF0F8"
             },
             "line": {
              "color": "white"
             }
            },
            "header": {
             "fill": {
              "color": "#C8D4E3"
             },
             "line": {
              "color": "white"
             }
            },
            "type": "table"
           }
          ]
         },
         "layout": {
          "annotationdefaults": {
           "arrowcolor": "#2a3f5f",
           "arrowhead": 0,
           "arrowwidth": 1
          },
          "autotypenumbers": "strict",
          "coloraxis": {
           "colorbar": {
            "outlinewidth": 0,
            "ticks": ""
           }
          },
          "colorscale": {
           "diverging": [
            [
             0,
             "#8e0152"
            ],
            [
             0.1,
             "#c51b7d"
            ],
            [
             0.2,
             "#de77ae"
            ],
            [
             0.3,
             "#f1b6da"
            ],
            [
             0.4,
             "#fde0ef"
            ],
            [
             0.5,
             "#f7f7f7"
            ],
            [
             0.6,
             "#e6f5d0"
            ],
            [
             0.7,
             "#b8e186"
            ],
            [
             0.8,
             "#7fbc41"
            ],
            [
             0.9,
             "#4d9221"
            ],
            [
             1,
             "#276419"
            ]
           ],
           "sequential": [
            [
             0,
             "#0d0887"
            ],
            [
             0.1111111111111111,
             "#46039f"
            ],
            [
             0.2222222222222222,
             "#7201a8"
            ],
            [
             0.3333333333333333,
             "#9c179e"
            ],
            [
             0.4444444444444444,
             "#bd3786"
            ],
            [
             0.5555555555555556,
             "#d8576b"
            ],
            [
             0.6666666666666666,
             "#ed7953"
            ],
            [
             0.7777777777777778,
             "#fb9f3a"
            ],
            [
             0.8888888888888888,
             "#fdca26"
            ],
            [
             1,
             "#f0f921"
            ]
           ],
           "sequentialminus": [
            [
             0,
             "#0d0887"
            ],
            [
             0.1111111111111111,
             "#46039f"
            ],
            [
             0.2222222222222222,
             "#7201a8"
            ],
            [
             0.3333333333333333,
             "#9c179e"
            ],
            [
             0.4444444444444444,
             "#bd3786"
            ],
            [
             0.5555555555555556,
             "#d8576b"
            ],
            [
             0.6666666666666666,
             "#ed7953"
            ],
            [
             0.7777777777777778,
             "#fb9f3a"
            ],
            [
             0.8888888888888888,
             "#fdca26"
            ],
            [
             1,
             "#f0f921"
            ]
           ]
          },
          "colorway": [
           "#636efa",
           "#EF553B",
           "#00cc96",
           "#ab63fa",
           "#FFA15A",
           "#19d3f3",
           "#FF6692",
           "#B6E880",
           "#FF97FF",
           "#FECB52"
          ],
          "font": {
           "color": "#2a3f5f"
          },
          "geo": {
           "bgcolor": "white",
           "lakecolor": "white",
           "landcolor": "#E5ECF6",
           "showlakes": true,
           "showland": true,
           "subunitcolor": "white"
          },
          "hoverlabel": {
           "align": "left"
          },
          "hovermode": "closest",
          "mapbox": {
           "style": "light"
          },
          "paper_bgcolor": "white",
          "plot_bgcolor": "#E5ECF6",
          "polar": {
           "angularaxis": {
            "gridcolor": "white",
            "linecolor": "white",
            "ticks": ""
           },
           "bgcolor": "#E5ECF6",
           "radialaxis": {
            "gridcolor": "white",
            "linecolor": "white",
            "ticks": ""
           }
          },
          "scene": {
           "xaxis": {
            "backgroundcolor": "#E5ECF6",
            "gridcolor": "white",
            "gridwidth": 2,
            "linecolor": "white",
            "showbackground": true,
            "ticks": "",
            "zerolinecolor": "white"
           },
           "yaxis": {
            "backgroundcolor": "#E5ECF6",
            "gridcolor": "white",
            "gridwidth": 2,
            "linecolor": "white",
            "showbackground": true,
            "ticks": "",
            "zerolinecolor": "white"
           },
           "zaxis": {
            "backgroundcolor": "#E5ECF6",
            "gridcolor": "white",
            "gridwidth": 2,
            "linecolor": "white",
            "showbackground": true,
            "ticks": "",
            "zerolinecolor": "white"
           }
          },
          "shapedefaults": {
           "line": {
            "color": "#2a3f5f"
           }
          },
          "ternary": {
           "aaxis": {
            "gridcolor": "white",
            "linecolor": "white",
            "ticks": ""
           },
           "baxis": {
            "gridcolor": "white",
            "linecolor": "white",
            "ticks": ""
           },
           "bgcolor": "#E5ECF6",
           "caxis": {
            "gridcolor": "white",
            "linecolor": "white",
            "ticks": ""
           }
          },
          "title": {
           "x": 0.05
          },
          "xaxis": {
           "automargin": true,
           "gridcolor": "white",
           "linecolor": "white",
           "ticks": "",
           "title": {
            "standoff": 15
           },
           "zerolinecolor": "white",
           "zerolinewidth": 2
          },
          "yaxis": {
           "automargin": true,
           "gridcolor": "white",
           "linecolor": "white",
           "ticks": "",
           "title": {
            "standoff": 15
           },
           "zerolinecolor": "white",
           "zerolinewidth": 2
          }
         }
        },
        "title": {
         "text": "Confirmed Cases Polynomial Regression Prediction"
        },
        "xaxis": {
         "title": {
          "text": "Date"
         }
        },
        "yaxis": {
         "title": {
          "text": "Confirmed Cases"
         }
        }
       }
      },
      "text/html": [
       "<div>                            <div id=\"66e12b1b-4c9c-4d5e-ba29-73c14d28c718\" class=\"plotly-graph-div\" style=\"height:525px; width:100%;\"></div>            <script type=\"text/javascript\">                require([\"plotly\"], function(Plotly) {                    window.PLOTLYENV=window.PLOTLYENV || {};                                    if (document.getElementById(\"66e12b1b-4c9c-4d5e-ba29-73c14d28c718\")) {                    Plotly.newPlot(                        \"66e12b1b-4c9c-4d5e-ba29-73c14d28c718\",                        [{\"mode\":\"lines+markers\",\"name\":\"Train Data for Confirmed Cases\",\"type\":\"scatter\",\"x\":[\"2021-01-01T00:00:00+00:00\",\"2021-01-02T00:00:00+00:00\",\"2021-01-03T00:00:00+00:00\",\"2021-01-04T00:00:00+00:00\",\"2021-01-05T00:00:00+00:00\",\"2021-01-06T00:00:00+00:00\",\"2021-01-07T00:00:00+00:00\",\"2021-01-08T00:00:00+00:00\",\"2021-01-09T00:00:00+00:00\",\"2021-01-10T00:00:00+00:00\",\"2021-01-11T00:00:00+00:00\",\"2021-01-12T00:00:00+00:00\",\"2021-01-13T00:00:00+00:00\",\"2021-01-14T00:00:00+00:00\",\"2021-01-15T00:00:00+00:00\",\"2021-01-16T00:00:00+00:00\",\"2021-01-17T00:00:00+00:00\",\"2021-01-18T00:00:00+00:00\",\"2021-01-19T00:00:00+00:00\",\"2021-01-20T00:00:00+00:00\",\"2021-01-21T00:00:00+00:00\",\"2021-01-22T00:00:00+00:00\",\"2021-01-23T00:00:00+00:00\",\"2021-01-24T00:00:00+00:00\",\"2021-01-25T00:00:00+00:00\",\"2021-01-26T00:00:00+00:00\",\"2021-01-27T00:00:00+00:00\",\"2021-01-28T00:00:00+00:00\",\"2021-01-29T00:00:00+00:00\",\"2021-01-30T00:00:00+00:00\",\"2021-01-31T00:00:00+00:00\",\"2021-02-01T00:00:00+00:00\",\"2021-02-02T00:00:00+00:00\",\"2021-02-03T00:00:00+00:00\",\"2021-02-04T00:00:00+00:00\",\"2021-02-05T00:00:00+00:00\",\"2021-02-06T00:00:00+00:00\",\"2021-02-07T00:00:00+00:00\",\"2021-02-08T00:00:00+00:00\",\"2021-02-09T00:00:00+00:00\",\"2021-02-10T00:00:00+00:00\",\"2021-02-11T00:00:00+00:00\",\"2021-02-12T00:00:00+00:00\",\"2021-02-13T00:00:00+00:00\",\"2021-02-14T00:00:00+00:00\",\"2021-02-15T00:00:00+00:00\",\"2021-02-16T00:00:00+00:00\",\"2021-02-17T00:00:00+00:00\",\"2021-02-18T00:00:00+00:00\",\"2021-02-19T00:00:00+00:00\",\"2021-02-20T00:00:00+00:00\",\"2021-02-21T00:00:00+00:00\",\"2021-02-22T00:00:00+00:00\",\"2021-02-23T00:00:00+00:00\",\"2021-02-24T00:00:00+00:00\",\"2021-02-25T00:00:00+00:00\",\"2021-02-26T00:00:00+00:00\",\"2021-02-27T00:00:00+00:00\",\"2021-02-28T00:00:00+00:00\",\"2021-03-01T00:00:00+00:00\",\"2021-03-02T00:00:00+00:00\",\"2021-03-03T00:00:00+00:00\",\"2021-03-04T00:00:00+00:00\",\"2021-03-05T00:00:00+00:00\",\"2021-03-06T00:00:00+00:00\",\"2021-03-07T00:00:00+00:00\",\"2021-03-08T00:00:00+00:00\",\"2021-03-09T00:00:00+00:00\",\"2021-03-10T00:00:00+00:00\",\"2021-03-11T00:00:00+00:00\",\"2021-03-12T00:00:00+00:00\",\"2021-03-13T00:00:00+00:00\",\"2021-03-14T00:00:00+00:00\",\"2021-03-15T00:00:00+00:00\",\"2021-03-16T00:00:00+00:00\",\"2021-03-17T00:00:00+00:00\",\"2021-03-18T00:00:00+00:00\",\"2021-03-19T00:00:00+00:00\",\"2021-03-20T00:00:00+00:00\",\"2021-03-21T00:00:00+00:00\",\"2021-03-22T00:00:00+00:00\",\"2021-03-23T00:00:00+00:00\",\"2021-03-24T00:00:00+00:00\",\"2021-03-25T00:00:00+00:00\",\"2021-03-26T00:00:00+00:00\",\"2021-03-27T00:00:00+00:00\",\"2021-03-28T00:00:00+00:00\",\"2021-03-29T00:00:00+00:00\",\"2021-03-30T00:00:00+00:00\",\"2021-03-31T00:00:00+00:00\",\"2021-04-01T00:00:00+00:00\",\"2021-04-02T00:00:00+00:00\",\"2021-04-03T00:00:00+00:00\",\"2021-04-04T00:00:00+00:00\",\"2021-04-05T00:00:00+00:00\",\"2021-04-06T00:00:00+00:00\",\"2021-04-07T00:00:00+00:00\",\"2021-04-08T00:00:00+00:00\",\"2021-04-09T00:00:00+00:00\",\"2021-04-10T00:00:00+00:00\",\"2021-04-11T00:00:00+00:00\",\"2021-04-12T00:00:00+00:00\",\"2021-04-13T00:00:00+00:00\",\"2021-04-14T00:00:00+00:00\",\"2021-04-15T00:00:00+00:00\",\"2021-04-16T00:00:00+00:00\",\"2021-04-17T00:00:00+00:00\",\"2021-04-18T00:00:00+00:00\",\"2021-04-19T00:00:00+00:00\",\"2021-04-20T00:00:00+00:00\",\"2021-04-21T00:00:00+00:00\",\"2021-04-22T00:00:00+00:00\",\"2021-04-23T00:00:00+00:00\",\"2021-04-24T00:00:00+00:00\",\"2021-04-25T00:00:00+00:00\",\"2021-04-26T00:00:00+00:00\",\"2021-04-27T00:00:00+00:00\",\"2021-04-28T00:00:00+00:00\",\"2021-04-29T00:00:00+00:00\",\"2021-04-30T00:00:00+00:00\",\"2021-05-01T00:00:00+00:00\",\"2021-05-02T00:00:00+00:00\",\"2021-05-03T00:00:00+00:00\",\"2021-05-04T00:00:00+00:00\",\"2021-05-05T00:00:00+00:00\",\"2021-05-06T00:00:00+00:00\",\"2021-05-07T00:00:00+00:00\",\"2021-05-08T00:00:00+00:00\",\"2021-05-09T00:00:00+00:00\",\"2021-05-10T00:00:00+00:00\",\"2021-05-11T00:00:00+00:00\",\"2021-05-12T00:00:00+00:00\",\"2021-05-13T00:00:00+00:00\",\"2021-05-14T00:00:00+00:00\",\"2021-05-15T00:00:00+00:00\",\"2021-05-16T00:00:00+00:00\",\"2021-05-17T00:00:00+00:00\",\"2021-05-18T00:00:00+00:00\",\"2021-05-19T00:00:00+00:00\",\"2021-05-20T00:00:00+00:00\",\"2021-05-21T00:00:00+00:00\",\"2021-05-22T00:00:00+00:00\",\"2021-05-23T00:00:00+00:00\",\"2021-05-24T00:00:00+00:00\",\"2021-05-25T00:00:00+00:00\",\"2021-05-26T00:00:00+00:00\",\"2021-05-27T00:00:00+00:00\",\"2021-05-28T00:00:00+00:00\",\"2021-05-29T00:00:00+00:00\",\"2021-05-30T00:00:00+00:00\",\"2021-05-31T00:00:00+00:00\",\"2021-06-01T00:00:00+00:00\",\"2021-06-02T00:00:00+00:00\",\"2021-06-03T00:00:00+00:00\",\"2021-06-04T00:00:00+00:00\",\"2021-06-05T00:00:00+00:00\",\"2021-06-06T00:00:00+00:00\",\"2021-06-07T00:00:00+00:00\",\"2021-06-08T00:00:00+00:00\",\"2021-06-09T00:00:00+00:00\",\"2021-06-10T00:00:00+00:00\",\"2021-06-11T00:00:00+00:00\",\"2021-06-12T00:00:00+00:00\",\"2021-06-13T00:00:00+00:00\",\"2021-06-14T00:00:00+00:00\",\"2021-06-15T00:00:00+00:00\",\"2021-06-16T00:00:00+00:00\",\"2021-06-17T00:00:00+00:00\",\"2021-06-18T00:00:00+00:00\",\"2021-06-19T00:00:00+00:00\",\"2021-06-20T00:00:00+00:00\",\"2021-06-21T00:00:00+00:00\",\"2021-06-22T00:00:00+00:00\",\"2021-06-23T00:00:00+00:00\",\"2021-06-24T00:00:00+00:00\",\"2021-06-25T00:00:00+00:00\",\"2021-06-26T00:00:00+00:00\",\"2021-06-27T00:00:00+00:00\",\"2021-06-28T00:00:00+00:00\",\"2021-06-29T00:00:00+00:00\",\"2021-06-30T00:00:00+00:00\",\"2021-07-01T00:00:00+00:00\",\"2021-07-02T00:00:00+00:00\",\"2021-07-03T00:00:00+00:00\",\"2021-07-04T00:00:00+00:00\",\"2021-07-05T00:00:00+00:00\",\"2021-07-06T00:00:00+00:00\",\"2021-07-07T00:00:00+00:00\",\"2021-07-08T00:00:00+00:00\",\"2021-07-09T00:00:00+00:00\",\"2021-07-10T00:00:00+00:00\",\"2021-07-11T00:00:00+00:00\",\"2021-07-12T00:00:00+00:00\",\"2021-07-13T00:00:00+00:00\",\"2021-07-14T00:00:00+00:00\",\"2021-07-15T00:00:00+00:00\",\"2021-07-16T00:00:00+00:00\",\"2021-07-17T00:00:00+00:00\",\"2021-07-18T00:00:00+00:00\",\"2021-07-19T00:00:00+00:00\",\"2021-07-20T00:00:00+00:00\",\"2021-07-21T00:00:00+00:00\",\"2021-07-22T00:00:00+00:00\",\"2021-07-23T00:00:00+00:00\",\"2021-07-24T00:00:00+00:00\",\"2021-07-25T00:00:00+00:00\",\"2021-07-26T00:00:00+00:00\",\"2021-07-27T00:00:00+00:00\",\"2021-07-28T00:00:00+00:00\",\"2021-07-29T00:00:00+00:00\",\"2021-07-30T00:00:00+00:00\",\"2021-07-31T00:00:00+00:00\",\"2021-08-01T00:00:00+00:00\",\"2021-08-02T00:00:00+00:00\",\"2021-08-03T00:00:00+00:00\",\"2021-08-04T00:00:00+00:00\",\"2021-08-05T00:00:00+00:00\",\"2021-08-06T00:00:00+00:00\",\"2021-08-07T00:00:00+00:00\",\"2021-08-08T00:00:00+00:00\",\"2021-08-09T00:00:00+00:00\",\"2021-08-10T00:00:00+00:00\",\"2021-08-11T00:00:00+00:00\",\"2021-08-12T00:00:00+00:00\",\"2021-08-13T00:00:00+00:00\",\"2021-08-14T00:00:00+00:00\",\"2021-08-15T00:00:00+00:00\",\"2021-08-16T00:00:00+00:00\",\"2021-08-17T00:00:00+00:00\",\"2021-08-18T00:00:00+00:00\",\"2021-08-19T00:00:00+00:00\",\"2021-08-20T00:00:00+00:00\",\"2021-08-21T00:00:00+00:00\",\"2021-08-22T00:00:00+00:00\",\"2021-08-23T00:00:00+00:00\",\"2021-08-24T00:00:00+00:00\",\"2021-08-25T00:00:00+00:00\",\"2021-08-26T00:00:00+00:00\",\"2021-08-27T00:00:00+00:00\",\"2021-08-28T00:00:00+00:00\",\"2021-08-29T00:00:00+00:00\",\"2021-08-30T00:00:00+00:00\"],\"y\":[751270,758473,765350,772103,779548,788402,797723,808340,818386,828026,836718,846765,858043,869600,882418,896642,907929,917015,927380,939948,951651,965283,977474,989262,999256,1012350,1024298,1037993,1051795,1066313,1078314,1089308,1099687,1111671,1123105,1134854,1147010,1157837,1166079,1174779,1183555,1191990,1201859,1210703,1217468,1223930,1233959,1243646,1252685,1263299,1271353,1278653,1288833,1298608,1306141,1314634,1322866,1329074,1334634,1341314,1347026,1353834,1361098,1368069,1373836,1379662,1386556,1392945,1398578,1403722,1410134,1414741,1419455,1425044,1430458,1437283,1443853,1450132,1455788,1460184,1465928,1471225,1476452,1482559,1487541,1492002,1496085,1501093,1505775,1511712,1517854,1523179,1527524,1534255,1537967,1542516,1547376,1552880,1558145,1562868,1566995,1571824,1577526,1583182,1589359,1594722,1599763,1604348,1609300,1614849,1620569,1626812,1632248,1636792,1641194,1647138,1651794,1657035,1662868,1668368,1672880,1677274,1682004,1686373,1691658,1697305,1703632,1709762,1713684,1718575,1723596,1728204,1731652,1734285,1736670,1739750,1744045,1748230,1753101,1758898,1764644,1769940,1775220,1781127,1786187,1791221,1797499,1803361,1809926,1816041,1821703,1826527,1831773,1837126,1843612,1850206,1856038,1863031,1869325,1877050,1885942,1894025,1901490,1911358,1919547,1927708,1937652,1950276,1963266,1976172,1989909,2004445,2018113,2033421,2053995,2072867,2093962,2115304,2135998,2156465,2178272,2203108,2228938,2256851,2284084,2313829,2345018,2379397,2417788,2455912,2491006,2527203,2567630,2615529,2670046,2726803,2780803,2832755,2877476,2911733,2950058,2983830,3033339,3082410,3127826,3166505,3194733,3239936,3287727,3331206,3372374,3409658,3440396,3462800,3496700,3532567,3568331,3607863,3639616,3666031,3686740,3718821,3749446,3774155,3804943,3833541,3854354,3871738,3892479,3908247,3930300,3950304,3967048,3979456,3989060,4008166,4026837,4043736,4056354,4066404,4073831,4089801]},{\"line\":{\"color\":\"black\",\"dash\":\"dot\"},\"mode\":\"lines\",\"name\":\"Polynomial Regression Best Fit\",\"type\":\"scatter\",\"x\":[\"2021-01-01T00:00:00+00:00\",\"2021-01-02T00:00:00+00:00\",\"2021-01-03T00:00:00+00:00\",\"2021-01-04T00:00:00+00:00\",\"2021-01-05T00:00:00+00:00\",\"2021-01-06T00:00:00+00:00\",\"2021-01-07T00:00:00+00:00\",\"2021-01-08T00:00:00+00:00\",\"2021-01-09T00:00:00+00:00\",\"2021-01-10T00:00:00+00:00\",\"2021-01-11T00:00:00+00:00\",\"2021-01-12T00:00:00+00:00\",\"2021-01-13T00:00:00+00:00\",\"2021-01-14T00:00:00+00:00\",\"2021-01-15T00:00:00+00:00\",\"2021-01-16T00:00:00+00:00\",\"2021-01-17T00:00:00+00:00\",\"2021-01-18T00:00:00+00:00\",\"2021-01-19T00:00:00+00:00\",\"2021-01-20T00:00:00+00:00\",\"2021-01-21T00:00:00+00:00\",\"2021-01-22T00:00:00+00:00\",\"2021-01-23T00:00:00+00:00\",\"2021-01-24T00:00:00+00:00\",\"2021-01-25T00:00:00+00:00\",\"2021-01-26T00:00:00+00:00\",\"2021-01-27T00:00:00+00:00\",\"2021-01-28T00:00:00+00:00\",\"2021-01-29T00:00:00+00:00\",\"2021-01-30T00:00:00+00:00\",\"2021-01-31T00:00:00+00:00\",\"2021-02-01T00:00:00+00:00\",\"2021-02-02T00:00:00+00:00\",\"2021-02-03T00:00:00+00:00\",\"2021-02-04T00:00:00+00:00\",\"2021-02-05T00:00:00+00:00\",\"2021-02-06T00:00:00+00:00\",\"2021-02-07T00:00:00+00:00\",\"2021-02-08T00:00:00+00:00\",\"2021-02-09T00:00:00+00:00\",\"2021-02-10T00:00:00+00:00\",\"2021-02-11T00:00:00+00:00\",\"2021-02-12T00:00:00+00:00\",\"2021-02-13T00:00:00+00:00\",\"2021-02-14T00:00:00+00:00\",\"2021-02-15T00:00:00+00:00\",\"2021-02-16T00:00:00+00:00\",\"2021-02-17T00:00:00+00:00\",\"2021-02-18T00:00:00+00:00\",\"2021-02-19T00:00:00+00:00\",\"2021-02-20T00:00:00+00:00\",\"2021-02-21T00:00:00+00:00\",\"2021-02-22T00:00:00+00:00\",\"2021-02-23T00:00:00+00:00\",\"2021-02-24T00:00:00+00:00\",\"2021-02-25T00:00:00+00:00\",\"2021-02-26T00:00:00+00:00\",\"2021-02-27T00:00:00+00:00\",\"2021-02-28T00:00:00+00:00\",\"2021-03-01T00:00:00+00:00\",\"2021-03-02T00:00:00+00:00\",\"2021-03-03T00:00:00+00:00\",\"2021-03-04T00:00:00+00:00\",\"2021-03-05T00:00:00+00:00\",\"2021-03-06T00:00:00+00:00\",\"2021-03-07T00:00:00+00:00\",\"2021-03-08T00:00:00+00:00\",\"2021-03-09T00:00:00+00:00\",\"2021-03-10T00:00:00+00:00\",\"2021-03-11T00:00:00+00:00\",\"2021-03-12T00:00:00+00:00\",\"2021-03-13T00:00:00+00:00\",\"2021-03-14T00:00:00+00:00\",\"2021-03-15T00:00:00+00:00\",\"2021-03-16T00:00:00+00:00\",\"2021-03-17T00:00:00+00:00\",\"2021-03-18T00:00:00+00:00\",\"2021-03-19T00:00:00+00:00\",\"2021-03-20T00:00:00+00:00\",\"2021-03-21T00:00:00+00:00\",\"2021-03-22T00:00:00+00:00\",\"2021-03-23T00:00:00+00:00\",\"2021-03-24T00:00:00+00:00\",\"2021-03-25T00:00:00+00:00\",\"2021-03-26T00:00:00+00:00\",\"2021-03-27T00:00:00+00:00\",\"2021-03-28T00:00:00+00:00\",\"2021-03-29T00:00:00+00:00\",\"2021-03-30T00:00:00+00:00\",\"2021-03-31T00:00:00+00:00\",\"2021-04-01T00:00:00+00:00\",\"2021-04-02T00:00:00+00:00\",\"2021-04-03T00:00:00+00:00\",\"2021-04-04T00:00:00+00:00\",\"2021-04-05T00:00:00+00:00\",\"2021-04-06T00:00:00+00:00\",\"2021-04-07T00:00:00+00:00\",\"2021-04-08T00:00:00+00:00\",\"2021-04-09T00:00:00+00:00\",\"2021-04-10T00:00:00+00:00\",\"2021-04-11T00:00:00+00:00\",\"2021-04-12T00:00:00+00:00\",\"2021-04-13T00:00:00+00:00\",\"2021-04-14T00:00:00+00:00\",\"2021-04-15T00:00:00+00:00\",\"2021-04-16T00:00:00+00:00\",\"2021-04-17T00:00:00+00:00\",\"2021-04-18T00:00:00+00:00\",\"2021-04-19T00:00:00+00:00\",\"2021-04-20T00:00:00+00:00\",\"2021-04-21T00:00:00+00:00\",\"2021-04-22T00:00:00+00:00\",\"2021-04-23T00:00:00+00:00\",\"2021-04-24T00:00:00+00:00\",\"2021-04-25T00:00:00+00:00\",\"2021-04-26T00:00:00+00:00\",\"2021-04-27T00:00:00+00:00\",\"2021-04-28T00:00:00+00:00\",\"2021-04-29T00:00:00+00:00\",\"2021-04-30T00:00:00+00:00\",\"2021-05-01T00:00:00+00:00\",\"2021-05-02T00:00:00+00:00\",\"2021-05-03T00:00:00+00:00\",\"2021-05-04T00:00:00+00:00\",\"2021-05-05T00:00:00+00:00\",\"2021-05-06T00:00:00+00:00\",\"2021-05-07T00:00:00+00:00\",\"2021-05-08T00:00:00+00:00\",\"2021-05-09T00:00:00+00:00\",\"2021-05-10T00:00:00+00:00\",\"2021-05-11T00:00:00+00:00\",\"2021-05-12T00:00:00+00:00\",\"2021-05-13T00:00:00+00:00\",\"2021-05-14T00:00:00+00:00\",\"2021-05-15T00:00:00+00:00\",\"2021-05-16T00:00:00+00:00\",\"2021-05-17T00:00:00+00:00\",\"2021-05-18T00:00:00+00:00\",\"2021-05-19T00:00:00+00:00\",\"2021-05-20T00:00:00+00:00\",\"2021-05-21T00:00:00+00:00\",\"2021-05-22T00:00:00+00:00\",\"2021-05-23T00:00:00+00:00\",\"2021-05-24T00:00:00+00:00\",\"2021-05-25T00:00:00+00:00\",\"2021-05-26T00:00:00+00:00\",\"2021-05-27T00:00:00+00:00\",\"2021-05-28T00:00:00+00:00\",\"2021-05-29T00:00:00+00:00\",\"2021-05-30T00:00:00+00:00\",\"2021-05-31T00:00:00+00:00\",\"2021-06-01T00:00:00+00:00\",\"2021-06-02T00:00:00+00:00\",\"2021-06-03T00:00:00+00:00\",\"2021-06-04T00:00:00+00:00\",\"2021-06-05T00:00:00+00:00\",\"2021-06-06T00:00:00+00:00\",\"2021-06-07T00:00:00+00:00\",\"2021-06-08T00:00:00+00:00\",\"2021-06-09T00:00:00+00:00\",\"2021-06-10T00:00:00+00:00\",\"2021-06-11T00:00:00+00:00\",\"2021-06-12T00:00:00+00:00\",\"2021-06-13T00:00:00+00:00\",\"2021-06-14T00:00:00+00:00\",\"2021-06-15T00:00:00+00:00\",\"2021-06-16T00:00:00+00:00\",\"2021-06-17T00:00:00+00:00\",\"2021-06-18T00:00:00+00:00\",\"2021-06-19T00:00:00+00:00\",\"2021-06-20T00:00:00+00:00\",\"2021-06-21T00:00:00+00:00\",\"2021-06-22T00:00:00+00:00\",\"2021-06-23T00:00:00+00:00\",\"2021-06-24T00:00:00+00:00\",\"2021-06-25T00:00:00+00:00\",\"2021-06-26T00:00:00+00:00\",\"2021-06-27T00:00:00+00:00\",\"2021-06-28T00:00:00+00:00\",\"2021-06-29T00:00:00+00:00\",\"2021-06-30T00:00:00+00:00\",\"2021-07-01T00:00:00+00:00\",\"2021-07-02T00:00:00+00:00\",\"2021-07-03T00:00:00+00:00\",\"2021-07-04T00:00:00+00:00\",\"2021-07-05T00:00:00+00:00\",\"2021-07-06T00:00:00+00:00\",\"2021-07-07T00:00:00+00:00\",\"2021-07-08T00:00:00+00:00\",\"2021-07-09T00:00:00+00:00\",\"2021-07-10T00:00:00+00:00\",\"2021-07-11T00:00:00+00:00\",\"2021-07-12T00:00:00+00:00\",\"2021-07-13T00:00:00+00:00\",\"2021-07-14T00:00:00+00:00\",\"2021-07-15T00:00:00+00:00\",\"2021-07-16T00:00:00+00:00\",\"2021-07-17T00:00:00+00:00\",\"2021-07-18T00:00:00+00:00\",\"2021-07-19T00:00:00+00:00\",\"2021-07-20T00:00:00+00:00\",\"2021-07-21T00:00:00+00:00\",\"2021-07-22T00:00:00+00:00\",\"2021-07-23T00:00:00+00:00\",\"2021-07-24T00:00:00+00:00\",\"2021-07-25T00:00:00+00:00\",\"2021-07-26T00:00:00+00:00\",\"2021-07-27T00:00:00+00:00\",\"2021-07-28T00:00:00+00:00\",\"2021-07-29T00:00:00+00:00\",\"2021-07-30T00:00:00+00:00\",\"2021-07-31T00:00:00+00:00\",\"2021-08-01T00:00:00+00:00\",\"2021-08-02T00:00:00+00:00\",\"2021-08-03T00:00:00+00:00\",\"2021-08-04T00:00:00+00:00\",\"2021-08-05T00:00:00+00:00\",\"2021-08-06T00:00:00+00:00\",\"2021-08-07T00:00:00+00:00\",\"2021-08-08T00:00:00+00:00\",\"2021-08-09T00:00:00+00:00\",\"2021-08-10T00:00:00+00:00\",\"2021-08-11T00:00:00+00:00\",\"2021-08-12T00:00:00+00:00\",\"2021-08-13T00:00:00+00:00\",\"2021-08-14T00:00:00+00:00\",\"2021-08-15T00:00:00+00:00\",\"2021-08-16T00:00:00+00:00\",\"2021-08-17T00:00:00+00:00\",\"2021-08-18T00:00:00+00:00\",\"2021-08-19T00:00:00+00:00\",\"2021-08-20T00:00:00+00:00\",\"2021-08-21T00:00:00+00:00\",\"2021-08-22T00:00:00+00:00\",\"2021-08-23T00:00:00+00:00\",\"2021-08-24T00:00:00+00:00\",\"2021-08-25T00:00:00+00:00\",\"2021-08-26T00:00:00+00:00\",\"2021-08-27T00:00:00+00:00\",\"2021-08-28T00:00:00+00:00\",\"2021-08-29T00:00:00+00:00\",\"2021-08-30T00:00:00+00:00\"],\"y\":[751269.9999999991,758472.9999999992,765349.9999999992,772102.9999999992,779547.9999999992,788401.9999999992,797722.9999999992,808339.9999999992,818385.9999999992,828025.9999999993,836717.9999999993,846764.9999999994,858042.9999999994,869599.9999999994,882417.9999999994,896641.9999999994,907928.9999999995,917014.9999999994,927379.9999999995,939947.9999999995,951650.9999999998,965282.9999999997,977473.9999999997,989261.9999999999,999255.9999999998,1012349.9999999999,1024297.9999999999,1037993.0,1051794.9999999998,1066313.0,1078314.0,1089308.0,1099687.0,1111671.0000000002,1123105.0000000002,1134854.0,1147010.0000000002,1157837.0000000002,1166079.0000000002,1174779.0000000002,1183555.0000000005,1191990.0000000005,1201859.0000000002,1210703.0000000002,1217468.0000000002,1223930.0000000005,1233959.0000000005,1243646.0000000005,1252685.0000000002,1263299.0000000005,1271353.0000000005,1278653.0000000005,1288833.0000000007,1298608.0000000007,1306141.0000000007,1314634.0000000005,1322866.0000000007,1329074.0000000007,1334634.0000000005,1341314.0000000005,1347026.0000000005,1353834.0000000007,1361098.0000000007,1368069.0000000007,1373836.0000000005,1379662.0000000007,1386556.0000000007,1392945.0000000007,1398578.0000000007,1403722.0000000007,1410134.0000000007,1414741.0000000007,1419455.0000000007,1425044.0000000007,1430458.0000000007,1437283.0000000007,1443853.0000000007,1450132.0000000005,1455788.0000000007,1460184.0000000007,1465928.0000000007,1471225.0000000005,1476452.0000000007,1482559.0000000007,1487541.0000000007,1492002.0000000005,1496085.0000000007,1501093.0000000007,1505775.0000000007,1511712.0000000007,1517854.0000000007,1523179.0000000007,1527524.0000000005,1534255.0000000007,1537967.0000000007,1542516.0000000007,1547376.0000000007,1552880.0000000005,1558145.0000000007,1562868.0000000005,1566995.0000000007,1571824.0000000005,1577526.0000000007,1583182.0000000005,1589359.0000000007,1594722.0000000005,1599763.0000000007,1604348.0000000007,1609300.0000000007,1614849.0000000007,1620569.0000000007,1626812.0000000005,1632248.0000000005,1636792.0000000005,1641194.0000000007,1647138.0000000007,1651794.0000000007,1657035.0000000005,1662868.0000000005,1668368.0000000005,1672880.0000000007,1677274.0000000005,1682004.0000000005,1686373.0000000007,1691658.0000000007,1697305.0000000007,1703632.0000000005,1709762.0000000007,1713684.0000000007,1718575.0000000005,1723596.0000000007,1728204.0000000005,1731652.0000000005,1734285.0000000005,1736670.0000000005,1739750.0000000007,1744045.0000000005,1748230.0000000007,1753101.0000000005,1758898.0000000007,1764644.0000000005,1769940.0000000007,1775220.0000000005,1781127.0000000005,1786187.0000000007,1791221.0000000005,1797499.0000000005,1803361.0000000005,1809926.0000000005,1816041.0000000002,1821703.0000000005,1826527.0000000005,1831773.0000000005,1837126.0000000007,1843612.0000000005,1850206.0000000005,1856038.0000000005,1863031.0000000005,1869325.0000000007,1877050.0000000007,1885942.0000000005,1894025.0000000005,1901490.0000000007,1911358.0000000005,1919547.0000000005,1927708.0000000005,1937652.0000000005,1950276.0000000005,1963266.0000000005,1976172.0000000005,1989909.0000000005,2004445.0000000005,2018113.0000000005,2033421.0000000005,2053995.0000000005,2072867.0000000005,2093962.0000000002,2115304.0000000005,2135998.0,2156465.0000000005,2178272.0000000005,2203108.0000000005,2228938.0000000005,2256851.0000000005,2284084.0,2313829.0000000005,2345018.0,2379397.0000000005,2417788.0000000005,2455912.0,2491006.0,2527203.0000000005,2567630.0,2615529.0,2670046.0000000005,2726803.0,2780803.0,2832755.0,2877476.0,2911732.9999999995,2950057.9999999995,2983829.999999999,3033338.9999999995,3082409.9999999995,3127825.999999999,3166504.999999999,3194732.999999999,3239935.9999999986,3287726.9999999986,3331205.9999999986,3372373.9999999986,3409657.999999998,3440395.9999999977,3462799.9999999986,3496699.999999998,3532566.999999998,3568330.999999998,3607862.9999999977,3639615.9999999977,3666030.9999999977,3686739.9999999977,3718820.9999999977,3749445.999999997,3774154.999999997,3804942.9999999967,3833540.9999999967,3854353.9999999967,3871737.9999999963,3892478.999999996,3908246.999999996,3930299.999999996,3950303.9999999953,3967047.9999999953,3979455.999999995,3989059.999999995,4008165.9999999944,4026836.999999994,4043735.999999994,4056353.9999999935,4066403.999999993,4073830.9999999925,4089800.999999992]}],                        {\"legend\":{\"traceorder\":\"normal\",\"x\":0,\"y\":1},\"template\":{\"data\":{\"bar\":[{\"error_x\":{\"color\":\"#2a3f5f\"},\"error_y\":{\"color\":\"#2a3f5f\"},\"marker\":{\"line\":{\"color\":\"#E5ECF6\",\"width\":0.5},\"pattern\":{\"fillmode\":\"overlay\",\"size\":10,\"solidity\":0.2}},\"type\":\"bar\"}],\"barpolar\":[{\"marker\":{\"line\":{\"color\":\"#E5ECF6\",\"width\":0.5},\"pattern\":{\"fillmode\":\"overlay\",\"size\":10,\"solidity\":0.2}},\"type\":\"barpolar\"}],\"carpet\":[{\"aaxis\":{\"endlinecolor\":\"#2a3f5f\",\"gridcolor\":\"white\",\"linecolor\":\"white\",\"minorgridcolor\":\"white\",\"startlinecolor\":\"#2a3f5f\"},\"baxis\":{\"endlinecolor\":\"#2a3f5f\",\"gridcolor\":\"white\",\"linecolor\":\"white\",\"minorgridcolor\":\"white\",\"startlinecolor\":\"#2a3f5f\"},\"type\":\"carpet\"}],\"choropleth\":[{\"colorbar\":{\"outlinewidth\":0,\"ticks\":\"\"},\"type\":\"choropleth\"}],\"contour\":[{\"colorbar\":{\"outlinewidth\":0,\"ticks\":\"\"},\"colorscale\":[[0.0,\"#0d0887\"],[0.1111111111111111,\"#46039f\"],[0.2222222222222222,\"#7201a8\"],[0.3333333333333333,\"#9c179e\"],[0.4444444444444444,\"#bd3786\"],[0.5555555555555556,\"#d8576b\"],[0.6666666666666666,\"#ed7953\"],[0.7777777777777778,\"#fb9f3a\"],[0.8888888888888888,\"#fdca26\"],[1.0,\"#f0f921\"]],\"type\":\"contour\"}],\"contourcarpet\":[{\"colorbar\":{\"outlinewidth\":0,\"ticks\":\"\"},\"type\":\"contourcarpet\"}],\"heatmap\":[{\"colorbar\":{\"outlinewidth\":0,\"ticks\":\"\"},\"colorscale\":[[0.0,\"#0d0887\"],[0.1111111111111111,\"#46039f\"],[0.2222222222222222,\"#7201a8\"],[0.3333333333333333,\"#9c179e\"],[0.4444444444444444,\"#bd3786\"],[0.5555555555555556,\"#d8576b\"],[0.6666666666666666,\"#ed7953\"],[0.7777777777777778,\"#fb9f3a\"],[0.8888888888888888,\"#fdca26\"],[1.0,\"#f0f921\"]],\"type\":\"heatmap\"}],\"heatmapgl\":[{\"colorbar\":{\"outlinewidth\":0,\"ticks\":\"\"},\"colorscale\":[[0.0,\"#0d0887\"],[0.1111111111111111,\"#46039f\"],[0.2222222222222222,\"#7201a8\"],[0.3333333333333333,\"#9c179e\"],[0.4444444444444444,\"#bd3786\"],[0.5555555555555556,\"#d8576b\"],[0.6666666666666666,\"#ed7953\"],[0.7777777777777778,\"#fb9f3a\"],[0.8888888888888888,\"#fdca26\"],[1.0,\"#f0f921\"]],\"type\":\"heatmapgl\"}],\"histogram\":[{\"marker\":{\"pattern\":{\"fillmode\":\"overlay\",\"size\":10,\"solidity\":0.2}},\"type\":\"histogram\"}],\"histogram2d\":[{\"colorbar\":{\"outlinewidth\":0,\"ticks\":\"\"},\"colorscale\":[[0.0,\"#0d0887\"],[0.1111111111111111,\"#46039f\"],[0.2222222222222222,\"#7201a8\"],[0.3333333333333333,\"#9c179e\"],[0.4444444444444444,\"#bd3786\"],[0.5555555555555556,\"#d8576b\"],[0.6666666666666666,\"#ed7953\"],[0.7777777777777778,\"#fb9f3a\"],[0.8888888888888888,\"#fdca26\"],[1.0,\"#f0f921\"]],\"type\":\"histogram2d\"}],\"histogram2dcontour\":[{\"colorbar\":{\"outlinewidth\":0,\"ticks\":\"\"},\"colorscale\":[[0.0,\"#0d0887\"],[0.1111111111111111,\"#46039f\"],[0.2222222222222222,\"#7201a8\"],[0.3333333333333333,\"#9c179e\"],[0.4444444444444444,\"#bd3786\"],[0.5555555555555556,\"#d8576b\"],[0.6666666666666666,\"#ed7953\"],[0.7777777777777778,\"#fb9f3a\"],[0.8888888888888888,\"#fdca26\"],[1.0,\"#f0f921\"]],\"type\":\"histogram2dcontour\"}],\"mesh3d\":[{\"colorbar\":{\"outlinewidth\":0,\"ticks\":\"\"},\"type\":\"mesh3d\"}],\"parcoords\":[{\"line\":{\"colorbar\":{\"outlinewidth\":0,\"ticks\":\"\"}},\"type\":\"parcoords\"}],\"pie\":[{\"automargin\":true,\"type\":\"pie\"}],\"scatter\":[{\"marker\":{\"colorbar\":{\"outlinewidth\":0,\"ticks\":\"\"}},\"type\":\"scatter\"}],\"scatter3d\":[{\"line\":{\"colorbar\":{\"outlinewidth\":0,\"ticks\":\"\"}},\"marker\":{\"colorbar\":{\"outlinewidth\":0,\"ticks\":\"\"}},\"type\":\"scatter3d\"}],\"scattercarpet\":[{\"marker\":{\"colorbar\":{\"outlinewidth\":0,\"ticks\":\"\"}},\"type\":\"scattercarpet\"}],\"scattergeo\":[{\"marker\":{\"colorbar\":{\"outlinewidth\":0,\"ticks\":\"\"}},\"type\":\"scattergeo\"}],\"scattergl\":[{\"marker\":{\"colorbar\":{\"outlinewidth\":0,\"ticks\":\"\"}},\"type\":\"scattergl\"}],\"scattermapbox\":[{\"marker\":{\"colorbar\":{\"outlinewidth\":0,\"ticks\":\"\"}},\"type\":\"scattermapbox\"}],\"scatterpolar\":[{\"marker\":{\"colorbar\":{\"outlinewidth\":0,\"ticks\":\"\"}},\"type\":\"scatterpolar\"}],\"scatterpolargl\":[{\"marker\":{\"colorbar\":{\"outlinewidth\":0,\"ticks\":\"\"}},\"type\":\"scatterpolargl\"}],\"scatterternary\":[{\"marker\":{\"colorbar\":{\"outlinewidth\":0,\"ticks\":\"\"}},\"type\":\"scatterternary\"}],\"surface\":[{\"colorbar\":{\"outlinewidth\":0,\"ticks\":\"\"},\"colorscale\":[[0.0,\"#0d0887\"],[0.1111111111111111,\"#46039f\"],[0.2222222222222222,\"#7201a8\"],[0.3333333333333333,\"#9c179e\"],[0.4444444444444444,\"#bd3786\"],[0.5555555555555556,\"#d8576b\"],[0.6666666666666666,\"#ed7953\"],[0.7777777777777778,\"#fb9f3a\"],[0.8888888888888888,\"#fdca26\"],[1.0,\"#f0f921\"]],\"type\":\"surface\"}],\"table\":[{\"cells\":{\"fill\":{\"color\":\"#EBF0F8\"},\"line\":{\"color\":\"white\"}},\"header\":{\"fill\":{\"color\":\"#C8D4E3\"},\"line\":{\"color\":\"white\"}},\"type\":\"table\"}]},\"layout\":{\"annotationdefaults\":{\"arrowcolor\":\"#2a3f5f\",\"arrowhead\":0,\"arrowwidth\":1},\"autotypenumbers\":\"strict\",\"coloraxis\":{\"colorbar\":{\"outlinewidth\":0,\"ticks\":\"\"}},\"colorscale\":{\"diverging\":[[0,\"#8e0152\"],[0.1,\"#c51b7d\"],[0.2,\"#de77ae\"],[0.3,\"#f1b6da\"],[0.4,\"#fde0ef\"],[0.5,\"#f7f7f7\"],[0.6,\"#e6f5d0\"],[0.7,\"#b8e186\"],[0.8,\"#7fbc41\"],[0.9,\"#4d9221\"],[1,\"#276419\"]],\"sequential\":[[0.0,\"#0d0887\"],[0.1111111111111111,\"#46039f\"],[0.2222222222222222,\"#7201a8\"],[0.3333333333333333,\"#9c179e\"],[0.4444444444444444,\"#bd3786\"],[0.5555555555555556,\"#d8576b\"],[0.6666666666666666,\"#ed7953\"],[0.7777777777777778,\"#fb9f3a\"],[0.8888888888888888,\"#fdca26\"],[1.0,\"#f0f921\"]],\"sequentialminus\":[[0.0,\"#0d0887\"],[0.1111111111111111,\"#46039f\"],[0.2222222222222222,\"#7201a8\"],[0.3333333333333333,\"#9c179e\"],[0.4444444444444444,\"#bd3786\"],[0.5555555555555556,\"#d8576b\"],[0.6666666666666666,\"#ed7953\"],[0.7777777777777778,\"#fb9f3a\"],[0.8888888888888888,\"#fdca26\"],[1.0,\"#f0f921\"]]},\"colorway\":[\"#636efa\",\"#EF553B\",\"#00cc96\",\"#ab63fa\",\"#FFA15A\",\"#19d3f3\",\"#FF6692\",\"#B6E880\",\"#FF97FF\",\"#FECB52\"],\"font\":{\"color\":\"#2a3f5f\"},\"geo\":{\"bgcolor\":\"white\",\"lakecolor\":\"white\",\"landcolor\":\"#E5ECF6\",\"showlakes\":true,\"showland\":true,\"subunitcolor\":\"white\"},\"hoverlabel\":{\"align\":\"left\"},\"hovermode\":\"closest\",\"mapbox\":{\"style\":\"light\"},\"paper_bgcolor\":\"white\",\"plot_bgcolor\":\"#E5ECF6\",\"polar\":{\"angularaxis\":{\"gridcolor\":\"white\",\"linecolor\":\"white\",\"ticks\":\"\"},\"bgcolor\":\"#E5ECF6\",\"radialaxis\":{\"gridcolor\":\"white\",\"linecolor\":\"white\",\"ticks\":\"\"}},\"scene\":{\"xaxis\":{\"backgroundcolor\":\"#E5ECF6\",\"gridcolor\":\"white\",\"gridwidth\":2,\"linecolor\":\"white\",\"showbackground\":true,\"ticks\":\"\",\"zerolinecolor\":\"white\"},\"yaxis\":{\"backgroundcolor\":\"#E5ECF6\",\"gridcolor\":\"white\",\"gridwidth\":2,\"linecolor\":\"white\",\"showbackground\":true,\"ticks\":\"\",\"zerolinecolor\":\"white\"},\"zaxis\":{\"backgroundcolor\":\"#E5ECF6\",\"gridcolor\":\"white\",\"gridwidth\":2,\"linecolor\":\"white\",\"showbackground\":true,\"ticks\":\"\",\"zerolinecolor\":\"white\"}},\"shapedefaults\":{\"line\":{\"color\":\"#2a3f5f\"}},\"ternary\":{\"aaxis\":{\"gridcolor\":\"white\",\"linecolor\":\"white\",\"ticks\":\"\"},\"baxis\":{\"gridcolor\":\"white\",\"linecolor\":\"white\",\"ticks\":\"\"},\"bgcolor\":\"#E5ECF6\",\"caxis\":{\"gridcolor\":\"white\",\"linecolor\":\"white\",\"ticks\":\"\"}},\"title\":{\"x\":0.05},\"xaxis\":{\"automargin\":true,\"gridcolor\":\"white\",\"linecolor\":\"white\",\"ticks\":\"\",\"title\":{\"standoff\":15},\"zerolinecolor\":\"white\",\"zerolinewidth\":2},\"yaxis\":{\"automargin\":true,\"gridcolor\":\"white\",\"linecolor\":\"white\",\"ticks\":\"\",\"title\":{\"standoff\":15},\"zerolinecolor\":\"white\",\"zerolinewidth\":2}}},\"title\":{\"text\":\"Confirmed Cases Polynomial Regression Prediction\"},\"xaxis\":{\"title\":{\"text\":\"Date\"}},\"yaxis\":{\"title\":{\"text\":\"Confirmed Cases\"}}},                        {\"responsive\": true}                    ).then(function(){\n",
       "                            \n",
       "var gd = document.getElementById('66e12b1b-4c9c-4d5e-ba29-73c14d28c718');\n",
       "var x = new MutationObserver(function (mutations, observer) {{\n",
       "        var display = window.getComputedStyle(gd).display;\n",
       "        if (!display || display === 'none') {{\n",
       "            console.log([gd, 'removed!']);\n",
       "            Plotly.purge(gd);\n",
       "            observer.disconnect();\n",
       "        }}\n",
       "}});\n",
       "\n",
       "// Listen for the removal of the full notebook cells\n",
       "var notebookContainer = gd.closest('#notebook-container');\n",
       "if (notebookContainer) {{\n",
       "    x.observe(notebookContainer, {childList: true});\n",
       "}}\n",
       "\n",
       "// Listen for the clearing of the current output cell\n",
       "var outputEl = gd.closest('.output');\n",
       "if (outputEl) {{\n",
       "    x.observe(outputEl, {childList: true});\n",
       "}}\n",
       "\n",
       "                        })                };                });            </script>        </div>"
      ]
     },
     "metadata": {},
     "output_type": "display_data"
    },
    {
     "data": {
      "text/plain": [
       "<Figure size 792x432 with 0 Axes>"
      ]
     },
     "metadata": {},
     "output_type": "display_data"
    }
   ],
   "source": [
    "comp_data=poly.fit_transform(np.array(case[\"Cases\"]).reshape(-1,1))\n",
    "plt.figure(figsize=(11,6))\n",
    "predictions_poly=linreg.predict(comp_data)\n",
    "\n",
    "fig=go.Figure()\n",
    "fig.add_trace(go.Scatter(x=case.index, y=case[\"Cases\"],\n",
    "                    mode='lines+markers',name=\"Train Data for Confirmed Cases\"))\n",
    "fig.add_trace(go.Scatter(x=case.index, y=predictions_poly,\n",
    "                    mode='lines',name=\"Polynomial Regression Best Fit\",\n",
    "                    line=dict(color='black', dash='dot')))\n",
    "fig.update_layout(title=\"Confirmed Cases Polynomial Regression Prediction\",\n",
    "                 xaxis_title=\"Date\",yaxis_title=\"Confirmed Cases\",\n",
    "                 legend=dict(x=0,y=1,traceorder=\"normal\"))\n",
    "fig.show()\n"
   ]
  },
  {
   "cell_type": "markdown",
   "metadata": {},
   "source": [
    "## 4. Triple Exponential Smoothing Model"
   ]
  },
  {
   "cell_type": "code",
   "execution_count": 134,
   "metadata": {},
   "outputs": [
    {
     "name": "stderr",
     "output_type": "stream",
     "text": [
      "/Users/fitrie/.conda/envs/py3-TF2.0/lib/python3.6/site-packages/statsmodels/tsa/base/tsa_model.py:527: ValueWarning:\n",
      "\n",
      "No frequency information was provided, so inferred frequency D will be used.\n",
      "\n",
      "/Users/fitrie/.conda/envs/py3-TF2.0/lib/python3.6/site-packages/statsmodels/tsa/holtwinters/model.py:922: ConvergenceWarning:\n",
      "\n",
      "Optimization failed to converge. Check mle_retvals.\n",
      "\n"
     ]
    },
    {
     "name": "stdout",
     "output_type": "stream",
     "text": [
      "Root Mean Square Error for Triple Exponential Model:  31760.03710163942\n"
     ]
    }
   ],
   "source": [
    "from statsmodels.tsa.api import ExponentialSmoothing\n",
    "\n",
    "triple = ExponentialSmoothing(model_train.Cases,\n",
    "                              trend=\"additive\",\n",
    "                              seasonal=\"additive\",\n",
    "                              seasonal_periods=3).fit(optimized=True)\n",
    "prediction_triple = triple.forecast(len(valid))\n",
    "y_pred['Triple Exponential'] = prediction_triple\n",
    "\n",
    "\n",
    "model_scores.append(np.sqrt(mean_squared_error(y_pred[\"Cases\"],y_pred[\"Triple Exponential\"])))\n",
    "print(\"Root Mean Square Error for Triple Exponential Model: \",np.sqrt(mean_squared_error(valid[\"Cases\"],y_pred[\"Triple Exponential\"])))\n"
   ]
  },
  {
   "cell_type": "code",
   "execution_count": 135,
   "metadata": {},
   "outputs": [
    {
     "data": {
      "text/html": [
       "<div>\n",
       "<style scoped>\n",
       "    .dataframe tbody tr th:only-of-type {\n",
       "        vertical-align: middle;\n",
       "    }\n",
       "\n",
       "    .dataframe tbody tr th {\n",
       "        vertical-align: top;\n",
       "    }\n",
       "\n",
       "    .dataframe thead th {\n",
       "        text-align: right;\n",
       "    }\n",
       "</style>\n",
       "<table border=\"1\" class=\"dataframe\">\n",
       "  <thead>\n",
       "    <tr style=\"text-align: right;\">\n",
       "      <th></th>\n",
       "      <th>Model Name</th>\n",
       "      <th>Root Mean Squared Error</th>\n",
       "    </tr>\n",
       "  </thead>\n",
       "  <tbody>\n",
       "    <tr>\n",
       "      <th>2</th>\n",
       "      <td>Polynomial Regression Model</td>\n",
       "      <td>5.850421e-09</td>\n",
       "    </tr>\n",
       "    <tr>\n",
       "      <th>3</th>\n",
       "      <td>Triple Exponential</td>\n",
       "      <td>3.176004e+04</td>\n",
       "    </tr>\n",
       "    <tr>\n",
       "      <th>0</th>\n",
       "      <td>ARIMA Model</td>\n",
       "      <td>3.816104e+04</td>\n",
       "    </tr>\n",
       "    <tr>\n",
       "      <th>1</th>\n",
       "      <td>SARIMA Model</td>\n",
       "      <td>3.816104e+04</td>\n",
       "    </tr>\n",
       "  </tbody>\n",
       "</table>\n",
       "</div>"
      ],
      "text/plain": [
       "                    Model Name  Root Mean Squared Error\n",
       "2  Polynomial Regression Model             5.850421e-09\n",
       "3           Triple Exponential             3.176004e+04\n",
       "0                  ARIMA Model             3.816104e+04\n",
       "1                 SARIMA Model             3.816104e+04"
      ]
     },
     "execution_count": 135,
     "metadata": {},
     "output_type": "execute_result"
    }
   ],
   "source": [
    "model_names=[\"ARIMA Model\",\"SARIMA Model\",\"Polynomial Regression Model\",'Triple Exponential']\n",
    "model_summary=pd.DataFrame(zip(model_names,model_scores),columns=[\"Model Name\",\"Root Mean Squared Error\"]).sort_values([\"Root Mean Squared Error\"])\n",
    "model_summary"
   ]
  },
  {
   "cell_type": "code",
   "execution_count": 136,
   "metadata": {},
   "outputs": [
    {
     "data": {
      "application/vnd.plotly.v1+json": {
       "config": {
        "plotlyServerURL": "https://plot.ly"
       },
       "data": [
        {
         "mode": "lines+markers",
         "name": "Train Data for Confirmed Cases",
         "type": "scatter",
         "x": [
          "2021-01-01T00:00:00+00:00",
          "2021-01-02T00:00:00+00:00",
          "2021-01-03T00:00:00+00:00",
          "2021-01-04T00:00:00+00:00",
          "2021-01-05T00:00:00+00:00",
          "2021-01-06T00:00:00+00:00",
          "2021-01-07T00:00:00+00:00",
          "2021-01-08T00:00:00+00:00",
          "2021-01-09T00:00:00+00:00",
          "2021-01-10T00:00:00+00:00",
          "2021-01-11T00:00:00+00:00",
          "2021-01-12T00:00:00+00:00",
          "2021-01-13T00:00:00+00:00",
          "2021-01-14T00:00:00+00:00",
          "2021-01-15T00:00:00+00:00",
          "2021-01-16T00:00:00+00:00",
          "2021-01-17T00:00:00+00:00",
          "2021-01-18T00:00:00+00:00",
          "2021-01-19T00:00:00+00:00",
          "2021-01-20T00:00:00+00:00",
          "2021-01-21T00:00:00+00:00",
          "2021-01-22T00:00:00+00:00",
          "2021-01-23T00:00:00+00:00",
          "2021-01-24T00:00:00+00:00",
          "2021-01-25T00:00:00+00:00",
          "2021-01-26T00:00:00+00:00",
          "2021-01-27T00:00:00+00:00",
          "2021-01-28T00:00:00+00:00",
          "2021-01-29T00:00:00+00:00",
          "2021-01-30T00:00:00+00:00",
          "2021-01-31T00:00:00+00:00",
          "2021-02-01T00:00:00+00:00",
          "2021-02-02T00:00:00+00:00",
          "2021-02-03T00:00:00+00:00",
          "2021-02-04T00:00:00+00:00",
          "2021-02-05T00:00:00+00:00",
          "2021-02-06T00:00:00+00:00",
          "2021-02-07T00:00:00+00:00",
          "2021-02-08T00:00:00+00:00",
          "2021-02-09T00:00:00+00:00",
          "2021-02-10T00:00:00+00:00",
          "2021-02-11T00:00:00+00:00",
          "2021-02-12T00:00:00+00:00",
          "2021-02-13T00:00:00+00:00",
          "2021-02-14T00:00:00+00:00",
          "2021-02-15T00:00:00+00:00",
          "2021-02-16T00:00:00+00:00",
          "2021-02-17T00:00:00+00:00",
          "2021-02-18T00:00:00+00:00",
          "2021-02-19T00:00:00+00:00",
          "2021-02-20T00:00:00+00:00",
          "2021-02-21T00:00:00+00:00",
          "2021-02-22T00:00:00+00:00",
          "2021-02-23T00:00:00+00:00",
          "2021-02-24T00:00:00+00:00",
          "2021-02-25T00:00:00+00:00",
          "2021-02-26T00:00:00+00:00",
          "2021-02-27T00:00:00+00:00",
          "2021-02-28T00:00:00+00:00",
          "2021-03-01T00:00:00+00:00",
          "2021-03-02T00:00:00+00:00",
          "2021-03-03T00:00:00+00:00",
          "2021-03-04T00:00:00+00:00",
          "2021-03-05T00:00:00+00:00",
          "2021-03-06T00:00:00+00:00",
          "2021-03-07T00:00:00+00:00",
          "2021-03-08T00:00:00+00:00",
          "2021-03-09T00:00:00+00:00",
          "2021-03-10T00:00:00+00:00",
          "2021-03-11T00:00:00+00:00",
          "2021-03-12T00:00:00+00:00",
          "2021-03-13T00:00:00+00:00",
          "2021-03-14T00:00:00+00:00",
          "2021-03-15T00:00:00+00:00",
          "2021-03-16T00:00:00+00:00",
          "2021-03-17T00:00:00+00:00",
          "2021-03-18T00:00:00+00:00",
          "2021-03-19T00:00:00+00:00",
          "2021-03-20T00:00:00+00:00",
          "2021-03-21T00:00:00+00:00",
          "2021-03-22T00:00:00+00:00",
          "2021-03-23T00:00:00+00:00",
          "2021-03-24T00:00:00+00:00",
          "2021-03-25T00:00:00+00:00",
          "2021-03-26T00:00:00+00:00",
          "2021-03-27T00:00:00+00:00",
          "2021-03-28T00:00:00+00:00",
          "2021-03-29T00:00:00+00:00",
          "2021-03-30T00:00:00+00:00",
          "2021-03-31T00:00:00+00:00",
          "2021-04-01T00:00:00+00:00",
          "2021-04-02T00:00:00+00:00",
          "2021-04-03T00:00:00+00:00",
          "2021-04-04T00:00:00+00:00",
          "2021-04-05T00:00:00+00:00",
          "2021-04-06T00:00:00+00:00",
          "2021-04-07T00:00:00+00:00",
          "2021-04-08T00:00:00+00:00",
          "2021-04-09T00:00:00+00:00",
          "2021-04-10T00:00:00+00:00",
          "2021-04-11T00:00:00+00:00",
          "2021-04-12T00:00:00+00:00",
          "2021-04-13T00:00:00+00:00",
          "2021-04-14T00:00:00+00:00",
          "2021-04-15T00:00:00+00:00",
          "2021-04-16T00:00:00+00:00",
          "2021-04-17T00:00:00+00:00",
          "2021-04-18T00:00:00+00:00",
          "2021-04-19T00:00:00+00:00",
          "2021-04-20T00:00:00+00:00",
          "2021-04-21T00:00:00+00:00",
          "2021-04-22T00:00:00+00:00",
          "2021-04-23T00:00:00+00:00",
          "2021-04-24T00:00:00+00:00",
          "2021-04-25T00:00:00+00:00",
          "2021-04-26T00:00:00+00:00",
          "2021-04-27T00:00:00+00:00",
          "2021-04-28T00:00:00+00:00",
          "2021-04-29T00:00:00+00:00",
          "2021-04-30T00:00:00+00:00",
          "2021-05-01T00:00:00+00:00",
          "2021-05-02T00:00:00+00:00",
          "2021-05-03T00:00:00+00:00",
          "2021-05-04T00:00:00+00:00",
          "2021-05-05T00:00:00+00:00",
          "2021-05-06T00:00:00+00:00",
          "2021-05-07T00:00:00+00:00",
          "2021-05-08T00:00:00+00:00",
          "2021-05-09T00:00:00+00:00",
          "2021-05-10T00:00:00+00:00",
          "2021-05-11T00:00:00+00:00",
          "2021-05-12T00:00:00+00:00",
          "2021-05-13T00:00:00+00:00",
          "2021-05-14T00:00:00+00:00",
          "2021-05-15T00:00:00+00:00",
          "2021-05-16T00:00:00+00:00",
          "2021-05-17T00:00:00+00:00",
          "2021-05-18T00:00:00+00:00",
          "2021-05-19T00:00:00+00:00",
          "2021-05-20T00:00:00+00:00",
          "2021-05-21T00:00:00+00:00",
          "2021-05-22T00:00:00+00:00",
          "2021-05-23T00:00:00+00:00",
          "2021-05-24T00:00:00+00:00",
          "2021-05-25T00:00:00+00:00",
          "2021-05-26T00:00:00+00:00",
          "2021-05-27T00:00:00+00:00",
          "2021-05-28T00:00:00+00:00",
          "2021-05-29T00:00:00+00:00",
          "2021-05-30T00:00:00+00:00",
          "2021-05-31T00:00:00+00:00",
          "2021-06-01T00:00:00+00:00",
          "2021-06-02T00:00:00+00:00",
          "2021-06-03T00:00:00+00:00",
          "2021-06-04T00:00:00+00:00",
          "2021-06-05T00:00:00+00:00",
          "2021-06-06T00:00:00+00:00",
          "2021-06-07T00:00:00+00:00",
          "2021-06-08T00:00:00+00:00",
          "2021-06-09T00:00:00+00:00",
          "2021-06-10T00:00:00+00:00",
          "2021-06-11T00:00:00+00:00",
          "2021-06-12T00:00:00+00:00",
          "2021-06-13T00:00:00+00:00",
          "2021-06-14T00:00:00+00:00",
          "2021-06-15T00:00:00+00:00",
          "2021-06-16T00:00:00+00:00",
          "2021-06-17T00:00:00+00:00",
          "2021-06-18T00:00:00+00:00",
          "2021-06-19T00:00:00+00:00",
          "2021-06-20T00:00:00+00:00",
          "2021-06-21T00:00:00+00:00",
          "2021-06-22T00:00:00+00:00",
          "2021-06-23T00:00:00+00:00",
          "2021-06-24T00:00:00+00:00",
          "2021-06-25T00:00:00+00:00",
          "2021-06-26T00:00:00+00:00",
          "2021-06-27T00:00:00+00:00",
          "2021-06-28T00:00:00+00:00",
          "2021-06-29T00:00:00+00:00",
          "2021-06-30T00:00:00+00:00",
          "2021-07-01T00:00:00+00:00",
          "2021-07-02T00:00:00+00:00",
          "2021-07-03T00:00:00+00:00",
          "2021-07-04T00:00:00+00:00",
          "2021-07-05T00:00:00+00:00",
          "2021-07-06T00:00:00+00:00",
          "2021-07-07T00:00:00+00:00",
          "2021-07-08T00:00:00+00:00",
          "2021-07-09T00:00:00+00:00",
          "2021-07-10T00:00:00+00:00",
          "2021-07-11T00:00:00+00:00",
          "2021-07-12T00:00:00+00:00",
          "2021-07-13T00:00:00+00:00",
          "2021-07-14T00:00:00+00:00",
          "2021-07-15T00:00:00+00:00",
          "2021-07-16T00:00:00+00:00",
          "2021-07-17T00:00:00+00:00",
          "2021-07-18T00:00:00+00:00",
          "2021-07-19T00:00:00+00:00",
          "2021-07-20T00:00:00+00:00",
          "2021-07-21T00:00:00+00:00",
          "2021-07-22T00:00:00+00:00",
          "2021-07-23T00:00:00+00:00",
          "2021-07-24T00:00:00+00:00",
          "2021-07-25T00:00:00+00:00",
          "2021-07-26T00:00:00+00:00",
          "2021-07-27T00:00:00+00:00",
          "2021-07-28T00:00:00+00:00",
          "2021-07-29T00:00:00+00:00",
          "2021-07-30T00:00:00+00:00",
          "2021-07-31T00:00:00+00:00",
          "2021-08-01T00:00:00+00:00",
          "2021-08-02T00:00:00+00:00",
          "2021-08-03T00:00:00+00:00",
          "2021-08-04T00:00:00+00:00",
          "2021-08-05T00:00:00+00:00",
          "2021-08-06T00:00:00+00:00",
          "2021-08-07T00:00:00+00:00",
          "2021-08-08T00:00:00+00:00",
          "2021-08-09T00:00:00+00:00",
          "2021-08-10T00:00:00+00:00",
          "2021-08-11T00:00:00+00:00",
          "2021-08-12T00:00:00+00:00",
          "2021-08-13T00:00:00+00:00",
          "2021-08-14T00:00:00+00:00",
          "2021-08-15T00:00:00+00:00",
          "2021-08-16T00:00:00+00:00",
          "2021-08-17T00:00:00+00:00"
         ],
         "y": [
          751270,
          758473,
          765350,
          772103,
          779548,
          788402,
          797723,
          808340,
          818386,
          828026,
          836718,
          846765,
          858043,
          869600,
          882418,
          896642,
          907929,
          917015,
          927380,
          939948,
          951651,
          965283,
          977474,
          989262,
          999256,
          1012350,
          1024298,
          1037993,
          1051795,
          1066313,
          1078314,
          1089308,
          1099687,
          1111671,
          1123105,
          1134854,
          1147010,
          1157837,
          1166079,
          1174779,
          1183555,
          1191990,
          1201859,
          1210703,
          1217468,
          1223930,
          1233959,
          1243646,
          1252685,
          1263299,
          1271353,
          1278653,
          1288833,
          1298608,
          1306141,
          1314634,
          1322866,
          1329074,
          1334634,
          1341314,
          1347026,
          1353834,
          1361098,
          1368069,
          1373836,
          1379662,
          1386556,
          1392945,
          1398578,
          1403722,
          1410134,
          1414741,
          1419455,
          1425044,
          1430458,
          1437283,
          1443853,
          1450132,
          1455788,
          1460184,
          1465928,
          1471225,
          1476452,
          1482559,
          1487541,
          1492002,
          1496085,
          1501093,
          1505775,
          1511712,
          1517854,
          1523179,
          1527524,
          1534255,
          1537967,
          1542516,
          1547376,
          1552880,
          1558145,
          1562868,
          1566995,
          1571824,
          1577526,
          1583182,
          1589359,
          1594722,
          1599763,
          1604348,
          1609300,
          1614849,
          1620569,
          1626812,
          1632248,
          1636792,
          1641194,
          1647138,
          1651794,
          1657035,
          1662868,
          1668368,
          1672880,
          1677274,
          1682004,
          1686373,
          1691658,
          1697305,
          1703632,
          1709762,
          1713684,
          1718575,
          1723596,
          1728204,
          1731652,
          1734285,
          1736670,
          1739750,
          1744045,
          1748230,
          1753101,
          1758898,
          1764644,
          1769940,
          1775220,
          1781127,
          1786187,
          1791221,
          1797499,
          1803361,
          1809926,
          1816041,
          1821703,
          1826527,
          1831773,
          1837126,
          1843612,
          1850206,
          1856038,
          1863031,
          1869325,
          1877050,
          1885942,
          1894025,
          1901490,
          1911358,
          1919547,
          1927708,
          1937652,
          1950276,
          1963266,
          1976172,
          1989909,
          2004445,
          2018113,
          2033421,
          2053995,
          2072867,
          2093962,
          2115304,
          2135998,
          2156465,
          2178272,
          2203108,
          2228938,
          2256851,
          2284084,
          2313829,
          2345018,
          2379397,
          2417788,
          2455912,
          2491006,
          2527203,
          2567630,
          2615529,
          2670046,
          2726803,
          2780803,
          2832755,
          2877476,
          2911733,
          2950058,
          2983830,
          3033339,
          3082410,
          3127826,
          3166505,
          3194733,
          3239936,
          3287727,
          3331206,
          3372374,
          3409658,
          3440396,
          3462800,
          3496700,
          3532567,
          3568331,
          3607863,
          3639616,
          3666031,
          3686740,
          3718821,
          3749446,
          3774155,
          3804943,
          3833541,
          3854354,
          3871738,
          3892479
         ]
        },
        {
         "mode": "lines+markers",
         "name": "Validation Data for Confirmed Cases",
         "type": "scatter",
         "x": [
          "2021-08-18T00:00:00+00:00",
          "2021-08-19T00:00:00+00:00",
          "2021-08-20T00:00:00+00:00",
          "2021-08-21T00:00:00+00:00",
          "2021-08-22T00:00:00+00:00",
          "2021-08-23T00:00:00+00:00",
          "2021-08-24T00:00:00+00:00",
          "2021-08-25T00:00:00+00:00",
          "2021-08-26T00:00:00+00:00",
          "2021-08-27T00:00:00+00:00",
          "2021-08-28T00:00:00+00:00",
          "2021-08-29T00:00:00+00:00",
          "2021-08-30T00:00:00+00:00"
         ],
         "y": [
          3908247,
          3930300,
          3950304,
          3967048,
          3979456,
          3989060,
          4008166,
          4026837,
          4043736,
          4056354,
          4066404,
          4073831,
          4089801
         ]
        },
        {
         "mode": "lines+markers",
         "name": "Prediction for Confirmed Cases",
         "type": "scatter",
         "x": [
          "2021-08-18T00:00:00+00:00",
          "2021-08-19T00:00:00+00:00",
          "2021-08-20T00:00:00+00:00",
          "2021-08-21T00:00:00+00:00",
          "2021-08-22T00:00:00+00:00",
          "2021-08-23T00:00:00+00:00",
          "2021-08-24T00:00:00+00:00",
          "2021-08-25T00:00:00+00:00",
          "2021-08-26T00:00:00+00:00",
          "2021-08-27T00:00:00+00:00",
          "2021-08-28T00:00:00+00:00",
          "2021-08-29T00:00:00+00:00",
          "2021-08-30T00:00:00+00:00"
         ],
         "y": [
          3909884.9129359103,
          3931919.5254648346,
          3952563.93165313,
          3970002.573013891,
          3992037.1855428154,
          4012681.5917311106,
          4030120.2330918717,
          4052154.845620796,
          4072799.2518090913,
          4090237.8931698524,
          4112272.505698777,
          4132916.911887072,
          4150355.553247833
         ]
        }
       ],
       "layout": {
        "legend": {
         "traceorder": "normal",
         "x": 0,
         "y": 1
        },
        "template": {
         "data": {
          "bar": [
           {
            "error_x": {
             "color": "#2a3f5f"
            },
            "error_y": {
             "color": "#2a3f5f"
            },
            "marker": {
             "line": {
              "color": "#E5ECF6",
              "width": 0.5
             },
             "pattern": {
              "fillmode": "overlay",
              "size": 10,
              "solidity": 0.2
             }
            },
            "type": "bar"
           }
          ],
          "barpolar": [
           {
            "marker": {
             "line": {
              "color": "#E5ECF6",
              "width": 0.5
             },
             "pattern": {
              "fillmode": "overlay",
              "size": 10,
              "solidity": 0.2
             }
            },
            "type": "barpolar"
           }
          ],
          "carpet": [
           {
            "aaxis": {
             "endlinecolor": "#2a3f5f",
             "gridcolor": "white",
             "linecolor": "white",
             "minorgridcolor": "white",
             "startlinecolor": "#2a3f5f"
            },
            "baxis": {
             "endlinecolor": "#2a3f5f",
             "gridcolor": "white",
             "linecolor": "white",
             "minorgridcolor": "white",
             "startlinecolor": "#2a3f5f"
            },
            "type": "carpet"
           }
          ],
          "choropleth": [
           {
            "colorbar": {
             "outlinewidth": 0,
             "ticks": ""
            },
            "type": "choropleth"
           }
          ],
          "contour": [
           {
            "colorbar": {
             "outlinewidth": 0,
             "ticks": ""
            },
            "colorscale": [
             [
              0,
              "#0d0887"
             ],
             [
              0.1111111111111111,
              "#46039f"
             ],
             [
              0.2222222222222222,
              "#7201a8"
             ],
             [
              0.3333333333333333,
              "#9c179e"
             ],
             [
              0.4444444444444444,
              "#bd3786"
             ],
             [
              0.5555555555555556,
              "#d8576b"
             ],
             [
              0.6666666666666666,
              "#ed7953"
             ],
             [
              0.7777777777777778,
              "#fb9f3a"
             ],
             [
              0.8888888888888888,
              "#fdca26"
             ],
             [
              1,
              "#f0f921"
             ]
            ],
            "type": "contour"
           }
          ],
          "contourcarpet": [
           {
            "colorbar": {
             "outlinewidth": 0,
             "ticks": ""
            },
            "type": "contourcarpet"
           }
          ],
          "heatmap": [
           {
            "colorbar": {
             "outlinewidth": 0,
             "ticks": ""
            },
            "colorscale": [
             [
              0,
              "#0d0887"
             ],
             [
              0.1111111111111111,
              "#46039f"
             ],
             [
              0.2222222222222222,
              "#7201a8"
             ],
             [
              0.3333333333333333,
              "#9c179e"
             ],
             [
              0.4444444444444444,
              "#bd3786"
             ],
             [
              0.5555555555555556,
              "#d8576b"
             ],
             [
              0.6666666666666666,
              "#ed7953"
             ],
             [
              0.7777777777777778,
              "#fb9f3a"
             ],
             [
              0.8888888888888888,
              "#fdca26"
             ],
             [
              1,
              "#f0f921"
             ]
            ],
            "type": "heatmap"
           }
          ],
          "heatmapgl": [
           {
            "colorbar": {
             "outlinewidth": 0,
             "ticks": ""
            },
            "colorscale": [
             [
              0,
              "#0d0887"
             ],
             [
              0.1111111111111111,
              "#46039f"
             ],
             [
              0.2222222222222222,
              "#7201a8"
             ],
             [
              0.3333333333333333,
              "#9c179e"
             ],
             [
              0.4444444444444444,
              "#bd3786"
             ],
             [
              0.5555555555555556,
              "#d8576b"
             ],
             [
              0.6666666666666666,
              "#ed7953"
             ],
             [
              0.7777777777777778,
              "#fb9f3a"
             ],
             [
              0.8888888888888888,
              "#fdca26"
             ],
             [
              1,
              "#f0f921"
             ]
            ],
            "type": "heatmapgl"
           }
          ],
          "histogram": [
           {
            "marker": {
             "pattern": {
              "fillmode": "overlay",
              "size": 10,
              "solidity": 0.2
             }
            },
            "type": "histogram"
           }
          ],
          "histogram2d": [
           {
            "colorbar": {
             "outlinewidth": 0,
             "ticks": ""
            },
            "colorscale": [
             [
              0,
              "#0d0887"
             ],
             [
              0.1111111111111111,
              "#46039f"
             ],
             [
              0.2222222222222222,
              "#7201a8"
             ],
             [
              0.3333333333333333,
              "#9c179e"
             ],
             [
              0.4444444444444444,
              "#bd3786"
             ],
             [
              0.5555555555555556,
              "#d8576b"
             ],
             [
              0.6666666666666666,
              "#ed7953"
             ],
             [
              0.7777777777777778,
              "#fb9f3a"
             ],
             [
              0.8888888888888888,
              "#fdca26"
             ],
             [
              1,
              "#f0f921"
             ]
            ],
            "type": "histogram2d"
           }
          ],
          "histogram2dcontour": [
           {
            "colorbar": {
             "outlinewidth": 0,
             "ticks": ""
            },
            "colorscale": [
             [
              0,
              "#0d0887"
             ],
             [
              0.1111111111111111,
              "#46039f"
             ],
             [
              0.2222222222222222,
              "#7201a8"
             ],
             [
              0.3333333333333333,
              "#9c179e"
             ],
             [
              0.4444444444444444,
              "#bd3786"
             ],
             [
              0.5555555555555556,
              "#d8576b"
             ],
             [
              0.6666666666666666,
              "#ed7953"
             ],
             [
              0.7777777777777778,
              "#fb9f3a"
             ],
             [
              0.8888888888888888,
              "#fdca26"
             ],
             [
              1,
              "#f0f921"
             ]
            ],
            "type": "histogram2dcontour"
           }
          ],
          "mesh3d": [
           {
            "colorbar": {
             "outlinewidth": 0,
             "ticks": ""
            },
            "type": "mesh3d"
           }
          ],
          "parcoords": [
           {
            "line": {
             "colorbar": {
              "outlinewidth": 0,
              "ticks": ""
             }
            },
            "type": "parcoords"
           }
          ],
          "pie": [
           {
            "automargin": true,
            "type": "pie"
           }
          ],
          "scatter": [
           {
            "marker": {
             "colorbar": {
              "outlinewidth": 0,
              "ticks": ""
             }
            },
            "type": "scatter"
           }
          ],
          "scatter3d": [
           {
            "line": {
             "colorbar": {
              "outlinewidth": 0,
              "ticks": ""
             }
            },
            "marker": {
             "colorbar": {
              "outlinewidth": 0,
              "ticks": ""
             }
            },
            "type": "scatter3d"
           }
          ],
          "scattercarpet": [
           {
            "marker": {
             "colorbar": {
              "outlinewidth": 0,
              "ticks": ""
             }
            },
            "type": "scattercarpet"
           }
          ],
          "scattergeo": [
           {
            "marker": {
             "colorbar": {
              "outlinewidth": 0,
              "ticks": ""
             }
            },
            "type": "scattergeo"
           }
          ],
          "scattergl": [
           {
            "marker": {
             "colorbar": {
              "outlinewidth": 0,
              "ticks": ""
             }
            },
            "type": "scattergl"
           }
          ],
          "scattermapbox": [
           {
            "marker": {
             "colorbar": {
              "outlinewidth": 0,
              "ticks": ""
             }
            },
            "type": "scattermapbox"
           }
          ],
          "scatterpolar": [
           {
            "marker": {
             "colorbar": {
              "outlinewidth": 0,
              "ticks": ""
             }
            },
            "type": "scatterpolar"
           }
          ],
          "scatterpolargl": [
           {
            "marker": {
             "colorbar": {
              "outlinewidth": 0,
              "ticks": ""
             }
            },
            "type": "scatterpolargl"
           }
          ],
          "scatterternary": [
           {
            "marker": {
             "colorbar": {
              "outlinewidth": 0,
              "ticks": ""
             }
            },
            "type": "scatterternary"
           }
          ],
          "surface": [
           {
            "colorbar": {
             "outlinewidth": 0,
             "ticks": ""
            },
            "colorscale": [
             [
              0,
              "#0d0887"
             ],
             [
              0.1111111111111111,
              "#46039f"
             ],
             [
              0.2222222222222222,
              "#7201a8"
             ],
             [
              0.3333333333333333,
              "#9c179e"
             ],
             [
              0.4444444444444444,
              "#bd3786"
             ],
             [
              0.5555555555555556,
              "#d8576b"
             ],
             [
              0.6666666666666666,
              "#ed7953"
             ],
             [
              0.7777777777777778,
              "#fb9f3a"
             ],
             [
              0.8888888888888888,
              "#fdca26"
             ],
             [
              1,
              "#f0f921"
             ]
            ],
            "type": "surface"
           }
          ],
          "table": [
           {
            "cells": {
             "fill": {
              "color": "#EBF0F8"
             },
             "line": {
              "color": "white"
             }
            },
            "header": {
             "fill": {
              "color": "#C8D4E3"
             },
             "line": {
              "color": "white"
             }
            },
            "type": "table"
           }
          ]
         },
         "layout": {
          "annotationdefaults": {
           "arrowcolor": "#2a3f5f",
           "arrowhead": 0,
           "arrowwidth": 1
          },
          "autotypenumbers": "strict",
          "coloraxis": {
           "colorbar": {
            "outlinewidth": 0,
            "ticks": ""
           }
          },
          "colorscale": {
           "diverging": [
            [
             0,
             "#8e0152"
            ],
            [
             0.1,
             "#c51b7d"
            ],
            [
             0.2,
             "#de77ae"
            ],
            [
             0.3,
             "#f1b6da"
            ],
            [
             0.4,
             "#fde0ef"
            ],
            [
             0.5,
             "#f7f7f7"
            ],
            [
             0.6,
             "#e6f5d0"
            ],
            [
             0.7,
             "#b8e186"
            ],
            [
             0.8,
             "#7fbc41"
            ],
            [
             0.9,
             "#4d9221"
            ],
            [
             1,
             "#276419"
            ]
           ],
           "sequential": [
            [
             0,
             "#0d0887"
            ],
            [
             0.1111111111111111,
             "#46039f"
            ],
            [
             0.2222222222222222,
             "#7201a8"
            ],
            [
             0.3333333333333333,
             "#9c179e"
            ],
            [
             0.4444444444444444,
             "#bd3786"
            ],
            [
             0.5555555555555556,
             "#d8576b"
            ],
            [
             0.6666666666666666,
             "#ed7953"
            ],
            [
             0.7777777777777778,
             "#fb9f3a"
            ],
            [
             0.8888888888888888,
             "#fdca26"
            ],
            [
             1,
             "#f0f921"
            ]
           ],
           "sequentialminus": [
            [
             0,
             "#0d0887"
            ],
            [
             0.1111111111111111,
             "#46039f"
            ],
            [
             0.2222222222222222,
             "#7201a8"
            ],
            [
             0.3333333333333333,
             "#9c179e"
            ],
            [
             0.4444444444444444,
             "#bd3786"
            ],
            [
             0.5555555555555556,
             "#d8576b"
            ],
            [
             0.6666666666666666,
             "#ed7953"
            ],
            [
             0.7777777777777778,
             "#fb9f3a"
            ],
            [
             0.8888888888888888,
             "#fdca26"
            ],
            [
             1,
             "#f0f921"
            ]
           ]
          },
          "colorway": [
           "#636efa",
           "#EF553B",
           "#00cc96",
           "#ab63fa",
           "#FFA15A",
           "#19d3f3",
           "#FF6692",
           "#B6E880",
           "#FF97FF",
           "#FECB52"
          ],
          "font": {
           "color": "#2a3f5f"
          },
          "geo": {
           "bgcolor": "white",
           "lakecolor": "white",
           "landcolor": "#E5ECF6",
           "showlakes": true,
           "showland": true,
           "subunitcolor": "white"
          },
          "hoverlabel": {
           "align": "left"
          },
          "hovermode": "closest",
          "mapbox": {
           "style": "light"
          },
          "paper_bgcolor": "white",
          "plot_bgcolor": "#E5ECF6",
          "polar": {
           "angularaxis": {
            "gridcolor": "white",
            "linecolor": "white",
            "ticks": ""
           },
           "bgcolor": "#E5ECF6",
           "radialaxis": {
            "gridcolor": "white",
            "linecolor": "white",
            "ticks": ""
           }
          },
          "scene": {
           "xaxis": {
            "backgroundcolor": "#E5ECF6",
            "gridcolor": "white",
            "gridwidth": 2,
            "linecolor": "white",
            "showbackground": true,
            "ticks": "",
            "zerolinecolor": "white"
           },
           "yaxis": {
            "backgroundcolor": "#E5ECF6",
            "gridcolor": "white",
            "gridwidth": 2,
            "linecolor": "white",
            "showbackground": true,
            "ticks": "",
            "zerolinecolor": "white"
           },
           "zaxis": {
            "backgroundcolor": "#E5ECF6",
            "gridcolor": "white",
            "gridwidth": 2,
            "linecolor": "white",
            "showbackground": true,
            "ticks": "",
            "zerolinecolor": "white"
           }
          },
          "shapedefaults": {
           "line": {
            "color": "#2a3f5f"
           }
          },
          "ternary": {
           "aaxis": {
            "gridcolor": "white",
            "linecolor": "white",
            "ticks": ""
           },
           "baxis": {
            "gridcolor": "white",
            "linecolor": "white",
            "ticks": ""
           },
           "bgcolor": "#E5ECF6",
           "caxis": {
            "gridcolor": "white",
            "linecolor": "white",
            "ticks": ""
           }
          },
          "title": {
           "x": 0.05
          },
          "xaxis": {
           "automargin": true,
           "gridcolor": "white",
           "linecolor": "white",
           "ticks": "",
           "title": {
            "standoff": 15
           },
           "zerolinecolor": "white",
           "zerolinewidth": 2
          },
          "yaxis": {
           "automargin": true,
           "gridcolor": "white",
           "linecolor": "white",
           "ticks": "",
           "title": {
            "standoff": 15
           },
           "zerolinecolor": "white",
           "zerolinewidth": 2
          }
         }
        },
        "title": {
         "text": "Confirmed Cases Triple Exponential Model Prediction"
        },
        "xaxis": {
         "title": {
          "text": "Date"
         }
        },
        "yaxis": {
         "title": {
          "text": "Confirmed Cases"
         }
        }
       }
      },
      "text/html": [
       "<div>                            <div id=\"b4b237f2-c7cd-45dd-bc28-19fcb7e7e01d\" class=\"plotly-graph-div\" style=\"height:525px; width:100%;\"></div>            <script type=\"text/javascript\">                require([\"plotly\"], function(Plotly) {                    window.PLOTLYENV=window.PLOTLYENV || {};                                    if (document.getElementById(\"b4b237f2-c7cd-45dd-bc28-19fcb7e7e01d\")) {                    Plotly.newPlot(                        \"b4b237f2-c7cd-45dd-bc28-19fcb7e7e01d\",                        [{\"mode\":\"lines+markers\",\"name\":\"Train Data for Confirmed Cases\",\"type\":\"scatter\",\"x\":[\"2021-01-01T00:00:00+00:00\",\"2021-01-02T00:00:00+00:00\",\"2021-01-03T00:00:00+00:00\",\"2021-01-04T00:00:00+00:00\",\"2021-01-05T00:00:00+00:00\",\"2021-01-06T00:00:00+00:00\",\"2021-01-07T00:00:00+00:00\",\"2021-01-08T00:00:00+00:00\",\"2021-01-09T00:00:00+00:00\",\"2021-01-10T00:00:00+00:00\",\"2021-01-11T00:00:00+00:00\",\"2021-01-12T00:00:00+00:00\",\"2021-01-13T00:00:00+00:00\",\"2021-01-14T00:00:00+00:00\",\"2021-01-15T00:00:00+00:00\",\"2021-01-16T00:00:00+00:00\",\"2021-01-17T00:00:00+00:00\",\"2021-01-18T00:00:00+00:00\",\"2021-01-19T00:00:00+00:00\",\"2021-01-20T00:00:00+00:00\",\"2021-01-21T00:00:00+00:00\",\"2021-01-22T00:00:00+00:00\",\"2021-01-23T00:00:00+00:00\",\"2021-01-24T00:00:00+00:00\",\"2021-01-25T00:00:00+00:00\",\"2021-01-26T00:00:00+00:00\",\"2021-01-27T00:00:00+00:00\",\"2021-01-28T00:00:00+00:00\",\"2021-01-29T00:00:00+00:00\",\"2021-01-30T00:00:00+00:00\",\"2021-01-31T00:00:00+00:00\",\"2021-02-01T00:00:00+00:00\",\"2021-02-02T00:00:00+00:00\",\"2021-02-03T00:00:00+00:00\",\"2021-02-04T00:00:00+00:00\",\"2021-02-05T00:00:00+00:00\",\"2021-02-06T00:00:00+00:00\",\"2021-02-07T00:00:00+00:00\",\"2021-02-08T00:00:00+00:00\",\"2021-02-09T00:00:00+00:00\",\"2021-02-10T00:00:00+00:00\",\"2021-02-11T00:00:00+00:00\",\"2021-02-12T00:00:00+00:00\",\"2021-02-13T00:00:00+00:00\",\"2021-02-14T00:00:00+00:00\",\"2021-02-15T00:00:00+00:00\",\"2021-02-16T00:00:00+00:00\",\"2021-02-17T00:00:00+00:00\",\"2021-02-18T00:00:00+00:00\",\"2021-02-19T00:00:00+00:00\",\"2021-02-20T00:00:00+00:00\",\"2021-02-21T00:00:00+00:00\",\"2021-02-22T00:00:00+00:00\",\"2021-02-23T00:00:00+00:00\",\"2021-02-24T00:00:00+00:00\",\"2021-02-25T00:00:00+00:00\",\"2021-02-26T00:00:00+00:00\",\"2021-02-27T00:00:00+00:00\",\"2021-02-28T00:00:00+00:00\",\"2021-03-01T00:00:00+00:00\",\"2021-03-02T00:00:00+00:00\",\"2021-03-03T00:00:00+00:00\",\"2021-03-04T00:00:00+00:00\",\"2021-03-05T00:00:00+00:00\",\"2021-03-06T00:00:00+00:00\",\"2021-03-07T00:00:00+00:00\",\"2021-03-08T00:00:00+00:00\",\"2021-03-09T00:00:00+00:00\",\"2021-03-10T00:00:00+00:00\",\"2021-03-11T00:00:00+00:00\",\"2021-03-12T00:00:00+00:00\",\"2021-03-13T00:00:00+00:00\",\"2021-03-14T00:00:00+00:00\",\"2021-03-15T00:00:00+00:00\",\"2021-03-16T00:00:00+00:00\",\"2021-03-17T00:00:00+00:00\",\"2021-03-18T00:00:00+00:00\",\"2021-03-19T00:00:00+00:00\",\"2021-03-20T00:00:00+00:00\",\"2021-03-21T00:00:00+00:00\",\"2021-03-22T00:00:00+00:00\",\"2021-03-23T00:00:00+00:00\",\"2021-03-24T00:00:00+00:00\",\"2021-03-25T00:00:00+00:00\",\"2021-03-26T00:00:00+00:00\",\"2021-03-27T00:00:00+00:00\",\"2021-03-28T00:00:00+00:00\",\"2021-03-29T00:00:00+00:00\",\"2021-03-30T00:00:00+00:00\",\"2021-03-31T00:00:00+00:00\",\"2021-04-01T00:00:00+00:00\",\"2021-04-02T00:00:00+00:00\",\"2021-04-03T00:00:00+00:00\",\"2021-04-04T00:00:00+00:00\",\"2021-04-05T00:00:00+00:00\",\"2021-04-06T00:00:00+00:00\",\"2021-04-07T00:00:00+00:00\",\"2021-04-08T00:00:00+00:00\",\"2021-04-09T00:00:00+00:00\",\"2021-04-10T00:00:00+00:00\",\"2021-04-11T00:00:00+00:00\",\"2021-04-12T00:00:00+00:00\",\"2021-04-13T00:00:00+00:00\",\"2021-04-14T00:00:00+00:00\",\"2021-04-15T00:00:00+00:00\",\"2021-04-16T00:00:00+00:00\",\"2021-04-17T00:00:00+00:00\",\"2021-04-18T00:00:00+00:00\",\"2021-04-19T00:00:00+00:00\",\"2021-04-20T00:00:00+00:00\",\"2021-04-21T00:00:00+00:00\",\"2021-04-22T00:00:00+00:00\",\"2021-04-23T00:00:00+00:00\",\"2021-04-24T00:00:00+00:00\",\"2021-04-25T00:00:00+00:00\",\"2021-04-26T00:00:00+00:00\",\"2021-04-27T00:00:00+00:00\",\"2021-04-28T00:00:00+00:00\",\"2021-04-29T00:00:00+00:00\",\"2021-04-30T00:00:00+00:00\",\"2021-05-01T00:00:00+00:00\",\"2021-05-02T00:00:00+00:00\",\"2021-05-03T00:00:00+00:00\",\"2021-05-04T00:00:00+00:00\",\"2021-05-05T00:00:00+00:00\",\"2021-05-06T00:00:00+00:00\",\"2021-05-07T00:00:00+00:00\",\"2021-05-08T00:00:00+00:00\",\"2021-05-09T00:00:00+00:00\",\"2021-05-10T00:00:00+00:00\",\"2021-05-11T00:00:00+00:00\",\"2021-05-12T00:00:00+00:00\",\"2021-05-13T00:00:00+00:00\",\"2021-05-14T00:00:00+00:00\",\"2021-05-15T00:00:00+00:00\",\"2021-05-16T00:00:00+00:00\",\"2021-05-17T00:00:00+00:00\",\"2021-05-18T00:00:00+00:00\",\"2021-05-19T00:00:00+00:00\",\"2021-05-20T00:00:00+00:00\",\"2021-05-21T00:00:00+00:00\",\"2021-05-22T00:00:00+00:00\",\"2021-05-23T00:00:00+00:00\",\"2021-05-24T00:00:00+00:00\",\"2021-05-25T00:00:00+00:00\",\"2021-05-26T00:00:00+00:00\",\"2021-05-27T00:00:00+00:00\",\"2021-05-28T00:00:00+00:00\",\"2021-05-29T00:00:00+00:00\",\"2021-05-30T00:00:00+00:00\",\"2021-05-31T00:00:00+00:00\",\"2021-06-01T00:00:00+00:00\",\"2021-06-02T00:00:00+00:00\",\"2021-06-03T00:00:00+00:00\",\"2021-06-04T00:00:00+00:00\",\"2021-06-05T00:00:00+00:00\",\"2021-06-06T00:00:00+00:00\",\"2021-06-07T00:00:00+00:00\",\"2021-06-08T00:00:00+00:00\",\"2021-06-09T00:00:00+00:00\",\"2021-06-10T00:00:00+00:00\",\"2021-06-11T00:00:00+00:00\",\"2021-06-12T00:00:00+00:00\",\"2021-06-13T00:00:00+00:00\",\"2021-06-14T00:00:00+00:00\",\"2021-06-15T00:00:00+00:00\",\"2021-06-16T00:00:00+00:00\",\"2021-06-17T00:00:00+00:00\",\"2021-06-18T00:00:00+00:00\",\"2021-06-19T00:00:00+00:00\",\"2021-06-20T00:00:00+00:00\",\"2021-06-21T00:00:00+00:00\",\"2021-06-22T00:00:00+00:00\",\"2021-06-23T00:00:00+00:00\",\"2021-06-24T00:00:00+00:00\",\"2021-06-25T00:00:00+00:00\",\"2021-06-26T00:00:00+00:00\",\"2021-06-27T00:00:00+00:00\",\"2021-06-28T00:00:00+00:00\",\"2021-06-29T00:00:00+00:00\",\"2021-06-30T00:00:00+00:00\",\"2021-07-01T00:00:00+00:00\",\"2021-07-02T00:00:00+00:00\",\"2021-07-03T00:00:00+00:00\",\"2021-07-04T00:00:00+00:00\",\"2021-07-05T00:00:00+00:00\",\"2021-07-06T00:00:00+00:00\",\"2021-07-07T00:00:00+00:00\",\"2021-07-08T00:00:00+00:00\",\"2021-07-09T00:00:00+00:00\",\"2021-07-10T00:00:00+00:00\",\"2021-07-11T00:00:00+00:00\",\"2021-07-12T00:00:00+00:00\",\"2021-07-13T00:00:00+00:00\",\"2021-07-14T00:00:00+00:00\",\"2021-07-15T00:00:00+00:00\",\"2021-07-16T00:00:00+00:00\",\"2021-07-17T00:00:00+00:00\",\"2021-07-18T00:00:00+00:00\",\"2021-07-19T00:00:00+00:00\",\"2021-07-20T00:00:00+00:00\",\"2021-07-21T00:00:00+00:00\",\"2021-07-22T00:00:00+00:00\",\"2021-07-23T00:00:00+00:00\",\"2021-07-24T00:00:00+00:00\",\"2021-07-25T00:00:00+00:00\",\"2021-07-26T00:00:00+00:00\",\"2021-07-27T00:00:00+00:00\",\"2021-07-28T00:00:00+00:00\",\"2021-07-29T00:00:00+00:00\",\"2021-07-30T00:00:00+00:00\",\"2021-07-31T00:00:00+00:00\",\"2021-08-01T00:00:00+00:00\",\"2021-08-02T00:00:00+00:00\",\"2021-08-03T00:00:00+00:00\",\"2021-08-04T00:00:00+00:00\",\"2021-08-05T00:00:00+00:00\",\"2021-08-06T00:00:00+00:00\",\"2021-08-07T00:00:00+00:00\",\"2021-08-08T00:00:00+00:00\",\"2021-08-09T00:00:00+00:00\",\"2021-08-10T00:00:00+00:00\",\"2021-08-11T00:00:00+00:00\",\"2021-08-12T00:00:00+00:00\",\"2021-08-13T00:00:00+00:00\",\"2021-08-14T00:00:00+00:00\",\"2021-08-15T00:00:00+00:00\",\"2021-08-16T00:00:00+00:00\",\"2021-08-17T00:00:00+00:00\"],\"y\":[751270,758473,765350,772103,779548,788402,797723,808340,818386,828026,836718,846765,858043,869600,882418,896642,907929,917015,927380,939948,951651,965283,977474,989262,999256,1012350,1024298,1037993,1051795,1066313,1078314,1089308,1099687,1111671,1123105,1134854,1147010,1157837,1166079,1174779,1183555,1191990,1201859,1210703,1217468,1223930,1233959,1243646,1252685,1263299,1271353,1278653,1288833,1298608,1306141,1314634,1322866,1329074,1334634,1341314,1347026,1353834,1361098,1368069,1373836,1379662,1386556,1392945,1398578,1403722,1410134,1414741,1419455,1425044,1430458,1437283,1443853,1450132,1455788,1460184,1465928,1471225,1476452,1482559,1487541,1492002,1496085,1501093,1505775,1511712,1517854,1523179,1527524,1534255,1537967,1542516,1547376,1552880,1558145,1562868,1566995,1571824,1577526,1583182,1589359,1594722,1599763,1604348,1609300,1614849,1620569,1626812,1632248,1636792,1641194,1647138,1651794,1657035,1662868,1668368,1672880,1677274,1682004,1686373,1691658,1697305,1703632,1709762,1713684,1718575,1723596,1728204,1731652,1734285,1736670,1739750,1744045,1748230,1753101,1758898,1764644,1769940,1775220,1781127,1786187,1791221,1797499,1803361,1809926,1816041,1821703,1826527,1831773,1837126,1843612,1850206,1856038,1863031,1869325,1877050,1885942,1894025,1901490,1911358,1919547,1927708,1937652,1950276,1963266,1976172,1989909,2004445,2018113,2033421,2053995,2072867,2093962,2115304,2135998,2156465,2178272,2203108,2228938,2256851,2284084,2313829,2345018,2379397,2417788,2455912,2491006,2527203,2567630,2615529,2670046,2726803,2780803,2832755,2877476,2911733,2950058,2983830,3033339,3082410,3127826,3166505,3194733,3239936,3287727,3331206,3372374,3409658,3440396,3462800,3496700,3532567,3568331,3607863,3639616,3666031,3686740,3718821,3749446,3774155,3804943,3833541,3854354,3871738,3892479]},{\"mode\":\"lines+markers\",\"name\":\"Validation Data for Confirmed Cases\",\"type\":\"scatter\",\"x\":[\"2021-08-18T00:00:00+00:00\",\"2021-08-19T00:00:00+00:00\",\"2021-08-20T00:00:00+00:00\",\"2021-08-21T00:00:00+00:00\",\"2021-08-22T00:00:00+00:00\",\"2021-08-23T00:00:00+00:00\",\"2021-08-24T00:00:00+00:00\",\"2021-08-25T00:00:00+00:00\",\"2021-08-26T00:00:00+00:00\",\"2021-08-27T00:00:00+00:00\",\"2021-08-28T00:00:00+00:00\",\"2021-08-29T00:00:00+00:00\",\"2021-08-30T00:00:00+00:00\"],\"y\":[3908247,3930300,3950304,3967048,3979456,3989060,4008166,4026837,4043736,4056354,4066404,4073831,4089801]},{\"mode\":\"lines+markers\",\"name\":\"Prediction for Confirmed Cases\",\"type\":\"scatter\",\"x\":[\"2021-08-18T00:00:00+00:00\",\"2021-08-19T00:00:00+00:00\",\"2021-08-20T00:00:00+00:00\",\"2021-08-21T00:00:00+00:00\",\"2021-08-22T00:00:00+00:00\",\"2021-08-23T00:00:00+00:00\",\"2021-08-24T00:00:00+00:00\",\"2021-08-25T00:00:00+00:00\",\"2021-08-26T00:00:00+00:00\",\"2021-08-27T00:00:00+00:00\",\"2021-08-28T00:00:00+00:00\",\"2021-08-29T00:00:00+00:00\",\"2021-08-30T00:00:00+00:00\"],\"y\":[3909884.9129359103,3931919.5254648346,3952563.93165313,3970002.573013891,3992037.1855428154,4012681.5917311106,4030120.2330918717,4052154.845620796,4072799.2518090913,4090237.8931698524,4112272.505698777,4132916.911887072,4150355.553247833]}],                        {\"legend\":{\"traceorder\":\"normal\",\"x\":0,\"y\":1},\"template\":{\"data\":{\"bar\":[{\"error_x\":{\"color\":\"#2a3f5f\"},\"error_y\":{\"color\":\"#2a3f5f\"},\"marker\":{\"line\":{\"color\":\"#E5ECF6\",\"width\":0.5},\"pattern\":{\"fillmode\":\"overlay\",\"size\":10,\"solidity\":0.2}},\"type\":\"bar\"}],\"barpolar\":[{\"marker\":{\"line\":{\"color\":\"#E5ECF6\",\"width\":0.5},\"pattern\":{\"fillmode\":\"overlay\",\"size\":10,\"solidity\":0.2}},\"type\":\"barpolar\"}],\"carpet\":[{\"aaxis\":{\"endlinecolor\":\"#2a3f5f\",\"gridcolor\":\"white\",\"linecolor\":\"white\",\"minorgridcolor\":\"white\",\"startlinecolor\":\"#2a3f5f\"},\"baxis\":{\"endlinecolor\":\"#2a3f5f\",\"gridcolor\":\"white\",\"linecolor\":\"white\",\"minorgridcolor\":\"white\",\"startlinecolor\":\"#2a3f5f\"},\"type\":\"carpet\"}],\"choropleth\":[{\"colorbar\":{\"outlinewidth\":0,\"ticks\":\"\"},\"type\":\"choropleth\"}],\"contour\":[{\"colorbar\":{\"outlinewidth\":0,\"ticks\":\"\"},\"colorscale\":[[0.0,\"#0d0887\"],[0.1111111111111111,\"#46039f\"],[0.2222222222222222,\"#7201a8\"],[0.3333333333333333,\"#9c179e\"],[0.4444444444444444,\"#bd3786\"],[0.5555555555555556,\"#d8576b\"],[0.6666666666666666,\"#ed7953\"],[0.7777777777777778,\"#fb9f3a\"],[0.8888888888888888,\"#fdca26\"],[1.0,\"#f0f921\"]],\"type\":\"contour\"}],\"contourcarpet\":[{\"colorbar\":{\"outlinewidth\":0,\"ticks\":\"\"},\"type\":\"contourcarpet\"}],\"heatmap\":[{\"colorbar\":{\"outlinewidth\":0,\"ticks\":\"\"},\"colorscale\":[[0.0,\"#0d0887\"],[0.1111111111111111,\"#46039f\"],[0.2222222222222222,\"#7201a8\"],[0.3333333333333333,\"#9c179e\"],[0.4444444444444444,\"#bd3786\"],[0.5555555555555556,\"#d8576b\"],[0.6666666666666666,\"#ed7953\"],[0.7777777777777778,\"#fb9f3a\"],[0.8888888888888888,\"#fdca26\"],[1.0,\"#f0f921\"]],\"type\":\"heatmap\"}],\"heatmapgl\":[{\"colorbar\":{\"outlinewidth\":0,\"ticks\":\"\"},\"colorscale\":[[0.0,\"#0d0887\"],[0.1111111111111111,\"#46039f\"],[0.2222222222222222,\"#7201a8\"],[0.3333333333333333,\"#9c179e\"],[0.4444444444444444,\"#bd3786\"],[0.5555555555555556,\"#d8576b\"],[0.6666666666666666,\"#ed7953\"],[0.7777777777777778,\"#fb9f3a\"],[0.8888888888888888,\"#fdca26\"],[1.0,\"#f0f921\"]],\"type\":\"heatmapgl\"}],\"histogram\":[{\"marker\":{\"pattern\":{\"fillmode\":\"overlay\",\"size\":10,\"solidity\":0.2}},\"type\":\"histogram\"}],\"histogram2d\":[{\"colorbar\":{\"outlinewidth\":0,\"ticks\":\"\"},\"colorscale\":[[0.0,\"#0d0887\"],[0.1111111111111111,\"#46039f\"],[0.2222222222222222,\"#7201a8\"],[0.3333333333333333,\"#9c179e\"],[0.4444444444444444,\"#bd3786\"],[0.5555555555555556,\"#d8576b\"],[0.6666666666666666,\"#ed7953\"],[0.7777777777777778,\"#fb9f3a\"],[0.8888888888888888,\"#fdca26\"],[1.0,\"#f0f921\"]],\"type\":\"histogram2d\"}],\"histogram2dcontour\":[{\"colorbar\":{\"outlinewidth\":0,\"ticks\":\"\"},\"colorscale\":[[0.0,\"#0d0887\"],[0.1111111111111111,\"#46039f\"],[0.2222222222222222,\"#7201a8\"],[0.3333333333333333,\"#9c179e\"],[0.4444444444444444,\"#bd3786\"],[0.5555555555555556,\"#d8576b\"],[0.6666666666666666,\"#ed7953\"],[0.7777777777777778,\"#fb9f3a\"],[0.8888888888888888,\"#fdca26\"],[1.0,\"#f0f921\"]],\"type\":\"histogram2dcontour\"}],\"mesh3d\":[{\"colorbar\":{\"outlinewidth\":0,\"ticks\":\"\"},\"type\":\"mesh3d\"}],\"parcoords\":[{\"line\":{\"colorbar\":{\"outlinewidth\":0,\"ticks\":\"\"}},\"type\":\"parcoords\"}],\"pie\":[{\"automargin\":true,\"type\":\"pie\"}],\"scatter\":[{\"marker\":{\"colorbar\":{\"outlinewidth\":0,\"ticks\":\"\"}},\"type\":\"scatter\"}],\"scatter3d\":[{\"line\":{\"colorbar\":{\"outlinewidth\":0,\"ticks\":\"\"}},\"marker\":{\"colorbar\":{\"outlinewidth\":0,\"ticks\":\"\"}},\"type\":\"scatter3d\"}],\"scattercarpet\":[{\"marker\":{\"colorbar\":{\"outlinewidth\":0,\"ticks\":\"\"}},\"type\":\"scattercarpet\"}],\"scattergeo\":[{\"marker\":{\"colorbar\":{\"outlinewidth\":0,\"ticks\":\"\"}},\"type\":\"scattergeo\"}],\"scattergl\":[{\"marker\":{\"colorbar\":{\"outlinewidth\":0,\"ticks\":\"\"}},\"type\":\"scattergl\"}],\"scattermapbox\":[{\"marker\":{\"colorbar\":{\"outlinewidth\":0,\"ticks\":\"\"}},\"type\":\"scattermapbox\"}],\"scatterpolar\":[{\"marker\":{\"colorbar\":{\"outlinewidth\":0,\"ticks\":\"\"}},\"type\":\"scatterpolar\"}],\"scatterpolargl\":[{\"marker\":{\"colorbar\":{\"outlinewidth\":0,\"ticks\":\"\"}},\"type\":\"scatterpolargl\"}],\"scatterternary\":[{\"marker\":{\"colorbar\":{\"outlinewidth\":0,\"ticks\":\"\"}},\"type\":\"scatterternary\"}],\"surface\":[{\"colorbar\":{\"outlinewidth\":0,\"ticks\":\"\"},\"colorscale\":[[0.0,\"#0d0887\"],[0.1111111111111111,\"#46039f\"],[0.2222222222222222,\"#7201a8\"],[0.3333333333333333,\"#9c179e\"],[0.4444444444444444,\"#bd3786\"],[0.5555555555555556,\"#d8576b\"],[0.6666666666666666,\"#ed7953\"],[0.7777777777777778,\"#fb9f3a\"],[0.8888888888888888,\"#fdca26\"],[1.0,\"#f0f921\"]],\"type\":\"surface\"}],\"table\":[{\"cells\":{\"fill\":{\"color\":\"#EBF0F8\"},\"line\":{\"color\":\"white\"}},\"header\":{\"fill\":{\"color\":\"#C8D4E3\"},\"line\":{\"color\":\"white\"}},\"type\":\"table\"}]},\"layout\":{\"annotationdefaults\":{\"arrowcolor\":\"#2a3f5f\",\"arrowhead\":0,\"arrowwidth\":1},\"autotypenumbers\":\"strict\",\"coloraxis\":{\"colorbar\":{\"outlinewidth\":0,\"ticks\":\"\"}},\"colorscale\":{\"diverging\":[[0,\"#8e0152\"],[0.1,\"#c51b7d\"],[0.2,\"#de77ae\"],[0.3,\"#f1b6da\"],[0.4,\"#fde0ef\"],[0.5,\"#f7f7f7\"],[0.6,\"#e6f5d0\"],[0.7,\"#b8e186\"],[0.8,\"#7fbc41\"],[0.9,\"#4d9221\"],[1,\"#276419\"]],\"sequential\":[[0.0,\"#0d0887\"],[0.1111111111111111,\"#46039f\"],[0.2222222222222222,\"#7201a8\"],[0.3333333333333333,\"#9c179e\"],[0.4444444444444444,\"#bd3786\"],[0.5555555555555556,\"#d8576b\"],[0.6666666666666666,\"#ed7953\"],[0.7777777777777778,\"#fb9f3a\"],[0.8888888888888888,\"#fdca26\"],[1.0,\"#f0f921\"]],\"sequentialminus\":[[0.0,\"#0d0887\"],[0.1111111111111111,\"#46039f\"],[0.2222222222222222,\"#7201a8\"],[0.3333333333333333,\"#9c179e\"],[0.4444444444444444,\"#bd3786\"],[0.5555555555555556,\"#d8576b\"],[0.6666666666666666,\"#ed7953\"],[0.7777777777777778,\"#fb9f3a\"],[0.8888888888888888,\"#fdca26\"],[1.0,\"#f0f921\"]]},\"colorway\":[\"#636efa\",\"#EF553B\",\"#00cc96\",\"#ab63fa\",\"#FFA15A\",\"#19d3f3\",\"#FF6692\",\"#B6E880\",\"#FF97FF\",\"#FECB52\"],\"font\":{\"color\":\"#2a3f5f\"},\"geo\":{\"bgcolor\":\"white\",\"lakecolor\":\"white\",\"landcolor\":\"#E5ECF6\",\"showlakes\":true,\"showland\":true,\"subunitcolor\":\"white\"},\"hoverlabel\":{\"align\":\"left\"},\"hovermode\":\"closest\",\"mapbox\":{\"style\":\"light\"},\"paper_bgcolor\":\"white\",\"plot_bgcolor\":\"#E5ECF6\",\"polar\":{\"angularaxis\":{\"gridcolor\":\"white\",\"linecolor\":\"white\",\"ticks\":\"\"},\"bgcolor\":\"#E5ECF6\",\"radialaxis\":{\"gridcolor\":\"white\",\"linecolor\":\"white\",\"ticks\":\"\"}},\"scene\":{\"xaxis\":{\"backgroundcolor\":\"#E5ECF6\",\"gridcolor\":\"white\",\"gridwidth\":2,\"linecolor\":\"white\",\"showbackground\":true,\"ticks\":\"\",\"zerolinecolor\":\"white\"},\"yaxis\":{\"backgroundcolor\":\"#E5ECF6\",\"gridcolor\":\"white\",\"gridwidth\":2,\"linecolor\":\"white\",\"showbackground\":true,\"ticks\":\"\",\"zerolinecolor\":\"white\"},\"zaxis\":{\"backgroundcolor\":\"#E5ECF6\",\"gridcolor\":\"white\",\"gridwidth\":2,\"linecolor\":\"white\",\"showbackground\":true,\"ticks\":\"\",\"zerolinecolor\":\"white\"}},\"shapedefaults\":{\"line\":{\"color\":\"#2a3f5f\"}},\"ternary\":{\"aaxis\":{\"gridcolor\":\"white\",\"linecolor\":\"white\",\"ticks\":\"\"},\"baxis\":{\"gridcolor\":\"white\",\"linecolor\":\"white\",\"ticks\":\"\"},\"bgcolor\":\"#E5ECF6\",\"caxis\":{\"gridcolor\":\"white\",\"linecolor\":\"white\",\"ticks\":\"\"}},\"title\":{\"x\":0.05},\"xaxis\":{\"automargin\":true,\"gridcolor\":\"white\",\"linecolor\":\"white\",\"ticks\":\"\",\"title\":{\"standoff\":15},\"zerolinecolor\":\"white\",\"zerolinewidth\":2},\"yaxis\":{\"automargin\":true,\"gridcolor\":\"white\",\"linecolor\":\"white\",\"ticks\":\"\",\"title\":{\"standoff\":15},\"zerolinecolor\":\"white\",\"zerolinewidth\":2}}},\"title\":{\"text\":\"Confirmed Cases Triple Exponential Model Prediction\"},\"xaxis\":{\"title\":{\"text\":\"Date\"}},\"yaxis\":{\"title\":{\"text\":\"Confirmed Cases\"}}},                        {\"responsive\": true}                    ).then(function(){\n",
       "                            \n",
       "var gd = document.getElementById('b4b237f2-c7cd-45dd-bc28-19fcb7e7e01d');\n",
       "var x = new MutationObserver(function (mutations, observer) {{\n",
       "        var display = window.getComputedStyle(gd).display;\n",
       "        if (!display || display === 'none') {{\n",
       "            console.log([gd, 'removed!']);\n",
       "            Plotly.purge(gd);\n",
       "            observer.disconnect();\n",
       "        }}\n",
       "}});\n",
       "\n",
       "// Listen for the removal of the full notebook cells\n",
       "var notebookContainer = gd.closest('#notebook-container');\n",
       "if (notebookContainer) {{\n",
       "    x.observe(notebookContainer, {childList: true});\n",
       "}}\n",
       "\n",
       "// Listen for the clearing of the current output cell\n",
       "var outputEl = gd.closest('.output');\n",
       "if (outputEl) {{\n",
       "    x.observe(outputEl, {childList: true});\n",
       "}}\n",
       "\n",
       "                        })                };                });            </script>        </div>"
      ]
     },
     "metadata": {},
     "output_type": "display_data"
    }
   ],
   "source": [
    "fig=go.Figure()\n",
    "fig.add_trace(go.Scatter(x=model_train.index, y=model_train.Cases,\n",
    "                    mode='lines+markers',name=\"Train Data for Confirmed Cases\"))\n",
    "fig.add_trace(go.Scatter(x=valid.index, y=valid.Cases,\n",
    "                    mode='lines+markers',name=\"Validation Data for Confirmed Cases\",))\n",
    "fig.add_trace(go.Scatter(x=valid.index, y=y_pred[\"Triple Exponential\"],\n",
    "                    mode='lines+markers',name=\"Prediction for Confirmed Cases\",))\n",
    "fig.update_layout(title=\"Confirmed Cases Triple Exponential Model Prediction\",\n",
    "                 xaxis_title=\"Date\",yaxis_title=\"Confirmed Cases\",legend=dict(x=0,y=1,traceorder=\"normal\"))\n",
    "fig.show()"
   ]
  },
  {
   "cell_type": "markdown",
   "metadata": {},
   "source": [
    "## 5. Double Exponential (Holt)"
   ]
  },
  {
   "cell_type": "code",
   "execution_count": 137,
   "metadata": {},
   "outputs": [
    {
     "name": "stdout",
     "output_type": "stream",
     "text": [
      "Root Mean Square Error for Double Exponential Model:  36591.75872332698\n"
     ]
    },
    {
     "name": "stderr",
     "output_type": "stream",
     "text": [
      "/Users/fitrie/.conda/envs/py3-TF2.0/lib/python3.6/site-packages/statsmodels/tsa/base/tsa_model.py:527: ValueWarning:\n",
      "\n",
      "No frequency information was provided, so inferred frequency D will be used.\n",
      "\n",
      "/Users/fitrie/.conda/envs/py3-TF2.0/lib/python3.6/site-packages/statsmodels/tsa/holtwinters/model.py:922: ConvergenceWarning:\n",
      "\n",
      "Optimization failed to converge. Check mle_retvals.\n",
      "\n"
     ]
    }
   ],
   "source": [
    "from statsmodels.tsa.api import Holt\n",
    "\n",
    "double = Holt(model_train.Cases).fit(optimized=True)\n",
    "prediction_double = double.forecast(len(valid))\n",
    "y_pred['Double Exponential'] = prediction_double\n",
    "\n",
    "model_scores.append(np.sqrt(mean_squared_error(y_pred[\"Cases\"],y_pred[\"Double Exponential\"])))\n",
    "print(\"Root Mean Square Error for Double Exponential Model: \",np.sqrt(mean_squared_error(valid[\"Cases\"],y_pred[\"Double Exponential\"])))\n"
   ]
  },
  {
   "cell_type": "code",
   "execution_count": 138,
   "metadata": {},
   "outputs": [
    {
     "data": {
      "application/vnd.plotly.v1+json": {
       "config": {
        "plotlyServerURL": "https://plot.ly"
       },
       "data": [
        {
         "mode": "lines+markers",
         "name": "Train Data for Confirmed Cases",
         "type": "scatter",
         "x": [
          "2021-01-01T00:00:00+00:00",
          "2021-01-02T00:00:00+00:00",
          "2021-01-03T00:00:00+00:00",
          "2021-01-04T00:00:00+00:00",
          "2021-01-05T00:00:00+00:00",
          "2021-01-06T00:00:00+00:00",
          "2021-01-07T00:00:00+00:00",
          "2021-01-08T00:00:00+00:00",
          "2021-01-09T00:00:00+00:00",
          "2021-01-10T00:00:00+00:00",
          "2021-01-11T00:00:00+00:00",
          "2021-01-12T00:00:00+00:00",
          "2021-01-13T00:00:00+00:00",
          "2021-01-14T00:00:00+00:00",
          "2021-01-15T00:00:00+00:00",
          "2021-01-16T00:00:00+00:00",
          "2021-01-17T00:00:00+00:00",
          "2021-01-18T00:00:00+00:00",
          "2021-01-19T00:00:00+00:00",
          "2021-01-20T00:00:00+00:00",
          "2021-01-21T00:00:00+00:00",
          "2021-01-22T00:00:00+00:00",
          "2021-01-23T00:00:00+00:00",
          "2021-01-24T00:00:00+00:00",
          "2021-01-25T00:00:00+00:00",
          "2021-01-26T00:00:00+00:00",
          "2021-01-27T00:00:00+00:00",
          "2021-01-28T00:00:00+00:00",
          "2021-01-29T00:00:00+00:00",
          "2021-01-30T00:00:00+00:00",
          "2021-01-31T00:00:00+00:00",
          "2021-02-01T00:00:00+00:00",
          "2021-02-02T00:00:00+00:00",
          "2021-02-03T00:00:00+00:00",
          "2021-02-04T00:00:00+00:00",
          "2021-02-05T00:00:00+00:00",
          "2021-02-06T00:00:00+00:00",
          "2021-02-07T00:00:00+00:00",
          "2021-02-08T00:00:00+00:00",
          "2021-02-09T00:00:00+00:00",
          "2021-02-10T00:00:00+00:00",
          "2021-02-11T00:00:00+00:00",
          "2021-02-12T00:00:00+00:00",
          "2021-02-13T00:00:00+00:00",
          "2021-02-14T00:00:00+00:00",
          "2021-02-15T00:00:00+00:00",
          "2021-02-16T00:00:00+00:00",
          "2021-02-17T00:00:00+00:00",
          "2021-02-18T00:00:00+00:00",
          "2021-02-19T00:00:00+00:00",
          "2021-02-20T00:00:00+00:00",
          "2021-02-21T00:00:00+00:00",
          "2021-02-22T00:00:00+00:00",
          "2021-02-23T00:00:00+00:00",
          "2021-02-24T00:00:00+00:00",
          "2021-02-25T00:00:00+00:00",
          "2021-02-26T00:00:00+00:00",
          "2021-02-27T00:00:00+00:00",
          "2021-02-28T00:00:00+00:00",
          "2021-03-01T00:00:00+00:00",
          "2021-03-02T00:00:00+00:00",
          "2021-03-03T00:00:00+00:00",
          "2021-03-04T00:00:00+00:00",
          "2021-03-05T00:00:00+00:00",
          "2021-03-06T00:00:00+00:00",
          "2021-03-07T00:00:00+00:00",
          "2021-03-08T00:00:00+00:00",
          "2021-03-09T00:00:00+00:00",
          "2021-03-10T00:00:00+00:00",
          "2021-03-11T00:00:00+00:00",
          "2021-03-12T00:00:00+00:00",
          "2021-03-13T00:00:00+00:00",
          "2021-03-14T00:00:00+00:00",
          "2021-03-15T00:00:00+00:00",
          "2021-03-16T00:00:00+00:00",
          "2021-03-17T00:00:00+00:00",
          "2021-03-18T00:00:00+00:00",
          "2021-03-19T00:00:00+00:00",
          "2021-03-20T00:00:00+00:00",
          "2021-03-21T00:00:00+00:00",
          "2021-03-22T00:00:00+00:00",
          "2021-03-23T00:00:00+00:00",
          "2021-03-24T00:00:00+00:00",
          "2021-03-25T00:00:00+00:00",
          "2021-03-26T00:00:00+00:00",
          "2021-03-27T00:00:00+00:00",
          "2021-03-28T00:00:00+00:00",
          "2021-03-29T00:00:00+00:00",
          "2021-03-30T00:00:00+00:00",
          "2021-03-31T00:00:00+00:00",
          "2021-04-01T00:00:00+00:00",
          "2021-04-02T00:00:00+00:00",
          "2021-04-03T00:00:00+00:00",
          "2021-04-04T00:00:00+00:00",
          "2021-04-05T00:00:00+00:00",
          "2021-04-06T00:00:00+00:00",
          "2021-04-07T00:00:00+00:00",
          "2021-04-08T00:00:00+00:00",
          "2021-04-09T00:00:00+00:00",
          "2021-04-10T00:00:00+00:00",
          "2021-04-11T00:00:00+00:00",
          "2021-04-12T00:00:00+00:00",
          "2021-04-13T00:00:00+00:00",
          "2021-04-14T00:00:00+00:00",
          "2021-04-15T00:00:00+00:00",
          "2021-04-16T00:00:00+00:00",
          "2021-04-17T00:00:00+00:00",
          "2021-04-18T00:00:00+00:00",
          "2021-04-19T00:00:00+00:00",
          "2021-04-20T00:00:00+00:00",
          "2021-04-21T00:00:00+00:00",
          "2021-04-22T00:00:00+00:00",
          "2021-04-23T00:00:00+00:00",
          "2021-04-24T00:00:00+00:00",
          "2021-04-25T00:00:00+00:00",
          "2021-04-26T00:00:00+00:00",
          "2021-04-27T00:00:00+00:00",
          "2021-04-28T00:00:00+00:00",
          "2021-04-29T00:00:00+00:00",
          "2021-04-30T00:00:00+00:00",
          "2021-05-01T00:00:00+00:00",
          "2021-05-02T00:00:00+00:00",
          "2021-05-03T00:00:00+00:00",
          "2021-05-04T00:00:00+00:00",
          "2021-05-05T00:00:00+00:00",
          "2021-05-06T00:00:00+00:00",
          "2021-05-07T00:00:00+00:00",
          "2021-05-08T00:00:00+00:00",
          "2021-05-09T00:00:00+00:00",
          "2021-05-10T00:00:00+00:00",
          "2021-05-11T00:00:00+00:00",
          "2021-05-12T00:00:00+00:00",
          "2021-05-13T00:00:00+00:00",
          "2021-05-14T00:00:00+00:00",
          "2021-05-15T00:00:00+00:00",
          "2021-05-16T00:00:00+00:00",
          "2021-05-17T00:00:00+00:00",
          "2021-05-18T00:00:00+00:00",
          "2021-05-19T00:00:00+00:00",
          "2021-05-20T00:00:00+00:00",
          "2021-05-21T00:00:00+00:00",
          "2021-05-22T00:00:00+00:00",
          "2021-05-23T00:00:00+00:00",
          "2021-05-24T00:00:00+00:00",
          "2021-05-25T00:00:00+00:00",
          "2021-05-26T00:00:00+00:00",
          "2021-05-27T00:00:00+00:00",
          "2021-05-28T00:00:00+00:00",
          "2021-05-29T00:00:00+00:00",
          "2021-05-30T00:00:00+00:00",
          "2021-05-31T00:00:00+00:00",
          "2021-06-01T00:00:00+00:00",
          "2021-06-02T00:00:00+00:00",
          "2021-06-03T00:00:00+00:00",
          "2021-06-04T00:00:00+00:00",
          "2021-06-05T00:00:00+00:00",
          "2021-06-06T00:00:00+00:00",
          "2021-06-07T00:00:00+00:00",
          "2021-06-08T00:00:00+00:00",
          "2021-06-09T00:00:00+00:00",
          "2021-06-10T00:00:00+00:00",
          "2021-06-11T00:00:00+00:00",
          "2021-06-12T00:00:00+00:00",
          "2021-06-13T00:00:00+00:00",
          "2021-06-14T00:00:00+00:00",
          "2021-06-15T00:00:00+00:00",
          "2021-06-16T00:00:00+00:00",
          "2021-06-17T00:00:00+00:00",
          "2021-06-18T00:00:00+00:00",
          "2021-06-19T00:00:00+00:00",
          "2021-06-20T00:00:00+00:00",
          "2021-06-21T00:00:00+00:00",
          "2021-06-22T00:00:00+00:00",
          "2021-06-23T00:00:00+00:00",
          "2021-06-24T00:00:00+00:00",
          "2021-06-25T00:00:00+00:00",
          "2021-06-26T00:00:00+00:00",
          "2021-06-27T00:00:00+00:00",
          "2021-06-28T00:00:00+00:00",
          "2021-06-29T00:00:00+00:00",
          "2021-06-30T00:00:00+00:00",
          "2021-07-01T00:00:00+00:00",
          "2021-07-02T00:00:00+00:00",
          "2021-07-03T00:00:00+00:00",
          "2021-07-04T00:00:00+00:00",
          "2021-07-05T00:00:00+00:00",
          "2021-07-06T00:00:00+00:00",
          "2021-07-07T00:00:00+00:00",
          "2021-07-08T00:00:00+00:00",
          "2021-07-09T00:00:00+00:00",
          "2021-07-10T00:00:00+00:00",
          "2021-07-11T00:00:00+00:00",
          "2021-07-12T00:00:00+00:00",
          "2021-07-13T00:00:00+00:00",
          "2021-07-14T00:00:00+00:00",
          "2021-07-15T00:00:00+00:00",
          "2021-07-16T00:00:00+00:00",
          "2021-07-17T00:00:00+00:00",
          "2021-07-18T00:00:00+00:00",
          "2021-07-19T00:00:00+00:00",
          "2021-07-20T00:00:00+00:00",
          "2021-07-21T00:00:00+00:00",
          "2021-07-22T00:00:00+00:00",
          "2021-07-23T00:00:00+00:00",
          "2021-07-24T00:00:00+00:00",
          "2021-07-25T00:00:00+00:00",
          "2021-07-26T00:00:00+00:00",
          "2021-07-27T00:00:00+00:00",
          "2021-07-28T00:00:00+00:00",
          "2021-07-29T00:00:00+00:00",
          "2021-07-30T00:00:00+00:00",
          "2021-07-31T00:00:00+00:00",
          "2021-08-01T00:00:00+00:00",
          "2021-08-02T00:00:00+00:00",
          "2021-08-03T00:00:00+00:00",
          "2021-08-04T00:00:00+00:00",
          "2021-08-05T00:00:00+00:00",
          "2021-08-06T00:00:00+00:00",
          "2021-08-07T00:00:00+00:00",
          "2021-08-08T00:00:00+00:00",
          "2021-08-09T00:00:00+00:00",
          "2021-08-10T00:00:00+00:00",
          "2021-08-11T00:00:00+00:00",
          "2021-08-12T00:00:00+00:00",
          "2021-08-13T00:00:00+00:00",
          "2021-08-14T00:00:00+00:00",
          "2021-08-15T00:00:00+00:00",
          "2021-08-16T00:00:00+00:00",
          "2021-08-17T00:00:00+00:00"
         ],
         "y": [
          751270,
          758473,
          765350,
          772103,
          779548,
          788402,
          797723,
          808340,
          818386,
          828026,
          836718,
          846765,
          858043,
          869600,
          882418,
          896642,
          907929,
          917015,
          927380,
          939948,
          951651,
          965283,
          977474,
          989262,
          999256,
          1012350,
          1024298,
          1037993,
          1051795,
          1066313,
          1078314,
          1089308,
          1099687,
          1111671,
          1123105,
          1134854,
          1147010,
          1157837,
          1166079,
          1174779,
          1183555,
          1191990,
          1201859,
          1210703,
          1217468,
          1223930,
          1233959,
          1243646,
          1252685,
          1263299,
          1271353,
          1278653,
          1288833,
          1298608,
          1306141,
          1314634,
          1322866,
          1329074,
          1334634,
          1341314,
          1347026,
          1353834,
          1361098,
          1368069,
          1373836,
          1379662,
          1386556,
          1392945,
          1398578,
          1403722,
          1410134,
          1414741,
          1419455,
          1425044,
          1430458,
          1437283,
          1443853,
          1450132,
          1455788,
          1460184,
          1465928,
          1471225,
          1476452,
          1482559,
          1487541,
          1492002,
          1496085,
          1501093,
          1505775,
          1511712,
          1517854,
          1523179,
          1527524,
          1534255,
          1537967,
          1542516,
          1547376,
          1552880,
          1558145,
          1562868,
          1566995,
          1571824,
          1577526,
          1583182,
          1589359,
          1594722,
          1599763,
          1604348,
          1609300,
          1614849,
          1620569,
          1626812,
          1632248,
          1636792,
          1641194,
          1647138,
          1651794,
          1657035,
          1662868,
          1668368,
          1672880,
          1677274,
          1682004,
          1686373,
          1691658,
          1697305,
          1703632,
          1709762,
          1713684,
          1718575,
          1723596,
          1728204,
          1731652,
          1734285,
          1736670,
          1739750,
          1744045,
          1748230,
          1753101,
          1758898,
          1764644,
          1769940,
          1775220,
          1781127,
          1786187,
          1791221,
          1797499,
          1803361,
          1809926,
          1816041,
          1821703,
          1826527,
          1831773,
          1837126,
          1843612,
          1850206,
          1856038,
          1863031,
          1869325,
          1877050,
          1885942,
          1894025,
          1901490,
          1911358,
          1919547,
          1927708,
          1937652,
          1950276,
          1963266,
          1976172,
          1989909,
          2004445,
          2018113,
          2033421,
          2053995,
          2072867,
          2093962,
          2115304,
          2135998,
          2156465,
          2178272,
          2203108,
          2228938,
          2256851,
          2284084,
          2313829,
          2345018,
          2379397,
          2417788,
          2455912,
          2491006,
          2527203,
          2567630,
          2615529,
          2670046,
          2726803,
          2780803,
          2832755,
          2877476,
          2911733,
          2950058,
          2983830,
          3033339,
          3082410,
          3127826,
          3166505,
          3194733,
          3239936,
          3287727,
          3331206,
          3372374,
          3409658,
          3440396,
          3462800,
          3496700,
          3532567,
          3568331,
          3607863,
          3639616,
          3666031,
          3686740,
          3718821,
          3749446,
          3774155,
          3804943,
          3833541,
          3854354,
          3871738,
          3892479
         ]
        },
        {
         "mode": "lines+markers",
         "name": "Validation Data for Confirmed Cases",
         "type": "scatter",
         "x": [
          "2021-08-18T00:00:00+00:00",
          "2021-08-19T00:00:00+00:00",
          "2021-08-20T00:00:00+00:00",
          "2021-08-21T00:00:00+00:00",
          "2021-08-22T00:00:00+00:00",
          "2021-08-23T00:00:00+00:00",
          "2021-08-24T00:00:00+00:00",
          "2021-08-25T00:00:00+00:00",
          "2021-08-26T00:00:00+00:00",
          "2021-08-27T00:00:00+00:00",
          "2021-08-28T00:00:00+00:00",
          "2021-08-29T00:00:00+00:00",
          "2021-08-30T00:00:00+00:00"
         ],
         "y": [
          3908247,
          3930300,
          3950304,
          3967048,
          3979456,
          3989060,
          4008166,
          4026837,
          4043736,
          4056354,
          4066404,
          4073831,
          4089801
         ]
        },
        {
         "mode": "lines+markers",
         "name": "Prediction for Confirmed Cases",
         "type": "scatter",
         "x": [
          "2021-08-18T00:00:00+00:00",
          "2021-08-19T00:00:00+00:00",
          "2021-08-20T00:00:00+00:00",
          "2021-08-21T00:00:00+00:00",
          "2021-08-22T00:00:00+00:00",
          "2021-08-23T00:00:00+00:00",
          "2021-08-24T00:00:00+00:00",
          "2021-08-25T00:00:00+00:00",
          "2021-08-26T00:00:00+00:00",
          "2021-08-27T00:00:00+00:00",
          "2021-08-28T00:00:00+00:00",
          "2021-08-29T00:00:00+00:00",
          "2021-08-30T00:00:00+00:00"
         ],
         "y": [
          3913004.539855063,
          3933545.847707531,
          3954087.1555599994,
          3974628.4634124674,
          3995169.771264936,
          4015711.0791174043,
          4036252.3869698723,
          4056793.6948223407,
          4077335.002674809,
          4097876.310527277,
          4118417.6183797456,
          4138958.9262322136,
          4159500.234084682
         ]
        }
       ],
       "layout": {
        "legend": {
         "traceorder": "normal",
         "x": 0,
         "y": 1
        },
        "template": {
         "data": {
          "bar": [
           {
            "error_x": {
             "color": "#2a3f5f"
            },
            "error_y": {
             "color": "#2a3f5f"
            },
            "marker": {
             "line": {
              "color": "#E5ECF6",
              "width": 0.5
             },
             "pattern": {
              "fillmode": "overlay",
              "size": 10,
              "solidity": 0.2
             }
            },
            "type": "bar"
           }
          ],
          "barpolar": [
           {
            "marker": {
             "line": {
              "color": "#E5ECF6",
              "width": 0.5
             },
             "pattern": {
              "fillmode": "overlay",
              "size": 10,
              "solidity": 0.2
             }
            },
            "type": "barpolar"
           }
          ],
          "carpet": [
           {
            "aaxis": {
             "endlinecolor": "#2a3f5f",
             "gridcolor": "white",
             "linecolor": "white",
             "minorgridcolor": "white",
             "startlinecolor": "#2a3f5f"
            },
            "baxis": {
             "endlinecolor": "#2a3f5f",
             "gridcolor": "white",
             "linecolor": "white",
             "minorgridcolor": "white",
             "startlinecolor": "#2a3f5f"
            },
            "type": "carpet"
           }
          ],
          "choropleth": [
           {
            "colorbar": {
             "outlinewidth": 0,
             "ticks": ""
            },
            "type": "choropleth"
           }
          ],
          "contour": [
           {
            "colorbar": {
             "outlinewidth": 0,
             "ticks": ""
            },
            "colorscale": [
             [
              0,
              "#0d0887"
             ],
             [
              0.1111111111111111,
              "#46039f"
             ],
             [
              0.2222222222222222,
              "#7201a8"
             ],
             [
              0.3333333333333333,
              "#9c179e"
             ],
             [
              0.4444444444444444,
              "#bd3786"
             ],
             [
              0.5555555555555556,
              "#d8576b"
             ],
             [
              0.6666666666666666,
              "#ed7953"
             ],
             [
              0.7777777777777778,
              "#fb9f3a"
             ],
             [
              0.8888888888888888,
              "#fdca26"
             ],
             [
              1,
              "#f0f921"
             ]
            ],
            "type": "contour"
           }
          ],
          "contourcarpet": [
           {
            "colorbar": {
             "outlinewidth": 0,
             "ticks": ""
            },
            "type": "contourcarpet"
           }
          ],
          "heatmap": [
           {
            "colorbar": {
             "outlinewidth": 0,
             "ticks": ""
            },
            "colorscale": [
             [
              0,
              "#0d0887"
             ],
             [
              0.1111111111111111,
              "#46039f"
             ],
             [
              0.2222222222222222,
              "#7201a8"
             ],
             [
              0.3333333333333333,
              "#9c179e"
             ],
             [
              0.4444444444444444,
              "#bd3786"
             ],
             [
              0.5555555555555556,
              "#d8576b"
             ],
             [
              0.6666666666666666,
              "#ed7953"
             ],
             [
              0.7777777777777778,
              "#fb9f3a"
             ],
             [
              0.8888888888888888,
              "#fdca26"
             ],
             [
              1,
              "#f0f921"
             ]
            ],
            "type": "heatmap"
           }
          ],
          "heatmapgl": [
           {
            "colorbar": {
             "outlinewidth": 0,
             "ticks": ""
            },
            "colorscale": [
             [
              0,
              "#0d0887"
             ],
             [
              0.1111111111111111,
              "#46039f"
             ],
             [
              0.2222222222222222,
              "#7201a8"
             ],
             [
              0.3333333333333333,
              "#9c179e"
             ],
             [
              0.4444444444444444,
              "#bd3786"
             ],
             [
              0.5555555555555556,
              "#d8576b"
             ],
             [
              0.6666666666666666,
              "#ed7953"
             ],
             [
              0.7777777777777778,
              "#fb9f3a"
             ],
             [
              0.8888888888888888,
              "#fdca26"
             ],
             [
              1,
              "#f0f921"
             ]
            ],
            "type": "heatmapgl"
           }
          ],
          "histogram": [
           {
            "marker": {
             "pattern": {
              "fillmode": "overlay",
              "size": 10,
              "solidity": 0.2
             }
            },
            "type": "histogram"
           }
          ],
          "histogram2d": [
           {
            "colorbar": {
             "outlinewidth": 0,
             "ticks": ""
            },
            "colorscale": [
             [
              0,
              "#0d0887"
             ],
             [
              0.1111111111111111,
              "#46039f"
             ],
             [
              0.2222222222222222,
              "#7201a8"
             ],
             [
              0.3333333333333333,
              "#9c179e"
             ],
             [
              0.4444444444444444,
              "#bd3786"
             ],
             [
              0.5555555555555556,
              "#d8576b"
             ],
             [
              0.6666666666666666,
              "#ed7953"
             ],
             [
              0.7777777777777778,
              "#fb9f3a"
             ],
             [
              0.8888888888888888,
              "#fdca26"
             ],
             [
              1,
              "#f0f921"
             ]
            ],
            "type": "histogram2d"
           }
          ],
          "histogram2dcontour": [
           {
            "colorbar": {
             "outlinewidth": 0,
             "ticks": ""
            },
            "colorscale": [
             [
              0,
              "#0d0887"
             ],
             [
              0.1111111111111111,
              "#46039f"
             ],
             [
              0.2222222222222222,
              "#7201a8"
             ],
             [
              0.3333333333333333,
              "#9c179e"
             ],
             [
              0.4444444444444444,
              "#bd3786"
             ],
             [
              0.5555555555555556,
              "#d8576b"
             ],
             [
              0.6666666666666666,
              "#ed7953"
             ],
             [
              0.7777777777777778,
              "#fb9f3a"
             ],
             [
              0.8888888888888888,
              "#fdca26"
             ],
             [
              1,
              "#f0f921"
             ]
            ],
            "type": "histogram2dcontour"
           }
          ],
          "mesh3d": [
           {
            "colorbar": {
             "outlinewidth": 0,
             "ticks": ""
            },
            "type": "mesh3d"
           }
          ],
          "parcoords": [
           {
            "line": {
             "colorbar": {
              "outlinewidth": 0,
              "ticks": ""
             }
            },
            "type": "parcoords"
           }
          ],
          "pie": [
           {
            "automargin": true,
            "type": "pie"
           }
          ],
          "scatter": [
           {
            "marker": {
             "colorbar": {
              "outlinewidth": 0,
              "ticks": ""
             }
            },
            "type": "scatter"
           }
          ],
          "scatter3d": [
           {
            "line": {
             "colorbar": {
              "outlinewidth": 0,
              "ticks": ""
             }
            },
            "marker": {
             "colorbar": {
              "outlinewidth": 0,
              "ticks": ""
             }
            },
            "type": "scatter3d"
           }
          ],
          "scattercarpet": [
           {
            "marker": {
             "colorbar": {
              "outlinewidth": 0,
              "ticks": ""
             }
            },
            "type": "scattercarpet"
           }
          ],
          "scattergeo": [
           {
            "marker": {
             "colorbar": {
              "outlinewidth": 0,
              "ticks": ""
             }
            },
            "type": "scattergeo"
           }
          ],
          "scattergl": [
           {
            "marker": {
             "colorbar": {
              "outlinewidth": 0,
              "ticks": ""
             }
            },
            "type": "scattergl"
           }
          ],
          "scattermapbox": [
           {
            "marker": {
             "colorbar": {
              "outlinewidth": 0,
              "ticks": ""
             }
            },
            "type": "scattermapbox"
           }
          ],
          "scatterpolar": [
           {
            "marker": {
             "colorbar": {
              "outlinewidth": 0,
              "ticks": ""
             }
            },
            "type": "scatterpolar"
           }
          ],
          "scatterpolargl": [
           {
            "marker": {
             "colorbar": {
              "outlinewidth": 0,
              "ticks": ""
             }
            },
            "type": "scatterpolargl"
           }
          ],
          "scatterternary": [
           {
            "marker": {
             "colorbar": {
              "outlinewidth": 0,
              "ticks": ""
             }
            },
            "type": "scatterternary"
           }
          ],
          "surface": [
           {
            "colorbar": {
             "outlinewidth": 0,
             "ticks": ""
            },
            "colorscale": [
             [
              0,
              "#0d0887"
             ],
             [
              0.1111111111111111,
              "#46039f"
             ],
             [
              0.2222222222222222,
              "#7201a8"
             ],
             [
              0.3333333333333333,
              "#9c179e"
             ],
             [
              0.4444444444444444,
              "#bd3786"
             ],
             [
              0.5555555555555556,
              "#d8576b"
             ],
             [
              0.6666666666666666,
              "#ed7953"
             ],
             [
              0.7777777777777778,
              "#fb9f3a"
             ],
             [
              0.8888888888888888,
              "#fdca26"
             ],
             [
              1,
              "#f0f921"
             ]
            ],
            "type": "surface"
           }
          ],
          "table": [
           {
            "cells": {
             "fill": {
              "color": "#EBF0F8"
             },
             "line": {
              "color": "white"
             }
            },
            "header": {
             "fill": {
              "color": "#C8D4E3"
             },
             "line": {
              "color": "white"
             }
            },
            "type": "table"
           }
          ]
         },
         "layout": {
          "annotationdefaults": {
           "arrowcolor": "#2a3f5f",
           "arrowhead": 0,
           "arrowwidth": 1
          },
          "autotypenumbers": "strict",
          "coloraxis": {
           "colorbar": {
            "outlinewidth": 0,
            "ticks": ""
           }
          },
          "colorscale": {
           "diverging": [
            [
             0,
             "#8e0152"
            ],
            [
             0.1,
             "#c51b7d"
            ],
            [
             0.2,
             "#de77ae"
            ],
            [
             0.3,
             "#f1b6da"
            ],
            [
             0.4,
             "#fde0ef"
            ],
            [
             0.5,
             "#f7f7f7"
            ],
            [
             0.6,
             "#e6f5d0"
            ],
            [
             0.7,
             "#b8e186"
            ],
            [
             0.8,
             "#7fbc41"
            ],
            [
             0.9,
             "#4d9221"
            ],
            [
             1,
             "#276419"
            ]
           ],
           "sequential": [
            [
             0,
             "#0d0887"
            ],
            [
             0.1111111111111111,
             "#46039f"
            ],
            [
             0.2222222222222222,
             "#7201a8"
            ],
            [
             0.3333333333333333,
             "#9c179e"
            ],
            [
             0.4444444444444444,
             "#bd3786"
            ],
            [
             0.5555555555555556,
             "#d8576b"
            ],
            [
             0.6666666666666666,
             "#ed7953"
            ],
            [
             0.7777777777777778,
             "#fb9f3a"
            ],
            [
             0.8888888888888888,
             "#fdca26"
            ],
            [
             1,
             "#f0f921"
            ]
           ],
           "sequentialminus": [
            [
             0,
             "#0d0887"
            ],
            [
             0.1111111111111111,
             "#46039f"
            ],
            [
             0.2222222222222222,
             "#7201a8"
            ],
            [
             0.3333333333333333,
             "#9c179e"
            ],
            [
             0.4444444444444444,
             "#bd3786"
            ],
            [
             0.5555555555555556,
             "#d8576b"
            ],
            [
             0.6666666666666666,
             "#ed7953"
            ],
            [
             0.7777777777777778,
             "#fb9f3a"
            ],
            [
             0.8888888888888888,
             "#fdca26"
            ],
            [
             1,
             "#f0f921"
            ]
           ]
          },
          "colorway": [
           "#636efa",
           "#EF553B",
           "#00cc96",
           "#ab63fa",
           "#FFA15A",
           "#19d3f3",
           "#FF6692",
           "#B6E880",
           "#FF97FF",
           "#FECB52"
          ],
          "font": {
           "color": "#2a3f5f"
          },
          "geo": {
           "bgcolor": "white",
           "lakecolor": "white",
           "landcolor": "#E5ECF6",
           "showlakes": true,
           "showland": true,
           "subunitcolor": "white"
          },
          "hoverlabel": {
           "align": "left"
          },
          "hovermode": "closest",
          "mapbox": {
           "style": "light"
          },
          "paper_bgcolor": "white",
          "plot_bgcolor": "#E5ECF6",
          "polar": {
           "angularaxis": {
            "gridcolor": "white",
            "linecolor": "white",
            "ticks": ""
           },
           "bgcolor": "#E5ECF6",
           "radialaxis": {
            "gridcolor": "white",
            "linecolor": "white",
            "ticks": ""
           }
          },
          "scene": {
           "xaxis": {
            "backgroundcolor": "#E5ECF6",
            "gridcolor": "white",
            "gridwidth": 2,
            "linecolor": "white",
            "showbackground": true,
            "ticks": "",
            "zerolinecolor": "white"
           },
           "yaxis": {
            "backgroundcolor": "#E5ECF6",
            "gridcolor": "white",
            "gridwidth": 2,
            "linecolor": "white",
            "showbackground": true,
            "ticks": "",
            "zerolinecolor": "white"
           },
           "zaxis": {
            "backgroundcolor": "#E5ECF6",
            "gridcolor": "white",
            "gridwidth": 2,
            "linecolor": "white",
            "showbackground": true,
            "ticks": "",
            "zerolinecolor": "white"
           }
          },
          "shapedefaults": {
           "line": {
            "color": "#2a3f5f"
           }
          },
          "ternary": {
           "aaxis": {
            "gridcolor": "white",
            "linecolor": "white",
            "ticks": ""
           },
           "baxis": {
            "gridcolor": "white",
            "linecolor": "white",
            "ticks": ""
           },
           "bgcolor": "#E5ECF6",
           "caxis": {
            "gridcolor": "white",
            "linecolor": "white",
            "ticks": ""
           }
          },
          "title": {
           "x": 0.05
          },
          "xaxis": {
           "automargin": true,
           "gridcolor": "white",
           "linecolor": "white",
           "ticks": "",
           "title": {
            "standoff": 15
           },
           "zerolinecolor": "white",
           "zerolinewidth": 2
          },
          "yaxis": {
           "automargin": true,
           "gridcolor": "white",
           "linecolor": "white",
           "ticks": "",
           "title": {
            "standoff": 15
           },
           "zerolinecolor": "white",
           "zerolinewidth": 2
          }
         }
        },
        "title": {
         "text": "Confirmed Cases Double Exponential (Holt) Model Prediction"
        },
        "xaxis": {
         "title": {
          "text": "Date"
         }
        },
        "yaxis": {
         "title": {
          "text": "Confirmed Cases"
         }
        }
       }
      },
      "text/html": [
       "<div>                            <div id=\"68c0893d-7ee7-4613-a548-17a6acf02572\" class=\"plotly-graph-div\" style=\"height:525px; width:100%;\"></div>            <script type=\"text/javascript\">                require([\"plotly\"], function(Plotly) {                    window.PLOTLYENV=window.PLOTLYENV || {};                                    if (document.getElementById(\"68c0893d-7ee7-4613-a548-17a6acf02572\")) {                    Plotly.newPlot(                        \"68c0893d-7ee7-4613-a548-17a6acf02572\",                        [{\"mode\":\"lines+markers\",\"name\":\"Train Data for Confirmed Cases\",\"type\":\"scatter\",\"x\":[\"2021-01-01T00:00:00+00:00\",\"2021-01-02T00:00:00+00:00\",\"2021-01-03T00:00:00+00:00\",\"2021-01-04T00:00:00+00:00\",\"2021-01-05T00:00:00+00:00\",\"2021-01-06T00:00:00+00:00\",\"2021-01-07T00:00:00+00:00\",\"2021-01-08T00:00:00+00:00\",\"2021-01-09T00:00:00+00:00\",\"2021-01-10T00:00:00+00:00\",\"2021-01-11T00:00:00+00:00\",\"2021-01-12T00:00:00+00:00\",\"2021-01-13T00:00:00+00:00\",\"2021-01-14T00:00:00+00:00\",\"2021-01-15T00:00:00+00:00\",\"2021-01-16T00:00:00+00:00\",\"2021-01-17T00:00:00+00:00\",\"2021-01-18T00:00:00+00:00\",\"2021-01-19T00:00:00+00:00\",\"2021-01-20T00:00:00+00:00\",\"2021-01-21T00:00:00+00:00\",\"2021-01-22T00:00:00+00:00\",\"2021-01-23T00:00:00+00:00\",\"2021-01-24T00:00:00+00:00\",\"2021-01-25T00:00:00+00:00\",\"2021-01-26T00:00:00+00:00\",\"2021-01-27T00:00:00+00:00\",\"2021-01-28T00:00:00+00:00\",\"2021-01-29T00:00:00+00:00\",\"2021-01-30T00:00:00+00:00\",\"2021-01-31T00:00:00+00:00\",\"2021-02-01T00:00:00+00:00\",\"2021-02-02T00:00:00+00:00\",\"2021-02-03T00:00:00+00:00\",\"2021-02-04T00:00:00+00:00\",\"2021-02-05T00:00:00+00:00\",\"2021-02-06T00:00:00+00:00\",\"2021-02-07T00:00:00+00:00\",\"2021-02-08T00:00:00+00:00\",\"2021-02-09T00:00:00+00:00\",\"2021-02-10T00:00:00+00:00\",\"2021-02-11T00:00:00+00:00\",\"2021-02-12T00:00:00+00:00\",\"2021-02-13T00:00:00+00:00\",\"2021-02-14T00:00:00+00:00\",\"2021-02-15T00:00:00+00:00\",\"2021-02-16T00:00:00+00:00\",\"2021-02-17T00:00:00+00:00\",\"2021-02-18T00:00:00+00:00\",\"2021-02-19T00:00:00+00:00\",\"2021-02-20T00:00:00+00:00\",\"2021-02-21T00:00:00+00:00\",\"2021-02-22T00:00:00+00:00\",\"2021-02-23T00:00:00+00:00\",\"2021-02-24T00:00:00+00:00\",\"2021-02-25T00:00:00+00:00\",\"2021-02-26T00:00:00+00:00\",\"2021-02-27T00:00:00+00:00\",\"2021-02-28T00:00:00+00:00\",\"2021-03-01T00:00:00+00:00\",\"2021-03-02T00:00:00+00:00\",\"2021-03-03T00:00:00+00:00\",\"2021-03-04T00:00:00+00:00\",\"2021-03-05T00:00:00+00:00\",\"2021-03-06T00:00:00+00:00\",\"2021-03-07T00:00:00+00:00\",\"2021-03-08T00:00:00+00:00\",\"2021-03-09T00:00:00+00:00\",\"2021-03-10T00:00:00+00:00\",\"2021-03-11T00:00:00+00:00\",\"2021-03-12T00:00:00+00:00\",\"2021-03-13T00:00:00+00:00\",\"2021-03-14T00:00:00+00:00\",\"2021-03-15T00:00:00+00:00\",\"2021-03-16T00:00:00+00:00\",\"2021-03-17T00:00:00+00:00\",\"2021-03-18T00:00:00+00:00\",\"2021-03-19T00:00:00+00:00\",\"2021-03-20T00:00:00+00:00\",\"2021-03-21T00:00:00+00:00\",\"2021-03-22T00:00:00+00:00\",\"2021-03-23T00:00:00+00:00\",\"2021-03-24T00:00:00+00:00\",\"2021-03-25T00:00:00+00:00\",\"2021-03-26T00:00:00+00:00\",\"2021-03-27T00:00:00+00:00\",\"2021-03-28T00:00:00+00:00\",\"2021-03-29T00:00:00+00:00\",\"2021-03-30T00:00:00+00:00\",\"2021-03-31T00:00:00+00:00\",\"2021-04-01T00:00:00+00:00\",\"2021-04-02T00:00:00+00:00\",\"2021-04-03T00:00:00+00:00\",\"2021-04-04T00:00:00+00:00\",\"2021-04-05T00:00:00+00:00\",\"2021-04-06T00:00:00+00:00\",\"2021-04-07T00:00:00+00:00\",\"2021-04-08T00:00:00+00:00\",\"2021-04-09T00:00:00+00:00\",\"2021-04-10T00:00:00+00:00\",\"2021-04-11T00:00:00+00:00\",\"2021-04-12T00:00:00+00:00\",\"2021-04-13T00:00:00+00:00\",\"2021-04-14T00:00:00+00:00\",\"2021-04-15T00:00:00+00:00\",\"2021-04-16T00:00:00+00:00\",\"2021-04-17T00:00:00+00:00\",\"2021-04-18T00:00:00+00:00\",\"2021-04-19T00:00:00+00:00\",\"2021-04-20T00:00:00+00:00\",\"2021-04-21T00:00:00+00:00\",\"2021-04-22T00:00:00+00:00\",\"2021-04-23T00:00:00+00:00\",\"2021-04-24T00:00:00+00:00\",\"2021-04-25T00:00:00+00:00\",\"2021-04-26T00:00:00+00:00\",\"2021-04-27T00:00:00+00:00\",\"2021-04-28T00:00:00+00:00\",\"2021-04-29T00:00:00+00:00\",\"2021-04-30T00:00:00+00:00\",\"2021-05-01T00:00:00+00:00\",\"2021-05-02T00:00:00+00:00\",\"2021-05-03T00:00:00+00:00\",\"2021-05-04T00:00:00+00:00\",\"2021-05-05T00:00:00+00:00\",\"2021-05-06T00:00:00+00:00\",\"2021-05-07T00:00:00+00:00\",\"2021-05-08T00:00:00+00:00\",\"2021-05-09T00:00:00+00:00\",\"2021-05-10T00:00:00+00:00\",\"2021-05-11T00:00:00+00:00\",\"2021-05-12T00:00:00+00:00\",\"2021-05-13T00:00:00+00:00\",\"2021-05-14T00:00:00+00:00\",\"2021-05-15T00:00:00+00:00\",\"2021-05-16T00:00:00+00:00\",\"2021-05-17T00:00:00+00:00\",\"2021-05-18T00:00:00+00:00\",\"2021-05-19T00:00:00+00:00\",\"2021-05-20T00:00:00+00:00\",\"2021-05-21T00:00:00+00:00\",\"2021-05-22T00:00:00+00:00\",\"2021-05-23T00:00:00+00:00\",\"2021-05-24T00:00:00+00:00\",\"2021-05-25T00:00:00+00:00\",\"2021-05-26T00:00:00+00:00\",\"2021-05-27T00:00:00+00:00\",\"2021-05-28T00:00:00+00:00\",\"2021-05-29T00:00:00+00:00\",\"2021-05-30T00:00:00+00:00\",\"2021-05-31T00:00:00+00:00\",\"2021-06-01T00:00:00+00:00\",\"2021-06-02T00:00:00+00:00\",\"2021-06-03T00:00:00+00:00\",\"2021-06-04T00:00:00+00:00\",\"2021-06-05T00:00:00+00:00\",\"2021-06-06T00:00:00+00:00\",\"2021-06-07T00:00:00+00:00\",\"2021-06-08T00:00:00+00:00\",\"2021-06-09T00:00:00+00:00\",\"2021-06-10T00:00:00+00:00\",\"2021-06-11T00:00:00+00:00\",\"2021-06-12T00:00:00+00:00\",\"2021-06-13T00:00:00+00:00\",\"2021-06-14T00:00:00+00:00\",\"2021-06-15T00:00:00+00:00\",\"2021-06-16T00:00:00+00:00\",\"2021-06-17T00:00:00+00:00\",\"2021-06-18T00:00:00+00:00\",\"2021-06-19T00:00:00+00:00\",\"2021-06-20T00:00:00+00:00\",\"2021-06-21T00:00:00+00:00\",\"2021-06-22T00:00:00+00:00\",\"2021-06-23T00:00:00+00:00\",\"2021-06-24T00:00:00+00:00\",\"2021-06-25T00:00:00+00:00\",\"2021-06-26T00:00:00+00:00\",\"2021-06-27T00:00:00+00:00\",\"2021-06-28T00:00:00+00:00\",\"2021-06-29T00:00:00+00:00\",\"2021-06-30T00:00:00+00:00\",\"2021-07-01T00:00:00+00:00\",\"2021-07-02T00:00:00+00:00\",\"2021-07-03T00:00:00+00:00\",\"2021-07-04T00:00:00+00:00\",\"2021-07-05T00:00:00+00:00\",\"2021-07-06T00:00:00+00:00\",\"2021-07-07T00:00:00+00:00\",\"2021-07-08T00:00:00+00:00\",\"2021-07-09T00:00:00+00:00\",\"2021-07-10T00:00:00+00:00\",\"2021-07-11T00:00:00+00:00\",\"2021-07-12T00:00:00+00:00\",\"2021-07-13T00:00:00+00:00\",\"2021-07-14T00:00:00+00:00\",\"2021-07-15T00:00:00+00:00\",\"2021-07-16T00:00:00+00:00\",\"2021-07-17T00:00:00+00:00\",\"2021-07-18T00:00:00+00:00\",\"2021-07-19T00:00:00+00:00\",\"2021-07-20T00:00:00+00:00\",\"2021-07-21T00:00:00+00:00\",\"2021-07-22T00:00:00+00:00\",\"2021-07-23T00:00:00+00:00\",\"2021-07-24T00:00:00+00:00\",\"2021-07-25T00:00:00+00:00\",\"2021-07-26T00:00:00+00:00\",\"2021-07-27T00:00:00+00:00\",\"2021-07-28T00:00:00+00:00\",\"2021-07-29T00:00:00+00:00\",\"2021-07-30T00:00:00+00:00\",\"2021-07-31T00:00:00+00:00\",\"2021-08-01T00:00:00+00:00\",\"2021-08-02T00:00:00+00:00\",\"2021-08-03T00:00:00+00:00\",\"2021-08-04T00:00:00+00:00\",\"2021-08-05T00:00:00+00:00\",\"2021-08-06T00:00:00+00:00\",\"2021-08-07T00:00:00+00:00\",\"2021-08-08T00:00:00+00:00\",\"2021-08-09T00:00:00+00:00\",\"2021-08-10T00:00:00+00:00\",\"2021-08-11T00:00:00+00:00\",\"2021-08-12T00:00:00+00:00\",\"2021-08-13T00:00:00+00:00\",\"2021-08-14T00:00:00+00:00\",\"2021-08-15T00:00:00+00:00\",\"2021-08-16T00:00:00+00:00\",\"2021-08-17T00:00:00+00:00\"],\"y\":[751270,758473,765350,772103,779548,788402,797723,808340,818386,828026,836718,846765,858043,869600,882418,896642,907929,917015,927380,939948,951651,965283,977474,989262,999256,1012350,1024298,1037993,1051795,1066313,1078314,1089308,1099687,1111671,1123105,1134854,1147010,1157837,1166079,1174779,1183555,1191990,1201859,1210703,1217468,1223930,1233959,1243646,1252685,1263299,1271353,1278653,1288833,1298608,1306141,1314634,1322866,1329074,1334634,1341314,1347026,1353834,1361098,1368069,1373836,1379662,1386556,1392945,1398578,1403722,1410134,1414741,1419455,1425044,1430458,1437283,1443853,1450132,1455788,1460184,1465928,1471225,1476452,1482559,1487541,1492002,1496085,1501093,1505775,1511712,1517854,1523179,1527524,1534255,1537967,1542516,1547376,1552880,1558145,1562868,1566995,1571824,1577526,1583182,1589359,1594722,1599763,1604348,1609300,1614849,1620569,1626812,1632248,1636792,1641194,1647138,1651794,1657035,1662868,1668368,1672880,1677274,1682004,1686373,1691658,1697305,1703632,1709762,1713684,1718575,1723596,1728204,1731652,1734285,1736670,1739750,1744045,1748230,1753101,1758898,1764644,1769940,1775220,1781127,1786187,1791221,1797499,1803361,1809926,1816041,1821703,1826527,1831773,1837126,1843612,1850206,1856038,1863031,1869325,1877050,1885942,1894025,1901490,1911358,1919547,1927708,1937652,1950276,1963266,1976172,1989909,2004445,2018113,2033421,2053995,2072867,2093962,2115304,2135998,2156465,2178272,2203108,2228938,2256851,2284084,2313829,2345018,2379397,2417788,2455912,2491006,2527203,2567630,2615529,2670046,2726803,2780803,2832755,2877476,2911733,2950058,2983830,3033339,3082410,3127826,3166505,3194733,3239936,3287727,3331206,3372374,3409658,3440396,3462800,3496700,3532567,3568331,3607863,3639616,3666031,3686740,3718821,3749446,3774155,3804943,3833541,3854354,3871738,3892479]},{\"mode\":\"lines+markers\",\"name\":\"Validation Data for Confirmed Cases\",\"type\":\"scatter\",\"x\":[\"2021-08-18T00:00:00+00:00\",\"2021-08-19T00:00:00+00:00\",\"2021-08-20T00:00:00+00:00\",\"2021-08-21T00:00:00+00:00\",\"2021-08-22T00:00:00+00:00\",\"2021-08-23T00:00:00+00:00\",\"2021-08-24T00:00:00+00:00\",\"2021-08-25T00:00:00+00:00\",\"2021-08-26T00:00:00+00:00\",\"2021-08-27T00:00:00+00:00\",\"2021-08-28T00:00:00+00:00\",\"2021-08-29T00:00:00+00:00\",\"2021-08-30T00:00:00+00:00\"],\"y\":[3908247,3930300,3950304,3967048,3979456,3989060,4008166,4026837,4043736,4056354,4066404,4073831,4089801]},{\"mode\":\"lines+markers\",\"name\":\"Prediction for Confirmed Cases\",\"type\":\"scatter\",\"x\":[\"2021-08-18T00:00:00+00:00\",\"2021-08-19T00:00:00+00:00\",\"2021-08-20T00:00:00+00:00\",\"2021-08-21T00:00:00+00:00\",\"2021-08-22T00:00:00+00:00\",\"2021-08-23T00:00:00+00:00\",\"2021-08-24T00:00:00+00:00\",\"2021-08-25T00:00:00+00:00\",\"2021-08-26T00:00:00+00:00\",\"2021-08-27T00:00:00+00:00\",\"2021-08-28T00:00:00+00:00\",\"2021-08-29T00:00:00+00:00\",\"2021-08-30T00:00:00+00:00\"],\"y\":[3913004.539855063,3933545.847707531,3954087.1555599994,3974628.4634124674,3995169.771264936,4015711.0791174043,4036252.3869698723,4056793.6948223407,4077335.002674809,4097876.310527277,4118417.6183797456,4138958.9262322136,4159500.234084682]}],                        {\"legend\":{\"traceorder\":\"normal\",\"x\":0,\"y\":1},\"template\":{\"data\":{\"bar\":[{\"error_x\":{\"color\":\"#2a3f5f\"},\"error_y\":{\"color\":\"#2a3f5f\"},\"marker\":{\"line\":{\"color\":\"#E5ECF6\",\"width\":0.5},\"pattern\":{\"fillmode\":\"overlay\",\"size\":10,\"solidity\":0.2}},\"type\":\"bar\"}],\"barpolar\":[{\"marker\":{\"line\":{\"color\":\"#E5ECF6\",\"width\":0.5},\"pattern\":{\"fillmode\":\"overlay\",\"size\":10,\"solidity\":0.2}},\"type\":\"barpolar\"}],\"carpet\":[{\"aaxis\":{\"endlinecolor\":\"#2a3f5f\",\"gridcolor\":\"white\",\"linecolor\":\"white\",\"minorgridcolor\":\"white\",\"startlinecolor\":\"#2a3f5f\"},\"baxis\":{\"endlinecolor\":\"#2a3f5f\",\"gridcolor\":\"white\",\"linecolor\":\"white\",\"minorgridcolor\":\"white\",\"startlinecolor\":\"#2a3f5f\"},\"type\":\"carpet\"}],\"choropleth\":[{\"colorbar\":{\"outlinewidth\":0,\"ticks\":\"\"},\"type\":\"choropleth\"}],\"contour\":[{\"colorbar\":{\"outlinewidth\":0,\"ticks\":\"\"},\"colorscale\":[[0.0,\"#0d0887\"],[0.1111111111111111,\"#46039f\"],[0.2222222222222222,\"#7201a8\"],[0.3333333333333333,\"#9c179e\"],[0.4444444444444444,\"#bd3786\"],[0.5555555555555556,\"#d8576b\"],[0.6666666666666666,\"#ed7953\"],[0.7777777777777778,\"#fb9f3a\"],[0.8888888888888888,\"#fdca26\"],[1.0,\"#f0f921\"]],\"type\":\"contour\"}],\"contourcarpet\":[{\"colorbar\":{\"outlinewidth\":0,\"ticks\":\"\"},\"type\":\"contourcarpet\"}],\"heatmap\":[{\"colorbar\":{\"outlinewidth\":0,\"ticks\":\"\"},\"colorscale\":[[0.0,\"#0d0887\"],[0.1111111111111111,\"#46039f\"],[0.2222222222222222,\"#7201a8\"],[0.3333333333333333,\"#9c179e\"],[0.4444444444444444,\"#bd3786\"],[0.5555555555555556,\"#d8576b\"],[0.6666666666666666,\"#ed7953\"],[0.7777777777777778,\"#fb9f3a\"],[0.8888888888888888,\"#fdca26\"],[1.0,\"#f0f921\"]],\"type\":\"heatmap\"}],\"heatmapgl\":[{\"colorbar\":{\"outlinewidth\":0,\"ticks\":\"\"},\"colorscale\":[[0.0,\"#0d0887\"],[0.1111111111111111,\"#46039f\"],[0.2222222222222222,\"#7201a8\"],[0.3333333333333333,\"#9c179e\"],[0.4444444444444444,\"#bd3786\"],[0.5555555555555556,\"#d8576b\"],[0.6666666666666666,\"#ed7953\"],[0.7777777777777778,\"#fb9f3a\"],[0.8888888888888888,\"#fdca26\"],[1.0,\"#f0f921\"]],\"type\":\"heatmapgl\"}],\"histogram\":[{\"marker\":{\"pattern\":{\"fillmode\":\"overlay\",\"size\":10,\"solidity\":0.2}},\"type\":\"histogram\"}],\"histogram2d\":[{\"colorbar\":{\"outlinewidth\":0,\"ticks\":\"\"},\"colorscale\":[[0.0,\"#0d0887\"],[0.1111111111111111,\"#46039f\"],[0.2222222222222222,\"#7201a8\"],[0.3333333333333333,\"#9c179e\"],[0.4444444444444444,\"#bd3786\"],[0.5555555555555556,\"#d8576b\"],[0.6666666666666666,\"#ed7953\"],[0.7777777777777778,\"#fb9f3a\"],[0.8888888888888888,\"#fdca26\"],[1.0,\"#f0f921\"]],\"type\":\"histogram2d\"}],\"histogram2dcontour\":[{\"colorbar\":{\"outlinewidth\":0,\"ticks\":\"\"},\"colorscale\":[[0.0,\"#0d0887\"],[0.1111111111111111,\"#46039f\"],[0.2222222222222222,\"#7201a8\"],[0.3333333333333333,\"#9c179e\"],[0.4444444444444444,\"#bd3786\"],[0.5555555555555556,\"#d8576b\"],[0.6666666666666666,\"#ed7953\"],[0.7777777777777778,\"#fb9f3a\"],[0.8888888888888888,\"#fdca26\"],[1.0,\"#f0f921\"]],\"type\":\"histogram2dcontour\"}],\"mesh3d\":[{\"colorbar\":{\"outlinewidth\":0,\"ticks\":\"\"},\"type\":\"mesh3d\"}],\"parcoords\":[{\"line\":{\"colorbar\":{\"outlinewidth\":0,\"ticks\":\"\"}},\"type\":\"parcoords\"}],\"pie\":[{\"automargin\":true,\"type\":\"pie\"}],\"scatter\":[{\"marker\":{\"colorbar\":{\"outlinewidth\":0,\"ticks\":\"\"}},\"type\":\"scatter\"}],\"scatter3d\":[{\"line\":{\"colorbar\":{\"outlinewidth\":0,\"ticks\":\"\"}},\"marker\":{\"colorbar\":{\"outlinewidth\":0,\"ticks\":\"\"}},\"type\":\"scatter3d\"}],\"scattercarpet\":[{\"marker\":{\"colorbar\":{\"outlinewidth\":0,\"ticks\":\"\"}},\"type\":\"scattercarpet\"}],\"scattergeo\":[{\"marker\":{\"colorbar\":{\"outlinewidth\":0,\"ticks\":\"\"}},\"type\":\"scattergeo\"}],\"scattergl\":[{\"marker\":{\"colorbar\":{\"outlinewidth\":0,\"ticks\":\"\"}},\"type\":\"scattergl\"}],\"scattermapbox\":[{\"marker\":{\"colorbar\":{\"outlinewidth\":0,\"ticks\":\"\"}},\"type\":\"scattermapbox\"}],\"scatterpolar\":[{\"marker\":{\"colorbar\":{\"outlinewidth\":0,\"ticks\":\"\"}},\"type\":\"scatterpolar\"}],\"scatterpolargl\":[{\"marker\":{\"colorbar\":{\"outlinewidth\":0,\"ticks\":\"\"}},\"type\":\"scatterpolargl\"}],\"scatterternary\":[{\"marker\":{\"colorbar\":{\"outlinewidth\":0,\"ticks\":\"\"}},\"type\":\"scatterternary\"}],\"surface\":[{\"colorbar\":{\"outlinewidth\":0,\"ticks\":\"\"},\"colorscale\":[[0.0,\"#0d0887\"],[0.1111111111111111,\"#46039f\"],[0.2222222222222222,\"#7201a8\"],[0.3333333333333333,\"#9c179e\"],[0.4444444444444444,\"#bd3786\"],[0.5555555555555556,\"#d8576b\"],[0.6666666666666666,\"#ed7953\"],[0.7777777777777778,\"#fb9f3a\"],[0.8888888888888888,\"#fdca26\"],[1.0,\"#f0f921\"]],\"type\":\"surface\"}],\"table\":[{\"cells\":{\"fill\":{\"color\":\"#EBF0F8\"},\"line\":{\"color\":\"white\"}},\"header\":{\"fill\":{\"color\":\"#C8D4E3\"},\"line\":{\"color\":\"white\"}},\"type\":\"table\"}]},\"layout\":{\"annotationdefaults\":{\"arrowcolor\":\"#2a3f5f\",\"arrowhead\":0,\"arrowwidth\":1},\"autotypenumbers\":\"strict\",\"coloraxis\":{\"colorbar\":{\"outlinewidth\":0,\"ticks\":\"\"}},\"colorscale\":{\"diverging\":[[0,\"#8e0152\"],[0.1,\"#c51b7d\"],[0.2,\"#de77ae\"],[0.3,\"#f1b6da\"],[0.4,\"#fde0ef\"],[0.5,\"#f7f7f7\"],[0.6,\"#e6f5d0\"],[0.7,\"#b8e186\"],[0.8,\"#7fbc41\"],[0.9,\"#4d9221\"],[1,\"#276419\"]],\"sequential\":[[0.0,\"#0d0887\"],[0.1111111111111111,\"#46039f\"],[0.2222222222222222,\"#7201a8\"],[0.3333333333333333,\"#9c179e\"],[0.4444444444444444,\"#bd3786\"],[0.5555555555555556,\"#d8576b\"],[0.6666666666666666,\"#ed7953\"],[0.7777777777777778,\"#fb9f3a\"],[0.8888888888888888,\"#fdca26\"],[1.0,\"#f0f921\"]],\"sequentialminus\":[[0.0,\"#0d0887\"],[0.1111111111111111,\"#46039f\"],[0.2222222222222222,\"#7201a8\"],[0.3333333333333333,\"#9c179e\"],[0.4444444444444444,\"#bd3786\"],[0.5555555555555556,\"#d8576b\"],[0.6666666666666666,\"#ed7953\"],[0.7777777777777778,\"#fb9f3a\"],[0.8888888888888888,\"#fdca26\"],[1.0,\"#f0f921\"]]},\"colorway\":[\"#636efa\",\"#EF553B\",\"#00cc96\",\"#ab63fa\",\"#FFA15A\",\"#19d3f3\",\"#FF6692\",\"#B6E880\",\"#FF97FF\",\"#FECB52\"],\"font\":{\"color\":\"#2a3f5f\"},\"geo\":{\"bgcolor\":\"white\",\"lakecolor\":\"white\",\"landcolor\":\"#E5ECF6\",\"showlakes\":true,\"showland\":true,\"subunitcolor\":\"white\"},\"hoverlabel\":{\"align\":\"left\"},\"hovermode\":\"closest\",\"mapbox\":{\"style\":\"light\"},\"paper_bgcolor\":\"white\",\"plot_bgcolor\":\"#E5ECF6\",\"polar\":{\"angularaxis\":{\"gridcolor\":\"white\",\"linecolor\":\"white\",\"ticks\":\"\"},\"bgcolor\":\"#E5ECF6\",\"radialaxis\":{\"gridcolor\":\"white\",\"linecolor\":\"white\",\"ticks\":\"\"}},\"scene\":{\"xaxis\":{\"backgroundcolor\":\"#E5ECF6\",\"gridcolor\":\"white\",\"gridwidth\":2,\"linecolor\":\"white\",\"showbackground\":true,\"ticks\":\"\",\"zerolinecolor\":\"white\"},\"yaxis\":{\"backgroundcolor\":\"#E5ECF6\",\"gridcolor\":\"white\",\"gridwidth\":2,\"linecolor\":\"white\",\"showbackground\":true,\"ticks\":\"\",\"zerolinecolor\":\"white\"},\"zaxis\":{\"backgroundcolor\":\"#E5ECF6\",\"gridcolor\":\"white\",\"gridwidth\":2,\"linecolor\":\"white\",\"showbackground\":true,\"ticks\":\"\",\"zerolinecolor\":\"white\"}},\"shapedefaults\":{\"line\":{\"color\":\"#2a3f5f\"}},\"ternary\":{\"aaxis\":{\"gridcolor\":\"white\",\"linecolor\":\"white\",\"ticks\":\"\"},\"baxis\":{\"gridcolor\":\"white\",\"linecolor\":\"white\",\"ticks\":\"\"},\"bgcolor\":\"#E5ECF6\",\"caxis\":{\"gridcolor\":\"white\",\"linecolor\":\"white\",\"ticks\":\"\"}},\"title\":{\"x\":0.05},\"xaxis\":{\"automargin\":true,\"gridcolor\":\"white\",\"linecolor\":\"white\",\"ticks\":\"\",\"title\":{\"standoff\":15},\"zerolinecolor\":\"white\",\"zerolinewidth\":2},\"yaxis\":{\"automargin\":true,\"gridcolor\":\"white\",\"linecolor\":\"white\",\"ticks\":\"\",\"title\":{\"standoff\":15},\"zerolinecolor\":\"white\",\"zerolinewidth\":2}}},\"title\":{\"text\":\"Confirmed Cases Double Exponential (Holt) Model Prediction\"},\"xaxis\":{\"title\":{\"text\":\"Date\"}},\"yaxis\":{\"title\":{\"text\":\"Confirmed Cases\"}}},                        {\"responsive\": true}                    ).then(function(){\n",
       "                            \n",
       "var gd = document.getElementById('68c0893d-7ee7-4613-a548-17a6acf02572');\n",
       "var x = new MutationObserver(function (mutations, observer) {{\n",
       "        var display = window.getComputedStyle(gd).display;\n",
       "        if (!display || display === 'none') {{\n",
       "            console.log([gd, 'removed!']);\n",
       "            Plotly.purge(gd);\n",
       "            observer.disconnect();\n",
       "        }}\n",
       "}});\n",
       "\n",
       "// Listen for the removal of the full notebook cells\n",
       "var notebookContainer = gd.closest('#notebook-container');\n",
       "if (notebookContainer) {{\n",
       "    x.observe(notebookContainer, {childList: true});\n",
       "}}\n",
       "\n",
       "// Listen for the clearing of the current output cell\n",
       "var outputEl = gd.closest('.output');\n",
       "if (outputEl) {{\n",
       "    x.observe(outputEl, {childList: true});\n",
       "}}\n",
       "\n",
       "                        })                };                });            </script>        </div>"
      ]
     },
     "metadata": {},
     "output_type": "display_data"
    }
   ],
   "source": [
    "fig=go.Figure()\n",
    "fig.add_trace(go.Scatter(x=model_train.index, y=model_train.Cases,\n",
    "                    mode='lines+markers',name=\"Train Data for Confirmed Cases\"))\n",
    "fig.add_trace(go.Scatter(x=valid.index, y=valid.Cases,\n",
    "                    mode='lines+markers',name=\"Validation Data for Confirmed Cases\",))\n",
    "fig.add_trace(go.Scatter(x=valid.index, y=y_pred[\"Double Exponential\"],\n",
    "                    mode='lines+markers',name=\"Prediction for Confirmed Cases\",))\n",
    "fig.update_layout(title=\"Confirmed Cases Double Exponential (Holt) Model Prediction\",\n",
    "                 xaxis_title=\"Date\",yaxis_title=\"Confirmed Cases\",legend=dict(x=0,y=1,traceorder=\"normal\"))\n",
    "fig.show()"
   ]
  },
  {
   "cell_type": "markdown",
   "metadata": {},
   "source": [
    "## 6. Single Exponential"
   ]
  },
  {
   "cell_type": "code",
   "execution_count": 139,
   "metadata": {},
   "outputs": [
    {
     "name": "stdout",
     "output_type": "stream",
     "text": [
      "Root Mean Square Error for Single Exponential Model:  127409.0364326547\n"
     ]
    },
    {
     "name": "stderr",
     "output_type": "stream",
     "text": [
      "/Users/fitrie/.conda/envs/py3-TF2.0/lib/python3.6/site-packages/statsmodels/tsa/base/tsa_model.py:527: ValueWarning:\n",
      "\n",
      "No frequency information was provided, so inferred frequency D will be used.\n",
      "\n",
      "/Users/fitrie/.conda/envs/py3-TF2.0/lib/python3.6/site-packages/statsmodels/tsa/holtwinters/model.py:922: ConvergenceWarning:\n",
      "\n",
      "Optimization failed to converge. Check mle_retvals.\n",
      "\n"
     ]
    }
   ],
   "source": [
    "from statsmodels.tsa.api import SimpleExpSmoothing\n",
    "\n",
    "single = SimpleExpSmoothing(model_train.Cases).fit(optimized=True)\n",
    "prediction_single = single.forecast(len(valid))\n",
    "y_pred['Single Exponential'] = prediction_single\n",
    "\n",
    "model_scores.append(np.sqrt(mean_squared_error(y_pred[\"Cases\"],y_pred[\"Single Exponential\"])))\n",
    "print(\"Root Mean Square Error for Single Exponential Model: \",np.sqrt(mean_squared_error(y_pred[\"Cases\"],y_pred[\"Single Exponential\"])))\n",
    "\n"
   ]
  },
  {
   "cell_type": "code",
   "execution_count": 140,
   "metadata": {},
   "outputs": [
    {
     "data": {
      "application/vnd.plotly.v1+json": {
       "config": {
        "plotlyServerURL": "https://plot.ly"
       },
       "data": [
        {
         "mode": "lines+markers",
         "name": "Train Data for Confirmed Cases",
         "type": "scatter",
         "x": [
          "2021-01-01T00:00:00+00:00",
          "2021-01-02T00:00:00+00:00",
          "2021-01-03T00:00:00+00:00",
          "2021-01-04T00:00:00+00:00",
          "2021-01-05T00:00:00+00:00",
          "2021-01-06T00:00:00+00:00",
          "2021-01-07T00:00:00+00:00",
          "2021-01-08T00:00:00+00:00",
          "2021-01-09T00:00:00+00:00",
          "2021-01-10T00:00:00+00:00",
          "2021-01-11T00:00:00+00:00",
          "2021-01-12T00:00:00+00:00",
          "2021-01-13T00:00:00+00:00",
          "2021-01-14T00:00:00+00:00",
          "2021-01-15T00:00:00+00:00",
          "2021-01-16T00:00:00+00:00",
          "2021-01-17T00:00:00+00:00",
          "2021-01-18T00:00:00+00:00",
          "2021-01-19T00:00:00+00:00",
          "2021-01-20T00:00:00+00:00",
          "2021-01-21T00:00:00+00:00",
          "2021-01-22T00:00:00+00:00",
          "2021-01-23T00:00:00+00:00",
          "2021-01-24T00:00:00+00:00",
          "2021-01-25T00:00:00+00:00",
          "2021-01-26T00:00:00+00:00",
          "2021-01-27T00:00:00+00:00",
          "2021-01-28T00:00:00+00:00",
          "2021-01-29T00:00:00+00:00",
          "2021-01-30T00:00:00+00:00",
          "2021-01-31T00:00:00+00:00",
          "2021-02-01T00:00:00+00:00",
          "2021-02-02T00:00:00+00:00",
          "2021-02-03T00:00:00+00:00",
          "2021-02-04T00:00:00+00:00",
          "2021-02-05T00:00:00+00:00",
          "2021-02-06T00:00:00+00:00",
          "2021-02-07T00:00:00+00:00",
          "2021-02-08T00:00:00+00:00",
          "2021-02-09T00:00:00+00:00",
          "2021-02-10T00:00:00+00:00",
          "2021-02-11T00:00:00+00:00",
          "2021-02-12T00:00:00+00:00",
          "2021-02-13T00:00:00+00:00",
          "2021-02-14T00:00:00+00:00",
          "2021-02-15T00:00:00+00:00",
          "2021-02-16T00:00:00+00:00",
          "2021-02-17T00:00:00+00:00",
          "2021-02-18T00:00:00+00:00",
          "2021-02-19T00:00:00+00:00",
          "2021-02-20T00:00:00+00:00",
          "2021-02-21T00:00:00+00:00",
          "2021-02-22T00:00:00+00:00",
          "2021-02-23T00:00:00+00:00",
          "2021-02-24T00:00:00+00:00",
          "2021-02-25T00:00:00+00:00",
          "2021-02-26T00:00:00+00:00",
          "2021-02-27T00:00:00+00:00",
          "2021-02-28T00:00:00+00:00",
          "2021-03-01T00:00:00+00:00",
          "2021-03-02T00:00:00+00:00",
          "2021-03-03T00:00:00+00:00",
          "2021-03-04T00:00:00+00:00",
          "2021-03-05T00:00:00+00:00",
          "2021-03-06T00:00:00+00:00",
          "2021-03-07T00:00:00+00:00",
          "2021-03-08T00:00:00+00:00",
          "2021-03-09T00:00:00+00:00",
          "2021-03-10T00:00:00+00:00",
          "2021-03-11T00:00:00+00:00",
          "2021-03-12T00:00:00+00:00",
          "2021-03-13T00:00:00+00:00",
          "2021-03-14T00:00:00+00:00",
          "2021-03-15T00:00:00+00:00",
          "2021-03-16T00:00:00+00:00",
          "2021-03-17T00:00:00+00:00",
          "2021-03-18T00:00:00+00:00",
          "2021-03-19T00:00:00+00:00",
          "2021-03-20T00:00:00+00:00",
          "2021-03-21T00:00:00+00:00",
          "2021-03-22T00:00:00+00:00",
          "2021-03-23T00:00:00+00:00",
          "2021-03-24T00:00:00+00:00",
          "2021-03-25T00:00:00+00:00",
          "2021-03-26T00:00:00+00:00",
          "2021-03-27T00:00:00+00:00",
          "2021-03-28T00:00:00+00:00",
          "2021-03-29T00:00:00+00:00",
          "2021-03-30T00:00:00+00:00",
          "2021-03-31T00:00:00+00:00",
          "2021-04-01T00:00:00+00:00",
          "2021-04-02T00:00:00+00:00",
          "2021-04-03T00:00:00+00:00",
          "2021-04-04T00:00:00+00:00",
          "2021-04-05T00:00:00+00:00",
          "2021-04-06T00:00:00+00:00",
          "2021-04-07T00:00:00+00:00",
          "2021-04-08T00:00:00+00:00",
          "2021-04-09T00:00:00+00:00",
          "2021-04-10T00:00:00+00:00",
          "2021-04-11T00:00:00+00:00",
          "2021-04-12T00:00:00+00:00",
          "2021-04-13T00:00:00+00:00",
          "2021-04-14T00:00:00+00:00",
          "2021-04-15T00:00:00+00:00",
          "2021-04-16T00:00:00+00:00",
          "2021-04-17T00:00:00+00:00",
          "2021-04-18T00:00:00+00:00",
          "2021-04-19T00:00:00+00:00",
          "2021-04-20T00:00:00+00:00",
          "2021-04-21T00:00:00+00:00",
          "2021-04-22T00:00:00+00:00",
          "2021-04-23T00:00:00+00:00",
          "2021-04-24T00:00:00+00:00",
          "2021-04-25T00:00:00+00:00",
          "2021-04-26T00:00:00+00:00",
          "2021-04-27T00:00:00+00:00",
          "2021-04-28T00:00:00+00:00",
          "2021-04-29T00:00:00+00:00",
          "2021-04-30T00:00:00+00:00",
          "2021-05-01T00:00:00+00:00",
          "2021-05-02T00:00:00+00:00",
          "2021-05-03T00:00:00+00:00",
          "2021-05-04T00:00:00+00:00",
          "2021-05-05T00:00:00+00:00",
          "2021-05-06T00:00:00+00:00",
          "2021-05-07T00:00:00+00:00",
          "2021-05-08T00:00:00+00:00",
          "2021-05-09T00:00:00+00:00",
          "2021-05-10T00:00:00+00:00",
          "2021-05-11T00:00:00+00:00",
          "2021-05-12T00:00:00+00:00",
          "2021-05-13T00:00:00+00:00",
          "2021-05-14T00:00:00+00:00",
          "2021-05-15T00:00:00+00:00",
          "2021-05-16T00:00:00+00:00",
          "2021-05-17T00:00:00+00:00",
          "2021-05-18T00:00:00+00:00",
          "2021-05-19T00:00:00+00:00",
          "2021-05-20T00:00:00+00:00",
          "2021-05-21T00:00:00+00:00",
          "2021-05-22T00:00:00+00:00",
          "2021-05-23T00:00:00+00:00",
          "2021-05-24T00:00:00+00:00",
          "2021-05-25T00:00:00+00:00",
          "2021-05-26T00:00:00+00:00",
          "2021-05-27T00:00:00+00:00",
          "2021-05-28T00:00:00+00:00",
          "2021-05-29T00:00:00+00:00",
          "2021-05-30T00:00:00+00:00",
          "2021-05-31T00:00:00+00:00",
          "2021-06-01T00:00:00+00:00",
          "2021-06-02T00:00:00+00:00",
          "2021-06-03T00:00:00+00:00",
          "2021-06-04T00:00:00+00:00",
          "2021-06-05T00:00:00+00:00",
          "2021-06-06T00:00:00+00:00",
          "2021-06-07T00:00:00+00:00",
          "2021-06-08T00:00:00+00:00",
          "2021-06-09T00:00:00+00:00",
          "2021-06-10T00:00:00+00:00",
          "2021-06-11T00:00:00+00:00",
          "2021-06-12T00:00:00+00:00",
          "2021-06-13T00:00:00+00:00",
          "2021-06-14T00:00:00+00:00",
          "2021-06-15T00:00:00+00:00",
          "2021-06-16T00:00:00+00:00",
          "2021-06-17T00:00:00+00:00",
          "2021-06-18T00:00:00+00:00",
          "2021-06-19T00:00:00+00:00",
          "2021-06-20T00:00:00+00:00",
          "2021-06-21T00:00:00+00:00",
          "2021-06-22T00:00:00+00:00",
          "2021-06-23T00:00:00+00:00",
          "2021-06-24T00:00:00+00:00",
          "2021-06-25T00:00:00+00:00",
          "2021-06-26T00:00:00+00:00",
          "2021-06-27T00:00:00+00:00",
          "2021-06-28T00:00:00+00:00",
          "2021-06-29T00:00:00+00:00",
          "2021-06-30T00:00:00+00:00",
          "2021-07-01T00:00:00+00:00",
          "2021-07-02T00:00:00+00:00",
          "2021-07-03T00:00:00+00:00",
          "2021-07-04T00:00:00+00:00",
          "2021-07-05T00:00:00+00:00",
          "2021-07-06T00:00:00+00:00",
          "2021-07-07T00:00:00+00:00",
          "2021-07-08T00:00:00+00:00",
          "2021-07-09T00:00:00+00:00",
          "2021-07-10T00:00:00+00:00",
          "2021-07-11T00:00:00+00:00",
          "2021-07-12T00:00:00+00:00",
          "2021-07-13T00:00:00+00:00",
          "2021-07-14T00:00:00+00:00",
          "2021-07-15T00:00:00+00:00",
          "2021-07-16T00:00:00+00:00",
          "2021-07-17T00:00:00+00:00",
          "2021-07-18T00:00:00+00:00",
          "2021-07-19T00:00:00+00:00",
          "2021-07-20T00:00:00+00:00",
          "2021-07-21T00:00:00+00:00",
          "2021-07-22T00:00:00+00:00",
          "2021-07-23T00:00:00+00:00",
          "2021-07-24T00:00:00+00:00",
          "2021-07-25T00:00:00+00:00",
          "2021-07-26T00:00:00+00:00",
          "2021-07-27T00:00:00+00:00",
          "2021-07-28T00:00:00+00:00",
          "2021-07-29T00:00:00+00:00",
          "2021-07-30T00:00:00+00:00",
          "2021-07-31T00:00:00+00:00",
          "2021-08-01T00:00:00+00:00",
          "2021-08-02T00:00:00+00:00",
          "2021-08-03T00:00:00+00:00",
          "2021-08-04T00:00:00+00:00",
          "2021-08-05T00:00:00+00:00",
          "2021-08-06T00:00:00+00:00",
          "2021-08-07T00:00:00+00:00",
          "2021-08-08T00:00:00+00:00",
          "2021-08-09T00:00:00+00:00",
          "2021-08-10T00:00:00+00:00",
          "2021-08-11T00:00:00+00:00",
          "2021-08-12T00:00:00+00:00",
          "2021-08-13T00:00:00+00:00",
          "2021-08-14T00:00:00+00:00",
          "2021-08-15T00:00:00+00:00",
          "2021-08-16T00:00:00+00:00",
          "2021-08-17T00:00:00+00:00"
         ],
         "y": [
          751270,
          758473,
          765350,
          772103,
          779548,
          788402,
          797723,
          808340,
          818386,
          828026,
          836718,
          846765,
          858043,
          869600,
          882418,
          896642,
          907929,
          917015,
          927380,
          939948,
          951651,
          965283,
          977474,
          989262,
          999256,
          1012350,
          1024298,
          1037993,
          1051795,
          1066313,
          1078314,
          1089308,
          1099687,
          1111671,
          1123105,
          1134854,
          1147010,
          1157837,
          1166079,
          1174779,
          1183555,
          1191990,
          1201859,
          1210703,
          1217468,
          1223930,
          1233959,
          1243646,
          1252685,
          1263299,
          1271353,
          1278653,
          1288833,
          1298608,
          1306141,
          1314634,
          1322866,
          1329074,
          1334634,
          1341314,
          1347026,
          1353834,
          1361098,
          1368069,
          1373836,
          1379662,
          1386556,
          1392945,
          1398578,
          1403722,
          1410134,
          1414741,
          1419455,
          1425044,
          1430458,
          1437283,
          1443853,
          1450132,
          1455788,
          1460184,
          1465928,
          1471225,
          1476452,
          1482559,
          1487541,
          1492002,
          1496085,
          1501093,
          1505775,
          1511712,
          1517854,
          1523179,
          1527524,
          1534255,
          1537967,
          1542516,
          1547376,
          1552880,
          1558145,
          1562868,
          1566995,
          1571824,
          1577526,
          1583182,
          1589359,
          1594722,
          1599763,
          1604348,
          1609300,
          1614849,
          1620569,
          1626812,
          1632248,
          1636792,
          1641194,
          1647138,
          1651794,
          1657035,
          1662868,
          1668368,
          1672880,
          1677274,
          1682004,
          1686373,
          1691658,
          1697305,
          1703632,
          1709762,
          1713684,
          1718575,
          1723596,
          1728204,
          1731652,
          1734285,
          1736670,
          1739750,
          1744045,
          1748230,
          1753101,
          1758898,
          1764644,
          1769940,
          1775220,
          1781127,
          1786187,
          1791221,
          1797499,
          1803361,
          1809926,
          1816041,
          1821703,
          1826527,
          1831773,
          1837126,
          1843612,
          1850206,
          1856038,
          1863031,
          1869325,
          1877050,
          1885942,
          1894025,
          1901490,
          1911358,
          1919547,
          1927708,
          1937652,
          1950276,
          1963266,
          1976172,
          1989909,
          2004445,
          2018113,
          2033421,
          2053995,
          2072867,
          2093962,
          2115304,
          2135998,
          2156465,
          2178272,
          2203108,
          2228938,
          2256851,
          2284084,
          2313829,
          2345018,
          2379397,
          2417788,
          2455912,
          2491006,
          2527203,
          2567630,
          2615529,
          2670046,
          2726803,
          2780803,
          2832755,
          2877476,
          2911733,
          2950058,
          2983830,
          3033339,
          3082410,
          3127826,
          3166505,
          3194733,
          3239936,
          3287727,
          3331206,
          3372374,
          3409658,
          3440396,
          3462800,
          3496700,
          3532567,
          3568331,
          3607863,
          3639616,
          3666031,
          3686740,
          3718821,
          3749446,
          3774155,
          3804943,
          3833541,
          3854354,
          3871738,
          3892479
         ]
        },
        {
         "mode": "lines+markers",
         "name": "Validation Data for Confirmed Cases",
         "type": "scatter",
         "x": [
          "2021-08-18T00:00:00+00:00",
          "2021-08-19T00:00:00+00:00",
          "2021-08-20T00:00:00+00:00",
          "2021-08-21T00:00:00+00:00",
          "2021-08-22T00:00:00+00:00",
          "2021-08-23T00:00:00+00:00",
          "2021-08-24T00:00:00+00:00",
          "2021-08-25T00:00:00+00:00",
          "2021-08-26T00:00:00+00:00",
          "2021-08-27T00:00:00+00:00",
          "2021-08-28T00:00:00+00:00",
          "2021-08-29T00:00:00+00:00",
          "2021-08-30T00:00:00+00:00"
         ],
         "y": [
          3908247,
          3930300,
          3950304,
          3967048,
          3979456,
          3989060,
          4008166,
          4026837,
          4043736,
          4056354,
          4066404,
          4073831,
          4089801
         ]
        },
        {
         "mode": "lines+markers",
         "name": "Prediction for Confirmed Cases",
         "type": "scatter",
         "x": [
          "2021-08-18T00:00:00+00:00",
          "2021-08-19T00:00:00+00:00",
          "2021-08-20T00:00:00+00:00",
          "2021-08-21T00:00:00+00:00",
          "2021-08-22T00:00:00+00:00",
          "2021-08-23T00:00:00+00:00",
          "2021-08-24T00:00:00+00:00",
          "2021-08-25T00:00:00+00:00",
          "2021-08-26T00:00:00+00:00",
          "2021-08-27T00:00:00+00:00",
          "2021-08-28T00:00:00+00:00",
          "2021-08-29T00:00:00+00:00",
          "2021-08-30T00:00:00+00:00"
         ],
         "y": [
          3892374.857780405,
          3892374.857780405,
          3892374.857780405,
          3892374.857780405,
          3892374.857780405,
          3892374.857780405,
          3892374.857780405,
          3892374.857780405,
          3892374.857780405,
          3892374.857780405,
          3892374.857780405,
          3892374.857780405,
          3892374.857780405
         ]
        }
       ],
       "layout": {
        "legend": {
         "traceorder": "normal",
         "x": 0,
         "y": 1
        },
        "template": {
         "data": {
          "bar": [
           {
            "error_x": {
             "color": "#2a3f5f"
            },
            "error_y": {
             "color": "#2a3f5f"
            },
            "marker": {
             "line": {
              "color": "#E5ECF6",
              "width": 0.5
             },
             "pattern": {
              "fillmode": "overlay",
              "size": 10,
              "solidity": 0.2
             }
            },
            "type": "bar"
           }
          ],
          "barpolar": [
           {
            "marker": {
             "line": {
              "color": "#E5ECF6",
              "width": 0.5
             },
             "pattern": {
              "fillmode": "overlay",
              "size": 10,
              "solidity": 0.2
             }
            },
            "type": "barpolar"
           }
          ],
          "carpet": [
           {
            "aaxis": {
             "endlinecolor": "#2a3f5f",
             "gridcolor": "white",
             "linecolor": "white",
             "minorgridcolor": "white",
             "startlinecolor": "#2a3f5f"
            },
            "baxis": {
             "endlinecolor": "#2a3f5f",
             "gridcolor": "white",
             "linecolor": "white",
             "minorgridcolor": "white",
             "startlinecolor": "#2a3f5f"
            },
            "type": "carpet"
           }
          ],
          "choropleth": [
           {
            "colorbar": {
             "outlinewidth": 0,
             "ticks": ""
            },
            "type": "choropleth"
           }
          ],
          "contour": [
           {
            "colorbar": {
             "outlinewidth": 0,
             "ticks": ""
            },
            "colorscale": [
             [
              0,
              "#0d0887"
             ],
             [
              0.1111111111111111,
              "#46039f"
             ],
             [
              0.2222222222222222,
              "#7201a8"
             ],
             [
              0.3333333333333333,
              "#9c179e"
             ],
             [
              0.4444444444444444,
              "#bd3786"
             ],
             [
              0.5555555555555556,
              "#d8576b"
             ],
             [
              0.6666666666666666,
              "#ed7953"
             ],
             [
              0.7777777777777778,
              "#fb9f3a"
             ],
             [
              0.8888888888888888,
              "#fdca26"
             ],
             [
              1,
              "#f0f921"
             ]
            ],
            "type": "contour"
           }
          ],
          "contourcarpet": [
           {
            "colorbar": {
             "outlinewidth": 0,
             "ticks": ""
            },
            "type": "contourcarpet"
           }
          ],
          "heatmap": [
           {
            "colorbar": {
             "outlinewidth": 0,
             "ticks": ""
            },
            "colorscale": [
             [
              0,
              "#0d0887"
             ],
             [
              0.1111111111111111,
              "#46039f"
             ],
             [
              0.2222222222222222,
              "#7201a8"
             ],
             [
              0.3333333333333333,
              "#9c179e"
             ],
             [
              0.4444444444444444,
              "#bd3786"
             ],
             [
              0.5555555555555556,
              "#d8576b"
             ],
             [
              0.6666666666666666,
              "#ed7953"
             ],
             [
              0.7777777777777778,
              "#fb9f3a"
             ],
             [
              0.8888888888888888,
              "#fdca26"
             ],
             [
              1,
              "#f0f921"
             ]
            ],
            "type": "heatmap"
           }
          ],
          "heatmapgl": [
           {
            "colorbar": {
             "outlinewidth": 0,
             "ticks": ""
            },
            "colorscale": [
             [
              0,
              "#0d0887"
             ],
             [
              0.1111111111111111,
              "#46039f"
             ],
             [
              0.2222222222222222,
              "#7201a8"
             ],
             [
              0.3333333333333333,
              "#9c179e"
             ],
             [
              0.4444444444444444,
              "#bd3786"
             ],
             [
              0.5555555555555556,
              "#d8576b"
             ],
             [
              0.6666666666666666,
              "#ed7953"
             ],
             [
              0.7777777777777778,
              "#fb9f3a"
             ],
             [
              0.8888888888888888,
              "#fdca26"
             ],
             [
              1,
              "#f0f921"
             ]
            ],
            "type": "heatmapgl"
           }
          ],
          "histogram": [
           {
            "marker": {
             "pattern": {
              "fillmode": "overlay",
              "size": 10,
              "solidity": 0.2
             }
            },
            "type": "histogram"
           }
          ],
          "histogram2d": [
           {
            "colorbar": {
             "outlinewidth": 0,
             "ticks": ""
            },
            "colorscale": [
             [
              0,
              "#0d0887"
             ],
             [
              0.1111111111111111,
              "#46039f"
             ],
             [
              0.2222222222222222,
              "#7201a8"
             ],
             [
              0.3333333333333333,
              "#9c179e"
             ],
             [
              0.4444444444444444,
              "#bd3786"
             ],
             [
              0.5555555555555556,
              "#d8576b"
             ],
             [
              0.6666666666666666,
              "#ed7953"
             ],
             [
              0.7777777777777778,
              "#fb9f3a"
             ],
             [
              0.8888888888888888,
              "#fdca26"
             ],
             [
              1,
              "#f0f921"
             ]
            ],
            "type": "histogram2d"
           }
          ],
          "histogram2dcontour": [
           {
            "colorbar": {
             "outlinewidth": 0,
             "ticks": ""
            },
            "colorscale": [
             [
              0,
              "#0d0887"
             ],
             [
              0.1111111111111111,
              "#46039f"
             ],
             [
              0.2222222222222222,
              "#7201a8"
             ],
             [
              0.3333333333333333,
              "#9c179e"
             ],
             [
              0.4444444444444444,
              "#bd3786"
             ],
             [
              0.5555555555555556,
              "#d8576b"
             ],
             [
              0.6666666666666666,
              "#ed7953"
             ],
             [
              0.7777777777777778,
              "#fb9f3a"
             ],
             [
              0.8888888888888888,
              "#fdca26"
             ],
             [
              1,
              "#f0f921"
             ]
            ],
            "type": "histogram2dcontour"
           }
          ],
          "mesh3d": [
           {
            "colorbar": {
             "outlinewidth": 0,
             "ticks": ""
            },
            "type": "mesh3d"
           }
          ],
          "parcoords": [
           {
            "line": {
             "colorbar": {
              "outlinewidth": 0,
              "ticks": ""
             }
            },
            "type": "parcoords"
           }
          ],
          "pie": [
           {
            "automargin": true,
            "type": "pie"
           }
          ],
          "scatter": [
           {
            "marker": {
             "colorbar": {
              "outlinewidth": 0,
              "ticks": ""
             }
            },
            "type": "scatter"
           }
          ],
          "scatter3d": [
           {
            "line": {
             "colorbar": {
              "outlinewidth": 0,
              "ticks": ""
             }
            },
            "marker": {
             "colorbar": {
              "outlinewidth": 0,
              "ticks": ""
             }
            },
            "type": "scatter3d"
           }
          ],
          "scattercarpet": [
           {
            "marker": {
             "colorbar": {
              "outlinewidth": 0,
              "ticks": ""
             }
            },
            "type": "scattercarpet"
           }
          ],
          "scattergeo": [
           {
            "marker": {
             "colorbar": {
              "outlinewidth": 0,
              "ticks": ""
             }
            },
            "type": "scattergeo"
           }
          ],
          "scattergl": [
           {
            "marker": {
             "colorbar": {
              "outlinewidth": 0,
              "ticks": ""
             }
            },
            "type": "scattergl"
           }
          ],
          "scattermapbox": [
           {
            "marker": {
             "colorbar": {
              "outlinewidth": 0,
              "ticks": ""
             }
            },
            "type": "scattermapbox"
           }
          ],
          "scatterpolar": [
           {
            "marker": {
             "colorbar": {
              "outlinewidth": 0,
              "ticks": ""
             }
            },
            "type": "scatterpolar"
           }
          ],
          "scatterpolargl": [
           {
            "marker": {
             "colorbar": {
              "outlinewidth": 0,
              "ticks": ""
             }
            },
            "type": "scatterpolargl"
           }
          ],
          "scatterternary": [
           {
            "marker": {
             "colorbar": {
              "outlinewidth": 0,
              "ticks": ""
             }
            },
            "type": "scatterternary"
           }
          ],
          "surface": [
           {
            "colorbar": {
             "outlinewidth": 0,
             "ticks": ""
            },
            "colorscale": [
             [
              0,
              "#0d0887"
             ],
             [
              0.1111111111111111,
              "#46039f"
             ],
             [
              0.2222222222222222,
              "#7201a8"
             ],
             [
              0.3333333333333333,
              "#9c179e"
             ],
             [
              0.4444444444444444,
              "#bd3786"
             ],
             [
              0.5555555555555556,
              "#d8576b"
             ],
             [
              0.6666666666666666,
              "#ed7953"
             ],
             [
              0.7777777777777778,
              "#fb9f3a"
             ],
             [
              0.8888888888888888,
              "#fdca26"
             ],
             [
              1,
              "#f0f921"
             ]
            ],
            "type": "surface"
           }
          ],
          "table": [
           {
            "cells": {
             "fill": {
              "color": "#EBF0F8"
             },
             "line": {
              "color": "white"
             }
            },
            "header": {
             "fill": {
              "color": "#C8D4E3"
             },
             "line": {
              "color": "white"
             }
            },
            "type": "table"
           }
          ]
         },
         "layout": {
          "annotationdefaults": {
           "arrowcolor": "#2a3f5f",
           "arrowhead": 0,
           "arrowwidth": 1
          },
          "autotypenumbers": "strict",
          "coloraxis": {
           "colorbar": {
            "outlinewidth": 0,
            "ticks": ""
           }
          },
          "colorscale": {
           "diverging": [
            [
             0,
             "#8e0152"
            ],
            [
             0.1,
             "#c51b7d"
            ],
            [
             0.2,
             "#de77ae"
            ],
            [
             0.3,
             "#f1b6da"
            ],
            [
             0.4,
             "#fde0ef"
            ],
            [
             0.5,
             "#f7f7f7"
            ],
            [
             0.6,
             "#e6f5d0"
            ],
            [
             0.7,
             "#b8e186"
            ],
            [
             0.8,
             "#7fbc41"
            ],
            [
             0.9,
             "#4d9221"
            ],
            [
             1,
             "#276419"
            ]
           ],
           "sequential": [
            [
             0,
             "#0d0887"
            ],
            [
             0.1111111111111111,
             "#46039f"
            ],
            [
             0.2222222222222222,
             "#7201a8"
            ],
            [
             0.3333333333333333,
             "#9c179e"
            ],
            [
             0.4444444444444444,
             "#bd3786"
            ],
            [
             0.5555555555555556,
             "#d8576b"
            ],
            [
             0.6666666666666666,
             "#ed7953"
            ],
            [
             0.7777777777777778,
             "#fb9f3a"
            ],
            [
             0.8888888888888888,
             "#fdca26"
            ],
            [
             1,
             "#f0f921"
            ]
           ],
           "sequentialminus": [
            [
             0,
             "#0d0887"
            ],
            [
             0.1111111111111111,
             "#46039f"
            ],
            [
             0.2222222222222222,
             "#7201a8"
            ],
            [
             0.3333333333333333,
             "#9c179e"
            ],
            [
             0.4444444444444444,
             "#bd3786"
            ],
            [
             0.5555555555555556,
             "#d8576b"
            ],
            [
             0.6666666666666666,
             "#ed7953"
            ],
            [
             0.7777777777777778,
             "#fb9f3a"
            ],
            [
             0.8888888888888888,
             "#fdca26"
            ],
            [
             1,
             "#f0f921"
            ]
           ]
          },
          "colorway": [
           "#636efa",
           "#EF553B",
           "#00cc96",
           "#ab63fa",
           "#FFA15A",
           "#19d3f3",
           "#FF6692",
           "#B6E880",
           "#FF97FF",
           "#FECB52"
          ],
          "font": {
           "color": "#2a3f5f"
          },
          "geo": {
           "bgcolor": "white",
           "lakecolor": "white",
           "landcolor": "#E5ECF6",
           "showlakes": true,
           "showland": true,
           "subunitcolor": "white"
          },
          "hoverlabel": {
           "align": "left"
          },
          "hovermode": "closest",
          "mapbox": {
           "style": "light"
          },
          "paper_bgcolor": "white",
          "plot_bgcolor": "#E5ECF6",
          "polar": {
           "angularaxis": {
            "gridcolor": "white",
            "linecolor": "white",
            "ticks": ""
           },
           "bgcolor": "#E5ECF6",
           "radialaxis": {
            "gridcolor": "white",
            "linecolor": "white",
            "ticks": ""
           }
          },
          "scene": {
           "xaxis": {
            "backgroundcolor": "#E5ECF6",
            "gridcolor": "white",
            "gridwidth": 2,
            "linecolor": "white",
            "showbackground": true,
            "ticks": "",
            "zerolinecolor": "white"
           },
           "yaxis": {
            "backgroundcolor": "#E5ECF6",
            "gridcolor": "white",
            "gridwidth": 2,
            "linecolor": "white",
            "showbackground": true,
            "ticks": "",
            "zerolinecolor": "white"
           },
           "zaxis": {
            "backgroundcolor": "#E5ECF6",
            "gridcolor": "white",
            "gridwidth": 2,
            "linecolor": "white",
            "showbackground": true,
            "ticks": "",
            "zerolinecolor": "white"
           }
          },
          "shapedefaults": {
           "line": {
            "color": "#2a3f5f"
           }
          },
          "ternary": {
           "aaxis": {
            "gridcolor": "white",
            "linecolor": "white",
            "ticks": ""
           },
           "baxis": {
            "gridcolor": "white",
            "linecolor": "white",
            "ticks": ""
           },
           "bgcolor": "#E5ECF6",
           "caxis": {
            "gridcolor": "white",
            "linecolor": "white",
            "ticks": ""
           }
          },
          "title": {
           "x": 0.05
          },
          "xaxis": {
           "automargin": true,
           "gridcolor": "white",
           "linecolor": "white",
           "ticks": "",
           "title": {
            "standoff": 15
           },
           "zerolinecolor": "white",
           "zerolinewidth": 2
          },
          "yaxis": {
           "automargin": true,
           "gridcolor": "white",
           "linecolor": "white",
           "ticks": "",
           "title": {
            "standoff": 15
           },
           "zerolinecolor": "white",
           "zerolinewidth": 2
          }
         }
        },
        "title": {
         "text": "Confirmed Cases Single Exponential Model Prediction"
        },
        "xaxis": {
         "title": {
          "text": "Date"
         }
        },
        "yaxis": {
         "title": {
          "text": "Confirmed Cases"
         }
        }
       }
      },
      "text/html": [
       "<div>                            <div id=\"153ec2fb-479a-4ddc-ab27-e917eb804d86\" class=\"plotly-graph-div\" style=\"height:525px; width:100%;\"></div>            <script type=\"text/javascript\">                require([\"plotly\"], function(Plotly) {                    window.PLOTLYENV=window.PLOTLYENV || {};                                    if (document.getElementById(\"153ec2fb-479a-4ddc-ab27-e917eb804d86\")) {                    Plotly.newPlot(                        \"153ec2fb-479a-4ddc-ab27-e917eb804d86\",                        [{\"mode\":\"lines+markers\",\"name\":\"Train Data for Confirmed Cases\",\"type\":\"scatter\",\"x\":[\"2021-01-01T00:00:00+00:00\",\"2021-01-02T00:00:00+00:00\",\"2021-01-03T00:00:00+00:00\",\"2021-01-04T00:00:00+00:00\",\"2021-01-05T00:00:00+00:00\",\"2021-01-06T00:00:00+00:00\",\"2021-01-07T00:00:00+00:00\",\"2021-01-08T00:00:00+00:00\",\"2021-01-09T00:00:00+00:00\",\"2021-01-10T00:00:00+00:00\",\"2021-01-11T00:00:00+00:00\",\"2021-01-12T00:00:00+00:00\",\"2021-01-13T00:00:00+00:00\",\"2021-01-14T00:00:00+00:00\",\"2021-01-15T00:00:00+00:00\",\"2021-01-16T00:00:00+00:00\",\"2021-01-17T00:00:00+00:00\",\"2021-01-18T00:00:00+00:00\",\"2021-01-19T00:00:00+00:00\",\"2021-01-20T00:00:00+00:00\",\"2021-01-21T00:00:00+00:00\",\"2021-01-22T00:00:00+00:00\",\"2021-01-23T00:00:00+00:00\",\"2021-01-24T00:00:00+00:00\",\"2021-01-25T00:00:00+00:00\",\"2021-01-26T00:00:00+00:00\",\"2021-01-27T00:00:00+00:00\",\"2021-01-28T00:00:00+00:00\",\"2021-01-29T00:00:00+00:00\",\"2021-01-30T00:00:00+00:00\",\"2021-01-31T00:00:00+00:00\",\"2021-02-01T00:00:00+00:00\",\"2021-02-02T00:00:00+00:00\",\"2021-02-03T00:00:00+00:00\",\"2021-02-04T00:00:00+00:00\",\"2021-02-05T00:00:00+00:00\",\"2021-02-06T00:00:00+00:00\",\"2021-02-07T00:00:00+00:00\",\"2021-02-08T00:00:00+00:00\",\"2021-02-09T00:00:00+00:00\",\"2021-02-10T00:00:00+00:00\",\"2021-02-11T00:00:00+00:00\",\"2021-02-12T00:00:00+00:00\",\"2021-02-13T00:00:00+00:00\",\"2021-02-14T00:00:00+00:00\",\"2021-02-15T00:00:00+00:00\",\"2021-02-16T00:00:00+00:00\",\"2021-02-17T00:00:00+00:00\",\"2021-02-18T00:00:00+00:00\",\"2021-02-19T00:00:00+00:00\",\"2021-02-20T00:00:00+00:00\",\"2021-02-21T00:00:00+00:00\",\"2021-02-22T00:00:00+00:00\",\"2021-02-23T00:00:00+00:00\",\"2021-02-24T00:00:00+00:00\",\"2021-02-25T00:00:00+00:00\",\"2021-02-26T00:00:00+00:00\",\"2021-02-27T00:00:00+00:00\",\"2021-02-28T00:00:00+00:00\",\"2021-03-01T00:00:00+00:00\",\"2021-03-02T00:00:00+00:00\",\"2021-03-03T00:00:00+00:00\",\"2021-03-04T00:00:00+00:00\",\"2021-03-05T00:00:00+00:00\",\"2021-03-06T00:00:00+00:00\",\"2021-03-07T00:00:00+00:00\",\"2021-03-08T00:00:00+00:00\",\"2021-03-09T00:00:00+00:00\",\"2021-03-10T00:00:00+00:00\",\"2021-03-11T00:00:00+00:00\",\"2021-03-12T00:00:00+00:00\",\"2021-03-13T00:00:00+00:00\",\"2021-03-14T00:00:00+00:00\",\"2021-03-15T00:00:00+00:00\",\"2021-03-16T00:00:00+00:00\",\"2021-03-17T00:00:00+00:00\",\"2021-03-18T00:00:00+00:00\",\"2021-03-19T00:00:00+00:00\",\"2021-03-20T00:00:00+00:00\",\"2021-03-21T00:00:00+00:00\",\"2021-03-22T00:00:00+00:00\",\"2021-03-23T00:00:00+00:00\",\"2021-03-24T00:00:00+00:00\",\"2021-03-25T00:00:00+00:00\",\"2021-03-26T00:00:00+00:00\",\"2021-03-27T00:00:00+00:00\",\"2021-03-28T00:00:00+00:00\",\"2021-03-29T00:00:00+00:00\",\"2021-03-30T00:00:00+00:00\",\"2021-03-31T00:00:00+00:00\",\"2021-04-01T00:00:00+00:00\",\"2021-04-02T00:00:00+00:00\",\"2021-04-03T00:00:00+00:00\",\"2021-04-04T00:00:00+00:00\",\"2021-04-05T00:00:00+00:00\",\"2021-04-06T00:00:00+00:00\",\"2021-04-07T00:00:00+00:00\",\"2021-04-08T00:00:00+00:00\",\"2021-04-09T00:00:00+00:00\",\"2021-04-10T00:00:00+00:00\",\"2021-04-11T00:00:00+00:00\",\"2021-04-12T00:00:00+00:00\",\"2021-04-13T00:00:00+00:00\",\"2021-04-14T00:00:00+00:00\",\"2021-04-15T00:00:00+00:00\",\"2021-04-16T00:00:00+00:00\",\"2021-04-17T00:00:00+00:00\",\"2021-04-18T00:00:00+00:00\",\"2021-04-19T00:00:00+00:00\",\"2021-04-20T00:00:00+00:00\",\"2021-04-21T00:00:00+00:00\",\"2021-04-22T00:00:00+00:00\",\"2021-04-23T00:00:00+00:00\",\"2021-04-24T00:00:00+00:00\",\"2021-04-25T00:00:00+00:00\",\"2021-04-26T00:00:00+00:00\",\"2021-04-27T00:00:00+00:00\",\"2021-04-28T00:00:00+00:00\",\"2021-04-29T00:00:00+00:00\",\"2021-04-30T00:00:00+00:00\",\"2021-05-01T00:00:00+00:00\",\"2021-05-02T00:00:00+00:00\",\"2021-05-03T00:00:00+00:00\",\"2021-05-04T00:00:00+00:00\",\"2021-05-05T00:00:00+00:00\",\"2021-05-06T00:00:00+00:00\",\"2021-05-07T00:00:00+00:00\",\"2021-05-08T00:00:00+00:00\",\"2021-05-09T00:00:00+00:00\",\"2021-05-10T00:00:00+00:00\",\"2021-05-11T00:00:00+00:00\",\"2021-05-12T00:00:00+00:00\",\"2021-05-13T00:00:00+00:00\",\"2021-05-14T00:00:00+00:00\",\"2021-05-15T00:00:00+00:00\",\"2021-05-16T00:00:00+00:00\",\"2021-05-17T00:00:00+00:00\",\"2021-05-18T00:00:00+00:00\",\"2021-05-19T00:00:00+00:00\",\"2021-05-20T00:00:00+00:00\",\"2021-05-21T00:00:00+00:00\",\"2021-05-22T00:00:00+00:00\",\"2021-05-23T00:00:00+00:00\",\"2021-05-24T00:00:00+00:00\",\"2021-05-25T00:00:00+00:00\",\"2021-05-26T00:00:00+00:00\",\"2021-05-27T00:00:00+00:00\",\"2021-05-28T00:00:00+00:00\",\"2021-05-29T00:00:00+00:00\",\"2021-05-30T00:00:00+00:00\",\"2021-05-31T00:00:00+00:00\",\"2021-06-01T00:00:00+00:00\",\"2021-06-02T00:00:00+00:00\",\"2021-06-03T00:00:00+00:00\",\"2021-06-04T00:00:00+00:00\",\"2021-06-05T00:00:00+00:00\",\"2021-06-06T00:00:00+00:00\",\"2021-06-07T00:00:00+00:00\",\"2021-06-08T00:00:00+00:00\",\"2021-06-09T00:00:00+00:00\",\"2021-06-10T00:00:00+00:00\",\"2021-06-11T00:00:00+00:00\",\"2021-06-12T00:00:00+00:00\",\"2021-06-13T00:00:00+00:00\",\"2021-06-14T00:00:00+00:00\",\"2021-06-15T00:00:00+00:00\",\"2021-06-16T00:00:00+00:00\",\"2021-06-17T00:00:00+00:00\",\"2021-06-18T00:00:00+00:00\",\"2021-06-19T00:00:00+00:00\",\"2021-06-20T00:00:00+00:00\",\"2021-06-21T00:00:00+00:00\",\"2021-06-22T00:00:00+00:00\",\"2021-06-23T00:00:00+00:00\",\"2021-06-24T00:00:00+00:00\",\"2021-06-25T00:00:00+00:00\",\"2021-06-26T00:00:00+00:00\",\"2021-06-27T00:00:00+00:00\",\"2021-06-28T00:00:00+00:00\",\"2021-06-29T00:00:00+00:00\",\"2021-06-30T00:00:00+00:00\",\"2021-07-01T00:00:00+00:00\",\"2021-07-02T00:00:00+00:00\",\"2021-07-03T00:00:00+00:00\",\"2021-07-04T00:00:00+00:00\",\"2021-07-05T00:00:00+00:00\",\"2021-07-06T00:00:00+00:00\",\"2021-07-07T00:00:00+00:00\",\"2021-07-08T00:00:00+00:00\",\"2021-07-09T00:00:00+00:00\",\"2021-07-10T00:00:00+00:00\",\"2021-07-11T00:00:00+00:00\",\"2021-07-12T00:00:00+00:00\",\"2021-07-13T00:00:00+00:00\",\"2021-07-14T00:00:00+00:00\",\"2021-07-15T00:00:00+00:00\",\"2021-07-16T00:00:00+00:00\",\"2021-07-17T00:00:00+00:00\",\"2021-07-18T00:00:00+00:00\",\"2021-07-19T00:00:00+00:00\",\"2021-07-20T00:00:00+00:00\",\"2021-07-21T00:00:00+00:00\",\"2021-07-22T00:00:00+00:00\",\"2021-07-23T00:00:00+00:00\",\"2021-07-24T00:00:00+00:00\",\"2021-07-25T00:00:00+00:00\",\"2021-07-26T00:00:00+00:00\",\"2021-07-27T00:00:00+00:00\",\"2021-07-28T00:00:00+00:00\",\"2021-07-29T00:00:00+00:00\",\"2021-07-30T00:00:00+00:00\",\"2021-07-31T00:00:00+00:00\",\"2021-08-01T00:00:00+00:00\",\"2021-08-02T00:00:00+00:00\",\"2021-08-03T00:00:00+00:00\",\"2021-08-04T00:00:00+00:00\",\"2021-08-05T00:00:00+00:00\",\"2021-08-06T00:00:00+00:00\",\"2021-08-07T00:00:00+00:00\",\"2021-08-08T00:00:00+00:00\",\"2021-08-09T00:00:00+00:00\",\"2021-08-10T00:00:00+00:00\",\"2021-08-11T00:00:00+00:00\",\"2021-08-12T00:00:00+00:00\",\"2021-08-13T00:00:00+00:00\",\"2021-08-14T00:00:00+00:00\",\"2021-08-15T00:00:00+00:00\",\"2021-08-16T00:00:00+00:00\",\"2021-08-17T00:00:00+00:00\"],\"y\":[751270,758473,765350,772103,779548,788402,797723,808340,818386,828026,836718,846765,858043,869600,882418,896642,907929,917015,927380,939948,951651,965283,977474,989262,999256,1012350,1024298,1037993,1051795,1066313,1078314,1089308,1099687,1111671,1123105,1134854,1147010,1157837,1166079,1174779,1183555,1191990,1201859,1210703,1217468,1223930,1233959,1243646,1252685,1263299,1271353,1278653,1288833,1298608,1306141,1314634,1322866,1329074,1334634,1341314,1347026,1353834,1361098,1368069,1373836,1379662,1386556,1392945,1398578,1403722,1410134,1414741,1419455,1425044,1430458,1437283,1443853,1450132,1455788,1460184,1465928,1471225,1476452,1482559,1487541,1492002,1496085,1501093,1505775,1511712,1517854,1523179,1527524,1534255,1537967,1542516,1547376,1552880,1558145,1562868,1566995,1571824,1577526,1583182,1589359,1594722,1599763,1604348,1609300,1614849,1620569,1626812,1632248,1636792,1641194,1647138,1651794,1657035,1662868,1668368,1672880,1677274,1682004,1686373,1691658,1697305,1703632,1709762,1713684,1718575,1723596,1728204,1731652,1734285,1736670,1739750,1744045,1748230,1753101,1758898,1764644,1769940,1775220,1781127,1786187,1791221,1797499,1803361,1809926,1816041,1821703,1826527,1831773,1837126,1843612,1850206,1856038,1863031,1869325,1877050,1885942,1894025,1901490,1911358,1919547,1927708,1937652,1950276,1963266,1976172,1989909,2004445,2018113,2033421,2053995,2072867,2093962,2115304,2135998,2156465,2178272,2203108,2228938,2256851,2284084,2313829,2345018,2379397,2417788,2455912,2491006,2527203,2567630,2615529,2670046,2726803,2780803,2832755,2877476,2911733,2950058,2983830,3033339,3082410,3127826,3166505,3194733,3239936,3287727,3331206,3372374,3409658,3440396,3462800,3496700,3532567,3568331,3607863,3639616,3666031,3686740,3718821,3749446,3774155,3804943,3833541,3854354,3871738,3892479]},{\"mode\":\"lines+markers\",\"name\":\"Validation Data for Confirmed Cases\",\"type\":\"scatter\",\"x\":[\"2021-08-18T00:00:00+00:00\",\"2021-08-19T00:00:00+00:00\",\"2021-08-20T00:00:00+00:00\",\"2021-08-21T00:00:00+00:00\",\"2021-08-22T00:00:00+00:00\",\"2021-08-23T00:00:00+00:00\",\"2021-08-24T00:00:00+00:00\",\"2021-08-25T00:00:00+00:00\",\"2021-08-26T00:00:00+00:00\",\"2021-08-27T00:00:00+00:00\",\"2021-08-28T00:00:00+00:00\",\"2021-08-29T00:00:00+00:00\",\"2021-08-30T00:00:00+00:00\"],\"y\":[3908247,3930300,3950304,3967048,3979456,3989060,4008166,4026837,4043736,4056354,4066404,4073831,4089801]},{\"mode\":\"lines+markers\",\"name\":\"Prediction for Confirmed Cases\",\"type\":\"scatter\",\"x\":[\"2021-08-18T00:00:00+00:00\",\"2021-08-19T00:00:00+00:00\",\"2021-08-20T00:00:00+00:00\",\"2021-08-21T00:00:00+00:00\",\"2021-08-22T00:00:00+00:00\",\"2021-08-23T00:00:00+00:00\",\"2021-08-24T00:00:00+00:00\",\"2021-08-25T00:00:00+00:00\",\"2021-08-26T00:00:00+00:00\",\"2021-08-27T00:00:00+00:00\",\"2021-08-28T00:00:00+00:00\",\"2021-08-29T00:00:00+00:00\",\"2021-08-30T00:00:00+00:00\"],\"y\":[3892374.857780405,3892374.857780405,3892374.857780405,3892374.857780405,3892374.857780405,3892374.857780405,3892374.857780405,3892374.857780405,3892374.857780405,3892374.857780405,3892374.857780405,3892374.857780405,3892374.857780405]}],                        {\"legend\":{\"traceorder\":\"normal\",\"x\":0,\"y\":1},\"template\":{\"data\":{\"bar\":[{\"error_x\":{\"color\":\"#2a3f5f\"},\"error_y\":{\"color\":\"#2a3f5f\"},\"marker\":{\"line\":{\"color\":\"#E5ECF6\",\"width\":0.5},\"pattern\":{\"fillmode\":\"overlay\",\"size\":10,\"solidity\":0.2}},\"type\":\"bar\"}],\"barpolar\":[{\"marker\":{\"line\":{\"color\":\"#E5ECF6\",\"width\":0.5},\"pattern\":{\"fillmode\":\"overlay\",\"size\":10,\"solidity\":0.2}},\"type\":\"barpolar\"}],\"carpet\":[{\"aaxis\":{\"endlinecolor\":\"#2a3f5f\",\"gridcolor\":\"white\",\"linecolor\":\"white\",\"minorgridcolor\":\"white\",\"startlinecolor\":\"#2a3f5f\"},\"baxis\":{\"endlinecolor\":\"#2a3f5f\",\"gridcolor\":\"white\",\"linecolor\":\"white\",\"minorgridcolor\":\"white\",\"startlinecolor\":\"#2a3f5f\"},\"type\":\"carpet\"}],\"choropleth\":[{\"colorbar\":{\"outlinewidth\":0,\"ticks\":\"\"},\"type\":\"choropleth\"}],\"contour\":[{\"colorbar\":{\"outlinewidth\":0,\"ticks\":\"\"},\"colorscale\":[[0.0,\"#0d0887\"],[0.1111111111111111,\"#46039f\"],[0.2222222222222222,\"#7201a8\"],[0.3333333333333333,\"#9c179e\"],[0.4444444444444444,\"#bd3786\"],[0.5555555555555556,\"#d8576b\"],[0.6666666666666666,\"#ed7953\"],[0.7777777777777778,\"#fb9f3a\"],[0.8888888888888888,\"#fdca26\"],[1.0,\"#f0f921\"]],\"type\":\"contour\"}],\"contourcarpet\":[{\"colorbar\":{\"outlinewidth\":0,\"ticks\":\"\"},\"type\":\"contourcarpet\"}],\"heatmap\":[{\"colorbar\":{\"outlinewidth\":0,\"ticks\":\"\"},\"colorscale\":[[0.0,\"#0d0887\"],[0.1111111111111111,\"#46039f\"],[0.2222222222222222,\"#7201a8\"],[0.3333333333333333,\"#9c179e\"],[0.4444444444444444,\"#bd3786\"],[0.5555555555555556,\"#d8576b\"],[0.6666666666666666,\"#ed7953\"],[0.7777777777777778,\"#fb9f3a\"],[0.8888888888888888,\"#fdca26\"],[1.0,\"#f0f921\"]],\"type\":\"heatmap\"}],\"heatmapgl\":[{\"colorbar\":{\"outlinewidth\":0,\"ticks\":\"\"},\"colorscale\":[[0.0,\"#0d0887\"],[0.1111111111111111,\"#46039f\"],[0.2222222222222222,\"#7201a8\"],[0.3333333333333333,\"#9c179e\"],[0.4444444444444444,\"#bd3786\"],[0.5555555555555556,\"#d8576b\"],[0.6666666666666666,\"#ed7953\"],[0.7777777777777778,\"#fb9f3a\"],[0.8888888888888888,\"#fdca26\"],[1.0,\"#f0f921\"]],\"type\":\"heatmapgl\"}],\"histogram\":[{\"marker\":{\"pattern\":{\"fillmode\":\"overlay\",\"size\":10,\"solidity\":0.2}},\"type\":\"histogram\"}],\"histogram2d\":[{\"colorbar\":{\"outlinewidth\":0,\"ticks\":\"\"},\"colorscale\":[[0.0,\"#0d0887\"],[0.1111111111111111,\"#46039f\"],[0.2222222222222222,\"#7201a8\"],[0.3333333333333333,\"#9c179e\"],[0.4444444444444444,\"#bd3786\"],[0.5555555555555556,\"#d8576b\"],[0.6666666666666666,\"#ed7953\"],[0.7777777777777778,\"#fb9f3a\"],[0.8888888888888888,\"#fdca26\"],[1.0,\"#f0f921\"]],\"type\":\"histogram2d\"}],\"histogram2dcontour\":[{\"colorbar\":{\"outlinewidth\":0,\"ticks\":\"\"},\"colorscale\":[[0.0,\"#0d0887\"],[0.1111111111111111,\"#46039f\"],[0.2222222222222222,\"#7201a8\"],[0.3333333333333333,\"#9c179e\"],[0.4444444444444444,\"#bd3786\"],[0.5555555555555556,\"#d8576b\"],[0.6666666666666666,\"#ed7953\"],[0.7777777777777778,\"#fb9f3a\"],[0.8888888888888888,\"#fdca26\"],[1.0,\"#f0f921\"]],\"type\":\"histogram2dcontour\"}],\"mesh3d\":[{\"colorbar\":{\"outlinewidth\":0,\"ticks\":\"\"},\"type\":\"mesh3d\"}],\"parcoords\":[{\"line\":{\"colorbar\":{\"outlinewidth\":0,\"ticks\":\"\"}},\"type\":\"parcoords\"}],\"pie\":[{\"automargin\":true,\"type\":\"pie\"}],\"scatter\":[{\"marker\":{\"colorbar\":{\"outlinewidth\":0,\"ticks\":\"\"}},\"type\":\"scatter\"}],\"scatter3d\":[{\"line\":{\"colorbar\":{\"outlinewidth\":0,\"ticks\":\"\"}},\"marker\":{\"colorbar\":{\"outlinewidth\":0,\"ticks\":\"\"}},\"type\":\"scatter3d\"}],\"scattercarpet\":[{\"marker\":{\"colorbar\":{\"outlinewidth\":0,\"ticks\":\"\"}},\"type\":\"scattercarpet\"}],\"scattergeo\":[{\"marker\":{\"colorbar\":{\"outlinewidth\":0,\"ticks\":\"\"}},\"type\":\"scattergeo\"}],\"scattergl\":[{\"marker\":{\"colorbar\":{\"outlinewidth\":0,\"ticks\":\"\"}},\"type\":\"scattergl\"}],\"scattermapbox\":[{\"marker\":{\"colorbar\":{\"outlinewidth\":0,\"ticks\":\"\"}},\"type\":\"scattermapbox\"}],\"scatterpolar\":[{\"marker\":{\"colorbar\":{\"outlinewidth\":0,\"ticks\":\"\"}},\"type\":\"scatterpolar\"}],\"scatterpolargl\":[{\"marker\":{\"colorbar\":{\"outlinewidth\":0,\"ticks\":\"\"}},\"type\":\"scatterpolargl\"}],\"scatterternary\":[{\"marker\":{\"colorbar\":{\"outlinewidth\":0,\"ticks\":\"\"}},\"type\":\"scatterternary\"}],\"surface\":[{\"colorbar\":{\"outlinewidth\":0,\"ticks\":\"\"},\"colorscale\":[[0.0,\"#0d0887\"],[0.1111111111111111,\"#46039f\"],[0.2222222222222222,\"#7201a8\"],[0.3333333333333333,\"#9c179e\"],[0.4444444444444444,\"#bd3786\"],[0.5555555555555556,\"#d8576b\"],[0.6666666666666666,\"#ed7953\"],[0.7777777777777778,\"#fb9f3a\"],[0.8888888888888888,\"#fdca26\"],[1.0,\"#f0f921\"]],\"type\":\"surface\"}],\"table\":[{\"cells\":{\"fill\":{\"color\":\"#EBF0F8\"},\"line\":{\"color\":\"white\"}},\"header\":{\"fill\":{\"color\":\"#C8D4E3\"},\"line\":{\"color\":\"white\"}},\"type\":\"table\"}]},\"layout\":{\"annotationdefaults\":{\"arrowcolor\":\"#2a3f5f\",\"arrowhead\":0,\"arrowwidth\":1},\"autotypenumbers\":\"strict\",\"coloraxis\":{\"colorbar\":{\"outlinewidth\":0,\"ticks\":\"\"}},\"colorscale\":{\"diverging\":[[0,\"#8e0152\"],[0.1,\"#c51b7d\"],[0.2,\"#de77ae\"],[0.3,\"#f1b6da\"],[0.4,\"#fde0ef\"],[0.5,\"#f7f7f7\"],[0.6,\"#e6f5d0\"],[0.7,\"#b8e186\"],[0.8,\"#7fbc41\"],[0.9,\"#4d9221\"],[1,\"#276419\"]],\"sequential\":[[0.0,\"#0d0887\"],[0.1111111111111111,\"#46039f\"],[0.2222222222222222,\"#7201a8\"],[0.3333333333333333,\"#9c179e\"],[0.4444444444444444,\"#bd3786\"],[0.5555555555555556,\"#d8576b\"],[0.6666666666666666,\"#ed7953\"],[0.7777777777777778,\"#fb9f3a\"],[0.8888888888888888,\"#fdca26\"],[1.0,\"#f0f921\"]],\"sequentialminus\":[[0.0,\"#0d0887\"],[0.1111111111111111,\"#46039f\"],[0.2222222222222222,\"#7201a8\"],[0.3333333333333333,\"#9c179e\"],[0.4444444444444444,\"#bd3786\"],[0.5555555555555556,\"#d8576b\"],[0.6666666666666666,\"#ed7953\"],[0.7777777777777778,\"#fb9f3a\"],[0.8888888888888888,\"#fdca26\"],[1.0,\"#f0f921\"]]},\"colorway\":[\"#636efa\",\"#EF553B\",\"#00cc96\",\"#ab63fa\",\"#FFA15A\",\"#19d3f3\",\"#FF6692\",\"#B6E880\",\"#FF97FF\",\"#FECB52\"],\"font\":{\"color\":\"#2a3f5f\"},\"geo\":{\"bgcolor\":\"white\",\"lakecolor\":\"white\",\"landcolor\":\"#E5ECF6\",\"showlakes\":true,\"showland\":true,\"subunitcolor\":\"white\"},\"hoverlabel\":{\"align\":\"left\"},\"hovermode\":\"closest\",\"mapbox\":{\"style\":\"light\"},\"paper_bgcolor\":\"white\",\"plot_bgcolor\":\"#E5ECF6\",\"polar\":{\"angularaxis\":{\"gridcolor\":\"white\",\"linecolor\":\"white\",\"ticks\":\"\"},\"bgcolor\":\"#E5ECF6\",\"radialaxis\":{\"gridcolor\":\"white\",\"linecolor\":\"white\",\"ticks\":\"\"}},\"scene\":{\"xaxis\":{\"backgroundcolor\":\"#E5ECF6\",\"gridcolor\":\"white\",\"gridwidth\":2,\"linecolor\":\"white\",\"showbackground\":true,\"ticks\":\"\",\"zerolinecolor\":\"white\"},\"yaxis\":{\"backgroundcolor\":\"#E5ECF6\",\"gridcolor\":\"white\",\"gridwidth\":2,\"linecolor\":\"white\",\"showbackground\":true,\"ticks\":\"\",\"zerolinecolor\":\"white\"},\"zaxis\":{\"backgroundcolor\":\"#E5ECF6\",\"gridcolor\":\"white\",\"gridwidth\":2,\"linecolor\":\"white\",\"showbackground\":true,\"ticks\":\"\",\"zerolinecolor\":\"white\"}},\"shapedefaults\":{\"line\":{\"color\":\"#2a3f5f\"}},\"ternary\":{\"aaxis\":{\"gridcolor\":\"white\",\"linecolor\":\"white\",\"ticks\":\"\"},\"baxis\":{\"gridcolor\":\"white\",\"linecolor\":\"white\",\"ticks\":\"\"},\"bgcolor\":\"#E5ECF6\",\"caxis\":{\"gridcolor\":\"white\",\"linecolor\":\"white\",\"ticks\":\"\"}},\"title\":{\"x\":0.05},\"xaxis\":{\"automargin\":true,\"gridcolor\":\"white\",\"linecolor\":\"white\",\"ticks\":\"\",\"title\":{\"standoff\":15},\"zerolinecolor\":\"white\",\"zerolinewidth\":2},\"yaxis\":{\"automargin\":true,\"gridcolor\":\"white\",\"linecolor\":\"white\",\"ticks\":\"\",\"title\":{\"standoff\":15},\"zerolinecolor\":\"white\",\"zerolinewidth\":2}}},\"title\":{\"text\":\"Confirmed Cases Single Exponential Model Prediction\"},\"xaxis\":{\"title\":{\"text\":\"Date\"}},\"yaxis\":{\"title\":{\"text\":\"Confirmed Cases\"}}},                        {\"responsive\": true}                    ).then(function(){\n",
       "                            \n",
       "var gd = document.getElementById('153ec2fb-479a-4ddc-ab27-e917eb804d86');\n",
       "var x = new MutationObserver(function (mutations, observer) {{\n",
       "        var display = window.getComputedStyle(gd).display;\n",
       "        if (!display || display === 'none') {{\n",
       "            console.log([gd, 'removed!']);\n",
       "            Plotly.purge(gd);\n",
       "            observer.disconnect();\n",
       "        }}\n",
       "}});\n",
       "\n",
       "// Listen for the removal of the full notebook cells\n",
       "var notebookContainer = gd.closest('#notebook-container');\n",
       "if (notebookContainer) {{\n",
       "    x.observe(notebookContainer, {childList: true});\n",
       "}}\n",
       "\n",
       "// Listen for the clearing of the current output cell\n",
       "var outputEl = gd.closest('.output');\n",
       "if (outputEl) {{\n",
       "    x.observe(outputEl, {childList: true});\n",
       "}}\n",
       "\n",
       "                        })                };                });            </script>        </div>"
      ]
     },
     "metadata": {},
     "output_type": "display_data"
    }
   ],
   "source": [
    "fig=go.Figure()\n",
    "fig.add_trace(go.Scatter(x=model_train.index, y=model_train.Cases,\n",
    "                    mode='lines+markers',name=\"Train Data for Confirmed Cases\"))\n",
    "fig.add_trace(go.Scatter(x=valid.index, y=valid.Cases,\n",
    "                    mode='lines+markers',name=\"Validation Data for Confirmed Cases\",))\n",
    "fig.add_trace(go.Scatter(x=valid.index, y=y_pred[\"Single Exponential\"],\n",
    "                    mode='lines+markers',name=\"Prediction for Confirmed Cases\",))\n",
    "fig.update_layout(title=\"Confirmed Cases Single Exponential Model Prediction\",\n",
    "                 xaxis_title=\"Date\",yaxis_title=\"Confirmed Cases\",legend=dict(x=0,y=1,traceorder=\"normal\"))\n",
    "fig.show()"
   ]
  },
  {
   "cell_type": "code",
   "execution_count": 141,
   "metadata": {},
   "outputs": [
    {
     "data": {
      "text/html": [
       "<div>\n",
       "<style scoped>\n",
       "    .dataframe tbody tr th:only-of-type {\n",
       "        vertical-align: middle;\n",
       "    }\n",
       "\n",
       "    .dataframe tbody tr th {\n",
       "        vertical-align: top;\n",
       "    }\n",
       "\n",
       "    .dataframe thead th {\n",
       "        text-align: right;\n",
       "    }\n",
       "</style>\n",
       "<table border=\"1\" class=\"dataframe\">\n",
       "  <thead>\n",
       "    <tr style=\"text-align: right;\">\n",
       "      <th></th>\n",
       "      <th>Model Name</th>\n",
       "      <th>Root Mean Squared Error</th>\n",
       "    </tr>\n",
       "  </thead>\n",
       "  <tbody>\n",
       "    <tr>\n",
       "      <th>2</th>\n",
       "      <td>Polynomial Regression Model</td>\n",
       "      <td>5.850421e-09</td>\n",
       "    </tr>\n",
       "    <tr>\n",
       "      <th>3</th>\n",
       "      <td>Triple Exponential</td>\n",
       "      <td>3.176004e+04</td>\n",
       "    </tr>\n",
       "    <tr>\n",
       "      <th>4</th>\n",
       "      <td>Double Exponential</td>\n",
       "      <td>3.659176e+04</td>\n",
       "    </tr>\n",
       "    <tr>\n",
       "      <th>0</th>\n",
       "      <td>ARIMA Model</td>\n",
       "      <td>3.816104e+04</td>\n",
       "    </tr>\n",
       "    <tr>\n",
       "      <th>1</th>\n",
       "      <td>SARIMA Model</td>\n",
       "      <td>3.816104e+04</td>\n",
       "    </tr>\n",
       "    <tr>\n",
       "      <th>5</th>\n",
       "      <td>Single Exponenential</td>\n",
       "      <td>1.274090e+05</td>\n",
       "    </tr>\n",
       "  </tbody>\n",
       "</table>\n",
       "</div>"
      ],
      "text/plain": [
       "                    Model Name  Root Mean Squared Error\n",
       "2  Polynomial Regression Model             5.850421e-09\n",
       "3           Triple Exponential             3.176004e+04\n",
       "4           Double Exponential             3.659176e+04\n",
       "0                  ARIMA Model             3.816104e+04\n",
       "1                 SARIMA Model             3.816104e+04\n",
       "5         Single Exponenential             1.274090e+05"
      ]
     },
     "execution_count": 141,
     "metadata": {},
     "output_type": "execute_result"
    }
   ],
   "source": [
    "model_names=[\"ARIMA Model\",\"SARIMA Model\",\"Polynomial Regression Model\",'Triple Exponential','Double Exponential', 'Single Exponenential']\n",
    "model_summary=pd.DataFrame(zip(model_names,model_scores),columns=[\"Model Name\",\"Root Mean Squared Error\"]).sort_values([\"Root Mean Squared Error\"])\n",
    "model_summary"
   ]
  },
  {
   "cell_type": "markdown",
   "metadata": {},
   "source": [
    "### Finding Insight:\n",
    "\n",
    "From data series of confirmed case since January to August 2021 in Indonesia, we see the data is highly non-stationary (see from Dicker Fueller pvalue score and sequence plot) hence we do several method to transform into stationary model such as removing trend/Seasonality using statsmodel, do Log Transformation, and Differencing. \n",
    "\n",
    "From p-value we got from removing trend and seasonality, the series successfully transformed into stationary model, while Log of series not work to transform (still be non-stationary). \n",
    "P-value of Differencing order=1 transformation indicating the series has weak-stationary. \n",
    "This is flaw of the dataset. \n",
    "\n",
    "\n",
    "As we can see from RMSE table of various model above, by conducting 6 various model we see Polynomial Regression model have a pretty small Root Mean Square Error of forecast (RMSE = 0.0000000058), and then Triple Exponential and Double Exponential Smoothing subsequently in order. As we can see from sequential plot, the series is much more similar to Polynomial.\n",
    "\n",
    "Triple Exponential Smoothing become the second best since Triple Exponential Smoothing tackle well the trend and seasonality presented in the series data, while Double Exponential Plot captures only trend and does not handle the seasonality, as the series have trend and seasonality. \n",
    "\n",
    "From a glance, we can also see the Polynomial forecast really do a great job to forecast as the actual confirmed case presented. ARIMA, SARIMA does not do work well since the dataset flaws are lies into their weak seasonality, hence model seems hard to catch the good forecast. Single Exponential become worst, since the model captures no trend nor seasonality, opposite from the dataset. \n",
    "\n",
    "As for next work, we can elaborate the FB Prophet model, RNN and LSTM, to see whether these model would outperform the current model.\n"
   ]
  }
 ],
 "metadata": {
  "kernelspec": {
   "display_name": "Python [conda env:.conda-py3-TF2.0]",
   "language": "python",
   "name": "conda-env-.conda-py3-TF2.0-py"
  },
  "language_info": {
   "codemirror_mode": {
    "name": "ipython",
    "version": 3
   },
   "file_extension": ".py",
   "mimetype": "text/x-python",
   "name": "python",
   "nbconvert_exporter": "python",
   "pygments_lexer": "ipython3",
   "version": "3.6.10"
  }
 },
 "nbformat": 4,
 "nbformat_minor": 4
}
