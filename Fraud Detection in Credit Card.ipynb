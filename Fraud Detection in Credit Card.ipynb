{
  "nbformat": 4,
  "nbformat_minor": 0,
  "metadata": {
    "colab": {
      "name": "Fraud Detection in Credit Card.ipynb",
      "provenance": [],
      "collapsed_sections": [],
      "toc_visible": true,
      "authorship_tag": "ABX9TyOTUKsPwcGd+EjelwPrKYwM",
      "include_colab_link": true
    },
    "kernelspec": {
      "name": "python3",
      "display_name": "Python 3"
    },
    "language_info": {
      "name": "python"
    }
  },
  "cells": [
    {
      "cell_type": "markdown",
      "metadata": {
        "id": "view-in-github",
        "colab_type": "text"
      },
      "source": [
        "<a href=\"https://colab.research.google.com/github/fitrieratna/DataScience-Portfolio/blob/master/Fraud%20Detection%20in%20Credit%20Card.ipynb\" target=\"_parent\"><img src=\"https://colab.research.google.com/assets/colab-badge.svg\" alt=\"Open In Colab\"/></a>"
      ]
    },
    {
      "cell_type": "markdown",
      "metadata": {
        "id": "QkDoPDztCrap"
      },
      "source": [
        "## Data Preparation"
      ]
    },
    {
      "cell_type": "code",
      "metadata": {
        "id": "ENQNadb6Ct9s",
        "colab": {
          "base_uri": "https://localhost:8080/",
          "height": 16
        },
        "outputId": "bee297ef-e98d-4507-b672-c471e83a22b4"
      },
      "source": [
        "from sklearn.preprocessing import StandardScaler,MinMaxScaler,PowerTransformer\n",
        "from sklearn.model_selection import train_test_split, RepeatedStratifiedKFold, cross_val_score\n",
        "from sklearn.linear_model import LogisticRegression\n",
        "from sklearn.pipeline import Pipeline,make_pipeline\n",
        "from sklearn.metrics import mean_squared_error,classification_report,make_scorer,accuracy_score,plot_roc_curve,auc,roc_curve, confusion_matrix, accuracy_score, roc_auc_score, plot_roc_curve, classification_report,precision_score, recall_score\n",
        "from sklearn.impute import SimpleImputer\n",
        "from sklearn.dummy import DummyClassifier\n",
        "from sklearn.model_selection import KFold\n",
        "import seaborn as sns\n",
        "import matplotlib.pyplot as plt\n",
        "import itertools\n",
        "from sklearn.metrics import f1_score\n",
        "import pandas as pd\n",
        "import numpy as np\n",
        "\n",
        "\n",
        "import cufflinks as cf\n",
        "import plotly.offline\n",
        "cf.go_offline()\n",
        "cf.set_config_file(offline=False, world_readable=True)\n",
        "\n",
        "\n",
        "import warnings\n",
        "warnings.filterwarnings(\"ignore\")"
      ],
      "execution_count": 276,
      "outputs": [
        {
          "output_type": "display_data",
          "data": {
            "text/html": [
              "        <script type=\"text/javascript\">\n",
              "        window.PlotlyConfig = {MathJaxConfig: 'local'};\n",
              "        if (window.MathJax) {MathJax.Hub.Config({SVG: {font: \"STIX-Web\"}});}\n",
              "        if (typeof require !== 'undefined') {\n",
              "        require.undef(\"plotly\");\n",
              "        requirejs.config({\n",
              "            paths: {\n",
              "                'plotly': ['https://cdn.plot.ly/plotly-latest.min']\n",
              "            }\n",
              "        });\n",
              "        require(['plotly'], function(Plotly) {\n",
              "            window._Plotly = Plotly;\n",
              "        });\n",
              "        }\n",
              "        </script>\n",
              "        "
            ]
          },
          "metadata": {}
        }
      ]
    },
    {
      "cell_type": "code",
      "metadata": {
        "id": "c2XYxA8RHJsn",
        "colab": {
          "base_uri": "https://localhost:8080/"
        },
        "outputId": "54eab30a-088a-4843-8f6f-4b7110571797"
      },
      "source": [
        "# To connect Google Drive (GDrive) with Colab\n",
        "from google.colab import drive\n",
        "drive.mount(\"/content/gdrive\")"
      ],
      "execution_count": 277,
      "outputs": [
        {
          "output_type": "stream",
          "text": [
            "Drive already mounted at /content/gdrive; to attempt to forcibly remount, call drive.mount(\"/content/gdrive\", force_remount=True).\n"
          ],
          "name": "stdout"
        }
      ]
    },
    {
      "cell_type": "code",
      "metadata": {
        "id": "lU3o1JwPDH3C"
      },
      "source": [
        "data = pd.read_csv('/content/gdrive/My Drive/Colab Notebooks/IBM - Keras Deep Learning Course/creditcard.csv', encoding='unicode_escape' )"
      ],
      "execution_count": 278,
      "outputs": []
    },
    {
      "cell_type": "markdown",
      "metadata": {
        "id": "wLyby4plS_kV"
      },
      "source": [
        "# Exploratory Data Analysis"
      ]
    },
    {
      "cell_type": "code",
      "metadata": {
        "colab": {
          "base_uri": "https://localhost:8080/",
          "height": 221
        },
        "id": "cB4Dl-nUJZf5",
        "outputId": "87866cea-42f7-4af8-abd1-10a3910f0ab4"
      },
      "source": [
        "data.head()"
      ],
      "execution_count": 9,
      "outputs": [
        {
          "output_type": "execute_result",
          "data": {
            "text/html": [
              "<div>\n",
              "<style scoped>\n",
              "    .dataframe tbody tr th:only-of-type {\n",
              "        vertical-align: middle;\n",
              "    }\n",
              "\n",
              "    .dataframe tbody tr th {\n",
              "        vertical-align: top;\n",
              "    }\n",
              "\n",
              "    .dataframe thead th {\n",
              "        text-align: right;\n",
              "    }\n",
              "</style>\n",
              "<table border=\"1\" class=\"dataframe\">\n",
              "  <thead>\n",
              "    <tr style=\"text-align: right;\">\n",
              "      <th></th>\n",
              "      <th>Time</th>\n",
              "      <th>V1</th>\n",
              "      <th>V2</th>\n",
              "      <th>V3</th>\n",
              "      <th>V4</th>\n",
              "      <th>V5</th>\n",
              "      <th>V6</th>\n",
              "      <th>V7</th>\n",
              "      <th>V8</th>\n",
              "      <th>V9</th>\n",
              "      <th>V10</th>\n",
              "      <th>V11</th>\n",
              "      <th>V12</th>\n",
              "      <th>V13</th>\n",
              "      <th>V14</th>\n",
              "      <th>V15</th>\n",
              "      <th>V16</th>\n",
              "      <th>V17</th>\n",
              "      <th>V18</th>\n",
              "      <th>V19</th>\n",
              "      <th>V20</th>\n",
              "      <th>V21</th>\n",
              "      <th>V22</th>\n",
              "      <th>V23</th>\n",
              "      <th>V24</th>\n",
              "      <th>V25</th>\n",
              "      <th>V26</th>\n",
              "      <th>V27</th>\n",
              "      <th>V28</th>\n",
              "      <th>Amount</th>\n",
              "      <th>Class</th>\n",
              "    </tr>\n",
              "  </thead>\n",
              "  <tbody>\n",
              "    <tr>\n",
              "      <th>0</th>\n",
              "      <td>0.0</td>\n",
              "      <td>-1.359807</td>\n",
              "      <td>-0.072781</td>\n",
              "      <td>2.536347</td>\n",
              "      <td>1.378155</td>\n",
              "      <td>-0.338321</td>\n",
              "      <td>0.462388</td>\n",
              "      <td>0.239599</td>\n",
              "      <td>0.098698</td>\n",
              "      <td>0.363787</td>\n",
              "      <td>0.090794</td>\n",
              "      <td>-0.551600</td>\n",
              "      <td>-0.617801</td>\n",
              "      <td>-0.991390</td>\n",
              "      <td>-0.311169</td>\n",
              "      <td>1.468177</td>\n",
              "      <td>-0.470401</td>\n",
              "      <td>0.207971</td>\n",
              "      <td>0.025791</td>\n",
              "      <td>0.403993</td>\n",
              "      <td>0.251412</td>\n",
              "      <td>-0.018307</td>\n",
              "      <td>0.277838</td>\n",
              "      <td>-0.110474</td>\n",
              "      <td>0.066928</td>\n",
              "      <td>0.128539</td>\n",
              "      <td>-0.189115</td>\n",
              "      <td>0.133558</td>\n",
              "      <td>-0.021053</td>\n",
              "      <td>149.62</td>\n",
              "      <td>0</td>\n",
              "    </tr>\n",
              "    <tr>\n",
              "      <th>1</th>\n",
              "      <td>0.0</td>\n",
              "      <td>1.191857</td>\n",
              "      <td>0.266151</td>\n",
              "      <td>0.166480</td>\n",
              "      <td>0.448154</td>\n",
              "      <td>0.060018</td>\n",
              "      <td>-0.082361</td>\n",
              "      <td>-0.078803</td>\n",
              "      <td>0.085102</td>\n",
              "      <td>-0.255425</td>\n",
              "      <td>-0.166974</td>\n",
              "      <td>1.612727</td>\n",
              "      <td>1.065235</td>\n",
              "      <td>0.489095</td>\n",
              "      <td>-0.143772</td>\n",
              "      <td>0.635558</td>\n",
              "      <td>0.463917</td>\n",
              "      <td>-0.114805</td>\n",
              "      <td>-0.183361</td>\n",
              "      <td>-0.145783</td>\n",
              "      <td>-0.069083</td>\n",
              "      <td>-0.225775</td>\n",
              "      <td>-0.638672</td>\n",
              "      <td>0.101288</td>\n",
              "      <td>-0.339846</td>\n",
              "      <td>0.167170</td>\n",
              "      <td>0.125895</td>\n",
              "      <td>-0.008983</td>\n",
              "      <td>0.014724</td>\n",
              "      <td>2.69</td>\n",
              "      <td>0</td>\n",
              "    </tr>\n",
              "    <tr>\n",
              "      <th>2</th>\n",
              "      <td>1.0</td>\n",
              "      <td>-1.358354</td>\n",
              "      <td>-1.340163</td>\n",
              "      <td>1.773209</td>\n",
              "      <td>0.379780</td>\n",
              "      <td>-0.503198</td>\n",
              "      <td>1.800499</td>\n",
              "      <td>0.791461</td>\n",
              "      <td>0.247676</td>\n",
              "      <td>-1.514654</td>\n",
              "      <td>0.207643</td>\n",
              "      <td>0.624501</td>\n",
              "      <td>0.066084</td>\n",
              "      <td>0.717293</td>\n",
              "      <td>-0.165946</td>\n",
              "      <td>2.345865</td>\n",
              "      <td>-2.890083</td>\n",
              "      <td>1.109969</td>\n",
              "      <td>-0.121359</td>\n",
              "      <td>-2.261857</td>\n",
              "      <td>0.524980</td>\n",
              "      <td>0.247998</td>\n",
              "      <td>0.771679</td>\n",
              "      <td>0.909412</td>\n",
              "      <td>-0.689281</td>\n",
              "      <td>-0.327642</td>\n",
              "      <td>-0.139097</td>\n",
              "      <td>-0.055353</td>\n",
              "      <td>-0.059752</td>\n",
              "      <td>378.66</td>\n",
              "      <td>0</td>\n",
              "    </tr>\n",
              "    <tr>\n",
              "      <th>3</th>\n",
              "      <td>1.0</td>\n",
              "      <td>-0.966272</td>\n",
              "      <td>-0.185226</td>\n",
              "      <td>1.792993</td>\n",
              "      <td>-0.863291</td>\n",
              "      <td>-0.010309</td>\n",
              "      <td>1.247203</td>\n",
              "      <td>0.237609</td>\n",
              "      <td>0.377436</td>\n",
              "      <td>-1.387024</td>\n",
              "      <td>-0.054952</td>\n",
              "      <td>-0.226487</td>\n",
              "      <td>0.178228</td>\n",
              "      <td>0.507757</td>\n",
              "      <td>-0.287924</td>\n",
              "      <td>-0.631418</td>\n",
              "      <td>-1.059647</td>\n",
              "      <td>-0.684093</td>\n",
              "      <td>1.965775</td>\n",
              "      <td>-1.232622</td>\n",
              "      <td>-0.208038</td>\n",
              "      <td>-0.108300</td>\n",
              "      <td>0.005274</td>\n",
              "      <td>-0.190321</td>\n",
              "      <td>-1.175575</td>\n",
              "      <td>0.647376</td>\n",
              "      <td>-0.221929</td>\n",
              "      <td>0.062723</td>\n",
              "      <td>0.061458</td>\n",
              "      <td>123.50</td>\n",
              "      <td>0</td>\n",
              "    </tr>\n",
              "    <tr>\n",
              "      <th>4</th>\n",
              "      <td>2.0</td>\n",
              "      <td>-1.158233</td>\n",
              "      <td>0.877737</td>\n",
              "      <td>1.548718</td>\n",
              "      <td>0.403034</td>\n",
              "      <td>-0.407193</td>\n",
              "      <td>0.095921</td>\n",
              "      <td>0.592941</td>\n",
              "      <td>-0.270533</td>\n",
              "      <td>0.817739</td>\n",
              "      <td>0.753074</td>\n",
              "      <td>-0.822843</td>\n",
              "      <td>0.538196</td>\n",
              "      <td>1.345852</td>\n",
              "      <td>-1.119670</td>\n",
              "      <td>0.175121</td>\n",
              "      <td>-0.451449</td>\n",
              "      <td>-0.237033</td>\n",
              "      <td>-0.038195</td>\n",
              "      <td>0.803487</td>\n",
              "      <td>0.408542</td>\n",
              "      <td>-0.009431</td>\n",
              "      <td>0.798278</td>\n",
              "      <td>-0.137458</td>\n",
              "      <td>0.141267</td>\n",
              "      <td>-0.206010</td>\n",
              "      <td>0.502292</td>\n",
              "      <td>0.219422</td>\n",
              "      <td>0.215153</td>\n",
              "      <td>69.99</td>\n",
              "      <td>0</td>\n",
              "    </tr>\n",
              "  </tbody>\n",
              "</table>\n",
              "</div>"
            ],
            "text/plain": [
              "   Time        V1        V2        V3  ...       V27       V28  Amount  Class\n",
              "0   0.0 -1.359807 -0.072781  2.536347  ...  0.133558 -0.021053  149.62      0\n",
              "1   0.0  1.191857  0.266151  0.166480  ... -0.008983  0.014724    2.69      0\n",
              "2   1.0 -1.358354 -1.340163  1.773209  ... -0.055353 -0.059752  378.66      0\n",
              "3   1.0 -0.966272 -0.185226  1.792993  ...  0.062723  0.061458  123.50      0\n",
              "4   2.0 -1.158233  0.877737  1.548718  ...  0.219422  0.215153   69.99      0\n",
              "\n",
              "[5 rows x 31 columns]"
            ]
          },
          "metadata": {},
          "execution_count": 9
        }
      ]
    },
    {
      "cell_type": "code",
      "metadata": {
        "colab": {
          "base_uri": "https://localhost:8080/"
        },
        "id": "P0Htp7UOWa00",
        "outputId": "bb735880-1f0c-4789-dc10-53dab8992b1f"
      },
      "source": [
        "data.info()"
      ],
      "execution_count": 291,
      "outputs": [
        {
          "output_type": "stream",
          "text": [
            "<class 'pandas.core.frame.DataFrame'>\n",
            "RangeIndex: 284807 entries, 0 to 284806\n",
            "Data columns (total 31 columns):\n",
            " #   Column  Non-Null Count   Dtype  \n",
            "---  ------  --------------   -----  \n",
            " 0   Time    284807 non-null  float64\n",
            " 1   V1      284807 non-null  float64\n",
            " 2   V2      284807 non-null  float64\n",
            " 3   V3      284807 non-null  float64\n",
            " 4   V4      284807 non-null  float64\n",
            " 5   V5      284807 non-null  float64\n",
            " 6   V6      284807 non-null  float64\n",
            " 7   V7      284807 non-null  float64\n",
            " 8   V8      284807 non-null  float64\n",
            " 9   V9      284807 non-null  float64\n",
            " 10  V10     284807 non-null  float64\n",
            " 11  V11     284807 non-null  float64\n",
            " 12  V12     284807 non-null  float64\n",
            " 13  V13     284807 non-null  float64\n",
            " 14  V14     284807 non-null  float64\n",
            " 15  V15     284807 non-null  float64\n",
            " 16  V16     284807 non-null  float64\n",
            " 17  V17     284807 non-null  float64\n",
            " 18  V18     284807 non-null  float64\n",
            " 19  V19     284807 non-null  float64\n",
            " 20  V20     284807 non-null  float64\n",
            " 21  V21     284807 non-null  float64\n",
            " 22  V22     284807 non-null  float64\n",
            " 23  V23     284807 non-null  float64\n",
            " 24  V24     284807 non-null  float64\n",
            " 25  V25     284807 non-null  float64\n",
            " 26  V26     284807 non-null  float64\n",
            " 27  V27     284807 non-null  float64\n",
            " 28  V28     284807 non-null  float64\n",
            " 29  Amount  284807 non-null  float64\n",
            " 30  Class   284807 non-null  int64  \n",
            "dtypes: float64(30), int64(1)\n",
            "memory usage: 67.4 MB\n"
          ],
          "name": "stdout"
        }
      ]
    },
    {
      "cell_type": "code",
      "metadata": {
        "colab": {
          "base_uri": "https://localhost:8080/"
        },
        "id": "AK5LYNCcJdT8",
        "outputId": "211e36a2-1913-4125-9072-fe486ebaa94a"
      },
      "source": [
        "data.shape"
      ],
      "execution_count": 10,
      "outputs": [
        {
          "output_type": "execute_result",
          "data": {
            "text/plain": [
              "(284807, 31)"
            ]
          },
          "metadata": {},
          "execution_count": 10
        }
      ]
    },
    {
      "cell_type": "code",
      "metadata": {
        "colab": {
          "base_uri": "https://localhost:8080/"
        },
        "id": "I9A4OsFSTLbJ",
        "outputId": "15208bcc-6b9e-4ebc-e2ed-056b8330a2d1"
      },
      "source": [
        "missing_data = data.isnull()\n",
        "\n",
        "for column in missing_data.columns.values.tolist():\n",
        " print (column)\n",
        " print (missing_data[column].value_counts())\n",
        " print(\"\")  "
      ],
      "execution_count": 85,
      "outputs": [
        {
          "output_type": "stream",
          "text": [
            "Time\n",
            "False    284807\n",
            "Name: Time, dtype: int64\n",
            "\n",
            "V1\n",
            "False    284807\n",
            "Name: V1, dtype: int64\n",
            "\n",
            "V2\n",
            "False    284807\n",
            "Name: V2, dtype: int64\n",
            "\n",
            "V3\n",
            "False    284807\n",
            "Name: V3, dtype: int64\n",
            "\n",
            "V4\n",
            "False    284807\n",
            "Name: V4, dtype: int64\n",
            "\n",
            "V5\n",
            "False    284807\n",
            "Name: V5, dtype: int64\n",
            "\n",
            "V6\n",
            "False    284807\n",
            "Name: V6, dtype: int64\n",
            "\n",
            "V7\n",
            "False    284807\n",
            "Name: V7, dtype: int64\n",
            "\n",
            "V8\n",
            "False    284807\n",
            "Name: V8, dtype: int64\n",
            "\n",
            "V9\n",
            "False    284807\n",
            "Name: V9, dtype: int64\n",
            "\n",
            "V10\n",
            "False    284807\n",
            "Name: V10, dtype: int64\n",
            "\n",
            "V11\n",
            "False    284807\n",
            "Name: V11, dtype: int64\n",
            "\n",
            "V12\n",
            "False    284807\n",
            "Name: V12, dtype: int64\n",
            "\n",
            "V13\n",
            "False    284807\n",
            "Name: V13, dtype: int64\n",
            "\n",
            "V14\n",
            "False    284807\n",
            "Name: V14, dtype: int64\n",
            "\n",
            "V15\n",
            "False    284807\n",
            "Name: V15, dtype: int64\n",
            "\n",
            "V16\n",
            "False    284807\n",
            "Name: V16, dtype: int64\n",
            "\n",
            "V17\n",
            "False    284807\n",
            "Name: V17, dtype: int64\n",
            "\n",
            "V18\n",
            "False    284807\n",
            "Name: V18, dtype: int64\n",
            "\n",
            "V19\n",
            "False    284807\n",
            "Name: V19, dtype: int64\n",
            "\n",
            "V20\n",
            "False    284807\n",
            "Name: V20, dtype: int64\n",
            "\n",
            "V21\n",
            "False    284807\n",
            "Name: V21, dtype: int64\n",
            "\n",
            "V22\n",
            "False    284807\n",
            "Name: V22, dtype: int64\n",
            "\n",
            "V23\n",
            "False    284807\n",
            "Name: V23, dtype: int64\n",
            "\n",
            "V24\n",
            "False    284807\n",
            "Name: V24, dtype: int64\n",
            "\n",
            "V25\n",
            "False    284807\n",
            "Name: V25, dtype: int64\n",
            "\n",
            "V26\n",
            "False    284807\n",
            "Name: V26, dtype: int64\n",
            "\n",
            "V27\n",
            "False    284807\n",
            "Name: V27, dtype: int64\n",
            "\n",
            "V28\n",
            "False    284807\n",
            "Name: V28, dtype: int64\n",
            "\n",
            "Amount\n",
            "False    284807\n",
            "Name: Amount, dtype: int64\n",
            "\n",
            "Class\n",
            "False    284807\n",
            "Name: Class, dtype: int64\n",
            "\n"
          ],
          "name": "stdout"
        }
      ]
    },
    {
      "cell_type": "code",
      "metadata": {
        "colab": {
          "base_uri": "https://localhost:8080/"
        },
        "id": "AAsGvkbhJo-t",
        "outputId": "8e5d3cb5-21cf-4065-f70b-6835ec373791"
      },
      "source": [
        "data.Class.value_counts()"
      ],
      "execution_count": 11,
      "outputs": [
        {
          "output_type": "execute_result",
          "data": {
            "text/plain": [
              "0    284315\n",
              "1       492\n",
              "Name: Class, dtype: int64"
            ]
          },
          "metadata": {},
          "execution_count": 11
        }
      ]
    },
    {
      "cell_type": "code",
      "metadata": {
        "colab": {
          "base_uri": "https://localhost:8080/"
        },
        "id": "Cf6MUpt6Jj-H",
        "outputId": "0d4e57a3-28ce-47fa-d695-8c4fbf007a44"
      },
      "source": [
        "data.Class.value_counts(normalize=True)"
      ],
      "execution_count": 12,
      "outputs": [
        {
          "output_type": "execute_result",
          "data": {
            "text/plain": [
              "0    0.998273\n",
              "1    0.001727\n",
              "Name: Class, dtype: float64"
            ]
          },
          "metadata": {},
          "execution_count": 12
        }
      ]
    },
    {
      "cell_type": "markdown",
      "metadata": {
        "id": "va9E4jKOTS5k"
      },
      "source": [
        "No missing values found. "
      ]
    },
    {
      "cell_type": "code",
      "metadata": {
        "colab": {
          "base_uri": "https://localhost:8080/",
          "height": 295
        },
        "id": "VKQgMAV8TLd7",
        "outputId": "f6179de7-b200-4990-8494-78cb2d676786"
      },
      "source": [
        "count_classes = pd.value_counts(data['Class'], sort = True)\n",
        "count_classes.plot(kind = 'bar', rot=0)\n",
        "\n",
        "plt.xticks(range(len(data['Class'].unique())), data.Class.unique())\n",
        "plt.title(\"Frequency by observation number\")\n",
        "plt.xlabel(\"Class\")\n",
        "plt.ylabel(\"Number of Observations\");"
      ],
      "execution_count": 87,
      "outputs": [
        {
          "output_type": "display_data",
          "data": {
            "image/png": "[encoded data removed]",
            "text/plain": [
              "<Figure size 432x288 with 1 Axes>"
            ]
          },
          "metadata": {
            "needs_background": "light"
          }
        }
      ]
    },
    {
      "cell_type": "markdown",
      "metadata": {
        "id": "TGiefdAMTrK3"
      },
      "source": [
        "From bar chart above we know that the dataset is imbalanced, with only 0.1% classified in Fraud transaction. "
      ]
    },
    {
      "cell_type": "markdown",
      "metadata": {
        "id": "aqvzMk8SWda5"
      },
      "source": [
        "Now take a closer look on what amount transaction are more probable to fraud? "
      ]
    },
    {
      "cell_type": "code",
      "metadata": {
        "colab": {
          "base_uri": "https://localhost:8080/",
          "height": 295
        },
        "id": "9dTvo9CIWV1R",
        "outputId": "0ac45bcc-d297-4634-aab3-1dafc86564ab"
      },
      "source": [
        "# Save the normal and fradulent transactions in separate dataframe\n",
        "normal_dataset = data[data.Class == 0] \n",
        "fraud_dataset = data[data.Class == 1]\n",
        "\n",
        "#Visualize transaction amounts for normal and fraudulent transactions\n",
        "bins = np.linspace(200, 2500, 100)\n",
        "plt.hist(normal_dataset.Amount, bins=bins, alpha=1, density=True, label='Normal')\n",
        "plt.hist(fraud_dataset.Amount, bins=bins, alpha=0.5, density=True, label='Fraud')\n",
        "plt.legend(loc='upper right')\n",
        "plt.title(\"Transaction amount vs Percentage of transactions\")\n",
        "plt.xlabel(\"Transaction amount (USD)\")\n",
        "plt.ylabel(\"Percentage of transactions\");\n",
        "plt.show()"
      ],
      "execution_count": 95,
      "outputs": [
        {
          "output_type": "display_data",
          "data": {
            "image/png": "[encoded data removed]",
            "text/plain": [
              "<Figure size 432x288 with 1 Axes>"
            ]
          },
          "metadata": {
            "needs_background": "light"
          }
        }
      ]
    },
    {
      "cell_type": "markdown",
      "metadata": {
        "id": "Jk_uElb6XBkh"
      },
      "source": [
        "Fraudulent transcation is more probable when transaction is below USD 1000, especially around USD 250 and USD 750."
      ]
    },
    {
      "cell_type": "markdown",
      "metadata": {
        "id": "hPm9mptePm3A"
      },
      "source": [
        "Before we run any machine learning or deep learning model, we should understand what aim we targeted, is it high recall or high prediction? Or both? \n",
        "\n",
        "Fraud is financial crime in any banking insitution which preferably focus on how we reduce false negative (predicted non-fraud, actually fraud), so that we can mitigate any alleged or suspected fraud. \n",
        "\n",
        "But if banking insitution wanted to do both, mitigate early of alleged fraud and paralelly protect loyality from most of customer by not to block if there's alleged fraud, then we should care about F1-Score evaluation matrix, as it is evaluation metrix of balance between precision and recall."
      ]
    },
    {
      "cell_type": "markdown",
      "metadata": {
        "id": "sVuCf7tGAUY8"
      },
      "source": [
        "# Machine Learning & Deep Learning Model"
      ]
    },
    {
      "cell_type": "markdown",
      "metadata": {
        "id": "jMJA-qRKLPZg"
      },
      "source": [
        "### 1. Dummy Classifier"
      ]
    },
    {
      "cell_type": "code",
      "metadata": {
        "id": "rQuLH9OkMGHi"
      },
      "source": [
        "def classification_report_with_validation(y_true, y_pred):\n",
        "    real_values.extend(y_true)\n",
        "    predicted_values.extend(y_pred)\n",
        "    return accuracy_score(y_true, y_pred)"
      ],
      "execution_count": 196,
      "outputs": []
    },
    {
      "cell_type": "code",
      "metadata": {
        "id": "15-A3Sss8dj4"
      },
      "source": [
        "def print_stats(labels, predictions):\n",
        "  print(\"Accuracy = {}\".format(accuracy_score(labels, predictions)))\n",
        "  print(\"Precision = {}\".format(precision_score(labels, predictions)))\n",
        "  print(\"Recall = {}\".format(recall_score(labels, predictions)))\n",
        "  print('F1 Score = {}'.format(f1_score(labels, predictions)))\n",
        "  print('AUC_1 Score = {}'.format(auc(fpr1,tpr1)))"
      ],
      "execution_count": 197,
      "outputs": []
    },
    {
      "cell_type": "code",
      "metadata": {
        "id": "oSDz_JKsNLnC"
      },
      "source": [
        "X = data.drop('Class', axis=1)\n",
        "y = data['Class']\n",
        "\n",
        "X_train, X_test, y_train, y_test = train_test_split(X, y, test_size=0.30, random_state=42, stratify=y)"
      ],
      "execution_count": 198,
      "outputs": []
    },
    {
      "cell_type": "code",
      "metadata": {
        "colab": {
          "base_uri": "https://localhost:8080/"
        },
        "id": "41U0lI9XKB44",
        "outputId": "c293acd4-269c-435d-ff6a-1ea4ca0d7ff7"
      },
      "source": [
        "dummy = DummyClassifier(strategy='most_frequent')\n",
        "cv = RepeatedStratifiedKFold(n_splits=10, n_repeats=3, random_state=42)\n",
        "\n",
        "dummy.fit(X_train, y_train)\n",
        "\n",
        "result = cross_val_score(dummy, X_train, y_train,  scoring='accuracy',cv=cv)\n",
        "\n",
        "print(f'{round(np.mean(result),6)}')"
      ],
      "execution_count": 199,
      "outputs": [
        {
          "output_type": "stream",
          "text": [
            "0.998275\n"
          ],
          "name": "stdout"
        }
      ]
    },
    {
      "cell_type": "markdown",
      "metadata": {
        "id": "WTbH_SQPLMrl"
      },
      "source": [
        "With simple dummy classifier, model can predict with accuracy 99.8%. But the question is, does the model could predict greatly about suspected fraud? Let us check to confusion matrix."
      ]
    },
    {
      "cell_type": "code",
      "metadata": {
        "colab": {
          "base_uri": "https://localhost:8080/"
        },
        "id": "4fbxJ3cwMgfm",
        "outputId": "fe03b25a-cc52-4aa7-9ab8-4f2f02eb8089"
      },
      "source": [
        "yhat_dummy = dummy.predict(X_test)\n",
        "\n",
        "# Compute confusion matrix\n",
        "cnf_matrix = confusion_matrix(y_test, yhat_dummy, labels=[0,1])\n",
        "np.set_printoptions(precision=2)\n",
        "\n",
        "print (classification_report(y_test, yhat_dummy))\n",
        "\n",
        "#print(score_df)\n"
      ],
      "execution_count": 200,
      "outputs": [
        {
          "output_type": "stream",
          "text": [
            "              precision    recall  f1-score   support\n",
            "\n",
            "           0       1.00      1.00      1.00     85295\n",
            "           1       0.00      0.00      0.00       148\n",
            "\n",
            "    accuracy                           1.00     85443\n",
            "   macro avg       0.50      0.50      0.50     85443\n",
            "weighted avg       1.00      1.00      1.00     85443\n",
            "\n"
          ],
          "name": "stdout"
        }
      ]
    },
    {
      "cell_type": "markdown",
      "metadata": {
        "id": "GRwZmwwoAD_h"
      },
      "source": [
        "From the confusion matrix above we know that the precision and recall generate by dummy classifier is poor, both 50%. \n"
      ]
    },
    {
      "cell_type": "code",
      "metadata": {
        "colab": {
          "base_uri": "https://localhost:8080/",
          "height": 469
        },
        "id": "XflXtQZv8A-s",
        "outputId": "1808c507-4744-4604-8f88-e7e8e1b712d6"
      },
      "source": [
        "fpr1, tpr1, thresholds = roc_curve(y_test, yhat_dummy, pos_label=1)\n",
        "roc_auc1 = auc(fpr1, tpr1)\n",
        "fig, ax = plt.subplots(figsize=(7.5, 7.5))\n",
        " \n",
        "plt.plot(fpr1, tpr1, label='ROC Curve Undersampling+MLPC (AUC = %0.2f)' % (roc_auc1))\n",
        "plt.plot([0, 1], [0, 1], linestyle='--', color='red', label='Random Classifier')   \n",
        "plt.plot([0, 0, 1], [0, 1, 1], linestyle=':', color='green', label='Perfect Classifier')\n",
        "plt.xlim([-0.05, 1.05])\n",
        "plt.ylim([-0.05, 1.05])\n",
        "plt.xlabel('False positive rate')\n",
        "plt.ylabel('True positive rate')\n",
        "plt.legend(loc=\"lower right\")\n",
        "plt.show()"
      ],
      "execution_count": 201,
      "outputs": [
        {
          "output_type": "display_data",
          "data": {
            "image/png": "[encoded data removed]",
            "text/plain": [
              "<Figure size 540x540 with 1 Axes>"
            ]
          },
          "metadata": {
            "needs_background": "light"
          }
        }
      ]
    },
    {
      "cell_type": "code",
      "metadata": {
        "colab": {
          "base_uri": "https://localhost:8080/"
        },
        "id": "v84y0ieN8f51",
        "outputId": "e358cec1-f758-47a0-f1c2-41eaa257d37c"
      },
      "source": [
        "eval_met1 = print_stats(y_test, yhat_dummy)\n",
        "eval_met1"
      ],
      "execution_count": 202,
      "outputs": [
        {
          "output_type": "stream",
          "text": [
            "Accuracy = 0.9982678510820079\n",
            "Precision = 0.0\n",
            "Recall = 0.0\n",
            "F1 Score = 0.0\n",
            "AUC_1 Score = 0.5\n"
          ],
          "name": "stdout"
        }
      ]
    },
    {
      "cell_type": "markdown",
      "metadata": {
        "id": "7y5C5JXaPlCi"
      },
      "source": [
        "### 2. Vanilla Logistic Regression "
      ]
    },
    {
      "cell_type": "code",
      "metadata": {
        "colab": {
          "base_uri": "https://localhost:8080/"
        },
        "id": "rTakhEBy7Hbp",
        "outputId": "9acd7c82-62a9-43a1-f868-6e0bc5ce9218"
      },
      "source": [
        "def classification_report_with_validation(y_true, y_pred):\n",
        "    real_values.extend(y_true)\n",
        "    predicted_values.extend(y_pred)\n",
        "    return accuracy_score(y_true, y_pred)\n",
        "\n",
        "s = MinMaxScaler()\n",
        "lr = LogisticRegression(solver='liblinear')\n",
        "\n",
        "pipeline = Pipeline([(\"scaler\", s),\n",
        "                      (\"LogRegression\", lr)])\n",
        "\n",
        "\n",
        "print(classification_report(real_values, predicted_values))"
      ],
      "execution_count": 205,
      "outputs": [
        {
          "output_type": "stream",
          "text": [
            "              precision    recall  f1-score   support\n",
            "\n",
            "           0       1.00      1.00      1.00    199020\n",
            "           1       0.88      0.54      0.67       344\n",
            "\n",
            "    accuracy                           1.00    199364\n",
            "   macro avg       0.94      0.77      0.83    199364\n",
            "weighted avg       1.00      1.00      1.00    199364\n",
            "\n"
          ],
          "name": "stdout"
        }
      ]
    },
    {
      "cell_type": "code",
      "metadata": {
        "colab": {
          "base_uri": "https://localhost:8080/"
        },
        "id": "s9dPKY_H-KMV",
        "outputId": "63097cdc-3498-49d4-fde3-e0ccea0c1ab3"
      },
      "source": [
        "confusion_matrix(real_values, predicted_values)"
      ],
      "execution_count": 206,
      "outputs": [
        {
          "output_type": "execute_result",
          "data": {
            "text/plain": [
              "array([[198995,     25],\n",
              "       [   159,    185]])"
            ]
          },
          "metadata": {},
          "execution_count": 206
        }
      ]
    },
    {
      "cell_type": "code",
      "metadata": {
        "colab": {
          "base_uri": "https://localhost:8080/"
        },
        "id": "zANSLxqM8uc8",
        "outputId": "a2ef182e-d83e-4404-8417-40658f064cb5"
      },
      "source": [
        "pipeline.fit(X_train, y_train)\n"
      ],
      "execution_count": 207,
      "outputs": [
        {
          "output_type": "execute_result",
          "data": {
            "text/plain": [
              "Pipeline(memory=None,\n",
              "         steps=[('scaler', MinMaxScaler(copy=True, feature_range=(0, 1))),\n",
              "                ('LogRegression',\n",
              "                 LogisticRegression(C=1.0, class_weight=None, dual=False,\n",
              "                                    fit_intercept=True, intercept_scaling=1,\n",
              "                                    l1_ratio=None, max_iter=100,\n",
              "                                    multi_class='auto', n_jobs=None,\n",
              "                                    penalty='l2', random_state=None,\n",
              "                                    solver='liblinear', tol=0.0001, verbose=0,\n",
              "                                    warm_start=False))],\n",
              "         verbose=False)"
            ]
          },
          "metadata": {},
          "execution_count": 207
        }
      ]
    },
    {
      "cell_type": "code",
      "metadata": {
        "id": "5CvTM8d885dW"
      },
      "source": [
        "probs = pipeline.predict_proba(X_test)"
      ],
      "execution_count": 208,
      "outputs": []
    },
    {
      "cell_type": "code",
      "metadata": {
        "colab": {
          "base_uri": "https://localhost:8080/",
          "height": 469
        },
        "id": "8blBJddx5nEY",
        "outputId": "5a48ba4a-2464-4230-d21f-09c72adf166d"
      },
      "source": [
        "fpr1, tpr1, thresholds = roc_curve(y_test, probs[:, 1], pos_label=1)\n",
        "roc_auc1 = auc(fpr1, tpr1)\n",
        "fig, ax = plt.subplots(figsize=(7.5, 7.5))\n",
        " \n",
        "plt.plot(fpr1, tpr1, label='ROC Curve Log Reg (AUC = %0.2f)' % (roc_auc1))\n",
        "plt.plot([0, 1], [0, 1], linestyle='--', color='red', label='Random Classifier')   \n",
        "plt.plot([0, 0, 1], [0, 1, 1], linestyle=':', color='green', label='Perfect Classifier')\n",
        "plt.xlim([-0.05, 1.05])\n",
        "plt.ylim([-0.05, 1.05])\n",
        "plt.xlabel('False positive rate')\n",
        "plt.ylabel('True positive rate')\n",
        "plt.legend(loc=\"lower right\")\n",
        "plt.show()"
      ],
      "execution_count": 209,
      "outputs": [
        {
          "output_type": "display_data",
          "data": {
            "image/png": "[encoded data removed]",
            "text/plain": [
              "<Figure size 540x540 with 1 Axes>"
            ]
          },
          "metadata": {
            "needs_background": "light"
          }
        }
      ]
    },
    {
      "cell_type": "code",
      "metadata": {
        "colab": {
          "base_uri": "https://localhost:8080/"
        },
        "id": "mURvg5mlBoXY",
        "outputId": "5b487355-c770-48b0-fefc-4d9055fd3698"
      },
      "source": [
        "eval_met2 = print_stats(real_values, predicted_values)\n",
        "eval_met2"
      ],
      "execution_count": 210,
      "outputs": [
        {
          "output_type": "stream",
          "text": [
            "Accuracy = 0.9990770650669127\n",
            "Precision = 0.8809523809523809\n",
            "Recall = 0.5377906976744186\n",
            "F1 Score = 0.6678700361010831\n",
            "AUC_1 Score = 0.9614445414404381\n"
          ],
          "name": "stdout"
        }
      ]
    },
    {
      "cell_type": "markdown",
      "metadata": {
        "id": "OiA0pPf1Lp3M"
      },
      "source": [
        "### 3. Logistic Regression with Ridge Regularization (LR2)"
      ]
    },
    {
      "cell_type": "code",
      "metadata": {
        "id": "Q0D5Lafs5UXQ"
      },
      "source": [
        "s = MinMaxScaler()\n",
        "LR_L2 = LogisticRegression(penalty='l2', max_iter=100, solver='liblinear')\n"
      ],
      "execution_count": 292,
      "outputs": []
    },
    {
      "cell_type": "code",
      "metadata": {
        "colab": {
          "base_uri": "https://localhost:8080/"
        },
        "id": "GfuhsVYP_Pqb",
        "outputId": "8d8219ef-d987-42d7-c10a-337864a2305f"
      },
      "source": [
        "estimator = Pipeline([(\"scaler\", s),\n",
        "                      (\"LogRegression\", LR_L2)])\n",
        "\n",
        "estimator.fit(X_train, y_train)\n",
        "y_predLR = estimator.predict(X_test)\n",
        "print(classification_report(y_predLR, y_test))\n"
      ],
      "execution_count": 293,
      "outputs": [
        {
          "output_type": "stream",
          "text": [
            "              precision    recall  f1-score   support\n",
            "\n",
            "           0       0.99      0.96      0.98     96688\n",
            "           1       0.96      0.99      0.97     90960\n",
            "\n",
            "    accuracy                           0.97    187648\n",
            "   macro avg       0.97      0.98      0.97    187648\n",
            "weighted avg       0.98      0.97      0.97    187648\n",
            "\n"
          ],
          "name": "stdout"
        }
      ]
    },
    {
      "cell_type": "code",
      "metadata": {
        "colab": {
          "base_uri": "https://localhost:8080/",
          "height": 469
        },
        "id": "oFvNjxXUCqeW",
        "outputId": "1f002e4a-1722-4be2-e92c-d9701eabaa99"
      },
      "source": [
        "y_prob = estimator.predict_proba(X_test)\n",
        "fpr1, tpr1, thresholds = roc_curve(y_test, y_prob[:, 1], pos_label=1)\n",
        "roc_auc1 = auc(fpr1, tpr1)\n",
        "fig, ax = plt.subplots(figsize=(7.5, 7.5))\n",
        " \n",
        "plt.plot(fpr1, tpr1, label='ROC Curve Log Reg+Ridge (AUC = %0.2f)' % (roc_auc1))\n",
        "plt.plot([0, 1], [0, 1], linestyle='--', color='red', label='Random Classifier')   \n",
        "plt.plot([0, 0, 1], [0, 1, 1], linestyle=':', color='green', label='Perfect Classifier')\n",
        "plt.xlim([-0.05, 1.05])\n",
        "plt.ylim([-0.05, 1.05])\n",
        "plt.xlabel('False positive rate')\n",
        "plt.ylabel('True positive rate')\n",
        "plt.legend(loc=\"lower right\")\n",
        "plt.show()"
      ],
      "execution_count": 294,
      "outputs": [
        {
          "output_type": "display_data",
          "data": {
            "image/png": "[encoded data removed]",
            "text/plain": [
              "<Figure size 540x540 with 1 Axes>"
            ]
          },
          "metadata": {
            "needs_background": "light"
          }
        }
      ]
    },
    {
      "cell_type": "code",
      "metadata": {
        "colab": {
          "base_uri": "https://localhost:8080/"
        },
        "id": "_5BXagsX_uwO",
        "outputId": "487f7a6e-d0d2-4176-fe53-6c5decc584a1"
      },
      "source": [
        "eval_met3 = print_stats(y_test, y_predLR)\n",
        "eval_met3"
      ],
      "execution_count": 295,
      "outputs": [
        {
          "output_type": "stream",
          "text": [
            "Accuracy = 0.9748092172578445\n",
            "Precision = 0.9900285839929639\n",
            "Recall = 0.9593067229128717\n",
            "F1 Score = 0.9744255625348287\n",
            "AUC_1 Score = 0.996035812271742\n"
          ],
          "name": "stdout"
        }
      ]
    },
    {
      "cell_type": "markdown",
      "metadata": {
        "id": "1JrFeDZoAfAa"
      },
      "source": [
        "### 4. SMOTE + Logistic Regression"
      ]
    },
    {
      "cell_type": "code",
      "metadata": {
        "id": "4Eq1N-tsAmNX"
      },
      "source": [
        "from imblearn.over_sampling import SMOTE\n",
        "from sklearn.pipeline import Pipeline"
      ],
      "execution_count": 279,
      "outputs": []
    },
    {
      "cell_type": "code",
      "metadata": {
        "id": "eY8Z7GcSApQv"
      },
      "source": [
        "sm = SMOTE(sampling_strategy='auto', random_state=42, k_neighbors=4)\n",
        "X_oversampled , y_oversampled = sm.fit_resample(X, y)"
      ],
      "execution_count": 280,
      "outputs": []
    },
    {
      "cell_type": "code",
      "metadata": {
        "colab": {
          "base_uri": "https://localhost:8080/"
        },
        "id": "JD_2_7sRApTr",
        "outputId": "152d120b-e61a-4114-ff57-dcb455e04b86"
      },
      "source": [
        "s = MinMaxScaler()\n",
        "pipeline = Pipeline([('scaler',s),('model', LogisticRegression(solver='liblinear'))])\n",
        "\n",
        "pipeline.fit(X_oversampled, y_oversampled)"
      ],
      "execution_count": 281,
      "outputs": [
        {
          "output_type": "execute_result",
          "data": {
            "text/plain": [
              "Pipeline(memory=None,\n",
              "         steps=[('scaler', MinMaxScaler(copy=True, feature_range=(0, 1))),\n",
              "                ('model',\n",
              "                 LogisticRegression(C=1.0, class_weight=None, dual=False,\n",
              "                                    fit_intercept=True, intercept_scaling=1,\n",
              "                                    l1_ratio=None, max_iter=100,\n",
              "                                    multi_class='auto', n_jobs=None,\n",
              "                                    penalty='l2', random_state=None,\n",
              "                                    solver='liblinear', tol=0.0001, verbose=0,\n",
              "                                    warm_start=False))],\n",
              "         verbose=False)"
            ]
          },
          "metadata": {},
          "execution_count": 281
        }
      ]
    },
    {
      "cell_type": "code",
      "metadata": {
        "colab": {
          "base_uri": "https://localhost:8080/"
        },
        "id": "lE-_AgX6ApW-",
        "outputId": "9ceaae5d-e31a-4dc1-cc2d-2ab0814e28b7"
      },
      "source": [
        "unique_original, counts_original = np.unique(y, return_counts=True)\n",
        "unique_oversampled, counts_oversampled = np.unique(y_oversampled, return_counts=True)\n",
        "\n",
        "print('Original fraud class distribution:', dict(zip(unique_original, counts_original)))\n",
        "print('New transformed fraud class distribution:',dict(zip(unique_oversampled, counts_oversampled)))"
      ],
      "execution_count": 282,
      "outputs": [
        {
          "output_type": "stream",
          "text": [
            "Original fraud class distribution: {0: 284315, 1: 492}\n",
            "New transformed fraud class distribution: {0: 284315, 1: 284315}\n"
          ],
          "name": "stdout"
        }
      ]
    },
    {
      "cell_type": "code",
      "metadata": {
        "id": "PBAlBvkuApZE"
      },
      "source": [
        "X_train, X_test, y_train, y_test = train_test_split(X_oversampled, y_oversampled, test_size=0.33, random_state=42)"
      ],
      "execution_count": 283,
      "outputs": []
    },
    {
      "cell_type": "code",
      "metadata": {
        "colab": {
          "base_uri": "https://localhost:8080/"
        },
        "id": "K6h8qnQ9IrWP",
        "outputId": "2d151d84-45f2-466b-f571-2c2f852b205d"
      },
      "source": [
        "model_lr_smt = LogisticRegression(solver='liblinear')\n",
        "model_lr_smt.fit(X_train, y_train)"
      ],
      "execution_count": 284,
      "outputs": [
        {
          "output_type": "execute_result",
          "data": {
            "text/plain": [
              "LogisticRegression(C=1.0, class_weight=None, dual=False, fit_intercept=True,\n",
              "                   intercept_scaling=1, l1_ratio=None, max_iter=100,\n",
              "                   multi_class='auto', n_jobs=None, penalty='l2',\n",
              "                   random_state=None, solver='liblinear', tol=0.0001, verbose=0,\n",
              "                   warm_start=False)"
            ]
          },
          "metadata": {},
          "execution_count": 284
        }
      ]
    },
    {
      "cell_type": "code",
      "metadata": {
        "colab": {
          "base_uri": "https://localhost:8080/"
        },
        "id": "bQCrJuWsJ--l",
        "outputId": "5dbcb017-d9b9-4368-b704-a1ea2e50608d"
      },
      "source": [
        "tst_lr_smt_pred = model_lr_smt.predict(X_test)\n",
        "tst_lr_smt_acc = accuracy_score(tst_lr_smt_pred, y_test)\n",
        "print(round(tst_lr_smt_acc*100, 2))"
      ],
      "execution_count": 285,
      "outputs": [
        {
          "output_type": "stream",
          "text": [
            "96.24\n"
          ],
          "name": "stdout"
        }
      ]
    },
    {
      "cell_type": "code",
      "metadata": {
        "colab": {
          "base_uri": "https://localhost:8080/"
        },
        "id": "7olC_8MmIrYp",
        "outputId": "1b7626a7-a7cc-4e84-a837-e23c67169d3a"
      },
      "source": [
        "print(classification_report(tst_lr_smt_pred,y_test))"
      ],
      "execution_count": 286,
      "outputs": [
        {
          "output_type": "stream",
          "text": [
            "              precision    recall  f1-score   support\n",
            "\n",
            "           0       0.99      0.94      0.96     98141\n",
            "           1       0.94      0.98      0.96     89507\n",
            "\n",
            "    accuracy                           0.96    187648\n",
            "   macro avg       0.96      0.96      0.96    187648\n",
            "weighted avg       0.96      0.96      0.96    187648\n",
            "\n"
          ],
          "name": "stdout"
        }
      ]
    },
    {
      "cell_type": "code",
      "metadata": {
        "colab": {
          "base_uri": "https://localhost:8080/",
          "height": 469
        },
        "id": "kMXy4XN7K-1u",
        "outputId": "148800d0-c290-46d8-fed1-fc7bbbcfd73d"
      },
      "source": [
        "fpr1, tpr1, thresholds = roc_curve(y_test, tst_lr_smt_pred, pos_label=1)\n",
        "roc_auc1 = auc(fpr1, tpr1)\n",
        "fig, ax = plt.subplots(figsize=(7.5, 7.5))\n",
        " \n",
        "plt.plot(fpr1, tpr1, label='ROC Curve SMOTE+LogReg (AUC = %0.2f)' % (roc_auc1))\n",
        "plt.plot([0, 1], [0, 1], linestyle='--', color='red', label='Random Classifier')   \n",
        "plt.plot([0, 0, 1], [0, 1, 1], linestyle=':', color='green', label='Perfect Classifier')\n",
        "plt.xlim([-0.05, 1.05])\n",
        "plt.ylim([-0.05, 1.05])\n",
        "plt.xlabel('False positive rate')\n",
        "plt.ylabel('True positive rate')\n",
        "plt.legend(loc=\"lower right\")\n",
        "plt.show()"
      ],
      "execution_count": 287,
      "outputs": [
        {
          "output_type": "display_data",
          "data": {
            "image/png": "[encoded data removed]",
            "text/plain": [
              "<Figure size 540x540 with 1 Axes>"
            ]
          },
          "metadata": {
            "needs_background": "light"
          }
        }
      ]
    },
    {
      "cell_type": "code",
      "metadata": {
        "colab": {
          "base_uri": "https://localhost:8080/"
        },
        "id": "EIIq6xqZAPhX",
        "outputId": "906df698-bd52-4b86-e5c3-9e0c5dc8320d"
      },
      "source": [
        "eval_met4 = print_stats(y_test, tst_lr_smt_pred)\n",
        "eval_met4"
      ],
      "execution_count": 288,
      "outputs": [
        {
          "output_type": "stream",
          "text": [
            "Accuracy = 0.9623976807639836\n",
            "Precision = 0.9849732423162434\n",
            "Recall = 0.9391624854857095\n",
            "F1 Score = 0.9615225215399716\n",
            "AUC_1 Score = 0.9624098217884426\n"
          ],
          "name": "stdout"
        }
      ]
    },
    {
      "cell_type": "code",
      "metadata": {
        "colab": {
          "base_uri": "https://localhost:8080/",
          "height": 360
        },
        "id": "UJolXd0uRvUK",
        "outputId": "10b2a30c-b254-40d3-fd03-82833a0ae64a"
      },
      "source": [
        "# Compute confusion matrix\n",
        "cnf_matrix = confusion_matrix(y_test,tst_lr_smt_pred, labels=[1,0])\n",
        "np.set_printoptions(precision=2)\n",
        "\n",
        "\n",
        "# Plot non-normalized confusion matrix\n",
        "plt.figure()\n",
        "plot_confusion_matrix(cnf_matrix, classes=['Normal Trx = 0','Fraud = 1'],normalize= False,  title='Confusion matrix')"
      ],
      "execution_count": 289,
      "outputs": [
        {
          "output_type": "stream",
          "text": [
            "Confusion matrix, without normalization\n",
            "[[88162  5711]\n",
            " [ 1345 92430]]\n"
          ],
          "name": "stdout"
        },
        {
          "output_type": "display_data",
          "data": {
            "image/png": "[encoded data removed]",
            "text/plain": [
              "<Figure size 432x288 with 2 Axes>"
            ]
          },
          "metadata": {
            "needs_background": "light"
          }
        }
      ]
    },
    {
      "cell_type": "markdown",
      "metadata": {
        "id": "63B6AlBAApmS"
      },
      "source": [
        "### 5. Undersampling + Multi Layer Perceptron Classifier (MLP Classifier)"
      ]
    },
    {
      "cell_type": "code",
      "metadata": {
        "id": "eozHJayKA0VE"
      },
      "source": [
        "number_records_fraud = len (data[data.Class==1])\n",
        "\n",
        "fraud_indices = np.array (data[data.Class==1].index)\n",
        "\n",
        "normal_indices = np.array (data[data.Class==0].index)"
      ],
      "execution_count": 262,
      "outputs": []
    },
    {
      "cell_type": "code",
      "metadata": {
        "colab": {
          "base_uri": "https://localhost:8080/"
        },
        "id": "8pIwm-0GwX_s",
        "outputId": "359887a6-f57a-4a99-f0d0-80bdbd27e2a9"
      },
      "source": [
        "normal_indices.shape"
      ],
      "execution_count": 298,
      "outputs": [
        {
          "output_type": "execute_result",
          "data": {
            "text/plain": [
              "(284315,)"
            ]
          },
          "metadata": {},
          "execution_count": 298
        }
      ]
    },
    {
      "cell_type": "code",
      "metadata": {
        "colab": {
          "base_uri": "https://localhost:8080/"
        },
        "id": "0RLZTPbVwjUS",
        "outputId": "e510736f-b79d-40a3-cadc-e81d2c9f591c"
      },
      "source": [
        "number_records_fraud"
      ],
      "execution_count": 300,
      "outputs": [
        {
          "output_type": "execute_result",
          "data": {
            "text/plain": [
              "492"
            ]
          },
          "metadata": {},
          "execution_count": 300
        }
      ]
    },
    {
      "cell_type": "code",
      "metadata": {
        "id": "wIk5wGkAA4dP"
      },
      "source": [
        "random_normal_indices = np.random.choice (normal_indices, number_records_fraud, replace = False )\n",
        "\n",
        "under_sample_indices = np.concatenate ([fraud_indices, random_normal_indices])"
      ],
      "execution_count": 263,
      "outputs": []
    },
    {
      "cell_type": "code",
      "metadata": {
        "id": "hODqS48nA4f9"
      },
      "source": [
        "under_sample_data = data.iloc[under_sample_indices,:]\n",
        "\n",
        "X_undersample = under_sample_data.iloc [:, under_sample_data.columns != 'Class'];\n",
        "\n",
        "y_undersample = under_sample_data.iloc [:, under_sample_data.columns == 'Class'];"
      ],
      "execution_count": 264,
      "outputs": []
    },
    {
      "cell_type": "code",
      "metadata": {
        "colab": {
          "base_uri": "https://localhost:8080/"
        },
        "id": "u8iLm8_SwEJH",
        "outputId": "49c17a28-ea6e-45ee-ebde-3287ea7f8632"
      },
      "source": [
        "y_undersample.shape"
      ],
      "execution_count": 301,
      "outputs": [
        {
          "output_type": "execute_result",
          "data": {
            "text/plain": [
              "(984, 1)"
            ]
          },
          "metadata": {},
          "execution_count": 301
        }
      ]
    },
    {
      "cell_type": "code",
      "metadata": {
        "id": "6ipjDlyfA4iX"
      },
      "source": [
        "from sklearn.model_selection import train_test_split\n",
        "\n",
        "X_train, X_test, y_train, y_test = train_test_split(X, y, test_size=0.30, random_state=42)\n",
        "\n",
        "X_train_under, X_test_under, y_train_under, y_test_under = train_test_split (X_undersample,y_undersample, test_size = 0.3, random_state = 42)"
      ],
      "execution_count": 265,
      "outputs": []
    },
    {
      "cell_type": "code",
      "metadata": {
        "id": "TlM7LBDUPLGf"
      },
      "source": [
        "from sklearn.neural_network import MLPClassifier"
      ],
      "execution_count": 266,
      "outputs": []
    },
    {
      "cell_type": "code",
      "metadata": {
        "id": "C8M0v1ouPMrG"
      },
      "source": [
        "MLPC = MLPClassifier(hidden_layer_sizes=(200,), max_iter=10000)\n",
        "\n",
        "s = MinMaxScaler()\n",
        "pipeline = Pipeline([('scaler',s),('mlpc', MLPC)])\n",
        "\n",
        "pipeline.fit(X_train_under, y_train_under)\n",
        "\n",
        "y_predMLPC = pipeline.predict(X_test_under)"
      ],
      "execution_count": 267,
      "outputs": []
    },
    {
      "cell_type": "code",
      "metadata": {
        "colab": {
          "base_uri": "https://localhost:8080/"
        },
        "id": "ANH4kqrtPLLL",
        "outputId": "9e6b2ac9-5ab3-4969-8bf9-7f47dc3720d4"
      },
      "source": [
        "print(classification_report(y_predMLPC,y_test_under))"
      ],
      "execution_count": 268,
      "outputs": [
        {
          "output_type": "stream",
          "text": [
            "              precision    recall  f1-score   support\n",
            "\n",
            "           0       0.97      0.90      0.93       158\n",
            "           1       0.89      0.97      0.93       138\n",
            "\n",
            "    accuracy                           0.93       296\n",
            "   macro avg       0.93      0.93      0.93       296\n",
            "weighted avg       0.94      0.93      0.93       296\n",
            "\n"
          ],
          "name": "stdout"
        }
      ]
    },
    {
      "cell_type": "code",
      "metadata": {
        "colab": {
          "base_uri": "https://localhost:8080/",
          "height": 469
        },
        "id": "7iHvEVRSPLNw",
        "outputId": "7379a864-5867-4536-a5d0-1c3ef4db61ce"
      },
      "source": [
        "fpr1, tpr1, thresholds = roc_curve(y_test_under, y_predMLPC, pos_label=1)\n",
        "roc_auc1 = auc(fpr1, tpr1)\n",
        "fig, ax = plt.subplots(figsize=(7.5, 7.5))\n",
        " \n",
        "plt.plot(fpr1, tpr1, label='ROC Curve Undersampling+MLPC (AUC = %0.2f)' % (roc_auc1))\n",
        "plt.plot([0, 1], [0, 1], linestyle='--', color='red', label='Random Classifier')   \n",
        "plt.plot([0, 0, 1], [0, 1, 1], linestyle=':', color='green', label='Perfect Classifier')\n",
        "plt.xlim([-0.05, 1.05])\n",
        "plt.ylim([-0.05, 1.05])\n",
        "plt.xlabel('False positive rate')\n",
        "plt.ylabel('True positive rate')\n",
        "plt.legend(loc=\"lower right\")\n",
        "plt.show()"
      ],
      "execution_count": 269,
      "outputs": [
        {
          "output_type": "display_data",
          "data": {
            "image/png": "[encoded data removed]",
            "text/plain": [
              "<Figure size 540x540 with 1 Axes>"
            ]
          },
          "metadata": {
            "needs_background": "light"
          }
        }
      ]
    },
    {
      "cell_type": "code",
      "metadata": {
        "colab": {
          "base_uri": "https://localhost:8080/"
        },
        "id": "sCkON1gYEV-X",
        "outputId": "ea4cf660-8967-4f39-f89b-403f5f8b4e89"
      },
      "source": [
        "eval_met5 = print_stats(y_test_under, y_predMLPC)\n",
        "eval_met5"
      ],
      "execution_count": 270,
      "outputs": [
        {
          "output_type": "stream",
          "text": [
            "Accuracy = 0.9324324324324325\n",
            "Precision = 0.9710144927536232\n",
            "Recall = 0.8933333333333333\n",
            "F1 Score = 0.9305555555555556\n",
            "AUC_1 Score = 0.9329680365296803\n"
          ],
          "name": "stdout"
        }
      ]
    },
    {
      "cell_type": "code",
      "metadata": {
        "colab": {
          "base_uri": "https://localhost:8080/"
        },
        "id": "4nbsT1dyRIfQ",
        "outputId": "f5006790-4670-498d-b3d5-78e3ed387bb0"
      },
      "source": [
        "from sklearn.metrics import classification_report, confusion_matrix\n",
        "import itertools\n",
        "def plot_confusion_matrix(cm, classes,\n",
        "                          normalize=False,\n",
        "                          title='Confusion matrix',\n",
        "                          cmap=plt.cm.Blues):\n",
        "    \"\"\"\n",
        "    This function prints and plots the confusion matrix.\n",
        "    Normalization can be applied by setting `normalize=True`.\n",
        "    \"\"\"\n",
        "    if normalize:\n",
        "        cm = cm.astype('float') / cm.sum(axis=1)[:, np.newaxis]\n",
        "        print(\"Normalized confusion matrix\")\n",
        "    else:\n",
        "        print('Confusion matrix, without normalization')\n",
        "\n",
        "    print(cm)\n",
        "\n",
        "    plt.imshow(cm, interpolation='nearest', cmap=cmap)\n",
        "    plt.title(title)\n",
        "    plt.colorbar()\n",
        "    tick_marks = np.arange(len(classes))\n",
        "    plt.xticks(tick_marks, classes, rotation=45)\n",
        "    plt.yticks(tick_marks, classes)\n",
        "\n",
        "    fmt = '.2f' if normalize else 'd'\n",
        "    thresh = cm.max() / 2.\n",
        "    for i, j in itertools.product(range(cm.shape[0]), range(cm.shape[1])):\n",
        "        plt.text(j, i, format(cm[i, j], fmt),\n",
        "                 horizontalalignment=\"center\",\n",
        "                 color=\"white\" if cm[i, j] > thresh else \"black\")\n",
        "\n",
        "    plt.tight_layout()\n",
        "    plt.ylabel('True label')\n",
        "    plt.xlabel('Predicted label')\n",
        "print(confusion_matrix(y_test_under, y_predMLPC, labels=[1,0]))"
      ],
      "execution_count": 272,
      "outputs": [
        {
          "output_type": "stream",
          "text": [
            "[[134  16]\n",
            " [  4 142]]\n"
          ],
          "name": "stdout"
        }
      ]
    },
    {
      "cell_type": "code",
      "metadata": {
        "colab": {
          "base_uri": "https://localhost:8080/",
          "height": 360
        },
        "id": "Zcyg5Ty3Q8nL",
        "outputId": "4460bcc7-9473-4ac6-cb4e-7dbb27f01201"
      },
      "source": [
        "# Compute confusion matrix\n",
        "cnf_matrix = confusion_matrix(y_test_under, y_predMLPC, labels=[1,0])\n",
        "np.set_printoptions(precision=2)\n",
        "\n",
        "\n",
        "# Plot non-normalized confusion matrix\n",
        "plt.figure()\n",
        "plot_confusion_matrix(cnf_matrix, classes=['Normal Trx = 0','Fraud = 1'],normalize= False,  title='Confusion matrix')"
      ],
      "execution_count": 274,
      "outputs": [
        {
          "output_type": "stream",
          "text": [
            "Confusion matrix, without normalization\n",
            "[[134  16]\n",
            " [  4 142]]\n"
          ],
          "name": "stdout"
        },
        {
          "output_type": "display_data",
          "data": {
            "image/png": "[encoded data removed]",
            "text/plain": [
              "<Figure size 432x288 with 2 Axes>"
            ]
          },
          "metadata": {
            "needs_background": "light"
          }
        }
      ]
    },
    {
      "cell_type": "markdown",
      "metadata": {
        "id": "U3bnWVsVA4wH"
      },
      "source": [
        "### 6. AutoEncoder "
      ]
    },
    {
      "cell_type": "code",
      "metadata": {
        "id": "W2c4ZnRJZSFN"
      },
      "source": [
        "import tensorflow as tf"
      ],
      "execution_count": 234,
      "outputs": []
    },
    {
      "cell_type": "code",
      "metadata": {
        "id": "Zd6OcIo4S90O"
      },
      "source": [
        "sc=StandardScaler()\n",
        "data['Amount'] = sc.fit_transform(data['Amount'].values.reshape(-1, 1))"
      ],
      "execution_count": 235,
      "outputs": []
    },
    {
      "cell_type": "code",
      "metadata": {
        "id": "UyGK2im_S937"
      },
      "source": [
        "raw_data = data.values\n",
        "# The last element contains if the transaction is normal which is represented by a 0 and if fraud then 1\n",
        "labels = raw_data[:, -1]\n",
        "data = raw_data[:, 0:-1]\n",
        "train_data, test_data, train_labels, test_labels = train_test_split(\n",
        "    data, labels, test_size=0.3, random_state=42)"
      ],
      "execution_count": 236,
      "outputs": []
    },
    {
      "cell_type": "code",
      "metadata": {
        "id": "yeq5ZgUeS96r"
      },
      "source": [
        "#same with MinMaxScaler for each train and test data separately\n",
        "min_val = tf.reduce_min(train_data)\n",
        "max_val = tf.reduce_max(train_data)\n",
        "\n",
        "train_data = (train_data - min_val) / (max_val - min_val)\n",
        "test_data = (test_data - min_val) / (max_val - min_val)\n",
        "train_data = tf.cast(train_data, tf.float32)\n",
        "test_data = tf.cast(test_data, tf.float32)"
      ],
      "execution_count": 237,
      "outputs": []
    },
    {
      "cell_type": "code",
      "metadata": {
        "colab": {
          "base_uri": "https://localhost:8080/"
        },
        "id": "0pWqxofvZZZg",
        "outputId": "ba080195-87ca-4197-ae51-41f7e215ec3a"
      },
      "source": [
        "train_labels = train_labels.astype(bool) \n",
        "test_labels = test_labels.astype(bool)\n",
        "\n",
        "#creating normal and fraud datasets\n",
        "normal_train_data = train_data[~train_labels]\n",
        "normal_test_data = test_data[~test_labels]\n",
        "\n",
        "fraud_train_data = train_data[train_labels]\n",
        "fraud_test_data = test_data[test_labels]\n",
        "\n",
        "print(\" No. of records in Fraud Train Data=\", len(fraud_train_data))\n",
        "print(\" No. of records in Normal Train data=\",len(normal_train_data))\n",
        "print(\" No. of records in Fraud Test Data=\",len(fraud_test_data))\n",
        "print(\" No. of records in Normal Test data=\",len(normal_test_data))"
      ],
      "execution_count": 238,
      "outputs": [
        {
          "output_type": "stream",
          "text": [
            " No. of records in Fraud Train Data= 356\n",
            " No. of records in Normal Train data= 199008\n",
            " No. of records in Fraud Test Data= 136\n",
            " No. of records in Normal Test data= 85307\n"
          ],
          "name": "stdout"
        }
      ]
    },
    {
      "cell_type": "code",
      "metadata": {
        "id": "dqzKAaGiA7q3"
      },
      "source": [
        "nb_epoch = 10\n",
        "batch_size = 64\n",
        "input_dim = 30 #normal_train_data.shape[1] #num of columns, 30\n",
        "encoding_dim = 14\n",
        "hidden_dim_1 = 7\n",
        "learning_rate = 1e-7"
      ],
      "execution_count": 239,
      "outputs": []
    },
    {
      "cell_type": "code",
      "metadata": {
        "colab": {
          "base_uri": "https://localhost:8080/"
        },
        "id": "te8VVufES98y",
        "outputId": "acdc0def-1378-487b-a82c-7cd1013a46d8"
      },
      "source": [
        "#input Layer\n",
        "input_layer = tf.keras.layers.Input(shape=(input_dim, ))\n",
        "#Encoder\n",
        "encoder = tf.keras.layers.Dense(encoding_dim, activation=\"relu\",                               \n",
        "activity_regularizer=tf.keras.regularizers.l2(learning_rate))(input_layer)\n",
        "encoder=tf.keras.layers.Dropout(0.2)(encoder)\n",
        "encoder = tf.keras.layers.Dense(hidden_dim_1, activation='sigmoid')(encoder)\n",
        "\n",
        "# Decoder\n",
        "decoder = tf.keras.layers.Dense(hidden_dim_1, activation='relu')(encoder)\n",
        "decoder= tf.keras.layers.Dropout(0.2)(decoder)\n",
        "decoder = tf.keras.layers.Dense(encoding_dim, activation='relu')(decoder)\n",
        "decoder = tf.keras.layers.Dense(input_dim, activation='sigmoid')(decoder)\n",
        "\n",
        "#Autoencoder\n",
        "autoencoder = tf.keras.Model(inputs=input_layer, outputs=decoder)\n",
        "autoencoder.summary()"
      ],
      "execution_count": 240,
      "outputs": [
        {
          "output_type": "stream",
          "text": [
            "Model: \"model_3\"\n",
            "_________________________________________________________________\n",
            "Layer (type)                 Output Shape              Param #   \n",
            "=================================================================\n",
            "input_4 (InputLayer)         [(None, 30)]              0         \n",
            "_________________________________________________________________\n",
            "dense_15 (Dense)             (None, 14)                434       \n",
            "_________________________________________________________________\n",
            "dropout_6 (Dropout)          (None, 14)                0         \n",
            "_________________________________________________________________\n",
            "dense_16 (Dense)             (None, 7)                 105       \n",
            "_________________________________________________________________\n",
            "dense_17 (Dense)             (None, 7)                 56        \n",
            "_________________________________________________________________\n",
            "dropout_7 (Dropout)          (None, 7)                 0         \n",
            "_________________________________________________________________\n",
            "dense_18 (Dense)             (None, 14)                112       \n",
            "_________________________________________________________________\n",
            "dense_19 (Dense)             (None, 30)                450       \n",
            "=================================================================\n",
            "Total params: 1,157\n",
            "Trainable params: 1,157\n",
            "Non-trainable params: 0\n",
            "_________________________________________________________________\n"
          ],
          "name": "stdout"
        }
      ]
    },
    {
      "cell_type": "code",
      "metadata": {
        "id": "WLFr3L9DZ302"
      },
      "source": [
        "autoencoder.compile(loss='mean_squared_error',\n",
        "                    optimizer='adam')"
      ],
      "execution_count": 241,
      "outputs": []
    },
    {
      "cell_type": "code",
      "metadata": {
        "colab": {
          "base_uri": "https://localhost:8080/"
        },
        "id": "9HldVDT0Z33g",
        "outputId": "61ed0083-ed9f-4245-d3a3-0038fc20974b"
      },
      "source": [
        "history = autoencoder.fit(normal_train_data, normal_train_data,\n",
        "                    epochs=nb_epoch,\n",
        "                    batch_size=batch_size,\n",
        "                    shuffle=True,\n",
        "                    validation_data=(test_data, test_data),\n",
        "                    verbose='auto').history"
      ],
      "execution_count": 242,
      "outputs": [
        {
          "output_type": "stream",
          "text": [
            "Epoch 1/10\n",
            "3110/3110 [==============================] - 7s 2ms/step - loss: 0.0095 - val_loss: 2.6822e-04\n",
            "Epoch 2/10\n",
            "3110/3110 [==============================] - 6s 2ms/step - loss: 2.2706e-04 - val_loss: 3.6571e-04\n",
            "Epoch 3/10\n",
            "3110/3110 [==============================] - 6s 2ms/step - loss: 1.5518e-04 - val_loss: 4.3644e-04\n",
            "Epoch 4/10\n",
            "3110/3110 [==============================] - 6s 2ms/step - loss: 1.2053e-04 - val_loss: 3.9662e-04\n",
            "Epoch 5/10\n",
            "3110/3110 [==============================] - 6s 2ms/step - loss: 9.9638e-05 - val_loss: 5.1097e-04\n",
            "Epoch 6/10\n",
            "3110/3110 [==============================] - 6s 2ms/step - loss: 8.6279e-05 - val_loss: 6.4745e-04\n",
            "Epoch 7/10\n",
            "3110/3110 [==============================] - 6s 2ms/step - loss: 7.3564e-05 - val_loss: 8.6000e-04\n",
            "Epoch 8/10\n",
            "3110/3110 [==============================] - 6s 2ms/step - loss: 5.0765e-05 - val_loss: 0.0015\n",
            "Epoch 9/10\n",
            "3110/3110 [==============================] - 6s 2ms/step - loss: 4.3776e-05 - val_loss: 0.0017\n",
            "Epoch 10/10\n",
            "3110/3110 [==============================] - 6s 2ms/step - loss: 3.9055e-05 - val_loss: 0.0019\n"
          ],
          "name": "stdout"
        }
      ]
    },
    {
      "cell_type": "code",
      "metadata": {
        "colab": {
          "base_uri": "https://localhost:8080/",
          "height": 295
        },
        "id": "AekvQc_Vaoe8",
        "outputId": "d43590d5-3087-4a90-895d-4afc8575c2fc"
      },
      "source": [
        "plt.plot(history['loss'], linewidth=2, label='Train')\n",
        "plt.plot(history['val_loss'], linewidth=2, label='Test')\n",
        "plt.legend(loc='upper right')\n",
        "plt.title('Model loss')\n",
        "plt.ylabel('Loss')\n",
        "plt.xlabel('Epoch')\n",
        "#plt.ylim(ymin=0.70,ymax=1)\n",
        "plt.show()"
      ],
      "execution_count": 243,
      "outputs": [
        {
          "output_type": "display_data",
          "data": {
            "image/png": "[encoded data removed]",
            "text/plain": [
              "<Figure size 432x288 with 1 Axes>"
            ]
          },
          "metadata": {
            "needs_background": "light"
          }
        }
      ]
    },
    {
      "cell_type": "code",
      "metadata": {
        "colab": {
          "base_uri": "https://localhost:8080/",
          "height": 279
        },
        "id": "po5HMOIBdQrU",
        "outputId": "58e7ebca-cc1c-40bb-d515-d528ef81c936"
      },
      "source": [
        "reconstructions = autoencoder.predict(normal_train_data)\n",
        "train_loss = tf.keras.losses.mae(reconstructions, normal_train_data)\n",
        "\n",
        "plt.hist(train_loss[None,:], bins=50)\n",
        "plt.xlabel(\"Train loss\")\n",
        "plt.ylabel(\"No of examples\")\n",
        "plt.show()"
      ],
      "execution_count": 244,
      "outputs": [
        {
          "output_type": "display_data",
          "data": {
            "image/png": "[encoded data removed]",
            "text/plain": [
              "<Figure size 432x288 with 1 Axes>"
            ]
          },
          "metadata": {
            "needs_background": "light"
          }
        }
      ]
    },
    {
      "cell_type": "code",
      "metadata": {
        "colab": {
          "base_uri": "https://localhost:8080/"
        },
        "id": "42YL8MwxdX66",
        "outputId": "af04f783-276f-4526-ea16-31f719cd083b"
      },
      "source": [
        "threshold = np.mean(train_loss) + np.std(train_loss)\n",
        "print(\"Threshold: \", threshold)"
      ],
      "execution_count": 245,
      "outputs": [
        {
          "output_type": "stream",
          "text": [
            "Threshold:  0.010921288\n"
          ],
          "name": "stdout"
        }
      ]
    },
    {
      "cell_type": "code",
      "metadata": {
        "colab": {
          "base_uri": "https://localhost:8080/",
          "height": 283
        },
        "id": "bIuPs0cEdfj4",
        "outputId": "8abb2f2f-e77d-4a61-99a7-5e0f90b2b953"
      },
      "source": [
        "anomalous_train_data = train_data[~train_labels]\n",
        "anomalous_test_data = test_data[~test_labels]\n",
        "\n",
        "reconstructions = autoencoder.predict(anomalous_test_data)\n",
        "test_loss = tf.keras.losses.mae(reconstructions, anomalous_test_data)\n",
        "\n",
        "plt.hist(test_loss[None, :], bins=50)\n",
        "plt.xlabel(\"Test loss\")\n",
        "plt.ylabel(\"No of examples\")\n",
        "plt.show()"
      ],
      "execution_count": 246,
      "outputs": [
        {
          "output_type": "display_data",
          "data": {
            "image/png": "[encoded data removed]",
            "text/plain": [
              "<Figure size 432x288 with 1 Axes>"
            ]
          },
          "metadata": {
            "needs_background": "light"
          }
        }
      ]
    },
    {
      "cell_type": "code",
      "metadata": {
        "id": "ecGK3qCZdp_D"
      },
      "source": [
        "def predict(model, data, threshold):\n",
        "  reconstructions = model(data)\n",
        "  loss = tf.keras.losses.mae(reconstructions, data)\n",
        "  return tf.math.less(loss, threshold)\n"
      ],
      "execution_count": 247,
      "outputs": []
    },
    {
      "cell_type": "code",
      "metadata": {
        "colab": {
          "base_uri": "https://localhost:8080/"
        },
        "id": "PNpUeUqYRtqr",
        "outputId": "7fdc29f6-d3dd-4d94-a07a-aebc3f395051"
      },
      "source": [
        "print(classification_report(test_labels, preds))"
      ],
      "execution_count": 248,
      "outputs": [
        {
          "output_type": "stream",
          "text": [
            "              precision    recall  f1-score   support\n",
            "\n",
            "       False       1.00      0.10      0.18     85307\n",
            "        True       0.00      0.90      0.00       136\n",
            "\n",
            "    accuracy                           0.10     85443\n",
            "   macro avg       0.50      0.50      0.09     85443\n",
            "weighted avg       1.00      0.10      0.18     85443\n",
            "\n"
          ],
          "name": "stdout"
        }
      ]
    },
    {
      "cell_type": "code",
      "metadata": {
        "colab": {
          "base_uri": "https://localhost:8080/",
          "height": 469
        },
        "id": "sXqiXksl7z8w",
        "outputId": "5472825a-292e-4573-f111-833c45e23267"
      },
      "source": [
        "fpr1, tpr1, thresholds = roc_curve(test_labels, preds, pos_label=1)\n",
        "roc_auc1 = auc(fpr1, tpr1)\n",
        "fig, ax = plt.subplots(figsize=(7.5, 7.5))\n",
        " \n",
        "plt.plot(fpr1, tpr1, label='ROC Curve AutoEncoder (AUC = %0.2f)' % (roc_auc1))\n",
        "plt.plot([0, 1], [0, 1], linestyle='--', color='red', label='Random Classifier')   \n",
        "plt.plot([0, 0, 1], [0, 1, 1], linestyle=':', color='green', label='Perfect Classifier')\n",
        "plt.xlim([-0.05, 1.05])\n",
        "plt.ylim([-0.05, 1.05])\n",
        "plt.xlabel('False positive rate')\n",
        "plt.ylabel('True positive rate')\n",
        "plt.legend(loc=\"lower right\")\n",
        "plt.show()"
      ],
      "execution_count": 249,
      "outputs": [
        {
          "output_type": "display_data",
          "data": {
            "image/png": "[encoded data removed]",
            "text/plain": [
              "<Figure size 540x540 with 1 Axes>"
            ]
          },
          "metadata": {
            "needs_background": "light"
          }
        }
      ]
    },
    {
      "cell_type": "code",
      "metadata": {
        "colab": {
          "base_uri": "https://localhost:8080/"
        },
        "id": "VXxLEz1bd7Za",
        "outputId": "15fd9802-ba97-452e-b10a-4edcb9277459"
      },
      "source": [
        "preds = predict(autoencoder, test_data, threshold)\n",
        "eval_met6 = print_stats(test_labels, preds)\n",
        "eval_met6"
      ],
      "execution_count": 250,
      "outputs": [
        {
          "output_type": "stream",
          "text": [
            "Accuracy = 0.27106960195686014\n",
            "Precision = 0.001875601154216095\n",
            "Recall = 0.8602941176470589\n",
            "F1 Score = 0.003743041781303986\n",
            "AUC_1 Score = 0.500343784283615\n"
          ],
          "name": "stdout"
        }
      ]
    },
    {
      "cell_type": "markdown",
      "metadata": {
        "id": "ocY73oepFHOV"
      },
      "source": [
        "# Evaluation Matrix Comparison"
      ]
    },
    {
      "cell_type": "markdown",
      "metadata": {
        "id": "Br3WM42TLHve"
      },
      "source": [
        "Here are the evaluation matrix result from six models examined: "
      ]
    },
    {
      "cell_type": "markdown",
      "metadata": {
        "id": "MB9sR5zQLBBQ"
      },
      "source": [
        "| Algorithm            | Accuracy| Precision|Recall |F1 Score  |AUC Score |\n",
        "|----------------------|---------|----------|-------|----------|--------- |\n",
        "| Dummy Classifier     | 0.99    | 0.00     | 0.00  | 0.00     | 0.5 \n",
        "| Vanilla Log Reg      | 0.99    | 0.88     | 0.53  | 0.66     | 0.96\n",
        "| Log Reg + Ridge      | 0.97    | 0.99     | 0.95  | 0.97     | 0.99\n",
        "| SMOTE + Log Reg      | 0.96    | 0.98     | 0.93  | 0.96     | 0.96\n",
        "| Undersampling + MLPC | 0.93    | 0.97     | 0.89  | 0.93     | 0.93\n",
        "| Auto Encoder         | 0.27    | 0.002    | 0.8   | 0.003    | 0.5"
      ]
    }
  ]
}