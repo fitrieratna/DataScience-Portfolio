{
    "cells": [
        {
            "cell_type": "markdown",
            "metadata": {
                "collapsed": true
            },
            "source": "# My Jupyter Notebook on IBM Watson Studio"
        },
        {
            "cell_type": "markdown",
            "metadata": {},
            "source": "**Fitrie Ratnasari**"
        },
        {
            "cell_type": "markdown",
            "metadata": {},
            "source": "*I am interested in data science because it solves most of problems objectively*"
        },
        {
            "cell_type": "markdown",
            "metadata": {},
            "source": "# The following code tests Power of Two #"
        },
        {
            "cell_type": "code",
            "execution_count": 2,
            "metadata": {},
            "outputs": [
                {
                    "name": "stdout",
                    "output_type": "stream",
                    "text": "1\n2\n4\n8\n16\n32\n64\n128\n256\n512\n1024\n2048\n4096\n8192\n16384\n32768\n65536\n131072\n262144\n524288\n"
                }
            ],
            "source": "for n in range(20):\n    print (2 ** n)"
        },
        {
            "cell_type": "markdown",
            "metadata": {},
            "source": "* One\n- Two\n+ Four\n* Eight\n* Sixteen\n+ etc\n"
        },
        {
            "cell_type": "markdown",
            "metadata": {},
            "source": "2^0 | 2^1 | 2^2\n--- | --- | ---\n*One* | `Two` | **Four**\n1 | 2 | 4"
        },
        {
            "cell_type": "markdown",
            "metadata": {},
            "source": "Data Science is the ~~sexiest~~ most challenging job in 21st century."
        },
        {
            "cell_type": "code",
            "execution_count": null,
            "metadata": {},
            "outputs": [],
            "source": ""
        }
    ],
    "metadata": {
        "kernelspec": {
            "display_name": "Python 3.6",
            "language": "python",
            "name": "python3"
        },
        "language_info": {
            "codemirror_mode": {
                "name": "ipython",
                "version": 3
            },
            "file_extension": ".py",
            "mimetype": "text/x-python",
            "name": "python",
            "nbconvert_exporter": "python",
            "pygments_lexer": "ipython3",
            "version": "3.6.9"
        }
    },
    "nbformat": 4,
    "nbformat_minor": 1
}