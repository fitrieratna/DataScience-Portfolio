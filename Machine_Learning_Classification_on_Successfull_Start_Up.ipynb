{
  "nbformat": 4,
  "nbformat_minor": 0,
  "metadata": {
    "colab": {
      "name": "Copy of Machine Learning - Classification on Successfull Start Up",
      "provenance": [],
      "collapsed_sections": [],
      "toc_visible": true,
      "mount_file_id": "1S0W879Vix4XzeNvricjZH6lRMmjvfSp3",
      "authorship_tag": "ABX9TyP7nHfWCJGQKI/XiBoVquY7",
      "include_colab_link": true
    },
    "kernelspec": {
      "name": "python3",
      "display_name": "Python 3"
    }
  },
  "cells": [
    {
      "cell_type": "markdown",
      "metadata": {
        "id": "view-in-github",
        "colab_type": "text"
      },
      "source": [
        "<a href=\"https://colab.research.google.com/github/fitrieratna/DataScience-Portfolio/blob/master/Machine_Learning_Classification_on_Successfull_Start_Up.ipynb\" target=\"_parent\"><img src=\"https://colab.research.google.com/assets/colab-badge.svg\" alt=\"Open In Colab\"/></a>"
      ]
    },
    {
      "cell_type": "markdown",
      "metadata": {
        "id": "akYpe1zb0JBP"
      },
      "source": [
        "# Pre-Explore"
      ]
    },
    {
      "cell_type": "code",
      "metadata": {
        "id": "oGYmxGZ1weeV"
      },
      "source": [
        "import pandas as pd\n",
        "import numpy as np\n",
        "import seaborn as sns\n",
        "import matplotlib.pyplot as plt\n",
        "import chardet\n"
      ],
      "execution_count": null,
      "outputs": []
    },
    {
      "cell_type": "code",
      "metadata": {
        "colab": {
          "base_uri": "https://localhost:8080/"
        },
        "id": "fD1_hjcC9KUV",
        "outputId": "0ba182fa-dbe8-405a-b9d1-5eac680fab3a"
      },
      "source": [
        "# To connect Google Drive (GDrive) with Colab\n",
        "from google.colab import drive\n",
        "drive.mount(\"/content/gdrive\")"
      ],
      "execution_count": null,
      "outputs": [
        {
          "output_type": "stream",
          "text": [
            "Mounted at /content/gdrive\n"
          ],
          "name": "stdout"
        }
      ]
    },
    {
      "cell_type": "code",
      "metadata": {
        "colab": {
          "base_uri": "https://localhost:8080/"
        },
        "id": "Tpx7ejBQx-cm",
        "outputId": "c0950124-c753-483b-fe84-a2d34f3bb58b"
      },
      "source": [
        "f = open('/content/gdrive/My Drive/data-analysis-science/investments_VC.csv','rb')\n",
        "line = f.readline()\n",
        "print(chardet.detect(line))"
      ],
      "execution_count": null,
      "outputs": [
        {
          "output_type": "stream",
          "text": [
            "{'encoding': 'ascii', 'confidence': 1.0, 'language': ''}\n"
          ],
          "name": "stdout"
        }
      ]
    },
    {
      "cell_type": "code",
      "metadata": {
        "id": "CR0JUSVBxXOW"
      },
      "source": [
        "data = pd.read_csv('/content/gdrive/My Drive/data-analysis-science/investments_VC.csv', encoding='unicode_escape' )"
      ],
      "execution_count": null,
      "outputs": []
    },
    {
      "cell_type": "code",
      "metadata": {
        "id": "HKcy8wKsx85e",
        "colab": {
          "base_uri": "https://localhost:8080/",
          "height": 534
        },
        "outputId": "ec112e31-90da-4242-e819-1539b7970312"
      },
      "source": [
        "data.head(10)"
      ],
      "execution_count": null,
      "outputs": [
        {
          "output_type": "execute_result",
          "data": {
            "text/html": [
              "<div>\n",
              "<style scoped>\n",
              "    .dataframe tbody tr th:only-of-type {\n",
              "        vertical-align: middle;\n",
              "    }\n",
              "\n",
              "    .dataframe tbody tr th {\n",
              "        vertical-align: top;\n",
              "    }\n",
              "\n",
              "    .dataframe thead th {\n",
              "        text-align: right;\n",
              "    }\n",
              "</style>\n",
              "<table border=\"1\" class=\"dataframe\">\n",
              "  <thead>\n",
              "    <tr style=\"text-align: right;\">\n",
              "      <th></th>\n",
              "      <th>permalink</th>\n",
              "      <th>name</th>\n",
              "      <th>homepage_url</th>\n",
              "      <th>category_list</th>\n",
              "      <th>market</th>\n",
              "      <th>funding_total_usd</th>\n",
              "      <th>status</th>\n",
              "      <th>country_code</th>\n",
              "      <th>state_code</th>\n",
              "      <th>region</th>\n",
              "      <th>city</th>\n",
              "      <th>funding_rounds</th>\n",
              "      <th>founded_at</th>\n",
              "      <th>founded_month</th>\n",
              "      <th>founded_quarter</th>\n",
              "      <th>founded_year</th>\n",
              "      <th>first_funding_at</th>\n",
              "      <th>last_funding_at</th>\n",
              "      <th>seed</th>\n",
              "      <th>venture</th>\n",
              "      <th>equity_crowdfunding</th>\n",
              "      <th>undisclosed</th>\n",
              "      <th>convertible_note</th>\n",
              "      <th>debt_financing</th>\n",
              "      <th>angel</th>\n",
              "      <th>grant</th>\n",
              "      <th>private_equity</th>\n",
              "      <th>post_ipo_equity</th>\n",
              "      <th>post_ipo_debt</th>\n",
              "      <th>secondary_market</th>\n",
              "      <th>product_crowdfunding</th>\n",
              "      <th>round_A</th>\n",
              "      <th>round_B</th>\n",
              "      <th>round_C</th>\n",
              "      <th>round_D</th>\n",
              "      <th>round_E</th>\n",
              "      <th>round_F</th>\n",
              "      <th>round_G</th>\n",
              "      <th>round_H</th>\n",
              "    </tr>\n",
              "  </thead>\n",
              "  <tbody>\n",
              "    <tr>\n",
              "      <th>0</th>\n",
              "      <td>/organization/waywire</td>\n",
              "      <td>#waywire</td>\n",
              "      <td>http://www.waywire.com</td>\n",
              "      <td>|Entertainment|Politics|Social Media|News|</td>\n",
              "      <td>News</td>\n",
              "      <td>17,50,000</td>\n",
              "      <td>acquired</td>\n",
              "      <td>USA</td>\n",
              "      <td>NY</td>\n",
              "      <td>New York City</td>\n",
              "      <td>New York</td>\n",
              "      <td>1.0</td>\n",
              "      <td>2012-06-01</td>\n",
              "      <td>2012-06</td>\n",
              "      <td>2012-Q2</td>\n",
              "      <td>2012.0</td>\n",
              "      <td>2012-06-30</td>\n",
              "      <td>2012-06-30</td>\n",
              "      <td>1750000.0</td>\n",
              "      <td>0.0</td>\n",
              "      <td>0.0</td>\n",
              "      <td>0.0</td>\n",
              "      <td>0.0</td>\n",
              "      <td>0.0</td>\n",
              "      <td>0.0</td>\n",
              "      <td>0.0</td>\n",
              "      <td>0.0</td>\n",
              "      <td>0.0</td>\n",
              "      <td>0.0</td>\n",
              "      <td>0.0</td>\n",
              "      <td>0.0</td>\n",
              "      <td>0.0</td>\n",
              "      <td>0.0</td>\n",
              "      <td>0.0</td>\n",
              "      <td>0.0</td>\n",
              "      <td>0.0</td>\n",
              "      <td>0.0</td>\n",
              "      <td>0.0</td>\n",
              "      <td>0.0</td>\n",
              "    </tr>\n",
              "    <tr>\n",
              "      <th>1</th>\n",
              "      <td>/organization/tv-communications</td>\n",
              "      <td>&amp;TV Communications</td>\n",
              "      <td>http://enjoyandtv.com</td>\n",
              "      <td>|Games|</td>\n",
              "      <td>Games</td>\n",
              "      <td>40,00,000</td>\n",
              "      <td>operating</td>\n",
              "      <td>USA</td>\n",
              "      <td>CA</td>\n",
              "      <td>Los Angeles</td>\n",
              "      <td>Los Angeles</td>\n",
              "      <td>2.0</td>\n",
              "      <td>NaN</td>\n",
              "      <td>NaN</td>\n",
              "      <td>NaN</td>\n",
              "      <td>NaN</td>\n",
              "      <td>2010-06-04</td>\n",
              "      <td>2010-09-23</td>\n",
              "      <td>0.0</td>\n",
              "      <td>4000000.0</td>\n",
              "      <td>0.0</td>\n",
              "      <td>0.0</td>\n",
              "      <td>0.0</td>\n",
              "      <td>0.0</td>\n",
              "      <td>0.0</td>\n",
              "      <td>0.0</td>\n",
              "      <td>0.0</td>\n",
              "      <td>0.0</td>\n",
              "      <td>0.0</td>\n",
              "      <td>0.0</td>\n",
              "      <td>0.0</td>\n",
              "      <td>0.0</td>\n",
              "      <td>0.0</td>\n",
              "      <td>0.0</td>\n",
              "      <td>0.0</td>\n",
              "      <td>0.0</td>\n",
              "      <td>0.0</td>\n",
              "      <td>0.0</td>\n",
              "      <td>0.0</td>\n",
              "    </tr>\n",
              "    <tr>\n",
              "      <th>2</th>\n",
              "      <td>/organization/rock-your-paper</td>\n",
              "      <td>'Rock' Your Paper</td>\n",
              "      <td>http://www.rockyourpaper.org</td>\n",
              "      <td>|Publishing|Education|</td>\n",
              "      <td>Publishing</td>\n",
              "      <td>40,000</td>\n",
              "      <td>operating</td>\n",
              "      <td>EST</td>\n",
              "      <td>NaN</td>\n",
              "      <td>Tallinn</td>\n",
              "      <td>Tallinn</td>\n",
              "      <td>1.0</td>\n",
              "      <td>2012-10-26</td>\n",
              "      <td>2012-10</td>\n",
              "      <td>2012-Q4</td>\n",
              "      <td>2012.0</td>\n",
              "      <td>2012-08-09</td>\n",
              "      <td>2012-08-09</td>\n",
              "      <td>40000.0</td>\n",
              "      <td>0.0</td>\n",
              "      <td>0.0</td>\n",
              "      <td>0.0</td>\n",
              "      <td>0.0</td>\n",
              "      <td>0.0</td>\n",
              "      <td>0.0</td>\n",
              "      <td>0.0</td>\n",
              "      <td>0.0</td>\n",
              "      <td>0.0</td>\n",
              "      <td>0.0</td>\n",
              "      <td>0.0</td>\n",
              "      <td>0.0</td>\n",
              "      <td>0.0</td>\n",
              "      <td>0.0</td>\n",
              "      <td>0.0</td>\n",
              "      <td>0.0</td>\n",
              "      <td>0.0</td>\n",
              "      <td>0.0</td>\n",
              "      <td>0.0</td>\n",
              "      <td>0.0</td>\n",
              "    </tr>\n",
              "    <tr>\n",
              "      <th>3</th>\n",
              "      <td>/organization/in-touch-network</td>\n",
              "      <td>(In)Touch Network</td>\n",
              "      <td>http://www.InTouchNetwork.com</td>\n",
              "      <td>|Electronics|Guides|Coffee|Restaurants|Music|i...</td>\n",
              "      <td>Electronics</td>\n",
              "      <td>15,00,000</td>\n",
              "      <td>operating</td>\n",
              "      <td>GBR</td>\n",
              "      <td>NaN</td>\n",
              "      <td>London</td>\n",
              "      <td>London</td>\n",
              "      <td>1.0</td>\n",
              "      <td>2011-04-01</td>\n",
              "      <td>2011-04</td>\n",
              "      <td>2011-Q2</td>\n",
              "      <td>2011.0</td>\n",
              "      <td>2011-04-01</td>\n",
              "      <td>2011-04-01</td>\n",
              "      <td>1500000.0</td>\n",
              "      <td>0.0</td>\n",
              "      <td>0.0</td>\n",
              "      <td>0.0</td>\n",
              "      <td>0.0</td>\n",
              "      <td>0.0</td>\n",
              "      <td>0.0</td>\n",
              "      <td>0.0</td>\n",
              "      <td>0.0</td>\n",
              "      <td>0.0</td>\n",
              "      <td>0.0</td>\n",
              "      <td>0.0</td>\n",
              "      <td>0.0</td>\n",
              "      <td>0.0</td>\n",
              "      <td>0.0</td>\n",
              "      <td>0.0</td>\n",
              "      <td>0.0</td>\n",
              "      <td>0.0</td>\n",
              "      <td>0.0</td>\n",
              "      <td>0.0</td>\n",
              "      <td>0.0</td>\n",
              "    </tr>\n",
              "    <tr>\n",
              "      <th>4</th>\n",
              "      <td>/organization/r-ranch-and-mine</td>\n",
              "      <td>-R- Ranch and Mine</td>\n",
              "      <td>NaN</td>\n",
              "      <td>|Tourism|Entertainment|Games|</td>\n",
              "      <td>Tourism</td>\n",
              "      <td>60,000</td>\n",
              "      <td>operating</td>\n",
              "      <td>USA</td>\n",
              "      <td>TX</td>\n",
              "      <td>Dallas</td>\n",
              "      <td>Fort Worth</td>\n",
              "      <td>2.0</td>\n",
              "      <td>2014-01-01</td>\n",
              "      <td>2014-01</td>\n",
              "      <td>2014-Q1</td>\n",
              "      <td>2014.0</td>\n",
              "      <td>2014-08-17</td>\n",
              "      <td>2014-09-26</td>\n",
              "      <td>0.0</td>\n",
              "      <td>0.0</td>\n",
              "      <td>60000.0</td>\n",
              "      <td>0.0</td>\n",
              "      <td>0.0</td>\n",
              "      <td>0.0</td>\n",
              "      <td>0.0</td>\n",
              "      <td>0.0</td>\n",
              "      <td>0.0</td>\n",
              "      <td>0.0</td>\n",
              "      <td>0.0</td>\n",
              "      <td>0.0</td>\n",
              "      <td>0.0</td>\n",
              "      <td>0.0</td>\n",
              "      <td>0.0</td>\n",
              "      <td>0.0</td>\n",
              "      <td>0.0</td>\n",
              "      <td>0.0</td>\n",
              "      <td>0.0</td>\n",
              "      <td>0.0</td>\n",
              "      <td>0.0</td>\n",
              "    </tr>\n",
              "    <tr>\n",
              "      <th>5</th>\n",
              "      <td>/organization/club-domains</td>\n",
              "      <td>.Club Domains</td>\n",
              "      <td>http://nic.club/</td>\n",
              "      <td>|Software|</td>\n",
              "      <td>Software</td>\n",
              "      <td>70,00,000</td>\n",
              "      <td>NaN</td>\n",
              "      <td>USA</td>\n",
              "      <td>FL</td>\n",
              "      <td>Ft. Lauderdale</td>\n",
              "      <td>Oakland Park</td>\n",
              "      <td>1.0</td>\n",
              "      <td>2011-10-10</td>\n",
              "      <td>2011-10</td>\n",
              "      <td>2011-Q4</td>\n",
              "      <td>2011.0</td>\n",
              "      <td>2013-05-31</td>\n",
              "      <td>2013-05-31</td>\n",
              "      <td>0.0</td>\n",
              "      <td>7000000.0</td>\n",
              "      <td>0.0</td>\n",
              "      <td>0.0</td>\n",
              "      <td>0.0</td>\n",
              "      <td>0.0</td>\n",
              "      <td>0.0</td>\n",
              "      <td>0.0</td>\n",
              "      <td>0.0</td>\n",
              "      <td>0.0</td>\n",
              "      <td>0.0</td>\n",
              "      <td>0.0</td>\n",
              "      <td>0.0</td>\n",
              "      <td>0.0</td>\n",
              "      <td>7000000.0</td>\n",
              "      <td>0.0</td>\n",
              "      <td>0.0</td>\n",
              "      <td>0.0</td>\n",
              "      <td>0.0</td>\n",
              "      <td>0.0</td>\n",
              "      <td>0.0</td>\n",
              "    </tr>\n",
              "    <tr>\n",
              "      <th>6</th>\n",
              "      <td>/organization/fox-networks</td>\n",
              "      <td>.Fox Networks</td>\n",
              "      <td>http://www.dotfox.com</td>\n",
              "      <td>|Advertising|</td>\n",
              "      <td>Advertising</td>\n",
              "      <td>49,12,393</td>\n",
              "      <td>closed</td>\n",
              "      <td>ARG</td>\n",
              "      <td>NaN</td>\n",
              "      <td>Buenos Aires</td>\n",
              "      <td>Buenos Aires</td>\n",
              "      <td>1.0</td>\n",
              "      <td>NaN</td>\n",
              "      <td>NaN</td>\n",
              "      <td>NaN</td>\n",
              "      <td>NaN</td>\n",
              "      <td>2007-01-16</td>\n",
              "      <td>2007-01-16</td>\n",
              "      <td>0.0</td>\n",
              "      <td>0.0</td>\n",
              "      <td>0.0</td>\n",
              "      <td>4912393.0</td>\n",
              "      <td>0.0</td>\n",
              "      <td>0.0</td>\n",
              "      <td>0.0</td>\n",
              "      <td>0.0</td>\n",
              "      <td>0.0</td>\n",
              "      <td>0.0</td>\n",
              "      <td>0.0</td>\n",
              "      <td>0.0</td>\n",
              "      <td>0.0</td>\n",
              "      <td>0.0</td>\n",
              "      <td>0.0</td>\n",
              "      <td>0.0</td>\n",
              "      <td>0.0</td>\n",
              "      <td>0.0</td>\n",
              "      <td>0.0</td>\n",
              "      <td>0.0</td>\n",
              "      <td>0.0</td>\n",
              "    </tr>\n",
              "    <tr>\n",
              "      <th>7</th>\n",
              "      <td>/organization/0-6-com</td>\n",
              "      <td>0-6.com</td>\n",
              "      <td>http://www.0-6.com</td>\n",
              "      <td>|Curated Web|</td>\n",
              "      <td>Curated Web</td>\n",
              "      <td>20,00,000</td>\n",
              "      <td>operating</td>\n",
              "      <td>NaN</td>\n",
              "      <td>NaN</td>\n",
              "      <td>NaN</td>\n",
              "      <td>NaN</td>\n",
              "      <td>1.0</td>\n",
              "      <td>2007-01-01</td>\n",
              "      <td>2007-01</td>\n",
              "      <td>2007-Q1</td>\n",
              "      <td>2007.0</td>\n",
              "      <td>2008-03-19</td>\n",
              "      <td>2008-03-19</td>\n",
              "      <td>0.0</td>\n",
              "      <td>2000000.0</td>\n",
              "      <td>0.0</td>\n",
              "      <td>0.0</td>\n",
              "      <td>0.0</td>\n",
              "      <td>0.0</td>\n",
              "      <td>0.0</td>\n",
              "      <td>0.0</td>\n",
              "      <td>0.0</td>\n",
              "      <td>0.0</td>\n",
              "      <td>0.0</td>\n",
              "      <td>0.0</td>\n",
              "      <td>0.0</td>\n",
              "      <td>2000000.0</td>\n",
              "      <td>0.0</td>\n",
              "      <td>0.0</td>\n",
              "      <td>0.0</td>\n",
              "      <td>0.0</td>\n",
              "      <td>0.0</td>\n",
              "      <td>0.0</td>\n",
              "      <td>0.0</td>\n",
              "    </tr>\n",
              "    <tr>\n",
              "      <th>8</th>\n",
              "      <td>/organization/004-technologies</td>\n",
              "      <td>004 Technologies</td>\n",
              "      <td>http://004gmbh.de/en/004-interact</td>\n",
              "      <td>|Software|</td>\n",
              "      <td>Software</td>\n",
              "      <td>-</td>\n",
              "      <td>operating</td>\n",
              "      <td>USA</td>\n",
              "      <td>IL</td>\n",
              "      <td>Springfield, Illinois</td>\n",
              "      <td>Champaign</td>\n",
              "      <td>1.0</td>\n",
              "      <td>2010-01-01</td>\n",
              "      <td>2010-01</td>\n",
              "      <td>2010-Q1</td>\n",
              "      <td>2010.0</td>\n",
              "      <td>2014-07-24</td>\n",
              "      <td>2014-07-24</td>\n",
              "      <td>0.0</td>\n",
              "      <td>0.0</td>\n",
              "      <td>0.0</td>\n",
              "      <td>0.0</td>\n",
              "      <td>0.0</td>\n",
              "      <td>0.0</td>\n",
              "      <td>0.0</td>\n",
              "      <td>0.0</td>\n",
              "      <td>0.0</td>\n",
              "      <td>0.0</td>\n",
              "      <td>0.0</td>\n",
              "      <td>0.0</td>\n",
              "      <td>0.0</td>\n",
              "      <td>0.0</td>\n",
              "      <td>0.0</td>\n",
              "      <td>0.0</td>\n",
              "      <td>0.0</td>\n",
              "      <td>0.0</td>\n",
              "      <td>0.0</td>\n",
              "      <td>0.0</td>\n",
              "      <td>0.0</td>\n",
              "    </tr>\n",
              "    <tr>\n",
              "      <th>9</th>\n",
              "      <td>/organization/01games-technology</td>\n",
              "      <td>01Games Technology</td>\n",
              "      <td>http://www.01games.hk/</td>\n",
              "      <td>|Games|</td>\n",
              "      <td>Games</td>\n",
              "      <td>41,250</td>\n",
              "      <td>operating</td>\n",
              "      <td>HKG</td>\n",
              "      <td>NaN</td>\n",
              "      <td>Hong Kong</td>\n",
              "      <td>Hong Kong</td>\n",
              "      <td>1.0</td>\n",
              "      <td>NaN</td>\n",
              "      <td>NaN</td>\n",
              "      <td>NaN</td>\n",
              "      <td>NaN</td>\n",
              "      <td>2014-07-01</td>\n",
              "      <td>2014-07-01</td>\n",
              "      <td>41250.0</td>\n",
              "      <td>0.0</td>\n",
              "      <td>0.0</td>\n",
              "      <td>0.0</td>\n",
              "      <td>0.0</td>\n",
              "      <td>0.0</td>\n",
              "      <td>0.0</td>\n",
              "      <td>0.0</td>\n",
              "      <td>0.0</td>\n",
              "      <td>0.0</td>\n",
              "      <td>0.0</td>\n",
              "      <td>0.0</td>\n",
              "      <td>0.0</td>\n",
              "      <td>0.0</td>\n",
              "      <td>0.0</td>\n",
              "      <td>0.0</td>\n",
              "      <td>0.0</td>\n",
              "      <td>0.0</td>\n",
              "      <td>0.0</td>\n",
              "      <td>0.0</td>\n",
              "      <td>0.0</td>\n",
              "    </tr>\n",
              "  </tbody>\n",
              "</table>\n",
              "</div>"
            ],
            "text/plain": [
              "                          permalink                name  ... round_G round_H\n",
              "0             /organization/waywire            #waywire  ...     0.0     0.0\n",
              "1   /organization/tv-communications  &TV Communications  ...     0.0     0.0\n",
              "2     /organization/rock-your-paper   'Rock' Your Paper  ...     0.0     0.0\n",
              "3    /organization/in-touch-network   (In)Touch Network  ...     0.0     0.0\n",
              "4    /organization/r-ranch-and-mine  -R- Ranch and Mine  ...     0.0     0.0\n",
              "5        /organization/club-domains       .Club Domains  ...     0.0     0.0\n",
              "6        /organization/fox-networks       .Fox Networks  ...     0.0     0.0\n",
              "7             /organization/0-6-com             0-6.com  ...     0.0     0.0\n",
              "8    /organization/004-technologies    004 Technologies  ...     0.0     0.0\n",
              "9  /organization/01games-technology  01Games Technology  ...     0.0     0.0\n",
              "\n",
              "[10 rows x 39 columns]"
            ]
          },
          "metadata": {
            "tags": []
          },
          "execution_count": 6
        }
      ]
    },
    {
      "cell_type": "code",
      "metadata": {
        "id": "JRC-X1KBxyCm",
        "colab": {
          "base_uri": "https://localhost:8080/"
        },
        "outputId": "0aad20fb-b04c-4549-9ac5-7b98a09bf71d"
      },
      "source": [
        "data.info()"
      ],
      "execution_count": null,
      "outputs": [
        {
          "output_type": "stream",
          "text": [
            "<class 'pandas.core.frame.DataFrame'>\n",
            "RangeIndex: 54294 entries, 0 to 54293\n",
            "Data columns (total 39 columns):\n",
            " #   Column                Non-Null Count  Dtype  \n",
            "---  ------                --------------  -----  \n",
            " 0   permalink             49438 non-null  object \n",
            " 1   name                  49437 non-null  object \n",
            " 2   homepage_url          45989 non-null  object \n",
            " 3   category_list         45477 non-null  object \n",
            " 4    market               45470 non-null  object \n",
            " 5    funding_total_usd    49438 non-null  object \n",
            " 6   status                48124 non-null  object \n",
            " 7   country_code          44165 non-null  object \n",
            " 8   state_code            30161 non-null  object \n",
            " 9   region                44165 non-null  object \n",
            " 10  city                  43322 non-null  object \n",
            " 11  funding_rounds        49438 non-null  float64\n",
            " 12  founded_at            38554 non-null  object \n",
            " 13  founded_month         38482 non-null  object \n",
            " 14  founded_quarter       38482 non-null  object \n",
            " 15  founded_year          38482 non-null  float64\n",
            " 16  first_funding_at      49438 non-null  object \n",
            " 17  last_funding_at       49438 non-null  object \n",
            " 18  seed                  49438 non-null  float64\n",
            " 19  venture               49438 non-null  float64\n",
            " 20  equity_crowdfunding   49438 non-null  float64\n",
            " 21  undisclosed           49438 non-null  float64\n",
            " 22  convertible_note      49438 non-null  float64\n",
            " 23  debt_financing        49438 non-null  float64\n",
            " 24  angel                 49438 non-null  float64\n",
            " 25  grant                 49438 non-null  float64\n",
            " 26  private_equity        49438 non-null  float64\n",
            " 27  post_ipo_equity       49438 non-null  float64\n",
            " 28  post_ipo_debt         49438 non-null  float64\n",
            " 29  secondary_market      49438 non-null  float64\n",
            " 30  product_crowdfunding  49438 non-null  float64\n",
            " 31  round_A               49438 non-null  float64\n",
            " 32  round_B               49438 non-null  float64\n",
            " 33  round_C               49438 non-null  float64\n",
            " 34  round_D               49438 non-null  float64\n",
            " 35  round_E               49438 non-null  float64\n",
            " 36  round_F               49438 non-null  float64\n",
            " 37  round_G               49438 non-null  float64\n",
            " 38  round_H               49438 non-null  float64\n",
            "dtypes: float64(23), object(16)\n",
            "memory usage: 16.2+ MB\n"
          ],
          "name": "stdout"
        }
      ]
    },
    {
      "cell_type": "code",
      "metadata": {
        "id": "gJJTgrzXAnkW",
        "colab": {
          "base_uri": "https://localhost:8080/"
        },
        "outputId": "732bb359-7110-418a-dc06-0f91f923b0ad"
      },
      "source": [
        "data.columns"
      ],
      "execution_count": null,
      "outputs": [
        {
          "output_type": "execute_result",
          "data": {
            "text/plain": [
              "Index(['permalink', 'name', 'homepage_url', 'category_list', ' market ',\n",
              "       ' funding_total_usd ', 'status', 'country_code', 'state_code', 'region',\n",
              "       'city', 'funding_rounds', 'founded_at', 'founded_month',\n",
              "       'founded_quarter', 'founded_year', 'first_funding_at',\n",
              "       'last_funding_at', 'seed', 'venture', 'equity_crowdfunding',\n",
              "       'undisclosed', 'convertible_note', 'debt_financing', 'angel', 'grant',\n",
              "       'private_equity', 'post_ipo_equity', 'post_ipo_debt',\n",
              "       'secondary_market', 'product_crowdfunding', 'round_A', 'round_B',\n",
              "       'round_C', 'round_D', 'round_E', 'round_F', 'round_G', 'round_H'],\n",
              "      dtype='object')"
            ]
          },
          "metadata": {
            "tags": []
          },
          "execution_count": 8
        }
      ]
    },
    {
      "cell_type": "code",
      "metadata": {
        "colab": {
          "base_uri": "https://localhost:8080/"
        },
        "id": "vU1hLgNxyxKC",
        "outputId": "89ee33b8-9d46-446c-fc2c-16a52983907a"
      },
      "source": [
        "missing_data = data.isnull()\n",
        "\n",
        "for column in missing_data.columns.values.tolist():\n",
        " print (column)\n",
        " print (missing_data[column].value_counts())\n",
        " print(\"\")  "
      ],
      "execution_count": null,
      "outputs": [
        {
          "output_type": "stream",
          "text": [
            "permalink\n",
            "False    49438\n",
            "True      4856\n",
            "Name: permalink, dtype: int64\n",
            "\n",
            "name\n",
            "False    49437\n",
            "True      4857\n",
            "Name: name, dtype: int64\n",
            "\n",
            "homepage_url\n",
            "False    45989\n",
            "True      8305\n",
            "Name: homepage_url, dtype: int64\n",
            "\n",
            "category_list\n",
            "False    45477\n",
            "True      8817\n",
            "Name: category_list, dtype: int64\n",
            "\n",
            " market \n",
            "False    45470\n",
            "True      8824\n",
            "Name:  market , dtype: int64\n",
            "\n",
            " funding_total_usd \n",
            "False    49438\n",
            "True      4856\n",
            "Name:  funding_total_usd , dtype: int64\n",
            "\n",
            "status\n",
            "False    48124\n",
            "True      6170\n",
            "Name: status, dtype: int64\n",
            "\n",
            "country_code\n",
            "False    44165\n",
            "True     10129\n",
            "Name: country_code, dtype: int64\n",
            "\n",
            "state_code\n",
            "False    30161\n",
            "True     24133\n",
            "Name: state_code, dtype: int64\n",
            "\n",
            "region\n",
            "False    44165\n",
            "True     10129\n",
            "Name: region, dtype: int64\n",
            "\n",
            "city\n",
            "False    43322\n",
            "True     10972\n",
            "Name: city, dtype: int64\n",
            "\n",
            "funding_rounds\n",
            "False    49438\n",
            "True      4856\n",
            "Name: funding_rounds, dtype: int64\n",
            "\n",
            "founded_at\n",
            "False    38554\n",
            "True     15740\n",
            "Name: founded_at, dtype: int64\n",
            "\n",
            "founded_month\n",
            "False    38482\n",
            "True     15812\n",
            "Name: founded_month, dtype: int64\n",
            "\n",
            "founded_quarter\n",
            "False    38482\n",
            "True     15812\n",
            "Name: founded_quarter, dtype: int64\n",
            "\n",
            "founded_year\n",
            "False    38482\n",
            "True     15812\n",
            "Name: founded_year, dtype: int64\n",
            "\n",
            "first_funding_at\n",
            "False    49438\n",
            "True      4856\n",
            "Name: first_funding_at, dtype: int64\n",
            "\n",
            "last_funding_at\n",
            "False    49438\n",
            "True      4856\n",
            "Name: last_funding_at, dtype: int64\n",
            "\n",
            "seed\n",
            "False    49438\n",
            "True      4856\n",
            "Name: seed, dtype: int64\n",
            "\n",
            "venture\n",
            "False    49438\n",
            "True      4856\n",
            "Name: venture, dtype: int64\n",
            "\n",
            "equity_crowdfunding\n",
            "False    49438\n",
            "True      4856\n",
            "Name: equity_crowdfunding, dtype: int64\n",
            "\n",
            "undisclosed\n",
            "False    49438\n",
            "True      4856\n",
            "Name: undisclosed, dtype: int64\n",
            "\n",
            "convertible_note\n",
            "False    49438\n",
            "True      4856\n",
            "Name: convertible_note, dtype: int64\n",
            "\n",
            "debt_financing\n",
            "False    49438\n",
            "True      4856\n",
            "Name: debt_financing, dtype: int64\n",
            "\n",
            "angel\n",
            "False    49438\n",
            "True      4856\n",
            "Name: angel, dtype: int64\n",
            "\n",
            "grant\n",
            "False    49438\n",
            "True      4856\n",
            "Name: grant, dtype: int64\n",
            "\n",
            "private_equity\n",
            "False    49438\n",
            "True      4856\n",
            "Name: private_equity, dtype: int64\n",
            "\n",
            "post_ipo_equity\n",
            "False    49438\n",
            "True      4856\n",
            "Name: post_ipo_equity, dtype: int64\n",
            "\n",
            "post_ipo_debt\n",
            "False    49438\n",
            "True      4856\n",
            "Name: post_ipo_debt, dtype: int64\n",
            "\n",
            "secondary_market\n",
            "False    49438\n",
            "True      4856\n",
            "Name: secondary_market, dtype: int64\n",
            "\n",
            "product_crowdfunding\n",
            "False    49438\n",
            "True      4856\n",
            "Name: product_crowdfunding, dtype: int64\n",
            "\n",
            "round_A\n",
            "False    49438\n",
            "True      4856\n",
            "Name: round_A, dtype: int64\n",
            "\n",
            "round_B\n",
            "False    49438\n",
            "True      4856\n",
            "Name: round_B, dtype: int64\n",
            "\n",
            "round_C\n",
            "False    49438\n",
            "True      4856\n",
            "Name: round_C, dtype: int64\n",
            "\n",
            "round_D\n",
            "False    49438\n",
            "True      4856\n",
            "Name: round_D, dtype: int64\n",
            "\n",
            "round_E\n",
            "False    49438\n",
            "True      4856\n",
            "Name: round_E, dtype: int64\n",
            "\n",
            "round_F\n",
            "False    49438\n",
            "True      4856\n",
            "Name: round_F, dtype: int64\n",
            "\n",
            "round_G\n",
            "False    49438\n",
            "True      4856\n",
            "Name: round_G, dtype: int64\n",
            "\n",
            "round_H\n",
            "False    49438\n",
            "True      4856\n",
            "Name: round_H, dtype: int64\n",
            "\n"
          ],
          "name": "stdout"
        }
      ]
    },
    {
      "cell_type": "code",
      "metadata": {
        "colab": {
          "base_uri": "https://localhost:8080/"
        },
        "id": "KGEgXMioy8dn",
        "outputId": "2de09754-51fe-45d3-fc6e-15727ff5974c"
      },
      "source": [
        "#closer look on value count on each feature  \n",
        "for n in data.columns.values.tolist():\n",
        "    print(n)\n",
        "    print (data[n].value_counts())\n",
        "    print(\"\")  "
      ],
      "execution_count": null,
      "outputs": [
        {
          "output_type": "stream",
          "text": [
            "permalink\n",
            "/organization/treasure-valley-urology-services    2\n",
            "/organization/prysm                               2\n",
            "/organization/business-insider                    1\n",
            "/organization/busy-moos                           1\n",
            "/organization/accumed-technologies                1\n",
            "                                                 ..\n",
            "/organization/burstmedia                          1\n",
            "/organization/mobile-media-content                1\n",
            "/organization/pureenergy-solutions                1\n",
            "/organization/c4m                                 1\n",
            "/organization/microbix-biosystems                 1\n",
            "Name: permalink, Length: 49436, dtype: int64\n",
            "\n",
            "name\n",
            "Spire                4\n",
            "Roost                4\n",
            "Hubbub               3\n",
            "Peach                3\n",
            "Roadmap              3\n",
            "                    ..\n",
            "Preventicus GmbH     1\n",
            "Pyreos               1\n",
            "Springest            1\n",
            "Huaxia Dairy Farm    1\n",
            "Metrilus             1\n",
            "Name: name, Length: 49350, dtype: int64\n",
            "\n",
            "homepage_url\n",
            "http://www.touchofmodern.com    2\n",
            "http://www.cirqle.nl/           2\n",
            "http://www.adapt.com            2\n",
            "http://www.indiegogo.com        2\n",
            "http://newhive.com              2\n",
            "                               ..\n",
            "http://www.entreda.com          1\n",
            "http://www.wedspire.com/        1\n",
            "http://www.doocuments.com       1\n",
            "http://www.tripology.com        1\n",
            "http://www.plandree.com         1\n",
            "Name: homepage_url, Length: 45850, dtype: int64\n",
            "\n",
            "category_list\n",
            "|Software|                                                                      3650\n",
            "|Biotechnology|                                                                 3597\n",
            "|E-Commerce|                                                                    1263\n",
            "|Mobile|                                                                        1211\n",
            "|Curated Web|                                                                   1120\n",
            "                                                                                ... \n",
            "|Unifed Communications|Web Hosting|Networking|                                     1\n",
            "|Internet Marketing|Content Creators|Film Production|Video|Video Processing|       1\n",
            "|Marketing Automation|SaaS|Advertising|                                            1\n",
            "|Networking|Hardware + Software|Databases|Security|                                1\n",
            "|Android|iOS|Apps|Startups|Cars|Automotive|Auto|E-Commerce|                        1\n",
            "Name: category_list, Length: 16675, dtype: int64\n",
            "\n",
            " market \n",
            " Software             4620\n",
            " Biotechnology        3688\n",
            " Mobile               1983\n",
            " E-Commerce           1805\n",
            " Curated Web          1655\n",
            "                      ... \n",
            " Low Bid Auctions        1\n",
            " Natural Gas Uses        1\n",
            " Enterprise 2.0          1\n",
            " Debt Collecting         1\n",
            " Motors                  1\n",
            "Name:  market , Length: 753, dtype: int64\n",
            "\n",
            " funding_total_usd \n",
            " -               8531\n",
            " 10,00,000        925\n",
            " 5,00,000         761\n",
            " 1,00,000         749\n",
            " 40,000           680\n",
            "                 ... \n",
            " 1,14,99,293        1\n",
            " 5,75,001           1\n",
            " 3,35,068           1\n",
            " 27,01,860          1\n",
            " 1,78,486           1\n",
            "Name:  funding_total_usd , Length: 14617, dtype: int64\n",
            "\n",
            "status\n",
            "operating    41829\n",
            "acquired      3692\n",
            "closed        2603\n",
            "Name: status, dtype: int64\n",
            "\n",
            "country_code\n",
            "USA    28793\n",
            "GBR     2642\n",
            "CAN     1405\n",
            "CHN     1239\n",
            "DEU      968\n",
            "       ...  \n",
            "LIE        1\n",
            "SYC        1\n",
            "CIV        1\n",
            "JAM        1\n",
            "MOZ        1\n",
            "Name: country_code, Length: 115, dtype: int64\n",
            "\n",
            "state_code\n",
            "CA    9917\n",
            "NY    2914\n",
            "MA    1969\n",
            "TX    1466\n",
            "WA     974\n",
            "      ... \n",
            "MB      13\n",
            "AK      12\n",
            "NB       8\n",
            "SK       4\n",
            "PE       2\n",
            "Name: state_code, Length: 61, dtype: int64\n",
            "\n",
            "region\n",
            "SF Bay Area            6804\n",
            "New York City          2577\n",
            "Boston                 1837\n",
            "London                 1588\n",
            "Los Angeles            1389\n",
            "                       ... \n",
            "Baja California Sur       1\n",
            "Simferopol                1\n",
            "Truro                     1\n",
            "Maple Ridge               1\n",
            "Enfield Lock              1\n",
            "Name: region, Length: 1089, dtype: int64\n",
            "\n",
            "city\n",
            "San Francisco                     2615\n",
            "New York                          2334\n",
            "London                            1257\n",
            "Palo Alto                          597\n",
            "Austin                             583\n",
            "                                  ... \n",
            "Rock Hill                            1\n",
            "Lorca                                1\n",
            "Armadale                             1\n",
            "Bridgehampton                        1\n",
            "Saint-Étienne-vallée-française       1\n",
            "Name: city, Length: 4188, dtype: int64\n",
            "\n",
            "funding_rounds\n",
            "1.0     32039\n",
            "2.0      9219\n",
            "3.0      4026\n",
            "4.0      1997\n",
            "5.0      1001\n",
            "6.0       560\n",
            "7.0       252\n",
            "8.0       152\n",
            "9.0        84\n",
            "10.0       43\n",
            "11.0       35\n",
            "12.0       12\n",
            "13.0        8\n",
            "15.0        4\n",
            "14.0        4\n",
            "16.0        1\n",
            "18.0        1\n",
            "Name: funding_rounds, dtype: int64\n",
            "\n",
            "founded_at\n",
            "2012-01-01    2181\n",
            "2011-01-01    2161\n",
            "2010-01-01    1855\n",
            "2009-01-01    1603\n",
            "2013-01-01    1575\n",
            "              ... \n",
            "2003-05-18       1\n",
            "2008-11-05       1\n",
            "2001-07-24       1\n",
            "2006-02-17       1\n",
            "2002-01-17       1\n",
            "Name: founded_at, Length: 3369, dtype: int64\n",
            "\n",
            "founded_month\n",
            "2012-01    2327\n",
            "2011-01    2286\n",
            "2010-01    1952\n",
            "2013-01    1722\n",
            "2009-01    1655\n",
            "           ... \n",
            "1985-06       1\n",
            "1922-07       1\n",
            "1984-05       1\n",
            "1994-03       1\n",
            "1988-06       1\n",
            "Name: founded_month, Length: 420, dtype: int64\n",
            "\n",
            "founded_quarter\n",
            "2012-Q1    2904\n",
            "2011-Q1    2768\n",
            "2010-Q1    2259\n",
            "2013-Q1    2206\n",
            "2009-Q1    1852\n",
            "           ... \n",
            "1970-Q2       1\n",
            "1939-Q1       1\n",
            "1925-Q1       1\n",
            "1969-Q3       1\n",
            "1917-Q1       1\n",
            "Name: founded_quarter, Length: 218, dtype: int64\n",
            "\n",
            "founded_year\n",
            "2012.0    5211\n",
            "2011.0    4905\n",
            "2013.0    4044\n",
            "2010.0    3773\n",
            "2009.0    2979\n",
            "          ... \n",
            "1907.0       1\n",
            "1905.0       1\n",
            "1903.0       1\n",
            "1918.0       1\n",
            "1920.0       1\n",
            "Name: founded_year, Length: 103, dtype: int64\n",
            "\n",
            "first_funding_at\n",
            "2012-01-01    468\n",
            "2013-01-01    463\n",
            "2008-01-01    422\n",
            "2011-01-01    392\n",
            "2007-01-01    342\n",
            "             ... \n",
            "2009-12-19      1\n",
            "2001-09-10      1\n",
            "2002-12-06      1\n",
            "2007-03-17      1\n",
            "2007-01-28      1\n",
            "Name: first_funding_at, Length: 3914, dtype: int64\n",
            "\n",
            "last_funding_at\n",
            "2013-01-01    387\n",
            "2014-01-01    364\n",
            "2012-01-01    348\n",
            "2008-01-01    302\n",
            "2011-01-01    272\n",
            "             ... \n",
            "2009-12-05      1\n",
            "2005-06-30      1\n",
            "2005-12-17      1\n",
            "1996-08-01      1\n",
            "2005-02-08      1\n",
            "Name: last_funding_at, Length: 3657, dtype: int64\n",
            "\n",
            "seed\n",
            "0.0          35598\n",
            "40000.0        654\n",
            "1000000.0      570\n",
            "500000.0       543\n",
            "100000.0       538\n",
            "             ...  \n",
            "315317.0         1\n",
            "51701.0          1\n",
            "190417.0         1\n",
            "78820.0          1\n",
            "3008970.0        1\n",
            "Name: seed, Length: 3337, dtype: int64\n",
            "\n",
            "venture\n",
            "0.0            26161\n",
            "10000000.0       493\n",
            "5000000.0        487\n",
            "1000000.0        470\n",
            "2000000.0        422\n",
            "               ...  \n",
            "697065.0           1\n",
            "178450000.0        1\n",
            "566000.0           1\n",
            "12201999.0         1\n",
            "7598390.0          1\n",
            "Name: venture, Length: 9300, dtype: int64\n",
            "\n",
            "equity_crowdfunding\n",
            "0.0           48916\n",
            "100000.0         22\n",
            "50000.0          19\n",
            "1000.0           16\n",
            "10000.0          14\n",
            "              ...  \n",
            "10020000.0        1\n",
            "300.0             1\n",
            "1250000.0         1\n",
            "290000.0          1\n",
            "540.0             1\n",
            "Name: equity_crowdfunding, Length: 252, dtype: int64\n",
            "\n",
            "undisclosed\n",
            "0.0          48486\n",
            "500000.0        20\n",
            "1000000.0       18\n",
            "100000.0        18\n",
            "2000000.0       16\n",
            "             ...  \n",
            "5034690.0        1\n",
            "445588.0         1\n",
            "239173.0         1\n",
            "190016.0         1\n",
            "750565.0         1\n",
            "Name: undisclosed, Length: 687, dtype: int64\n",
            "\n",
            "convertible_note\n",
            "0.0          48881\n",
            "500000.0        20\n",
            "100000.0        20\n",
            "50000.0         15\n",
            "1000000.0       15\n",
            "             ...  \n",
            "444334.0         1\n",
            "1120500.0        1\n",
            "35000.0          1\n",
            "1643000.0        1\n",
            "2027669.0        1\n",
            "Name: convertible_note, Length: 299, dtype: int64\n",
            "\n",
            "debt_financing\n",
            "0.0          45213\n",
            "1000000.0      117\n",
            "500000.0        99\n",
            "100000.0        92\n",
            "2000000.0       86\n",
            "             ...  \n",
            "823069.0         1\n",
            "3641000.0        1\n",
            "1253000.0        1\n",
            "561000.0         1\n",
            "3537825.0        1\n",
            "Name: debt_financing, Length: 1872, dtype: int64\n",
            "\n",
            "angel\n",
            "0.0          46309\n",
            "500000.0       195\n",
            "1000000.0      189\n",
            "100000.0       123\n",
            "250000.0       119\n",
            "             ...  \n",
            "47619.0          1\n",
            "174000.0         1\n",
            "1785000.0        1\n",
            "1391700.0        1\n",
            "870000.0         1\n",
            "Name: angel, Length: 999, dtype: int64\n",
            "\n",
            "grant\n",
            "0.0          48296\n",
            "25000.0         37\n",
            "50000.0         36\n",
            "40000.0         33\n",
            "100000.0        33\n",
            "             ...  \n",
            "264000.0         1\n",
            "410172.0         1\n",
            "38999.0          1\n",
            "7090000.0        1\n",
            "9214.0           1\n",
            "Name: grant, Length: 532, dtype: int64\n",
            "\n",
            "private_equity\n",
            "0.0            48065\n",
            "100000000.0       39\n",
            "5000000.0         30\n",
            "10000000.0        22\n",
            "20000000.0        18\n",
            "               ...  \n",
            "79003.0            1\n",
            "255000000.0        1\n",
            "4530000.0          1\n",
            "1025000.0          1\n",
            "226785400.0        1\n",
            "Name: private_equity, Length: 847, dtype: int64\n",
            "\n",
            "post_ipo_equity\n",
            "0.0            49122\n",
            "20000000.0         8\n",
            "10000000.0         7\n",
            "5000000.0          7\n",
            "12000000.0         6\n",
            "               ...  \n",
            "48700000.0         1\n",
            "89000000.0         1\n",
            "24345292.0         1\n",
            "422921270.0        1\n",
            "1900000.0          1\n",
            "Name: post_ipo_equity, Length: 239, dtype: int64\n",
            "\n",
            "post_ipo_debt\n",
            "0.000000e+00    49363\n",
            "1.000000e+07        4\n",
            "5.000000e+06        4\n",
            "1.500000e+08        3\n",
            "3.000000e+07        3\n",
            "2.000000e+07        3\n",
            "3.500000e+07        3\n",
            "2.500000e+07        3\n",
            "5.000000e+07        2\n",
            "5.000000e+08        2\n",
            "2.000000e+06        2\n",
            "1.500000e+07        1\n",
            "7.498349e+06        1\n",
            "6.000000e+07        1\n",
            "3.200000e+07        1\n",
            "2.223000e+08        1\n",
            "2.390000e+08        1\n",
            "1.500000e+06        1\n",
            "8.000000e+05        1\n",
            "3.000000e+05        1\n",
            "8.000000e+08        1\n",
            "1.900000e+09        1\n",
            "7.000000e+07        1\n",
            "7.500000e+07        1\n",
            "2.200000e+07        1\n",
            "4.300000e+05        1\n",
            "9.075000e+04        1\n",
            "3.500000e+09        1\n",
            "5.800000e+09        1\n",
            "5.900000e+05        1\n",
            "1.200000e+07        1\n",
            "1.150000e+07        1\n",
            "3.500000e+06        1\n",
            "9.200000e+08        1\n",
            "1.200000e+08        1\n",
            "2.700000e+07        1\n",
            "2.000000e+09        1\n",
            "7.250000e+08        1\n",
            "3.100000e+07        1\n",
            "2.400000e+08        1\n",
            "1.055750e+09        1\n",
            "4.500000e+07        1\n",
            "6.000000e+08        1\n",
            "5.100000e+06        1\n",
            "5.300000e+07        1\n",
            "1.100000e+06        1\n",
            "3.900000e+08        1\n",
            "2.103847e+08        1\n",
            "3.000000e+08        1\n",
            "9.663821e+07        1\n",
            "8.820564e+07        1\n",
            "6.500000e+07        1\n",
            "5.500000e+06        1\n",
            "1.990000e+07        1\n",
            "7.500000e+06        1\n",
            "2.400000e+07        1\n",
            "1.750000e+08        1\n",
            "Name: post_ipo_debt, dtype: int64\n",
            "\n",
            "secondary_market\n",
            "0.0            49419\n",
            "200000000.0        1\n",
            "7343789.0          1\n",
            "20000000.0         1\n",
            "12500000.0         1\n",
            "126700000.0        1\n",
            "680611554.0        1\n",
            "400000000.0        1\n",
            "63750000.0         1\n",
            "19300000.0         1\n",
            "4700000.0          1\n",
            "78800355.0         1\n",
            "210000000.0        1\n",
            "2500000.0          1\n",
            "156929.0           1\n",
            "700000.0           1\n",
            "7718867.0          1\n",
            "6192396.0          1\n",
            "210000.0           1\n",
            "60000000.0         1\n",
            "Name: secondary_market, dtype: int64\n",
            "\n",
            "product_crowdfunding\n",
            "0.0          49225\n",
            "1000000.0        7\n",
            "500000.0         6\n",
            "100000.0         5\n",
            "600000.0         4\n",
            "             ...  \n",
            "17693.0          1\n",
            "174253.0         1\n",
            "95238.0          1\n",
            "16000.0          1\n",
            "557000.0         1\n",
            "Name: product_crowdfunding, Length: 176, dtype: int64\n",
            "\n",
            "round_A\n",
            "0.0           40435\n",
            "5000000.0       525\n",
            "3000000.0       378\n",
            "2000000.0       372\n",
            "10000000.0      324\n",
            "              ...  \n",
            "2498400.0         1\n",
            "755700.0          1\n",
            "6570000.0         1\n",
            "1904761.0         1\n",
            "4969429.0         1\n",
            "Name: round_A, Length: 2035, dtype: int64\n",
            "\n",
            "round_B\n",
            "0.0           43991\n",
            "10000000.0      391\n",
            "15000000.0      206\n",
            "8000000.0       201\n",
            "5000000.0       184\n",
            "              ...  \n",
            "4086441.0         1\n",
            "825000.0          1\n",
            "12150000.0        1\n",
            "955943.0          1\n",
            "5501029.0         1\n",
            "Name: round_B, Length: 1269, dtype: int64\n",
            "\n",
            "round_C\n",
            "0.0           46601\n",
            "10000000.0      164\n",
            "15000000.0      159\n",
            "20000000.0      129\n",
            "25000000.0       97\n",
            "              ...  \n",
            "2200000.0         1\n",
            "35632090.0        1\n",
            "22720000.0        1\n",
            "48218802.0        1\n",
            "2620442.0         1\n",
            "Name: round_C, Length: 740, dtype: int64\n",
            "\n",
            "round_D\n",
            "0.0            48150\n",
            "10000000.0        67\n",
            "20000000.0        64\n",
            "15000000.0        59\n",
            "12000000.0        44\n",
            "               ...  \n",
            "4700000.0          1\n",
            "40800000.0         1\n",
            "10100000.0         1\n",
            "106000000.0        1\n",
            "43950544.0         1\n",
            "Name: round_D, Length: 458, dtype: int64\n",
            "\n",
            "round_E\n",
            "0.0            48922\n",
            "20000000.0        24\n",
            "25000000.0        20\n",
            "10000000.0        17\n",
            "30000000.0        17\n",
            "               ...  \n",
            "9150000.0          1\n",
            "10024997.0         1\n",
            "40099568.0         1\n",
            "20029000.0         1\n",
            "175445382.0        1\n",
            "Name: round_E, Length: 225, dtype: int64\n",
            "\n",
            "round_F\n",
            "0.0            49266\n",
            "20000000.0        12\n",
            "50000000.0         9\n",
            "40000000.0         7\n",
            "25000000.0         6\n",
            "               ...  \n",
            "3800204.0          1\n",
            "210000000.0        1\n",
            "286000000.0        1\n",
            "15500000.0         1\n",
            "109000000.0        1\n",
            "Name: round_F, Length: 110, dtype: int64\n",
            "\n",
            "round_G\n",
            "0.000000e+00    49404\n",
            "1.000000e+07        3\n",
            "2.500000e+07        2\n",
            "6.998544e+07        1\n",
            "6.300000e+07        1\n",
            "6.000000e+07        1\n",
            "1.900000e+07        1\n",
            "2.950000e+07        1\n",
            "3.700000e+06        1\n",
            "5.000000e+07        1\n",
            "6.937919e+06        1\n",
            "1.720000e+08        1\n",
            "3.000000e+07        1\n",
            "6.800000e+06        1\n",
            "4.000000e+08        1\n",
            "1.608457e+07        1\n",
            "1.700000e+06        1\n",
            "1.250000e+07        1\n",
            "2.170000e+07        1\n",
            "5.600000e+07        1\n",
            "2.600000e+07        1\n",
            "3.500000e+08        1\n",
            "1.000000e+08        1\n",
            "8.184270e+05        1\n",
            "8.199999e+06        1\n",
            "4.089011e+07        1\n",
            "1.500000e+07        1\n",
            "7.366771e+07        1\n",
            "9.900000e+07        1\n",
            "3.638297e+06        1\n",
            "1.000000e+09        1\n",
            "3.500000e+07        1\n",
            "Name: round_G, dtype: int64\n",
            "\n",
            "round_H\n",
            "0.0            49434\n",
            "600000000.0        1\n",
            "50000000.0         1\n",
            "4600000.0          1\n",
            "49000000.0         1\n",
            "Name: round_H, dtype: int64\n",
            "\n"
          ],
          "name": "stdout"
        }
      ]
    },
    {
      "cell_type": "code",
      "metadata": {
        "colab": {
          "base_uri": "https://localhost:8080/",
          "height": 217
        },
        "id": "KoO38e44JaGo",
        "outputId": "c5c0be96-019a-4a07-868b-daac1b187b07"
      },
      "source": [
        "data.tail(5)"
      ],
      "execution_count": null,
      "outputs": [
        {
          "output_type": "execute_result",
          "data": {
            "text/html": [
              "<div>\n",
              "<style scoped>\n",
              "    .dataframe tbody tr th:only-of-type {\n",
              "        vertical-align: middle;\n",
              "    }\n",
              "\n",
              "    .dataframe tbody tr th {\n",
              "        vertical-align: top;\n",
              "    }\n",
              "\n",
              "    .dataframe thead th {\n",
              "        text-align: right;\n",
              "    }\n",
              "</style>\n",
              "<table border=\"1\" class=\"dataframe\">\n",
              "  <thead>\n",
              "    <tr style=\"text-align: right;\">\n",
              "      <th></th>\n",
              "      <th>permalink</th>\n",
              "      <th>name</th>\n",
              "      <th>homepage_url</th>\n",
              "      <th>category_list</th>\n",
              "      <th>market</th>\n",
              "      <th>funding_total_usd</th>\n",
              "      <th>status</th>\n",
              "      <th>country_code</th>\n",
              "      <th>state_code</th>\n",
              "      <th>region</th>\n",
              "      <th>city</th>\n",
              "      <th>funding_rounds</th>\n",
              "      <th>founded_at</th>\n",
              "      <th>founded_month</th>\n",
              "      <th>founded_quarter</th>\n",
              "      <th>founded_year</th>\n",
              "      <th>first_funding_at</th>\n",
              "      <th>last_funding_at</th>\n",
              "      <th>seed</th>\n",
              "      <th>venture</th>\n",
              "      <th>equity_crowdfunding</th>\n",
              "      <th>undisclosed</th>\n",
              "      <th>convertible_note</th>\n",
              "      <th>debt_financing</th>\n",
              "      <th>angel</th>\n",
              "      <th>grant</th>\n",
              "      <th>private_equity</th>\n",
              "      <th>post_ipo_equity</th>\n",
              "      <th>post_ipo_debt</th>\n",
              "      <th>secondary_market</th>\n",
              "      <th>product_crowdfunding</th>\n",
              "      <th>round_A</th>\n",
              "      <th>round_B</th>\n",
              "      <th>round_C</th>\n",
              "      <th>round_D</th>\n",
              "      <th>round_E</th>\n",
              "      <th>round_F</th>\n",
              "      <th>round_G</th>\n",
              "      <th>round_H</th>\n",
              "    </tr>\n",
              "  </thead>\n",
              "  <tbody>\n",
              "    <tr>\n",
              "      <th>54289</th>\n",
              "      <td>NaN</td>\n",
              "      <td>NaN</td>\n",
              "      <td>NaN</td>\n",
              "      <td>NaN</td>\n",
              "      <td>NaN</td>\n",
              "      <td>NaN</td>\n",
              "      <td>NaN</td>\n",
              "      <td>NaN</td>\n",
              "      <td>NaN</td>\n",
              "      <td>NaN</td>\n",
              "      <td>NaN</td>\n",
              "      <td>NaN</td>\n",
              "      <td>NaN</td>\n",
              "      <td>NaN</td>\n",
              "      <td>NaN</td>\n",
              "      <td>NaN</td>\n",
              "      <td>NaN</td>\n",
              "      <td>NaN</td>\n",
              "      <td>NaN</td>\n",
              "      <td>NaN</td>\n",
              "      <td>NaN</td>\n",
              "      <td>NaN</td>\n",
              "      <td>NaN</td>\n",
              "      <td>NaN</td>\n",
              "      <td>NaN</td>\n",
              "      <td>NaN</td>\n",
              "      <td>NaN</td>\n",
              "      <td>NaN</td>\n",
              "      <td>NaN</td>\n",
              "      <td>NaN</td>\n",
              "      <td>NaN</td>\n",
              "      <td>NaN</td>\n",
              "      <td>NaN</td>\n",
              "      <td>NaN</td>\n",
              "      <td>NaN</td>\n",
              "      <td>NaN</td>\n",
              "      <td>NaN</td>\n",
              "      <td>NaN</td>\n",
              "      <td>NaN</td>\n",
              "    </tr>\n",
              "    <tr>\n",
              "      <th>54290</th>\n",
              "      <td>NaN</td>\n",
              "      <td>NaN</td>\n",
              "      <td>NaN</td>\n",
              "      <td>NaN</td>\n",
              "      <td>NaN</td>\n",
              "      <td>NaN</td>\n",
              "      <td>NaN</td>\n",
              "      <td>NaN</td>\n",
              "      <td>NaN</td>\n",
              "      <td>NaN</td>\n",
              "      <td>NaN</td>\n",
              "      <td>NaN</td>\n",
              "      <td>NaN</td>\n",
              "      <td>NaN</td>\n",
              "      <td>NaN</td>\n",
              "      <td>NaN</td>\n",
              "      <td>NaN</td>\n",
              "      <td>NaN</td>\n",
              "      <td>NaN</td>\n",
              "      <td>NaN</td>\n",
              "      <td>NaN</td>\n",
              "      <td>NaN</td>\n",
              "      <td>NaN</td>\n",
              "      <td>NaN</td>\n",
              "      <td>NaN</td>\n",
              "      <td>NaN</td>\n",
              "      <td>NaN</td>\n",
              "      <td>NaN</td>\n",
              "      <td>NaN</td>\n",
              "      <td>NaN</td>\n",
              "      <td>NaN</td>\n",
              "      <td>NaN</td>\n",
              "      <td>NaN</td>\n",
              "      <td>NaN</td>\n",
              "      <td>NaN</td>\n",
              "      <td>NaN</td>\n",
              "      <td>NaN</td>\n",
              "      <td>NaN</td>\n",
              "      <td>NaN</td>\n",
              "    </tr>\n",
              "    <tr>\n",
              "      <th>54291</th>\n",
              "      <td>NaN</td>\n",
              "      <td>NaN</td>\n",
              "      <td>NaN</td>\n",
              "      <td>NaN</td>\n",
              "      <td>NaN</td>\n",
              "      <td>NaN</td>\n",
              "      <td>NaN</td>\n",
              "      <td>NaN</td>\n",
              "      <td>NaN</td>\n",
              "      <td>NaN</td>\n",
              "      <td>NaN</td>\n",
              "      <td>NaN</td>\n",
              "      <td>NaN</td>\n",
              "      <td>NaN</td>\n",
              "      <td>NaN</td>\n",
              "      <td>NaN</td>\n",
              "      <td>NaN</td>\n",
              "      <td>NaN</td>\n",
              "      <td>NaN</td>\n",
              "      <td>NaN</td>\n",
              "      <td>NaN</td>\n",
              "      <td>NaN</td>\n",
              "      <td>NaN</td>\n",
              "      <td>NaN</td>\n",
              "      <td>NaN</td>\n",
              "      <td>NaN</td>\n",
              "      <td>NaN</td>\n",
              "      <td>NaN</td>\n",
              "      <td>NaN</td>\n",
              "      <td>NaN</td>\n",
              "      <td>NaN</td>\n",
              "      <td>NaN</td>\n",
              "      <td>NaN</td>\n",
              "      <td>NaN</td>\n",
              "      <td>NaN</td>\n",
              "      <td>NaN</td>\n",
              "      <td>NaN</td>\n",
              "      <td>NaN</td>\n",
              "      <td>NaN</td>\n",
              "    </tr>\n",
              "    <tr>\n",
              "      <th>54292</th>\n",
              "      <td>NaN</td>\n",
              "      <td>NaN</td>\n",
              "      <td>NaN</td>\n",
              "      <td>NaN</td>\n",
              "      <td>NaN</td>\n",
              "      <td>NaN</td>\n",
              "      <td>NaN</td>\n",
              "      <td>NaN</td>\n",
              "      <td>NaN</td>\n",
              "      <td>NaN</td>\n",
              "      <td>NaN</td>\n",
              "      <td>NaN</td>\n",
              "      <td>NaN</td>\n",
              "      <td>NaN</td>\n",
              "      <td>NaN</td>\n",
              "      <td>NaN</td>\n",
              "      <td>NaN</td>\n",
              "      <td>NaN</td>\n",
              "      <td>NaN</td>\n",
              "      <td>NaN</td>\n",
              "      <td>NaN</td>\n",
              "      <td>NaN</td>\n",
              "      <td>NaN</td>\n",
              "      <td>NaN</td>\n",
              "      <td>NaN</td>\n",
              "      <td>NaN</td>\n",
              "      <td>NaN</td>\n",
              "      <td>NaN</td>\n",
              "      <td>NaN</td>\n",
              "      <td>NaN</td>\n",
              "      <td>NaN</td>\n",
              "      <td>NaN</td>\n",
              "      <td>NaN</td>\n",
              "      <td>NaN</td>\n",
              "      <td>NaN</td>\n",
              "      <td>NaN</td>\n",
              "      <td>NaN</td>\n",
              "      <td>NaN</td>\n",
              "      <td>NaN</td>\n",
              "    </tr>\n",
              "    <tr>\n",
              "      <th>54293</th>\n",
              "      <td>NaN</td>\n",
              "      <td>NaN</td>\n",
              "      <td>NaN</td>\n",
              "      <td>NaN</td>\n",
              "      <td>NaN</td>\n",
              "      <td>NaN</td>\n",
              "      <td>NaN</td>\n",
              "      <td>NaN</td>\n",
              "      <td>NaN</td>\n",
              "      <td>NaN</td>\n",
              "      <td>NaN</td>\n",
              "      <td>NaN</td>\n",
              "      <td>NaN</td>\n",
              "      <td>NaN</td>\n",
              "      <td>NaN</td>\n",
              "      <td>NaN</td>\n",
              "      <td>NaN</td>\n",
              "      <td>NaN</td>\n",
              "      <td>NaN</td>\n",
              "      <td>NaN</td>\n",
              "      <td>NaN</td>\n",
              "      <td>NaN</td>\n",
              "      <td>NaN</td>\n",
              "      <td>NaN</td>\n",
              "      <td>NaN</td>\n",
              "      <td>NaN</td>\n",
              "      <td>NaN</td>\n",
              "      <td>NaN</td>\n",
              "      <td>NaN</td>\n",
              "      <td>NaN</td>\n",
              "      <td>NaN</td>\n",
              "      <td>NaN</td>\n",
              "      <td>NaN</td>\n",
              "      <td>NaN</td>\n",
              "      <td>NaN</td>\n",
              "      <td>NaN</td>\n",
              "      <td>NaN</td>\n",
              "      <td>NaN</td>\n",
              "      <td>NaN</td>\n",
              "    </tr>\n",
              "  </tbody>\n",
              "</table>\n",
              "</div>"
            ],
            "text/plain": [
              "      permalink name homepage_url  ... round_F round_G round_H\n",
              "54289       NaN  NaN          NaN  ...     NaN     NaN     NaN\n",
              "54290       NaN  NaN          NaN  ...     NaN     NaN     NaN\n",
              "54291       NaN  NaN          NaN  ...     NaN     NaN     NaN\n",
              "54292       NaN  NaN          NaN  ...     NaN     NaN     NaN\n",
              "54293       NaN  NaN          NaN  ...     NaN     NaN     NaN\n",
              "\n",
              "[5 rows x 39 columns]"
            ]
          },
          "metadata": {
            "tags": []
          },
          "execution_count": 11
        }
      ]
    },
    {
      "cell_type": "code",
      "metadata": {
        "colab": {
          "base_uri": "https://localhost:8080/"
        },
        "id": "htv3uHpLJlPk",
        "outputId": "16996f0b-d561-4292-c2da-5c5e90e14fbc"
      },
      "source": [
        "data.duplicated().sum()"
      ],
      "execution_count": null,
      "outputs": [
        {
          "output_type": "execute_result",
          "data": {
            "text/plain": [
              "4855"
            ]
          },
          "metadata": {
            "tags": []
          },
          "execution_count": 12
        }
      ]
    },
    {
      "cell_type": "markdown",
      "metadata": {
        "id": "Do1pp8YY0pQU"
      },
      "source": [
        "Seeing this we can say that the data has duplicates, missing values, and there's spacing in column 'market' and 'funding_total_usd'. "
      ]
    },
    {
      "cell_type": "markdown",
      "metadata": {
        "id": "XkNnJaTm0Ua5"
      },
      "source": [
        "# Data Preprocessing\n",
        "\n",
        "\n",
        "> 1. Fixing space in columns\n",
        "\n",
        "> 2. Remove Duplicates\n",
        "\n",
        "> 3. Change uncommon data format\n",
        "\n",
        "> 4. Handling other missing values\n",
        "\n",
        "> 5. Add target variable\n",
        "\n",
        "> 6. Change Object data type into numeric\n",
        "\n",
        "\n",
        "\n",
        "\n",
        "\n",
        "\n",
        "\n",
        "\n"
      ]
    },
    {
      "cell_type": "markdown",
      "metadata": {
        "id": "jhQy_--71D74"
      },
      "source": [
        "## 1. Fixing space in column\n",
        "\n",
        "\n",
        "---\n",
        "\n",
        "\n"
      ]
    },
    {
      "cell_type": "code",
      "metadata": {
        "id": "v91LBmqnRpx_"
      },
      "source": [
        "data = data[~data.name.isna()] #remove companies with no name"
      ],
      "execution_count": null,
      "outputs": []
    },
    {
      "cell_type": "code",
      "metadata": {
        "id": "nfGDskEMT7a3"
      },
      "source": [
        "data1 = data.copy()"
      ],
      "execution_count": null,
      "outputs": []
    },
    {
      "cell_type": "code",
      "metadata": {
        "id": "o1IZO11_0Zdo"
      },
      "source": [
        "data1.rename(columns= {' market ':'market', ' funding_total_usd ':'funding_total_usd' }, inplace= True)"
      ],
      "execution_count": null,
      "outputs": []
    },
    {
      "cell_type": "code",
      "metadata": {
        "colab": {
          "base_uri": "https://localhost:8080/"
        },
        "id": "Y_uml5as1pGU",
        "outputId": "f6870474-9173-4033-efba-ba8de6fae582"
      },
      "source": [
        "data1.info()"
      ],
      "execution_count": null,
      "outputs": [
        {
          "output_type": "stream",
          "text": [
            "<class 'pandas.core.frame.DataFrame'>\n",
            "Int64Index: 49437 entries, 0 to 49437\n",
            "Data columns (total 39 columns):\n",
            " #   Column                Non-Null Count  Dtype  \n",
            "---  ------                --------------  -----  \n",
            " 0   permalink             49437 non-null  object \n",
            " 1   name                  49437 non-null  object \n",
            " 2   homepage_url          45988 non-null  object \n",
            " 3   category_list         45476 non-null  object \n",
            " 4   market                45469 non-null  object \n",
            " 5   funding_total_usd     49437 non-null  object \n",
            " 6   status                48123 non-null  object \n",
            " 7   country_code          44165 non-null  object \n",
            " 8   state_code            30161 non-null  object \n",
            " 9   region                44165 non-null  object \n",
            " 10  city                  43322 non-null  object \n",
            " 11  funding_rounds        49437 non-null  float64\n",
            " 12  founded_at            38553 non-null  object \n",
            " 13  founded_month         38481 non-null  object \n",
            " 14  founded_quarter       38481 non-null  object \n",
            " 15  founded_year          38481 non-null  float64\n",
            " 16  first_funding_at      49437 non-null  object \n",
            " 17  last_funding_at       49437 non-null  object \n",
            " 18  seed                  49437 non-null  float64\n",
            " 19  venture               49437 non-null  float64\n",
            " 20  equity_crowdfunding   49437 non-null  float64\n",
            " 21  undisclosed           49437 non-null  float64\n",
            " 22  convertible_note      49437 non-null  float64\n",
            " 23  debt_financing        49437 non-null  float64\n",
            " 24  angel                 49437 non-null  float64\n",
            " 25  grant                 49437 non-null  float64\n",
            " 26  private_equity        49437 non-null  float64\n",
            " 27  post_ipo_equity       49437 non-null  float64\n",
            " 28  post_ipo_debt         49437 non-null  float64\n",
            " 29  secondary_market      49437 non-null  float64\n",
            " 30  product_crowdfunding  49437 non-null  float64\n",
            " 31  round_A               49437 non-null  float64\n",
            " 32  round_B               49437 non-null  float64\n",
            " 33  round_C               49437 non-null  float64\n",
            " 34  round_D               49437 non-null  float64\n",
            " 35  round_E               49437 non-null  float64\n",
            " 36  round_F               49437 non-null  float64\n",
            " 37  round_G               49437 non-null  float64\n",
            " 38  round_H               49437 non-null  float64\n",
            "dtypes: float64(23), object(16)\n",
            "memory usage: 15.1+ MB\n"
          ],
          "name": "stdout"
        }
      ]
    },
    {
      "cell_type": "code",
      "metadata": {
        "colab": {
          "base_uri": "https://localhost:8080/"
        },
        "id": "tmkU1v0hSEf2",
        "outputId": "014cd887-8649-4c3e-fc44-b390cfae93c6"
      },
      "source": [
        "data1.name.isnull().sum()"
      ],
      "execution_count": null,
      "outputs": [
        {
          "output_type": "execute_result",
          "data": {
            "text/plain": [
              "0"
            ]
          },
          "metadata": {
            "tags": []
          },
          "execution_count": 17
        }
      ]
    },
    {
      "cell_type": "markdown",
      "metadata": {
        "id": "CcRWdXeO10t_"
      },
      "source": [
        "## 2. Remove Duplicate (All NaN in whole columns) \n",
        "\n",
        "---\n",
        "\n"
      ]
    },
    {
      "cell_type": "code",
      "metadata": {
        "colab": {
          "base_uri": "https://localhost:8080/"
        },
        "id": "EosAgVck2Wk8",
        "outputId": "f8257dc0-98ef-4c0c-e307-e312cc7d96c6"
      },
      "source": [
        "data1.duplicated().sum()"
      ],
      "execution_count": null,
      "outputs": [
        {
          "output_type": "execute_result",
          "data": {
            "text/plain": [
              "0"
            ]
          },
          "metadata": {
            "tags": []
          },
          "execution_count": 18
        }
      ]
    },
    {
      "cell_type": "code",
      "metadata": {
        "colab": {
          "base_uri": "https://localhost:8080/",
          "height": 367
        },
        "id": "OkGIP3Bv--D-",
        "outputId": "8b136ea1-555a-499f-e2ad-a3764088a96f"
      },
      "source": [
        "data1.tail()"
      ],
      "execution_count": null,
      "outputs": [
        {
          "output_type": "execute_result",
          "data": {
            "text/html": [
              "<div>\n",
              "<style scoped>\n",
              "    .dataframe tbody tr th:only-of-type {\n",
              "        vertical-align: middle;\n",
              "    }\n",
              "\n",
              "    .dataframe tbody tr th {\n",
              "        vertical-align: top;\n",
              "    }\n",
              "\n",
              "    .dataframe thead th {\n",
              "        text-align: right;\n",
              "    }\n",
              "</style>\n",
              "<table border=\"1\" class=\"dataframe\">\n",
              "  <thead>\n",
              "    <tr style=\"text-align: right;\">\n",
              "      <th></th>\n",
              "      <th>permalink</th>\n",
              "      <th>name</th>\n",
              "      <th>homepage_url</th>\n",
              "      <th>category_list</th>\n",
              "      <th>market</th>\n",
              "      <th>funding_total_usd</th>\n",
              "      <th>status</th>\n",
              "      <th>country_code</th>\n",
              "      <th>state_code</th>\n",
              "      <th>region</th>\n",
              "      <th>city</th>\n",
              "      <th>funding_rounds</th>\n",
              "      <th>founded_at</th>\n",
              "      <th>founded_month</th>\n",
              "      <th>founded_quarter</th>\n",
              "      <th>founded_year</th>\n",
              "      <th>first_funding_at</th>\n",
              "      <th>last_funding_at</th>\n",
              "      <th>seed</th>\n",
              "      <th>venture</th>\n",
              "      <th>equity_crowdfunding</th>\n",
              "      <th>undisclosed</th>\n",
              "      <th>convertible_note</th>\n",
              "      <th>debt_financing</th>\n",
              "      <th>angel</th>\n",
              "      <th>grant</th>\n",
              "      <th>private_equity</th>\n",
              "      <th>post_ipo_equity</th>\n",
              "      <th>post_ipo_debt</th>\n",
              "      <th>secondary_market</th>\n",
              "      <th>product_crowdfunding</th>\n",
              "      <th>round_A</th>\n",
              "      <th>round_B</th>\n",
              "      <th>round_C</th>\n",
              "      <th>round_D</th>\n",
              "      <th>round_E</th>\n",
              "      <th>round_F</th>\n",
              "      <th>round_G</th>\n",
              "      <th>round_H</th>\n",
              "    </tr>\n",
              "  </thead>\n",
              "  <tbody>\n",
              "    <tr>\n",
              "      <th>49433</th>\n",
              "      <td>/organization/zzish</td>\n",
              "      <td>Zzish</td>\n",
              "      <td>http://www.zzish.com</td>\n",
              "      <td>|Analytics|Gamification|Developer APIs|iOS|And...</td>\n",
              "      <td>Education</td>\n",
              "      <td>3,20,000</td>\n",
              "      <td>operating</td>\n",
              "      <td>GBR</td>\n",
              "      <td>NaN</td>\n",
              "      <td>London</td>\n",
              "      <td>London</td>\n",
              "      <td>1.0</td>\n",
              "      <td>2013-01-28</td>\n",
              "      <td>2013-01</td>\n",
              "      <td>2013-Q1</td>\n",
              "      <td>2013.0</td>\n",
              "      <td>2014-03-24</td>\n",
              "      <td>2014-03-24</td>\n",
              "      <td>320000.0</td>\n",
              "      <td>0.0</td>\n",
              "      <td>0.0</td>\n",
              "      <td>0.0</td>\n",
              "      <td>0.0</td>\n",
              "      <td>0.0</td>\n",
              "      <td>0.0</td>\n",
              "      <td>0.0</td>\n",
              "      <td>0.0</td>\n",
              "      <td>0.0</td>\n",
              "      <td>0.0</td>\n",
              "      <td>0.0</td>\n",
              "      <td>0.0</td>\n",
              "      <td>0.0</td>\n",
              "      <td>0.0</td>\n",
              "      <td>0.0</td>\n",
              "      <td>0.0</td>\n",
              "      <td>0.0</td>\n",
              "      <td>0.0</td>\n",
              "      <td>0.0</td>\n",
              "      <td>0.0</td>\n",
              "    </tr>\n",
              "    <tr>\n",
              "      <th>49434</th>\n",
              "      <td>/organization/zznode-science-and-technology-co...</td>\n",
              "      <td>ZZNode Science and Technology</td>\n",
              "      <td>http://www.zznode.com</td>\n",
              "      <td>|Enterprise Software|</td>\n",
              "      <td>Enterprise Software</td>\n",
              "      <td>15,87,301</td>\n",
              "      <td>operating</td>\n",
              "      <td>CHN</td>\n",
              "      <td>NaN</td>\n",
              "      <td>Beijing</td>\n",
              "      <td>Beijing</td>\n",
              "      <td>1.0</td>\n",
              "      <td>NaN</td>\n",
              "      <td>NaN</td>\n",
              "      <td>NaN</td>\n",
              "      <td>NaN</td>\n",
              "      <td>2012-04-01</td>\n",
              "      <td>2012-04-01</td>\n",
              "      <td>0.0</td>\n",
              "      <td>1587301.0</td>\n",
              "      <td>0.0</td>\n",
              "      <td>0.0</td>\n",
              "      <td>0.0</td>\n",
              "      <td>0.0</td>\n",
              "      <td>0.0</td>\n",
              "      <td>0.0</td>\n",
              "      <td>0.0</td>\n",
              "      <td>0.0</td>\n",
              "      <td>0.0</td>\n",
              "      <td>0.0</td>\n",
              "      <td>0.0</td>\n",
              "      <td>1587301.0</td>\n",
              "      <td>0.0</td>\n",
              "      <td>0.0</td>\n",
              "      <td>0.0</td>\n",
              "      <td>0.0</td>\n",
              "      <td>0.0</td>\n",
              "      <td>0.0</td>\n",
              "      <td>0.0</td>\n",
              "    </tr>\n",
              "    <tr>\n",
              "      <th>49435</th>\n",
              "      <td>/organization/zzzzapp-com</td>\n",
              "      <td>Zzzzapp Wireless ltd.</td>\n",
              "      <td>http://www.zzzzapp.com</td>\n",
              "      <td>|Web Development|Advertising|Wireless|Mobile|</td>\n",
              "      <td>Web Development</td>\n",
              "      <td>97,398</td>\n",
              "      <td>operating</td>\n",
              "      <td>HRV</td>\n",
              "      <td>NaN</td>\n",
              "      <td>Split</td>\n",
              "      <td>Split</td>\n",
              "      <td>5.0</td>\n",
              "      <td>2012-05-13</td>\n",
              "      <td>2012-05</td>\n",
              "      <td>2012-Q2</td>\n",
              "      <td>2012.0</td>\n",
              "      <td>2011-11-01</td>\n",
              "      <td>2014-09-10</td>\n",
              "      <td>71525.0</td>\n",
              "      <td>0.0</td>\n",
              "      <td>0.0</td>\n",
              "      <td>0.0</td>\n",
              "      <td>25873.0</td>\n",
              "      <td>0.0</td>\n",
              "      <td>0.0</td>\n",
              "      <td>0.0</td>\n",
              "      <td>0.0</td>\n",
              "      <td>0.0</td>\n",
              "      <td>0.0</td>\n",
              "      <td>0.0</td>\n",
              "      <td>0.0</td>\n",
              "      <td>0.0</td>\n",
              "      <td>0.0</td>\n",
              "      <td>0.0</td>\n",
              "      <td>0.0</td>\n",
              "      <td>0.0</td>\n",
              "      <td>0.0</td>\n",
              "      <td>0.0</td>\n",
              "      <td>0.0</td>\n",
              "    </tr>\n",
              "    <tr>\n",
              "      <th>49436</th>\n",
              "      <td>/organization/a-list-games</td>\n",
              "      <td>[a]list games</td>\n",
              "      <td>http://www.alistgames.com</td>\n",
              "      <td>|Games|</td>\n",
              "      <td>Games</td>\n",
              "      <td>93,00,000</td>\n",
              "      <td>operating</td>\n",
              "      <td>NaN</td>\n",
              "      <td>NaN</td>\n",
              "      <td>NaN</td>\n",
              "      <td>NaN</td>\n",
              "      <td>1.0</td>\n",
              "      <td>NaN</td>\n",
              "      <td>NaN</td>\n",
              "      <td>NaN</td>\n",
              "      <td>NaN</td>\n",
              "      <td>2011-11-21</td>\n",
              "      <td>2011-11-21</td>\n",
              "      <td>9300000.0</td>\n",
              "      <td>0.0</td>\n",
              "      <td>0.0</td>\n",
              "      <td>0.0</td>\n",
              "      <td>0.0</td>\n",
              "      <td>0.0</td>\n",
              "      <td>0.0</td>\n",
              "      <td>0.0</td>\n",
              "      <td>0.0</td>\n",
              "      <td>0.0</td>\n",
              "      <td>0.0</td>\n",
              "      <td>0.0</td>\n",
              "      <td>0.0</td>\n",
              "      <td>0.0</td>\n",
              "      <td>0.0</td>\n",
              "      <td>0.0</td>\n",
              "      <td>0.0</td>\n",
              "      <td>0.0</td>\n",
              "      <td>0.0</td>\n",
              "      <td>0.0</td>\n",
              "      <td>0.0</td>\n",
              "    </tr>\n",
              "    <tr>\n",
              "      <th>49437</th>\n",
              "      <td>/organization/x</td>\n",
              "      <td>[x+1]</td>\n",
              "      <td>http://www.xplusone.com/</td>\n",
              "      <td>|Enterprise Software|</td>\n",
              "      <td>Enterprise Software</td>\n",
              "      <td>4,50,00,000</td>\n",
              "      <td>operating</td>\n",
              "      <td>USA</td>\n",
              "      <td>NY</td>\n",
              "      <td>New York City</td>\n",
              "      <td>New York</td>\n",
              "      <td>4.0</td>\n",
              "      <td>1999-01-01</td>\n",
              "      <td>1999-01</td>\n",
              "      <td>1999-Q1</td>\n",
              "      <td>1999.0</td>\n",
              "      <td>2008-06-01</td>\n",
              "      <td>2013-04-04</td>\n",
              "      <td>0.0</td>\n",
              "      <td>28000000.0</td>\n",
              "      <td>0.0</td>\n",
              "      <td>0.0</td>\n",
              "      <td>0.0</td>\n",
              "      <td>17000000.0</td>\n",
              "      <td>0.0</td>\n",
              "      <td>0.0</td>\n",
              "      <td>0.0</td>\n",
              "      <td>0.0</td>\n",
              "      <td>0.0</td>\n",
              "      <td>0.0</td>\n",
              "      <td>0.0</td>\n",
              "      <td>16000000.0</td>\n",
              "      <td>10000000.0</td>\n",
              "      <td>0.0</td>\n",
              "      <td>0.0</td>\n",
              "      <td>0.0</td>\n",
              "      <td>0.0</td>\n",
              "      <td>0.0</td>\n",
              "      <td>0.0</td>\n",
              "    </tr>\n",
              "  </tbody>\n",
              "</table>\n",
              "</div>"
            ],
            "text/plain": [
              "                                               permalink  ... round_H\n",
              "49433                                /organization/zzish  ...     0.0\n",
              "49434  /organization/zznode-science-and-technology-co...  ...     0.0\n",
              "49435                          /organization/zzzzapp-com  ...     0.0\n",
              "49436                         /organization/a-list-games  ...     0.0\n",
              "49437                                    /organization/x  ...     0.0\n",
              "\n",
              "[5 rows x 39 columns]"
            ]
          },
          "metadata": {
            "tags": []
          },
          "execution_count": 19
        }
      ]
    },
    {
      "cell_type": "code",
      "metadata": {
        "colab": {
          "base_uri": "https://localhost:8080/"
        },
        "id": "WwMsCyQx15ya",
        "outputId": "5e79d96b-5326-4b36-e97b-1463ae73f952"
      },
      "source": [
        "print('Duplicated entries:',data1.duplicated().sum())\n",
        "data1[data1.duplicated()].isna().sum(axis=0)"
      ],
      "execution_count": null,
      "outputs": [
        {
          "output_type": "stream",
          "text": [
            "Duplicated entries: 0\n"
          ],
          "name": "stdout"
        },
        {
          "output_type": "execute_result",
          "data": {
            "text/plain": [
              "permalink               0\n",
              "name                    0\n",
              "homepage_url            0\n",
              "category_list           0\n",
              "market                  0\n",
              "funding_total_usd       0\n",
              "status                  0\n",
              "country_code            0\n",
              "state_code              0\n",
              "region                  0\n",
              "city                    0\n",
              "funding_rounds          0\n",
              "founded_at              0\n",
              "founded_month           0\n",
              "founded_quarter         0\n",
              "founded_year            0\n",
              "first_funding_at        0\n",
              "last_funding_at         0\n",
              "seed                    0\n",
              "venture                 0\n",
              "equity_crowdfunding     0\n",
              "undisclosed             0\n",
              "convertible_note        0\n",
              "debt_financing          0\n",
              "angel                   0\n",
              "grant                   0\n",
              "private_equity          0\n",
              "post_ipo_equity         0\n",
              "post_ipo_debt           0\n",
              "secondary_market        0\n",
              "product_crowdfunding    0\n",
              "round_A                 0\n",
              "round_B                 0\n",
              "round_C                 0\n",
              "round_D                 0\n",
              "round_E                 0\n",
              "round_F                 0\n",
              "round_G                 0\n",
              "round_H                 0\n",
              "dtype: int64"
            ]
          },
          "metadata": {
            "tags": []
          },
          "execution_count": 20
        }
      ]
    },
    {
      "cell_type": "code",
      "metadata": {
        "id": "n8dZndj22343"
      },
      "source": [
        "#data1.dropna(how='all', inplace=True)"
      ],
      "execution_count": null,
      "outputs": []
    },
    {
      "cell_type": "code",
      "metadata": {
        "id": "pHWAYPJPByLY"
      },
      "source": [
        "data2 = data1.copy()"
      ],
      "execution_count": null,
      "outputs": []
    },
    {
      "cell_type": "code",
      "metadata": {
        "colab": {
          "base_uri": "https://localhost:8080/"
        },
        "id": "Y0v5hQLz39QL",
        "outputId": "55cf86c7-02b2-430f-f086-0dc23ac8938f"
      },
      "source": [
        "data2.info()"
      ],
      "execution_count": null,
      "outputs": [
        {
          "output_type": "stream",
          "text": [
            "<class 'pandas.core.frame.DataFrame'>\n",
            "Int64Index: 49437 entries, 0 to 49437\n",
            "Data columns (total 39 columns):\n",
            " #   Column                Non-Null Count  Dtype  \n",
            "---  ------                --------------  -----  \n",
            " 0   permalink             49437 non-null  object \n",
            " 1   name                  49437 non-null  object \n",
            " 2   homepage_url          45988 non-null  object \n",
            " 3   category_list         45476 non-null  object \n",
            " 4   market                45469 non-null  object \n",
            " 5   funding_total_usd     49437 non-null  object \n",
            " 6   status                48123 non-null  object \n",
            " 7   country_code          44165 non-null  object \n",
            " 8   state_code            30161 non-null  object \n",
            " 9   region                44165 non-null  object \n",
            " 10  city                  43322 non-null  object \n",
            " 11  funding_rounds        49437 non-null  float64\n",
            " 12  founded_at            38553 non-null  object \n",
            " 13  founded_month         38481 non-null  object \n",
            " 14  founded_quarter       38481 non-null  object \n",
            " 15  founded_year          38481 non-null  float64\n",
            " 16  first_funding_at      49437 non-null  object \n",
            " 17  last_funding_at       49437 non-null  object \n",
            " 18  seed                  49437 non-null  float64\n",
            " 19  venture               49437 non-null  float64\n",
            " 20  equity_crowdfunding   49437 non-null  float64\n",
            " 21  undisclosed           49437 non-null  float64\n",
            " 22  convertible_note      49437 non-null  float64\n",
            " 23  debt_financing        49437 non-null  float64\n",
            " 24  angel                 49437 non-null  float64\n",
            " 25  grant                 49437 non-null  float64\n",
            " 26  private_equity        49437 non-null  float64\n",
            " 27  post_ipo_equity       49437 non-null  float64\n",
            " 28  post_ipo_debt         49437 non-null  float64\n",
            " 29  secondary_market      49437 non-null  float64\n",
            " 30  product_crowdfunding  49437 non-null  float64\n",
            " 31  round_A               49437 non-null  float64\n",
            " 32  round_B               49437 non-null  float64\n",
            " 33  round_C               49437 non-null  float64\n",
            " 34  round_D               49437 non-null  float64\n",
            " 35  round_E               49437 non-null  float64\n",
            " 36  round_F               49437 non-null  float64\n",
            " 37  round_G               49437 non-null  float64\n",
            " 38  round_H               49437 non-null  float64\n",
            "dtypes: float64(23), object(16)\n",
            "memory usage: 15.1+ MB\n"
          ],
          "name": "stdout"
        }
      ]
    },
    {
      "cell_type": "code",
      "metadata": {
        "id": "DUP-vYOoaKyW"
      },
      "source": [
        "data3= data2.copy()"
      ],
      "execution_count": null,
      "outputs": []
    },
    {
      "cell_type": "markdown",
      "metadata": {
        "id": "SGbUm7vzYlPf"
      },
      "source": [
        "## 3. Change Uncommon Format\n",
        "\n",
        "---\n",
        "\n",
        "  Then we tackle this by eliminate the comma and change the type into float, as process following "
      ]
    },
    {
      "cell_type": "code",
      "metadata": {
        "colab": {
          "base_uri": "https://localhost:8080/"
        },
        "id": "yH258NcaWKvf",
        "outputId": "8adf089b-1ce2-403a-8310-80ada56541d8"
      },
      "source": [
        "data3.columns"
      ],
      "execution_count": null,
      "outputs": [
        {
          "output_type": "execute_result",
          "data": {
            "text/plain": [
              "Index(['permalink', 'name', 'homepage_url', 'category_list', 'market',\n",
              "       'funding_total_usd', 'status', 'country_code', 'state_code', 'region',\n",
              "       'city', 'funding_rounds', 'founded_at', 'founded_month',\n",
              "       'founded_quarter', 'founded_year', 'first_funding_at',\n",
              "       'last_funding_at', 'seed', 'venture', 'equity_crowdfunding',\n",
              "       'undisclosed', 'convertible_note', 'debt_financing', 'angel', 'grant',\n",
              "       'private_equity', 'post_ipo_equity', 'post_ipo_debt',\n",
              "       'secondary_market', 'product_crowdfunding', 'round_A', 'round_B',\n",
              "       'round_C', 'round_D', 'round_E', 'round_F', 'round_G', 'round_H'],\n",
              "      dtype='object')"
            ]
          },
          "metadata": {
            "tags": []
          },
          "execution_count": 25
        }
      ]
    },
    {
      "cell_type": "code",
      "metadata": {
        "id": "agIqAoyAYjp9"
      },
      "source": [
        "data3['funding_total_usd'] = data3['funding_total_usd'].str.replace(',', '')\n",
        "data3['funding_total_usd'] = data3['funding_total_usd'].str.replace('-', '')\n",
        "data3['funding_total_usd'] = data3['funding_total_usd'].str.replace(' ', '')\n",
        "\n",
        "data3['funding_total_usd'] = pd.to_numeric(data3['funding_total_usd'], errors='coerce')"
      ],
      "execution_count": null,
      "outputs": []
    },
    {
      "cell_type": "code",
      "metadata": {
        "colab": {
          "base_uri": "https://localhost:8080/"
        },
        "id": "xt9BfqUFMv3g",
        "outputId": "99dcc8e2-9c62-471c-eb47-d3e4d600016e"
      },
      "source": [
        "data3.dtypes"
      ],
      "execution_count": null,
      "outputs": [
        {
          "output_type": "execute_result",
          "data": {
            "text/plain": [
              "permalink                object\n",
              "name                     object\n",
              "homepage_url             object\n",
              "category_list            object\n",
              "market                   object\n",
              "funding_total_usd       float64\n",
              "status                   object\n",
              "country_code             object\n",
              "state_code               object\n",
              "region                   object\n",
              "city                     object\n",
              "funding_rounds          float64\n",
              "founded_at               object\n",
              "founded_month            object\n",
              "founded_quarter          object\n",
              "founded_year            float64\n",
              "first_funding_at         object\n",
              "last_funding_at          object\n",
              "seed                    float64\n",
              "venture                 float64\n",
              "equity_crowdfunding     float64\n",
              "undisclosed             float64\n",
              "convertible_note        float64\n",
              "debt_financing          float64\n",
              "angel                   float64\n",
              "grant                   float64\n",
              "private_equity          float64\n",
              "post_ipo_equity         float64\n",
              "post_ipo_debt           float64\n",
              "secondary_market        float64\n",
              "product_crowdfunding    float64\n",
              "round_A                 float64\n",
              "round_B                 float64\n",
              "round_C                 float64\n",
              "round_D                 float64\n",
              "round_E                 float64\n",
              "round_F                 float64\n",
              "round_G                 float64\n",
              "round_H                 float64\n",
              "dtype: object"
            ]
          },
          "metadata": {
            "tags": []
          },
          "execution_count": 27
        }
      ]
    },
    {
      "cell_type": "code",
      "metadata": {
        "id": "DWKD8-OBuNrr"
      },
      "source": [
        "data4=data3.drop(columns=['permalink', 'name','homepage_url', 'category_list','state_code', 'city', 'founded_at', 'founded_month',\n",
        "       'founded_quarter','first_funding_at','last_funding_at'])"
      ],
      "execution_count": null,
      "outputs": []
    },
    {
      "cell_type": "code",
      "metadata": {
        "id": "UzgvXZPjJkAG",
        "colab": {
          "base_uri": "https://localhost:8080/",
          "height": 207
        },
        "outputId": "f979ae06-e707-47c1-b4db-74cbf81da71a"
      },
      "source": [
        "data4.head(3)"
      ],
      "execution_count": null,
      "outputs": [
        {
          "output_type": "execute_result",
          "data": {
            "text/html": [
              "<div>\n",
              "<style scoped>\n",
              "    .dataframe tbody tr th:only-of-type {\n",
              "        vertical-align: middle;\n",
              "    }\n",
              "\n",
              "    .dataframe tbody tr th {\n",
              "        vertical-align: top;\n",
              "    }\n",
              "\n",
              "    .dataframe thead th {\n",
              "        text-align: right;\n",
              "    }\n",
              "</style>\n",
              "<table border=\"1\" class=\"dataframe\">\n",
              "  <thead>\n",
              "    <tr style=\"text-align: right;\">\n",
              "      <th></th>\n",
              "      <th>market</th>\n",
              "      <th>funding_total_usd</th>\n",
              "      <th>status</th>\n",
              "      <th>country_code</th>\n",
              "      <th>region</th>\n",
              "      <th>funding_rounds</th>\n",
              "      <th>founded_year</th>\n",
              "      <th>seed</th>\n",
              "      <th>venture</th>\n",
              "      <th>equity_crowdfunding</th>\n",
              "      <th>undisclosed</th>\n",
              "      <th>convertible_note</th>\n",
              "      <th>debt_financing</th>\n",
              "      <th>angel</th>\n",
              "      <th>grant</th>\n",
              "      <th>private_equity</th>\n",
              "      <th>post_ipo_equity</th>\n",
              "      <th>post_ipo_debt</th>\n",
              "      <th>secondary_market</th>\n",
              "      <th>product_crowdfunding</th>\n",
              "      <th>round_A</th>\n",
              "      <th>round_B</th>\n",
              "      <th>round_C</th>\n",
              "      <th>round_D</th>\n",
              "      <th>round_E</th>\n",
              "      <th>round_F</th>\n",
              "      <th>round_G</th>\n",
              "      <th>round_H</th>\n",
              "    </tr>\n",
              "  </thead>\n",
              "  <tbody>\n",
              "    <tr>\n",
              "      <th>0</th>\n",
              "      <td>News</td>\n",
              "      <td>1750000.0</td>\n",
              "      <td>acquired</td>\n",
              "      <td>USA</td>\n",
              "      <td>New York City</td>\n",
              "      <td>1.0</td>\n",
              "      <td>2012.0</td>\n",
              "      <td>1750000.0</td>\n",
              "      <td>0.0</td>\n",
              "      <td>0.0</td>\n",
              "      <td>0.0</td>\n",
              "      <td>0.0</td>\n",
              "      <td>0.0</td>\n",
              "      <td>0.0</td>\n",
              "      <td>0.0</td>\n",
              "      <td>0.0</td>\n",
              "      <td>0.0</td>\n",
              "      <td>0.0</td>\n",
              "      <td>0.0</td>\n",
              "      <td>0.0</td>\n",
              "      <td>0.0</td>\n",
              "      <td>0.0</td>\n",
              "      <td>0.0</td>\n",
              "      <td>0.0</td>\n",
              "      <td>0.0</td>\n",
              "      <td>0.0</td>\n",
              "      <td>0.0</td>\n",
              "      <td>0.0</td>\n",
              "    </tr>\n",
              "    <tr>\n",
              "      <th>1</th>\n",
              "      <td>Games</td>\n",
              "      <td>4000000.0</td>\n",
              "      <td>operating</td>\n",
              "      <td>USA</td>\n",
              "      <td>Los Angeles</td>\n",
              "      <td>2.0</td>\n",
              "      <td>NaN</td>\n",
              "      <td>0.0</td>\n",
              "      <td>4000000.0</td>\n",
              "      <td>0.0</td>\n",
              "      <td>0.0</td>\n",
              "      <td>0.0</td>\n",
              "      <td>0.0</td>\n",
              "      <td>0.0</td>\n",
              "      <td>0.0</td>\n",
              "      <td>0.0</td>\n",
              "      <td>0.0</td>\n",
              "      <td>0.0</td>\n",
              "      <td>0.0</td>\n",
              "      <td>0.0</td>\n",
              "      <td>0.0</td>\n",
              "      <td>0.0</td>\n",
              "      <td>0.0</td>\n",
              "      <td>0.0</td>\n",
              "      <td>0.0</td>\n",
              "      <td>0.0</td>\n",
              "      <td>0.0</td>\n",
              "      <td>0.0</td>\n",
              "    </tr>\n",
              "    <tr>\n",
              "      <th>2</th>\n",
              "      <td>Publishing</td>\n",
              "      <td>40000.0</td>\n",
              "      <td>operating</td>\n",
              "      <td>EST</td>\n",
              "      <td>Tallinn</td>\n",
              "      <td>1.0</td>\n",
              "      <td>2012.0</td>\n",
              "      <td>40000.0</td>\n",
              "      <td>0.0</td>\n",
              "      <td>0.0</td>\n",
              "      <td>0.0</td>\n",
              "      <td>0.0</td>\n",
              "      <td>0.0</td>\n",
              "      <td>0.0</td>\n",
              "      <td>0.0</td>\n",
              "      <td>0.0</td>\n",
              "      <td>0.0</td>\n",
              "      <td>0.0</td>\n",
              "      <td>0.0</td>\n",
              "      <td>0.0</td>\n",
              "      <td>0.0</td>\n",
              "      <td>0.0</td>\n",
              "      <td>0.0</td>\n",
              "      <td>0.0</td>\n",
              "      <td>0.0</td>\n",
              "      <td>0.0</td>\n",
              "      <td>0.0</td>\n",
              "      <td>0.0</td>\n",
              "    </tr>\n",
              "  </tbody>\n",
              "</table>\n",
              "</div>"
            ],
            "text/plain": [
              "         market  funding_total_usd     status  ... round_F round_G  round_H\n",
              "0         News           1750000.0   acquired  ...     0.0     0.0      0.0\n",
              "1        Games           4000000.0  operating  ...     0.0     0.0      0.0\n",
              "2   Publishing             40000.0  operating  ...     0.0     0.0      0.0\n",
              "\n",
              "[3 rows x 28 columns]"
            ]
          },
          "metadata": {
            "tags": []
          },
          "execution_count": 29
        }
      ]
    },
    {
      "cell_type": "code",
      "metadata": {
        "colab": {
          "base_uri": "https://localhost:8080/"
        },
        "id": "e18yyXgvu2dz",
        "outputId": "c38ec8bf-61d5-44be-e5dd-773af09f2219"
      },
      "source": [
        "missing_data = data4.isnull()\n",
        "\n",
        "for column in missing_data.columns.values.tolist():\n",
        " print (column)\n",
        " print (missing_data[column].value_counts())\n",
        " print(\"\")  "
      ],
      "execution_count": null,
      "outputs": [
        {
          "output_type": "stream",
          "text": [
            "market\n",
            "False    45469\n",
            "True      3968\n",
            "Name: market, dtype: int64\n",
            "\n",
            "funding_total_usd\n",
            "False    40906\n",
            "True      8531\n",
            "Name: funding_total_usd, dtype: int64\n",
            "\n",
            "status\n",
            "False    48123\n",
            "True      1314\n",
            "Name: status, dtype: int64\n",
            "\n",
            "country_code\n",
            "False    44165\n",
            "True      5272\n",
            "Name: country_code, dtype: int64\n",
            "\n",
            "region\n",
            "False    44165\n",
            "True      5272\n",
            "Name: region, dtype: int64\n",
            "\n",
            "funding_rounds\n",
            "False    49437\n",
            "Name: funding_rounds, dtype: int64\n",
            "\n",
            "founded_year\n",
            "False    38481\n",
            "True     10956\n",
            "Name: founded_year, dtype: int64\n",
            "\n",
            "seed\n",
            "False    49437\n",
            "Name: seed, dtype: int64\n",
            "\n",
            "venture\n",
            "False    49437\n",
            "Name: venture, dtype: int64\n",
            "\n",
            "equity_crowdfunding\n",
            "False    49437\n",
            "Name: equity_crowdfunding, dtype: int64\n",
            "\n",
            "undisclosed\n",
            "False    49437\n",
            "Name: undisclosed, dtype: int64\n",
            "\n",
            "convertible_note\n",
            "False    49437\n",
            "Name: convertible_note, dtype: int64\n",
            "\n",
            "debt_financing\n",
            "False    49437\n",
            "Name: debt_financing, dtype: int64\n",
            "\n",
            "angel\n",
            "False    49437\n",
            "Name: angel, dtype: int64\n",
            "\n",
            "grant\n",
            "False    49437\n",
            "Name: grant, dtype: int64\n",
            "\n",
            "private_equity\n",
            "False    49437\n",
            "Name: private_equity, dtype: int64\n",
            "\n",
            "post_ipo_equity\n",
            "False    49437\n",
            "Name: post_ipo_equity, dtype: int64\n",
            "\n",
            "post_ipo_debt\n",
            "False    49437\n",
            "Name: post_ipo_debt, dtype: int64\n",
            "\n",
            "secondary_market\n",
            "False    49437\n",
            "Name: secondary_market, dtype: int64\n",
            "\n",
            "product_crowdfunding\n",
            "False    49437\n",
            "Name: product_crowdfunding, dtype: int64\n",
            "\n",
            "round_A\n",
            "False    49437\n",
            "Name: round_A, dtype: int64\n",
            "\n",
            "round_B\n",
            "False    49437\n",
            "Name: round_B, dtype: int64\n",
            "\n",
            "round_C\n",
            "False    49437\n",
            "Name: round_C, dtype: int64\n",
            "\n",
            "round_D\n",
            "False    49437\n",
            "Name: round_D, dtype: int64\n",
            "\n",
            "round_E\n",
            "False    49437\n",
            "Name: round_E, dtype: int64\n",
            "\n",
            "round_F\n",
            "False    49437\n",
            "Name: round_F, dtype: int64\n",
            "\n",
            "round_G\n",
            "False    49437\n",
            "Name: round_G, dtype: int64\n",
            "\n",
            "round_H\n",
            "False    49437\n",
            "Name: round_H, dtype: int64\n",
            "\n"
          ],
          "name": "stdout"
        }
      ]
    },
    {
      "cell_type": "code",
      "metadata": {
        "colab": {
          "base_uri": "https://localhost:8080/",
          "height": 307
        },
        "id": "y0eiSLNezMME",
        "outputId": "d12bce96-907e-40b7-a19d-0631dfdc16df"
      },
      "source": [
        "data4.describe()"
      ],
      "execution_count": null,
      "outputs": [
        {
          "output_type": "execute_result",
          "data": {
            "text/html": [
              "<div>\n",
              "<style scoped>\n",
              "    .dataframe tbody tr th:only-of-type {\n",
              "        vertical-align: middle;\n",
              "    }\n",
              "\n",
              "    .dataframe tbody tr th {\n",
              "        vertical-align: top;\n",
              "    }\n",
              "\n",
              "    .dataframe thead th {\n",
              "        text-align: right;\n",
              "    }\n",
              "</style>\n",
              "<table border=\"1\" class=\"dataframe\">\n",
              "  <thead>\n",
              "    <tr style=\"text-align: right;\">\n",
              "      <th></th>\n",
              "      <th>funding_total_usd</th>\n",
              "      <th>funding_rounds</th>\n",
              "      <th>founded_year</th>\n",
              "      <th>seed</th>\n",
              "      <th>venture</th>\n",
              "      <th>equity_crowdfunding</th>\n",
              "      <th>undisclosed</th>\n",
              "      <th>convertible_note</th>\n",
              "      <th>debt_financing</th>\n",
              "      <th>angel</th>\n",
              "      <th>grant</th>\n",
              "      <th>private_equity</th>\n",
              "      <th>post_ipo_equity</th>\n",
              "      <th>post_ipo_debt</th>\n",
              "      <th>secondary_market</th>\n",
              "      <th>product_crowdfunding</th>\n",
              "      <th>round_A</th>\n",
              "      <th>round_B</th>\n",
              "      <th>round_C</th>\n",
              "      <th>round_D</th>\n",
              "      <th>round_E</th>\n",
              "      <th>round_F</th>\n",
              "      <th>round_G</th>\n",
              "      <th>round_H</th>\n",
              "    </tr>\n",
              "  </thead>\n",
              "  <tbody>\n",
              "    <tr>\n",
              "      <th>count</th>\n",
              "      <td>4.090600e+04</td>\n",
              "      <td>49437.000000</td>\n",
              "      <td>38481.000000</td>\n",
              "      <td>4.943700e+04</td>\n",
              "      <td>4.943700e+04</td>\n",
              "      <td>4.943700e+04</td>\n",
              "      <td>4.943700e+04</td>\n",
              "      <td>4.943700e+04</td>\n",
              "      <td>4.943700e+04</td>\n",
              "      <td>4.943700e+04</td>\n",
              "      <td>4.943700e+04</td>\n",
              "      <td>4.943700e+04</td>\n",
              "      <td>4.943700e+04</td>\n",
              "      <td>4.943700e+04</td>\n",
              "      <td>4.943700e+04</td>\n",
              "      <td>4.943700e+04</td>\n",
              "      <td>4.943700e+04</td>\n",
              "      <td>4.943700e+04</td>\n",
              "      <td>4.943700e+04</td>\n",
              "      <td>4.943700e+04</td>\n",
              "      <td>4.943700e+04</td>\n",
              "      <td>4.943700e+04</td>\n",
              "      <td>4.943700e+04</td>\n",
              "      <td>4.943700e+04</td>\n",
              "    </tr>\n",
              "    <tr>\n",
              "      <th>mean</th>\n",
              "      <td>1.591291e+07</td>\n",
              "      <td>1.696219</td>\n",
              "      <td>2007.359034</td>\n",
              "      <td>2.173254e+05</td>\n",
              "      <td>7.501202e+06</td>\n",
              "      <td>6.163447e+03</td>\n",
              "      <td>1.302239e+05</td>\n",
              "      <td>2.336457e+04</td>\n",
              "      <td>1.888195e+06</td>\n",
              "      <td>6.542030e+04</td>\n",
              "      <td>1.628486e+05</td>\n",
              "      <td>2.074328e+06</td>\n",
              "      <td>6.088860e+05</td>\n",
              "      <td>4.434449e+05</td>\n",
              "      <td>3.845670e+04</td>\n",
              "      <td>7.074370e+03</td>\n",
              "      <td>1.243980e+06</td>\n",
              "      <td>1.492921e+06</td>\n",
              "      <td>1.205380e+06</td>\n",
              "      <td>7.375410e+05</td>\n",
              "      <td>3.424751e+05</td>\n",
              "      <td>1.697726e+05</td>\n",
              "      <td>5.767183e+04</td>\n",
              "      <td>1.423226e+04</td>\n",
              "    </tr>\n",
              "    <tr>\n",
              "      <th>std</th>\n",
              "      <td>1.686808e+08</td>\n",
              "      <td>1.294222</td>\n",
              "      <td>7.579279</td>\n",
              "      <td>1.056995e+06</td>\n",
              "      <td>2.847139e+07</td>\n",
              "      <td>1.999068e+05</td>\n",
              "      <td>2.981434e+06</td>\n",
              "      <td>1.432060e+06</td>\n",
              "      <td>1.382060e+08</td>\n",
              "      <td>6.582974e+05</td>\n",
              "      <td>5.612145e+06</td>\n",
              "      <td>3.167263e+07</td>\n",
              "      <td>2.678375e+07</td>\n",
              "      <td>3.428204e+07</td>\n",
              "      <td>3.864500e+06</td>\n",
              "      <td>4.282209e+05</td>\n",
              "      <td>5.532027e+06</td>\n",
              "      <td>7.472777e+06</td>\n",
              "      <td>7.993671e+06</td>\n",
              "      <td>9.815317e+06</td>\n",
              "      <td>5.406969e+06</td>\n",
              "      <td>6.277969e+06</td>\n",
              "      <td>5.252365e+06</td>\n",
              "      <td>2.716893e+06</td>\n",
              "    </tr>\n",
              "    <tr>\n",
              "      <th>min</th>\n",
              "      <td>1.000000e+00</td>\n",
              "      <td>1.000000</td>\n",
              "      <td>1902.000000</td>\n",
              "      <td>0.000000e+00</td>\n",
              "      <td>0.000000e+00</td>\n",
              "      <td>0.000000e+00</td>\n",
              "      <td>0.000000e+00</td>\n",
              "      <td>0.000000e+00</td>\n",
              "      <td>0.000000e+00</td>\n",
              "      <td>0.000000e+00</td>\n",
              "      <td>0.000000e+00</td>\n",
              "      <td>0.000000e+00</td>\n",
              "      <td>0.000000e+00</td>\n",
              "      <td>0.000000e+00</td>\n",
              "      <td>0.000000e+00</td>\n",
              "      <td>0.000000e+00</td>\n",
              "      <td>0.000000e+00</td>\n",
              "      <td>0.000000e+00</td>\n",
              "      <td>0.000000e+00</td>\n",
              "      <td>0.000000e+00</td>\n",
              "      <td>0.000000e+00</td>\n",
              "      <td>0.000000e+00</td>\n",
              "      <td>0.000000e+00</td>\n",
              "      <td>0.000000e+00</td>\n",
              "    </tr>\n",
              "    <tr>\n",
              "      <th>25%</th>\n",
              "      <td>3.500000e+05</td>\n",
              "      <td>1.000000</td>\n",
              "      <td>2006.000000</td>\n",
              "      <td>0.000000e+00</td>\n",
              "      <td>0.000000e+00</td>\n",
              "      <td>0.000000e+00</td>\n",
              "      <td>0.000000e+00</td>\n",
              "      <td>0.000000e+00</td>\n",
              "      <td>0.000000e+00</td>\n",
              "      <td>0.000000e+00</td>\n",
              "      <td>0.000000e+00</td>\n",
              "      <td>0.000000e+00</td>\n",
              "      <td>0.000000e+00</td>\n",
              "      <td>0.000000e+00</td>\n",
              "      <td>0.000000e+00</td>\n",
              "      <td>0.000000e+00</td>\n",
              "      <td>0.000000e+00</td>\n",
              "      <td>0.000000e+00</td>\n",
              "      <td>0.000000e+00</td>\n",
              "      <td>0.000000e+00</td>\n",
              "      <td>0.000000e+00</td>\n",
              "      <td>0.000000e+00</td>\n",
              "      <td>0.000000e+00</td>\n",
              "      <td>0.000000e+00</td>\n",
              "    </tr>\n",
              "    <tr>\n",
              "      <th>50%</th>\n",
              "      <td>2.000000e+06</td>\n",
              "      <td>1.000000</td>\n",
              "      <td>2010.000000</td>\n",
              "      <td>0.000000e+00</td>\n",
              "      <td>0.000000e+00</td>\n",
              "      <td>0.000000e+00</td>\n",
              "      <td>0.000000e+00</td>\n",
              "      <td>0.000000e+00</td>\n",
              "      <td>0.000000e+00</td>\n",
              "      <td>0.000000e+00</td>\n",
              "      <td>0.000000e+00</td>\n",
              "      <td>0.000000e+00</td>\n",
              "      <td>0.000000e+00</td>\n",
              "      <td>0.000000e+00</td>\n",
              "      <td>0.000000e+00</td>\n",
              "      <td>0.000000e+00</td>\n",
              "      <td>0.000000e+00</td>\n",
              "      <td>0.000000e+00</td>\n",
              "      <td>0.000000e+00</td>\n",
              "      <td>0.000000e+00</td>\n",
              "      <td>0.000000e+00</td>\n",
              "      <td>0.000000e+00</td>\n",
              "      <td>0.000000e+00</td>\n",
              "      <td>0.000000e+00</td>\n",
              "    </tr>\n",
              "    <tr>\n",
              "      <th>75%</th>\n",
              "      <td>1.000000e+07</td>\n",
              "      <td>2.000000</td>\n",
              "      <td>2012.000000</td>\n",
              "      <td>2.500000e+04</td>\n",
              "      <td>5.000000e+06</td>\n",
              "      <td>0.000000e+00</td>\n",
              "      <td>0.000000e+00</td>\n",
              "      <td>0.000000e+00</td>\n",
              "      <td>0.000000e+00</td>\n",
              "      <td>0.000000e+00</td>\n",
              "      <td>0.000000e+00</td>\n",
              "      <td>0.000000e+00</td>\n",
              "      <td>0.000000e+00</td>\n",
              "      <td>0.000000e+00</td>\n",
              "      <td>0.000000e+00</td>\n",
              "      <td>0.000000e+00</td>\n",
              "      <td>0.000000e+00</td>\n",
              "      <td>0.000000e+00</td>\n",
              "      <td>0.000000e+00</td>\n",
              "      <td>0.000000e+00</td>\n",
              "      <td>0.000000e+00</td>\n",
              "      <td>0.000000e+00</td>\n",
              "      <td>0.000000e+00</td>\n",
              "      <td>0.000000e+00</td>\n",
              "    </tr>\n",
              "    <tr>\n",
              "      <th>max</th>\n",
              "      <td>3.007950e+10</td>\n",
              "      <td>18.000000</td>\n",
              "      <td>2014.000000</td>\n",
              "      <td>1.300000e+08</td>\n",
              "      <td>2.351000e+09</td>\n",
              "      <td>2.500000e+07</td>\n",
              "      <td>2.924328e+08</td>\n",
              "      <td>3.000000e+08</td>\n",
              "      <td>3.007950e+10</td>\n",
              "      <td>6.359026e+07</td>\n",
              "      <td>7.505000e+08</td>\n",
              "      <td>3.500000e+09</td>\n",
              "      <td>4.700000e+09</td>\n",
              "      <td>5.800000e+09</td>\n",
              "      <td>6.806116e+08</td>\n",
              "      <td>7.200000e+07</td>\n",
              "      <td>3.190000e+08</td>\n",
              "      <td>5.420000e+08</td>\n",
              "      <td>4.900000e+08</td>\n",
              "      <td>1.200000e+09</td>\n",
              "      <td>4.000000e+08</td>\n",
              "      <td>1.060000e+09</td>\n",
              "      <td>1.000000e+09</td>\n",
              "      <td>6.000000e+08</td>\n",
              "    </tr>\n",
              "  </tbody>\n",
              "</table>\n",
              "</div>"
            ],
            "text/plain": [
              "       funding_total_usd  funding_rounds  ...       round_G       round_H\n",
              "count       4.090600e+04    49437.000000  ...  4.943700e+04  4.943700e+04\n",
              "mean        1.591291e+07        1.696219  ...  5.767183e+04  1.423226e+04\n",
              "std         1.686808e+08        1.294222  ...  5.252365e+06  2.716893e+06\n",
              "min         1.000000e+00        1.000000  ...  0.000000e+00  0.000000e+00\n",
              "25%         3.500000e+05        1.000000  ...  0.000000e+00  0.000000e+00\n",
              "50%         2.000000e+06        1.000000  ...  0.000000e+00  0.000000e+00\n",
              "75%         1.000000e+07        2.000000  ...  0.000000e+00  0.000000e+00\n",
              "max         3.007950e+10       18.000000  ...  1.000000e+09  6.000000e+08\n",
              "\n",
              "[8 rows x 24 columns]"
            ]
          },
          "metadata": {
            "tags": []
          },
          "execution_count": 31
        }
      ]
    },
    {
      "cell_type": "code",
      "metadata": {
        "colab": {
          "base_uri": "https://localhost:8080/"
        },
        "id": "JVJ-JqDzzQC_",
        "outputId": "e1c9ebdc-f385-446c-8bcf-6027f0e3f47d"
      },
      "source": [
        "data4.info()"
      ],
      "execution_count": null,
      "outputs": [
        {
          "output_type": "stream",
          "text": [
            "<class 'pandas.core.frame.DataFrame'>\n",
            "Int64Index: 49437 entries, 0 to 49437\n",
            "Data columns (total 28 columns):\n",
            " #   Column                Non-Null Count  Dtype  \n",
            "---  ------                --------------  -----  \n",
            " 0   market                45469 non-null  object \n",
            " 1   funding_total_usd     40906 non-null  float64\n",
            " 2   status                48123 non-null  object \n",
            " 3   country_code          44165 non-null  object \n",
            " 4   region                44165 non-null  object \n",
            " 5   funding_rounds        49437 non-null  float64\n",
            " 6   founded_year          38481 non-null  float64\n",
            " 7   seed                  49437 non-null  float64\n",
            " 8   venture               49437 non-null  float64\n",
            " 9   equity_crowdfunding   49437 non-null  float64\n",
            " 10  undisclosed           49437 non-null  float64\n",
            " 11  convertible_note      49437 non-null  float64\n",
            " 12  debt_financing        49437 non-null  float64\n",
            " 13  angel                 49437 non-null  float64\n",
            " 14  grant                 49437 non-null  float64\n",
            " 15  private_equity        49437 non-null  float64\n",
            " 16  post_ipo_equity       49437 non-null  float64\n",
            " 17  post_ipo_debt         49437 non-null  float64\n",
            " 18  secondary_market      49437 non-null  float64\n",
            " 19  product_crowdfunding  49437 non-null  float64\n",
            " 20  round_A               49437 non-null  float64\n",
            " 21  round_B               49437 non-null  float64\n",
            " 22  round_C               49437 non-null  float64\n",
            " 23  round_D               49437 non-null  float64\n",
            " 24  round_E               49437 non-null  float64\n",
            " 25  round_F               49437 non-null  float64\n",
            " 26  round_G               49437 non-null  float64\n",
            " 27  round_H               49437 non-null  float64\n",
            "dtypes: float64(24), object(4)\n",
            "memory usage: 10.9+ MB\n"
          ],
          "name": "stdout"
        }
      ]
    },
    {
      "cell_type": "markdown",
      "metadata": {
        "id": "-7Ec1WPA5THk"
      },
      "source": [
        "##4. Handling other missing value by replacing : \n",
        "\n",
        "1. Replace missing value in 'market' with 'other'\n",
        "2. Replace missing value in 'funding_total_usd' with 0\n",
        "3. Replace missing value in 'status' with majority status 'operating' \n",
        "4. Replace missing value in 'country_code' with OTHER\n",
        "5. Replace missing value in 'region' with other\n",
        "6. Replace missing value in 'founded_year' with mean\n",
        "---\n",
        "\n",
        "\n"
      ]
    },
    {
      "cell_type": "markdown",
      "metadata": {
        "id": "00cuwtJowHyX"
      },
      "source": [
        "1. Missing Value in 'market'\n",
        "Will replace the nan value with 'other' category market."
      ]
    },
    {
      "cell_type": "code",
      "metadata": {
        "colab": {
          "base_uri": "https://localhost:8080/"
        },
        "id": "TpTwMgPzwNM1",
        "outputId": "277b3156-26d7-43e4-d207-8dcc86875815"
      },
      "source": [
        "data4['market'].isnull().sum()"
      ],
      "execution_count": null,
      "outputs": [
        {
          "output_type": "execute_result",
          "data": {
            "text/plain": [
              "3968"
            ]
          },
          "metadata": {
            "tags": []
          },
          "execution_count": 33
        }
      ]
    },
    {
      "cell_type": "code",
      "metadata": {
        "id": "3fBnKzzAwTyN"
      },
      "source": [
        "data4['market'].replace(np.nan, 'other', inplace=True)"
      ],
      "execution_count": null,
      "outputs": []
    },
    {
      "cell_type": "code",
      "metadata": {
        "colab": {
          "base_uri": "https://localhost:8080/"
        },
        "id": "WBIvU38vLRur",
        "outputId": "10f613ac-6f77-4c11-c9d9-e5a2ac1ecccd"
      },
      "source": [
        "data4.market.isnull().sum()"
      ],
      "execution_count": null,
      "outputs": [
        {
          "output_type": "execute_result",
          "data": {
            "text/plain": [
              "0"
            ]
          },
          "metadata": {
            "tags": []
          },
          "execution_count": 35
        }
      ]
    },
    {
      "cell_type": "markdown",
      "metadata": {
        "id": "w_zJ7QTtxKFw"
      },
      "source": [
        "2. Missing Value in 'funding_total_usd' will be replaced by 0."
      ]
    },
    {
      "cell_type": "code",
      "metadata": {
        "colab": {
          "base_uri": "https://localhost:8080/"
        },
        "id": "ryVW0xKFE1Y7",
        "outputId": "f59d69ae-9e4c-46f0-ae33-083d5b7ba347"
      },
      "source": [
        "data4['funding_total_usd'].isnull().sum()"
      ],
      "execution_count": null,
      "outputs": [
        {
          "output_type": "execute_result",
          "data": {
            "text/plain": [
              "8531"
            ]
          },
          "metadata": {
            "tags": []
          },
          "execution_count": 36
        }
      ]
    },
    {
      "cell_type": "code",
      "metadata": {
        "id": "aenoO664F6uk"
      },
      "source": [
        "data4['funding_total_usd'].replace(np.nan, 0, inplace=True)"
      ],
      "execution_count": null,
      "outputs": []
    },
    {
      "cell_type": "code",
      "metadata": {
        "colab": {
          "base_uri": "https://localhost:8080/"
        },
        "id": "eFdJXEOPiloX",
        "outputId": "2b2a435d-d185-4d9a-d877-bb413d902429"
      },
      "source": [
        "data4['funding_total_usd'].isnull().sum()"
      ],
      "execution_count": null,
      "outputs": [
        {
          "output_type": "execute_result",
          "data": {
            "text/plain": [
              "0"
            ]
          },
          "metadata": {
            "tags": []
          },
          "execution_count": 38
        }
      ]
    },
    {
      "cell_type": "markdown",
      "metadata": {
        "id": "GRUI3Cq6xq2l"
      },
      "source": [
        "3. Missing value in status will be replaced by majority status 'operating'"
      ]
    },
    {
      "cell_type": "code",
      "metadata": {
        "colab": {
          "base_uri": "https://localhost:8080/"
        },
        "id": "i5v7Ze0WxoPh",
        "outputId": "05dbb3d4-c3ec-4698-9e97-5f8604132f15"
      },
      "source": [
        "data4['status'].value_counts()"
      ],
      "execution_count": null,
      "outputs": [
        {
          "output_type": "execute_result",
          "data": {
            "text/plain": [
              "operating    41829\n",
              "acquired      3692\n",
              "closed        2602\n",
              "Name: status, dtype: int64"
            ]
          },
          "metadata": {
            "tags": []
          },
          "execution_count": 39
        }
      ]
    },
    {
      "cell_type": "code",
      "metadata": {
        "colab": {
          "base_uri": "https://localhost:8080/"
        },
        "id": "Bjw3w_8Bx2ik",
        "outputId": "ce889526-0d56-479e-c319-beda5c013d58"
      },
      "source": [
        "data4['status'].isnull().sum()"
      ],
      "execution_count": null,
      "outputs": [
        {
          "output_type": "execute_result",
          "data": {
            "text/plain": [
              "1314"
            ]
          },
          "metadata": {
            "tags": []
          },
          "execution_count": 40
        }
      ]
    },
    {
      "cell_type": "code",
      "metadata": {
        "id": "apllV6Kex5dk"
      },
      "source": [
        "data4['status'].replace(np.nan, 'operating', inplace=True)"
      ],
      "execution_count": null,
      "outputs": []
    },
    {
      "cell_type": "code",
      "metadata": {
        "colab": {
          "base_uri": "https://localhost:8080/"
        },
        "id": "ZLDhZOZoyCuh",
        "outputId": "49d88eaf-4ef3-450c-8b5b-2822dd00ecbd"
      },
      "source": [
        "data4['status'].isnull().sum()"
      ],
      "execution_count": null,
      "outputs": [
        {
          "output_type": "execute_result",
          "data": {
            "text/plain": [
              "0"
            ]
          },
          "metadata": {
            "tags": []
          },
          "execution_count": 42
        }
      ]
    },
    {
      "cell_type": "markdown",
      "metadata": {
        "id": "a1twXDe0yI88"
      },
      "source": [
        "4. Missing value in 'Country_Code' & 'Region' will be replaced with 'other'"
      ]
    },
    {
      "cell_type": "code",
      "metadata": {
        "colab": {
          "base_uri": "https://localhost:8080/"
        },
        "id": "25CyBMTiyIBb",
        "outputId": "7983cfab-4b07-484d-e47f-a27bbc2e0670"
      },
      "source": [
        "data4['country_code'].value_counts()"
      ],
      "execution_count": null,
      "outputs": [
        {
          "output_type": "execute_result",
          "data": {
            "text/plain": [
              "USA    28793\n",
              "GBR     2642\n",
              "CAN     1405\n",
              "CHN     1239\n",
              "DEU      968\n",
              "       ...  \n",
              "LIE        1\n",
              "SYC        1\n",
              "CIV        1\n",
              "JAM        1\n",
              "MOZ        1\n",
              "Name: country_code, Length: 115, dtype: int64"
            ]
          },
          "metadata": {
            "tags": []
          },
          "execution_count": 43
        }
      ]
    },
    {
      "cell_type": "code",
      "metadata": {
        "id": "FUKNoIRxydLq"
      },
      "source": [
        "data4['country_code'].replace(np.nan, 'other', inplace=True)"
      ],
      "execution_count": null,
      "outputs": []
    },
    {
      "cell_type": "code",
      "metadata": {
        "colab": {
          "base_uri": "https://localhost:8080/"
        },
        "id": "nZaVV8RtyF8J",
        "outputId": "08ca8e9e-8d3e-4538-abc8-32aa7c371c45"
      },
      "source": [
        "data4['country_code'].isnull().sum()"
      ],
      "execution_count": null,
      "outputs": [
        {
          "output_type": "execute_result",
          "data": {
            "text/plain": [
              "0"
            ]
          },
          "metadata": {
            "tags": []
          },
          "execution_count": 45
        }
      ]
    },
    {
      "cell_type": "code",
      "metadata": {
        "colab": {
          "base_uri": "https://localhost:8080/"
        },
        "id": "_wcYFi5RysqS",
        "outputId": "341e91fa-72e0-4a36-f376-c09d9fbd3a2e"
      },
      "source": [
        "data4['region'].value_counts()"
      ],
      "execution_count": null,
      "outputs": [
        {
          "output_type": "execute_result",
          "data": {
            "text/plain": [
              "SF Bay Area            6804\n",
              "New York City          2577\n",
              "Boston                 1837\n",
              "London                 1588\n",
              "Los Angeles            1389\n",
              "                       ... \n",
              "Baja California Sur       1\n",
              "Simferopol                1\n",
              "Truro                     1\n",
              "Maple Ridge               1\n",
              "Enfield Lock              1\n",
              "Name: region, Length: 1089, dtype: int64"
            ]
          },
          "metadata": {
            "tags": []
          },
          "execution_count": 46
        }
      ]
    },
    {
      "cell_type": "code",
      "metadata": {
        "colab": {
          "base_uri": "https://localhost:8080/"
        },
        "id": "ZH6YX4e9y0Wm",
        "outputId": "4b54346c-a76f-4581-aed2-d8661cf56470"
      },
      "source": [
        "data4['region'].isnull().sum()"
      ],
      "execution_count": null,
      "outputs": [
        {
          "output_type": "execute_result",
          "data": {
            "text/plain": [
              "5272"
            ]
          },
          "metadata": {
            "tags": []
          },
          "execution_count": 47
        }
      ]
    },
    {
      "cell_type": "code",
      "metadata": {
        "id": "sUMakn2Sy4IW"
      },
      "source": [
        "data4['region'].replace(np.nan, 'other', inplace=True)"
      ],
      "execution_count": null,
      "outputs": []
    },
    {
      "cell_type": "markdown",
      "metadata": {
        "id": "AFAui9z3y9eh"
      },
      "source": [
        "5. Missing Value in Founded_Year will be replaced by mean of their value."
      ]
    },
    {
      "cell_type": "code",
      "metadata": {
        "id": "c2AXkDhXzCXS"
      },
      "source": [
        "avg_founded_year = data4['founded_year'].astype(\"float\").mean(axis=0)\n",
        "data4[\"founded_year\"].replace(np.nan, avg_founded_year, inplace=True)\n"
      ],
      "execution_count": null,
      "outputs": []
    },
    {
      "cell_type": "code",
      "metadata": {
        "colab": {
          "base_uri": "https://localhost:8080/"
        },
        "id": "Bv6Y4Fkf0jUs",
        "outputId": "f4e3bdda-0ce0-4de0-b5ce-3fda7d292958"
      },
      "source": [
        "data4.isnull().sum()"
      ],
      "execution_count": null,
      "outputs": [
        {
          "output_type": "execute_result",
          "data": {
            "text/plain": [
              "market                  0\n",
              "funding_total_usd       0\n",
              "status                  0\n",
              "country_code            0\n",
              "region                  0\n",
              "funding_rounds          0\n",
              "founded_year            0\n",
              "seed                    0\n",
              "venture                 0\n",
              "equity_crowdfunding     0\n",
              "undisclosed             0\n",
              "convertible_note        0\n",
              "debt_financing          0\n",
              "angel                   0\n",
              "grant                   0\n",
              "private_equity          0\n",
              "post_ipo_equity         0\n",
              "post_ipo_debt           0\n",
              "secondary_market        0\n",
              "product_crowdfunding    0\n",
              "round_A                 0\n",
              "round_B                 0\n",
              "round_C                 0\n",
              "round_D                 0\n",
              "round_E                 0\n",
              "round_F                 0\n",
              "round_G                 0\n",
              "round_H                 0\n",
              "dtype: int64"
            ]
          },
          "metadata": {
            "tags": []
          },
          "execution_count": 50
        }
      ]
    },
    {
      "cell_type": "markdown",
      "metadata": {
        "id": "QTaY2MEK19rA"
      },
      "source": [
        "## 5. Add Target Variable"
      ]
    },
    {
      "cell_type": "code",
      "metadata": {
        "id": "-ftWLPbM2PQb"
      },
      "source": [
        "data4['M&A'] = data4['status'].map(lambda m :1  if m == 'acquired' else 0)"
      ],
      "execution_count": null,
      "outputs": []
    },
    {
      "cell_type": "code",
      "metadata": {
        "id": "dmdQivBm2PQc"
      },
      "source": [
        "data4['ipo'] = data4['post_ipo_equity'].map(lambda i:1 if i>0 else 0)"
      ],
      "execution_count": null,
      "outputs": []
    },
    {
      "cell_type": "code",
      "metadata": {
        "colab": {
          "base_uri": "https://localhost:8080/",
          "height": 207
        },
        "id": "t6YXwbWN2PQc",
        "outputId": "cbb5c7d7-92bb-4e11-e2ba-25018538a989"
      },
      "source": [
        "data4['target'] =  data4['M&A'] | data4['ipo']\n",
        "data4.head(3)"
      ],
      "execution_count": null,
      "outputs": [
        {
          "output_type": "execute_result",
          "data": {
            "text/html": [
              "<div>\n",
              "<style scoped>\n",
              "    .dataframe tbody tr th:only-of-type {\n",
              "        vertical-align: middle;\n",
              "    }\n",
              "\n",
              "    .dataframe tbody tr th {\n",
              "        vertical-align: top;\n",
              "    }\n",
              "\n",
              "    .dataframe thead th {\n",
              "        text-align: right;\n",
              "    }\n",
              "</style>\n",
              "<table border=\"1\" class=\"dataframe\">\n",
              "  <thead>\n",
              "    <tr style=\"text-align: right;\">\n",
              "      <th></th>\n",
              "      <th>market</th>\n",
              "      <th>funding_total_usd</th>\n",
              "      <th>status</th>\n",
              "      <th>country_code</th>\n",
              "      <th>region</th>\n",
              "      <th>funding_rounds</th>\n",
              "      <th>founded_year</th>\n",
              "      <th>seed</th>\n",
              "      <th>venture</th>\n",
              "      <th>equity_crowdfunding</th>\n",
              "      <th>undisclosed</th>\n",
              "      <th>convertible_note</th>\n",
              "      <th>debt_financing</th>\n",
              "      <th>angel</th>\n",
              "      <th>grant</th>\n",
              "      <th>private_equity</th>\n",
              "      <th>post_ipo_equity</th>\n",
              "      <th>post_ipo_debt</th>\n",
              "      <th>secondary_market</th>\n",
              "      <th>product_crowdfunding</th>\n",
              "      <th>round_A</th>\n",
              "      <th>round_B</th>\n",
              "      <th>round_C</th>\n",
              "      <th>round_D</th>\n",
              "      <th>round_E</th>\n",
              "      <th>round_F</th>\n",
              "      <th>round_G</th>\n",
              "      <th>round_H</th>\n",
              "      <th>M&amp;A</th>\n",
              "      <th>ipo</th>\n",
              "      <th>target</th>\n",
              "    </tr>\n",
              "  </thead>\n",
              "  <tbody>\n",
              "    <tr>\n",
              "      <th>0</th>\n",
              "      <td>News</td>\n",
              "      <td>1750000.0</td>\n",
              "      <td>acquired</td>\n",
              "      <td>USA</td>\n",
              "      <td>New York City</td>\n",
              "      <td>1.0</td>\n",
              "      <td>2012.000000</td>\n",
              "      <td>1750000.0</td>\n",
              "      <td>0.0</td>\n",
              "      <td>0.0</td>\n",
              "      <td>0.0</td>\n",
              "      <td>0.0</td>\n",
              "      <td>0.0</td>\n",
              "      <td>0.0</td>\n",
              "      <td>0.0</td>\n",
              "      <td>0.0</td>\n",
              "      <td>0.0</td>\n",
              "      <td>0.0</td>\n",
              "      <td>0.0</td>\n",
              "      <td>0.0</td>\n",
              "      <td>0.0</td>\n",
              "      <td>0.0</td>\n",
              "      <td>0.0</td>\n",
              "      <td>0.0</td>\n",
              "      <td>0.0</td>\n",
              "      <td>0.0</td>\n",
              "      <td>0.0</td>\n",
              "      <td>0.0</td>\n",
              "      <td>1</td>\n",
              "      <td>0</td>\n",
              "      <td>1</td>\n",
              "    </tr>\n",
              "    <tr>\n",
              "      <th>1</th>\n",
              "      <td>Games</td>\n",
              "      <td>4000000.0</td>\n",
              "      <td>operating</td>\n",
              "      <td>USA</td>\n",
              "      <td>Los Angeles</td>\n",
              "      <td>2.0</td>\n",
              "      <td>2007.359034</td>\n",
              "      <td>0.0</td>\n",
              "      <td>4000000.0</td>\n",
              "      <td>0.0</td>\n",
              "      <td>0.0</td>\n",
              "      <td>0.0</td>\n",
              "      <td>0.0</td>\n",
              "      <td>0.0</td>\n",
              "      <td>0.0</td>\n",
              "      <td>0.0</td>\n",
              "      <td>0.0</td>\n",
              "      <td>0.0</td>\n",
              "      <td>0.0</td>\n",
              "      <td>0.0</td>\n",
              "      <td>0.0</td>\n",
              "      <td>0.0</td>\n",
              "      <td>0.0</td>\n",
              "      <td>0.0</td>\n",
              "      <td>0.0</td>\n",
              "      <td>0.0</td>\n",
              "      <td>0.0</td>\n",
              "      <td>0.0</td>\n",
              "      <td>0</td>\n",
              "      <td>0</td>\n",
              "      <td>0</td>\n",
              "    </tr>\n",
              "    <tr>\n",
              "      <th>2</th>\n",
              "      <td>Publishing</td>\n",
              "      <td>40000.0</td>\n",
              "      <td>operating</td>\n",
              "      <td>EST</td>\n",
              "      <td>Tallinn</td>\n",
              "      <td>1.0</td>\n",
              "      <td>2012.000000</td>\n",
              "      <td>40000.0</td>\n",
              "      <td>0.0</td>\n",
              "      <td>0.0</td>\n",
              "      <td>0.0</td>\n",
              "      <td>0.0</td>\n",
              "      <td>0.0</td>\n",
              "      <td>0.0</td>\n",
              "      <td>0.0</td>\n",
              "      <td>0.0</td>\n",
              "      <td>0.0</td>\n",
              "      <td>0.0</td>\n",
              "      <td>0.0</td>\n",
              "      <td>0.0</td>\n",
              "      <td>0.0</td>\n",
              "      <td>0.0</td>\n",
              "      <td>0.0</td>\n",
              "      <td>0.0</td>\n",
              "      <td>0.0</td>\n",
              "      <td>0.0</td>\n",
              "      <td>0.0</td>\n",
              "      <td>0.0</td>\n",
              "      <td>0</td>\n",
              "      <td>0</td>\n",
              "      <td>0</td>\n",
              "    </tr>\n",
              "  </tbody>\n",
              "</table>\n",
              "</div>"
            ],
            "text/plain": [
              "         market  funding_total_usd     status  ... M&A ipo  target\n",
              "0         News           1750000.0   acquired  ...   1   0       1\n",
              "1        Games           4000000.0  operating  ...   0   0       0\n",
              "2   Publishing             40000.0  operating  ...   0   0       0\n",
              "\n",
              "[3 rows x 31 columns]"
            ]
          },
          "metadata": {
            "tags": []
          },
          "execution_count": 53
        }
      ]
    },
    {
      "cell_type": "code",
      "metadata": {
        "colab": {
          "base_uri": "https://localhost:8080/",
          "height": 177
        },
        "id": "5aPzmLrESlYW",
        "outputId": "8c3be637-c408-4da8-dde6-97d9d162b80d"
      },
      "source": [
        "data4 = data4.drop(columns=['ipo','M&A'])\n",
        "data4.head(2)\n"
      ],
      "execution_count": null,
      "outputs": [
        {
          "output_type": "execute_result",
          "data": {
            "text/html": [
              "<div>\n",
              "<style scoped>\n",
              "    .dataframe tbody tr th:only-of-type {\n",
              "        vertical-align: middle;\n",
              "    }\n",
              "\n",
              "    .dataframe tbody tr th {\n",
              "        vertical-align: top;\n",
              "    }\n",
              "\n",
              "    .dataframe thead th {\n",
              "        text-align: right;\n",
              "    }\n",
              "</style>\n",
              "<table border=\"1\" class=\"dataframe\">\n",
              "  <thead>\n",
              "    <tr style=\"text-align: right;\">\n",
              "      <th></th>\n",
              "      <th>market</th>\n",
              "      <th>funding_total_usd</th>\n",
              "      <th>status</th>\n",
              "      <th>country_code</th>\n",
              "      <th>region</th>\n",
              "      <th>funding_rounds</th>\n",
              "      <th>founded_year</th>\n",
              "      <th>seed</th>\n",
              "      <th>venture</th>\n",
              "      <th>equity_crowdfunding</th>\n",
              "      <th>undisclosed</th>\n",
              "      <th>convertible_note</th>\n",
              "      <th>debt_financing</th>\n",
              "      <th>angel</th>\n",
              "      <th>grant</th>\n",
              "      <th>private_equity</th>\n",
              "      <th>post_ipo_equity</th>\n",
              "      <th>post_ipo_debt</th>\n",
              "      <th>secondary_market</th>\n",
              "      <th>product_crowdfunding</th>\n",
              "      <th>round_A</th>\n",
              "      <th>round_B</th>\n",
              "      <th>round_C</th>\n",
              "      <th>round_D</th>\n",
              "      <th>round_E</th>\n",
              "      <th>round_F</th>\n",
              "      <th>round_G</th>\n",
              "      <th>round_H</th>\n",
              "      <th>target</th>\n",
              "    </tr>\n",
              "  </thead>\n",
              "  <tbody>\n",
              "    <tr>\n",
              "      <th>0</th>\n",
              "      <td>News</td>\n",
              "      <td>1750000.0</td>\n",
              "      <td>acquired</td>\n",
              "      <td>USA</td>\n",
              "      <td>New York City</td>\n",
              "      <td>1.0</td>\n",
              "      <td>2012.000000</td>\n",
              "      <td>1750000.0</td>\n",
              "      <td>0.0</td>\n",
              "      <td>0.0</td>\n",
              "      <td>0.0</td>\n",
              "      <td>0.0</td>\n",
              "      <td>0.0</td>\n",
              "      <td>0.0</td>\n",
              "      <td>0.0</td>\n",
              "      <td>0.0</td>\n",
              "      <td>0.0</td>\n",
              "      <td>0.0</td>\n",
              "      <td>0.0</td>\n",
              "      <td>0.0</td>\n",
              "      <td>0.0</td>\n",
              "      <td>0.0</td>\n",
              "      <td>0.0</td>\n",
              "      <td>0.0</td>\n",
              "      <td>0.0</td>\n",
              "      <td>0.0</td>\n",
              "      <td>0.0</td>\n",
              "      <td>0.0</td>\n",
              "      <td>1</td>\n",
              "    </tr>\n",
              "    <tr>\n",
              "      <th>1</th>\n",
              "      <td>Games</td>\n",
              "      <td>4000000.0</td>\n",
              "      <td>operating</td>\n",
              "      <td>USA</td>\n",
              "      <td>Los Angeles</td>\n",
              "      <td>2.0</td>\n",
              "      <td>2007.359034</td>\n",
              "      <td>0.0</td>\n",
              "      <td>4000000.0</td>\n",
              "      <td>0.0</td>\n",
              "      <td>0.0</td>\n",
              "      <td>0.0</td>\n",
              "      <td>0.0</td>\n",
              "      <td>0.0</td>\n",
              "      <td>0.0</td>\n",
              "      <td>0.0</td>\n",
              "      <td>0.0</td>\n",
              "      <td>0.0</td>\n",
              "      <td>0.0</td>\n",
              "      <td>0.0</td>\n",
              "      <td>0.0</td>\n",
              "      <td>0.0</td>\n",
              "      <td>0.0</td>\n",
              "      <td>0.0</td>\n",
              "      <td>0.0</td>\n",
              "      <td>0.0</td>\n",
              "      <td>0.0</td>\n",
              "      <td>0.0</td>\n",
              "      <td>0</td>\n",
              "    </tr>\n",
              "  </tbody>\n",
              "</table>\n",
              "</div>"
            ],
            "text/plain": [
              "    market  funding_total_usd     status  ... round_G round_H  target\n",
              "0    News           1750000.0   acquired  ...     0.0     0.0       1\n",
              "1   Games           4000000.0  operating  ...     0.0     0.0       0\n",
              "\n",
              "[2 rows x 29 columns]"
            ]
          },
          "metadata": {
            "tags": []
          },
          "execution_count": 54
        }
      ]
    },
    {
      "cell_type": "code",
      "metadata": {
        "colab": {
          "base_uri": "https://localhost:8080/"
        },
        "id": "6a1vauEB2hhE",
        "outputId": "668b73c5-6231-4a6d-e1e1-58805b738790"
      },
      "source": [
        "data4.info()"
      ],
      "execution_count": null,
      "outputs": [
        {
          "output_type": "stream",
          "text": [
            "<class 'pandas.core.frame.DataFrame'>\n",
            "Int64Index: 49437 entries, 0 to 49437\n",
            "Data columns (total 29 columns):\n",
            " #   Column                Non-Null Count  Dtype  \n",
            "---  ------                --------------  -----  \n",
            " 0   market                49437 non-null  object \n",
            " 1   funding_total_usd     49437 non-null  float64\n",
            " 2   status                49437 non-null  object \n",
            " 3   country_code          49437 non-null  object \n",
            " 4   region                49437 non-null  object \n",
            " 5   funding_rounds        49437 non-null  float64\n",
            " 6   founded_year          49437 non-null  float64\n",
            " 7   seed                  49437 non-null  float64\n",
            " 8   venture               49437 non-null  float64\n",
            " 9   equity_crowdfunding   49437 non-null  float64\n",
            " 10  undisclosed           49437 non-null  float64\n",
            " 11  convertible_note      49437 non-null  float64\n",
            " 12  debt_financing        49437 non-null  float64\n",
            " 13  angel                 49437 non-null  float64\n",
            " 14  grant                 49437 non-null  float64\n",
            " 15  private_equity        49437 non-null  float64\n",
            " 16  post_ipo_equity       49437 non-null  float64\n",
            " 17  post_ipo_debt         49437 non-null  float64\n",
            " 18  secondary_market      49437 non-null  float64\n",
            " 19  product_crowdfunding  49437 non-null  float64\n",
            " 20  round_A               49437 non-null  float64\n",
            " 21  round_B               49437 non-null  float64\n",
            " 22  round_C               49437 non-null  float64\n",
            " 23  round_D               49437 non-null  float64\n",
            " 24  round_E               49437 non-null  float64\n",
            " 25  round_F               49437 non-null  float64\n",
            " 26  round_G               49437 non-null  float64\n",
            " 27  round_H               49437 non-null  float64\n",
            " 28  target                49437 non-null  int64  \n",
            "dtypes: float64(24), int64(1), object(4)\n",
            "memory usage: 11.3+ MB\n"
          ],
          "name": "stdout"
        }
      ]
    },
    {
      "cell_type": "code",
      "metadata": {
        "colab": {
          "base_uri": "https://localhost:8080/"
        },
        "id": "UhBvHDM8MUJm",
        "outputId": "d076cb45-3611-40ca-bbd5-72d316f0dcdc"
      },
      "source": [
        "data4.columns"
      ],
      "execution_count": null,
      "outputs": [
        {
          "output_type": "execute_result",
          "data": {
            "text/plain": [
              "Index(['market', 'funding_total_usd', 'status', 'country_code', 'region',\n",
              "       'funding_rounds', 'founded_year', 'seed', 'venture',\n",
              "       'equity_crowdfunding', 'undisclosed', 'convertible_note',\n",
              "       'debt_financing', 'angel', 'grant', 'private_equity', 'post_ipo_equity',\n",
              "       'post_ipo_debt', 'secondary_market', 'product_crowdfunding', 'round_A',\n",
              "       'round_B', 'round_C', 'round_D', 'round_E', 'round_F', 'round_G',\n",
              "       'round_H', 'target'],\n",
              "      dtype='object')"
            ]
          },
          "metadata": {
            "tags": []
          },
          "execution_count": 56
        }
      ]
    },
    {
      "cell_type": "markdown",
      "metadata": {
        "id": "jr-NJ50A3RxT"
      },
      "source": [
        "## 6. Change Object Data Type into Numeric "
      ]
    },
    {
      "cell_type": "code",
      "metadata": {
        "colab": {
          "base_uri": "https://localhost:8080/",
          "height": 167
        },
        "id": "K2_HbrT12vLt",
        "outputId": "1d21287f-f123-4b27-e17c-a8739b02e4be"
      },
      "source": [
        "data4.describe(include= 'object')"
      ],
      "execution_count": null,
      "outputs": [
        {
          "output_type": "execute_result",
          "data": {
            "text/html": [
              "<div>\n",
              "<style scoped>\n",
              "    .dataframe tbody tr th:only-of-type {\n",
              "        vertical-align: middle;\n",
              "    }\n",
              "\n",
              "    .dataframe tbody tr th {\n",
              "        vertical-align: top;\n",
              "    }\n",
              "\n",
              "    .dataframe thead th {\n",
              "        text-align: right;\n",
              "    }\n",
              "</style>\n",
              "<table border=\"1\" class=\"dataframe\">\n",
              "  <thead>\n",
              "    <tr style=\"text-align: right;\">\n",
              "      <th></th>\n",
              "      <th>market</th>\n",
              "      <th>status</th>\n",
              "      <th>country_code</th>\n",
              "      <th>region</th>\n",
              "    </tr>\n",
              "  </thead>\n",
              "  <tbody>\n",
              "    <tr>\n",
              "      <th>count</th>\n",
              "      <td>49437</td>\n",
              "      <td>49437</td>\n",
              "      <td>49437</td>\n",
              "      <td>49437</td>\n",
              "    </tr>\n",
              "    <tr>\n",
              "      <th>unique</th>\n",
              "      <td>754</td>\n",
              "      <td>3</td>\n",
              "      <td>116</td>\n",
              "      <td>1090</td>\n",
              "    </tr>\n",
              "    <tr>\n",
              "      <th>top</th>\n",
              "      <td>Software</td>\n",
              "      <td>operating</td>\n",
              "      <td>USA</td>\n",
              "      <td>SF Bay Area</td>\n",
              "    </tr>\n",
              "    <tr>\n",
              "      <th>freq</th>\n",
              "      <td>4620</td>\n",
              "      <td>43143</td>\n",
              "      <td>28793</td>\n",
              "      <td>6804</td>\n",
              "    </tr>\n",
              "  </tbody>\n",
              "</table>\n",
              "</div>"
            ],
            "text/plain": [
              "            market     status country_code       region\n",
              "count        49437      49437        49437        49437\n",
              "unique         754          3          116         1090\n",
              "top      Software   operating          USA  SF Bay Area\n",
              "freq          4620      43143        28793         6804"
            ]
          },
          "metadata": {
            "tags": []
          },
          "execution_count": 57
        }
      ]
    },
    {
      "cell_type": "code",
      "metadata": {
        "id": "nE-kQdJD6emR"
      },
      "source": [
        "from sklearn.preprocessing import LabelBinarizer, LabelEncoder, OrdinalEncoder\n",
        "le = LabelEncoder()"
      ],
      "execution_count": null,
      "outputs": []
    },
    {
      "cell_type": "code",
      "metadata": {
        "id": "cMLjtf_C6JVW"
      },
      "source": [
        "categorical_variables = ['status','market', 'country_code', 'region']"
      ],
      "execution_count": null,
      "outputs": []
    },
    {
      "cell_type": "code",
      "metadata": {
        "id": "v1B9eTzp3clq"
      },
      "source": [
        "for column in categorical_variables:\n",
        "    data4[column] = le.fit_transform(data4[column])\n"
      ],
      "execution_count": null,
      "outputs": []
    },
    {
      "cell_type": "code",
      "metadata": {
        "colab": {
          "base_uri": "https://localhost:8080/"
        },
        "id": "QHDEngXz67xq",
        "outputId": "982c28e5-2f8c-4bcf-d7b8-f674ba34a463"
      },
      "source": [
        "data4['region'].sample(5)"
      ],
      "execution_count": null,
      "outputs": [
        {
          "output_type": "execute_result",
          "data": {
            "text/plain": [
              "32138    836\n",
              "15443    699\n",
              "37955    887\n",
              "24119    761\n",
              "15800     96\n",
              "Name: region, dtype: int64"
            ]
          },
          "metadata": {
            "tags": []
          },
          "execution_count": 61
        }
      ]
    },
    {
      "cell_type": "code",
      "metadata": {
        "colab": {
          "base_uri": "https://localhost:8080/",
          "height": 127
        },
        "id": "txlUpR-e7hq-",
        "outputId": "c8a8665f-f76a-406f-80cb-b0b77103e1ef"
      },
      "source": [
        "data4.head(2)"
      ],
      "execution_count": null,
      "outputs": [
        {
          "output_type": "execute_result",
          "data": {
            "text/html": [
              "<div>\n",
              "<style scoped>\n",
              "    .dataframe tbody tr th:only-of-type {\n",
              "        vertical-align: middle;\n",
              "    }\n",
              "\n",
              "    .dataframe tbody tr th {\n",
              "        vertical-align: top;\n",
              "    }\n",
              "\n",
              "    .dataframe thead th {\n",
              "        text-align: right;\n",
              "    }\n",
              "</style>\n",
              "<table border=\"1\" class=\"dataframe\">\n",
              "  <thead>\n",
              "    <tr style=\"text-align: right;\">\n",
              "      <th></th>\n",
              "      <th>market</th>\n",
              "      <th>funding_total_usd</th>\n",
              "      <th>status</th>\n",
              "      <th>country_code</th>\n",
              "      <th>region</th>\n",
              "      <th>funding_rounds</th>\n",
              "      <th>founded_year</th>\n",
              "      <th>seed</th>\n",
              "      <th>venture</th>\n",
              "      <th>equity_crowdfunding</th>\n",
              "      <th>undisclosed</th>\n",
              "      <th>convertible_note</th>\n",
              "      <th>debt_financing</th>\n",
              "      <th>angel</th>\n",
              "      <th>grant</th>\n",
              "      <th>private_equity</th>\n",
              "      <th>post_ipo_equity</th>\n",
              "      <th>post_ipo_debt</th>\n",
              "      <th>secondary_market</th>\n",
              "      <th>product_crowdfunding</th>\n",
              "      <th>round_A</th>\n",
              "      <th>round_B</th>\n",
              "      <th>round_C</th>\n",
              "      <th>round_D</th>\n",
              "      <th>round_E</th>\n",
              "      <th>round_F</th>\n",
              "      <th>round_G</th>\n",
              "      <th>round_H</th>\n",
              "      <th>target</th>\n",
              "    </tr>\n",
              "  </thead>\n",
              "  <tbody>\n",
              "    <tr>\n",
              "      <th>0</th>\n",
              "      <td>465</td>\n",
              "      <td>1750000.0</td>\n",
              "      <td>0</td>\n",
              "      <td>110</td>\n",
              "      <td>699</td>\n",
              "      <td>1.0</td>\n",
              "      <td>2012.000000</td>\n",
              "      <td>1750000.0</td>\n",
              "      <td>0.0</td>\n",
              "      <td>0.0</td>\n",
              "      <td>0.0</td>\n",
              "      <td>0.0</td>\n",
              "      <td>0.0</td>\n",
              "      <td>0.0</td>\n",
              "      <td>0.0</td>\n",
              "      <td>0.0</td>\n",
              "      <td>0.0</td>\n",
              "      <td>0.0</td>\n",
              "      <td>0.0</td>\n",
              "      <td>0.0</td>\n",
              "      <td>0.0</td>\n",
              "      <td>0.0</td>\n",
              "      <td>0.0</td>\n",
              "      <td>0.0</td>\n",
              "      <td>0.0</td>\n",
              "      <td>0.0</td>\n",
              "      <td>0.0</td>\n",
              "      <td>0.0</td>\n",
              "      <td>1</td>\n",
              "    </tr>\n",
              "    <tr>\n",
              "      <th>1</th>\n",
              "      <td>277</td>\n",
              "      <td>4000000.0</td>\n",
              "      <td>2</td>\n",
              "      <td>110</td>\n",
              "      <td>570</td>\n",
              "      <td>2.0</td>\n",
              "      <td>2007.359034</td>\n",
              "      <td>0.0</td>\n",
              "      <td>4000000.0</td>\n",
              "      <td>0.0</td>\n",
              "      <td>0.0</td>\n",
              "      <td>0.0</td>\n",
              "      <td>0.0</td>\n",
              "      <td>0.0</td>\n",
              "      <td>0.0</td>\n",
              "      <td>0.0</td>\n",
              "      <td>0.0</td>\n",
              "      <td>0.0</td>\n",
              "      <td>0.0</td>\n",
              "      <td>0.0</td>\n",
              "      <td>0.0</td>\n",
              "      <td>0.0</td>\n",
              "      <td>0.0</td>\n",
              "      <td>0.0</td>\n",
              "      <td>0.0</td>\n",
              "      <td>0.0</td>\n",
              "      <td>0.0</td>\n",
              "      <td>0.0</td>\n",
              "      <td>0</td>\n",
              "    </tr>\n",
              "  </tbody>\n",
              "</table>\n",
              "</div>"
            ],
            "text/plain": [
              "   market  funding_total_usd  status  ...  round_G  round_H  target\n",
              "0     465          1750000.0       0  ...      0.0      0.0       1\n",
              "1     277          4000000.0       2  ...      0.0      0.0       0\n",
              "\n",
              "[2 rows x 29 columns]"
            ]
          },
          "metadata": {
            "tags": []
          },
          "execution_count": 62
        }
      ]
    },
    {
      "cell_type": "code",
      "metadata": {
        "colab": {
          "base_uri": "https://localhost:8080/"
        },
        "id": "iwDnoWH57USc",
        "outputId": "12567af0-2edc-4eb1-a065-2e611eb249cc"
      },
      "source": [
        "data4.info() #CHECK if all categories are transformed into numeric variables"
      ],
      "execution_count": null,
      "outputs": [
        {
          "output_type": "stream",
          "text": [
            "<class 'pandas.core.frame.DataFrame'>\n",
            "Int64Index: 49437 entries, 0 to 49437\n",
            "Data columns (total 29 columns):\n",
            " #   Column                Non-Null Count  Dtype  \n",
            "---  ------                --------------  -----  \n",
            " 0   market                49437 non-null  int64  \n",
            " 1   funding_total_usd     49437 non-null  float64\n",
            " 2   status                49437 non-null  int64  \n",
            " 3   country_code          49437 non-null  int64  \n",
            " 4   region                49437 non-null  int64  \n",
            " 5   funding_rounds        49437 non-null  float64\n",
            " 6   founded_year          49437 non-null  float64\n",
            " 7   seed                  49437 non-null  float64\n",
            " 8   venture               49437 non-null  float64\n",
            " 9   equity_crowdfunding   49437 non-null  float64\n",
            " 10  undisclosed           49437 non-null  float64\n",
            " 11  convertible_note      49437 non-null  float64\n",
            " 12  debt_financing        49437 non-null  float64\n",
            " 13  angel                 49437 non-null  float64\n",
            " 14  grant                 49437 non-null  float64\n",
            " 15  private_equity        49437 non-null  float64\n",
            " 16  post_ipo_equity       49437 non-null  float64\n",
            " 17  post_ipo_debt         49437 non-null  float64\n",
            " 18  secondary_market      49437 non-null  float64\n",
            " 19  product_crowdfunding  49437 non-null  float64\n",
            " 20  round_A               49437 non-null  float64\n",
            " 21  round_B               49437 non-null  float64\n",
            " 22  round_C               49437 non-null  float64\n",
            " 23  round_D               49437 non-null  float64\n",
            " 24  round_E               49437 non-null  float64\n",
            " 25  round_F               49437 non-null  float64\n",
            " 26  round_G               49437 non-null  float64\n",
            " 27  round_H               49437 non-null  float64\n",
            " 28  target                49437 non-null  int64  \n",
            "dtypes: float64(24), int64(5)\n",
            "memory usage: 11.3 MB\n"
          ],
          "name": "stdout"
        }
      ]
    },
    {
      "cell_type": "code",
      "metadata": {
        "colab": {
          "base_uri": "https://localhost:8080/",
          "height": 917
        },
        "id": "zEdngYmo72nE",
        "outputId": "7b5c5fc0-a6f4-419d-f8c7-05b8bf91fa7f"
      },
      "source": [
        "data4.describe().T"
      ],
      "execution_count": null,
      "outputs": [
        {
          "output_type": "execute_result",
          "data": {
            "text/html": [
              "<div>\n",
              "<style scoped>\n",
              "    .dataframe tbody tr th:only-of-type {\n",
              "        vertical-align: middle;\n",
              "    }\n",
              "\n",
              "    .dataframe tbody tr th {\n",
              "        vertical-align: top;\n",
              "    }\n",
              "\n",
              "    .dataframe thead th {\n",
              "        text-align: right;\n",
              "    }\n",
              "</style>\n",
              "<table border=\"1\" class=\"dataframe\">\n",
              "  <thead>\n",
              "    <tr style=\"text-align: right;\">\n",
              "      <th></th>\n",
              "      <th>count</th>\n",
              "      <th>mean</th>\n",
              "      <th>std</th>\n",
              "      <th>min</th>\n",
              "      <th>25%</th>\n",
              "      <th>50%</th>\n",
              "      <th>75%</th>\n",
              "      <th>max</th>\n",
              "    </tr>\n",
              "  </thead>\n",
              "  <tbody>\n",
              "    <tr>\n",
              "      <th>market</th>\n",
              "      <td>49437.0</td>\n",
              "      <td>3.799170e+02</td>\n",
              "      <td>2.375538e+02</td>\n",
              "      <td>0.0</td>\n",
              "      <td>184.0</td>\n",
              "      <td>351.0</td>\n",
              "      <td>622.0</td>\n",
              "      <td>7.530000e+02</td>\n",
              "    </tr>\n",
              "    <tr>\n",
              "      <th>funding_total_usd</th>\n",
              "      <td>49437.0</td>\n",
              "      <td>1.316693e+07</td>\n",
              "      <td>1.535556e+08</td>\n",
              "      <td>0.0</td>\n",
              "      <td>50000.0</td>\n",
              "      <td>1000000.0</td>\n",
              "      <td>6772388.0</td>\n",
              "      <td>3.007950e+10</td>\n",
              "    </tr>\n",
              "    <tr>\n",
              "      <th>status</th>\n",
              "      <td>49437.0</td>\n",
              "      <td>1.798006e+00</td>\n",
              "      <td>5.572798e-01</td>\n",
              "      <td>0.0</td>\n",
              "      <td>2.0</td>\n",
              "      <td>2.0</td>\n",
              "      <td>2.0</td>\n",
              "      <td>2.000000e+00</td>\n",
              "    </tr>\n",
              "    <tr>\n",
              "      <th>country_code</th>\n",
              "      <td>49437.0</td>\n",
              "      <td>8.903412e+01</td>\n",
              "      <td>3.525081e+01</td>\n",
              "      <td>0.0</td>\n",
              "      <td>51.0</td>\n",
              "      <td>110.0</td>\n",
              "      <td>110.0</td>\n",
              "      <td>1.150000e+02</td>\n",
              "    </tr>\n",
              "    <tr>\n",
              "      <th>region</th>\n",
              "      <td>49437.0</td>\n",
              "      <td>6.444210e+02</td>\n",
              "      <td>3.241698e+02</td>\n",
              "      <td>0.0</td>\n",
              "      <td>377.0</td>\n",
              "      <td>700.0</td>\n",
              "      <td>858.0</td>\n",
              "      <td>1.089000e+03</td>\n",
              "    </tr>\n",
              "    <tr>\n",
              "      <th>funding_rounds</th>\n",
              "      <td>49437.0</td>\n",
              "      <td>1.696219e+00</td>\n",
              "      <td>1.294222e+00</td>\n",
              "      <td>1.0</td>\n",
              "      <td>1.0</td>\n",
              "      <td>1.0</td>\n",
              "      <td>2.0</td>\n",
              "      <td>1.800000e+01</td>\n",
              "    </tr>\n",
              "    <tr>\n",
              "      <th>founded_year</th>\n",
              "      <td>49437.0</td>\n",
              "      <td>2.007359e+03</td>\n",
              "      <td>6.686883e+00</td>\n",
              "      <td>1902.0</td>\n",
              "      <td>2007.0</td>\n",
              "      <td>2008.0</td>\n",
              "      <td>2011.0</td>\n",
              "      <td>2.014000e+03</td>\n",
              "    </tr>\n",
              "    <tr>\n",
              "      <th>seed</th>\n",
              "      <td>49437.0</td>\n",
              "      <td>2.173254e+05</td>\n",
              "      <td>1.056995e+06</td>\n",
              "      <td>0.0</td>\n",
              "      <td>0.0</td>\n",
              "      <td>0.0</td>\n",
              "      <td>25000.0</td>\n",
              "      <td>1.300000e+08</td>\n",
              "    </tr>\n",
              "    <tr>\n",
              "      <th>venture</th>\n",
              "      <td>49437.0</td>\n",
              "      <td>7.501202e+06</td>\n",
              "      <td>2.847139e+07</td>\n",
              "      <td>0.0</td>\n",
              "      <td>0.0</td>\n",
              "      <td>0.0</td>\n",
              "      <td>5000000.0</td>\n",
              "      <td>2.351000e+09</td>\n",
              "    </tr>\n",
              "    <tr>\n",
              "      <th>equity_crowdfunding</th>\n",
              "      <td>49437.0</td>\n",
              "      <td>6.163447e+03</td>\n",
              "      <td>1.999068e+05</td>\n",
              "      <td>0.0</td>\n",
              "      <td>0.0</td>\n",
              "      <td>0.0</td>\n",
              "      <td>0.0</td>\n",
              "      <td>2.500000e+07</td>\n",
              "    </tr>\n",
              "    <tr>\n",
              "      <th>undisclosed</th>\n",
              "      <td>49437.0</td>\n",
              "      <td>1.302239e+05</td>\n",
              "      <td>2.981434e+06</td>\n",
              "      <td>0.0</td>\n",
              "      <td>0.0</td>\n",
              "      <td>0.0</td>\n",
              "      <td>0.0</td>\n",
              "      <td>2.924328e+08</td>\n",
              "    </tr>\n",
              "    <tr>\n",
              "      <th>convertible_note</th>\n",
              "      <td>49437.0</td>\n",
              "      <td>2.336457e+04</td>\n",
              "      <td>1.432060e+06</td>\n",
              "      <td>0.0</td>\n",
              "      <td>0.0</td>\n",
              "      <td>0.0</td>\n",
              "      <td>0.0</td>\n",
              "      <td>3.000000e+08</td>\n",
              "    </tr>\n",
              "    <tr>\n",
              "      <th>debt_financing</th>\n",
              "      <td>49437.0</td>\n",
              "      <td>1.888195e+06</td>\n",
              "      <td>1.382060e+08</td>\n",
              "      <td>0.0</td>\n",
              "      <td>0.0</td>\n",
              "      <td>0.0</td>\n",
              "      <td>0.0</td>\n",
              "      <td>3.007950e+10</td>\n",
              "    </tr>\n",
              "    <tr>\n",
              "      <th>angel</th>\n",
              "      <td>49437.0</td>\n",
              "      <td>6.542030e+04</td>\n",
              "      <td>6.582974e+05</td>\n",
              "      <td>0.0</td>\n",
              "      <td>0.0</td>\n",
              "      <td>0.0</td>\n",
              "      <td>0.0</td>\n",
              "      <td>6.359026e+07</td>\n",
              "    </tr>\n",
              "    <tr>\n",
              "      <th>grant</th>\n",
              "      <td>49437.0</td>\n",
              "      <td>1.628486e+05</td>\n",
              "      <td>5.612145e+06</td>\n",
              "      <td>0.0</td>\n",
              "      <td>0.0</td>\n",
              "      <td>0.0</td>\n",
              "      <td>0.0</td>\n",
              "      <td>7.505000e+08</td>\n",
              "    </tr>\n",
              "    <tr>\n",
              "      <th>private_equity</th>\n",
              "      <td>49437.0</td>\n",
              "      <td>2.074328e+06</td>\n",
              "      <td>3.167263e+07</td>\n",
              "      <td>0.0</td>\n",
              "      <td>0.0</td>\n",
              "      <td>0.0</td>\n",
              "      <td>0.0</td>\n",
              "      <td>3.500000e+09</td>\n",
              "    </tr>\n",
              "    <tr>\n",
              "      <th>post_ipo_equity</th>\n",
              "      <td>49437.0</td>\n",
              "      <td>6.088860e+05</td>\n",
              "      <td>2.678375e+07</td>\n",
              "      <td>0.0</td>\n",
              "      <td>0.0</td>\n",
              "      <td>0.0</td>\n",
              "      <td>0.0</td>\n",
              "      <td>4.700000e+09</td>\n",
              "    </tr>\n",
              "    <tr>\n",
              "      <th>post_ipo_debt</th>\n",
              "      <td>49437.0</td>\n",
              "      <td>4.434449e+05</td>\n",
              "      <td>3.428204e+07</td>\n",
              "      <td>0.0</td>\n",
              "      <td>0.0</td>\n",
              "      <td>0.0</td>\n",
              "      <td>0.0</td>\n",
              "      <td>5.800000e+09</td>\n",
              "    </tr>\n",
              "    <tr>\n",
              "      <th>secondary_market</th>\n",
              "      <td>49437.0</td>\n",
              "      <td>3.845670e+04</td>\n",
              "      <td>3.864500e+06</td>\n",
              "      <td>0.0</td>\n",
              "      <td>0.0</td>\n",
              "      <td>0.0</td>\n",
              "      <td>0.0</td>\n",
              "      <td>6.806116e+08</td>\n",
              "    </tr>\n",
              "    <tr>\n",
              "      <th>product_crowdfunding</th>\n",
              "      <td>49437.0</td>\n",
              "      <td>7.074370e+03</td>\n",
              "      <td>4.282209e+05</td>\n",
              "      <td>0.0</td>\n",
              "      <td>0.0</td>\n",
              "      <td>0.0</td>\n",
              "      <td>0.0</td>\n",
              "      <td>7.200000e+07</td>\n",
              "    </tr>\n",
              "    <tr>\n",
              "      <th>round_A</th>\n",
              "      <td>49437.0</td>\n",
              "      <td>1.243980e+06</td>\n",
              "      <td>5.532027e+06</td>\n",
              "      <td>0.0</td>\n",
              "      <td>0.0</td>\n",
              "      <td>0.0</td>\n",
              "      <td>0.0</td>\n",
              "      <td>3.190000e+08</td>\n",
              "    </tr>\n",
              "    <tr>\n",
              "      <th>round_B</th>\n",
              "      <td>49437.0</td>\n",
              "      <td>1.492921e+06</td>\n",
              "      <td>7.472777e+06</td>\n",
              "      <td>0.0</td>\n",
              "      <td>0.0</td>\n",
              "      <td>0.0</td>\n",
              "      <td>0.0</td>\n",
              "      <td>5.420000e+08</td>\n",
              "    </tr>\n",
              "    <tr>\n",
              "      <th>round_C</th>\n",
              "      <td>49437.0</td>\n",
              "      <td>1.205380e+06</td>\n",
              "      <td>7.993671e+06</td>\n",
              "      <td>0.0</td>\n",
              "      <td>0.0</td>\n",
              "      <td>0.0</td>\n",
              "      <td>0.0</td>\n",
              "      <td>4.900000e+08</td>\n",
              "    </tr>\n",
              "    <tr>\n",
              "      <th>round_D</th>\n",
              "      <td>49437.0</td>\n",
              "      <td>7.375410e+05</td>\n",
              "      <td>9.815317e+06</td>\n",
              "      <td>0.0</td>\n",
              "      <td>0.0</td>\n",
              "      <td>0.0</td>\n",
              "      <td>0.0</td>\n",
              "      <td>1.200000e+09</td>\n",
              "    </tr>\n",
              "    <tr>\n",
              "      <th>round_E</th>\n",
              "      <td>49437.0</td>\n",
              "      <td>3.424751e+05</td>\n",
              "      <td>5.406969e+06</td>\n",
              "      <td>0.0</td>\n",
              "      <td>0.0</td>\n",
              "      <td>0.0</td>\n",
              "      <td>0.0</td>\n",
              "      <td>4.000000e+08</td>\n",
              "    </tr>\n",
              "    <tr>\n",
              "      <th>round_F</th>\n",
              "      <td>49437.0</td>\n",
              "      <td>1.697726e+05</td>\n",
              "      <td>6.277969e+06</td>\n",
              "      <td>0.0</td>\n",
              "      <td>0.0</td>\n",
              "      <td>0.0</td>\n",
              "      <td>0.0</td>\n",
              "      <td>1.060000e+09</td>\n",
              "    </tr>\n",
              "    <tr>\n",
              "      <th>round_G</th>\n",
              "      <td>49437.0</td>\n",
              "      <td>5.767183e+04</td>\n",
              "      <td>5.252365e+06</td>\n",
              "      <td>0.0</td>\n",
              "      <td>0.0</td>\n",
              "      <td>0.0</td>\n",
              "      <td>0.0</td>\n",
              "      <td>1.000000e+09</td>\n",
              "    </tr>\n",
              "    <tr>\n",
              "      <th>round_H</th>\n",
              "      <td>49437.0</td>\n",
              "      <td>1.423226e+04</td>\n",
              "      <td>2.716893e+06</td>\n",
              "      <td>0.0</td>\n",
              "      <td>0.0</td>\n",
              "      <td>0.0</td>\n",
              "      <td>0.0</td>\n",
              "      <td>6.000000e+08</td>\n",
              "    </tr>\n",
              "    <tr>\n",
              "      <th>target</th>\n",
              "      <td>49437.0</td>\n",
              "      <td>8.093129e-02</td>\n",
              "      <td>2.727323e-01</td>\n",
              "      <td>0.0</td>\n",
              "      <td>0.0</td>\n",
              "      <td>0.0</td>\n",
              "      <td>0.0</td>\n",
              "      <td>1.000000e+00</td>\n",
              "    </tr>\n",
              "  </tbody>\n",
              "</table>\n",
              "</div>"
            ],
            "text/plain": [
              "                        count          mean  ...        75%           max\n",
              "market                49437.0  3.799170e+02  ...      622.0  7.530000e+02\n",
              "funding_total_usd     49437.0  1.316693e+07  ...  6772388.0  3.007950e+10\n",
              "status                49437.0  1.798006e+00  ...        2.0  2.000000e+00\n",
              "country_code          49437.0  8.903412e+01  ...      110.0  1.150000e+02\n",
              "region                49437.0  6.444210e+02  ...      858.0  1.089000e+03\n",
              "funding_rounds        49437.0  1.696219e+00  ...        2.0  1.800000e+01\n",
              "founded_year          49437.0  2.007359e+03  ...     2011.0  2.014000e+03\n",
              "seed                  49437.0  2.173254e+05  ...    25000.0  1.300000e+08\n",
              "venture               49437.0  7.501202e+06  ...  5000000.0  2.351000e+09\n",
              "equity_crowdfunding   49437.0  6.163447e+03  ...        0.0  2.500000e+07\n",
              "undisclosed           49437.0  1.302239e+05  ...        0.0  2.924328e+08\n",
              "convertible_note      49437.0  2.336457e+04  ...        0.0  3.000000e+08\n",
              "debt_financing        49437.0  1.888195e+06  ...        0.0  3.007950e+10\n",
              "angel                 49437.0  6.542030e+04  ...        0.0  6.359026e+07\n",
              "grant                 49437.0  1.628486e+05  ...        0.0  7.505000e+08\n",
              "private_equity        49437.0  2.074328e+06  ...        0.0  3.500000e+09\n",
              "post_ipo_equity       49437.0  6.088860e+05  ...        0.0  4.700000e+09\n",
              "post_ipo_debt         49437.0  4.434449e+05  ...        0.0  5.800000e+09\n",
              "secondary_market      49437.0  3.845670e+04  ...        0.0  6.806116e+08\n",
              "product_crowdfunding  49437.0  7.074370e+03  ...        0.0  7.200000e+07\n",
              "round_A               49437.0  1.243980e+06  ...        0.0  3.190000e+08\n",
              "round_B               49437.0  1.492921e+06  ...        0.0  5.420000e+08\n",
              "round_C               49437.0  1.205380e+06  ...        0.0  4.900000e+08\n",
              "round_D               49437.0  7.375410e+05  ...        0.0  1.200000e+09\n",
              "round_E               49437.0  3.424751e+05  ...        0.0  4.000000e+08\n",
              "round_F               49437.0  1.697726e+05  ...        0.0  1.060000e+09\n",
              "round_G               49437.0  5.767183e+04  ...        0.0  1.000000e+09\n",
              "round_H               49437.0  1.423226e+04  ...        0.0  6.000000e+08\n",
              "target                49437.0  8.093129e-02  ...        0.0  1.000000e+00\n",
              "\n",
              "[29 rows x 8 columns]"
            ]
          },
          "metadata": {
            "tags": []
          },
          "execution_count": 64
        }
      ]
    },
    {
      "cell_type": "markdown",
      "metadata": {
        "id": "lN9zr4TQ-NQu"
      },
      "source": [
        "7. Feature Scaling"
      ]
    },
    {
      "cell_type": "code",
      "metadata": {
        "id": "GPjWL4ycATMt"
      },
      "source": [
        "from sklearn.preprocessing import MinMaxScaler\n",
        "mm = MinMaxScaler()\n",
        "\n",
        "fields = list(data4.columns[:-1])\n",
        "data4[fields] = np.asarray(data4[fields])"
      ],
      "execution_count": null,
      "outputs": []
    },
    {
      "cell_type": "code",
      "metadata": {
        "id": "gebLFFbP-gTC"
      },
      "source": [
        "for column in fields:\n",
        "    data4[column]= mm.fit_transform(data4[[column]])"
      ],
      "execution_count": null,
      "outputs": []
    },
    {
      "cell_type": "code",
      "metadata": {
        "colab": {
          "base_uri": "https://localhost:8080/"
        },
        "id": "U1Egtu8VNZOX",
        "outputId": "55c24add-136b-447b-ba84-1347fe7f0344"
      },
      "source": [
        "fields"
      ],
      "execution_count": null,
      "outputs": [
        {
          "output_type": "execute_result",
          "data": {
            "text/plain": [
              "['market',\n",
              " 'funding_total_usd',\n",
              " 'status',\n",
              " 'country_code',\n",
              " 'region',\n",
              " 'funding_rounds',\n",
              " 'founded_year',\n",
              " 'seed',\n",
              " 'venture',\n",
              " 'equity_crowdfunding',\n",
              " 'undisclosed',\n",
              " 'convertible_note',\n",
              " 'debt_financing',\n",
              " 'angel',\n",
              " 'grant',\n",
              " 'private_equity',\n",
              " 'post_ipo_equity',\n",
              " 'post_ipo_debt',\n",
              " 'secondary_market',\n",
              " 'product_crowdfunding',\n",
              " 'round_A',\n",
              " 'round_B',\n",
              " 'round_C',\n",
              " 'round_D',\n",
              " 'round_E',\n",
              " 'round_F',\n",
              " 'round_G',\n",
              " 'round_H']"
            ]
          },
          "metadata": {
            "tags": []
          },
          "execution_count": 67
        }
      ]
    },
    {
      "cell_type": "code",
      "metadata": {
        "colab": {
          "base_uri": "https://localhost:8080/"
        },
        "id": "4xDOUA64NPMP",
        "outputId": "bd68465a-1e4a-4045-d0db-f850f908621a"
      },
      "source": [
        "feature_cols = data4.columns[:-1]\n",
        "feature_cols "
      ],
      "execution_count": null,
      "outputs": [
        {
          "output_type": "execute_result",
          "data": {
            "text/plain": [
              "Index(['market', 'funding_total_usd', 'status', 'country_code', 'region',\n",
              "       'funding_rounds', 'founded_year', 'seed', 'venture',\n",
              "       'equity_crowdfunding', 'undisclosed', 'convertible_note',\n",
              "       'debt_financing', 'angel', 'grant', 'private_equity', 'post_ipo_equity',\n",
              "       'post_ipo_debt', 'secondary_market', 'product_crowdfunding', 'round_A',\n",
              "       'round_B', 'round_C', 'round_D', 'round_E', 'round_F', 'round_G',\n",
              "       'round_H'],\n",
              "      dtype='object')"
            ]
          },
          "metadata": {
            "tags": []
          },
          "execution_count": 68
        }
      ]
    },
    {
      "cell_type": "code",
      "metadata": {
        "colab": {
          "base_uri": "https://localhost:8080/",
          "height": 917
        },
        "id": "yWt7qOYJMpkX",
        "outputId": "137361fe-9dc8-4976-bac6-c7b0d0d88f05"
      },
      "source": [
        "round(data4.describe().T, 3)"
      ],
      "execution_count": null,
      "outputs": [
        {
          "output_type": "execute_result",
          "data": {
            "text/html": [
              "<div>\n",
              "<style scoped>\n",
              "    .dataframe tbody tr th:only-of-type {\n",
              "        vertical-align: middle;\n",
              "    }\n",
              "\n",
              "    .dataframe tbody tr th {\n",
              "        vertical-align: top;\n",
              "    }\n",
              "\n",
              "    .dataframe thead th {\n",
              "        text-align: right;\n",
              "    }\n",
              "</style>\n",
              "<table border=\"1\" class=\"dataframe\">\n",
              "  <thead>\n",
              "    <tr style=\"text-align: right;\">\n",
              "      <th></th>\n",
              "      <th>count</th>\n",
              "      <th>mean</th>\n",
              "      <th>std</th>\n",
              "      <th>min</th>\n",
              "      <th>25%</th>\n",
              "      <th>50%</th>\n",
              "      <th>75%</th>\n",
              "      <th>max</th>\n",
              "    </tr>\n",
              "  </thead>\n",
              "  <tbody>\n",
              "    <tr>\n",
              "      <th>market</th>\n",
              "      <td>49437.0</td>\n",
              "      <td>0.505</td>\n",
              "      <td>0.315</td>\n",
              "      <td>0.0</td>\n",
              "      <td>0.244</td>\n",
              "      <td>0.466</td>\n",
              "      <td>0.826</td>\n",
              "      <td>1.0</td>\n",
              "    </tr>\n",
              "    <tr>\n",
              "      <th>funding_total_usd</th>\n",
              "      <td>49437.0</td>\n",
              "      <td>0.000</td>\n",
              "      <td>0.005</td>\n",
              "      <td>0.0</td>\n",
              "      <td>0.000</td>\n",
              "      <td>0.000</td>\n",
              "      <td>0.000</td>\n",
              "      <td>1.0</td>\n",
              "    </tr>\n",
              "    <tr>\n",
              "      <th>status</th>\n",
              "      <td>49437.0</td>\n",
              "      <td>0.899</td>\n",
              "      <td>0.279</td>\n",
              "      <td>0.0</td>\n",
              "      <td>1.000</td>\n",
              "      <td>1.000</td>\n",
              "      <td>1.000</td>\n",
              "      <td>1.0</td>\n",
              "    </tr>\n",
              "    <tr>\n",
              "      <th>country_code</th>\n",
              "      <td>49437.0</td>\n",
              "      <td>0.774</td>\n",
              "      <td>0.307</td>\n",
              "      <td>0.0</td>\n",
              "      <td>0.443</td>\n",
              "      <td>0.957</td>\n",
              "      <td>0.957</td>\n",
              "      <td>1.0</td>\n",
              "    </tr>\n",
              "    <tr>\n",
              "      <th>region</th>\n",
              "      <td>49437.0</td>\n",
              "      <td>0.592</td>\n",
              "      <td>0.298</td>\n",
              "      <td>0.0</td>\n",
              "      <td>0.346</td>\n",
              "      <td>0.643</td>\n",
              "      <td>0.788</td>\n",
              "      <td>1.0</td>\n",
              "    </tr>\n",
              "    <tr>\n",
              "      <th>funding_rounds</th>\n",
              "      <td>49437.0</td>\n",
              "      <td>0.041</td>\n",
              "      <td>0.076</td>\n",
              "      <td>0.0</td>\n",
              "      <td>0.000</td>\n",
              "      <td>0.000</td>\n",
              "      <td>0.059</td>\n",
              "      <td>1.0</td>\n",
              "    </tr>\n",
              "    <tr>\n",
              "      <th>founded_year</th>\n",
              "      <td>49437.0</td>\n",
              "      <td>0.941</td>\n",
              "      <td>0.060</td>\n",
              "      <td>0.0</td>\n",
              "      <td>0.938</td>\n",
              "      <td>0.946</td>\n",
              "      <td>0.973</td>\n",
              "      <td>1.0</td>\n",
              "    </tr>\n",
              "    <tr>\n",
              "      <th>seed</th>\n",
              "      <td>49437.0</td>\n",
              "      <td>0.002</td>\n",
              "      <td>0.008</td>\n",
              "      <td>0.0</td>\n",
              "      <td>0.000</td>\n",
              "      <td>0.000</td>\n",
              "      <td>0.000</td>\n",
              "      <td>1.0</td>\n",
              "    </tr>\n",
              "    <tr>\n",
              "      <th>venture</th>\n",
              "      <td>49437.0</td>\n",
              "      <td>0.003</td>\n",
              "      <td>0.012</td>\n",
              "      <td>0.0</td>\n",
              "      <td>0.000</td>\n",
              "      <td>0.000</td>\n",
              "      <td>0.002</td>\n",
              "      <td>1.0</td>\n",
              "    </tr>\n",
              "    <tr>\n",
              "      <th>equity_crowdfunding</th>\n",
              "      <td>49437.0</td>\n",
              "      <td>0.000</td>\n",
              "      <td>0.008</td>\n",
              "      <td>0.0</td>\n",
              "      <td>0.000</td>\n",
              "      <td>0.000</td>\n",
              "      <td>0.000</td>\n",
              "      <td>1.0</td>\n",
              "    </tr>\n",
              "    <tr>\n",
              "      <th>undisclosed</th>\n",
              "      <td>49437.0</td>\n",
              "      <td>0.000</td>\n",
              "      <td>0.010</td>\n",
              "      <td>0.0</td>\n",
              "      <td>0.000</td>\n",
              "      <td>0.000</td>\n",
              "      <td>0.000</td>\n",
              "      <td>1.0</td>\n",
              "    </tr>\n",
              "    <tr>\n",
              "      <th>convertible_note</th>\n",
              "      <td>49437.0</td>\n",
              "      <td>0.000</td>\n",
              "      <td>0.005</td>\n",
              "      <td>0.0</td>\n",
              "      <td>0.000</td>\n",
              "      <td>0.000</td>\n",
              "      <td>0.000</td>\n",
              "      <td>1.0</td>\n",
              "    </tr>\n",
              "    <tr>\n",
              "      <th>debt_financing</th>\n",
              "      <td>49437.0</td>\n",
              "      <td>0.000</td>\n",
              "      <td>0.005</td>\n",
              "      <td>0.0</td>\n",
              "      <td>0.000</td>\n",
              "      <td>0.000</td>\n",
              "      <td>0.000</td>\n",
              "      <td>1.0</td>\n",
              "    </tr>\n",
              "    <tr>\n",
              "      <th>angel</th>\n",
              "      <td>49437.0</td>\n",
              "      <td>0.001</td>\n",
              "      <td>0.010</td>\n",
              "      <td>0.0</td>\n",
              "      <td>0.000</td>\n",
              "      <td>0.000</td>\n",
              "      <td>0.000</td>\n",
              "      <td>1.0</td>\n",
              "    </tr>\n",
              "    <tr>\n",
              "      <th>grant</th>\n",
              "      <td>49437.0</td>\n",
              "      <td>0.000</td>\n",
              "      <td>0.007</td>\n",
              "      <td>0.0</td>\n",
              "      <td>0.000</td>\n",
              "      <td>0.000</td>\n",
              "      <td>0.000</td>\n",
              "      <td>1.0</td>\n",
              "    </tr>\n",
              "    <tr>\n",
              "      <th>private_equity</th>\n",
              "      <td>49437.0</td>\n",
              "      <td>0.001</td>\n",
              "      <td>0.009</td>\n",
              "      <td>0.0</td>\n",
              "      <td>0.000</td>\n",
              "      <td>0.000</td>\n",
              "      <td>0.000</td>\n",
              "      <td>1.0</td>\n",
              "    </tr>\n",
              "    <tr>\n",
              "      <th>post_ipo_equity</th>\n",
              "      <td>49437.0</td>\n",
              "      <td>0.000</td>\n",
              "      <td>0.006</td>\n",
              "      <td>0.0</td>\n",
              "      <td>0.000</td>\n",
              "      <td>0.000</td>\n",
              "      <td>0.000</td>\n",
              "      <td>1.0</td>\n",
              "    </tr>\n",
              "    <tr>\n",
              "      <th>post_ipo_debt</th>\n",
              "      <td>49437.0</td>\n",
              "      <td>0.000</td>\n",
              "      <td>0.006</td>\n",
              "      <td>0.0</td>\n",
              "      <td>0.000</td>\n",
              "      <td>0.000</td>\n",
              "      <td>0.000</td>\n",
              "      <td>1.0</td>\n",
              "    </tr>\n",
              "    <tr>\n",
              "      <th>secondary_market</th>\n",
              "      <td>49437.0</td>\n",
              "      <td>0.000</td>\n",
              "      <td>0.006</td>\n",
              "      <td>0.0</td>\n",
              "      <td>0.000</td>\n",
              "      <td>0.000</td>\n",
              "      <td>0.000</td>\n",
              "      <td>1.0</td>\n",
              "    </tr>\n",
              "    <tr>\n",
              "      <th>product_crowdfunding</th>\n",
              "      <td>49437.0</td>\n",
              "      <td>0.000</td>\n",
              "      <td>0.006</td>\n",
              "      <td>0.0</td>\n",
              "      <td>0.000</td>\n",
              "      <td>0.000</td>\n",
              "      <td>0.000</td>\n",
              "      <td>1.0</td>\n",
              "    </tr>\n",
              "    <tr>\n",
              "      <th>round_A</th>\n",
              "      <td>49437.0</td>\n",
              "      <td>0.004</td>\n",
              "      <td>0.017</td>\n",
              "      <td>0.0</td>\n",
              "      <td>0.000</td>\n",
              "      <td>0.000</td>\n",
              "      <td>0.000</td>\n",
              "      <td>1.0</td>\n",
              "    </tr>\n",
              "    <tr>\n",
              "      <th>round_B</th>\n",
              "      <td>49437.0</td>\n",
              "      <td>0.003</td>\n",
              "      <td>0.014</td>\n",
              "      <td>0.0</td>\n",
              "      <td>0.000</td>\n",
              "      <td>0.000</td>\n",
              "      <td>0.000</td>\n",
              "      <td>1.0</td>\n",
              "    </tr>\n",
              "    <tr>\n",
              "      <th>round_C</th>\n",
              "      <td>49437.0</td>\n",
              "      <td>0.002</td>\n",
              "      <td>0.016</td>\n",
              "      <td>0.0</td>\n",
              "      <td>0.000</td>\n",
              "      <td>0.000</td>\n",
              "      <td>0.000</td>\n",
              "      <td>1.0</td>\n",
              "    </tr>\n",
              "    <tr>\n",
              "      <th>round_D</th>\n",
              "      <td>49437.0</td>\n",
              "      <td>0.001</td>\n",
              "      <td>0.008</td>\n",
              "      <td>0.0</td>\n",
              "      <td>0.000</td>\n",
              "      <td>0.000</td>\n",
              "      <td>0.000</td>\n",
              "      <td>1.0</td>\n",
              "    </tr>\n",
              "    <tr>\n",
              "      <th>round_E</th>\n",
              "      <td>49437.0</td>\n",
              "      <td>0.001</td>\n",
              "      <td>0.014</td>\n",
              "      <td>0.0</td>\n",
              "      <td>0.000</td>\n",
              "      <td>0.000</td>\n",
              "      <td>0.000</td>\n",
              "      <td>1.0</td>\n",
              "    </tr>\n",
              "    <tr>\n",
              "      <th>round_F</th>\n",
              "      <td>49437.0</td>\n",
              "      <td>0.000</td>\n",
              "      <td>0.006</td>\n",
              "      <td>0.0</td>\n",
              "      <td>0.000</td>\n",
              "      <td>0.000</td>\n",
              "      <td>0.000</td>\n",
              "      <td>1.0</td>\n",
              "    </tr>\n",
              "    <tr>\n",
              "      <th>round_G</th>\n",
              "      <td>49437.0</td>\n",
              "      <td>0.000</td>\n",
              "      <td>0.005</td>\n",
              "      <td>0.0</td>\n",
              "      <td>0.000</td>\n",
              "      <td>0.000</td>\n",
              "      <td>0.000</td>\n",
              "      <td>1.0</td>\n",
              "    </tr>\n",
              "    <tr>\n",
              "      <th>round_H</th>\n",
              "      <td>49437.0</td>\n",
              "      <td>0.000</td>\n",
              "      <td>0.005</td>\n",
              "      <td>0.0</td>\n",
              "      <td>0.000</td>\n",
              "      <td>0.000</td>\n",
              "      <td>0.000</td>\n",
              "      <td>1.0</td>\n",
              "    </tr>\n",
              "    <tr>\n",
              "      <th>target</th>\n",
              "      <td>49437.0</td>\n",
              "      <td>0.081</td>\n",
              "      <td>0.273</td>\n",
              "      <td>0.0</td>\n",
              "      <td>0.000</td>\n",
              "      <td>0.000</td>\n",
              "      <td>0.000</td>\n",
              "      <td>1.0</td>\n",
              "    </tr>\n",
              "  </tbody>\n",
              "</table>\n",
              "</div>"
            ],
            "text/plain": [
              "                        count   mean    std  min    25%    50%    75%  max\n",
              "market                49437.0  0.505  0.315  0.0  0.244  0.466  0.826  1.0\n",
              "funding_total_usd     49437.0  0.000  0.005  0.0  0.000  0.000  0.000  1.0\n",
              "status                49437.0  0.899  0.279  0.0  1.000  1.000  1.000  1.0\n",
              "country_code          49437.0  0.774  0.307  0.0  0.443  0.957  0.957  1.0\n",
              "region                49437.0  0.592  0.298  0.0  0.346  0.643  0.788  1.0\n",
              "funding_rounds        49437.0  0.041  0.076  0.0  0.000  0.000  0.059  1.0\n",
              "founded_year          49437.0  0.941  0.060  0.0  0.938  0.946  0.973  1.0\n",
              "seed                  49437.0  0.002  0.008  0.0  0.000  0.000  0.000  1.0\n",
              "venture               49437.0  0.003  0.012  0.0  0.000  0.000  0.002  1.0\n",
              "equity_crowdfunding   49437.0  0.000  0.008  0.0  0.000  0.000  0.000  1.0\n",
              "undisclosed           49437.0  0.000  0.010  0.0  0.000  0.000  0.000  1.0\n",
              "convertible_note      49437.0  0.000  0.005  0.0  0.000  0.000  0.000  1.0\n",
              "debt_financing        49437.0  0.000  0.005  0.0  0.000  0.000  0.000  1.0\n",
              "angel                 49437.0  0.001  0.010  0.0  0.000  0.000  0.000  1.0\n",
              "grant                 49437.0  0.000  0.007  0.0  0.000  0.000  0.000  1.0\n",
              "private_equity        49437.0  0.001  0.009  0.0  0.000  0.000  0.000  1.0\n",
              "post_ipo_equity       49437.0  0.000  0.006  0.0  0.000  0.000  0.000  1.0\n",
              "post_ipo_debt         49437.0  0.000  0.006  0.0  0.000  0.000  0.000  1.0\n",
              "secondary_market      49437.0  0.000  0.006  0.0  0.000  0.000  0.000  1.0\n",
              "product_crowdfunding  49437.0  0.000  0.006  0.0  0.000  0.000  0.000  1.0\n",
              "round_A               49437.0  0.004  0.017  0.0  0.000  0.000  0.000  1.0\n",
              "round_B               49437.0  0.003  0.014  0.0  0.000  0.000  0.000  1.0\n",
              "round_C               49437.0  0.002  0.016  0.0  0.000  0.000  0.000  1.0\n",
              "round_D               49437.0  0.001  0.008  0.0  0.000  0.000  0.000  1.0\n",
              "round_E               49437.0  0.001  0.014  0.0  0.000  0.000  0.000  1.0\n",
              "round_F               49437.0  0.000  0.006  0.0  0.000  0.000  0.000  1.0\n",
              "round_G               49437.0  0.000  0.005  0.0  0.000  0.000  0.000  1.0\n",
              "round_H               49437.0  0.000  0.005  0.0  0.000  0.000  0.000  1.0\n",
              "target                49437.0  0.081  0.273  0.0  0.000  0.000  0.000  1.0"
            ]
          },
          "metadata": {
            "tags": []
          },
          "execution_count": 69
        }
      ]
    },
    {
      "cell_type": "code",
      "metadata": {
        "id": "XtCHsUeaUW_8"
      },
      "source": [
        "data4.to_csv('data_final.csv', index=True)"
      ],
      "execution_count": null,
      "outputs": []
    },
    {
      "cell_type": "markdown",
      "metadata": {
        "id": "de68CW3UCkg3"
      },
      "source": [
        "# Machine Learning"
      ]
    },
    {
      "cell_type": "markdown",
      "metadata": {
        "id": "6F9B7WdDN7U6"
      },
      "source": [
        "To tackle imbalance data set, we use Stratified Shuffle Split Sample."
      ]
    },
    {
      "cell_type": "code",
      "metadata": {
        "id": "CkQOFlMRUrt9"
      },
      "source": [
        "data = pd.read_csv('data_final.csv')"
      ],
      "execution_count": null,
      "outputs": []
    },
    {
      "cell_type": "code",
      "metadata": {
        "id": "wF0B1jtqM6C1"
      },
      "source": [
        "feature_cols = data.columns[:-1]\n",
        "\n",
        "### BEGIN SOLUTION\n",
        "from sklearn.model_selection import StratifiedShuffleSplit\n",
        "\n",
        "# Get the split indexes\n",
        "strat_shuf_split = StratifiedShuffleSplit(n_splits=1, \n",
        "                                          test_size=0.3, \n",
        "                                          random_state=42)\n",
        "\n",
        "train_idx, test_idx = next(strat_shuf_split.split(data[feature_cols], data.target))\n",
        "\n",
        "# Create the dataframes\n",
        "X_train = data.loc[train_idx, feature_cols]\n",
        "y_train = data.loc[train_idx, 'target']\n",
        "\n",
        "X_test  = data.loc[test_idx, feature_cols]\n",
        "y_test  = data.loc[test_idx, 'target']"
      ],
      "execution_count": null,
      "outputs": []
    },
    {
      "cell_type": "code",
      "metadata": {
        "colab": {
          "base_uri": "https://localhost:8080/"
        },
        "id": "t6Bsi-VxNuwr",
        "outputId": "d5d49de7-760e-4ece-9d2d-1b3ed4a1f396"
      },
      "source": [
        "y_train.value_counts(normalize=True).sort_index()"
      ],
      "execution_count": null,
      "outputs": [
        {
          "output_type": "execute_result",
          "data": {
            "text/plain": [
              "0    0.919058\n",
              "1    0.080942\n",
              "Name: target, dtype: float64"
            ]
          },
          "metadata": {
            "tags": []
          },
          "execution_count": 73
        }
      ]
    },
    {
      "cell_type": "code",
      "metadata": {
        "colab": {
          "base_uri": "https://localhost:8080/"
        },
        "id": "dzlCHCixN3JB",
        "outputId": "28be72a4-11ed-4a33-c0b4-ecb1d0411914"
      },
      "source": [
        "y_test.value_counts(normalize=False).sort_index()"
      ],
      "execution_count": null,
      "outputs": [
        {
          "output_type": "execute_result",
          "data": {
            "text/plain": [
              "0    13632\n",
              "1     1200\n",
              "Name: target, dtype: int64"
            ]
          },
          "metadata": {
            "tags": []
          },
          "execution_count": 74
        }
      ]
    },
    {
      "cell_type": "code",
      "metadata": {
        "colab": {
          "base_uri": "https://localhost:8080/"
        },
        "id": "mTkNokQPxCuj",
        "outputId": "f08b5c97-43b6-4407-cfa9-487c88c01725"
      },
      "source": [
        "data['target'].value_counts(normalize=False).sort_index()"
      ],
      "execution_count": null,
      "outputs": [
        {
          "output_type": "execute_result",
          "data": {
            "text/plain": [
              "0    45436\n",
              "1     4001\n",
              "Name: target, dtype: int64"
            ]
          },
          "metadata": {
            "tags": []
          },
          "execution_count": 84
        }
      ]
    },
    {
      "cell_type": "code",
      "metadata": {
        "colab": {
          "base_uri": "https://localhost:8080/",
          "height": 301
        },
        "id": "LRpcTja-xLSt",
        "outputId": "fb600844-95e7-40e9-c081-ac7e02ed5954"
      },
      "source": [
        "ax = data[data['target'] == 1][0:50].plot(kind='scatter', x='founded_year', y='funding_rounds', color='DarkBlue', label='Successful');\n",
        "data[data['target'] == 0][0:50].plot(kind='scatter', x='founded_year', y='funding_rounds', color='Yellow', label='Not', ax=ax);\n",
        "plt.show()"
      ],
      "execution_count": null,
      "outputs": [
        {
          "output_type": "display_data",
          "data": {
            "image/png": "[encoded data removed]",
            "text/plain": [
              "<Figure size 432x288 with 1 Axes>"
            ]
          },
          "metadata": {
            "tags": [],
            "needs_background": "light"
          }
        }
      ]
    },
    {
      "cell_type": "markdown",
      "metadata": {
        "id": "RANniGG6OvAP"
      },
      "source": [
        "## 1. Support Vector Machine"
      ]
    },
    {
      "cell_type": "code",
      "metadata": {
        "id": "VWUwuEeQQfJi",
        "colab": {
          "base_uri": "https://localhost:8080/"
        },
        "outputId": "0154d4e9-5a16-4a15-93ee-550fd2a226fd"
      },
      "source": [
        "from sklearn import svm\n",
        "clf = svm.SVC(kernel='rbf')\n",
        "clf.fit(X_train, y_train) "
      ],
      "execution_count": null,
      "outputs": [
        {
          "output_type": "execute_result",
          "data": {
            "text/plain": [
              "SVC(C=1.0, break_ties=False, cache_size=200, class_weight=None, coef0=0.0,\n",
              "    decision_function_shape='ovr', degree=3, gamma='scale', kernel='rbf',\n",
              "    max_iter=-1, probability=False, random_state=None, shrinking=True,\n",
              "    tol=0.001, verbose=False)"
            ]
          },
          "metadata": {
            "tags": []
          },
          "execution_count": 75
        }
      ]
    },
    {
      "cell_type": "code",
      "metadata": {
        "colab": {
          "base_uri": "https://localhost:8080/"
        },
        "id": "Yt3SdjMCQk1b",
        "outputId": "4c6ff5d2-11e6-43db-8e2f-e033dc66ff11"
      },
      "source": [
        "yhat = clf.predict(X_test)\n",
        "yhat [0:5]"
      ],
      "execution_count": null,
      "outputs": [
        {
          "output_type": "execute_result",
          "data": {
            "text/plain": [
              "array([0, 0, 0, 0, 0])"
            ]
          },
          "metadata": {
            "tags": []
          },
          "execution_count": 76
        }
      ]
    },
    {
      "cell_type": "code",
      "metadata": {
        "id": "ga2SiXvkO5M4"
      },
      "source": [
        "from sklearn.metrics import classification_report, confusion_matrix\n",
        "import itertools\n",
        "from sklearn.metrics import classification_report, accuracy_score, precision_score, recall_score\n",
        "from sklearn.metrics import f1_score, roc_auc_score"
      ],
      "execution_count": null,
      "outputs": []
    },
    {
      "cell_type": "code",
      "metadata": {
        "colab": {
          "base_uri": "https://localhost:8080/"
        },
        "id": "EAVuC1adYlEB",
        "outputId": "3b871164-6ae7-47ae-c1ad-c44e047affca"
      },
      "source": [
        "score_df = pd.DataFrame({'accuracy': accuracy_score(y_test, yhat),\n",
        "                         'precision': precision_score(y_test, yhat),\n",
        "                         'recall': recall_score(y_test, yhat),\n",
        "                         'f1': f1_score(y_test, yhat),\n",
        "                         'auc': roc_auc_score(y_test, yhat)},\n",
        "                         index=pd.Index([0]))\n",
        "\n",
        "# Compute confusion matrix\n",
        "cnf_matrix = confusion_matrix(y_test, yhat, labels=[0,1])\n",
        "np.set_printoptions(precision=2)\n",
        "\n",
        "print (classification_report(y_test, yhat))\n",
        "\n",
        "print(score_df)\n"
      ],
      "execution_count": null,
      "outputs": [
        {
          "output_type": "stream",
          "text": [
            "              precision    recall  f1-score   support\n",
            "\n",
            "           0       0.92      1.00      0.96     13632\n",
            "           1       0.00      0.00      0.00      1200\n",
            "\n",
            "    accuracy                           0.92     14832\n",
            "   macro avg       0.46      0.50      0.48     14832\n",
            "weighted avg       0.84      0.92      0.88     14832\n",
            "\n",
            "   accuracy  precision  recall   f1  auc\n",
            "0  0.919094        0.0     0.0  0.0  0.5\n"
          ],
          "name": "stdout"
        },
        {
          "output_type": "stream",
          "text": [
            "/usr/local/lib/python3.6/dist-packages/sklearn/metrics/_classification.py:1272: UndefinedMetricWarning: Precision is ill-defined and being set to 0.0 due to no predicted samples. Use `zero_division` parameter to control this behavior.\n",
            "  _warn_prf(average, modifier, msg_start, len(result))\n",
            "/usr/local/lib/python3.6/dist-packages/sklearn/metrics/_classification.py:1272: UndefinedMetricWarning: Precision and F-score are ill-defined and being set to 0.0 in labels with no predicted samples. Use `zero_division` parameter to control this behavior.\n",
            "  _warn_prf(average, modifier, msg_start, len(result))\n"
          ],
          "name": "stderr"
        }
      ]
    },
    {
      "cell_type": "code",
      "metadata": {
        "colab": {
          "base_uri": "https://localhost:8080/",
          "height": 377
        },
        "id": "xDJBf5ec513_",
        "outputId": "9f747b7b-7683-40d6-d85a-47a1bfd3f847"
      },
      "source": [
        "sns.set_context('talk')\n",
        "cm = confusion_matrix(y_test, yhat)\n",
        "ax = sns.heatmap(cm, annot=True, fmt='d', cmap=\"YlGnBu\")\n",
        "\n",
        "labels = ['0', '1']\n",
        "ax.set_xticklabels(labels, fontsize=15);\n",
        "ax.set_yticklabels(labels[::1], fontsize=15);\n",
        "ax.set_ylabel('Ground Truth', fontsize=20);\n",
        "ax.set_xlabel('Prediction', fontsize=20)\n",
        "ax.set_title('\\n Confusion Matrix for Support Vector Machine \\n')\n",
        "### END SOLUTION"
      ],
      "execution_count": null,
      "outputs": [
        {
          "output_type": "execute_result",
          "data": {
            "text/plain": [
              "Text(0.5, 1.0, '\\n Confusion Matrix for Support Vector Machine \\n')"
            ]
          },
          "metadata": {
            "tags": []
          },
          "execution_count": 82
        },
        {
          "output_type": "display_data",
          "data": {
            "image/png": "[encoded data removed]",
            "text/plain": [
              "<Figure size 432x288 with 2 Axes>"
            ]
          },
          "metadata": {
            "tags": [],
            "needs_background": "light"
          }
        }
      ]
    },
    {
      "cell_type": "markdown",
      "metadata": {
        "id": "SbCBtEXxSymh"
      },
      "source": [
        "## 2. Random Forest"
      ]
    },
    {
      "cell_type": "code",
      "metadata": {
        "id": "XmCOjV66S1ih"
      },
      "source": [
        "# Suppress warnings about too few trees from the early models\n",
        "import warnings\n",
        "warnings.filterwarnings(\"ignore\", category=UserWarning)\n",
        "warnings.filterwarnings(\"ignore\", category=RuntimeWarning)"
      ],
      "execution_count": null,
      "outputs": []
    },
    {
      "cell_type": "code",
      "metadata": {
        "colab": {
          "base_uri": "https://localhost:8080/",
          "height": 377
        },
        "id": "ITANmBdaTGqY",
        "outputId": "ee82baf6-8eaa-4bb4-9130-38413af7b58d"
      },
      "source": [
        "from sklearn.ensemble import RandomForestClassifier\n",
        "\n",
        "# Initialize the random forest estimator\n",
        "# Note that the number of trees is not setup here\n",
        "RF = RandomForestClassifier(oob_score=True, \n",
        "                            random_state=42, \n",
        "                            warm_start=True,\n",
        "                            n_jobs=-1)\n",
        "\n",
        "oob_list = list()\n",
        "\n",
        "# Iterate through all of the possibilities for \n",
        "# number of trees\n",
        "for n_trees in [15, 20, 30, 40, 50, 100, 150, 200, 300, 400]:\n",
        "    \n",
        "    # Use this to set the number of trees\n",
        "    RF.set_params(n_estimators=n_trees)\n",
        "\n",
        "    # Fit the model\n",
        "    RF_ = RF.fit(X_train, y_train)\n",
        "\n",
        "    # Get the oob error\n",
        "    oob_error = 1 - RF.oob_score_\n",
        "    \n",
        "    # Store it\n",
        "    oob_list.append(pd.Series({'n_trees': n_trees, 'oob': oob_error}))\n",
        "\n",
        "rf_oob_df = pd.concat(oob_list, axis=1).T.set_index('n_trees')\n",
        "\n",
        "rf_oob_df"
      ],
      "execution_count": null,
      "outputs": [
        {
          "output_type": "execute_result",
          "data": {
            "text/html": [
              "<div>\n",
              "<style scoped>\n",
              "    .dataframe tbody tr th:only-of-type {\n",
              "        vertical-align: middle;\n",
              "    }\n",
              "\n",
              "    .dataframe tbody tr th {\n",
              "        vertical-align: top;\n",
              "    }\n",
              "\n",
              "    .dataframe thead th {\n",
              "        text-align: right;\n",
              "    }\n",
              "</style>\n",
              "<table border=\"1\" class=\"dataframe\">\n",
              "  <thead>\n",
              "    <tr style=\"text-align: right;\">\n",
              "      <th></th>\n",
              "      <th>oob</th>\n",
              "    </tr>\n",
              "    <tr>\n",
              "      <th>n_trees</th>\n",
              "      <th></th>\n",
              "    </tr>\n",
              "  </thead>\n",
              "  <tbody>\n",
              "    <tr>\n",
              "      <th>15.0</th>\n",
              "      <td>0.002138</td>\n",
              "    </tr>\n",
              "    <tr>\n",
              "      <th>20.0</th>\n",
              "      <td>0.000780</td>\n",
              "    </tr>\n",
              "    <tr>\n",
              "      <th>30.0</th>\n",
              "      <td>0.000289</td>\n",
              "    </tr>\n",
              "    <tr>\n",
              "      <th>40.0</th>\n",
              "      <td>0.000173</td>\n",
              "    </tr>\n",
              "    <tr>\n",
              "      <th>50.0</th>\n",
              "      <td>0.000087</td>\n",
              "    </tr>\n",
              "    <tr>\n",
              "      <th>100.0</th>\n",
              "      <td>0.000029</td>\n",
              "    </tr>\n",
              "    <tr>\n",
              "      <th>150.0</th>\n",
              "      <td>0.000087</td>\n",
              "    </tr>\n",
              "    <tr>\n",
              "      <th>200.0</th>\n",
              "      <td>0.000029</td>\n",
              "    </tr>\n",
              "    <tr>\n",
              "      <th>300.0</th>\n",
              "      <td>0.000058</td>\n",
              "    </tr>\n",
              "    <tr>\n",
              "      <th>400.0</th>\n",
              "      <td>0.000058</td>\n",
              "    </tr>\n",
              "  </tbody>\n",
              "</table>\n",
              "</div>"
            ],
            "text/plain": [
              "              oob\n",
              "n_trees          \n",
              "15.0     0.002138\n",
              "20.0     0.000780\n",
              "30.0     0.000289\n",
              "40.0     0.000173\n",
              "50.0     0.000087\n",
              "100.0    0.000029\n",
              "150.0    0.000087\n",
              "200.0    0.000029\n",
              "300.0    0.000058\n",
              "400.0    0.000058"
            ]
          },
          "metadata": {
            "tags": []
          },
          "execution_count": 94
        }
      ]
    },
    {
      "cell_type": "code",
      "metadata": {
        "colab": {
          "base_uri": "https://localhost:8080/",
          "height": 464
        },
        "id": "NDOuekxJTG6G",
        "outputId": "81a0b6f3-3ce2-490b-b7bf-b25a9c6f0653"
      },
      "source": [
        "sns.set_context('talk')\n",
        "sns.set_style('white')\n",
        "\n",
        "ax = rf_oob_df.plot(legend=False, marker='o', figsize=(14, 7), linewidth=5)\n",
        "ax.set(ylabel='out-of-bag error');"
      ],
      "execution_count": null,
      "outputs": [
        {
          "output_type": "display_data",
          "data": {
            "image/png": "[encoded data removed]",
            "text/plain": [
              "<Figure size 1008x504 with 1 Axes>"
            ]
          },
          "metadata": {
            "tags": []
          }
        }
      ]
    },
    {
      "cell_type": "code",
      "metadata": {
        "id": "H4DMJCECTG9p"
      },
      "source": [
        "model = RF.set_params(n_estimators=50)\n",
        "\n",
        "y_predRF = model.predict(X_test)"
      ],
      "execution_count": null,
      "outputs": []
    },
    {
      "cell_type": "code",
      "metadata": {
        "colab": {
          "base_uri": "https://localhost:8080/"
        },
        "id": "WePr2zxXcY91",
        "outputId": "cf8c6f49-3661-4944-e39c-e84c94b8a584"
      },
      "source": [
        "# Plot non-normalized confusion matrix\n",
        "cr = classification_report(y_test, y_predRF)\n",
        "print(cr)\n",
        "\n",
        "score_df = pd.DataFrame({'accuracy': accuracy_score(y_test, y_predRF),\n",
        "                         'precision': precision_score(y_test, y_predRF),\n",
        "                         'recall': recall_score(y_test, y_predRF),\n",
        "                         'f1': f1_score(y_test, y_predRF),\n",
        "                         'auc': roc_auc_score(y_test, y_predRF)},\n",
        "                         index=pd.Index([0]))\n",
        "\n",
        "print(score_df)"
      ],
      "execution_count": null,
      "outputs": [
        {
          "output_type": "stream",
          "text": [
            "              precision    recall  f1-score   support\n",
            "\n",
            "           0       1.00      1.00      1.00     13632\n",
            "           1       1.00      1.00      1.00      1200\n",
            "\n",
            "    accuracy                           1.00     14832\n",
            "   macro avg       1.00      1.00      1.00     14832\n",
            "weighted avg       1.00      1.00      1.00     14832\n",
            "\n",
            "   accuracy  precision    recall        f1       auc\n",
            "0  0.999663        1.0  0.995833  0.997912  0.997917\n"
          ],
          "name": "stdout"
        }
      ]
    },
    {
      "cell_type": "code",
      "metadata": {
        "colab": {
          "base_uri": "https://localhost:8080/",
          "height": 377
        },
        "id": "3a5RT_9K5-mt",
        "outputId": "a2fd9f66-052a-4b9e-8880-d19a074bc851"
      },
      "source": [
        "sns.set_context('talk')\n",
        "cm = confusion_matrix(y_test, y_predRF)\n",
        "ax = sns.heatmap(cm, annot=True, fmt='d', cmap=\"YlGnBu\")\n",
        "### END SOLUTION\n",
        "\n",
        "labels = ['0', '1']\n",
        "ax.set_xticklabels(labels, fontsize=15);\n",
        "ax.set_yticklabels(labels[::1], fontsize=15);\n",
        "ax.set_ylabel('Ground Truth', fontsize=20);\n",
        "ax.set_xlabel('Prediction', fontsize=20)\n",
        "\n",
        "ax.set_title('\\n Confusion Matrix for Random Forest \\n')\n",
        "### END SOLUTION"
      ],
      "execution_count": null,
      "outputs": [
        {
          "output_type": "execute_result",
          "data": {
            "text/plain": [
              "Text(0.5, 1.0, '\\n Confusion Matrix for Random Forest \\n')"
            ]
          },
          "metadata": {
            "tags": []
          },
          "execution_count": 98
        },
        {
          "output_type": "display_data",
          "data": {
            "image/png": "[encoded data removed]",
            "text/plain": [
              "<Figure size 432x288 with 2 Axes>"
            ]
          },
          "metadata": {
            "tags": []
          }
        }
      ]
    },
    {
      "cell_type": "markdown",
      "metadata": {
        "id": "5Xv2gUDeVXrY"
      },
      "source": [
        "## 3. Gradient Boosting"
      ]
    },
    {
      "cell_type": "code",
      "metadata": {
        "colab": {
          "base_uri": "https://localhost:8080/",
          "height": 364
        },
        "id": "OpjZX7zDTHOe",
        "outputId": "6060bb69-ead9-49e7-bfed-8d282dc17750"
      },
      "source": [
        "### BEGIN SOLUTION\n",
        "from sklearn.ensemble import GradientBoostingClassifier\n",
        "from sklearn.metrics import accuracy_score\n",
        "\n",
        "error_list = list()\n",
        "\n",
        "# Iterate through various possibilities for number of trees\n",
        "tree_list = [15, 20, 30, 50, 100, 200]\n",
        "for n_trees in tree_list:\n",
        "    \n",
        "    # Initialize the gradient boost classifier\n",
        "    GBC = GradientBoostingClassifier(n_estimators=n_trees, random_state=42)\n",
        "\n",
        "    # Fit the model\n",
        "    print(f'Fitting model with {n_trees} trees')\n",
        "    GBC.fit(X_train.values, y_train.values)\n",
        "    y_predG = GBC.predict(X_test)\n",
        "\n",
        "    # Get the error\n",
        "    error = 1.0 - accuracy_score(y_test, y_predG)\n",
        "    \n",
        "    # Store it\n",
        "    error_list.append(pd.Series({'n_trees': n_trees, 'error': error}))\n",
        "\n",
        "error_df = pd.concat(error_list, axis=1).T.set_index('n_trees')\n",
        "\n",
        "error_df"
      ],
      "execution_count": null,
      "outputs": [
        {
          "output_type": "stream",
          "text": [
            "Fitting model with 15 trees\n",
            "Fitting model with 20 trees\n",
            "Fitting model with 30 trees\n",
            "Fitting model with 50 trees\n",
            "Fitting model with 100 trees\n",
            "Fitting model with 200 trees\n"
          ],
          "name": "stdout"
        },
        {
          "output_type": "execute_result",
          "data": {
            "text/html": [
              "<div>\n",
              "<style scoped>\n",
              "    .dataframe tbody tr th:only-of-type {\n",
              "        vertical-align: middle;\n",
              "    }\n",
              "\n",
              "    .dataframe tbody tr th {\n",
              "        vertical-align: top;\n",
              "    }\n",
              "\n",
              "    .dataframe thead th {\n",
              "        text-align: right;\n",
              "    }\n",
              "</style>\n",
              "<table border=\"1\" class=\"dataframe\">\n",
              "  <thead>\n",
              "    <tr style=\"text-align: right;\">\n",
              "      <th></th>\n",
              "      <th>error</th>\n",
              "    </tr>\n",
              "    <tr>\n",
              "      <th>n_trees</th>\n",
              "      <th></th>\n",
              "    </tr>\n",
              "  </thead>\n",
              "  <tbody>\n",
              "    <tr>\n",
              "      <th>15.0</th>\n",
              "      <td>0.000067</td>\n",
              "    </tr>\n",
              "    <tr>\n",
              "      <th>20.0</th>\n",
              "      <td>0.000067</td>\n",
              "    </tr>\n",
              "    <tr>\n",
              "      <th>30.0</th>\n",
              "      <td>0.000067</td>\n",
              "    </tr>\n",
              "    <tr>\n",
              "      <th>50.0</th>\n",
              "      <td>0.000067</td>\n",
              "    </tr>\n",
              "    <tr>\n",
              "      <th>100.0</th>\n",
              "      <td>0.000067</td>\n",
              "    </tr>\n",
              "    <tr>\n",
              "      <th>200.0</th>\n",
              "      <td>0.000067</td>\n",
              "    </tr>\n",
              "  </tbody>\n",
              "</table>\n",
              "</div>"
            ],
            "text/plain": [
              "            error\n",
              "n_trees          \n",
              "15.0     0.000067\n",
              "20.0     0.000067\n",
              "30.0     0.000067\n",
              "50.0     0.000067\n",
              "100.0    0.000067\n",
              "200.0    0.000067"
            ]
          },
          "metadata": {
            "tags": []
          },
          "execution_count": 99
        }
      ]
    },
    {
      "cell_type": "code",
      "metadata": {
        "id": "EbLkYcmaTHV-"
      },
      "source": [
        "### BEGIN SOLUTION\n",
        "from sklearn.model_selection import GridSearchCV\n",
        "\n",
        "tree_list = [15, 20]\n",
        "# The parameters to be fit\n",
        "param_grid = {'n_estimators': tree_list,\n",
        "              'learning_rate': [0.1, 0.01, 0.001, 0.0001],\n",
        "              'subsample': [1.0, 0.5],\n",
        "              'max_features': [1, 2, 3, 4]}\n",
        "\n",
        "# The grid search object\n",
        "GV_GBC = GridSearchCV(GradientBoostingClassifier(random_state=42), \n",
        "                      param_grid=param_grid, \n",
        "                      scoring='accuracy',\n",
        "                      n_jobs=-1)\n",
        "\n",
        "# Do the grid search\n",
        "GV_GBC = GV_GBC.fit(X_train, y_train)"
      ],
      "execution_count": null,
      "outputs": []
    },
    {
      "cell_type": "code",
      "metadata": {
        "id": "Uc50LdXWTHZH",
        "colab": {
          "base_uri": "https://localhost:8080/"
        },
        "outputId": "61b26b98-8e20-45ca-d453-34dc2d3992c1"
      },
      "source": [
        "# The best model\n",
        "GV_GBC.best_estimator_"
      ],
      "execution_count": null,
      "outputs": [
        {
          "output_type": "execute_result",
          "data": {
            "text/plain": [
              "GradientBoostingClassifier(ccp_alpha=0.0, criterion='friedman_mse', init=None,\n",
              "                           learning_rate=0.1, loss='deviance', max_depth=3,\n",
              "                           max_features=4, max_leaf_nodes=None,\n",
              "                           min_impurity_decrease=0.0, min_impurity_split=None,\n",
              "                           min_samples_leaf=1, min_samples_split=2,\n",
              "                           min_weight_fraction_leaf=0.0, n_estimators=20,\n",
              "                           n_iter_no_change=None, presort='deprecated',\n",
              "                           random_state=42, subsample=0.5, tol=0.0001,\n",
              "                           validation_fraction=0.1, verbose=0,\n",
              "                           warm_start=False)"
            ]
          },
          "metadata": {
            "tags": []
          },
          "execution_count": 102
        }
      ]
    },
    {
      "cell_type": "code",
      "metadata": {
        "id": "f9av8FPIV3tW",
        "colab": {
          "base_uri": "https://localhost:8080/"
        },
        "outputId": "ab307549-94db-4924-d1ca-47eeb962887c"
      },
      "source": [
        "# Plot non-normalized confusion matrix\n",
        "\n",
        "\n",
        "from sklearn.metrics import classification_report, accuracy_score, precision_score, recall_score\n",
        "from sklearn.metrics import f1_score, roc_auc_score\n",
        "\n",
        "cr = classification_report(y_test, y_predG)\n",
        "print(cr)\n",
        "\n",
        "score_df1 = pd.DataFrame({'accuracy': accuracy_score(y_test, y_predG),\n",
        "                         'precision': precision_score(y_test, y_predG),\n",
        "                         'recall': recall_score(y_test, y_predG),\n",
        "                         'f1': f1_score(y_test, y_predG),\n",
        "                         'auc': roc_auc_score(y_test, y_predG)},\n",
        "                         index=pd.Index([0]))\n",
        "\n",
        "print(score_df1)"
      ],
      "execution_count": null,
      "outputs": [
        {
          "output_type": "stream",
          "text": [
            "              precision    recall  f1-score   support\n",
            "\n",
            "           0       1.00      1.00      1.00     13632\n",
            "           1       1.00      1.00      1.00      1200\n",
            "\n",
            "    accuracy                           1.00     14832\n",
            "   macro avg       1.00      1.00      1.00     14832\n",
            "weighted avg       1.00      1.00      1.00     14832\n",
            "\n",
            "   accuracy  precision    recall        f1       auc\n",
            "0  0.999933        1.0  0.999167  0.999583  0.999583\n"
          ],
          "name": "stdout"
        }
      ]
    },
    {
      "cell_type": "code",
      "metadata": {
        "colab": {
          "base_uri": "https://localhost:8080/",
          "height": 377
        },
        "id": "sflpAz1o6ECO",
        "outputId": "ecf71ce1-a3aa-4a30-ec5d-70fac67b8899"
      },
      "source": [
        "sns.set_context('talk')\n",
        "cm = confusion_matrix(y_test, y_predG)\n",
        "ax = sns.heatmap(cm, annot=True, fmt='d', cmap=\"YlGnBu\")\n",
        "### END SOLUTION\n",
        "labels = ['0', '1']\n",
        "ax.set_xticklabels(labels, fontsize=15);\n",
        "ax.set_yticklabels(labels[::1], fontsize=15);\n",
        "ax.set_ylabel('Ground Truth', fontsize=20);\n",
        "ax.set_xlabel('Prediction', fontsize=20)\n",
        "\n",
        "ax.set_title('\\n Confusion Matrix for Gradient Boosting \\n')\n",
        "### END SOLUTION"
      ],
      "execution_count": null,
      "outputs": [
        {
          "output_type": "execute_result",
          "data": {
            "text/plain": [
              "Text(0.5, 1.0, '\\n Confusion Matrix for Gradient Boosting \\n')"
            ]
          },
          "metadata": {
            "tags": []
          },
          "execution_count": 104
        },
        {
          "output_type": "display_data",
          "data": {
            "image/png": "[encoded data removed]",
            "text/plain": [
              "<Figure size 432x288 with 2 Axes>"
            ]
          },
          "metadata": {
            "tags": []
          }
        }
      ]
    },
    {
      "cell_type": "code",
      "metadata": {
        "colab": {
          "base_uri": "https://localhost:8080/",
          "height": 553
        },
        "id": "clmiM4j-ewLZ",
        "outputId": "ec014041-1cfb-42b4-8d96-eb5d502ea10d"
      },
      "source": [
        "\n",
        "from sklearn.metrics import roc_curve, precision_recall_curve, confusion_matrix\n",
        "sns.set_context('talk')\n",
        "\n",
        "fig, axList = plt.subplots(ncols=2)\n",
        "fig.set_size_inches(16, 8)\n",
        "\n",
        "# Get the probabilities for each of the two categories\n",
        "y_prob = GV_GBC.predict_proba(X_test)\n",
        "\n",
        "# Plot the ROC-AUC curve\n",
        "ax = axList[0]\n",
        "\n",
        "fpr, tpr, thresholds = roc_curve(y_test, y_prob[:,1])\n",
        "ax.plot(fpr, tpr, color='blue', linewidth=5)\n",
        "# It is customary to draw a diagonal dotted line in ROC plots.\n",
        "# This is to indicate completely random prediction. Deviation from this\n",
        "# dotted line towards the upper left corner signifies the power of the model.\n",
        "ax.plot([0, 1], [0, 1], ls='--', color='black', lw=.3)\n",
        "ax.set(xlabel='False Positive Rate',\n",
        "       ylabel='True Positive Rate',\n",
        "       xlim=[-.01, 1.01], ylim=[-.01, 1.01],\n",
        "       title='ROC curve')\n",
        "ax.grid(True)\n",
        "\n",
        "# Plot the precision-recall curve\n",
        "ax = axList[1]\n",
        "\n",
        "precision, recall, _ = precision_recall_curve(y_test, y_prob[:,1])\n",
        "ax.plot(recall, precision, color='green', linewidth=5)\n",
        "ax.set(xlabel='Recall', ylabel='Precision',\n",
        "       xlim=[-.01, 1.01], ylim=[-.01, 1.01],\n",
        "       title='Precision-Recall curve')\n",
        "ax.grid(True)\n",
        "\n",
        "plt.tight_layout()"
      ],
      "execution_count": null,
      "outputs": [
        {
          "output_type": "display_data",
          "data": {
            "image/png": "[encoded data removed]",
            "text/plain": [
              "<Figure size 1152x576 with 2 Axes>"
            ]
          },
          "metadata": {
            "tags": []
          }
        }
      ]
    },
    {
      "cell_type": "markdown",
      "metadata": {
        "id": "R_5kpH73259I"
      },
      "source": [
        "## 4. Logistic Regresion"
      ]
    },
    {
      "cell_type": "code",
      "metadata": {
        "id": "0QXtmjEl3PAC"
      },
      "source": [
        "### BEGIN SOLUTION\n",
        "from sklearn.linear_model import LogisticRegression\n",
        "\n",
        "# L2 regularized logistic regression\n",
        "LR_L2 = LogisticRegression(penalty='l2', max_iter=500, solver='saga').fit(X_train, y_train)"
      ],
      "execution_count": null,
      "outputs": []
    },
    {
      "cell_type": "code",
      "metadata": {
        "colab": {
          "base_uri": "https://localhost:8080/"
        },
        "id": "bdezb4w-3djs",
        "outputId": "25f4dd95-42cc-4b1a-9832-be52e10180a2"
      },
      "source": [
        "y_predLR = LR_L2.predict(X_test)\n",
        "print(classification_report(y_predLR, y_test))\n",
        "\n",
        "score_df = pd.DataFrame({'accuracy': accuracy_score(y_test, y_predLR),\n",
        "                         'precision': precision_score(y_test, y_predLR),\n",
        "                         'recall': recall_score(y_test, y_predLR),\n",
        "                         'f1': f1_score(y_test, y_predLR),\n",
        "                         'auc': roc_auc_score(y_test, y_predLR)},\n",
        "                         index=pd.Index([0]))\n",
        "\n",
        "print(score_df)"
      ],
      "execution_count": null,
      "outputs": [
        {
          "output_type": "stream",
          "text": [
            "              precision    recall  f1-score   support\n",
            "\n",
            "           0       1.00      0.92      0.96     14832\n",
            "           1       0.00      0.00      0.00         0\n",
            "\n",
            "    accuracy                           0.92     14832\n",
            "   macro avg       0.50      0.46      0.48     14832\n",
            "weighted avg       1.00      0.92      0.96     14832\n",
            "\n",
            "   accuracy  precision  recall   f1  auc\n",
            "0  0.919094        0.0     0.0  0.0  0.5\n"
          ],
          "name": "stdout"
        }
      ]
    },
    {
      "cell_type": "code",
      "metadata": {
        "colab": {
          "base_uri": "https://localhost:8080/",
          "height": 377
        },
        "id": "hm0gqt_Q9lj2",
        "outputId": "d6f4bd01-a154-4aa1-92e7-8e69dd3adff2"
      },
      "source": [
        "sns.set_context('talk')\n",
        "cm = confusion_matrix(y_test, y_predLR)\n",
        "ax = sns.heatmap(cm, annot=True, fmt='d', cmap=\"YlGnBu\")\n",
        "### END SOLUTION\n",
        "\n",
        "labels = ['0', '1']\n",
        "ax.set_xticklabels(labels, fontsize=15);\n",
        "ax.set_yticklabels(labels[::1], fontsize=15);\n",
        "ax.set_ylabel('Ground Truth', fontsize=20);\n",
        "ax.set_xlabel('Prediction', fontsize=20)\n",
        "\n",
        "ax.set_title(' \\n Confusion Matrix for Logistic Regression \\n')\n",
        "### END SOLUTION"
      ],
      "execution_count": null,
      "outputs": [
        {
          "output_type": "execute_result",
          "data": {
            "text/plain": [
              "Text(0.5, 1.0, ' \\n Confusion Matrix for Logistic Regression \\n')"
            ]
          },
          "metadata": {
            "tags": []
          },
          "execution_count": 109
        },
        {
          "output_type": "display_data",
          "data": {
            "image/png": "[encoded data removed]",
            "text/plain": [
              "<Figure size 432x288 with 2 Axes>"
            ]
          },
          "metadata": {
            "tags": []
          }
        }
      ]
    },
    {
      "cell_type": "markdown",
      "metadata": {
        "id": "YGiPnouD934Q"
      },
      "source": [
        "## 5. Stacking Random Forest & Gradient Boosting (using Voting Classifier)"
      ]
    },
    {
      "cell_type": "code",
      "metadata": {
        "id": "dK02204j25vh"
      },
      "source": [
        "from sklearn.ensemble import VotingClassifier\n",
        "\n",
        "# The combined model--logistic regression and gradient boosted trees\n",
        "estimators = [('RF', RF_), ('GBC', GV_GBC)]\n",
        "\n",
        "# Though it wasn't done here, it is often desirable to train \n",
        "# this model using an additional hold-out data set and/or with cross validation\n",
        "VC = VotingClassifier(estimators, voting='soft')\n",
        "VC = VC.fit(X_train, y_train)\n"
      ],
      "execution_count": null,
      "outputs": []
    },
    {
      "cell_type": "code",
      "metadata": {
        "colab": {
          "base_uri": "https://localhost:8080/"
        },
        "id": "7ah0vqVB3sxU",
        "outputId": "6c598a20-fcbf-41bf-8a39-e71c668a65b4"
      },
      "source": [
        "y_predSt = VC.predict(X_test)\n",
        "print(classification_report(y_test, y_predSt))\n",
        "\n",
        "score_df1 = pd.DataFrame({'accuracy': accuracy_score(y_test, y_predSt),\n",
        "                         'precision': precision_score(y_test, y_predSt),\n",
        "                         'recall': recall_score(y_test, y_predSt),\n",
        "                         'f1': f1_score(y_test, y_predSt),\n",
        "                         'auc': roc_auc_score(y_test, y_predSt)},\n",
        "                         index=pd.Index([0]))\n",
        "\n",
        "print(score_df1)"
      ],
      "execution_count": null,
      "outputs": [
        {
          "output_type": "stream",
          "text": [
            "              precision    recall  f1-score   support\n",
            "\n",
            "           0       1.00      1.00      1.00     13632\n",
            "           1       1.00      0.99      0.99      1200\n",
            "\n",
            "    accuracy                           1.00     14832\n",
            "   macro avg       1.00      0.99      1.00     14832\n",
            "weighted avg       1.00      1.00      1.00     14832\n",
            "\n",
            "   accuracy  precision    recall        f1       auc\n",
            "0  0.999056        1.0  0.988333  0.994132  0.994167\n"
          ],
          "name": "stdout"
        }
      ]
    },
    {
      "cell_type": "code",
      "metadata": {
        "colab": {
          "base_uri": "https://localhost:8080/",
          "height": 377
        },
        "id": "XwrvKmdv3t3z",
        "outputId": "05db49da-c131-4d8f-ca5f-5ff668d3a8ab"
      },
      "source": [
        "sns.set_context('talk')\n",
        "cm = confusion_matrix(y_test, y_predSt)\n",
        "ax = sns.heatmap(cm, annot=True, fmt='d', cmap=\"YlGnBu\")\n",
        "### END SOLUTION\n",
        "\n",
        "labels = ['0', '1']\n",
        "ax.set_xticklabels(labels, fontsize=15);\n",
        "ax.set_yticklabels(labels[::1], fontsize=15);\n",
        "ax.set_ylabel('Ground Truth', fontsize=20);\n",
        "ax.set_xlabel('Prediction', fontsize=20)\n",
        "\n",
        "ax.set_title(' \\n Confusion Matrix for Stacking Random Forest & Gradient Boosting \\n ')"
      ],
      "execution_count": null,
      "outputs": [
        {
          "output_type": "execute_result",
          "data": {
            "text/plain": [
              "Text(0.5, 1.0, ' \\n Confusion Matrix for Stacking Random Forest & Gradient Boosting \\n')"
            ]
          },
          "metadata": {
            "tags": []
          },
          "execution_count": 113
        },
        {
          "output_type": "display_data",
          "data": {
            "image/png": "[encoded data removed]",
            "text/plain": [
              "<Figure size 432x288 with 2 Axes>"
            ]
          },
          "metadata": {
            "tags": []
          }
        }
      ]
    },
    {
      "cell_type": "markdown",
      "metadata": {
        "id": "99zGQoU28M-j"
      },
      "source": [
        "## Addition : Check the correlation of each variable\n",
        "\n",
        "\n"
      ]
    },
    {
      "cell_type": "code",
      "metadata": {
        "colab": {
          "base_uri": "https://localhost:8080/",
          "height": 788
        },
        "id": "KvT2Q2gU8SAu",
        "outputId": "78b26665-f33a-48a5-ff0a-5faed44ccf77"
      },
      "source": [
        "corrmat = data.corr(method='spearman')\n",
        "f, ax = plt.subplots(figsize=(12, 10))\n",
        "\n",
        "matrix = np.triu(corrmat)\n",
        "sns.heatmap(corrmat, ax=ax, cmap=\"YlGnBu\", linewidths=0.1, mask=matrix, annot = False)"
      ],
      "execution_count": null,
      "outputs": [
        {
          "output_type": "execute_result",
          "data": {
            "text/plain": [
              "<matplotlib.axes._subplots.AxesSubplot at 0x7fd050bee630>"
            ]
          },
          "metadata": {
            "tags": []
          },
          "execution_count": 115
        },
        {
          "output_type": "display_data",
          "data": {
            "image/png": "[encoded data removed]",
            "text/plain": [
              "<Figure size 864x720 with 2 Axes>"
            ]
          },
          "metadata": {
            "tags": []
          }
        }
      ]
    },
    {
      "cell_type": "code",
      "metadata": {
        "colab": {
          "base_uri": "https://localhost:8080/"
        },
        "id": "AG4XNWNHwWxO",
        "outputId": "9c8736ee-4a5a-41fb-d687-9415fcc0057a"
      },
      "source": [
        "y = data4['target']\n",
        "fields = list(data4.columns[:-1])  # everything except \"color\"\n",
        "correlations = data4[fields].corrwith(y)\n",
        "correlations.sort_values(inplace=True)\n",
        "correlations\n"
      ],
      "execution_count": null,
      "outputs": [
        {
          "output_type": "execute_result",
          "data": {
            "text/plain": [
              "status                 -0.875445\n",
              "founded_year           -0.134102\n",
              "seed                   -0.013787\n",
              "grant                  -0.006466\n",
              "equity_crowdfunding    -0.005853\n",
              "product_crowdfunding   -0.004435\n",
              "secondary_market       -0.002787\n",
              "round_G                -0.001910\n",
              "round_H                -0.001554\n",
              "angel                  -0.001353\n",
              "convertible_note       -0.001075\n",
              "debt_financing          0.000162\n",
              "round_F                 0.000280\n",
              "market                  0.004286\n",
              "undisclosed             0.004894\n",
              "private_equity          0.006603\n",
              "post_ipo_debt           0.007197\n",
              "round_E                 0.009743\n",
              "region                  0.011954\n",
              "round_D                 0.025184\n",
              "funding_total_usd       0.028143\n",
              "round_A                 0.046159\n",
              "round_C                 0.052987\n",
              "country_code            0.053599\n",
              "venture                 0.064762\n",
              "round_B                 0.072362\n",
              "post_ipo_equity         0.076610\n",
              "funding_rounds          0.084266\n",
              "dtype: float64"
            ]
          },
          "metadata": {
            "tags": []
          },
          "execution_count": 116
        }
      ]
    },
    {
      "cell_type": "code",
      "metadata": {
        "colab": {
          "base_uri": "https://localhost:8080/"
        },
        "id": "BZ_ZWrU31xb3",
        "outputId": "e9ee0e13-ab3e-4f8c-ba48-5b425d0a3575"
      },
      "source": [
        "correlations.map(abs).sort_values(ascending=False)"
      ],
      "execution_count": null,
      "outputs": [
        {
          "output_type": "execute_result",
          "data": {
            "text/plain": [
              "status                  0.875445\n",
              "founded_year            0.134102\n",
              "funding_rounds          0.084266\n",
              "post_ipo_equity         0.076610\n",
              "round_B                 0.072362\n",
              "venture                 0.064762\n",
              "country_code            0.053599\n",
              "round_C                 0.052987\n",
              "round_A                 0.046159\n",
              "funding_total_usd       0.028143\n",
              "round_D                 0.025184\n",
              "seed                    0.013787\n",
              "region                  0.011954\n",
              "round_E                 0.009743\n",
              "post_ipo_debt           0.007197\n",
              "private_equity          0.006603\n",
              "grant                   0.006466\n",
              "equity_crowdfunding     0.005853\n",
              "undisclosed             0.004894\n",
              "product_crowdfunding    0.004435\n",
              "market                  0.004286\n",
              "secondary_market        0.002787\n",
              "round_G                 0.001910\n",
              "round_H                 0.001554\n",
              "angel                   0.001353\n",
              "convertible_note        0.001075\n",
              "round_F                 0.000280\n",
              "debt_financing          0.000162\n",
              "dtype: float64"
            ]
          },
          "metadata": {
            "tags": []
          },
          "execution_count": 117
        }
      ]
    },
    {
      "cell_type": "code",
      "metadata": {
        "colab": {
          "base_uri": "https://localhost:8080/",
          "height": 554
        },
        "id": "hF3l6vKq1ttV",
        "outputId": "43e137f7-5733-437a-9f2b-a47ad7cb47b0"
      },
      "source": [
        "\n",
        "all = list(data4.columns[::])\n",
        "feature_imp = pd.Series(GV_GBC.best_estimator_.feature_importances_, index=all).sort_values(ascending=False)\n",
        "ax = feature_imp.plot(kind='bar', figsize=(16, 6))\n",
        "ax.set(ylabel='Relative Importance');\n",
        "ax.set(ylabel='Feature');"
      ],
      "execution_count": null,
      "outputs": [
        {
          "output_type": "display_data",
          "data": {
            "image/png": "[encoded data removed]",
            "text/plain": [
              "<Figure size 1152x432 with 1 Axes>"
            ]
          },
          "metadata": {
            "tags": []
          }
        }
      ]
    },
    {
      "cell_type": "code",
      "metadata": {
        "colab": {
          "base_uri": "https://localhost:8080/",
          "height": 375
        },
        "id": "_lJlOZca65i5",
        "outputId": "cca75fbb-08a0-4126-ccf0-1bcdf2610c32"
      },
      "source": [
        "ax = correlations.plot(kind='bar', color='blue', fontsize=10)\n",
        "ax.set(ylim=[-1, 1], ylabel='pearson correlation');"
      ],
      "execution_count": null,
      "outputs": [
        {
          "output_type": "display_data",
          "data": {
            "image/png": "[encoded data removed]",
            "text/plain": [
              "<Figure size 432x288 with 1 Axes>"
            ]
          },
          "metadata": {
            "tags": []
          }
        }
      ]
    },
    {
      "cell_type": "code",
      "metadata": {
        "colab": {
          "base_uri": "https://localhost:8080/"
        },
        "id": "Ydd24I3jyLa3",
        "outputId": "265b7535-95fe-4632-9762-960683385efc"
      },
      "source": [
        "fields = correlations.map(abs).sort_values().iloc[-2:].index\n",
        "print(fields)\n",
        "X = data4[fields]\n",
        "X = pd.DataFrame(X, columns=['%s_scaled' % fld for fld in fields])\n",
        "print(X.columns)"
      ],
      "execution_count": null,
      "outputs": [
        {
          "output_type": "stream",
          "text": [
            "Index(['founded_year', 'status'], dtype='object')\n",
            "Index(['founded_year_scaled', 'status_scaled'], dtype='object')\n"
          ],
          "name": "stdout"
        }
      ]
    }
  ]
}